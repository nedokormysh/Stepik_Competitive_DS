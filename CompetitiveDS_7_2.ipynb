{
  "cells": [
    {
      "cell_type": "markdown",
      "metadata": {
        "id": "view-in-github",
        "colab_type": "text"
      },
      "source": [
        "<a href=\"https://colab.research.google.com/github/nedokormysh/Stepik_Competitive_DS/blob/week_7/CompetitiveDS_7_2.ipynb\" target=\"_parent\"><img src=\"https://colab.research.google.com/assets/colab-badge.svg\" alt=\"Open In Colab\"/></a>"
      ]
    },
    {
      "cell_type": "code",
      "execution_count": null,
      "metadata": {
        "id": "NmZqHxC0-K57"
      },
      "outputs": [],
      "source": [
        "import pandas as pd"
      ]
    },
    {
      "cell_type": "code",
      "execution_count": null,
      "metadata": {
        "id": "6_acsQAg4-Kq"
      },
      "outputs": [],
      "source": [
        "!pip install cssselect -q"
      ]
    },
    {
      "cell_type": "code",
      "execution_count": null,
      "metadata": {
        "id": "wZ4HFPGB68JM"
      },
      "outputs": [],
      "source": [
        "from lxml import etree, html as lhtml"
      ]
    },
    {
      "cell_type": "code",
      "execution_count": null,
      "metadata": {
        "id": "a4tEHA8S7A06"
      },
      "outputs": [],
      "source": [
        "tree = lhtml.fromstring(open('/content/689066_2.html', 'r', encoding='utf-8').read())"
      ]
    },
    {
      "cell_type": "code",
      "execution_count": null,
      "metadata": {
        "colab": {
          "base_uri": "https://localhost:8080/"
        },
        "id": "PhJhQeSl0OOq",
        "outputId": "9a4465a9-b87a-4889-e6c3-36d75a0a8889"
      },
      "outputs": [
        {
          "data": {
            "text/plain": [
              "{'title': 'Стражи Галактики',\n",
              " 'title-original': 'Guardians of the Galaxy',\n",
              " 'rating': 7.763,\n",
              " 'desription': 'Отважному путешественнику Питеру Квиллу попадает в руки таинственный артефакт, принадлежащий могущественному и безжалостному злодею Ронану, строящему коварные планы по захвату Вселенной. Питер оказывается в центре межгалактической охоты, где жертва — он сам.\\nЕдинственный способ спасти свою жизнь — объединиться с четверкой нелюдимых изгоев: воинственным енотом по кличке Ракета, человекоподобным деревом Грутом, смертельно опасной Гаморой и одержимым жаждой мести Драксом, также известным как Разрушитель. Когда Квилл понимает, какой силой обладает украденный артефакт и какую опасность он представляет для вселенной, одиночка пойдет на все, чтобы сплотить случайных союзников для решающей битвы за судьбу галактики.'}"
            ]
          },
          "execution_count": 133,
          "metadata": {},
          "output_type": "execute_result"
        }
      ],
      "source": [
        "film_info = {\n",
        "    'title': tree.xpath('//h1[@itemprop=\"name\"]/span/text()')[0],\n",
        "    'title-original': tree.xpath('//span[starts-with(@class, \"styles_originalTitle__\")]')[0].text,\n",
        "    'rating': float(tree.cssselect('a.film-rating-value')[0].text),   # поддержка CSS-селекторов\n",
        "    'desription': '\\n'.join(tree.xpath('//div[starts-with(@class, \"styles_synopsisSection\")]//text()'))\n",
        "}\n",
        "\n",
        "film_info"
      ]
    },
    {
      "cell_type": "code",
      "execution_count": null,
      "metadata": {
        "id": "yaxfMtSlQoi5"
      },
      "outputs": [],
      "source": [
        "from bs4 import BeautifulSoup\n",
        "import pandas as pd\n",
        "from tqdm import tqdm"
      ]
    },
    {
      "cell_type": "code",
      "execution_count": null,
      "metadata": {
        "id": "pU2yAAElQrVs"
      },
      "outputs": [],
      "source": [
        "soup = BeautifulSoup(open('/content/689066_2.html', 'rb').read(), 'lxml')"
      ]
    },
    {
      "cell_type": "code",
      "execution_count": null,
      "metadata": {
        "id": "Xc-AdbMoRA91"
      },
      "outputs": [],
      "source": [
        "from operator import attrgetter, itemgetter"
      ]
    },
    {
      "cell_type": "code",
      "execution_count": null,
      "metadata": {
        "colab": {
          "base_uri": "https://localhost:8080/"
        },
        "id": "_H-PBLGuQ9lk",
        "outputId": "3a87838d-91b0-4e4b-d971-28863303e4a4"
      },
      "outputs": [
        {
          "data": {
            "text/plain": [
              "{'title': 'Стражи Галактики',\n",
              " 'title-original': 'Guardians of the Galaxy',\n",
              " 'rating': 7.763,\n",
              " 'description': 'Отважному путешественнику Питеру Квиллу попадает в руки таинственный артефакт, принадлежащий могущественному и безжалостному злодею Ронану, строящему коварные планы по захвату Вселенной. Питер оказывается в центре межгалактической охоты, где жертва — он сам.\\nЕдинственный способ спасти свою жизнь — объединиться с четверкой нелюдимых изгоев: воинственным енотом по кличке Ракета, человекоподобным деревом Грутом, смертельно опасной Гаморой и одержимым жаждой мести Драксом, также известным как Разрушитель. Когда Квилл понимает, какой силой обладает украденный артефакт и какую опасность он представляет для вселенной, одиночка пойдет на все, чтобы сплотить случайных союзников для решающей битвы за судьбу галактики.'}"
            ]
          },
          "execution_count": 149,
          "metadata": {},
          "output_type": "execute_result"
        }
      ],
      "source": [
        "# desc = soup.find('div', itemprop='description')\n",
        "desc = soup.find('div', class_=lambda s: s and s.startswith(\"styles_synopsisSection\")).find_all('p')\n",
        "\n",
        "film_info = {\n",
        "    'title': soup.find('h1', itemprop='name').find('span').text,\n",
        "    'title-original': soup.find('span', class_=lambda s: s and s.startswith('styles_originalTitle__')).text,\n",
        "    'rating': float(soup.find('a', class_ = 'film-rating-value').text),\n",
        "    # 'rating': float(soup.find('a', {'class': 'film-rating-value'}).text),\n",
        "    'description': '\\n'.join(map(attrgetter('text'), desc))\n",
        "}\n",
        "film_info"
      ]
    },
    {
      "cell_type": "markdown",
      "metadata": {
        "id": "-A1nnSX4QlT_"
      },
      "source": [
        "# 7_2_3"
      ]
    },
    {
      "cell_type": "code",
      "execution_count": null,
      "metadata": {
        "id": "a4Fl4tQk0Um5"
      },
      "outputs": [],
      "source": [
        "tree_0 = lhtml.fromstring(open('/content/Средняя зарплата по городам России 2023 _ BDEX.html', 'r', encoding='utf-8').read())"
      ]
    },
    {
      "cell_type": "code",
      "execution_count": null,
      "metadata": {
        "id": "gv8ymtup06m2"
      },
      "outputs": [],
      "source": [
        "city_info = {\n",
        "    'city': tree_0.xpath('//div[@class=\"reg_name\"]/a//text()'),\n",
        "    # 'district': tree_0.xpath('//div[@class=\"reg_fo\"]/a//text()')\n",
        "    'mean_salary': tree_0.xpath('//span[@class=\"reg_salary\"]//text()')\n",
        "}\n",
        "\n",
        "city_info"
      ]
    },
    {
      "cell_type": "code",
      "execution_count": null,
      "metadata": {
        "colab": {
          "base_uri": "https://localhost:8080/"
        },
        "id": "rNeC2597AbCM",
        "outputId": "14686f78-9c4b-40f2-8a9e-0fca910e0a69"
      },
      "outputs": [
        {
          "data": {
            "text/plain": [
              "100"
            ]
          },
          "execution_count": 49,
          "metadata": {},
          "output_type": "execute_result"
        }
      ],
      "source": [
        "len(tree_0.xpath('//div[@class=\"reg_name\"]/a//text()'))"
      ]
    },
    {
      "cell_type": "code",
      "execution_count": null,
      "metadata": {
        "colab": {
          "base_uri": "https://localhost:8080/"
        },
        "id": "_wmap_gSAA-Q",
        "outputId": "63b27bbc-7279-44e3-e1fd-17c8e2b93a87"
      },
      "outputs": [
        {
          "data": {
            "text/plain": [
              "97"
            ]
          },
          "execution_count": 48,
          "metadata": {},
          "output_type": "execute_result"
        }
      ],
      "source": [
        "len(tree_0.xpath('//div[@class=\"reg_fo\"]/a//text()'))"
      ]
    },
    {
      "cell_type": "code",
      "execution_count": null,
      "metadata": {
        "id": "iLdW9aLRGZFx"
      },
      "outputs": [],
      "source": [
        "city = tree_0.xpath('//div[@class=\"reg_name\"]/a//text()')"
      ]
    },
    {
      "cell_type": "code",
      "execution_count": null,
      "metadata": {
        "colab": {
          "base_uri": "https://localhost:8080/"
        },
        "id": "ZqgsqOERGdot",
        "outputId": "418d46bf-ad4f-4559-eccf-bdafcf83a30a"
      },
      "outputs": [
        {
          "data": {
            "text/plain": [
              "68"
            ]
          },
          "execution_count": 102,
          "metadata": {},
          "output_type": "execute_result"
        }
      ],
      "source": [
        "city.index('Севастополь')"
      ]
    },
    {
      "cell_type": "code",
      "execution_count": null,
      "metadata": {
        "id": "i4JABOOIJFjz"
      },
      "outputs": [],
      "source": [
        "mean_salary = tree_0.xpath('//span[@class=\"reg_salary\"]//text()')"
      ]
    },
    {
      "cell_type": "code",
      "execution_count": null,
      "metadata": {
        "colab": {
          "base_uri": "https://localhost:8080/",
          "height": 36
        },
        "id": "5LFBkX9gJN4E",
        "outputId": "a5060f4b-af00-436c-9b76-3865cf668ae0"
      },
      "outputs": [
        {
          "data": {
            "application/vnd.google.colaboratory.intrinsic+json": {
              "type": "string"
            },
            "text/plain": [
              "'129\\xa0200\\xa0₽'"
            ]
          },
          "execution_count": 118,
          "metadata": {},
          "output_type": "execute_result"
        }
      ],
      "source": [
        "mean_salary[0]"
      ]
    },
    {
      "cell_type": "code",
      "execution_count": null,
      "metadata": {
        "id": "6-ikdrXCJCOC"
      },
      "outputs": [],
      "source": [
        "def split_only_number(s):\n",
        "    s = ''.join([char for char in s if char.isdigit()])\n",
        "    return s"
      ]
    },
    {
      "cell_type": "code",
      "execution_count": null,
      "metadata": {
        "colab": {
          "base_uri": "https://localhost:8080/",
          "height": 36
        },
        "id": "dtFRbh50JpDJ",
        "outputId": "530c272a-c480-4e7e-ead1-b7fe34bf04fe"
      },
      "outputs": [
        {
          "data": {
            "application/vnd.google.colaboratory.intrinsic+json": {
              "type": "string"
            },
            "text/plain": [
              "'129200'"
            ]
          },
          "execution_count": 126,
          "metadata": {},
          "output_type": "execute_result"
        }
      ],
      "source": [
        "split_only_number(mean_salary[0])"
      ]
    },
    {
      "cell_type": "code",
      "execution_count": null,
      "metadata": {
        "id": "GdMuwG4tCwRE"
      },
      "outputs": [],
      "source": [
        "import numpy as np"
      ]
    },
    {
      "cell_type": "code",
      "execution_count": null,
      "metadata": {
        "colab": {
          "base_uri": "https://localhost:8080/"
        },
        "id": "rwgpQGvPBSrs",
        "outputId": "1c908aa6-fb83-4b64-d20d-9022c67271e3"
      },
      "outputs": [
        {
          "data": {
            "text/plain": [
              "100"
            ]
          },
          "execution_count": 105,
          "metadata": {},
          "output_type": "execute_result"
        }
      ],
      "source": [
        "district = tree_0.xpath('//div[@class=\"reg_fo\"]/a//text()')\n",
        "district.insert(1, np.nan)\n",
        "district.insert(9, np.nan)\n",
        "district.insert(68, np.nan)\n",
        "len(district)"
      ]
    },
    {
      "cell_type": "code",
      "execution_count": null,
      "metadata": {
        "colab": {
          "base_uri": "https://localhost:8080/",
          "height": 423
        },
        "id": "nLSHXXIH14DL",
        "outputId": "06c559d0-9a9f-4130-c4e9-43c6307aba78"
      },
      "outputs": [
        {
          "data": {
            "text/html": [
              "\n",
              "  <div id=\"df-022934ff-57eb-46ef-b558-18889e16eb94\">\n",
              "    <div class=\"colab-df-container\">\n",
              "      <div>\n",
              "<style scoped>\n",
              "    .dataframe tbody tr th:only-of-type {\n",
              "        vertical-align: middle;\n",
              "    }\n",
              "\n",
              "    .dataframe tbody tr th {\n",
              "        vertical-align: top;\n",
              "    }\n",
              "\n",
              "    .dataframe thead th {\n",
              "        text-align: right;\n",
              "    }\n",
              "</style>\n",
              "<table border=\"1\" class=\"dataframe\">\n",
              "  <thead>\n",
              "    <tr style=\"text-align: right;\">\n",
              "      <th></th>\n",
              "      <th>city</th>\n",
              "      <th>district</th>\n",
              "      <th>mean_salary</th>\n",
              "    </tr>\n",
              "  </thead>\n",
              "  <tbody>\n",
              "    <tr>\n",
              "      <th>41</th>\n",
              "      <td>Абакан</td>\n",
              "      <td>Республика Хакасия</td>\n",
              "      <td>45300</td>\n",
              "    </tr>\n",
              "    <tr>\n",
              "      <th>0</th>\n",
              "      <td>Анадырь</td>\n",
              "      <td>Чукотский автономный округ</td>\n",
              "      <td>129200</td>\n",
              "    </tr>\n",
              "    <tr>\n",
              "      <th>39</th>\n",
              "      <td>Ангарск</td>\n",
              "      <td>Иркутская область</td>\n",
              "      <td>45600</td>\n",
              "    </tr>\n",
              "    <tr>\n",
              "      <th>20</th>\n",
              "      <td>Архангельск</td>\n",
              "      <td>Архангельская область</td>\n",
              "      <td>53100</td>\n",
              "    </tr>\n",
              "    <tr>\n",
              "      <th>72</th>\n",
              "      <td>Астрахань</td>\n",
              "      <td>Астраханская область</td>\n",
              "      <td>38000</td>\n",
              "    </tr>\n",
              "    <tr>\n",
              "      <th>...</th>\n",
              "      <td>...</td>\n",
              "      <td>...</td>\n",
              "      <td>...</td>\n",
              "    </tr>\n",
              "    <tr>\n",
              "      <th>33</th>\n",
              "      <td>Чита</td>\n",
              "      <td>Забайкальский край</td>\n",
              "      <td>47500</td>\n",
              "    </tr>\n",
              "    <tr>\n",
              "      <th>97</th>\n",
              "      <td>Элиста</td>\n",
              "      <td>Республика Калмыкия</td>\n",
              "      <td>31700</td>\n",
              "    </tr>\n",
              "    <tr>\n",
              "      <th>3</th>\n",
              "      <td>Южно-Сахалинск</td>\n",
              "      <td>Сахалинская область</td>\n",
              "      <td>99000</td>\n",
              "    </tr>\n",
              "    <tr>\n",
              "      <th>10</th>\n",
              "      <td>Якутск</td>\n",
              "      <td>Республика Саха (Якутия)</td>\n",
              "      <td>74400</td>\n",
              "    </tr>\n",
              "    <tr>\n",
              "      <th>51</th>\n",
              "      <td>Ярославль</td>\n",
              "      <td>Ярославская область</td>\n",
              "      <td>42000</td>\n",
              "    </tr>\n",
              "  </tbody>\n",
              "</table>\n",
              "<p>100 rows × 3 columns</p>\n",
              "</div>\n",
              "      <button class=\"colab-df-convert\" onclick=\"convertToInteractive('df-022934ff-57eb-46ef-b558-18889e16eb94')\"\n",
              "              title=\"Convert this dataframe to an interactive table.\"\n",
              "              style=\"display:none;\">\n",
              "        \n",
              "  <svg xmlns=\"http://www.w3.org/2000/svg\" height=\"24px\"viewBox=\"0 0 24 24\"\n",
              "       width=\"24px\">\n",
              "    <path d=\"M0 0h24v24H0V0z\" fill=\"none\"/>\n",
              "    <path d=\"M18.56 5.44l.94 2.06.94-2.06 2.06-.94-2.06-.94-.94-2.06-.94 2.06-2.06.94zm-11 1L8.5 8.5l.94-2.06 2.06-.94-2.06-.94L8.5 2.5l-.94 2.06-2.06.94zm10 10l.94 2.06.94-2.06 2.06-.94-2.06-.94-.94-2.06-.94 2.06-2.06.94z\"/><path d=\"M17.41 7.96l-1.37-1.37c-.4-.4-.92-.59-1.43-.59-.52 0-1.04.2-1.43.59L10.3 9.45l-7.72 7.72c-.78.78-.78 2.05 0 2.83L4 21.41c.39.39.9.59 1.41.59.51 0 1.02-.2 1.41-.59l7.78-7.78 2.81-2.81c.8-.78.8-2.07 0-2.86zM5.41 20L4 18.59l7.72-7.72 1.47 1.35L5.41 20z\"/>\n",
              "  </svg>\n",
              "      </button>\n",
              "      \n",
              "  <style>\n",
              "    .colab-df-container {\n",
              "      display:flex;\n",
              "      flex-wrap:wrap;\n",
              "      gap: 12px;\n",
              "    }\n",
              "\n",
              "    .colab-df-convert {\n",
              "      background-color: #E8F0FE;\n",
              "      border: none;\n",
              "      border-radius: 50%;\n",
              "      cursor: pointer;\n",
              "      display: none;\n",
              "      fill: #1967D2;\n",
              "      height: 32px;\n",
              "      padding: 0 0 0 0;\n",
              "      width: 32px;\n",
              "    }\n",
              "\n",
              "    .colab-df-convert:hover {\n",
              "      background-color: #E2EBFA;\n",
              "      box-shadow: 0px 1px 2px rgba(60, 64, 67, 0.3), 0px 1px 3px 1px rgba(60, 64, 67, 0.15);\n",
              "      fill: #174EA6;\n",
              "    }\n",
              "\n",
              "    [theme=dark] .colab-df-convert {\n",
              "      background-color: #3B4455;\n",
              "      fill: #D2E3FC;\n",
              "    }\n",
              "\n",
              "    [theme=dark] .colab-df-convert:hover {\n",
              "      background-color: #434B5C;\n",
              "      box-shadow: 0px 1px 3px 1px rgba(0, 0, 0, 0.15);\n",
              "      filter: drop-shadow(0px 1px 2px rgba(0, 0, 0, 0.3));\n",
              "      fill: #FFFFFF;\n",
              "    }\n",
              "  </style>\n",
              "\n",
              "      <script>\n",
              "        const buttonEl =\n",
              "          document.querySelector('#df-022934ff-57eb-46ef-b558-18889e16eb94 button.colab-df-convert');\n",
              "        buttonEl.style.display =\n",
              "          google.colab.kernel.accessAllowed ? 'block' : 'none';\n",
              "\n",
              "        async function convertToInteractive(key) {\n",
              "          const element = document.querySelector('#df-022934ff-57eb-46ef-b558-18889e16eb94');\n",
              "          const dataTable =\n",
              "            await google.colab.kernel.invokeFunction('convertToInteractive',\n",
              "                                                     [key], {});\n",
              "          if (!dataTable) return;\n",
              "\n",
              "          const docLinkHtml = 'Like what you see? Visit the ' +\n",
              "            '<a target=\"_blank\" href=https://colab.research.google.com/notebooks/data_table.ipynb>data table notebook</a>'\n",
              "            + ' to learn more about interactive tables.';\n",
              "          element.innerHTML = '';\n",
              "          dataTable['output_type'] = 'display_data';\n",
              "          await google.colab.output.renderOutput(dataTable, element);\n",
              "          const docLink = document.createElement('div');\n",
              "          docLink.innerHTML = docLinkHtml;\n",
              "          element.appendChild(docLink);\n",
              "        }\n",
              "      </script>\n",
              "    </div>\n",
              "  </div>\n",
              "  "
            ],
            "text/plain": [
              "              city                    district mean_salary\n",
              "41          Абакан          Республика Хакасия       45300\n",
              "0          Анадырь  Чукотский автономный округ      129200\n",
              "39         Ангарск           Иркутская область       45600\n",
              "20     Архангельск       Архангельская область       53100\n",
              "72       Астрахань        Астраханская область       38000\n",
              "..             ...                         ...         ...\n",
              "33            Чита          Забайкальский край       47500\n",
              "97          Элиста         Республика Калмыкия       31700\n",
              "3   Южно-Сахалинск         Сахалинская область       99000\n",
              "10          Якутск    Республика Саха (Якутия)       74400\n",
              "51       Ярославль         Ярославская область       42000\n",
              "\n",
              "[100 rows x 3 columns]"
            ]
          },
          "execution_count": 130,
          "metadata": {},
          "output_type": "execute_result"
        }
      ],
      "source": [
        "city_info = {\n",
        "    'city': tree_0.xpath('//div[@class=\"reg_name\"]/a//text()'),\n",
        "    'mean_salary': tree_0.xpath('//span[@class=\"reg_salary\"]//text()')\n",
        "}\n",
        "\n",
        "district = tree_0.xpath('//div[@class=\"reg_fo\"]/a//text()')\n",
        "district.insert(1, np.nan)\n",
        "district.insert(9, np.nan)\n",
        "district.insert(68, np.nan)\n",
        "\n",
        "def split_only_number(s):\n",
        "    s = ''.join([char for char in s if char.isdigit()])\n",
        "    return s\n",
        "\n",
        "df = pd.DataFrame(city_info)\n",
        "df['district'] = district\n",
        "df['mean_salary'] = df['mean_salary'].apply(split_only_number)\n",
        "df = df[['city', 'district', 'mean_salary']]\n",
        "df = df.sort_values('city')\n",
        "df"
      ]
    },
    {
      "cell_type": "code",
      "execution_count": null,
      "metadata": {
        "colab": {
          "base_uri": "https://localhost:8080/"
        },
        "id": "_kFvSp7kIQcf",
        "outputId": "a31d80d6-963a-4786-b332-bfe8d0829d17"
      },
      "outputs": [
        {
          "name": "stdout",
          "output_type": "stream",
          "text": [
            "<class 'pandas.core.frame.DataFrame'>\n",
            "Int64Index: 100 entries, 41 to 51\n",
            "Data columns (total 3 columns):\n",
            " #   Column       Non-Null Count  Dtype \n",
            "---  ------       --------------  ----- \n",
            " 0   city         100 non-null    object\n",
            " 1   district     97 non-null     object\n",
            " 2   mean_salary  100 non-null    object\n",
            "dtypes: object(3)\n",
            "memory usage: 3.1+ KB\n"
          ]
        }
      ],
      "source": [
        "df.info()"
      ]
    },
    {
      "cell_type": "code",
      "execution_count": null,
      "metadata": {
        "colab": {
          "base_uri": "https://localhost:8080/",
          "height": 311
        },
        "id": "qBeXIanSIVNo",
        "outputId": "d95b5d99-27c6-40ce-ac17-6671cbb33552"
      },
      "outputs": [
        {
          "ename": "ValueError",
          "evalue": "ignored",
          "output_type": "error",
          "traceback": [
            "\u001b[0;31m---------------------------------------------------------------------------\u001b[0m",
            "\u001b[0;31mValueError\u001b[0m                                Traceback (most recent call last)",
            "\u001b[0;32m<ipython-input-115-460503edf8d6>\u001b[0m in \u001b[0;36m<cell line: 1>\u001b[0;34m()\u001b[0m\n\u001b[0;32m----> 1\u001b[0;31m \u001b[0mdf\u001b[0m\u001b[0;34m[\u001b[0m\u001b[0;34m'mean_salary'\u001b[0m\u001b[0;34m]\u001b[0m\u001b[0;34m.\u001b[0m\u001b[0mastype\u001b[0m\u001b[0;34m(\u001b[0m\u001b[0;34m'int'\u001b[0m\u001b[0;34m)\u001b[0m\u001b[0;34m\u001b[0m\u001b[0;34m\u001b[0m\u001b[0m\n\u001b[0m",
            "\u001b[0;32m/usr/local/lib/python3.10/dist-packages/pandas/core/generic.py\u001b[0m in \u001b[0;36mastype\u001b[0;34m(self, dtype, copy, errors)\u001b[0m\n\u001b[1;32m   6238\u001b[0m         \u001b[0;32melse\u001b[0m\u001b[0;34m:\u001b[0m\u001b[0;34m\u001b[0m\u001b[0;34m\u001b[0m\u001b[0m\n\u001b[1;32m   6239\u001b[0m             \u001b[0;31m# else, only a single dtype is given\u001b[0m\u001b[0;34m\u001b[0m\u001b[0;34m\u001b[0m\u001b[0m\n\u001b[0;32m-> 6240\u001b[0;31m             \u001b[0mnew_data\u001b[0m \u001b[0;34m=\u001b[0m \u001b[0mself\u001b[0m\u001b[0;34m.\u001b[0m\u001b[0m_mgr\u001b[0m\u001b[0;34m.\u001b[0m\u001b[0mastype\u001b[0m\u001b[0;34m(\u001b[0m\u001b[0mdtype\u001b[0m\u001b[0;34m=\u001b[0m\u001b[0mdtype\u001b[0m\u001b[0;34m,\u001b[0m \u001b[0mcopy\u001b[0m\u001b[0;34m=\u001b[0m\u001b[0mcopy\u001b[0m\u001b[0;34m,\u001b[0m \u001b[0merrors\u001b[0m\u001b[0;34m=\u001b[0m\u001b[0merrors\u001b[0m\u001b[0;34m)\u001b[0m\u001b[0;34m\u001b[0m\u001b[0;34m\u001b[0m\u001b[0m\n\u001b[0m\u001b[1;32m   6241\u001b[0m             \u001b[0;32mreturn\u001b[0m \u001b[0mself\u001b[0m\u001b[0;34m.\u001b[0m\u001b[0m_constructor\u001b[0m\u001b[0;34m(\u001b[0m\u001b[0mnew_data\u001b[0m\u001b[0;34m)\u001b[0m\u001b[0;34m.\u001b[0m\u001b[0m__finalize__\u001b[0m\u001b[0;34m(\u001b[0m\u001b[0mself\u001b[0m\u001b[0;34m,\u001b[0m \u001b[0mmethod\u001b[0m\u001b[0;34m=\u001b[0m\u001b[0;34m\"astype\"\u001b[0m\u001b[0;34m)\u001b[0m\u001b[0;34m\u001b[0m\u001b[0;34m\u001b[0m\u001b[0m\n\u001b[1;32m   6242\u001b[0m \u001b[0;34m\u001b[0m\u001b[0m\n",
            "\u001b[0;32m/usr/local/lib/python3.10/dist-packages/pandas/core/internals/managers.py\u001b[0m in \u001b[0;36mastype\u001b[0;34m(self, dtype, copy, errors)\u001b[0m\n\u001b[1;32m    446\u001b[0m \u001b[0;34m\u001b[0m\u001b[0m\n\u001b[1;32m    447\u001b[0m     \u001b[0;32mdef\u001b[0m \u001b[0mastype\u001b[0m\u001b[0;34m(\u001b[0m\u001b[0mself\u001b[0m\u001b[0;34m:\u001b[0m \u001b[0mT\u001b[0m\u001b[0;34m,\u001b[0m \u001b[0mdtype\u001b[0m\u001b[0;34m,\u001b[0m \u001b[0mcopy\u001b[0m\u001b[0;34m:\u001b[0m \u001b[0mbool\u001b[0m \u001b[0;34m=\u001b[0m \u001b[0;32mFalse\u001b[0m\u001b[0;34m,\u001b[0m \u001b[0merrors\u001b[0m\u001b[0;34m:\u001b[0m \u001b[0mstr\u001b[0m \u001b[0;34m=\u001b[0m \u001b[0;34m\"raise\"\u001b[0m\u001b[0;34m)\u001b[0m \u001b[0;34m->\u001b[0m \u001b[0mT\u001b[0m\u001b[0;34m:\u001b[0m\u001b[0;34m\u001b[0m\u001b[0;34m\u001b[0m\u001b[0m\n\u001b[0;32m--> 448\u001b[0;31m         \u001b[0;32mreturn\u001b[0m \u001b[0mself\u001b[0m\u001b[0;34m.\u001b[0m\u001b[0mapply\u001b[0m\u001b[0;34m(\u001b[0m\u001b[0;34m\"astype\"\u001b[0m\u001b[0;34m,\u001b[0m \u001b[0mdtype\u001b[0m\u001b[0;34m=\u001b[0m\u001b[0mdtype\u001b[0m\u001b[0;34m,\u001b[0m \u001b[0mcopy\u001b[0m\u001b[0;34m=\u001b[0m\u001b[0mcopy\u001b[0m\u001b[0;34m,\u001b[0m \u001b[0merrors\u001b[0m\u001b[0;34m=\u001b[0m\u001b[0merrors\u001b[0m\u001b[0;34m)\u001b[0m\u001b[0;34m\u001b[0m\u001b[0;34m\u001b[0m\u001b[0m\n\u001b[0m\u001b[1;32m    449\u001b[0m \u001b[0;34m\u001b[0m\u001b[0m\n\u001b[1;32m    450\u001b[0m     def convert(\n",
            "\u001b[0;32m/usr/local/lib/python3.10/dist-packages/pandas/core/internals/managers.py\u001b[0m in \u001b[0;36mapply\u001b[0;34m(self, f, align_keys, ignore_failures, **kwargs)\u001b[0m\n\u001b[1;32m    350\u001b[0m                     \u001b[0mapplied\u001b[0m \u001b[0;34m=\u001b[0m \u001b[0mb\u001b[0m\u001b[0;34m.\u001b[0m\u001b[0mapply\u001b[0m\u001b[0;34m(\u001b[0m\u001b[0mf\u001b[0m\u001b[0;34m,\u001b[0m \u001b[0;34m**\u001b[0m\u001b[0mkwargs\u001b[0m\u001b[0;34m)\u001b[0m\u001b[0;34m\u001b[0m\u001b[0;34m\u001b[0m\u001b[0m\n\u001b[1;32m    351\u001b[0m                 \u001b[0;32melse\u001b[0m\u001b[0;34m:\u001b[0m\u001b[0;34m\u001b[0m\u001b[0;34m\u001b[0m\u001b[0m\n\u001b[0;32m--> 352\u001b[0;31m                     \u001b[0mapplied\u001b[0m \u001b[0;34m=\u001b[0m \u001b[0mgetattr\u001b[0m\u001b[0;34m(\u001b[0m\u001b[0mb\u001b[0m\u001b[0;34m,\u001b[0m \u001b[0mf\u001b[0m\u001b[0;34m)\u001b[0m\u001b[0;34m(\u001b[0m\u001b[0;34m**\u001b[0m\u001b[0mkwargs\u001b[0m\u001b[0;34m)\u001b[0m\u001b[0;34m\u001b[0m\u001b[0;34m\u001b[0m\u001b[0m\n\u001b[0m\u001b[1;32m    353\u001b[0m             \u001b[0;32mexcept\u001b[0m \u001b[0;34m(\u001b[0m\u001b[0mTypeError\u001b[0m\u001b[0;34m,\u001b[0m \u001b[0mNotImplementedError\u001b[0m\u001b[0;34m)\u001b[0m\u001b[0;34m:\u001b[0m\u001b[0;34m\u001b[0m\u001b[0;34m\u001b[0m\u001b[0m\n\u001b[1;32m    354\u001b[0m                 \u001b[0;32mif\u001b[0m \u001b[0;32mnot\u001b[0m \u001b[0mignore_failures\u001b[0m\u001b[0;34m:\u001b[0m\u001b[0;34m\u001b[0m\u001b[0;34m\u001b[0m\u001b[0m\n",
            "\u001b[0;32m/usr/local/lib/python3.10/dist-packages/pandas/core/internals/blocks.py\u001b[0m in \u001b[0;36mastype\u001b[0;34m(self, dtype, copy, errors)\u001b[0m\n\u001b[1;32m    524\u001b[0m         \u001b[0mvalues\u001b[0m \u001b[0;34m=\u001b[0m \u001b[0mself\u001b[0m\u001b[0;34m.\u001b[0m\u001b[0mvalues\u001b[0m\u001b[0;34m\u001b[0m\u001b[0;34m\u001b[0m\u001b[0m\n\u001b[1;32m    525\u001b[0m \u001b[0;34m\u001b[0m\u001b[0m\n\u001b[0;32m--> 526\u001b[0;31m         \u001b[0mnew_values\u001b[0m \u001b[0;34m=\u001b[0m \u001b[0mastype_array_safe\u001b[0m\u001b[0;34m(\u001b[0m\u001b[0mvalues\u001b[0m\u001b[0;34m,\u001b[0m \u001b[0mdtype\u001b[0m\u001b[0;34m,\u001b[0m \u001b[0mcopy\u001b[0m\u001b[0;34m=\u001b[0m\u001b[0mcopy\u001b[0m\u001b[0;34m,\u001b[0m \u001b[0merrors\u001b[0m\u001b[0;34m=\u001b[0m\u001b[0merrors\u001b[0m\u001b[0;34m)\u001b[0m\u001b[0;34m\u001b[0m\u001b[0;34m\u001b[0m\u001b[0m\n\u001b[0m\u001b[1;32m    527\u001b[0m \u001b[0;34m\u001b[0m\u001b[0m\n\u001b[1;32m    528\u001b[0m         \u001b[0mnew_values\u001b[0m \u001b[0;34m=\u001b[0m \u001b[0mmaybe_coerce_values\u001b[0m\u001b[0;34m(\u001b[0m\u001b[0mnew_values\u001b[0m\u001b[0;34m)\u001b[0m\u001b[0;34m\u001b[0m\u001b[0;34m\u001b[0m\u001b[0m\n",
            "\u001b[0;32m/usr/local/lib/python3.10/dist-packages/pandas/core/dtypes/astype.py\u001b[0m in \u001b[0;36mastype_array_safe\u001b[0;34m(values, dtype, copy, errors)\u001b[0m\n\u001b[1;32m    297\u001b[0m \u001b[0;34m\u001b[0m\u001b[0m\n\u001b[1;32m    298\u001b[0m     \u001b[0;32mtry\u001b[0m\u001b[0;34m:\u001b[0m\u001b[0;34m\u001b[0m\u001b[0;34m\u001b[0m\u001b[0m\n\u001b[0;32m--> 299\u001b[0;31m         \u001b[0mnew_values\u001b[0m \u001b[0;34m=\u001b[0m \u001b[0mastype_array\u001b[0m\u001b[0;34m(\u001b[0m\u001b[0mvalues\u001b[0m\u001b[0;34m,\u001b[0m \u001b[0mdtype\u001b[0m\u001b[0;34m,\u001b[0m \u001b[0mcopy\u001b[0m\u001b[0;34m=\u001b[0m\u001b[0mcopy\u001b[0m\u001b[0;34m)\u001b[0m\u001b[0;34m\u001b[0m\u001b[0;34m\u001b[0m\u001b[0m\n\u001b[0m\u001b[1;32m    300\u001b[0m     \u001b[0;32mexcept\u001b[0m \u001b[0;34m(\u001b[0m\u001b[0mValueError\u001b[0m\u001b[0;34m,\u001b[0m \u001b[0mTypeError\u001b[0m\u001b[0;34m)\u001b[0m\u001b[0;34m:\u001b[0m\u001b[0;34m\u001b[0m\u001b[0;34m\u001b[0m\u001b[0m\n\u001b[1;32m    301\u001b[0m         \u001b[0;31m# e.g. astype_nansafe can fail on object-dtype of strings\u001b[0m\u001b[0;34m\u001b[0m\u001b[0;34m\u001b[0m\u001b[0m\n",
            "\u001b[0;32m/usr/local/lib/python3.10/dist-packages/pandas/core/dtypes/astype.py\u001b[0m in \u001b[0;36mastype_array\u001b[0;34m(values, dtype, copy)\u001b[0m\n\u001b[1;32m    228\u001b[0m \u001b[0;34m\u001b[0m\u001b[0m\n\u001b[1;32m    229\u001b[0m     \u001b[0;32melse\u001b[0m\u001b[0;34m:\u001b[0m\u001b[0;34m\u001b[0m\u001b[0;34m\u001b[0m\u001b[0m\n\u001b[0;32m--> 230\u001b[0;31m         \u001b[0mvalues\u001b[0m \u001b[0;34m=\u001b[0m \u001b[0mastype_nansafe\u001b[0m\u001b[0;34m(\u001b[0m\u001b[0mvalues\u001b[0m\u001b[0;34m,\u001b[0m \u001b[0mdtype\u001b[0m\u001b[0;34m,\u001b[0m \u001b[0mcopy\u001b[0m\u001b[0;34m=\u001b[0m\u001b[0mcopy\u001b[0m\u001b[0;34m)\u001b[0m\u001b[0;34m\u001b[0m\u001b[0;34m\u001b[0m\u001b[0m\n\u001b[0m\u001b[1;32m    231\u001b[0m \u001b[0;34m\u001b[0m\u001b[0m\n\u001b[1;32m    232\u001b[0m     \u001b[0;31m# in pandas we don't store numpy str dtypes, so convert to object\u001b[0m\u001b[0;34m\u001b[0m\u001b[0;34m\u001b[0m\u001b[0m\n",
            "\u001b[0;32m/usr/local/lib/python3.10/dist-packages/pandas/core/dtypes/astype.py\u001b[0m in \u001b[0;36mastype_nansafe\u001b[0;34m(arr, dtype, copy, skipna)\u001b[0m\n\u001b[1;32m    168\u001b[0m     \u001b[0;32mif\u001b[0m \u001b[0mcopy\u001b[0m \u001b[0;32mor\u001b[0m \u001b[0mis_object_dtype\u001b[0m\u001b[0;34m(\u001b[0m\u001b[0marr\u001b[0m\u001b[0;34m.\u001b[0m\u001b[0mdtype\u001b[0m\u001b[0;34m)\u001b[0m \u001b[0;32mor\u001b[0m \u001b[0mis_object_dtype\u001b[0m\u001b[0;34m(\u001b[0m\u001b[0mdtype\u001b[0m\u001b[0;34m)\u001b[0m\u001b[0;34m:\u001b[0m\u001b[0;34m\u001b[0m\u001b[0;34m\u001b[0m\u001b[0m\n\u001b[1;32m    169\u001b[0m         \u001b[0;31m# Explicit copy, or required since NumPy can't view from / to object.\u001b[0m\u001b[0;34m\u001b[0m\u001b[0;34m\u001b[0m\u001b[0m\n\u001b[0;32m--> 170\u001b[0;31m         \u001b[0;32mreturn\u001b[0m \u001b[0marr\u001b[0m\u001b[0;34m.\u001b[0m\u001b[0mastype\u001b[0m\u001b[0;34m(\u001b[0m\u001b[0mdtype\u001b[0m\u001b[0;34m,\u001b[0m \u001b[0mcopy\u001b[0m\u001b[0;34m=\u001b[0m\u001b[0;32mTrue\u001b[0m\u001b[0;34m)\u001b[0m\u001b[0;34m\u001b[0m\u001b[0;34m\u001b[0m\u001b[0m\n\u001b[0m\u001b[1;32m    171\u001b[0m \u001b[0;34m\u001b[0m\u001b[0m\n\u001b[1;32m    172\u001b[0m     \u001b[0;32mreturn\u001b[0m \u001b[0marr\u001b[0m\u001b[0;34m.\u001b[0m\u001b[0mastype\u001b[0m\u001b[0;34m(\u001b[0m\u001b[0mdtype\u001b[0m\u001b[0;34m,\u001b[0m \u001b[0mcopy\u001b[0m\u001b[0;34m=\u001b[0m\u001b[0mcopy\u001b[0m\u001b[0;34m)\u001b[0m\u001b[0;34m\u001b[0m\u001b[0;34m\u001b[0m\u001b[0m\n",
            "\u001b[0;31mValueError\u001b[0m: invalid literal for int() with base 10: '45\\xa0300\\xa0₽'"
          ]
        }
      ],
      "source": [
        "df['mean_salary'].astype('int')"
      ]
    },
    {
      "cell_type": "code",
      "execution_count": null,
      "metadata": {
        "id": "sghZDDzCH1yo"
      },
      "outputs": [],
      "source": [
        "df.to_csv('df_0.csv')"
      ]
    },
    {
      "cell_type": "markdown",
      "metadata": {
        "id": "xbWwU1uhTRGU"
      },
      "source": [
        "## через soup"
      ]
    },
    {
      "cell_type": "code",
      "execution_count": null,
      "metadata": {
        "id": "yRBKNpdITQrx"
      },
      "outputs": [],
      "source": [
        "import requests"
      ]
    },
    {
      "cell_type": "code",
      "execution_count": null,
      "metadata": {
        "id": "n29m-HEvJC7b"
      },
      "outputs": [],
      "source": [
        "response = requests.get(\"https://bdex.ru/ratings/cities-salary/\")\n",
        "soup = BeautifulSoup(response.content)"
      ]
    },
    {
      "cell_type": "code",
      "execution_count": null,
      "metadata": {
        "colab": {
          "base_uri": "https://localhost:8080/"
        },
        "id": "aVVf9mDZTsXR",
        "outputId": "a06180e0-7dcc-4af3-be22-4b9fcfa0198c"
      },
      "outputs": [
        {
          "data": {
            "text/plain": [
              "<div class=\"row reg_row\"><div class=\"col-xl-1 col-3 order-xl-1 order-2 text-center mob_right\"><p class=\"reg_num\">1</p></div><div class=\"col-xl-1 ip_hide order-xl-2\"><img class=\"img_rating\" src=\"/img/gerb/city/anadyr.jpg\"/></div><div class=\"col-xl-7 col-9 order-xl-3 order-1\"><div class=\"reg_name\"><a href=\"/chukotskiy-avtonomnyy-okrug/anadyr/\" target=\"_blank\">Анадырь</a></div><div class=\"reg_fo\"><a href=\"/chukotskiy-avtonomnyy-okrug/\" target=\"_blank\">Чукотский автономный округ</a></div></div><div class=\"col-xl-3 col-10 order-xl-4 order-3 text-right reg_fix_top mob_left\"><span class=\"reg_salary\">129 200 ₽</span></div></div>"
            ]
          },
          "execution_count": 154,
          "metadata": {},
          "output_type": "execute_result"
        }
      ],
      "source": [
        "info = soup.find_all('div', class_='row reg_row')\n",
        "info[0]"
      ]
    },
    {
      "cell_type": "code",
      "execution_count": null,
      "metadata": {
        "colab": {
          "base_uri": "https://localhost:8080/"
        },
        "id": "lrmLH6_jTmlG",
        "outputId": "e40bd602-944d-4a51-f2e1-712937fe177a"
      },
      "outputs": [
        {
          "data": {
            "text/plain": [
              "[('Анадырь', 'Чукотский автономный округ', 129200),\n",
              " ('Москва', '', 113600),\n",
              " ('Салехард', 'Ямало-Ненецкий автономный округ', 106400),\n",
              " ('Южно-Сахалинск', 'Сахалинская область', 99000),\n",
              " ('Магадан', 'Магаданская область', 95200),\n",
              " ('Петропавловск-Камчатский', 'Камчатский край', 93600),\n",
              " ('Ханты-Мансийск', 'Ханты-Мансийский Автономный округ - Югра', 88300),\n",
              " ('Сургут', 'Ханты-Мансийский Автономный округ - Югра', 83400),\n",
              " ('Нарьян-Мар', 'Ненецкий автономный округ', 77900),\n",
              " ('Санкт-Петербург', '', 74400),\n",
              " ('Якутск', 'Республика Саха (Якутия)', 74400),\n",
              " ('Мурманск', 'Мурманская область', 73100),\n",
              " ('Нижневартовск', 'Ханты-Мансийский Автономный округ - Югра', 68400),\n",
              " ('Владивосток', 'Приморский край', 62000),\n",
              " ('Подольск', 'Московская область', 60300),\n",
              " ('Тюмень', 'Тюменская область', 60100),\n",
              " ('Хабаровск', 'Хабаровский край', 59600),\n",
              " ('Красноярск', 'Красноярский край', 54600),\n",
              " ('Иркутск', 'Иркутская область', 53800),\n",
              " ('Екатеринбург', 'Свердловская область', 53400),\n",
              " ('Архангельск', 'Архангельская область', 53100),\n",
              " ('Братск', 'Иркутская область', 52900),\n",
              " ('Комсомольск-На-Амуре', 'Хабаровский край', 51300),\n",
              " ('Череповец', 'Вологодская область', 50500),\n",
              " ('Томск', 'Томская область', 50300),\n",
              " ('Благовещенск', 'Амурская область', 50200),\n",
              " ('Сыктывкар', 'Республика Коми', 49500),\n",
              " ('Петрозаводск', 'Республика Карелия', 48800),\n",
              " ('Уфа', 'Республика Башкортостан', 48300),\n",
              " ('Новосибирск', 'Новосибирская область', 48200),\n",
              " ('Нижний Новгород', 'Нижегородская область', 48000),\n",
              " ('Краснодар', 'Краснодарский край', 48000),\n",
              " ('Новороссийск', 'Краснодарский край', 47900),\n",
              " ('Чита', 'Забайкальский край', 47500),\n",
              " ('Казань', 'Республика Татарстан', 47500),\n",
              " ('Кемерово', 'Кемеровская область', 47200),\n",
              " ('Кызыл', 'Республика Тыва', 46600),\n",
              " ('Новокузнецк', 'Кемеровская область', 46600),\n",
              " ('Пермь', 'Пермский край', 46300),\n",
              " ('Ангарск', 'Иркутская область', 45600),\n",
              " ('Калуга', 'Калужская область', 45400),\n",
              " ('Абакан', 'Республика Хакасия', 45300),\n",
              " ('Ростов-На-Дону', 'Ростовская область', 45200),\n",
              " ('Магнитогорск', 'Челябинская область', 44900),\n",
              " ('Самара', 'Самарская область', 44500),\n",
              " ('Тула', 'Тульская область', 44100),\n",
              " ('Калининград', 'Калининградская область', 43700),\n",
              " ('Сочи', 'Краснодарский край', 43700),\n",
              " ('Биробиджан', 'Еврейская автономная область', 43200),\n",
              " ('Улан-Удэ', 'Республика Бурятия', 42600),\n",
              " ('Тверь', 'Тверская область', 42300),\n",
              " ('Ярославль', 'Ярославская область', 42000),\n",
              " ('Вологда', 'Вологодская область', 42000),\n",
              " ('Челябинск', 'Челябинская область', 42000),\n",
              " ('Липецк', 'Липецкая область', 42000),\n",
              " ('Омск', 'Омская область', 41500),\n",
              " ('Оренбург', 'Оренбургская область', 41500),\n",
              " ('Воронеж', 'Воронежская область', 41400),\n",
              " ('Ижевск', 'Удмуртская Республика', 40800),\n",
              " ('Рязань', 'Рязанская область', 40700),\n",
              " ('Магас', 'Республика Ингушетия', 40300),\n",
              " ('Горно-Алтайск', 'Республика Алтай (Горный Алтай)', 40300),\n",
              " ('Великий Новгород', 'Новгородская область', 40000),\n",
              " ('Набережные Челны', 'Республика Татарстан', 39300),\n",
              " ('Белгород', 'Белгородская область', 39300),\n",
              " ('Нижний Тагил', 'Свердловская область', 39200),\n",
              " ('Саратов', 'Саратовская область', 39100),\n",
              " ('Тольятти', 'Самарская область', 38600),\n",
              " ('Севастополь', '', 38500),\n",
              " ('Симферополь', 'Республика Крым', 38400),\n",
              " ('Владимир', 'Владимирская область', 38300),\n",
              " ('Ставрополь', 'Ставропольский край', 38100),\n",
              " ('Астрахань', 'Астраханская область', 38000),\n",
              " ('Барнаул', 'Алтайский край', 37400),\n",
              " ('Волгоград', 'Волгоградская область', 37400),\n",
              " ('Киров', 'Кировская область', 36900),\n",
              " ('Дзержинск', 'Нижегородская область', 36900),\n",
              " ('Кострома', 'Костромская область', 36800),\n",
              " ('Чебоксары', 'Чувашская Республика', 36000),\n",
              " ('Пенза', 'Пензенская область', 35800),\n",
              " ('Курган', 'Курганская область', 35800),\n",
              " ('Ульяновск', 'Ульяновская область', 35800),\n",
              " ('Смоленск', 'Смоленская область', 35600),\n",
              " ('Псков', 'Псковская область', 35600),\n",
              " ('Брянск', 'Брянская область', 35500),\n",
              " ('Стерлитамак', 'Республика Башкортостан', 35300),\n",
              " ('Таганрог', 'Ростовская область', 34700),\n",
              " ('Курск', 'Курская область', 34600),\n",
              " ('Махачкала', 'Республика Дагестан', 34400),\n",
              " ('Орёл', 'Орловская область', 34100),\n",
              " ('Иваново', 'Ивановская область', 33700),\n",
              " ('Йошкар-Ола', 'Республика Марий Эл', 33500),\n",
              " ('Тамбов', 'Тамбовская область', 33100),\n",
              " ('Черкесск', 'Республика Карачаево-Черкессия', 33100),\n",
              " ('Грозный', 'Чеченская республика', 33000),\n",
              " ('Саранск', 'Республика Мордовия', 32500),\n",
              " ('Майкоп', 'Республика Адыгея', 32300),\n",
              " ('Элиста', 'Республика Калмыкия', 31700),\n",
              " ('Нальчик', 'Кабардино-Балкарская Республика', 31600),\n",
              " ('Владикавказ', 'Республика Северная Осетия — Алания', 31200)]"
            ]
          },
          "execution_count": 152,
          "metadata": {},
          "output_type": "execute_result"
        }
      ],
      "source": [
        "data = []\n",
        "for div in soup.find_all(\"div\", {\"class\": \"row reg_row\"}):\n",
        "    data.append((div.find(\"div\", {\"class\": \"reg_name\"}).text,\n",
        "                 div.find(\"div\", {\"class\": \"reg_fo\"}).text,\n",
        "                 int(div.find(\"span\", {\"class\": \"reg_salary\"}).text.replace(\"\\xa0\", \"\")[:-1])))\n",
        "    \n",
        "data"
      ]
    },
    {
      "cell_type": "markdown",
      "metadata": {
        "id": "hkvr2T6eVJMl"
      },
      "source": [
        "# 7.2.6"
      ]
    },
    {
      "cell_type": "code",
      "execution_count": null,
      "metadata": {
        "id": "qRsCO3dbVL5V"
      },
      "outputs": [],
      "source": [
        "import requests"
      ]
    },
    {
      "cell_type": "code",
      "execution_count": null,
      "metadata": {
        "id": "3YCg2dbxVUme"
      },
      "outputs": [],
      "source": [
        "response = requests.get(\"http://www.autonet.ru/auto/ttx\")\n",
        "soup = BeautifulSoup(response.content)"
      ]
    },
    {
      "cell_type": "code",
      "execution_count": null,
      "metadata": {
        "id": "EDNQBtVqWa-s"
      },
      "outputs": [],
      "source": [
        "# soup"
      ]
    },
    {
      "cell_type": "code",
      "execution_count": null,
      "metadata": {
        "id": "isysjYrjWX1z"
      },
      "outputs": [],
      "source": [
        "from lxml import etree, html as lhtml"
      ]
    },
    {
      "cell_type": "code",
      "execution_count": null,
      "metadata": {
        "id": "Vp2t1CRSW3gv"
      },
      "outputs": [],
      "source": [
        "# lhtml.fromstring(response.text).iterlinks()"
      ]
    },
    {
      "cell_type": "code",
      "execution_count": null,
      "metadata": {
        "id": "wZpl44eWWRyN"
      },
      "outputs": [],
      "source": [
        "# a = lhtml.fromstring(response.text).iterlinks()"
      ]
    },
    {
      "cell_type": "code",
      "execution_count": null,
      "metadata": {
        "colab": {
          "base_uri": "https://localhost:8080/"
        },
        "id": "AMZIkmcFXV0s",
        "outputId": "40d25da9-cdf1-4df2-96be-2dc02e3bca6f"
      },
      "outputs": [
        {
          "data": {
            "text/plain": [
              "(<Element link at 0x7f39c7275350>, 'href', 'http://www.autonet.ru/auto/ttx', 0)"
            ]
          },
          "execution_count": 187,
          "metadata": {},
          "output_type": "execute_result"
        }
      ],
      "source": [
        "# next(a)"
      ]
    },
    {
      "cell_type": "code",
      "execution_count": null,
      "metadata": {
        "colab": {
          "base_uri": "https://localhost:8080/",
          "height": 36
        },
        "id": "i56tUNBoZGei",
        "outputId": "ea4fa718-a2b9-431a-9151-c7d4b3d47001"
      },
      "outputs": [
        {
          "data": {
            "application/vnd.google.colaboratory.intrinsic+json": {
              "type": "string"
            },
            "text/plain": [
              "'http://mc.yandex.ru'"
            ]
          },
          "execution_count": 220,
          "metadata": {},
          "output_type": "execute_result"
        }
      ],
      "source": [
        "first_level = lhtml.fromstring(response.text).iterlinks()\n",
        "next(first_level)[2]"
      ]
    },
    {
      "cell_type": "code",
      "execution_count": null,
      "metadata": {
        "colab": {
          "base_uri": "https://localhost:8080/"
        },
        "id": "1Pl_TKVM0_TR",
        "outputId": "913995b1-daea-47f0-ac21-758767d81f87"
      },
      "outputs": [
        {
          "name": "stdout",
          "output_type": "stream",
          "text": [
            "-1\n"
          ]
        }
      ],
      "source": [
        "txt = \"Hello, welcome to my world.\"\n",
        "\n",
        "x = txt.find(\"das\")\n",
        "\n",
        "print(x)"
      ]
    },
    {
      "cell_type": "code",
      "execution_count": null,
      "metadata": {
        "id": "WpwDSkIM02RN"
      },
      "outputs": [],
      "source": [
        "'https://yandex.ru/ads/system/context.js'"
      ]
    },
    {
      "cell_type": "code",
      "execution_count": null,
      "metadata": {
        "colab": {
          "base_uri": "https://localhost:8080/"
        },
        "id": "uXr-nlXj16RQ",
        "outputId": "df035e50-eebd-4ef8-a3b3-072d649f746c"
      },
      "outputs": [
        {
          "data": {
            "text/plain": [
              "<Response [200]>"
            ]
          },
          "execution_count": 234,
          "metadata": {},
          "output_type": "execute_result"
        }
      ],
      "source": [
        "response"
      ]
    },
    {
      "cell_type": "code",
      "execution_count": null,
      "metadata": {
        "colab": {
          "base_uri": "https://localhost:8080/",
          "height": 36
        },
        "id": "YzpkWvC82LVk",
        "outputId": "435e9266-ab5a-496c-8660-8af2f2282c01"
      },
      "outputs": [
        {
          "data": {
            "application/vnd.google.colaboratory.intrinsic+json": {
              "type": "string"
            },
            "text/plain": [
              "'http://www.autonet.ru/auto/ttx/ac_cars'"
            ]
          },
          "execution_count": 235,
          "metadata": {},
          "output_type": "execute_result"
        }
      ],
      "source": [
        "\"http://www.autonet.ru/auto/ttx\" + '/ac_cars'"
      ]
    },
    {
      "cell_type": "code",
      "execution_count": null,
      "metadata": {
        "id": "342I_K8TY9qG"
      },
      "outputs": [],
      "source": [
        "response = requests.get(\"http://www.autonet.ru/auto/ttx\")\n",
        "first_level = lhtml.fromstring(response.text).iterlinks()\n",
        "\n",
        "links = []\n",
        "\n",
        "for el in first_level:\n",
        "  # print('el =', el)\n",
        "  if el[2].find('/auto/ttx/') != -1:\n",
        "    ending = el[2][el[2].find('/auto/ttx/') + 9:]\n",
        "    # print('el2 =', el[2])\n",
        "    # print(ending)\n",
        "    response = requests.get(\"http://www.autonet.ru/auto/ttx\" + ending)\n",
        "    second_level = lhtml.fromstring(response.text).iterlinks()\n",
        "\n",
        "    for el_ in second_level:\n",
        "      # print('/auto/ttx' + ending )\n",
        "         \n",
        "      if el_[2].find('/auto/ttx' + ending + '/') != -1:\n",
        "        ending_2 = el_[2][el_[2].find(ending + '/'):]\n",
        "        # print(ending_2)\n",
        "        _ = \"http://www.autonet.ru/auto/ttx\" + ending_2\n",
        "        # (print(el_))\n",
        "        links.append(_)"
      ]
    },
    {
      "cell_type": "code",
      "execution_count": null,
      "metadata": {
        "colab": {
          "base_uri": "https://localhost:8080/"
        },
        "id": "I9MU2IMOZ37P",
        "outputId": "2e7c8a44-2ef1-4b5d-d84b-1c1554280caf"
      },
      "outputs": [
        {
          "data": {
            "text/plain": [
              "1820"
            ]
          },
          "execution_count": 39,
          "metadata": {},
          "output_type": "execute_result"
        }
      ],
      "source": [
        "len(links)"
      ]
    },
    {
      "cell_type": "code",
      "execution_count": null,
      "metadata": {
        "colab": {
          "base_uri": "https://localhost:8080/"
        },
        "id": "SjF3f2VX_RT9",
        "outputId": "a7207a07-24cf-4a3c-a95f-adc16fd3d467"
      },
      "outputs": [
        {
          "data": {
            "text/plain": [
              "['http://www.autonet.ru/auto/ttx/ac_cars/ace',\n",
              " 'http://www.autonet.ru/auto/ttx/ac_cars/aceca',\n",
              " 'http://www.autonet.ru/auto/ttx/ac_cars/cobra',\n",
              " 'http://www.autonet.ru/auto/ttx/ac_cars/mamba',\n",
              " 'http://www.autonet.ru/auto/ttx/acura/cl',\n",
              " 'http://www.autonet.ru/auto/ttx/acura/csx',\n",
              " 'http://www.autonet.ru/auto/ttx/acura/el',\n",
              " 'http://www.autonet.ru/auto/ttx/acura/ilx',\n",
              " 'http://www.autonet.ru/auto/ttx/acura/integra',\n",
              " 'http://www.autonet.ru/auto/ttx/acura/mdx']"
            ]
          },
          "execution_count": 40,
          "metadata": {},
          "output_type": "execute_result"
        }
      ],
      "source": [
        "links[:10]"
      ]
    },
    {
      "cell_type": "code",
      "execution_count": null,
      "metadata": {
        "id": "feQNfho2-7O6"
      },
      "outputs": [],
      "source": [
        "links = pd.DataFrame(links, columns=['url'])"
      ]
    },
    {
      "cell_type": "code",
      "execution_count": null,
      "metadata": {
        "colab": {
          "base_uri": "https://localhost:8080/",
          "height": 423
        },
        "id": "TXaOc4WB_ERN",
        "outputId": "8b2c66c9-7cb3-4d29-e8ca-e9413b5c539b"
      },
      "outputs": [
        {
          "data": {
            "text/html": [
              "\n",
              "  <div id=\"df-69fa99de-6b2b-4bdf-80d8-d5ba0ac33d40\">\n",
              "    <div class=\"colab-df-container\">\n",
              "      <div>\n",
              "<style scoped>\n",
              "    .dataframe tbody tr th:only-of-type {\n",
              "        vertical-align: middle;\n",
              "    }\n",
              "\n",
              "    .dataframe tbody tr th {\n",
              "        vertical-align: top;\n",
              "    }\n",
              "\n",
              "    .dataframe thead th {\n",
              "        text-align: right;\n",
              "    }\n",
              "</style>\n",
              "<table border=\"1\" class=\"dataframe\">\n",
              "  <thead>\n",
              "    <tr style=\"text-align: right;\">\n",
              "      <th></th>\n",
              "      <th>url</th>\n",
              "    </tr>\n",
              "  </thead>\n",
              "  <tbody>\n",
              "    <tr>\n",
              "      <th>0</th>\n",
              "      <td>http://www.autonet.ru/auto/ttx/ac_cars/ace</td>\n",
              "    </tr>\n",
              "    <tr>\n",
              "      <th>1</th>\n",
              "      <td>http://www.autonet.ru/auto/ttx/ac_cars/aceca</td>\n",
              "    </tr>\n",
              "    <tr>\n",
              "      <th>2</th>\n",
              "      <td>http://www.autonet.ru/auto/ttx/ac_cars/cobra</td>\n",
              "    </tr>\n",
              "    <tr>\n",
              "      <th>3</th>\n",
              "      <td>http://www.autonet.ru/auto/ttx/ac_cars/mamba</td>\n",
              "    </tr>\n",
              "    <tr>\n",
              "      <th>4</th>\n",
              "      <td>http://www.autonet.ru/auto/ttx/acura/cl</td>\n",
              "    </tr>\n",
              "    <tr>\n",
              "      <th>...</th>\n",
              "      <td>...</td>\n",
              "    </tr>\n",
              "    <tr>\n",
              "      <th>1815</th>\n",
              "      <td>http://www.autonet.ru/auto/ttx/uaz/3165</td>\n",
              "    </tr>\n",
              "    <tr>\n",
              "      <th>1816</th>\n",
              "      <td>http://www.autonet.ru/auto/ttx/uaz/3303</td>\n",
              "    </tr>\n",
              "    <tr>\n",
              "      <th>1817</th>\n",
              "      <td>http://www.autonet.ru/auto/ttx/uaz/3741</td>\n",
              "    </tr>\n",
              "    <tr>\n",
              "      <th>1818</th>\n",
              "      <td>http://www.autonet.ru/auto/ttx/uaz/3909</td>\n",
              "    </tr>\n",
              "    <tr>\n",
              "      <th>1819</th>\n",
              "      <td>http://www.autonet.ru/auto/ttx/uaz/3962</td>\n",
              "    </tr>\n",
              "  </tbody>\n",
              "</table>\n",
              "<p>1820 rows × 1 columns</p>\n",
              "</div>\n",
              "      <button class=\"colab-df-convert\" onclick=\"convertToInteractive('df-69fa99de-6b2b-4bdf-80d8-d5ba0ac33d40')\"\n",
              "              title=\"Convert this dataframe to an interactive table.\"\n",
              "              style=\"display:none;\">\n",
              "        \n",
              "  <svg xmlns=\"http://www.w3.org/2000/svg\" height=\"24px\"viewBox=\"0 0 24 24\"\n",
              "       width=\"24px\">\n",
              "    <path d=\"M0 0h24v24H0V0z\" fill=\"none\"/>\n",
              "    <path d=\"M18.56 5.44l.94 2.06.94-2.06 2.06-.94-2.06-.94-.94-2.06-.94 2.06-2.06.94zm-11 1L8.5 8.5l.94-2.06 2.06-.94-2.06-.94L8.5 2.5l-.94 2.06-2.06.94zm10 10l.94 2.06.94-2.06 2.06-.94-2.06-.94-.94-2.06-.94 2.06-2.06.94z\"/><path d=\"M17.41 7.96l-1.37-1.37c-.4-.4-.92-.59-1.43-.59-.52 0-1.04.2-1.43.59L10.3 9.45l-7.72 7.72c-.78.78-.78 2.05 0 2.83L4 21.41c.39.39.9.59 1.41.59.51 0 1.02-.2 1.41-.59l7.78-7.78 2.81-2.81c.8-.78.8-2.07 0-2.86zM5.41 20L4 18.59l7.72-7.72 1.47 1.35L5.41 20z\"/>\n",
              "  </svg>\n",
              "      </button>\n",
              "      \n",
              "  <style>\n",
              "    .colab-df-container {\n",
              "      display:flex;\n",
              "      flex-wrap:wrap;\n",
              "      gap: 12px;\n",
              "    }\n",
              "\n",
              "    .colab-df-convert {\n",
              "      background-color: #E8F0FE;\n",
              "      border: none;\n",
              "      border-radius: 50%;\n",
              "      cursor: pointer;\n",
              "      display: none;\n",
              "      fill: #1967D2;\n",
              "      height: 32px;\n",
              "      padding: 0 0 0 0;\n",
              "      width: 32px;\n",
              "    }\n",
              "\n",
              "    .colab-df-convert:hover {\n",
              "      background-color: #E2EBFA;\n",
              "      box-shadow: 0px 1px 2px rgba(60, 64, 67, 0.3), 0px 1px 3px 1px rgba(60, 64, 67, 0.15);\n",
              "      fill: #174EA6;\n",
              "    }\n",
              "\n",
              "    [theme=dark] .colab-df-convert {\n",
              "      background-color: #3B4455;\n",
              "      fill: #D2E3FC;\n",
              "    }\n",
              "\n",
              "    [theme=dark] .colab-df-convert:hover {\n",
              "      background-color: #434B5C;\n",
              "      box-shadow: 0px 1px 3px 1px rgba(0, 0, 0, 0.15);\n",
              "      filter: drop-shadow(0px 1px 2px rgba(0, 0, 0, 0.3));\n",
              "      fill: #FFFFFF;\n",
              "    }\n",
              "  </style>\n",
              "\n",
              "      <script>\n",
              "        const buttonEl =\n",
              "          document.querySelector('#df-69fa99de-6b2b-4bdf-80d8-d5ba0ac33d40 button.colab-df-convert');\n",
              "        buttonEl.style.display =\n",
              "          google.colab.kernel.accessAllowed ? 'block' : 'none';\n",
              "\n",
              "        async function convertToInteractive(key) {\n",
              "          const element = document.querySelector('#df-69fa99de-6b2b-4bdf-80d8-d5ba0ac33d40');\n",
              "          const dataTable =\n",
              "            await google.colab.kernel.invokeFunction('convertToInteractive',\n",
              "                                                     [key], {});\n",
              "          if (!dataTable) return;\n",
              "\n",
              "          const docLinkHtml = 'Like what you see? Visit the ' +\n",
              "            '<a target=\"_blank\" href=https://colab.research.google.com/notebooks/data_table.ipynb>data table notebook</a>'\n",
              "            + ' to learn more about interactive tables.';\n",
              "          element.innerHTML = '';\n",
              "          dataTable['output_type'] = 'display_data';\n",
              "          await google.colab.output.renderOutput(dataTable, element);\n",
              "          const docLink = document.createElement('div');\n",
              "          docLink.innerHTML = docLinkHtml;\n",
              "          element.appendChild(docLink);\n",
              "        }\n",
              "      </script>\n",
              "    </div>\n",
              "  </div>\n",
              "  "
            ],
            "text/plain": [
              "                                               url\n",
              "0       http://www.autonet.ru/auto/ttx/ac_cars/ace\n",
              "1     http://www.autonet.ru/auto/ttx/ac_cars/aceca\n",
              "2     http://www.autonet.ru/auto/ttx/ac_cars/cobra\n",
              "3     http://www.autonet.ru/auto/ttx/ac_cars/mamba\n",
              "4          http://www.autonet.ru/auto/ttx/acura/cl\n",
              "...                                            ...\n",
              "1815       http://www.autonet.ru/auto/ttx/uaz/3165\n",
              "1816       http://www.autonet.ru/auto/ttx/uaz/3303\n",
              "1817       http://www.autonet.ru/auto/ttx/uaz/3741\n",
              "1818       http://www.autonet.ru/auto/ttx/uaz/3909\n",
              "1819       http://www.autonet.ru/auto/ttx/uaz/3962\n",
              "\n",
              "[1820 rows x 1 columns]"
            ]
          },
          "execution_count": 279,
          "metadata": {},
          "output_type": "execute_result"
        }
      ],
      "source": [
        "links"
      ]
    },
    {
      "cell_type": "code",
      "execution_count": null,
      "metadata": {
        "colab": {
          "base_uri": "https://localhost:8080/",
          "height": 423
        },
        "id": "r8_5R3CvAOrW",
        "outputId": "0169d7d1-fbf1-4665-bf61-ee0ab9d3a8e4"
      },
      "outputs": [
        {
          "data": {
            "text/html": [
              "\n",
              "  <div id=\"df-ca34f917-ba82-47d5-b708-c8dd90662d94\">\n",
              "    <div class=\"colab-df-container\">\n",
              "      <div>\n",
              "<style scoped>\n",
              "    .dataframe tbody tr th:only-of-type {\n",
              "        vertical-align: middle;\n",
              "    }\n",
              "\n",
              "    .dataframe tbody tr th {\n",
              "        vertical-align: top;\n",
              "    }\n",
              "\n",
              "    .dataframe thead th {\n",
              "        text-align: right;\n",
              "    }\n",
              "</style>\n",
              "<table border=\"1\" class=\"dataframe\">\n",
              "  <thead>\n",
              "    <tr style=\"text-align: right;\">\n",
              "      <th></th>\n",
              "      <th>url</th>\n",
              "    </tr>\n",
              "  </thead>\n",
              "  <tbody>\n",
              "    <tr>\n",
              "      <th>0</th>\n",
              "      <td>http://www.autonet.ru/auto/ttx/ac_cars/ace</td>\n",
              "    </tr>\n",
              "    <tr>\n",
              "      <th>1</th>\n",
              "      <td>http://www.autonet.ru/auto/ttx/ac_cars/aceca</td>\n",
              "    </tr>\n",
              "    <tr>\n",
              "      <th>2</th>\n",
              "      <td>http://www.autonet.ru/auto/ttx/ac_cars/cobra</td>\n",
              "    </tr>\n",
              "    <tr>\n",
              "      <th>3</th>\n",
              "      <td>http://www.autonet.ru/auto/ttx/ac_cars/mamba</td>\n",
              "    </tr>\n",
              "    <tr>\n",
              "      <th>4</th>\n",
              "      <td>http://www.autonet.ru/auto/ttx/acura/cl</td>\n",
              "    </tr>\n",
              "    <tr>\n",
              "      <th>...</th>\n",
              "      <td>...</td>\n",
              "    </tr>\n",
              "    <tr>\n",
              "      <th>1733</th>\n",
              "      <td>http://www.autonet.ru/auto/ttx/zotye/z300</td>\n",
              "    </tr>\n",
              "    <tr>\n",
              "      <th>1734</th>\n",
              "      <td>http://www.autonet.ru/auto/ttx/zx/admiral</td>\n",
              "    </tr>\n",
              "    <tr>\n",
              "      <th>1735</th>\n",
              "      <td>http://www.autonet.ru/auto/ttx/zx/changling</td>\n",
              "    </tr>\n",
              "    <tr>\n",
              "      <th>1736</th>\n",
              "      <td>http://www.autonet.ru/auto/ttx/zx/grand_tiger</td>\n",
              "    </tr>\n",
              "    <tr>\n",
              "      <th>1737</th>\n",
              "      <td>http://www.autonet.ru/auto/ttx/zx/landmark</td>\n",
              "    </tr>\n",
              "  </tbody>\n",
              "</table>\n",
              "<p>1820 rows × 1 columns</p>\n",
              "</div>\n",
              "      <button class=\"colab-df-convert\" onclick=\"convertToInteractive('df-ca34f917-ba82-47d5-b708-c8dd90662d94')\"\n",
              "              title=\"Convert this dataframe to an interactive table.\"\n",
              "              style=\"display:none;\">\n",
              "        \n",
              "  <svg xmlns=\"http://www.w3.org/2000/svg\" height=\"24px\"viewBox=\"0 0 24 24\"\n",
              "       width=\"24px\">\n",
              "    <path d=\"M0 0h24v24H0V0z\" fill=\"none\"/>\n",
              "    <path d=\"M18.56 5.44l.94 2.06.94-2.06 2.06-.94-2.06-.94-.94-2.06-.94 2.06-2.06.94zm-11 1L8.5 8.5l.94-2.06 2.06-.94-2.06-.94L8.5 2.5l-.94 2.06-2.06.94zm10 10l.94 2.06.94-2.06 2.06-.94-2.06-.94-.94-2.06-.94 2.06-2.06.94z\"/><path d=\"M17.41 7.96l-1.37-1.37c-.4-.4-.92-.59-1.43-.59-.52 0-1.04.2-1.43.59L10.3 9.45l-7.72 7.72c-.78.78-.78 2.05 0 2.83L4 21.41c.39.39.9.59 1.41.59.51 0 1.02-.2 1.41-.59l7.78-7.78 2.81-2.81c.8-.78.8-2.07 0-2.86zM5.41 20L4 18.59l7.72-7.72 1.47 1.35L5.41 20z\"/>\n",
              "  </svg>\n",
              "      </button>\n",
              "      \n",
              "  <style>\n",
              "    .colab-df-container {\n",
              "      display:flex;\n",
              "      flex-wrap:wrap;\n",
              "      gap: 12px;\n",
              "    }\n",
              "\n",
              "    .colab-df-convert {\n",
              "      background-color: #E8F0FE;\n",
              "      border: none;\n",
              "      border-radius: 50%;\n",
              "      cursor: pointer;\n",
              "      display: none;\n",
              "      fill: #1967D2;\n",
              "      height: 32px;\n",
              "      padding: 0 0 0 0;\n",
              "      width: 32px;\n",
              "    }\n",
              "\n",
              "    .colab-df-convert:hover {\n",
              "      background-color: #E2EBFA;\n",
              "      box-shadow: 0px 1px 2px rgba(60, 64, 67, 0.3), 0px 1px 3px 1px rgba(60, 64, 67, 0.15);\n",
              "      fill: #174EA6;\n",
              "    }\n",
              "\n",
              "    [theme=dark] .colab-df-convert {\n",
              "      background-color: #3B4455;\n",
              "      fill: #D2E3FC;\n",
              "    }\n",
              "\n",
              "    [theme=dark] .colab-df-convert:hover {\n",
              "      background-color: #434B5C;\n",
              "      box-shadow: 0px 1px 3px 1px rgba(0, 0, 0, 0.15);\n",
              "      filter: drop-shadow(0px 1px 2px rgba(0, 0, 0, 0.3));\n",
              "      fill: #FFFFFF;\n",
              "    }\n",
              "  </style>\n",
              "\n",
              "      <script>\n",
              "        const buttonEl =\n",
              "          document.querySelector('#df-ca34f917-ba82-47d5-b708-c8dd90662d94 button.colab-df-convert');\n",
              "        buttonEl.style.display =\n",
              "          google.colab.kernel.accessAllowed ? 'block' : 'none';\n",
              "\n",
              "        async function convertToInteractive(key) {\n",
              "          const element = document.querySelector('#df-ca34f917-ba82-47d5-b708-c8dd90662d94');\n",
              "          const dataTable =\n",
              "            await google.colab.kernel.invokeFunction('convertToInteractive',\n",
              "                                                     [key], {});\n",
              "          if (!dataTable) return;\n",
              "\n",
              "          const docLinkHtml = 'Like what you see? Visit the ' +\n",
              "            '<a target=\"_blank\" href=https://colab.research.google.com/notebooks/data_table.ipynb>data table notebook</a>'\n",
              "            + ' to learn more about interactive tables.';\n",
              "          element.innerHTML = '';\n",
              "          dataTable['output_type'] = 'display_data';\n",
              "          await google.colab.output.renderOutput(dataTable, element);\n",
              "          const docLink = document.createElement('div');\n",
              "          docLink.innerHTML = docLinkHtml;\n",
              "          element.appendChild(docLink);\n",
              "        }\n",
              "      </script>\n",
              "    </div>\n",
              "  </div>\n",
              "  "
            ],
            "text/plain": [
              "                                                url\n",
              "0        http://www.autonet.ru/auto/ttx/ac_cars/ace\n",
              "1      http://www.autonet.ru/auto/ttx/ac_cars/aceca\n",
              "2      http://www.autonet.ru/auto/ttx/ac_cars/cobra\n",
              "3      http://www.autonet.ru/auto/ttx/ac_cars/mamba\n",
              "4           http://www.autonet.ru/auto/ttx/acura/cl\n",
              "...                                             ...\n",
              "1733      http://www.autonet.ru/auto/ttx/zotye/z300\n",
              "1734      http://www.autonet.ru/auto/ttx/zx/admiral\n",
              "1735    http://www.autonet.ru/auto/ttx/zx/changling\n",
              "1736  http://www.autonet.ru/auto/ttx/zx/grand_tiger\n",
              "1737     http://www.autonet.ru/auto/ttx/zx/landmark\n",
              "\n",
              "[1820 rows x 1 columns]"
            ]
          },
          "execution_count": 282,
          "metadata": {},
          "output_type": "execute_result"
        }
      ],
      "source": [
        "links = links.sort_values('url')\n",
        "links"
      ]
    },
    {
      "cell_type": "code",
      "execution_count": null,
      "metadata": {
        "id": "ktdHLWMq_74g"
      },
      "outputs": [],
      "source": [
        "links.to_csv('links_1.csv', index=False)"
      ]
    },
    {
      "cell_type": "markdown",
      "metadata": {
        "id": "TG1vluiDLtAw"
      },
      "source": [
        "# 7.2.8"
      ]
    },
    {
      "cell_type": "code",
      "execution_count": null,
      "metadata": {
        "id": "XD78YxOZNaye"
      },
      "outputs": [],
      "source": [
        "import pandas as pd"
      ]
    },
    {
      "cell_type": "code",
      "execution_count": null,
      "metadata": {
        "colab": {
          "base_uri": "https://localhost:8080/",
          "height": 423
        },
        "id": "T2ZOP4sUNeNS",
        "outputId": "edd2e1be-3927-405c-a2be-0d2932d380f4"
      },
      "outputs": [
        {
          "data": {
            "text/html": [
              "\n",
              "  <div id=\"df-679531ae-f495-4572-b68f-664098c04630\">\n",
              "    <div class=\"colab-df-container\">\n",
              "      <div>\n",
              "<style scoped>\n",
              "    .dataframe tbody tr th:only-of-type {\n",
              "        vertical-align: middle;\n",
              "    }\n",
              "\n",
              "    .dataframe tbody tr th {\n",
              "        vertical-align: top;\n",
              "    }\n",
              "\n",
              "    .dataframe thead th {\n",
              "        text-align: right;\n",
              "    }\n",
              "</style>\n",
              "<table border=\"1\" class=\"dataframe\">\n",
              "  <thead>\n",
              "    <tr style=\"text-align: right;\">\n",
              "      <th></th>\n",
              "      <th>url</th>\n",
              "    </tr>\n",
              "  </thead>\n",
              "  <tbody>\n",
              "    <tr>\n",
              "      <th>0</th>\n",
              "      <td>http://www.autonet.ru/auto/ttx/ac_cars/ace</td>\n",
              "    </tr>\n",
              "    <tr>\n",
              "      <th>1</th>\n",
              "      <td>http://www.autonet.ru/auto/ttx/ac_cars/aceca</td>\n",
              "    </tr>\n",
              "    <tr>\n",
              "      <th>2</th>\n",
              "      <td>http://www.autonet.ru/auto/ttx/ac_cars/cobra</td>\n",
              "    </tr>\n",
              "    <tr>\n",
              "      <th>3</th>\n",
              "      <td>http://www.autonet.ru/auto/ttx/ac_cars/mamba</td>\n",
              "    </tr>\n",
              "    <tr>\n",
              "      <th>4</th>\n",
              "      <td>http://www.autonet.ru/auto/ttx/acura/cl</td>\n",
              "    </tr>\n",
              "    <tr>\n",
              "      <th>...</th>\n",
              "      <td>...</td>\n",
              "    </tr>\n",
              "    <tr>\n",
              "      <th>1815</th>\n",
              "      <td>http://www.autonet.ru/auto/ttx/zotye/z300</td>\n",
              "    </tr>\n",
              "    <tr>\n",
              "      <th>1816</th>\n",
              "      <td>http://www.autonet.ru/auto/ttx/zx/admiral</td>\n",
              "    </tr>\n",
              "    <tr>\n",
              "      <th>1817</th>\n",
              "      <td>http://www.autonet.ru/auto/ttx/zx/changling</td>\n",
              "    </tr>\n",
              "    <tr>\n",
              "      <th>1818</th>\n",
              "      <td>http://www.autonet.ru/auto/ttx/zx/grand_tiger</td>\n",
              "    </tr>\n",
              "    <tr>\n",
              "      <th>1819</th>\n",
              "      <td>http://www.autonet.ru/auto/ttx/zx/landmark</td>\n",
              "    </tr>\n",
              "  </tbody>\n",
              "</table>\n",
              "<p>1820 rows × 1 columns</p>\n",
              "</div>\n",
              "      <button class=\"colab-df-convert\" onclick=\"convertToInteractive('df-679531ae-f495-4572-b68f-664098c04630')\"\n",
              "              title=\"Convert this dataframe to an interactive table.\"\n",
              "              style=\"display:none;\">\n",
              "        \n",
              "  <svg xmlns=\"http://www.w3.org/2000/svg\" height=\"24px\"viewBox=\"0 0 24 24\"\n",
              "       width=\"24px\">\n",
              "    <path d=\"M0 0h24v24H0V0z\" fill=\"none\"/>\n",
              "    <path d=\"M18.56 5.44l.94 2.06.94-2.06 2.06-.94-2.06-.94-.94-2.06-.94 2.06-2.06.94zm-11 1L8.5 8.5l.94-2.06 2.06-.94-2.06-.94L8.5 2.5l-.94 2.06-2.06.94zm10 10l.94 2.06.94-2.06 2.06-.94-2.06-.94-.94-2.06-.94 2.06-2.06.94z\"/><path d=\"M17.41 7.96l-1.37-1.37c-.4-.4-.92-.59-1.43-.59-.52 0-1.04.2-1.43.59L10.3 9.45l-7.72 7.72c-.78.78-.78 2.05 0 2.83L4 21.41c.39.39.9.59 1.41.59.51 0 1.02-.2 1.41-.59l7.78-7.78 2.81-2.81c.8-.78.8-2.07 0-2.86zM5.41 20L4 18.59l7.72-7.72 1.47 1.35L5.41 20z\"/>\n",
              "  </svg>\n",
              "      </button>\n",
              "      \n",
              "  <style>\n",
              "    .colab-df-container {\n",
              "      display:flex;\n",
              "      flex-wrap:wrap;\n",
              "      gap: 12px;\n",
              "    }\n",
              "\n",
              "    .colab-df-convert {\n",
              "      background-color: #E8F0FE;\n",
              "      border: none;\n",
              "      border-radius: 50%;\n",
              "      cursor: pointer;\n",
              "      display: none;\n",
              "      fill: #1967D2;\n",
              "      height: 32px;\n",
              "      padding: 0 0 0 0;\n",
              "      width: 32px;\n",
              "    }\n",
              "\n",
              "    .colab-df-convert:hover {\n",
              "      background-color: #E2EBFA;\n",
              "      box-shadow: 0px 1px 2px rgba(60, 64, 67, 0.3), 0px 1px 3px 1px rgba(60, 64, 67, 0.15);\n",
              "      fill: #174EA6;\n",
              "    }\n",
              "\n",
              "    [theme=dark] .colab-df-convert {\n",
              "      background-color: #3B4455;\n",
              "      fill: #D2E3FC;\n",
              "    }\n",
              "\n",
              "    [theme=dark] .colab-df-convert:hover {\n",
              "      background-color: #434B5C;\n",
              "      box-shadow: 0px 1px 3px 1px rgba(0, 0, 0, 0.15);\n",
              "      filter: drop-shadow(0px 1px 2px rgba(0, 0, 0, 0.3));\n",
              "      fill: #FFFFFF;\n",
              "    }\n",
              "  </style>\n",
              "\n",
              "      <script>\n",
              "        const buttonEl =\n",
              "          document.querySelector('#df-679531ae-f495-4572-b68f-664098c04630 button.colab-df-convert');\n",
              "        buttonEl.style.display =\n",
              "          google.colab.kernel.accessAllowed ? 'block' : 'none';\n",
              "\n",
              "        async function convertToInteractive(key) {\n",
              "          const element = document.querySelector('#df-679531ae-f495-4572-b68f-664098c04630');\n",
              "          const dataTable =\n",
              "            await google.colab.kernel.invokeFunction('convertToInteractive',\n",
              "                                                     [key], {});\n",
              "          if (!dataTable) return;\n",
              "\n",
              "          const docLinkHtml = 'Like what you see? Visit the ' +\n",
              "            '<a target=\"_blank\" href=https://colab.research.google.com/notebooks/data_table.ipynb>data table notebook</a>'\n",
              "            + ' to learn more about interactive tables.';\n",
              "          element.innerHTML = '';\n",
              "          dataTable['output_type'] = 'display_data';\n",
              "          await google.colab.output.renderOutput(dataTable, element);\n",
              "          const docLink = document.createElement('div');\n",
              "          docLink.innerHTML = docLinkHtml;\n",
              "          element.appendChild(docLink);\n",
              "        }\n",
              "      </script>\n",
              "    </div>\n",
              "  </div>\n",
              "  "
            ],
            "text/plain": [
              "                                                url\n",
              "0        http://www.autonet.ru/auto/ttx/ac_cars/ace\n",
              "1      http://www.autonet.ru/auto/ttx/ac_cars/aceca\n",
              "2      http://www.autonet.ru/auto/ttx/ac_cars/cobra\n",
              "3      http://www.autonet.ru/auto/ttx/ac_cars/mamba\n",
              "4           http://www.autonet.ru/auto/ttx/acura/cl\n",
              "...                                             ...\n",
              "1815      http://www.autonet.ru/auto/ttx/zotye/z300\n",
              "1816      http://www.autonet.ru/auto/ttx/zx/admiral\n",
              "1817    http://www.autonet.ru/auto/ttx/zx/changling\n",
              "1818  http://www.autonet.ru/auto/ttx/zx/grand_tiger\n",
              "1819     http://www.autonet.ru/auto/ttx/zx/landmark\n",
              "\n",
              "[1820 rows x 1 columns]"
            ]
          },
          "execution_count": 28,
          "metadata": {},
          "output_type": "execute_result"
        }
      ],
      "source": [
        "# links = pd.read_csv('https://raw.githubusercontent.com/nedokormysh/Stepik_Competitive_DS/week_7/links_1.csv')\n",
        "links = pd.read_csv('/content/links_1.csv')\n",
        "links"
      ]
    },
    {
      "cell_type": "code",
      "execution_count": null,
      "metadata": {
        "id": "ErWkRq1iT55b"
      },
      "outputs": [],
      "source": [
        "# import lxml\n",
        "# # from lxml import etree, html as lhtml\n",
        "# import requests\n",
        "# import tqdm\n",
        "\n",
        "# req = requests.post(\"http://www.autonet.ru/auto/ttx\")\n",
        "# tree = lxml.html.fromstring(req.text)\n",
        "\n",
        "# links = []\n",
        "# for el, tag, link, pos in tqdm(list(tree.iterlinks())):\n",
        "#     if link.startswith('/auto/ttx/'):\n",
        "#         car = lxml.html.fromstring(requests.post(f'http://www.autonet.ru{link}').text)\n",
        "#         for _, _, car_link, _ in car.iterlinks():\n",
        "#             if car_link.startswith(link+'/'):\n",
        "#                 links.append(f'http://www.autonet.ru{car_link}')\n",
        "\n",
        "# sub = pd.DataFrame({'url': links})\n",
        "# sub = sub.sort_values(by='url')"
      ]
    },
    {
      "cell_type": "code",
      "execution_count": null,
      "metadata": {
        "colab": {
          "base_uri": "https://localhost:8080/",
          "height": 609
        },
        "id": "uEkF7vyaMDk5",
        "outputId": "8b8f4ab5-4ae3-4e35-b40a-3680be2472bd"
      },
      "outputs": [
        {
          "data": {
            "text/html": [
              "\n",
              "  <div id=\"df-164090d4-0cad-40fd-9c07-a8d89857fec8\">\n",
              "    <div class=\"colab-df-container\">\n",
              "      <div>\n",
              "<style scoped>\n",
              "    .dataframe tbody tr th:only-of-type {\n",
              "        vertical-align: middle;\n",
              "    }\n",
              "\n",
              "    .dataframe tbody tr th {\n",
              "        vertical-align: top;\n",
              "    }\n",
              "\n",
              "    .dataframe thead th {\n",
              "        text-align: right;\n",
              "    }\n",
              "</style>\n",
              "<table border=\"1\" class=\"dataframe\">\n",
              "  <thead>\n",
              "    <tr style=\"text-align: right;\">\n",
              "      <th></th>\n",
              "      <th>car_id</th>\n",
              "      <th>model</th>\n",
              "      <th>car_type</th>\n",
              "      <th>fuel_type</th>\n",
              "      <th>car_rating</th>\n",
              "      <th>year_to_start</th>\n",
              "      <th>riders</th>\n",
              "      <th>year_to_work</th>\n",
              "      <th>target_reg</th>\n",
              "      <th>target_class</th>\n",
              "      <th>mean_rating</th>\n",
              "      <th>distance_sum</th>\n",
              "      <th>rating_min</th>\n",
              "      <th>speed_max</th>\n",
              "      <th>user_ride_quality_median</th>\n",
              "      <th>deviation_normal_count</th>\n",
              "      <th>user_uniq</th>\n",
              "    </tr>\n",
              "  </thead>\n",
              "  <tbody>\n",
              "    <tr>\n",
              "      <th>0</th>\n",
              "      <td>y13744087j</td>\n",
              "      <td>Kia Rio X-line</td>\n",
              "      <td>economy</td>\n",
              "      <td>petrol</td>\n",
              "      <td>3.78</td>\n",
              "      <td>2015</td>\n",
              "      <td>76163</td>\n",
              "      <td>2021</td>\n",
              "      <td>109.99</td>\n",
              "      <td>another_bug</td>\n",
              "      <td>4.737759</td>\n",
              "      <td>1.214131e+07</td>\n",
              "      <td>0.10</td>\n",
              "      <td>180.855726</td>\n",
              "      <td>0.023174</td>\n",
              "      <td>174</td>\n",
              "      <td>170</td>\n",
              "    </tr>\n",
              "    <tr>\n",
              "      <th>1</th>\n",
              "      <td>O41613818T</td>\n",
              "      <td>VW Polo VI</td>\n",
              "      <td>economy</td>\n",
              "      <td>petrol</td>\n",
              "      <td>3.90</td>\n",
              "      <td>2015</td>\n",
              "      <td>78218</td>\n",
              "      <td>2021</td>\n",
              "      <td>34.48</td>\n",
              "      <td>electro_bug</td>\n",
              "      <td>4.480517</td>\n",
              "      <td>1.803909e+07</td>\n",
              "      <td>0.00</td>\n",
              "      <td>187.862734</td>\n",
              "      <td>12.306011</td>\n",
              "      <td>174</td>\n",
              "      <td>174</td>\n",
              "    </tr>\n",
              "    <tr>\n",
              "      <th>2</th>\n",
              "      <td>d-2109686j</td>\n",
              "      <td>Renault Sandero</td>\n",
              "      <td>standart</td>\n",
              "      <td>petrol</td>\n",
              "      <td>6.30</td>\n",
              "      <td>2012</td>\n",
              "      <td>23340</td>\n",
              "      <td>2017</td>\n",
              "      <td>34.93</td>\n",
              "      <td>gear_stick</td>\n",
              "      <td>4.768391</td>\n",
              "      <td>1.588366e+07</td>\n",
              "      <td>0.10</td>\n",
              "      <td>102.382857</td>\n",
              "      <td>2.513319</td>\n",
              "      <td>174</td>\n",
              "      <td>173</td>\n",
              "    </tr>\n",
              "    <tr>\n",
              "      <th>3</th>\n",
              "      <td>u29695600e</td>\n",
              "      <td>Mercedes-Benz GLC</td>\n",
              "      <td>business</td>\n",
              "      <td>petrol</td>\n",
              "      <td>4.04</td>\n",
              "      <td>2011</td>\n",
              "      <td>1263</td>\n",
              "      <td>2020</td>\n",
              "      <td>32.22</td>\n",
              "      <td>engine_fuel</td>\n",
              "      <td>3.880920</td>\n",
              "      <td>1.651883e+07</td>\n",
              "      <td>0.10</td>\n",
              "      <td>172.793237</td>\n",
              "      <td>-5.029476</td>\n",
              "      <td>174</td>\n",
              "      <td>170</td>\n",
              "    </tr>\n",
              "    <tr>\n",
              "      <th>4</th>\n",
              "      <td>N-8915870N</td>\n",
              "      <td>Renault Sandero</td>\n",
              "      <td>standart</td>\n",
              "      <td>petrol</td>\n",
              "      <td>4.70</td>\n",
              "      <td>2012</td>\n",
              "      <td>26428</td>\n",
              "      <td>2017</td>\n",
              "      <td>27.51</td>\n",
              "      <td>engine_fuel</td>\n",
              "      <td>4.181149</td>\n",
              "      <td>1.398317e+07</td>\n",
              "      <td>0.10</td>\n",
              "      <td>203.462289</td>\n",
              "      <td>-14.260456</td>\n",
              "      <td>174</td>\n",
              "      <td>171</td>\n",
              "    </tr>\n",
              "    <tr>\n",
              "      <th>...</th>\n",
              "      <td>...</td>\n",
              "      <td>...</td>\n",
              "      <td>...</td>\n",
              "      <td>...</td>\n",
              "      <td>...</td>\n",
              "      <td>...</td>\n",
              "      <td>...</td>\n",
              "      <td>...</td>\n",
              "      <td>...</td>\n",
              "      <td>...</td>\n",
              "      <td>...</td>\n",
              "      <td>...</td>\n",
              "      <td>...</td>\n",
              "      <td>...</td>\n",
              "      <td>...</td>\n",
              "      <td>...</td>\n",
              "      <td>...</td>\n",
              "    </tr>\n",
              "    <tr>\n",
              "      <th>2332</th>\n",
              "      <td>j21246192N</td>\n",
              "      <td>Smart ForFour</td>\n",
              "      <td>economy</td>\n",
              "      <td>petrol</td>\n",
              "      <td>4.38</td>\n",
              "      <td>2017</td>\n",
              "      <td>121239</td>\n",
              "      <td>2018</td>\n",
              "      <td>24.62</td>\n",
              "      <td>wheel_shake</td>\n",
              "      <td>4.608908</td>\n",
              "      <td>1.739222e+07</td>\n",
              "      <td>0.10</td>\n",
              "      <td>141.502350</td>\n",
              "      <td>-6.624534</td>\n",
              "      <td>174</td>\n",
              "      <td>171</td>\n",
              "    </tr>\n",
              "    <tr>\n",
              "      <th>2333</th>\n",
              "      <td>h-1554287F</td>\n",
              "      <td>Audi A4</td>\n",
              "      <td>premium</td>\n",
              "      <td>petrol</td>\n",
              "      <td>4.30</td>\n",
              "      <td>2016</td>\n",
              "      <td>107793</td>\n",
              "      <td>2020</td>\n",
              "      <td>70.58</td>\n",
              "      <td>engine_check</td>\n",
              "      <td>4.683793</td>\n",
              "      <td>1.174052e+07</td>\n",
              "      <td>0.10</td>\n",
              "      <td>155.000000</td>\n",
              "      <td>-8.582467</td>\n",
              "      <td>174</td>\n",
              "      <td>169</td>\n",
              "    </tr>\n",
              "    <tr>\n",
              "      <th>2334</th>\n",
              "      <td>A15262612g</td>\n",
              "      <td>Kia Rio</td>\n",
              "      <td>economy</td>\n",
              "      <td>petrol</td>\n",
              "      <td>3.88</td>\n",
              "      <td>2015</td>\n",
              "      <td>80234</td>\n",
              "      <td>2019</td>\n",
              "      <td>45.50</td>\n",
              "      <td>gear_stick</td>\n",
              "      <td>4.655345</td>\n",
              "      <td>1.202022e+07</td>\n",
              "      <td>0.10</td>\n",
              "      <td>104.180940</td>\n",
              "      <td>-0.778524</td>\n",
              "      <td>174</td>\n",
              "      <td>172</td>\n",
              "    </tr>\n",
              "    <tr>\n",
              "      <th>2335</th>\n",
              "      <td>W-2514493U</td>\n",
              "      <td>Renault Sandero</td>\n",
              "      <td>standart</td>\n",
              "      <td>petrol</td>\n",
              "      <td>4.50</td>\n",
              "      <td>2014</td>\n",
              "      <td>60048</td>\n",
              "      <td>2020</td>\n",
              "      <td>75.48</td>\n",
              "      <td>another_bug</td>\n",
              "      <td>4.638333</td>\n",
              "      <td>1.788307e+07</td>\n",
              "      <td>0.10</td>\n",
              "      <td>200.000000</td>\n",
              "      <td>2.464975</td>\n",
              "      <td>174</td>\n",
              "      <td>171</td>\n",
              "    </tr>\n",
              "    <tr>\n",
              "      <th>2336</th>\n",
              "      <td>z-1337463D</td>\n",
              "      <td>VW Polo</td>\n",
              "      <td>economy</td>\n",
              "      <td>petrol</td>\n",
              "      <td>3.94</td>\n",
              "      <td>2015</td>\n",
              "      <td>92312</td>\n",
              "      <td>2016</td>\n",
              "      <td>54.31</td>\n",
              "      <td>engine_check</td>\n",
              "      <td>4.635460</td>\n",
              "      <td>1.981081e+07</td>\n",
              "      <td>0.39</td>\n",
              "      <td>171.000000</td>\n",
              "      <td>-14.151230</td>\n",
              "      <td>174</td>\n",
              "      <td>173</td>\n",
              "    </tr>\n",
              "  </tbody>\n",
              "</table>\n",
              "<p>2337 rows × 17 columns</p>\n",
              "</div>\n",
              "      <button class=\"colab-df-convert\" onclick=\"convertToInteractive('df-164090d4-0cad-40fd-9c07-a8d89857fec8')\"\n",
              "              title=\"Convert this dataframe to an interactive table.\"\n",
              "              style=\"display:none;\">\n",
              "        \n",
              "  <svg xmlns=\"http://www.w3.org/2000/svg\" height=\"24px\"viewBox=\"0 0 24 24\"\n",
              "       width=\"24px\">\n",
              "    <path d=\"M0 0h24v24H0V0z\" fill=\"none\"/>\n",
              "    <path d=\"M18.56 5.44l.94 2.06.94-2.06 2.06-.94-2.06-.94-.94-2.06-.94 2.06-2.06.94zm-11 1L8.5 8.5l.94-2.06 2.06-.94-2.06-.94L8.5 2.5l-.94 2.06-2.06.94zm10 10l.94 2.06.94-2.06 2.06-.94-2.06-.94-.94-2.06-.94 2.06-2.06.94z\"/><path d=\"M17.41 7.96l-1.37-1.37c-.4-.4-.92-.59-1.43-.59-.52 0-1.04.2-1.43.59L10.3 9.45l-7.72 7.72c-.78.78-.78 2.05 0 2.83L4 21.41c.39.39.9.59 1.41.59.51 0 1.02-.2 1.41-.59l7.78-7.78 2.81-2.81c.8-.78.8-2.07 0-2.86zM5.41 20L4 18.59l7.72-7.72 1.47 1.35L5.41 20z\"/>\n",
              "  </svg>\n",
              "      </button>\n",
              "      \n",
              "  <style>\n",
              "    .colab-df-container {\n",
              "      display:flex;\n",
              "      flex-wrap:wrap;\n",
              "      gap: 12px;\n",
              "    }\n",
              "\n",
              "    .colab-df-convert {\n",
              "      background-color: #E8F0FE;\n",
              "      border: none;\n",
              "      border-radius: 50%;\n",
              "      cursor: pointer;\n",
              "      display: none;\n",
              "      fill: #1967D2;\n",
              "      height: 32px;\n",
              "      padding: 0 0 0 0;\n",
              "      width: 32px;\n",
              "    }\n",
              "\n",
              "    .colab-df-convert:hover {\n",
              "      background-color: #E2EBFA;\n",
              "      box-shadow: 0px 1px 2px rgba(60, 64, 67, 0.3), 0px 1px 3px 1px rgba(60, 64, 67, 0.15);\n",
              "      fill: #174EA6;\n",
              "    }\n",
              "\n",
              "    [theme=dark] .colab-df-convert {\n",
              "      background-color: #3B4455;\n",
              "      fill: #D2E3FC;\n",
              "    }\n",
              "\n",
              "    [theme=dark] .colab-df-convert:hover {\n",
              "      background-color: #434B5C;\n",
              "      box-shadow: 0px 1px 3px 1px rgba(0, 0, 0, 0.15);\n",
              "      filter: drop-shadow(0px 1px 2px rgba(0, 0, 0, 0.3));\n",
              "      fill: #FFFFFF;\n",
              "    }\n",
              "  </style>\n",
              "\n",
              "      <script>\n",
              "        const buttonEl =\n",
              "          document.querySelector('#df-164090d4-0cad-40fd-9c07-a8d89857fec8 button.colab-df-convert');\n",
              "        buttonEl.style.display =\n",
              "          google.colab.kernel.accessAllowed ? 'block' : 'none';\n",
              "\n",
              "        async function convertToInteractive(key) {\n",
              "          const element = document.querySelector('#df-164090d4-0cad-40fd-9c07-a8d89857fec8');\n",
              "          const dataTable =\n",
              "            await google.colab.kernel.invokeFunction('convertToInteractive',\n",
              "                                                     [key], {});\n",
              "          if (!dataTable) return;\n",
              "\n",
              "          const docLinkHtml = 'Like what you see? Visit the ' +\n",
              "            '<a target=\"_blank\" href=https://colab.research.google.com/notebooks/data_table.ipynb>data table notebook</a>'\n",
              "            + ' to learn more about interactive tables.';\n",
              "          element.innerHTML = '';\n",
              "          dataTable['output_type'] = 'display_data';\n",
              "          await google.colab.output.renderOutput(dataTable, element);\n",
              "          const docLink = document.createElement('div');\n",
              "          docLink.innerHTML = docLinkHtml;\n",
              "          element.appendChild(docLink);\n",
              "        }\n",
              "      </script>\n",
              "    </div>\n",
              "  </div>\n",
              "  "
            ],
            "text/plain": [
              "          car_id              model  car_type fuel_type  car_rating  \\\n",
              "0     y13744087j     Kia Rio X-line   economy    petrol        3.78   \n",
              "1     O41613818T         VW Polo VI   economy    petrol        3.90   \n",
              "2     d-2109686j    Renault Sandero  standart    petrol        6.30   \n",
              "3     u29695600e  Mercedes-Benz GLC  business    petrol        4.04   \n",
              "4     N-8915870N    Renault Sandero  standart    petrol        4.70   \n",
              "...          ...                ...       ...       ...         ...   \n",
              "2332  j21246192N      Smart ForFour   economy    petrol        4.38   \n",
              "2333  h-1554287F            Audi A4   premium    petrol        4.30   \n",
              "2334  A15262612g            Kia Rio   economy    petrol        3.88   \n",
              "2335  W-2514493U    Renault Sandero  standart    petrol        4.50   \n",
              "2336  z-1337463D            VW Polo   economy    petrol        3.94   \n",
              "\n",
              "      year_to_start  riders  year_to_work  target_reg  target_class  \\\n",
              "0              2015   76163          2021      109.99   another_bug   \n",
              "1              2015   78218          2021       34.48   electro_bug   \n",
              "2              2012   23340          2017       34.93    gear_stick   \n",
              "3              2011    1263          2020       32.22   engine_fuel   \n",
              "4              2012   26428          2017       27.51   engine_fuel   \n",
              "...             ...     ...           ...         ...           ...   \n",
              "2332           2017  121239          2018       24.62   wheel_shake   \n",
              "2333           2016  107793          2020       70.58  engine_check   \n",
              "2334           2015   80234          2019       45.50    gear_stick   \n",
              "2335           2014   60048          2020       75.48   another_bug   \n",
              "2336           2015   92312          2016       54.31  engine_check   \n",
              "\n",
              "      mean_rating  distance_sum  rating_min   speed_max  \\\n",
              "0        4.737759  1.214131e+07        0.10  180.855726   \n",
              "1        4.480517  1.803909e+07        0.00  187.862734   \n",
              "2        4.768391  1.588366e+07        0.10  102.382857   \n",
              "3        3.880920  1.651883e+07        0.10  172.793237   \n",
              "4        4.181149  1.398317e+07        0.10  203.462289   \n",
              "...           ...           ...         ...         ...   \n",
              "2332     4.608908  1.739222e+07        0.10  141.502350   \n",
              "2333     4.683793  1.174052e+07        0.10  155.000000   \n",
              "2334     4.655345  1.202022e+07        0.10  104.180940   \n",
              "2335     4.638333  1.788307e+07        0.10  200.000000   \n",
              "2336     4.635460  1.981081e+07        0.39  171.000000   \n",
              "\n",
              "      user_ride_quality_median  deviation_normal_count  user_uniq  \n",
              "0                     0.023174                     174        170  \n",
              "1                    12.306011                     174        174  \n",
              "2                     2.513319                     174        173  \n",
              "3                    -5.029476                     174        170  \n",
              "4                   -14.260456                     174        171  \n",
              "...                        ...                     ...        ...  \n",
              "2332                 -6.624534                     174        171  \n",
              "2333                 -8.582467                     174        169  \n",
              "2334                 -0.778524                     174        172  \n",
              "2335                  2.464975                     174        171  \n",
              "2336                -14.151230                     174        173  \n",
              "\n",
              "[2337 rows x 17 columns]"
            ]
          },
          "execution_count": 5,
          "metadata": {},
          "output_type": "execute_result"
        }
      ],
      "source": [
        "df_ = pd.read_csv('https://stepik.org/media/attachments/lesson/866758/quickstart_train.csv')\n",
        "df_"
      ]
    },
    {
      "cell_type": "code",
      "execution_count": null,
      "metadata": {
        "colab": {
          "base_uri": "https://localhost:8080/",
          "height": 423
        },
        "id": "TAEcCnkiNstG",
        "outputId": "2a01ea40-eaad-444e-c79a-b4736988111e"
      },
      "outputs": [
        {
          "data": {
            "text/html": [
              "\n",
              "  <div id=\"df-38244687-4b7e-4cd9-a99c-e825d60e0498\">\n",
              "    <div class=\"colab-df-container\">\n",
              "      <div>\n",
              "<style scoped>\n",
              "    .dataframe tbody tr th:only-of-type {\n",
              "        vertical-align: middle;\n",
              "    }\n",
              "\n",
              "    .dataframe tbody tr th {\n",
              "        vertical-align: top;\n",
              "    }\n",
              "\n",
              "    .dataframe thead th {\n",
              "        text-align: right;\n",
              "    }\n",
              "</style>\n",
              "<table border=\"1\" class=\"dataframe\">\n",
              "  <thead>\n",
              "    <tr style=\"text-align: right;\">\n",
              "      <th></th>\n",
              "      <th>car_id</th>\n",
              "      <th>model</th>\n",
              "    </tr>\n",
              "  </thead>\n",
              "  <tbody>\n",
              "    <tr>\n",
              "      <th>0</th>\n",
              "      <td>y13744087j</td>\n",
              "      <td>Kia Rio X-line</td>\n",
              "    </tr>\n",
              "    <tr>\n",
              "      <th>1</th>\n",
              "      <td>O41613818T</td>\n",
              "      <td>VW Polo VI</td>\n",
              "    </tr>\n",
              "    <tr>\n",
              "      <th>2</th>\n",
              "      <td>d-2109686j</td>\n",
              "      <td>Renault Sandero</td>\n",
              "    </tr>\n",
              "    <tr>\n",
              "      <th>3</th>\n",
              "      <td>u29695600e</td>\n",
              "      <td>Mercedes-Benz GLC</td>\n",
              "    </tr>\n",
              "    <tr>\n",
              "      <th>4</th>\n",
              "      <td>N-8915870N</td>\n",
              "      <td>Renault Sandero</td>\n",
              "    </tr>\n",
              "    <tr>\n",
              "      <th>...</th>\n",
              "      <td>...</td>\n",
              "      <td>...</td>\n",
              "    </tr>\n",
              "    <tr>\n",
              "      <th>2332</th>\n",
              "      <td>j21246192N</td>\n",
              "      <td>Smart ForFour</td>\n",
              "    </tr>\n",
              "    <tr>\n",
              "      <th>2333</th>\n",
              "      <td>h-1554287F</td>\n",
              "      <td>Audi A4</td>\n",
              "    </tr>\n",
              "    <tr>\n",
              "      <th>2334</th>\n",
              "      <td>A15262612g</td>\n",
              "      <td>Kia Rio</td>\n",
              "    </tr>\n",
              "    <tr>\n",
              "      <th>2335</th>\n",
              "      <td>W-2514493U</td>\n",
              "      <td>Renault Sandero</td>\n",
              "    </tr>\n",
              "    <tr>\n",
              "      <th>2336</th>\n",
              "      <td>z-1337463D</td>\n",
              "      <td>VW Polo</td>\n",
              "    </tr>\n",
              "  </tbody>\n",
              "</table>\n",
              "<p>2337 rows × 2 columns</p>\n",
              "</div>\n",
              "      <button class=\"colab-df-convert\" onclick=\"convertToInteractive('df-38244687-4b7e-4cd9-a99c-e825d60e0498')\"\n",
              "              title=\"Convert this dataframe to an interactive table.\"\n",
              "              style=\"display:none;\">\n",
              "        \n",
              "  <svg xmlns=\"http://www.w3.org/2000/svg\" height=\"24px\"viewBox=\"0 0 24 24\"\n",
              "       width=\"24px\">\n",
              "    <path d=\"M0 0h24v24H0V0z\" fill=\"none\"/>\n",
              "    <path d=\"M18.56 5.44l.94 2.06.94-2.06 2.06-.94-2.06-.94-.94-2.06-.94 2.06-2.06.94zm-11 1L8.5 8.5l.94-2.06 2.06-.94-2.06-.94L8.5 2.5l-.94 2.06-2.06.94zm10 10l.94 2.06.94-2.06 2.06-.94-2.06-.94-.94-2.06-.94 2.06-2.06.94z\"/><path d=\"M17.41 7.96l-1.37-1.37c-.4-.4-.92-.59-1.43-.59-.52 0-1.04.2-1.43.59L10.3 9.45l-7.72 7.72c-.78.78-.78 2.05 0 2.83L4 21.41c.39.39.9.59 1.41.59.51 0 1.02-.2 1.41-.59l7.78-7.78 2.81-2.81c.8-.78.8-2.07 0-2.86zM5.41 20L4 18.59l7.72-7.72 1.47 1.35L5.41 20z\"/>\n",
              "  </svg>\n",
              "      </button>\n",
              "      \n",
              "  <style>\n",
              "    .colab-df-container {\n",
              "      display:flex;\n",
              "      flex-wrap:wrap;\n",
              "      gap: 12px;\n",
              "    }\n",
              "\n",
              "    .colab-df-convert {\n",
              "      background-color: #E8F0FE;\n",
              "      border: none;\n",
              "      border-radius: 50%;\n",
              "      cursor: pointer;\n",
              "      display: none;\n",
              "      fill: #1967D2;\n",
              "      height: 32px;\n",
              "      padding: 0 0 0 0;\n",
              "      width: 32px;\n",
              "    }\n",
              "\n",
              "    .colab-df-convert:hover {\n",
              "      background-color: #E2EBFA;\n",
              "      box-shadow: 0px 1px 2px rgba(60, 64, 67, 0.3), 0px 1px 3px 1px rgba(60, 64, 67, 0.15);\n",
              "      fill: #174EA6;\n",
              "    }\n",
              "\n",
              "    [theme=dark] .colab-df-convert {\n",
              "      background-color: #3B4455;\n",
              "      fill: #D2E3FC;\n",
              "    }\n",
              "\n",
              "    [theme=dark] .colab-df-convert:hover {\n",
              "      background-color: #434B5C;\n",
              "      box-shadow: 0px 1px 3px 1px rgba(0, 0, 0, 0.15);\n",
              "      filter: drop-shadow(0px 1px 2px rgba(0, 0, 0, 0.3));\n",
              "      fill: #FFFFFF;\n",
              "    }\n",
              "  </style>\n",
              "\n",
              "      <script>\n",
              "        const buttonEl =\n",
              "          document.querySelector('#df-38244687-4b7e-4cd9-a99c-e825d60e0498 button.colab-df-convert');\n",
              "        buttonEl.style.display =\n",
              "          google.colab.kernel.accessAllowed ? 'block' : 'none';\n",
              "\n",
              "        async function convertToInteractive(key) {\n",
              "          const element = document.querySelector('#df-38244687-4b7e-4cd9-a99c-e825d60e0498');\n",
              "          const dataTable =\n",
              "            await google.colab.kernel.invokeFunction('convertToInteractive',\n",
              "                                                     [key], {});\n",
              "          if (!dataTable) return;\n",
              "\n",
              "          const docLinkHtml = 'Like what you see? Visit the ' +\n",
              "            '<a target=\"_blank\" href=https://colab.research.google.com/notebooks/data_table.ipynb>data table notebook</a>'\n",
              "            + ' to learn more about interactive tables.';\n",
              "          element.innerHTML = '';\n",
              "          dataTable['output_type'] = 'display_data';\n",
              "          await google.colab.output.renderOutput(dataTable, element);\n",
              "          const docLink = document.createElement('div');\n",
              "          docLink.innerHTML = docLinkHtml;\n",
              "          element.appendChild(docLink);\n",
              "        }\n",
              "      </script>\n",
              "    </div>\n",
              "  </div>\n",
              "  "
            ],
            "text/plain": [
              "          car_id              model\n",
              "0     y13744087j     Kia Rio X-line\n",
              "1     O41613818T         VW Polo VI\n",
              "2     d-2109686j    Renault Sandero\n",
              "3     u29695600e  Mercedes-Benz GLC\n",
              "4     N-8915870N    Renault Sandero\n",
              "...          ...                ...\n",
              "2332  j21246192N      Smart ForFour\n",
              "2333  h-1554287F            Audi A4\n",
              "2334  A15262612g            Kia Rio\n",
              "2335  W-2514493U    Renault Sandero\n",
              "2336  z-1337463D            VW Polo\n",
              "\n",
              "[2337 rows x 2 columns]"
            ]
          },
          "execution_count": 7,
          "metadata": {},
          "output_type": "execute_result"
        }
      ],
      "source": [
        "df = df_[['car_id', 'model']]\n",
        "df"
      ]
    },
    {
      "cell_type": "code",
      "execution_count": null,
      "metadata": {
        "colab": {
          "base_uri": "https://localhost:8080/"
        },
        "id": "_hbO2dKKS17p",
        "outputId": "9b6ed8e5-750f-464f-e236-81db7cbe9b5a"
      },
      "outputs": [
        {
          "data": {
            "text/plain": [
              "array([['http://www.autonet.ru/auto/ttx/ac_cars/ace'],\n",
              "       ['http://www.autonet.ru/auto/ttx/ac_cars/aceca'],\n",
              "       ['http://www.autonet.ru/auto/ttx/ac_cars/cobra'],\n",
              "       ...,\n",
              "       ['http://www.autonet.ru/auto/ttx/zx/changling'],\n",
              "       ['http://www.autonet.ru/auto/ttx/zx/grand_tiger'],\n",
              "       ['http://www.autonet.ru/auto/ttx/zx/landmark']], dtype=object)"
            ]
          },
          "execution_count": 29,
          "metadata": {},
          "output_type": "execute_result"
        }
      ],
      "source": [
        "links.values"
      ]
    },
    {
      "cell_type": "code",
      "execution_count": null,
      "metadata": {
        "colab": {
          "base_uri": "https://localhost:8080/"
        },
        "id": "NwFdpXngfDdV",
        "outputId": "6747d048-f8d3-463d-e8fb-16848e5c0d9b"
      },
      "outputs": [
        {
          "data": {
            "text/plain": [
              "['http://www.autonet.ru/auto/ttx/ac_cars/ace',\n",
              " 'http://www.autonet.ru/auto/ttx/ac_cars/aceca',\n",
              " 'http://www.autonet.ru/auto/ttx/ac_cars/cobra',\n",
              " 'http://www.autonet.ru/auto/ttx/ac_cars/mamba',\n",
              " 'http://www.autonet.ru/auto/ttx/acura/cl',\n",
              " 'http://www.autonet.ru/auto/ttx/acura/csx',\n",
              " 'http://www.autonet.ru/auto/ttx/acura/el',\n",
              " 'http://www.autonet.ru/auto/ttx/acura/ilx',\n",
              " 'http://www.autonet.ru/auto/ttx/acura/integra',\n",
              " 'http://www.autonet.ru/auto/ttx/acura/mdx']"
            ]
          },
          "execution_count": 41,
          "metadata": {},
          "output_type": "execute_result"
        }
      ],
      "source": [
        "lik = links[:10]\n",
        "lik"
      ]
    },
    {
      "cell_type": "code",
      "execution_count": null,
      "metadata": {
        "colab": {
          "base_uri": "https://localhost:8080/"
        },
        "id": "j1lfwS9zfJ4B",
        "outputId": "81edfbde-e3ef-453f-f838-f21e74c55acf"
      },
      "outputs": [
        {
          "name": "stdout",
          "output_type": "stream",
          "text": [
            "http://www.autonet.ru/auto/ttx/ac_cars/aceca\n"
          ]
        }
      ],
      "source": [
        "mark = 'ac_cars'\n",
        "model = 'aceca'\n",
        "\n",
        "for el in lik:\n",
        "  # print(el)\n",
        "  if el.find(mark) != -1 and el.find(model) != -1:\n",
        "    print(el)"
      ]
    },
    {
      "cell_type": "code",
      "execution_count": null,
      "metadata": {
        "colab": {
          "base_uri": "https://localhost:8080/",
          "height": 200
        },
        "id": "XU6tX32RTBl7",
        "outputId": "37ec1d26-6d91-4999-bf26-bdf602140b83"
      },
      "outputs": [
        {
          "ename": "AttributeError",
          "evalue": "ignored",
          "output_type": "error",
          "traceback": [
            "\u001b[0;31m---------------------------------------------------------------------------\u001b[0m",
            "\u001b[0;31mAttributeError\u001b[0m                            Traceback (most recent call last)",
            "\u001b[0;32m<ipython-input-31-c4b779bee894>\u001b[0m in \u001b[0;36m<cell line: 1>\u001b[0;34m()\u001b[0m\n\u001b[1;32m      1\u001b[0m \u001b[0;32mfor\u001b[0m \u001b[0mel\u001b[0m \u001b[0;32min\u001b[0m \u001b[0mlinks\u001b[0m\u001b[0;34m.\u001b[0m\u001b[0mvalues\u001b[0m\u001b[0;34m:\u001b[0m\u001b[0;34m\u001b[0m\u001b[0;34m\u001b[0m\u001b[0m\n\u001b[0;32m----> 2\u001b[0;31m   \u001b[0;32mif\u001b[0m \u001b[0mel\u001b[0m\u001b[0;34m.\u001b[0m\u001b[0mfind\u001b[0m\u001b[0;34m(\u001b[0m\u001b[0;34m'volvo'\u001b[0m\u001b[0;34m)\u001b[0m\u001b[0;34m:\u001b[0m\u001b[0;34m\u001b[0m\u001b[0;34m\u001b[0m\u001b[0m\n\u001b[0m\u001b[1;32m      3\u001b[0m     \u001b[0mprint\u001b[0m\u001b[0;34m(\u001b[0m\u001b[0;34m'hello'\u001b[0m\u001b[0;34m)\u001b[0m\u001b[0;34m\u001b[0m\u001b[0;34m\u001b[0m\u001b[0m\n",
            "\u001b[0;31mAttributeError\u001b[0m: 'numpy.ndarray' object has no attribute 'find'"
          ]
        }
      ],
      "source": [
        "for el in links.values:\n",
        "  if el.find('volvo'):\n",
        "    print('hello')"
      ]
    },
    {
      "cell_type": "code",
      "execution_count": null,
      "metadata": {
        "id": "_p9BCq6Kg0WW"
      },
      "outputs": [],
      "source": [
        "mark, model, *_ = ['vw', 'polo', 'vi', 'fds']"
      ]
    },
    {
      "cell_type": "code",
      "execution_count": null,
      "metadata": {
        "id": "t_9wbzn8N6aJ"
      },
      "outputs": [],
      "source": [
        "def find_url(row):\n",
        "  mark, model, *_ = row['model'].lower().split(' ')\n",
        "\n",
        "  if mark == 'vw':\n",
        "    mark = 'volkswagen'\n",
        "  elif mark == 'bmw' and model == '320i':\n",
        "    model = '3_series'\n",
        "  elif mark == 'mini' and model == 'cooper':\n",
        "    # model = 'clubman'\n",
        "    model = 'hatch'\n",
        "  elif mark == 'mercedes-benz' and model == 'e200':\n",
        "    model = 'e'\n",
        "    return 'http://www.autonet.ru/auto/ttx/mercedes-benz/e'\n",
        "  elif mark == 'smart' and model == 'coupe':\n",
        "    model = 'fortwo'\n",
        "\n",
        "  # print(row['model'].lower().split(' '))\n",
        "  for el in links:\n",
        "    # if \n",
        "    if el.find(mark) != -1 and el.find(model) != -1:\n",
        "      # print(el)\n",
        "      return el "
      ]
    },
    {
      "cell_type": "code",
      "execution_count": null,
      "metadata": {
        "colab": {
          "base_uri": "https://localhost:8080/"
        },
        "id": "V1fLjHcxOxjS",
        "outputId": "a38f693d-80e7-4a78-ba87-eddb773be5ed"
      },
      "outputs": [
        {
          "name": "stderr",
          "output_type": "stream",
          "text": [
            "<ipython-input-158-8b6a5de1079f>:1: SettingWithCopyWarning: \n",
            "A value is trying to be set on a copy of a slice from a DataFrame.\n",
            "Try using .loc[row_indexer,col_indexer] = value instead\n",
            "\n",
            "See the caveats in the documentation: https://pandas.pydata.org/pandas-docs/stable/user_guide/indexing.html#returning-a-view-versus-a-copy\n",
            "  df['url'] = df.apply(find_url, axis=1)\n"
          ]
        }
      ],
      "source": [
        "df['url'] = df.apply(find_url, axis=1)"
      ]
    },
    {
      "cell_type": "code",
      "execution_count": null,
      "metadata": {
        "colab": {
          "base_uri": "https://localhost:8080/",
          "height": 423
        },
        "id": "9haOIhAyhxP9",
        "outputId": "1f0e4c81-7c19-4696-e1d5-2988ff15a8df"
      },
      "outputs": [
        {
          "data": {
            "text/html": [
              "\n",
              "  <div id=\"df-5dee10be-afbd-47b2-b733-8be45c4546c4\">\n",
              "    <div class=\"colab-df-container\">\n",
              "      <div>\n",
              "<style scoped>\n",
              "    .dataframe tbody tr th:only-of-type {\n",
              "        vertical-align: middle;\n",
              "    }\n",
              "\n",
              "    .dataframe tbody tr th {\n",
              "        vertical-align: top;\n",
              "    }\n",
              "\n",
              "    .dataframe thead th {\n",
              "        text-align: right;\n",
              "    }\n",
              "</style>\n",
              "<table border=\"1\" class=\"dataframe\">\n",
              "  <thead>\n",
              "    <tr style=\"text-align: right;\">\n",
              "      <th></th>\n",
              "      <th>car_id</th>\n",
              "      <th>model</th>\n",
              "      <th>url</th>\n",
              "    </tr>\n",
              "  </thead>\n",
              "  <tbody>\n",
              "    <tr>\n",
              "      <th>0</th>\n",
              "      <td>y13744087j</td>\n",
              "      <td>Kia Rio X-line</td>\n",
              "      <td>http://www.autonet.ru/auto/ttx/kia/rio</td>\n",
              "    </tr>\n",
              "    <tr>\n",
              "      <th>1</th>\n",
              "      <td>O41613818T</td>\n",
              "      <td>VW Polo VI</td>\n",
              "      <td>http://www.autonet.ru/auto/ttx/volkswagen/polo</td>\n",
              "    </tr>\n",
              "    <tr>\n",
              "      <th>2</th>\n",
              "      <td>d-2109686j</td>\n",
              "      <td>Renault Sandero</td>\n",
              "      <td>http://www.autonet.ru/auto/ttx/renault/sandero</td>\n",
              "    </tr>\n",
              "    <tr>\n",
              "      <th>3</th>\n",
              "      <td>u29695600e</td>\n",
              "      <td>Mercedes-Benz GLC</td>\n",
              "      <td>http://www.autonet.ru/auto/ttx/mercedes-benz/glc</td>\n",
              "    </tr>\n",
              "    <tr>\n",
              "      <th>4</th>\n",
              "      <td>N-8915870N</td>\n",
              "      <td>Renault Sandero</td>\n",
              "      <td>http://www.autonet.ru/auto/ttx/renault/sandero</td>\n",
              "    </tr>\n",
              "    <tr>\n",
              "      <th>...</th>\n",
              "      <td>...</td>\n",
              "      <td>...</td>\n",
              "      <td>...</td>\n",
              "    </tr>\n",
              "    <tr>\n",
              "      <th>2332</th>\n",
              "      <td>j21246192N</td>\n",
              "      <td>Smart ForFour</td>\n",
              "      <td>http://www.autonet.ru/auto/ttx/smart/forfour</td>\n",
              "    </tr>\n",
              "    <tr>\n",
              "      <th>2333</th>\n",
              "      <td>h-1554287F</td>\n",
              "      <td>Audi A4</td>\n",
              "      <td>http://www.autonet.ru/auto/ttx/audi/a4</td>\n",
              "    </tr>\n",
              "    <tr>\n",
              "      <th>2334</th>\n",
              "      <td>A15262612g</td>\n",
              "      <td>Kia Rio</td>\n",
              "      <td>http://www.autonet.ru/auto/ttx/kia/rio</td>\n",
              "    </tr>\n",
              "    <tr>\n",
              "      <th>2335</th>\n",
              "      <td>W-2514493U</td>\n",
              "      <td>Renault Sandero</td>\n",
              "      <td>http://www.autonet.ru/auto/ttx/renault/sandero</td>\n",
              "    </tr>\n",
              "    <tr>\n",
              "      <th>2336</th>\n",
              "      <td>z-1337463D</td>\n",
              "      <td>VW Polo</td>\n",
              "      <td>http://www.autonet.ru/auto/ttx/volkswagen/polo</td>\n",
              "    </tr>\n",
              "  </tbody>\n",
              "</table>\n",
              "<p>2337 rows × 3 columns</p>\n",
              "</div>\n",
              "      <button class=\"colab-df-convert\" onclick=\"convertToInteractive('df-5dee10be-afbd-47b2-b733-8be45c4546c4')\"\n",
              "              title=\"Convert this dataframe to an interactive table.\"\n",
              "              style=\"display:none;\">\n",
              "        \n",
              "  <svg xmlns=\"http://www.w3.org/2000/svg\" height=\"24px\"viewBox=\"0 0 24 24\"\n",
              "       width=\"24px\">\n",
              "    <path d=\"M0 0h24v24H0V0z\" fill=\"none\"/>\n",
              "    <path d=\"M18.56 5.44l.94 2.06.94-2.06 2.06-.94-2.06-.94-.94-2.06-.94 2.06-2.06.94zm-11 1L8.5 8.5l.94-2.06 2.06-.94-2.06-.94L8.5 2.5l-.94 2.06-2.06.94zm10 10l.94 2.06.94-2.06 2.06-.94-2.06-.94-.94-2.06-.94 2.06-2.06.94z\"/><path d=\"M17.41 7.96l-1.37-1.37c-.4-.4-.92-.59-1.43-.59-.52 0-1.04.2-1.43.59L10.3 9.45l-7.72 7.72c-.78.78-.78 2.05 0 2.83L4 21.41c.39.39.9.59 1.41.59.51 0 1.02-.2 1.41-.59l7.78-7.78 2.81-2.81c.8-.78.8-2.07 0-2.86zM5.41 20L4 18.59l7.72-7.72 1.47 1.35L5.41 20z\"/>\n",
              "  </svg>\n",
              "      </button>\n",
              "      \n",
              "  <style>\n",
              "    .colab-df-container {\n",
              "      display:flex;\n",
              "      flex-wrap:wrap;\n",
              "      gap: 12px;\n",
              "    }\n",
              "\n",
              "    .colab-df-convert {\n",
              "      background-color: #E8F0FE;\n",
              "      border: none;\n",
              "      border-radius: 50%;\n",
              "      cursor: pointer;\n",
              "      display: none;\n",
              "      fill: #1967D2;\n",
              "      height: 32px;\n",
              "      padding: 0 0 0 0;\n",
              "      width: 32px;\n",
              "    }\n",
              "\n",
              "    .colab-df-convert:hover {\n",
              "      background-color: #E2EBFA;\n",
              "      box-shadow: 0px 1px 2px rgba(60, 64, 67, 0.3), 0px 1px 3px 1px rgba(60, 64, 67, 0.15);\n",
              "      fill: #174EA6;\n",
              "    }\n",
              "\n",
              "    [theme=dark] .colab-df-convert {\n",
              "      background-color: #3B4455;\n",
              "      fill: #D2E3FC;\n",
              "    }\n",
              "\n",
              "    [theme=dark] .colab-df-convert:hover {\n",
              "      background-color: #434B5C;\n",
              "      box-shadow: 0px 1px 3px 1px rgba(0, 0, 0, 0.15);\n",
              "      filter: drop-shadow(0px 1px 2px rgba(0, 0, 0, 0.3));\n",
              "      fill: #FFFFFF;\n",
              "    }\n",
              "  </style>\n",
              "\n",
              "      <script>\n",
              "        const buttonEl =\n",
              "          document.querySelector('#df-5dee10be-afbd-47b2-b733-8be45c4546c4 button.colab-df-convert');\n",
              "        buttonEl.style.display =\n",
              "          google.colab.kernel.accessAllowed ? 'block' : 'none';\n",
              "\n",
              "        async function convertToInteractive(key) {\n",
              "          const element = document.querySelector('#df-5dee10be-afbd-47b2-b733-8be45c4546c4');\n",
              "          const dataTable =\n",
              "            await google.colab.kernel.invokeFunction('convertToInteractive',\n",
              "                                                     [key], {});\n",
              "          if (!dataTable) return;\n",
              "\n",
              "          const docLinkHtml = 'Like what you see? Visit the ' +\n",
              "            '<a target=\"_blank\" href=https://colab.research.google.com/notebooks/data_table.ipynb>data table notebook</a>'\n",
              "            + ' to learn more about interactive tables.';\n",
              "          element.innerHTML = '';\n",
              "          dataTable['output_type'] = 'display_data';\n",
              "          await google.colab.output.renderOutput(dataTable, element);\n",
              "          const docLink = document.createElement('div');\n",
              "          docLink.innerHTML = docLinkHtml;\n",
              "          element.appendChild(docLink);\n",
              "        }\n",
              "      </script>\n",
              "    </div>\n",
              "  </div>\n",
              "  "
            ],
            "text/plain": [
              "          car_id              model  \\\n",
              "0     y13744087j     Kia Rio X-line   \n",
              "1     O41613818T         VW Polo VI   \n",
              "2     d-2109686j    Renault Sandero   \n",
              "3     u29695600e  Mercedes-Benz GLC   \n",
              "4     N-8915870N    Renault Sandero   \n",
              "...          ...                ...   \n",
              "2332  j21246192N      Smart ForFour   \n",
              "2333  h-1554287F            Audi A4   \n",
              "2334  A15262612g            Kia Rio   \n",
              "2335  W-2514493U    Renault Sandero   \n",
              "2336  z-1337463D            VW Polo   \n",
              "\n",
              "                                                   url  \n",
              "0               http://www.autonet.ru/auto/ttx/kia/rio  \n",
              "1       http://www.autonet.ru/auto/ttx/volkswagen/polo  \n",
              "2       http://www.autonet.ru/auto/ttx/renault/sandero  \n",
              "3     http://www.autonet.ru/auto/ttx/mercedes-benz/glc  \n",
              "4       http://www.autonet.ru/auto/ttx/renault/sandero  \n",
              "...                                                ...  \n",
              "2332      http://www.autonet.ru/auto/ttx/smart/forfour  \n",
              "2333            http://www.autonet.ru/auto/ttx/audi/a4  \n",
              "2334            http://www.autonet.ru/auto/ttx/kia/rio  \n",
              "2335    http://www.autonet.ru/auto/ttx/renault/sandero  \n",
              "2336    http://www.autonet.ru/auto/ttx/volkswagen/polo  \n",
              "\n",
              "[2337 rows x 3 columns]"
            ]
          },
          "execution_count": 159,
          "metadata": {},
          "output_type": "execute_result"
        }
      ],
      "source": [
        "df"
      ]
    },
    {
      "cell_type": "code",
      "execution_count": null,
      "metadata": {
        "id": "AdYNLWWHu6do"
      },
      "outputs": [],
      "source": [
        "import numpy as np"
      ]
    },
    {
      "cell_type": "code",
      "execution_count": null,
      "metadata": {
        "colab": {
          "base_uri": "https://localhost:8080/",
          "height": 770
        },
        "id": "iYKqFeC3jCvD",
        "outputId": "3922f3e9-a1fd-42df-d312-a5ff343f64a5"
      },
      "outputs": [
        {
          "data": {
            "text/html": [
              "\n",
              "  <div id=\"df-b70ed0e2-d140-4fa3-b3de-a2e263a64a47\">\n",
              "    <div class=\"colab-df-container\">\n",
              "      <div>\n",
              "<style scoped>\n",
              "    .dataframe tbody tr th:only-of-type {\n",
              "        vertical-align: middle;\n",
              "    }\n",
              "\n",
              "    .dataframe tbody tr th {\n",
              "        vertical-align: top;\n",
              "    }\n",
              "\n",
              "    .dataframe thead th {\n",
              "        text-align: right;\n",
              "    }\n",
              "</style>\n",
              "<table border=\"1\" class=\"dataframe\">\n",
              "  <thead>\n",
              "    <tr style=\"text-align: right;\">\n",
              "      <th></th>\n",
              "      <th>car_id</th>\n",
              "      <th>model</th>\n",
              "      <th>url</th>\n",
              "    </tr>\n",
              "  </thead>\n",
              "  <tbody>\n",
              "    <tr>\n",
              "      <th>21</th>\n",
              "      <td>s-1094161i</td>\n",
              "      <td>Mercedes-Benz E200</td>\n",
              "      <td>http://www.autonet.ru/auto/ttx/mercedes-benz/e</td>\n",
              "    </tr>\n",
              "    <tr>\n",
              "      <th>216</th>\n",
              "      <td>g25517695C</td>\n",
              "      <td>Mercedes-Benz E200</td>\n",
              "      <td>http://www.autonet.ru/auto/ttx/mercedes-benz/e</td>\n",
              "    </tr>\n",
              "    <tr>\n",
              "      <th>247</th>\n",
              "      <td>K-1675111t</td>\n",
              "      <td>Mercedes-Benz E200</td>\n",
              "      <td>http://www.autonet.ru/auto/ttx/mercedes-benz/e</td>\n",
              "    </tr>\n",
              "    <tr>\n",
              "      <th>273</th>\n",
              "      <td>b-1571829x</td>\n",
              "      <td>Mercedes-Benz E200</td>\n",
              "      <td>http://www.autonet.ru/auto/ttx/mercedes-benz/e</td>\n",
              "    </tr>\n",
              "    <tr>\n",
              "      <th>318</th>\n",
              "      <td>V-1058917A</td>\n",
              "      <td>Mercedes-Benz E200</td>\n",
              "      <td>http://www.autonet.ru/auto/ttx/mercedes-benz/e</td>\n",
              "    </tr>\n",
              "    <tr>\n",
              "      <th>370</th>\n",
              "      <td>y11935658q</td>\n",
              "      <td>Mercedes-Benz E200</td>\n",
              "      <td>http://www.autonet.ru/auto/ttx/mercedes-benz/e</td>\n",
              "    </tr>\n",
              "    <tr>\n",
              "      <th>508</th>\n",
              "      <td>O21645254m</td>\n",
              "      <td>Mercedes-Benz E200</td>\n",
              "      <td>http://www.autonet.ru/auto/ttx/mercedes-benz/e</td>\n",
              "    </tr>\n",
              "    <tr>\n",
              "      <th>524</th>\n",
              "      <td>S11905138M</td>\n",
              "      <td>Mercedes-Benz E200</td>\n",
              "      <td>http://www.autonet.ru/auto/ttx/mercedes-benz/e</td>\n",
              "    </tr>\n",
              "    <tr>\n",
              "      <th>803</th>\n",
              "      <td>p-7109749V</td>\n",
              "      <td>Mercedes-Benz E200</td>\n",
              "      <td>http://www.autonet.ru/auto/ttx/mercedes-benz/e</td>\n",
              "    </tr>\n",
              "    <tr>\n",
              "      <th>887</th>\n",
              "      <td>P-8581853M</td>\n",
              "      <td>Mercedes-Benz E200</td>\n",
              "      <td>http://www.autonet.ru/auto/ttx/mercedes-benz/e</td>\n",
              "    </tr>\n",
              "    <tr>\n",
              "      <th>926</th>\n",
              "      <td>T14802622s</td>\n",
              "      <td>Mercedes-Benz E200</td>\n",
              "      <td>http://www.autonet.ru/auto/ttx/mercedes-benz/e</td>\n",
              "    </tr>\n",
              "    <tr>\n",
              "      <th>963</th>\n",
              "      <td>C-1546256l</td>\n",
              "      <td>Mercedes-Benz E200</td>\n",
              "      <td>http://www.autonet.ru/auto/ttx/mercedes-benz/e</td>\n",
              "    </tr>\n",
              "    <tr>\n",
              "      <th>1060</th>\n",
              "      <td>B-6025126p</td>\n",
              "      <td>Mercedes-Benz E200</td>\n",
              "      <td>http://www.autonet.ru/auto/ttx/mercedes-benz/e</td>\n",
              "    </tr>\n",
              "    <tr>\n",
              "      <th>1106</th>\n",
              "      <td>B11921379d</td>\n",
              "      <td>Mercedes-Benz E200</td>\n",
              "      <td>http://www.autonet.ru/auto/ttx/mercedes-benz/e</td>\n",
              "    </tr>\n",
              "    <tr>\n",
              "      <th>1572</th>\n",
              "      <td>V-9605877z</td>\n",
              "      <td>Mercedes-Benz E200</td>\n",
              "      <td>http://www.autonet.ru/auto/ttx/mercedes-benz/e</td>\n",
              "    </tr>\n",
              "    <tr>\n",
              "      <th>1596</th>\n",
              "      <td>S13436513x</td>\n",
              "      <td>Mercedes-Benz E200</td>\n",
              "      <td>http://www.autonet.ru/auto/ttx/mercedes-benz/e</td>\n",
              "    </tr>\n",
              "    <tr>\n",
              "      <th>1727</th>\n",
              "      <td>t-7837678N</td>\n",
              "      <td>Mercedes-Benz E200</td>\n",
              "      <td>http://www.autonet.ru/auto/ttx/mercedes-benz/e</td>\n",
              "    </tr>\n",
              "    <tr>\n",
              "      <th>1786</th>\n",
              "      <td>k56274815U</td>\n",
              "      <td>Mercedes-Benz E200</td>\n",
              "      <td>http://www.autonet.ru/auto/ttx/mercedes-benz/e</td>\n",
              "    </tr>\n",
              "    <tr>\n",
              "      <th>1841</th>\n",
              "      <td>i19007345u</td>\n",
              "      <td>Mercedes-Benz E200</td>\n",
              "      <td>http://www.autonet.ru/auto/ttx/mercedes-benz/e</td>\n",
              "    </tr>\n",
              "    <tr>\n",
              "      <th>2211</th>\n",
              "      <td>K18176647E</td>\n",
              "      <td>Mercedes-Benz E200</td>\n",
              "      <td>http://www.autonet.ru/auto/ttx/mercedes-benz/e</td>\n",
              "    </tr>\n",
              "    <tr>\n",
              "      <th>2247</th>\n",
              "      <td>W15477386C</td>\n",
              "      <td>Mercedes-Benz E200</td>\n",
              "      <td>http://www.autonet.ru/auto/ttx/mercedes-benz/e</td>\n",
              "    </tr>\n",
              "    <tr>\n",
              "      <th>2283</th>\n",
              "      <td>A-5101478b</td>\n",
              "      <td>Mercedes-Benz E200</td>\n",
              "      <td>http://www.autonet.ru/auto/ttx/mercedes-benz/e</td>\n",
              "    </tr>\n",
              "    <tr>\n",
              "      <th>2331</th>\n",
              "      <td>B-3513567K</td>\n",
              "      <td>Mercedes-Benz E200</td>\n",
              "      <td>http://www.autonet.ru/auto/ttx/mercedes-benz/e</td>\n",
              "    </tr>\n",
              "  </tbody>\n",
              "</table>\n",
              "</div>\n",
              "      <button class=\"colab-df-convert\" onclick=\"convertToInteractive('df-b70ed0e2-d140-4fa3-b3de-a2e263a64a47')\"\n",
              "              title=\"Convert this dataframe to an interactive table.\"\n",
              "              style=\"display:none;\">\n",
              "        \n",
              "  <svg xmlns=\"http://www.w3.org/2000/svg\" height=\"24px\"viewBox=\"0 0 24 24\"\n",
              "       width=\"24px\">\n",
              "    <path d=\"M0 0h24v24H0V0z\" fill=\"none\"/>\n",
              "    <path d=\"M18.56 5.44l.94 2.06.94-2.06 2.06-.94-2.06-.94-.94-2.06-.94 2.06-2.06.94zm-11 1L8.5 8.5l.94-2.06 2.06-.94-2.06-.94L8.5 2.5l-.94 2.06-2.06.94zm10 10l.94 2.06.94-2.06 2.06-.94-2.06-.94-.94-2.06-.94 2.06-2.06.94z\"/><path d=\"M17.41 7.96l-1.37-1.37c-.4-.4-.92-.59-1.43-.59-.52 0-1.04.2-1.43.59L10.3 9.45l-7.72 7.72c-.78.78-.78 2.05 0 2.83L4 21.41c.39.39.9.59 1.41.59.51 0 1.02-.2 1.41-.59l7.78-7.78 2.81-2.81c.8-.78.8-2.07 0-2.86zM5.41 20L4 18.59l7.72-7.72 1.47 1.35L5.41 20z\"/>\n",
              "  </svg>\n",
              "      </button>\n",
              "      \n",
              "  <style>\n",
              "    .colab-df-container {\n",
              "      display:flex;\n",
              "      flex-wrap:wrap;\n",
              "      gap: 12px;\n",
              "    }\n",
              "\n",
              "    .colab-df-convert {\n",
              "      background-color: #E8F0FE;\n",
              "      border: none;\n",
              "      border-radius: 50%;\n",
              "      cursor: pointer;\n",
              "      display: none;\n",
              "      fill: #1967D2;\n",
              "      height: 32px;\n",
              "      padding: 0 0 0 0;\n",
              "      width: 32px;\n",
              "    }\n",
              "\n",
              "    .colab-df-convert:hover {\n",
              "      background-color: #E2EBFA;\n",
              "      box-shadow: 0px 1px 2px rgba(60, 64, 67, 0.3), 0px 1px 3px 1px rgba(60, 64, 67, 0.15);\n",
              "      fill: #174EA6;\n",
              "    }\n",
              "\n",
              "    [theme=dark] .colab-df-convert {\n",
              "      background-color: #3B4455;\n",
              "      fill: #D2E3FC;\n",
              "    }\n",
              "\n",
              "    [theme=dark] .colab-df-convert:hover {\n",
              "      background-color: #434B5C;\n",
              "      box-shadow: 0px 1px 3px 1px rgba(0, 0, 0, 0.15);\n",
              "      filter: drop-shadow(0px 1px 2px rgba(0, 0, 0, 0.3));\n",
              "      fill: #FFFFFF;\n",
              "    }\n",
              "  </style>\n",
              "\n",
              "      <script>\n",
              "        const buttonEl =\n",
              "          document.querySelector('#df-b70ed0e2-d140-4fa3-b3de-a2e263a64a47 button.colab-df-convert');\n",
              "        buttonEl.style.display =\n",
              "          google.colab.kernel.accessAllowed ? 'block' : 'none';\n",
              "\n",
              "        async function convertToInteractive(key) {\n",
              "          const element = document.querySelector('#df-b70ed0e2-d140-4fa3-b3de-a2e263a64a47');\n",
              "          const dataTable =\n",
              "            await google.colab.kernel.invokeFunction('convertToInteractive',\n",
              "                                                     [key], {});\n",
              "          if (!dataTable) return;\n",
              "\n",
              "          const docLinkHtml = 'Like what you see? Visit the ' +\n",
              "            '<a target=\"_blank\" href=https://colab.research.google.com/notebooks/data_table.ipynb>data table notebook</a>'\n",
              "            + ' to learn more about interactive tables.';\n",
              "          element.innerHTML = '';\n",
              "          dataTable['output_type'] = 'display_data';\n",
              "          await google.colab.output.renderOutput(dataTable, element);\n",
              "          const docLink = document.createElement('div');\n",
              "          docLink.innerHTML = docLinkHtml;\n",
              "          element.appendChild(docLink);\n",
              "        }\n",
              "      </script>\n",
              "    </div>\n",
              "  </div>\n",
              "  "
            ],
            "text/plain": [
              "          car_id               model  \\\n",
              "21    s-1094161i  Mercedes-Benz E200   \n",
              "216   g25517695C  Mercedes-Benz E200   \n",
              "247   K-1675111t  Mercedes-Benz E200   \n",
              "273   b-1571829x  Mercedes-Benz E200   \n",
              "318   V-1058917A  Mercedes-Benz E200   \n",
              "370   y11935658q  Mercedes-Benz E200   \n",
              "508   O21645254m  Mercedes-Benz E200   \n",
              "524   S11905138M  Mercedes-Benz E200   \n",
              "803   p-7109749V  Mercedes-Benz E200   \n",
              "887   P-8581853M  Mercedes-Benz E200   \n",
              "926   T14802622s  Mercedes-Benz E200   \n",
              "963   C-1546256l  Mercedes-Benz E200   \n",
              "1060  B-6025126p  Mercedes-Benz E200   \n",
              "1106  B11921379d  Mercedes-Benz E200   \n",
              "1572  V-9605877z  Mercedes-Benz E200   \n",
              "1596  S13436513x  Mercedes-Benz E200   \n",
              "1727  t-7837678N  Mercedes-Benz E200   \n",
              "1786  k56274815U  Mercedes-Benz E200   \n",
              "1841  i19007345u  Mercedes-Benz E200   \n",
              "2211  K18176647E  Mercedes-Benz E200   \n",
              "2247  W15477386C  Mercedes-Benz E200   \n",
              "2283  A-5101478b  Mercedes-Benz E200   \n",
              "2331  B-3513567K  Mercedes-Benz E200   \n",
              "\n",
              "                                                 url  \n",
              "21    http://www.autonet.ru/auto/ttx/mercedes-benz/e  \n",
              "216   http://www.autonet.ru/auto/ttx/mercedes-benz/e  \n",
              "247   http://www.autonet.ru/auto/ttx/mercedes-benz/e  \n",
              "273   http://www.autonet.ru/auto/ttx/mercedes-benz/e  \n",
              "318   http://www.autonet.ru/auto/ttx/mercedes-benz/e  \n",
              "370   http://www.autonet.ru/auto/ttx/mercedes-benz/e  \n",
              "508   http://www.autonet.ru/auto/ttx/mercedes-benz/e  \n",
              "524   http://www.autonet.ru/auto/ttx/mercedes-benz/e  \n",
              "803   http://www.autonet.ru/auto/ttx/mercedes-benz/e  \n",
              "887   http://www.autonet.ru/auto/ttx/mercedes-benz/e  \n",
              "926   http://www.autonet.ru/auto/ttx/mercedes-benz/e  \n",
              "963   http://www.autonet.ru/auto/ttx/mercedes-benz/e  \n",
              "1060  http://www.autonet.ru/auto/ttx/mercedes-benz/e  \n",
              "1106  http://www.autonet.ru/auto/ttx/mercedes-benz/e  \n",
              "1572  http://www.autonet.ru/auto/ttx/mercedes-benz/e  \n",
              "1596  http://www.autonet.ru/auto/ttx/mercedes-benz/e  \n",
              "1727  http://www.autonet.ru/auto/ttx/mercedes-benz/e  \n",
              "1786  http://www.autonet.ru/auto/ttx/mercedes-benz/e  \n",
              "1841  http://www.autonet.ru/auto/ttx/mercedes-benz/e  \n",
              "2211  http://www.autonet.ru/auto/ttx/mercedes-benz/e  \n",
              "2247  http://www.autonet.ru/auto/ttx/mercedes-benz/e  \n",
              "2283  http://www.autonet.ru/auto/ttx/mercedes-benz/e  \n",
              "2331  http://www.autonet.ru/auto/ttx/mercedes-benz/e  "
            ]
          },
          "execution_count": 160,
          "metadata": {},
          "output_type": "execute_result"
        }
      ],
      "source": [
        "df[df['model'] == 'Mercedes-Benz E200']"
      ]
    },
    {
      "cell_type": "code",
      "execution_count": null,
      "metadata": {
        "colab": {
          "base_uri": "https://localhost:8080/",
          "height": 423
        },
        "id": "y4aM1e9LvZhy",
        "outputId": "ea54f56f-f825-4456-b40c-bbd7e9ffa1b1"
      },
      "outputs": [
        {
          "data": {
            "text/html": [
              "\n",
              "  <div id=\"df-cd200f5f-2974-4121-8788-7956b6f710b4\">\n",
              "    <div class=\"colab-df-container\">\n",
              "      <div>\n",
              "<style scoped>\n",
              "    .dataframe tbody tr th:only-of-type {\n",
              "        vertical-align: middle;\n",
              "    }\n",
              "\n",
              "    .dataframe tbody tr th {\n",
              "        vertical-align: top;\n",
              "    }\n",
              "\n",
              "    .dataframe thead th {\n",
              "        text-align: right;\n",
              "    }\n",
              "</style>\n",
              "<table border=\"1\" class=\"dataframe\">\n",
              "  <thead>\n",
              "    <tr style=\"text-align: right;\">\n",
              "      <th></th>\n",
              "      <th>car_id</th>\n",
              "      <th>model</th>\n",
              "      <th>url</th>\n",
              "    </tr>\n",
              "  </thead>\n",
              "  <tbody>\n",
              "    <tr>\n",
              "      <th>0</th>\n",
              "      <td>y13744087j</td>\n",
              "      <td>Kia Rio X-line</td>\n",
              "      <td>http://www.autonet.ru/auto/ttx/kia/rio</td>\n",
              "    </tr>\n",
              "    <tr>\n",
              "      <th>1</th>\n",
              "      <td>O41613818T</td>\n",
              "      <td>VW Polo VI</td>\n",
              "      <td>http://www.autonet.ru/auto/ttx/volkswagen/polo</td>\n",
              "    </tr>\n",
              "    <tr>\n",
              "      <th>2</th>\n",
              "      <td>d-2109686j</td>\n",
              "      <td>Renault Sandero</td>\n",
              "      <td>http://www.autonet.ru/auto/ttx/renault/sandero</td>\n",
              "    </tr>\n",
              "    <tr>\n",
              "      <th>3</th>\n",
              "      <td>u29695600e</td>\n",
              "      <td>Mercedes-Benz GLC</td>\n",
              "      <td>http://www.autonet.ru/auto/ttx/mercedes-benz/glc</td>\n",
              "    </tr>\n",
              "    <tr>\n",
              "      <th>4</th>\n",
              "      <td>N-8915870N</td>\n",
              "      <td>Renault Sandero</td>\n",
              "      <td>http://www.autonet.ru/auto/ttx/renault/sandero</td>\n",
              "    </tr>\n",
              "    <tr>\n",
              "      <th>...</th>\n",
              "      <td>...</td>\n",
              "      <td>...</td>\n",
              "      <td>...</td>\n",
              "    </tr>\n",
              "    <tr>\n",
              "      <th>2332</th>\n",
              "      <td>j21246192N</td>\n",
              "      <td>Smart ForFour</td>\n",
              "      <td>http://www.autonet.ru/auto/ttx/smart/forfour</td>\n",
              "    </tr>\n",
              "    <tr>\n",
              "      <th>2333</th>\n",
              "      <td>h-1554287F</td>\n",
              "      <td>Audi A4</td>\n",
              "      <td>http://www.autonet.ru/auto/ttx/audi/a4</td>\n",
              "    </tr>\n",
              "    <tr>\n",
              "      <th>2334</th>\n",
              "      <td>A15262612g</td>\n",
              "      <td>Kia Rio</td>\n",
              "      <td>http://www.autonet.ru/auto/ttx/kia/rio</td>\n",
              "    </tr>\n",
              "    <tr>\n",
              "      <th>2335</th>\n",
              "      <td>W-2514493U</td>\n",
              "      <td>Renault Sandero</td>\n",
              "      <td>http://www.autonet.ru/auto/ttx/renault/sandero</td>\n",
              "    </tr>\n",
              "    <tr>\n",
              "      <th>2336</th>\n",
              "      <td>z-1337463D</td>\n",
              "      <td>VW Polo</td>\n",
              "      <td>http://www.autonet.ru/auto/ttx/volkswagen/polo</td>\n",
              "    </tr>\n",
              "  </tbody>\n",
              "</table>\n",
              "<p>2337 rows × 3 columns</p>\n",
              "</div>\n",
              "      <button class=\"colab-df-convert\" onclick=\"convertToInteractive('df-cd200f5f-2974-4121-8788-7956b6f710b4')\"\n",
              "              title=\"Convert this dataframe to an interactive table.\"\n",
              "              style=\"display:none;\">\n",
              "        \n",
              "  <svg xmlns=\"http://www.w3.org/2000/svg\" height=\"24px\"viewBox=\"0 0 24 24\"\n",
              "       width=\"24px\">\n",
              "    <path d=\"M0 0h24v24H0V0z\" fill=\"none\"/>\n",
              "    <path d=\"M18.56 5.44l.94 2.06.94-2.06 2.06-.94-2.06-.94-.94-2.06-.94 2.06-2.06.94zm-11 1L8.5 8.5l.94-2.06 2.06-.94-2.06-.94L8.5 2.5l-.94 2.06-2.06.94zm10 10l.94 2.06.94-2.06 2.06-.94-2.06-.94-.94-2.06-.94 2.06-2.06.94z\"/><path d=\"M17.41 7.96l-1.37-1.37c-.4-.4-.92-.59-1.43-.59-.52 0-1.04.2-1.43.59L10.3 9.45l-7.72 7.72c-.78.78-.78 2.05 0 2.83L4 21.41c.39.39.9.59 1.41.59.51 0 1.02-.2 1.41-.59l7.78-7.78 2.81-2.81c.8-.78.8-2.07 0-2.86zM5.41 20L4 18.59l7.72-7.72 1.47 1.35L5.41 20z\"/>\n",
              "  </svg>\n",
              "      </button>\n",
              "      \n",
              "  <style>\n",
              "    .colab-df-container {\n",
              "      display:flex;\n",
              "      flex-wrap:wrap;\n",
              "      gap: 12px;\n",
              "    }\n",
              "\n",
              "    .colab-df-convert {\n",
              "      background-color: #E8F0FE;\n",
              "      border: none;\n",
              "      border-radius: 50%;\n",
              "      cursor: pointer;\n",
              "      display: none;\n",
              "      fill: #1967D2;\n",
              "      height: 32px;\n",
              "      padding: 0 0 0 0;\n",
              "      width: 32px;\n",
              "    }\n",
              "\n",
              "    .colab-df-convert:hover {\n",
              "      background-color: #E2EBFA;\n",
              "      box-shadow: 0px 1px 2px rgba(60, 64, 67, 0.3), 0px 1px 3px 1px rgba(60, 64, 67, 0.15);\n",
              "      fill: #174EA6;\n",
              "    }\n",
              "\n",
              "    [theme=dark] .colab-df-convert {\n",
              "      background-color: #3B4455;\n",
              "      fill: #D2E3FC;\n",
              "    }\n",
              "\n",
              "    [theme=dark] .colab-df-convert:hover {\n",
              "      background-color: #434B5C;\n",
              "      box-shadow: 0px 1px 3px 1px rgba(0, 0, 0, 0.15);\n",
              "      filter: drop-shadow(0px 1px 2px rgba(0, 0, 0, 0.3));\n",
              "      fill: #FFFFFF;\n",
              "    }\n",
              "  </style>\n",
              "\n",
              "      <script>\n",
              "        const buttonEl =\n",
              "          document.querySelector('#df-cd200f5f-2974-4121-8788-7956b6f710b4 button.colab-df-convert');\n",
              "        buttonEl.style.display =\n",
              "          google.colab.kernel.accessAllowed ? 'block' : 'none';\n",
              "\n",
              "        async function convertToInteractive(key) {\n",
              "          const element = document.querySelector('#df-cd200f5f-2974-4121-8788-7956b6f710b4');\n",
              "          const dataTable =\n",
              "            await google.colab.kernel.invokeFunction('convertToInteractive',\n",
              "                                                     [key], {});\n",
              "          if (!dataTable) return;\n",
              "\n",
              "          const docLinkHtml = 'Like what you see? Visit the ' +\n",
              "            '<a target=\"_blank\" href=https://colab.research.google.com/notebooks/data_table.ipynb>data table notebook</a>'\n",
              "            + ' to learn more about interactive tables.';\n",
              "          element.innerHTML = '';\n",
              "          dataTable['output_type'] = 'display_data';\n",
              "          await google.colab.output.renderOutput(dataTable, element);\n",
              "          const docLink = document.createElement('div');\n",
              "          docLink.innerHTML = docLinkHtml;\n",
              "          element.appendChild(docLink);\n",
              "        }\n",
              "      </script>\n",
              "    </div>\n",
              "  </div>\n",
              "  "
            ],
            "text/plain": [
              "          car_id              model  \\\n",
              "0     y13744087j     Kia Rio X-line   \n",
              "1     O41613818T         VW Polo VI   \n",
              "2     d-2109686j    Renault Sandero   \n",
              "3     u29695600e  Mercedes-Benz GLC   \n",
              "4     N-8915870N    Renault Sandero   \n",
              "...          ...                ...   \n",
              "2332  j21246192N      Smart ForFour   \n",
              "2333  h-1554287F            Audi A4   \n",
              "2334  A15262612g            Kia Rio   \n",
              "2335  W-2514493U    Renault Sandero   \n",
              "2336  z-1337463D            VW Polo   \n",
              "\n",
              "                                                   url  \n",
              "0               http://www.autonet.ru/auto/ttx/kia/rio  \n",
              "1       http://www.autonet.ru/auto/ttx/volkswagen/polo  \n",
              "2       http://www.autonet.ru/auto/ttx/renault/sandero  \n",
              "3     http://www.autonet.ru/auto/ttx/mercedes-benz/glc  \n",
              "4       http://www.autonet.ru/auto/ttx/renault/sandero  \n",
              "...                                                ...  \n",
              "2332      http://www.autonet.ru/auto/ttx/smart/forfour  \n",
              "2333            http://www.autonet.ru/auto/ttx/audi/a4  \n",
              "2334            http://www.autonet.ru/auto/ttx/kia/rio  \n",
              "2335    http://www.autonet.ru/auto/ttx/renault/sandero  \n",
              "2336    http://www.autonet.ru/auto/ttx/volkswagen/polo  \n",
              "\n",
              "[2337 rows x 3 columns]"
            ]
          },
          "execution_count": 131,
          "metadata": {},
          "output_type": "execute_result"
        }
      ],
      "source": [
        "df"
      ]
    },
    {
      "cell_type": "code",
      "execution_count": null,
      "metadata": {
        "colab": {
          "base_uri": "https://localhost:8080/"
        },
        "id": "_OmOp52qvTTK",
        "outputId": "83b4135e-22df-4d69-9b73-52894040a0a7"
      },
      "outputs": [
        {
          "name": "stderr",
          "output_type": "stream",
          "text": [
            "<ipython-input-142-15dd849301ab>:1: FutureWarning: In a future version of pandas all arguments of DataFrame.any and Series.any will be keyword-only.\n",
            "  df_n = df[df.isnull().any(1)]\n"
          ]
        }
      ],
      "source": [
        "df_n = df[df.isnull().any(1)]"
      ]
    },
    {
      "cell_type": "code",
      "execution_count": null,
      "metadata": {
        "colab": {
          "base_uri": "https://localhost:8080/"
        },
        "id": "_LsD0aUSwanx",
        "outputId": "07e92099-3180-443a-a8fd-47f203138d08"
      },
      "outputs": [
        {
          "name": "stderr",
          "output_type": "stream",
          "text": [
            "<ipython-input-149-b65dbeca22c8>:1: SettingWithCopyWarning: \n",
            "A value is trying to be set on a copy of a slice from a DataFrame\n",
            "\n",
            "See the caveats in the documentation: https://pandas.pydata.org/pandas-docs/stable/user_guide/indexing.html#returning-a-view-versus-a-copy\n",
            "  df.fillna(np.nan, inplace=True)\n"
          ]
        }
      ],
      "source": [
        "df.fillna(np.nan, inplace=True)"
      ]
    },
    {
      "cell_type": "code",
      "execution_count": null,
      "metadata": {
        "colab": {
          "base_uri": "https://localhost:8080/",
          "height": 1000
        },
        "id": "VAdWBcihwxgP",
        "outputId": "f962609e-05c7-4fde-fc22-bcd21971462a"
      },
      "outputs": [
        {
          "data": {
            "text/html": [
              "\n",
              "  <div id=\"df-a6ef48b1-4658-411e-a035-b60a251a10c8\">\n",
              "    <div class=\"colab-df-container\">\n",
              "      <div>\n",
              "<style scoped>\n",
              "    .dataframe tbody tr th:only-of-type {\n",
              "        vertical-align: middle;\n",
              "    }\n",
              "\n",
              "    .dataframe tbody tr th {\n",
              "        vertical-align: top;\n",
              "    }\n",
              "\n",
              "    .dataframe thead th {\n",
              "        text-align: right;\n",
              "    }\n",
              "</style>\n",
              "<table border=\"1\" class=\"dataframe\">\n",
              "  <thead>\n",
              "    <tr style=\"text-align: right;\">\n",
              "      <th></th>\n",
              "      <th>car_id</th>\n",
              "      <th>model</th>\n",
              "      <th>url</th>\n",
              "    </tr>\n",
              "  </thead>\n",
              "  <tbody>\n",
              "    <tr>\n",
              "      <th>7</th>\n",
              "      <td>O-2124190y</td>\n",
              "      <td>Tesla Model 3</td>\n",
              "      <td>NaN</td>\n",
              "    </tr>\n",
              "    <tr>\n",
              "      <th>69</th>\n",
              "      <td>F-1720906M</td>\n",
              "      <td>Volkswagen ID.4</td>\n",
              "      <td>NaN</td>\n",
              "    </tr>\n",
              "    <tr>\n",
              "      <th>99</th>\n",
              "      <td>n19871201N</td>\n",
              "      <td>Tesla Model 3</td>\n",
              "      <td>NaN</td>\n",
              "    </tr>\n",
              "    <tr>\n",
              "      <th>187</th>\n",
              "      <td>I13914989Z</td>\n",
              "      <td>Tesla Model 3</td>\n",
              "      <td>NaN</td>\n",
              "    </tr>\n",
              "    <tr>\n",
              "      <th>192</th>\n",
              "      <td>u-2070489i</td>\n",
              "      <td>Volkswagen ID.4</td>\n",
              "      <td>NaN</td>\n",
              "    </tr>\n",
              "    <tr>\n",
              "      <th>218</th>\n",
              "      <td>g-2283000q</td>\n",
              "      <td>Tesla Model 3</td>\n",
              "      <td>NaN</td>\n",
              "    </tr>\n",
              "    <tr>\n",
              "      <th>225</th>\n",
              "      <td>N10423478l</td>\n",
              "      <td>MINI CooperSE</td>\n",
              "      <td>NaN</td>\n",
              "    </tr>\n",
              "    <tr>\n",
              "      <th>344</th>\n",
              "      <td>R-7424780C</td>\n",
              "      <td>MINI CooperSE</td>\n",
              "      <td>NaN</td>\n",
              "    </tr>\n",
              "    <tr>\n",
              "      <th>375</th>\n",
              "      <td>A-1737634s</td>\n",
              "      <td>MINI CooperSE</td>\n",
              "      <td>NaN</td>\n",
              "    </tr>\n",
              "    <tr>\n",
              "      <th>425</th>\n",
              "      <td>g-6471498I</td>\n",
              "      <td>MINI CooperSE</td>\n",
              "      <td>NaN</td>\n",
              "    </tr>\n",
              "    <tr>\n",
              "      <th>473</th>\n",
              "      <td>J-1264842C</td>\n",
              "      <td>MINI CooperSE</td>\n",
              "      <td>NaN</td>\n",
              "    </tr>\n",
              "    <tr>\n",
              "      <th>486</th>\n",
              "      <td>s-1243339h</td>\n",
              "      <td>MINI CooperSE</td>\n",
              "      <td>NaN</td>\n",
              "    </tr>\n",
              "    <tr>\n",
              "      <th>488</th>\n",
              "      <td>P-1412506Z</td>\n",
              "      <td>Volkswagen ID.4</td>\n",
              "      <td>NaN</td>\n",
              "    </tr>\n",
              "    <tr>\n",
              "      <th>505</th>\n",
              "      <td>i-1106718P</td>\n",
              "      <td>Tesla Model 3</td>\n",
              "      <td>NaN</td>\n",
              "    </tr>\n",
              "    <tr>\n",
              "      <th>518</th>\n",
              "      <td>g-7424670L</td>\n",
              "      <td>Volkswagen ID.4</td>\n",
              "      <td>NaN</td>\n",
              "    </tr>\n",
              "    <tr>\n",
              "      <th>607</th>\n",
              "      <td>J38284226P</td>\n",
              "      <td>Volkswagen ID.4</td>\n",
              "      <td>NaN</td>\n",
              "    </tr>\n",
              "    <tr>\n",
              "      <th>655</th>\n",
              "      <td>o-1093440v</td>\n",
              "      <td>MINI CooperSE</td>\n",
              "      <td>NaN</td>\n",
              "    </tr>\n",
              "    <tr>\n",
              "      <th>685</th>\n",
              "      <td>I-2073229s</td>\n",
              "      <td>Tesla Model 3</td>\n",
              "      <td>NaN</td>\n",
              "    </tr>\n",
              "    <tr>\n",
              "      <th>723</th>\n",
              "      <td>U-7130411Q</td>\n",
              "      <td>MINI CooperSE</td>\n",
              "      <td>NaN</td>\n",
              "    </tr>\n",
              "    <tr>\n",
              "      <th>734</th>\n",
              "      <td>c53045565g</td>\n",
              "      <td>Volkswagen ID.4</td>\n",
              "      <td>NaN</td>\n",
              "    </tr>\n",
              "    <tr>\n",
              "      <th>870</th>\n",
              "      <td>b-2298403w</td>\n",
              "      <td>MINI CooperSE</td>\n",
              "      <td>NaN</td>\n",
              "    </tr>\n",
              "    <tr>\n",
              "      <th>909</th>\n",
              "      <td>H-1289656m</td>\n",
              "      <td>Volkswagen ID.4</td>\n",
              "      <td>NaN</td>\n",
              "    </tr>\n",
              "    <tr>\n",
              "      <th>1014</th>\n",
              "      <td>j18433975f</td>\n",
              "      <td>Volkswagen ID.4</td>\n",
              "      <td>NaN</td>\n",
              "    </tr>\n",
              "    <tr>\n",
              "      <th>1120</th>\n",
              "      <td>N44849090k</td>\n",
              "      <td>Tesla Model 3</td>\n",
              "      <td>NaN</td>\n",
              "    </tr>\n",
              "    <tr>\n",
              "      <th>1123</th>\n",
              "      <td>N-1337765t</td>\n",
              "      <td>Volkswagen ID.4</td>\n",
              "      <td>NaN</td>\n",
              "    </tr>\n",
              "    <tr>\n",
              "      <th>1153</th>\n",
              "      <td>V46220162X</td>\n",
              "      <td>MINI CooperSE</td>\n",
              "      <td>NaN</td>\n",
              "    </tr>\n",
              "    <tr>\n",
              "      <th>1192</th>\n",
              "      <td>T20813001U</td>\n",
              "      <td>Tesla Model 3</td>\n",
              "      <td>NaN</td>\n",
              "    </tr>\n",
              "    <tr>\n",
              "      <th>1209</th>\n",
              "      <td>l13569942Y</td>\n",
              "      <td>Volkswagen ID.4</td>\n",
              "      <td>NaN</td>\n",
              "    </tr>\n",
              "    <tr>\n",
              "      <th>1245</th>\n",
              "      <td>O-2688441F</td>\n",
              "      <td>Tesla Model 3</td>\n",
              "      <td>NaN</td>\n",
              "    </tr>\n",
              "    <tr>\n",
              "      <th>1297</th>\n",
              "      <td>M13557782G</td>\n",
              "      <td>MINI CooperSE</td>\n",
              "      <td>NaN</td>\n",
              "    </tr>\n",
              "    <tr>\n",
              "      <th>1367</th>\n",
              "      <td>k25002330L</td>\n",
              "      <td>MINI CooperSE</td>\n",
              "      <td>NaN</td>\n",
              "    </tr>\n",
              "    <tr>\n",
              "      <th>1447</th>\n",
              "      <td>p22133368b</td>\n",
              "      <td>Tesla Model 3</td>\n",
              "      <td>NaN</td>\n",
              "    </tr>\n",
              "    <tr>\n",
              "      <th>1470</th>\n",
              "      <td>Z12282683t</td>\n",
              "      <td>MINI CooperSE</td>\n",
              "      <td>NaN</td>\n",
              "    </tr>\n",
              "    <tr>\n",
              "      <th>1659</th>\n",
              "      <td>y22394536i</td>\n",
              "      <td>Volkswagen ID.4</td>\n",
              "      <td>NaN</td>\n",
              "    </tr>\n",
              "    <tr>\n",
              "      <th>1661</th>\n",
              "      <td>T19756755G</td>\n",
              "      <td>Tesla Model 3</td>\n",
              "      <td>NaN</td>\n",
              "    </tr>\n",
              "    <tr>\n",
              "      <th>1700</th>\n",
              "      <td>P17182864p</td>\n",
              "      <td>MINI CooperSE</td>\n",
              "      <td>NaN</td>\n",
              "    </tr>\n",
              "    <tr>\n",
              "      <th>1702</th>\n",
              "      <td>v22568580b</td>\n",
              "      <td>Tesla Model 3</td>\n",
              "      <td>NaN</td>\n",
              "    </tr>\n",
              "    <tr>\n",
              "      <th>1720</th>\n",
              "      <td>z14411100u</td>\n",
              "      <td>Volkswagen ID.4</td>\n",
              "      <td>NaN</td>\n",
              "    </tr>\n",
              "    <tr>\n",
              "      <th>1770</th>\n",
              "      <td>w-1727439L</td>\n",
              "      <td>MINI CooperSE</td>\n",
              "      <td>NaN</td>\n",
              "    </tr>\n",
              "    <tr>\n",
              "      <th>1809</th>\n",
              "      <td>l-1177682G</td>\n",
              "      <td>Tesla Model 3</td>\n",
              "      <td>NaN</td>\n",
              "    </tr>\n",
              "    <tr>\n",
              "      <th>1822</th>\n",
              "      <td>o61274518L</td>\n",
              "      <td>MINI CooperSE</td>\n",
              "      <td>NaN</td>\n",
              "    </tr>\n",
              "    <tr>\n",
              "      <th>1867</th>\n",
              "      <td>h-1921200Q</td>\n",
              "      <td>Tesla Model 3</td>\n",
              "      <td>NaN</td>\n",
              "    </tr>\n",
              "    <tr>\n",
              "      <th>1939</th>\n",
              "      <td>C11147530X</td>\n",
              "      <td>MINI CooperSE</td>\n",
              "      <td>NaN</td>\n",
              "    </tr>\n",
              "    <tr>\n",
              "      <th>1943</th>\n",
              "      <td>n21219044S</td>\n",
              "      <td>Volkswagen ID.4</td>\n",
              "      <td>NaN</td>\n",
              "    </tr>\n",
              "    <tr>\n",
              "      <th>1961</th>\n",
              "      <td>L12695976N</td>\n",
              "      <td>MINI CooperSE</td>\n",
              "      <td>NaN</td>\n",
              "    </tr>\n",
              "    <tr>\n",
              "      <th>1974</th>\n",
              "      <td>l-1349820J</td>\n",
              "      <td>MINI CooperSE</td>\n",
              "      <td>NaN</td>\n",
              "    </tr>\n",
              "    <tr>\n",
              "      <th>2046</th>\n",
              "      <td>O-7679980f</td>\n",
              "      <td>MINI CooperSE</td>\n",
              "      <td>NaN</td>\n",
              "    </tr>\n",
              "    <tr>\n",
              "      <th>2131</th>\n",
              "      <td>Y-2287594M</td>\n",
              "      <td>MINI CooperSE</td>\n",
              "      <td>NaN</td>\n",
              "    </tr>\n",
              "  </tbody>\n",
              "</table>\n",
              "</div>\n",
              "      <button class=\"colab-df-convert\" onclick=\"convertToInteractive('df-a6ef48b1-4658-411e-a035-b60a251a10c8')\"\n",
              "              title=\"Convert this dataframe to an interactive table.\"\n",
              "              style=\"display:none;\">\n",
              "        \n",
              "  <svg xmlns=\"http://www.w3.org/2000/svg\" height=\"24px\"viewBox=\"0 0 24 24\"\n",
              "       width=\"24px\">\n",
              "    <path d=\"M0 0h24v24H0V0z\" fill=\"none\"/>\n",
              "    <path d=\"M18.56 5.44l.94 2.06.94-2.06 2.06-.94-2.06-.94-.94-2.06-.94 2.06-2.06.94zm-11 1L8.5 8.5l.94-2.06 2.06-.94-2.06-.94L8.5 2.5l-.94 2.06-2.06.94zm10 10l.94 2.06.94-2.06 2.06-.94-2.06-.94-.94-2.06-.94 2.06-2.06.94z\"/><path d=\"M17.41 7.96l-1.37-1.37c-.4-.4-.92-.59-1.43-.59-.52 0-1.04.2-1.43.59L10.3 9.45l-7.72 7.72c-.78.78-.78 2.05 0 2.83L4 21.41c.39.39.9.59 1.41.59.51 0 1.02-.2 1.41-.59l7.78-7.78 2.81-2.81c.8-.78.8-2.07 0-2.86zM5.41 20L4 18.59l7.72-7.72 1.47 1.35L5.41 20z\"/>\n",
              "  </svg>\n",
              "      </button>\n",
              "      \n",
              "  <style>\n",
              "    .colab-df-container {\n",
              "      display:flex;\n",
              "      flex-wrap:wrap;\n",
              "      gap: 12px;\n",
              "    }\n",
              "\n",
              "    .colab-df-convert {\n",
              "      background-color: #E8F0FE;\n",
              "      border: none;\n",
              "      border-radius: 50%;\n",
              "      cursor: pointer;\n",
              "      display: none;\n",
              "      fill: #1967D2;\n",
              "      height: 32px;\n",
              "      padding: 0 0 0 0;\n",
              "      width: 32px;\n",
              "    }\n",
              "\n",
              "    .colab-df-convert:hover {\n",
              "      background-color: #E2EBFA;\n",
              "      box-shadow: 0px 1px 2px rgba(60, 64, 67, 0.3), 0px 1px 3px 1px rgba(60, 64, 67, 0.15);\n",
              "      fill: #174EA6;\n",
              "    }\n",
              "\n",
              "    [theme=dark] .colab-df-convert {\n",
              "      background-color: #3B4455;\n",
              "      fill: #D2E3FC;\n",
              "    }\n",
              "\n",
              "    [theme=dark] .colab-df-convert:hover {\n",
              "      background-color: #434B5C;\n",
              "      box-shadow: 0px 1px 3px 1px rgba(0, 0, 0, 0.15);\n",
              "      filter: drop-shadow(0px 1px 2px rgba(0, 0, 0, 0.3));\n",
              "      fill: #FFFFFF;\n",
              "    }\n",
              "  </style>\n",
              "\n",
              "      <script>\n",
              "        const buttonEl =\n",
              "          document.querySelector('#df-a6ef48b1-4658-411e-a035-b60a251a10c8 button.colab-df-convert');\n",
              "        buttonEl.style.display =\n",
              "          google.colab.kernel.accessAllowed ? 'block' : 'none';\n",
              "\n",
              "        async function convertToInteractive(key) {\n",
              "          const element = document.querySelector('#df-a6ef48b1-4658-411e-a035-b60a251a10c8');\n",
              "          const dataTable =\n",
              "            await google.colab.kernel.invokeFunction('convertToInteractive',\n",
              "                                                     [key], {});\n",
              "          if (!dataTable) return;\n",
              "\n",
              "          const docLinkHtml = 'Like what you see? Visit the ' +\n",
              "            '<a target=\"_blank\" href=https://colab.research.google.com/notebooks/data_table.ipynb>data table notebook</a>'\n",
              "            + ' to learn more about interactive tables.';\n",
              "          element.innerHTML = '';\n",
              "          dataTable['output_type'] = 'display_data';\n",
              "          await google.colab.output.renderOutput(dataTable, element);\n",
              "          const docLink = document.createElement('div');\n",
              "          docLink.innerHTML = docLinkHtml;\n",
              "          element.appendChild(docLink);\n",
              "        }\n",
              "      </script>\n",
              "    </div>\n",
              "  </div>\n",
              "  "
            ],
            "text/plain": [
              "          car_id             model  url\n",
              "7     O-2124190y     Tesla Model 3  NaN\n",
              "69    F-1720906M  Volkswagen ID.4   NaN\n",
              "99    n19871201N     Tesla Model 3  NaN\n",
              "187   I13914989Z     Tesla Model 3  NaN\n",
              "192   u-2070489i  Volkswagen ID.4   NaN\n",
              "218   g-2283000q     Tesla Model 3  NaN\n",
              "225   N10423478l     MINI CooperSE  NaN\n",
              "344   R-7424780C     MINI CooperSE  NaN\n",
              "375   A-1737634s     MINI CooperSE  NaN\n",
              "425   g-6471498I     MINI CooperSE  NaN\n",
              "473   J-1264842C     MINI CooperSE  NaN\n",
              "486   s-1243339h     MINI CooperSE  NaN\n",
              "488   P-1412506Z  Volkswagen ID.4   NaN\n",
              "505   i-1106718P     Tesla Model 3  NaN\n",
              "518   g-7424670L  Volkswagen ID.4   NaN\n",
              "607   J38284226P  Volkswagen ID.4   NaN\n",
              "655   o-1093440v     MINI CooperSE  NaN\n",
              "685   I-2073229s     Tesla Model 3  NaN\n",
              "723   U-7130411Q     MINI CooperSE  NaN\n",
              "734   c53045565g  Volkswagen ID.4   NaN\n",
              "870   b-2298403w     MINI CooperSE  NaN\n",
              "909   H-1289656m  Volkswagen ID.4   NaN\n",
              "1014  j18433975f  Volkswagen ID.4   NaN\n",
              "1120  N44849090k     Tesla Model 3  NaN\n",
              "1123  N-1337765t  Volkswagen ID.4   NaN\n",
              "1153  V46220162X     MINI CooperSE  NaN\n",
              "1192  T20813001U     Tesla Model 3  NaN\n",
              "1209  l13569942Y  Volkswagen ID.4   NaN\n",
              "1245  O-2688441F     Tesla Model 3  NaN\n",
              "1297  M13557782G     MINI CooperSE  NaN\n",
              "1367  k25002330L     MINI CooperSE  NaN\n",
              "1447  p22133368b     Tesla Model 3  NaN\n",
              "1470  Z12282683t     MINI CooperSE  NaN\n",
              "1659  y22394536i  Volkswagen ID.4   NaN\n",
              "1661  T19756755G     Tesla Model 3  NaN\n",
              "1700  P17182864p     MINI CooperSE  NaN\n",
              "1702  v22568580b     Tesla Model 3  NaN\n",
              "1720  z14411100u  Volkswagen ID.4   NaN\n",
              "1770  w-1727439L     MINI CooperSE  NaN\n",
              "1809  l-1177682G     Tesla Model 3  NaN\n",
              "1822  o61274518L     MINI CooperSE  NaN\n",
              "1867  h-1921200Q     Tesla Model 3  NaN\n",
              "1939  C11147530X     MINI CooperSE  NaN\n",
              "1943  n21219044S  Volkswagen ID.4   NaN\n",
              "1961  L12695976N     MINI CooperSE  NaN\n",
              "1974  l-1349820J     MINI CooperSE  NaN\n",
              "2046  O-7679980f     MINI CooperSE  NaN\n",
              "2131  Y-2287594M     MINI CooperSE  NaN"
            ]
          },
          "execution_count": 143,
          "metadata": {},
          "output_type": "execute_result"
        }
      ],
      "source": [
        "df_n"
      ]
    },
    {
      "cell_type": "code",
      "execution_count": null,
      "metadata": {
        "colab": {
          "base_uri": "https://localhost:8080/"
        },
        "id": "-nn0ZSHSwl-3",
        "outputId": "f85b309b-ab7d-4e5c-d089-1a4a45f48d2c"
      },
      "outputs": [
        {
          "data": {
            "text/plain": [
              "car_id    False\n",
              "model     False\n",
              "url        True\n",
              "dtype: bool"
            ]
          },
          "execution_count": 138,
          "metadata": {},
          "output_type": "execute_result"
        }
      ],
      "source": [
        "df.isnull().any()"
      ]
    },
    {
      "cell_type": "code",
      "execution_count": null,
      "metadata": {
        "colab": {
          "base_uri": "https://localhost:8080/"
        },
        "id": "r5G7LbNCwR4E",
        "outputId": "65792a39-15c9-4236-beb9-76e8ae14aaf8"
      },
      "outputs": [
        {
          "data": {
            "text/plain": [
              "array(['Tesla Model 3', 'Volkswagen ID.4 ', 'MINI CooperSE'], dtype=object)"
            ]
          },
          "execution_count": 134,
          "metadata": {},
          "output_type": "execute_result"
        }
      ],
      "source": [
        "df_n['model'].unique()"
      ]
    },
    {
      "cell_type": "code",
      "execution_count": null,
      "metadata": {
        "id": "QtgBYwzHuUMJ"
      },
      "outputs": [],
      "source": [
        "df.to_csv('df53.csv', index=False)"
      ]
    },
    {
      "cell_type": "code",
      "execution_count": null,
      "metadata": {
        "colab": {
          "base_uri": "https://localhost:8080/"
        },
        "id": "Xe0Di7takT3B",
        "outputId": "4d2f1456-07d2-4a86-bcd5-fc8a7ff4d08b"
      },
      "outputs": [
        {
          "data": {
            "text/plain": [
              "10               VW Polo\n",
              "11            VW Polo VI\n",
              "12               Kia Rio\n",
              "13           Skoda Rapid\n",
              "14           Smart Coupe\n",
              "15             VW Tiguan\n",
              "16             VW Tiguan\n",
              "17           Skoda Rapid\n",
              "18          Smart ForTwo\n",
              "19          Smart ForTwo\n",
              "20             Kia Rio X\n",
              "21    Mercedes-Benz E200\n",
              "22        Nissan Qashqai\n",
              "23          Smart ForTwo\n",
              "24        Renault Kaptur\n",
              "25           Mini Cooper\n",
              "Name: model, dtype: object"
            ]
          },
          "execution_count": 87,
          "metadata": {},
          "output_type": "execute_result"
        }
      ],
      "source": [
        "df['model'][10:26]"
      ]
    },
    {
      "cell_type": "code",
      "execution_count": null,
      "metadata": {
        "id": "QGxjTyVIuqah"
      },
      "outputs": [],
      "source": []
    },
    {
      "cell_type": "code",
      "execution_count": null,
      "metadata": {
        "colab": {
          "base_uri": "https://localhost:8080/"
        },
        "id": "AcuNT5v0ladW",
        "outputId": "3b57b12d-14c2-42ba-bf75-641fa9580b89"
      },
      "outputs": [
        {
          "data": {
            "text/plain": [
              "['http://www.autonet.ru/auto/ttx/maserati/3200gt',\n",
              " 'http://www.autonet.ru/auto/ttx/maserati/4200gt',\n",
              " 'http://www.autonet.ru/auto/ttx/maserati/ghibli',\n",
              " 'http://www.autonet.ru/auto/ttx/maserati/gransport',\n",
              " 'http://www.autonet.ru/auto/ttx/maserati/granturismo',\n",
              " 'http://www.autonet.ru/auto/ttx/maserati/levante',\n",
              " 'http://www.autonet.ru/auto/ttx/maserati/quattroporte',\n",
              " 'http://www.autonet.ru/auto/ttx/maserati/spyder',\n",
              " 'http://www.autonet.ru/auto/ttx/maybach/57',\n",
              " 'http://www.autonet.ru/auto/ttx/maybach/62',\n",
              " 'http://www.autonet.ru/auto/ttx/maybach/landaulet',\n",
              " 'http://www.autonet.ru/auto/ttx/mazda/121',\n",
              " 'http://www.autonet.ru/auto/ttx/mazda/2',\n",
              " 'http://www.autonet.ru/auto/ttx/mazda/3',\n",
              " 'http://www.autonet.ru/auto/ttx/mazda/323',\n",
              " 'http://www.autonet.ru/auto/ttx/mazda/5',\n",
              " 'http://www.autonet.ru/auto/ttx/mazda/6',\n",
              " 'http://www.autonet.ru/auto/ttx/mazda/626',\n",
              " 'http://www.autonet.ru/auto/ttx/mazda/929',\n",
              " 'http://www.autonet.ru/auto/ttx/mazda/allegro',\n",
              " 'http://www.autonet.ru/auto/ttx/mazda/atenza',\n",
              " 'http://www.autonet.ru/auto/ttx/mazda/axela',\n",
              " 'http://www.autonet.ru/auto/ttx/mazda/az',\n",
              " 'http://www.autonet.ru/auto/ttx/mazda/biante',\n",
              " 'http://www.autonet.ru/auto/ttx/mazda/bongo',\n",
              " 'http://www.autonet.ru/auto/ttx/mazda/bongo_friendee',\n",
              " 'http://www.autonet.ru/auto/ttx/mazda/b-series',\n",
              " 'http://www.autonet.ru/auto/ttx/mazda/bt-50',\n",
              " 'http://www.autonet.ru/auto/ttx/mazda/capella',\n",
              " 'http://www.autonet.ru/auto/ttx/mazda/carol',\n",
              " 'http://www.autonet.ru/auto/ttx/mazda/cx-5',\n",
              " 'http://www.autonet.ru/auto/ttx/mazda/cx-7',\n",
              " 'http://www.autonet.ru/auto/ttx/mazda/cx-9',\n",
              " 'http://www.autonet.ru/auto/ttx/mazda/demio',\n",
              " 'http://www.autonet.ru/auto/ttx/mazda/familia',\n",
              " 'http://www.autonet.ru/auto/ttx/mazda/levante',\n",
              " 'http://www.autonet.ru/auto/ttx/mazda/millenia',\n",
              " 'http://www.autonet.ru/auto/ttx/mazda/mpv',\n",
              " 'http://www.autonet.ru/auto/ttx/mazda/mx-3',\n",
              " 'http://www.autonet.ru/auto/ttx/mazda/mx-5',\n",
              " 'http://www.autonet.ru/auto/ttx/mazda/mx-6',\n",
              " 'http://www.autonet.ru/auto/ttx/mazda/premacy',\n",
              " 'http://www.autonet.ru/auto/ttx/mazda/proceed_marvie',\n",
              " 'http://www.autonet.ru/auto/ttx/mazda/protege',\n",
              " 'http://www.autonet.ru/auto/ttx/mazda/rx-7',\n",
              " 'http://www.autonet.ru/auto/ttx/mazda/rx-8',\n",
              " 'http://www.autonet.ru/auto/ttx/mazda/scrum',\n",
              " 'http://www.autonet.ru/auto/ttx/mazda/tribute',\n",
              " 'http://www.autonet.ru/auto/ttx/mazda/verisa',\n",
              " 'http://www.autonet.ru/auto/ttx/mazda/xedos_6',\n",
              " 'http://www.autonet.ru/auto/ttx/mazda/xedos_9',\n",
              " 'http://www.autonet.ru/auto/ttx/mclaren/f1',\n",
              " 'http://www.autonet.ru/auto/ttx/mercedes-benz/230',\n",
              " 'http://www.autonet.ru/auto/ttx/mercedes-benz/a',\n",
              " 'http://www.autonet.ru/auto/ttx/mercedes-benz/amg_gt',\n",
              " 'http://www.autonet.ru/auto/ttx/mercedes-benz/b',\n",
              " 'http://www.autonet.ru/auto/ttx/mercedes-benz/c',\n",
              " 'http://www.autonet.ru/auto/ttx/mercedes-benz/citan',\n",
              " 'http://www.autonet.ru/auto/ttx/mercedes-benz/cl',\n",
              " 'http://www.autonet.ru/auto/ttx/mercedes-benz/cla',\n",
              " 'http://www.autonet.ru/auto/ttx/mercedes-benz/clc',\n",
              " 'http://www.autonet.ru/auto/ttx/mercedes-benz/clk',\n",
              " 'http://www.autonet.ru/auto/ttx/mercedes-benz/cls',\n",
              " 'http://www.autonet.ru/auto/ttx/mercedes-benz/e',\n",
              " 'http://www.autonet.ru/auto/ttx/mercedes-benz/g',\n",
              " 'http://www.autonet.ru/auto/ttx/mercedes-benz/gl',\n",
              " 'http://www.autonet.ru/auto/ttx/mercedes-benz/gla',\n",
              " 'http://www.autonet.ru/auto/ttx/mercedes-benz/glc',\n",
              " 'http://www.autonet.ru/auto/ttx/mercedes-benz/gle',\n",
              " 'http://www.autonet.ru/auto/ttx/mercedes-benz/glk',\n",
              " 'http://www.autonet.ru/auto/ttx/mercedes-benz/m',\n",
              " 'http://www.autonet.ru/auto/ttx/mercedes-benz/r',\n",
              " 'http://www.autonet.ru/auto/ttx/mercedes-benz/s',\n",
              " 'http://www.autonet.ru/auto/ttx/mercedes-benz/sl',\n",
              " 'http://www.autonet.ru/auto/ttx/mercedes-benz/slk',\n",
              " 'http://www.autonet.ru/auto/ttx/mercedes-benz/slr',\n",
              " 'http://www.autonet.ru/auto/ttx/mercedes-benz/sls',\n",
              " 'http://www.autonet.ru/auto/ttx/mercedes-benz/sprinter',\n",
              " 'http://www.autonet.ru/auto/ttx/mercedes-benz/v',\n",
              " 'http://www.autonet.ru/auto/ttx/mercedes-benz/vaneo',\n",
              " 'http://www.autonet.ru/auto/ttx/mercedes-benz/viano',\n",
              " 'http://www.autonet.ru/auto/ttx/mercedes-benz/vito',\n",
              " 'http://www.autonet.ru/auto/ttx/mercury/cougar',\n",
              " 'http://www.autonet.ru/auto/ttx/mercury/grand_marquis',\n",
              " 'http://www.autonet.ru/auto/ttx/mercury/mariner',\n",
              " 'http://www.autonet.ru/auto/ttx/mercury/milan',\n",
              " 'http://www.autonet.ru/auto/ttx/mercury/montego',\n",
              " 'http://www.autonet.ru/auto/ttx/mercury/monterey',\n",
              " 'http://www.autonet.ru/auto/ttx/mercury/mountaineer',\n",
              " 'http://www.autonet.ru/auto/ttx/mercury/mystique',\n",
              " 'http://www.autonet.ru/auto/ttx/mercury/sable',\n",
              " 'http://www.autonet.ru/auto/ttx/mercury/tracer',\n",
              " 'http://www.autonet.ru/auto/ttx/mercury/villager',\n",
              " 'http://www.autonet.ru/auto/ttx/mg/3',\n",
              " 'http://www.autonet.ru/auto/ttx/mg/350',\n",
              " 'http://www.autonet.ru/auto/ttx/mg/5',\n",
              " 'http://www.autonet.ru/auto/ttx/mg/550',\n",
              " 'http://www.autonet.ru/auto/ttx/mg/6',\n",
              " 'http://www.autonet.ru/auto/ttx/mg/7',\n",
              " 'http://www.autonet.ru/auto/ttx/mg/750',\n",
              " 'http://www.autonet.ru/auto/ttx/mg/express',\n",
              " 'http://www.autonet.ru/auto/ttx/mg/f',\n",
              " 'http://www.autonet.ru/auto/ttx/mg/tf',\n",
              " 'http://www.autonet.ru/auto/ttx/mg/xpower_sv',\n",
              " 'http://www.autonet.ru/auto/ttx/mg/zr',\n",
              " 'http://www.autonet.ru/auto/ttx/mg/zs',\n",
              " 'http://www.autonet.ru/auto/ttx/mg/zt',\n",
              " 'http://www.autonet.ru/auto/ttx/mini/cabrio',\n",
              " 'http://www.autonet.ru/auto/ttx/mini/clubman',\n",
              " 'http://www.autonet.ru/auto/ttx/mini/clubvan',\n",
              " 'http://www.autonet.ru/auto/ttx/mini/countryman',\n",
              " 'http://www.autonet.ru/auto/ttx/mini/coupe',\n",
              " 'http://www.autonet.ru/auto/ttx/mini/hatch',\n",
              " 'http://www.autonet.ru/auto/ttx/mini/paceman',\n",
              " 'http://www.autonet.ru/auto/ttx/mini/roadster',\n",
              " 'http://www.autonet.ru/auto/ttx/mitsubishi/3000_gt',\n",
              " 'http://www.autonet.ru/auto/ttx/mitsubishi/380',\n",
              " 'http://www.autonet.ru/auto/ttx/mitsubishi/airtrek',\n",
              " 'http://www.autonet.ru/auto/ttx/mitsubishi/aspire',\n",
              " 'http://www.autonet.ru/auto/ttx/mitsubishi/asx',\n",
              " 'http://www.autonet.ru/auto/ttx/mitsubishi/bravo',\n",
              " 'http://www.autonet.ru/auto/ttx/mitsubishi/carisma',\n",
              " 'http://www.autonet.ru/auto/ttx/mitsubishi/challenger',\n",
              " 'http://www.autonet.ru/auto/ttx/mitsubishi/chariot',\n",
              " 'http://www.autonet.ru/auto/ttx/mitsubishi/colt',\n",
              " 'http://www.autonet.ru/auto/ttx/mitsubishi/debonair',\n",
              " 'http://www.autonet.ru/auto/ttx/mitsubishi/delica',\n",
              " 'http://www.autonet.ru/auto/ttx/mitsubishi/diamante',\n",
              " 'http://www.autonet.ru/auto/ttx/mitsubishi/dingo',\n",
              " 'http://www.autonet.ru/auto/ttx/mitsubishi/dion',\n",
              " 'http://www.autonet.ru/auto/ttx/mitsubishi/eclipse',\n",
              " 'http://www.autonet.ru/auto/ttx/mitsubishi/eclipse_cross',\n",
              " 'http://www.autonet.ru/auto/ttx/mitsubishi/ek',\n",
              " 'http://www.autonet.ru/auto/ttx/mitsubishi/emeraude',\n",
              " 'http://www.autonet.ru/auto/ttx/mitsubishi/endeavor',\n",
              " 'http://www.autonet.ru/auto/ttx/mitsubishi/fto',\n",
              " 'http://www.autonet.ru/auto/ttx/mitsubishi/galant',\n",
              " 'http://www.autonet.ru/auto/ttx/mitsubishi/grandis',\n",
              " 'http://www.autonet.ru/auto/ttx/mitsubishi/i',\n",
              " 'http://www.autonet.ru/auto/ttx/mitsubishi/i-miev',\n",
              " 'http://www.autonet.ru/auto/ttx/mitsubishi/l200',\n",
              " 'http://www.autonet.ru/auto/ttx/mitsubishi/l300',\n",
              " 'http://www.autonet.ru/auto/ttx/mitsubishi/l400',\n",
              " 'http://www.autonet.ru/auto/ttx/mitsubishi/lancer',\n",
              " 'http://www.autonet.ru/auto/ttx/mitsubishi/legnum',\n",
              " 'http://www.autonet.ru/auto/ttx/mitsubishi/libero',\n",
              " 'http://www.autonet.ru/auto/ttx/mitsubishi/magna',\n",
              " 'http://www.autonet.ru/auto/ttx/mitsubishi/minica',\n",
              " 'http://www.autonet.ru/auto/ttx/mitsubishi/mirage',\n",
              " 'http://www.autonet.ru/auto/ttx/mitsubishi/montero',\n",
              " 'http://www.autonet.ru/auto/ttx/mitsubishi/montero_sport',\n",
              " 'http://www.autonet.ru/auto/ttx/mitsubishi/outlander',\n",
              " 'http://www.autonet.ru/auto/ttx/mitsubishi/pajero',\n",
              " 'http://www.autonet.ru/auto/ttx/mitsubishi/pajero_io',\n",
              " 'http://www.autonet.ru/auto/ttx/mitsubishi/pajero_junior',\n",
              " 'http://www.autonet.ru/auto/ttx/mitsubishi/pajero_mini',\n",
              " 'http://www.autonet.ru/auto/ttx/mitsubishi/pajero_pinin',\n",
              " 'http://www.autonet.ru/auto/ttx/mitsubishi/pajero_sport',\n",
              " 'http://www.autonet.ru/auto/ttx/mitsubishi/raider',\n",
              " 'http://www.autonet.ru/auto/ttx/mitsubishi/rvr',\n",
              " 'http://www.autonet.ru/auto/ttx/mitsubishi/shogun',\n",
              " 'http://www.autonet.ru/auto/ttx/mitsubishi/shogun_mini',\n",
              " 'http://www.autonet.ru/auto/ttx/mitsubishi/shogun_sport',\n",
              " 'http://www.autonet.ru/auto/ttx/mitsubishi/space_gear',\n",
              " 'http://www.autonet.ru/auto/ttx/mitsubishi/space_runner',\n",
              " 'http://www.autonet.ru/auto/ttx/mitsubishi/space_star',\n",
              " 'http://www.autonet.ru/auto/ttx/mitsubishi/space_wagon',\n",
              " 'http://www.autonet.ru/auto/ttx/mitsubishi/town_box',\n",
              " 'http://www.autonet.ru/auto/ttx/mitsubishi/triton',\n",
              " 'http://www.autonet.ru/auto/ttx/morgan/4_seater',\n",
              " 'http://www.autonet.ru/auto/ttx/morgan/4_4_sport',\n",
              " 'http://www.autonet.ru/auto/ttx/morgan/aero_8',\n",
              " 'http://www.autonet.ru/auto/ttx/morgan/aero_supersports',\n",
              " 'http://www.autonet.ru/auto/ttx/morgan/aeromax',\n",
              " 'http://www.autonet.ru/auto/ttx/morgan/eva_gt',\n",
              " 'http://www.autonet.ru/auto/ttx/morgan/plus_4',\n",
              " 'http://www.autonet.ru/auto/ttx/morgan/plus_8',\n",
              " 'http://www.autonet.ru/auto/ttx/morgan/roadster_v6',\n",
              " 'http://www.autonet.ru/auto/ttx/nissan/200_sx',\n",
              " 'http://www.autonet.ru/auto/ttx/nissan/ad',\n",
              " 'http://www.autonet.ru/auto/ttx/nissan/almera',\n",
              " 'http://www.autonet.ru/auto/ttx/nissan/almera_tino',\n",
              " 'http://www.autonet.ru/auto/ttx/nissan/altima',\n",
              " 'http://www.autonet.ru/auto/ttx/nissan/armada',\n",
              " 'http://www.autonet.ru/auto/ttx/nissan/avenir',\n",
              " 'http://www.autonet.ru/auto/ttx/nissan/bassara',\n",
              " 'http://www.autonet.ru/auto/ttx/nissan/bluebird',\n",
              " 'http://www.autonet.ru/auto/ttx/nissan/bluebird_sylphy',\n",
              " 'http://www.autonet.ru/auto/ttx/nissan/cabstar',\n",
              " 'http://www.autonet.ru/auto/ttx/nissan/caravan',\n",
              " 'http://www.autonet.ru/auto/ttx/nissan/cedric',\n",
              " 'http://www.autonet.ru/auto/ttx/nissan/cefiro',\n",
              " 'http://www.autonet.ru/auto/ttx/nissan/cima',\n",
              " 'http://www.autonet.ru/auto/ttx/nissan/clipper',\n",
              " 'http://www.autonet.ru/auto/ttx/nissan/cube',\n",
              " 'http://www.autonet.ru/auto/ttx/nissan/elgrand',\n",
              " 'http://www.autonet.ru/auto/ttx/nissan/expert',\n",
              " 'http://www.autonet.ru/auto/ttx/nissan/fairlady_z',\n",
              " 'http://www.autonet.ru/auto/ttx/nissan/frontier',\n",
              " 'http://www.autonet.ru/auto/ttx/nissan/fuga']"
            ]
          },
          "execution_count": 111,
          "metadata": {},
          "output_type": "execute_result"
        }
      ],
      "source": [
        "links[1000:1200]"
      ]
    },
    {
      "cell_type": "code",
      "execution_count": null,
      "metadata": {
        "colab": {
          "base_uri": "https://localhost:8080/"
        },
        "id": "D0YcBBEvk1Y5",
        "outputId": "b15c95a7-aae2-4033-da17-4e768abf52e7"
      },
      "outputs": [
        {
          "data": {
            "text/plain": [
              "car_id                                          m-8965256V\n",
              "model                                            VW Tiguan\n",
              "url       http://www.autonet.ru/auto/ttx/volkswagen/tiguan\n",
              "Name: 29, dtype: object"
            ]
          },
          "execution_count": 90,
          "metadata": {},
          "output_type": "execute_result"
        }
      ],
      "source": [
        "df.iloc[29]"
      ]
    },
    {
      "cell_type": "code",
      "execution_count": null,
      "metadata": {
        "colab": {
          "base_uri": "https://localhost:8080/"
        },
        "id": "W9_1BKK5jrxB",
        "outputId": "559d891d-4a82-49cf-c5ef-7cc6eadde765"
      },
      "outputs": [
        {
          "data": {
            "text/plain": [
              "array(['Kia Rio X-line', 'VW Polo VI', 'Renault Sandero',\n",
              "       'Mercedes-Benz GLC', 'Renault Sandero', 'Skoda Rapid',\n",
              "       'Nissan Qashqai', 'Tesla Model 3', 'Kia Sportage', 'Smart ForFour',\n",
              "       'VW Polo', 'VW Polo VI', 'Kia Rio', 'Skoda Rapid', 'Smart Coupe',\n",
              "       'VW Tiguan', 'VW Tiguan', 'Skoda Rapid', 'Smart ForTwo',\n",
              "       'Smart ForTwo', 'Kia Rio X', 'Mercedes-Benz E200',\n",
              "       'Nissan Qashqai', 'Smart ForTwo', 'Renault Kaptur', 'Mini Cooper',\n",
              "       'Kia Sportage', 'Kia Rio', 'Nissan Qashqai', 'VW Tiguan',\n",
              "       'Renault Sandero', 'Hyundai Solaris', 'Kia Rio X', 'Smart ForTwo',\n",
              "       'Smart ForTwo', 'VW Polo VI', 'Skoda Rapid', 'VW Polo VI',\n",
              "       'Hyundai Solaris', 'Renault Kaptur', 'Kia Sportage', 'Kia Rio X',\n",
              "       'VW Tiguan', 'Kia Rio X', 'Nissan Qashqai', 'Hyundai Solaris',\n",
              "       'VW Tiguan', 'Skoda Rapid', 'Kia Rio', 'Kia Rio X', 'Skoda Rapid',\n",
              "       'Smart ForFour', 'Renault Kaptur', 'Kia Rio X', 'Renault Kaptur',\n",
              "       'Skoda Rapid', 'Hyundai Solaris', 'VW Polo', 'Kia Rio X',\n",
              "       'Renault Sandero', 'Renault Sandero', 'Kia Sportage',\n",
              "       'Nissan Qashqai', 'Kia Rio X', 'Smart ForTwo', 'VW Polo VI',\n",
              "       'Smart Coupe', 'VW Polo', 'Smart ForTwo', 'Volkswagen ID.4 ',\n",
              "       'Kia Sportage', 'VW Polo', 'Kia Sportage', 'Hyundai Solaris',\n",
              "       'Kia Rio', 'Smart ForTwo', 'Hyundai Solaris', 'Smart ForTwo',\n",
              "       'Kia Rio X-line', 'VW Tiguan', 'Hyundai Solaris', 'Kia Rio',\n",
              "       'Skoda Rapid', 'VW Polo VI', 'Mini Cooper', 'Renault Sandero',\n",
              "       'Skoda Rapid', 'Smart Coupe', 'Kia Rio X', 'Hyundai Solaris',\n",
              "       'VW Polo VI', 'Kia Rio', 'Smart ForFour', 'Kia Rio', 'Kia Rio X',\n",
              "       'Kia Rio X', 'Smart ForFour', 'VW Polo', 'Smart ForFour',\n",
              "       'Tesla Model 3'], dtype=object)"
            ]
          },
          "execution_count": 82,
          "metadata": {},
          "output_type": "execute_result"
        }
      ],
      "source": [
        "df['model'].values[0: 100]"
      ]
    },
    {
      "cell_type": "code",
      "execution_count": null,
      "metadata": {
        "id": "hpiye0K_xHFy"
      },
      "outputs": [],
      "source": [
        "df.to_csv('df_1.csv', index=False)"
      ]
    },
    {
      "cell_type": "markdown",
      "metadata": {
        "id": "xZTnis5jjNxY"
      },
      "source": [
        "# 7.2.9"
      ]
    },
    {
      "cell_type": "code",
      "execution_count": null,
      "metadata": {
        "id": "MU9GFulWjQYq"
      },
      "outputs": [],
      "source": [
        "from bs4 import BeautifulSoup\n",
        "import requests"
      ]
    },
    {
      "cell_type": "code",
      "execution_count": null,
      "metadata": {
        "id": "gL5b-OUykQv-"
      },
      "outputs": [],
      "source": [
        "url = 'http://www.autonet.ru/auto/ttx/ac_cars/ace'"
      ]
    },
    {
      "cell_type": "code",
      "execution_count": null,
      "metadata": {
        "id": "WZAyTecSkYqN"
      },
      "outputs": [],
      "source": [
        "page = requests.get(url)"
      ]
    },
    {
      "cell_type": "code",
      "execution_count": null,
      "metadata": {
        "colab": {
          "base_uri": "https://localhost:8080/"
        },
        "id": "9czU4bUokc1H",
        "outputId": "08e2d15b-a3cd-4c3a-d4c2-f417d6b5ba57"
      },
      "outputs": [
        {
          "name": "stdout",
          "output_type": "stream",
          "text": [
            "200\n"
          ]
        }
      ],
      "source": [
        "print(page.status_code)"
      ]
    },
    {
      "cell_type": "code",
      "execution_count": null,
      "metadata": {
        "id": "VqoAjTbJk1_W"
      },
      "outputs": [],
      "source": [
        "soup = BeautifulSoup(page.text, \"html.parser\")"
      ]
    },
    {
      "cell_type": "code",
      "execution_count": null,
      "metadata": {
        "id": "Dow44hXDk4M9"
      },
      "outputs": [],
      "source": [
        "# print(soup)"
      ]
    },
    {
      "cell_type": "code",
      "execution_count": null,
      "metadata": {
        "colab": {
          "base_uri": "https://localhost:8080/"
        },
        "id": "E5s2Z36ulQyd",
        "outputId": "d11901ac-b3b9-44e4-adf2-99f344bf8831"
      },
      "outputs": [
        {
          "data": {
            "text/plain": [
              "[<table class=\"mod-list-table\">\n",
              " <tbody>\n",
              " <tr>\n",
              " <th class=\"mod\">\n",
              "                         Марка и модификация\n",
              "                     </th>\n",
              " <th class=\"carcass\">\n",
              "                         Тип кузова\n",
              "                     </th>\n",
              " <th class=\"volume\">\n",
              "                         Объем\n",
              "                     </th>\n",
              " <th class=\"power\">\n",
              "                         Мощность\n",
              "                     </th>\n",
              " <th class=\"edition\">\n",
              "                         Выпуск\n",
              "                     </th>\n",
              " </tr>\n",
              " <tr>\n",
              " <td class=\"mod\">\n",
              " <a href=\"/auto/ttx/ac_cars/ace/270158\">AC Cars Ace 3.5</a>\n",
              " </td>\n",
              " <td class=\"carcass\">\n",
              "                             кабриолет (2 дв.)\n",
              "                         </td>\n",
              " <td class=\"volume\">\n",
              "                             3506 см3\n",
              "                         </td>\n",
              " <td class=\"power\">\n",
              "                             354 л.с.\n",
              "                         </td>\n",
              " <td class=\"edition nomonth\">\n",
              "                             1998 - 2001\n",
              "                         </td>\n",
              " </tr>\n",
              " <tr>\n",
              " <td class=\"mod\">\n",
              " <a href=\"/auto/ttx/ac_cars/ace/269736\">AC Cars Ace 4.6</a>\n",
              " </td>\n",
              " <td class=\"carcass\">\n",
              "                             кабриолет (2 дв.)\n",
              "                         </td>\n",
              " <td class=\"volume\">\n",
              "                             4601 см3\n",
              "                         </td>\n",
              " <td class=\"power\">\n",
              "                             307 л.с.\n",
              "                         </td>\n",
              " <td class=\"edition nomonth\">\n",
              "                             1998 - 2001\n",
              "                         </td>\n",
              " </tr>\n",
              " <tr>\n",
              " <td class=\"mod\">\n",
              " <a href=\"/auto/ttx/ac_cars/ace/270180\">AC Cars Ace 4.6</a>\n",
              " </td>\n",
              " <td class=\"carcass\">\n",
              "                             кабриолет (2 дв.)\n",
              "                         </td>\n",
              " <td class=\"volume\">\n",
              "                             4601 см3\n",
              "                         </td>\n",
              " <td class=\"power\">\n",
              "                             326 л.с.\n",
              "                         </td>\n",
              " <td class=\"edition nomonth\">\n",
              "                             1997 - 2001\n",
              "                         </td>\n",
              " </tr>\n",
              " <tr>\n",
              " <td class=\"mod\">\n",
              " <a href=\"/auto/ttx/ac_cars/ace/269594\">AC Cars Ace 4.9</a>\n",
              " </td>\n",
              " <td class=\"carcass\">\n",
              "                             кабриолет (2 дв.)\n",
              "                         </td>\n",
              " <td class=\"volume\">\n",
              "                             4942 см3\n",
              "                         </td>\n",
              " <td class=\"power\">\n",
              "                             326 л.с.\n",
              "                         </td>\n",
              " <td class=\"edition nomonth\">\n",
              "                             1997 - 2001\n",
              "                         </td>\n",
              " </tr>\n",
              " <tr>\n",
              " <td class=\"mod\">\n",
              " <a href=\"/auto/ttx/ac_cars/ace/269595\">AC Cars Ace 4.9</a>\n",
              " </td>\n",
              " <td class=\"carcass\">\n",
              "                             кабриолет (2 дв.)\n",
              "                         </td>\n",
              " <td class=\"volume\">\n",
              "                             4942 см3\n",
              "                         </td>\n",
              " <td class=\"power\">\n",
              "                             243 л.с.\n",
              "                         </td>\n",
              " <td class=\"edition nomonth\">\n",
              "                             1997 - 2001\n",
              "                         </td>\n",
              " </tr>\n",
              " </tbody>\n",
              " </table>]"
            ]
          },
          "execution_count": 33,
          "metadata": {},
          "output_type": "execute_result"
        }
      ],
      "source": [
        "table = soup.findAll('table', class_='mod-list-table')\n",
        "table"
      ]
    },
    {
      "cell_type": "code",
      "execution_count": null,
      "metadata": {
        "colab": {
          "base_uri": "https://localhost:8080/",
          "height": 287
        },
        "id": "5dl66QL3pHKP",
        "outputId": "12b64492-9264-4176-810a-5e60cd18103f"
      },
      "outputs": [
        {
          "ename": "AttributeError",
          "evalue": "ignored",
          "output_type": "error",
          "traceback": [
            "\u001b[0;31m---------------------------------------------------------------------------\u001b[0m",
            "\u001b[0;31mAttributeError\u001b[0m                            Traceback (most recent call last)",
            "\u001b[0;32m<ipython-input-35-adbe9d26f000>\u001b[0m in \u001b[0;36m<cell line: 1>\u001b[0;34m()\u001b[0m\n\u001b[0;32m----> 1\u001b[0;31m \u001b[0mtable\u001b[0m\u001b[0;34m.\u001b[0m\u001b[0mfindAll\u001b[0m\u001b[0;34m(\u001b[0m\u001b[0;34m'td'\u001b[0m\u001b[0;34m)\u001b[0m\u001b[0;34m\u001b[0m\u001b[0;34m\u001b[0m\u001b[0m\n\u001b[0m",
            "\u001b[0;32m/usr/local/lib/python3.10/dist-packages/bs4/element.py\u001b[0m in \u001b[0;36m__getattr__\u001b[0;34m(self, key)\u001b[0m\n\u001b[1;32m   2306\u001b[0m     \u001b[0;32mdef\u001b[0m \u001b[0m__getattr__\u001b[0m\u001b[0;34m(\u001b[0m\u001b[0mself\u001b[0m\u001b[0;34m,\u001b[0m \u001b[0mkey\u001b[0m\u001b[0;34m)\u001b[0m\u001b[0;34m:\u001b[0m\u001b[0;34m\u001b[0m\u001b[0;34m\u001b[0m\u001b[0m\n\u001b[1;32m   2307\u001b[0m         \u001b[0;34m\"\"\"Raise a helpful exception to explain a common code fix.\"\"\"\u001b[0m\u001b[0;34m\u001b[0m\u001b[0;34m\u001b[0m\u001b[0m\n\u001b[0;32m-> 2308\u001b[0;31m         raise AttributeError(\n\u001b[0m\u001b[1;32m   2309\u001b[0m             \u001b[0;34m\"ResultSet object has no attribute '%s'. You're probably treating a list of elements like a single element. Did you call find_all() when you meant to call find()?\"\u001b[0m \u001b[0;34m%\u001b[0m \u001b[0mkey\u001b[0m\u001b[0;34m\u001b[0m\u001b[0;34m\u001b[0m\u001b[0m\n\u001b[1;32m   2310\u001b[0m         )\n",
            "\u001b[0;31mAttributeError\u001b[0m: ResultSet object has no attribute 'findAll'. You're probably treating a list of elements like a single element. Did you call find_all() when you meant to call find()?"
          ]
        }
      ],
      "source": [
        "table.findAll('td')"
      ]
    },
    {
      "cell_type": "code",
      "execution_count": null,
      "metadata": {
        "id": "tjz033fumJeG"
      },
      "outputs": [],
      "source": [
        "film_info = {\n",
        "    'title': soup.find('h1', itemprop='name').find('span').text,\n",
        "    'title-original': soup.find('span', class_=lambda s: s and s.startswith('styles_originalTitle__')).text,\n",
        "    'rating': float(soup.find('a', {'class': 'film-rating-value'}).text), \n",
        "    'description': '\\n'.join(map(attrgetter('text'), desc))\n",
        "}"
      ]
    },
    {
      "cell_type": "code",
      "execution_count": null,
      "metadata": {
        "colab": {
          "base_uri": "https://localhost:8080/"
        },
        "id": "8quSBNj6nH20",
        "outputId": "7f2108ce-fb07-4276-8c97-26126272c8de"
      },
      "outputs": [
        {
          "data": {
            "text/plain": [
              "bs4.element.ResultSet"
            ]
          },
          "execution_count": 28,
          "metadata": {},
          "output_type": "execute_result"
        }
      ],
      "source": [
        "type(soup.findAll('table', class_='mod-list-table'))"
      ]
    },
    {
      "cell_type": "code",
      "execution_count": null,
      "metadata": {
        "colab": {
          "base_uri": "https://localhost:8080/"
        },
        "id": "ye9iXKt9liT9",
        "outputId": "35bf59ff-e17b-47a9-8bc1-c74e0d48a2cd"
      },
      "outputs": [
        {
          "data": {
            "text/plain": [
              "[<td class=\"carcass\">\n",
              "                             кабриолет (2 дв.)\n",
              "                         </td>,\n",
              " <td class=\"carcass\">\n",
              "                             кабриолет (2 дв.)\n",
              "                         </td>,\n",
              " <td class=\"carcass\">\n",
              "                             кабриолет (2 дв.)\n",
              "                         </td>,\n",
              " <td class=\"carcass\">\n",
              "                             кабриолет (2 дв.)\n",
              "                         </td>,\n",
              " <td class=\"carcass\">\n",
              "                             кабриолет (2 дв.)\n",
              "                         </td>]"
            ]
          },
          "execution_count": 25,
          "metadata": {},
          "output_type": "execute_result"
        }
      ],
      "source": [
        "soup.findAll('td', class_='carcass')"
      ]
    },
    {
      "cell_type": "code",
      "execution_count": null,
      "metadata": {
        "colab": {
          "base_uri": "https://localhost:8080/"
        },
        "id": "yVRetHJilzA4",
        "outputId": "1c91b50f-2f92-4a7b-92a1-b5c73d906b30"
      },
      "outputs": [
        {
          "data": {
            "text/plain": [
              "[<td class=\"carcass\">\n",
              "                             кабриолет (2 дв.)\n",
              "                         </td>,\n",
              " <td class=\"carcass\">\n",
              "                             кабриолет (2 дв.)\n",
              "                         </td>,\n",
              " <td class=\"carcass\">\n",
              "                             кабриолет (2 дв.)\n",
              "                         </td>,\n",
              " <td class=\"carcass\">\n",
              "                             кабриолет (2 дв.)\n",
              "                         </td>,\n",
              " <td class=\"carcass\">\n",
              "                             кабриолет (2 дв.)\n",
              "                         </td>]"
            ]
          },
          "execution_count": 31,
          "metadata": {},
          "output_type": "execute_result"
        }
      ],
      "source": [
        "soup.findAll('td', {'class': 'carcass'})"
      ]
    },
    {
      "cell_type": "markdown",
      "metadata": {
        "id": "5LC2gqyrzOB0"
      },
      "source": [
        "## weather"
      ]
    },
    {
      "cell_type": "code",
      "execution_count": null,
      "metadata": {
        "id": "bENWW9yUoXhb"
      },
      "outputs": [],
      "source": [
        "url = 'http://weatherarchive.ru/Temperature/Moscow/{month}-{year}'\n",
        "months = ['January', 'February', 'March', 'April', 'May', 'June', 'July',\n",
        "          'August', 'September', 'October', 'November', 'December']\n",
        "\n",
        "years = [2020, 2021, 2022]"
      ]
    },
    {
      "cell_type": "code",
      "execution_count": null,
      "metadata": {
        "id": "vn81-7Yz0CVr"
      },
      "outputs": [],
      "source": [
        "def parse_table(table):\n",
        "    res = {'temp': [],\n",
        "           'wet': [],\n",
        "           'p': [],\n",
        "           'wind': []}\n",
        "    \n",
        "    tags = table.findAll('td')\n",
        "    print('tags', tags)\n",
        "    k = 0\n",
        "    for tag in tags:\n",
        "        if tag.find('a') is not None:\n",
        "            continue\n",
        "            \n",
        "        if k == 0:\n",
        "            k += 1\n",
        "            res['temp'].append(float(tag.text.replace('°C', '').replace('+','').replace('−','-')))\n",
        "        elif k == 1:\n",
        "            k += 1\n",
        "            res['wet'].append(float(tag.text.replace('%','')))\n",
        "        elif k == 2:\n",
        "            k += 1\n",
        "            res['p'].append(int(tag.text))\n",
        "        else:\n",
        "            k = 0\n",
        "            res['wind'].append(int(tag.text.replace(' м/с', '')))\n",
        "    return res"
      ]
    },
    {
      "cell_type": "code",
      "execution_count": null,
      "metadata": {
        "id": "49ybQRq4psvL"
      },
      "outputs": [],
      "source": [
        "def parse_url(url):\n",
        "    page = requests.get(url)\n",
        "    soup = BeautifulSoup(page.text, \"html.parser\")\n",
        "\n",
        "    tables = soup.findAll('table', class_='smart')\n",
        "    # return tables\n",
        "    for table in tables:\n",
        "        if 'Среднесуточная' in str(table):\n",
        "            return table\n",
        "            # return parse_table(table)"
      ]
    },
    {
      "cell_type": "code",
      "execution_count": null,
      "metadata": {
        "id": "7OMV89ohrWRT"
      },
      "outputs": [],
      "source": [
        "# url = 'http://weatherarchive.ru/Temperature/Moscow/June-2022'\n",
        "# page = requests.get(url)\n",
        "# soup_weather = BeautifulSoup(page.text, \"html.parser\")\n",
        "# table_w = soup.findAll('table', class_='smart')"
      ]
    },
    {
      "cell_type": "code",
      "execution_count": null,
      "metadata": {
        "id": "9mal4zVJqg5P"
      },
      "outputs": [],
      "source": [
        "table_w = parse_url(url.format(month=months[0], year=years[0]))"
      ]
    },
    {
      "cell_type": "code",
      "execution_count": null,
      "metadata": {
        "id": "rJzEadrg_g7h"
      },
      "outputs": [],
      "source": [
        "# tables_w = parse_url(url.format(month=months[0], year=years[0]))\n",
        "\n",
        "# tables_w"
      ]
    },
    {
      "cell_type": "code",
      "execution_count": null,
      "metadata": {
        "colab": {
          "base_uri": "https://localhost:8080/",
          "height": 105
        },
        "id": "1ISZItrG_Wil",
        "outputId": "e06f75b5-705d-41f1-d2d9-6c88a52055f7"
      },
      "outputs": [
        {
          "data": {
            "application/vnd.google.colaboratory.intrinsic+json": {
              "type": "string"
            },
            "text/plain": [
              "'[<table class=\"smart\" style=\"float:right; margin-left:10px;\"><tr><th width=\"350\">Содержание</th></tr><tr><td class=\"block_link\" style=\"text-align: left;\"><nobr><a href=\"#1\" style=\"text-decoration: none;\">–&gt; График температуры</a></nobr></td></tr><tr class=\"odd\"><td class=\"block_link\" style=\"text-align: left;\"><a href=\"#2\" style=\"text-decoration: none;\">–&gt; График влажности</a></td></tr><tr><td class=\"block_link\" style=\"text-align: left;\"><a href=\"#3\" style=\"text-decoration: none;\">–&gt; Роза ветров</a></td></tr><tr class=\"odd\"><td class=\"block_link\" style=\"text-align: left;\"><a href=\"#4\" style=\"text-decoration: none;\">–&gt; Таблица погоды</a></td></tr><tr><td class=\"block_link\" style=\"text-align: left;\"><a href=\"#5\" style=\"text-decoration: none;\">–&gt; Средние значения, минимумы и максимумы</a></td></tr><tr class=\"odd\"><td class=\"block_link\" style=\"text-align: left;\"><a href=\"#6\" style=\"text-decoration: none;\">–&gt; График температуры в январе в разные годы</a></td></tr><tr><td class=\"block_link\" style=\"text-align: left;\"><a href=\"#7\" style=\"text-decoration: none;\">–&gt; История погоды в январе за 1999-2023 годы</a></td></tr></table>, <table class=\"smart\" style=\"float:right; margin: 5px 25px 0px 0px; max-width:270px;\"><tr><th colspan=\"3\">Роза ветров в Москве в январе 2020 года</th></tr><tr><th colspan=\"2\">Направление</th><th>Частота</th></tr><tr><td><img height=\"16\" src=\"/images/Wind/n.png\" width=\"16\"/></td><td>Северный</td><td>2.9%</td></tr><tr class=\"odd\"><td><img height=\"16\" src=\"/images/Wind/ne.png\" width=\"16\"/></td><td>Северо-восточный</td><td>1.6%</td></tr><tr><td><img height=\"16\" src=\"/images/Wind/e.png\" width=\"16\"/></td><td>Восточный</td><td>5.3%</td></tr><tr class=\"odd\"><td><img height=\"16\" src=\"/images/Wind/se.png\" width=\"16\"/></td><td>Юго-восточный</td><td>4.5%</td></tr><tr><td><img height=\"16\" src=\"/images/Wind/s.png\" width=\"16\"/></td><td>Южный</td><td>2.9%</td></tr><tr class=\"odd\"><td><img height=\"16\" src=\"/images/Wind/sw.png\" width=\"16\"/></td><td>Юго-западный</td><td>33.1%</td></tr><tr><td><img height=\"16\" src=\"/images/Wind/w.png\" width=\"16\"/></td><td>Западный</td><td>38%</td></tr><tr class=\"odd\"><td><img height=\"16\" src=\"/images/Wind/nw.png\" width=\"16\"/></td><td>Северо-западный</td><td>11.8%</td></tr></table>, <table class=\"smart\"> <tr><th>День<br/>месяца</th>\\n<th>Среднесуточная<br/>температура</th>\\n<th>Средняя<br/>влажность</th>\\n<th>Атмосферное<br/>давление</th>\\n<th>Скорость<br/>ветра</th></tr><tr><td><a href=\"http://weatherarchive.ru/Moscow/1-January-2020\" hreflang=\"ru\" title=\"Погода в Москве 1 января 2020 года\">1 января</a></td><td>−2.25°C</td>\\n<td>82.86%</td>\\n<td>741</td>\\n<td>5 м/с</td></tr><tr class=\"odd\"><td><a href=\"http://weatherarchive.ru/Moscow/2-January-2020\" hreflang=\"ru\" title=\"Погода в Москве 2 января 2020 года\">2 января</a></td><td>−1.49°C</td>\\n<td>91.00%</td>\\n<td>743</td>\\n<td>4 м/с</td></tr><tr><td><a href=\"http://weatherarchive.ru/Moscow/3-January-2020\" hreflang=\"ru\" title=\"Погода в Москве 3 января 2020 года\">3 января</a></td><td>−0.27°C</td>\\n<td>90.00%</td>\\n<td>743</td>\\n<td>4 м/с</td></tr><tr class=\"odd\"><td><a href=\"http://weatherarchive.ru/Moscow/4-January-2020\" hreflang=\"ru\" title=\"Погода в Москве 4 января 2020 года\">4 января</a></td><td>−2.67°C</td>\\n<td>87.14%</td>\\n<td>736</td>\\n<td>4 м/с</td></tr><tr><td><a href=\"http://weatherarchive.ru/Moscow/5-January-2020\" hreflang=\"ru\" title=\"Погода в Москве 5 января 2020 года\">5 января</a></td><td>−1.52°C</td>\\n<td>83.57%</td>\\n<td>744</td>\\n<td>3 м/с</td></tr><tr class=\"odd\"><td><a href=\"http://weatherarchive.ru/Moscow/6-January-2020\" hreflang=\"ru\" title=\"Погода в Москве 6 января 2020 года\">6 января</a></td><td>−2.64°C</td>\\n<td>83.86%</td>\\n<td>754</td>\\n<td>2 м/с</td></tr><tr><td><a href=\"http://weatherarchive.ru/Moscow/7-January-2020\" hreflang=\"ru\" title=\"Погода в Москве 7 января 2020 года\">7 января</a></td><td>−3.24°C</td>\\n<td>86.29%</td>\\n<td>754</td>\\n<td>3 м/с</td></tr><tr class=\"odd\"><td><a href=\"http://weatherarchive.ru/Moscow/8-January-2020\" hreflang=\"ru\" title=\"Погода в Москве 8 января 2020 года\">8 января</a></td><td>−1.28°C</td>\\n<td>89.29%</td>\\n<td>752</td>\\n<td>4 м/с</td></tr><tr><td><a href=\"http://weatherarchive.ru/Moscow/9-January-2020\" hreflang=\"ru\" title=\"Погода в Москве 9 января 2020 года\">9 января</a></td><td>−1.11°C</td>\\n<td>89.43%</td>\\n<td>744</td>\\n<td>4 м/с</td></tr><tr class=\"odd\"><td><a href=\"http://weatherarchive.ru/Moscow/10-January-2020\" hreflang=\"ru\" title=\"Погода в Москве 10 января 2020 года\">10 января</a></td><td>−0.48°C</td>\\n<td>89.00%</td>\\n<td>747</td>\\n<td>2 м/с</td></tr><tr><td><a href=\"http://weatherarchive.ru/Moscow/11-January-2020\" hreflang=\"ru\" title=\"Погода в Москве 11 января 2020 года\">11 января</a></td><td>−1.92°C</td>\\n<td>92.86%</td>\\n<td>748</td>\\n<td>2 м/с</td></tr><tr class=\"odd\"><td><a href=\"http://weatherarchive.ru/Moscow/12-January-2020\" hreflang=\"ru\" title=\"Погода в Москве 12 января 2020 года\">12 января</a></td><td>−4.71°C</td>\\n<td>83.50%</td>\\n<td>746</td>\\n<td>5 м/с</td></tr><tr><td><a href=\"http://weatherarchive.ru/Moscow/13-January-2020\" hreflang=\"ru\" title=\"Погода в Москве 13 января 2020 года\">13 января</a></td><td>−0.24°C</td>\\n<td>89.29%</td>\\n<td>742</td>\\n<td>4 м/с</td></tr><tr class=\"odd\"><td><a href=\"http://weatherarchive.ru/Moscow/14-January-2020\" hreflang=\"ru\" title=\"Погода в Москве 14 января 2020 года\">14 января</a></td><td>−1.3°C</td>\\n<td>89.57%</td>\\n<td>751</td>\\n<td>2 м/с</td></tr><tr><td><a href=\"http://weatherarchive.ru/Moscow/15-January-2020\" hreflang=\"ru\" title=\"Погода в Москве 15 января 2020 года\">15 января</a></td><td>−0.11°C</td>\\n<td>86.86%</td>\\n<td>752</td>\\n<td>6 м/с</td></tr><tr class=\"odd\"><td><a href=\"http://weatherarchive.ru/Moscow/16-January-2020\" hreflang=\"ru\" title=\"Погода в Москве 16 января 2020 года\">16 января</a></td><td>+1.05°C</td>\\n<td>85.83%</td>\\n<td>749</td>\\n<td>6 м/с</td></tr><tr><td><a href=\"http://weatherarchive.ru/Moscow/17-January-2020\" hreflang=\"ru\" title=\"Погода в Москве 17 января 2020 года\">17 января</a></td><td>+1.49°C</td>\\n<td>89.29%</td>\\n<td>754</td>\\n<td>3 м/с</td></tr><tr class=\"odd\"><td><a href=\"http://weatherarchive.ru/Moscow/18-January-2020\" hreflang=\"ru\" title=\"Погода в Москве 18 января 2020 года\">18 января</a></td><td>−0.35°C</td>\\n<td>90.29%</td>\\n<td>754</td>\\n<td>3 м/с</td></tr><tr><td><a href=\"http://weatherarchive.ru/Moscow/19-January-2020\" hreflang=\"ru\" title=\"Погода в Москве 19 января 2020 года\">19 января</a></td><td>−2.05°C</td>\\n<td>86.86%</td>\\n<td>755</td>\\n<td>3 м/с</td></tr><tr class=\"odd\"><td><a href=\"http://weatherarchive.ru/Moscow/20-January-2020\" hreflang=\"ru\" title=\"Погода в Москве 20 января 2020 года\">20 января</a></td><td>−0.19°C</td>\\n<td>88.57%</td>\\n<td>754</td>\\n<td>5 м/с</td></tr><tr><td><a href=\"http://weatherarchive.ru/Moscow/21-January-2020\" hreflang=\"ru\" title=\"Погода в Москве 21 января 2020 года\">21 января</a></td><td>+0.66°C</td>\\n<td>89.14%</td>\\n<td>741</td>\\n<td>6 м/с</td></tr><tr class=\"odd\"><td><a href=\"http://weatherarchive.ru/Moscow/22-January-2020\" hreflang=\"ru\" title=\"Погода в Москве 22 января 2020 года\">22 января</a></td><td>−0.95°C</td>\\n<td>80.29%</td>\\n<td>735</td>\\n<td>5 м/с</td></tr><tr><td><a href=\"http://weatherarchive.ru/Moscow/23-January-2020\" hreflang=\"ru\" title=\"Погода в Москве 23 января 2020 года\">23 января</a></td><td>−5.47°C</td>\\n<td>73.00%</td>\\n<td>741</td>\\n<td>5 м/с</td></tr><tr class=\"odd\"><td><a href=\"http://weatherarchive.ru/Moscow/24-January-2020\" hreflang=\"ru\" title=\"Погода в Москве 24 января 2020 года\">24 января</a></td><td>−4.4°C</td>\\n<td>89.14%</td>\\n<td>739</td>\\n<td>5 м/с</td></tr><tr><td><a href=\"http://weatherarchive.ru/Moscow/25-January-2020\" hreflang=\"ru\" title=\"Погода в Москве 25 января 2020 года\">25 января</a></td><td>−0.58°C</td>\\n<td>86.00%</td>\\n<td>735</td>\\n<td>5 м/с</td></tr><tr class=\"odd\"><td><a href=\"http://weatherarchive.ru/Moscow/26-January-2020\" hreflang=\"ru\" title=\"Погода в Москве 26 января 2020 года\">26 января</a></td><td>−2.33°C</td>\\n<td>80.29%</td>\\n<td>742</td>\\n<td>5 м/с</td></tr><tr><td><a href=\"http://weatherarchive.ru/Moscow/27-January-2020\" hreflang=\"ru\" title=\"Погода в Москве 27 января 2020 года\">27 января</a></td><td>−1.8°C</td>\\n<td>84.14%</td>\\n<td>746</td>\\n<td>3 м/с</td></tr><tr class=\"odd\"><td><a href=\"http://weatherarchive.ru/Moscow/28-January-2020\" hreflang=\"ru\" title=\"Погода в Москве 28 января 2020 года\">28 января</a></td><td>−6.01°C</td>\\n<td>91.29%</td>\\n<td>745</td>\\n<td>4 м/с</td></tr><tr><td><a href=\"http://weatherarchive.ru/Moscow/29-January-2020\" hreflang=\"ru\" title=\"Погода в Москве 29 января 2020 года\">29 января</a></td><td>−1.41°C</td>\\n<td>93.86%</td>\\n<td>742</td>\\n<td>2 м/с</td></tr><tr class=\"odd\"><td><a href=\"http://weatherarchive.ru/Moscow/30-January-2020\" hreflang=\"ru\" title=\"Погода в Москве 30 января 2020 года\">30 января</a></td><td>−1.61°C</td>\\n<td>94.67%</td>\\n<td>737</td>\\n<td>3 м/с</td></tr><tr><td><a href=\"http://weatherarchive.ru/Moscow/31-January-2020\" hreflang=\"ru\" title=\"Погода в Москве 31 января 2020 года\">31 января</a></td><td>−1.26°C</td>\\n<td>92.00%</td>\\n<td>736</td>\\n<td>1 м/с</td></tr></table>, <table class=\"smart\"><tr><th>Параметр (январь 2020)</th><th>Значение</th><th>Дата</th></tr><tr><td>Минимальная температура</td><td>−8.1°C</td><td>28 января в 02:00</td></tr><tr class=\"odd\"><td>Максимальная температура</td><td>+2.5°C</td><td>17 января в 11:00</td></tr><tr><td>Минимальная среднесуточная температура</td><td>−6.01°C</td><td>28 января</td></tr><tr class=\"odd\"><td>Максимальная среднесуточная температура</td><td>+1.49°C</td><td>17 января</td></tr><tr><td>Среднемесячная температура</td><td>−1.63°C</td><td>—</td></tr></table>, <table class=\"smart\"><tr><th>Параметр</th><th>Значение</th></tr><tr><td>Фактически в январе 2020 года</td><td>−1.63°C</td></tr><tr class=\"odd\"><td>В среднем в январе 1999 – 2023 годов</td><td>−6.40°C</td></tr><tr><td>Согласно СП 131.13330.2012 \"Строительная климатология\"<br/>(2012 год выпуска)</td><td>−7.80°C</td></tr></table>, <table class=\"smart\"><tr><th colspan=\"3\">Москва</th></tr><tr><th>Месяц</th><th>t, °C</th><th>φ, %</th></tr><tr><td class=\"block_link\" width=\"90\"><a href=\"http://weatherarchive.ru/Pogoda/Moscow/January\" hreflang=\"ru\" title=\"Погода в Москве в январе\">Январь</a></td><td>−6.7°C</td><td>85%</td></tr><tr class=\"odd\"><td class=\"block_link\" width=\"90\"><a href=\"http://weatherarchive.ru/Pogoda/Moscow/February\" hreflang=\"ru\" title=\"Погода в Москве в феврале\">Февраль</a></td><td>−6.1°C</td><td>82%</td></tr><tr><td class=\"block_link\" width=\"90\"><a href=\"http://weatherarchive.ru/Pogoda/Moscow/March\" hreflang=\"ru\" title=\"Погода в Москве в марте\">Март</a></td><td>−0.9°C</td><td>74%</td></tr><tr class=\"odd\"><td class=\"block_link\" width=\"90\"><a href=\"http://weatherarchive.ru/Pogoda/Moscow/April\" hreflang=\"ru\" title=\"Погода в Москве в апреле\">Апрель</a></td><td>+6.9°C</td><td>66%</td></tr><tr><td class=\"block_link\" width=\"90\"><a href=\"http://weatherarchive.ru/Pogoda/Moscow/May\" hreflang=\"ru\" title=\"Погода в Москве в мае\">Май</a></td><td>+13.1°C</td><td>65%</td></tr><tr class=\"odd\"><td class=\"block_link\" width=\"90\"><a href=\"http://weatherarchive.ru/Pogoda/Moscow/June\" hreflang=\"ru\" title=\"Погода в Москве в июне\">Июнь</a></td><td>+17.2°C</td><td>68%</td></tr><tr><td class=\"block_link\" width=\"90\"><a href=\"http://weatherarchive.ru/Pogoda/Moscow/July\" hreflang=\"ru\" title=\"Погода в Москве в июле\">Июль</a></td><td>+20°C</td><td>72%</td></tr><tr class=\"odd\"><td class=\"block_link\" width=\"90\"><a href=\"http://weatherarchive.ru/Pogoda/Moscow/August\" hreflang=\"ru\" title=\"Погода в Москве в августе\">Август</a></td><td>+17.9°C</td><td>74%</td></tr><tr><td class=\"block_link\" width=\"90\"><a href=\"http://weatherarchive.ru/Pogoda/Moscow/September\" hreflang=\"ru\" title=\"Погода в Москве в сентябре\">Сентябрь</a></td><td>+11.8°C</td><td>80%</td></tr><tr class=\"odd\"><td class=\"block_link\" width=\"90\"><a href=\"http://weatherarchive.ru/Pogoda/Moscow/October\" hreflang=\"ru\" title=\"Погода в Москве в октябре\">Октябрь</a></td><td>+5.9°C</td><td>82%</td></tr><tr><td class=\"block_link\" width=\"90\"><a href=\"http://weatherarchive.ru/Pogoda/Moscow/November\" hreflang=\"ru\" title=\"Погода в Москве в ноябре\">Ноябрь</a></td><td>−0.1°C</td><td>86%</td></tr><tr class=\"odd\"><td class=\"block_link\" width=\"90\"><a href=\"http://weatherarchive.ru/Pogoda/Moscow/December\" hreflang=\"ru\" title=\"Погода в Москве в декабре\">Декабрь</a></td><td>−4.3°C</td><td>87%</td></tr><tr><th class=\"block_link\"><a href=\"http://weatherarchive.ru/Pogoda/Moscow\" hreflang=\"ru\" title=\"Погода в Москве по месяцам\">По месяцам</a></th><th>6.2°C</th><th>77%</th></tr></table>]'"
            ]
          },
          "execution_count": 175,
          "metadata": {},
          "output_type": "execute_result"
        }
      ],
      "source": [
        "str(table_w)"
      ]
    },
    {
      "cell_type": "code",
      "execution_count": null,
      "metadata": {
        "id": "yUsmZIz3q4ZW"
      },
      "outputs": [],
      "source": [
        "table_w"
      ]
    },
    {
      "cell_type": "code",
      "execution_count": null,
      "metadata": {
        "id": "KIL1B7m_zmJw"
      },
      "outputs": [],
      "source": [
        "res_tw = table_w.findAll('td')"
      ]
    },
    {
      "cell_type": "code",
      "execution_count": null,
      "metadata": {
        "id": "oX_wgovW5Oja"
      },
      "outputs": [],
      "source": [
        "res_tw"
      ]
    },
    {
      "cell_type": "markdown",
      "metadata": {
        "id": "-NbWWMAVzQlu"
      },
      "source": [
        "## cars"
      ]
    },
    {
      "cell_type": "code",
      "execution_count": null,
      "metadata": {
        "id": "8eXxKlaoZPfH"
      },
      "outputs": [],
      "source": [
        "import re"
      ]
    },
    {
      "cell_type": "code",
      "execution_count": null,
      "metadata": {
        "id": "eFcfXi5fzQKd"
      },
      "outputs": [],
      "source": [
        "# url = 'http://www.autonet.ru/auto/ttx/ac_cars/ace'\n",
        "url = 'http://www.autonet.ru/auto/ttx/audi/a3'"
      ]
    },
    {
      "cell_type": "code",
      "execution_count": null,
      "metadata": {
        "id": "nopzNkQrtf2K"
      },
      "outputs": [],
      "source": [
        "page = requests.get(url)\n",
        "soup = BeautifulSoup(page.text, \"html.parser\")\n",
        "\n",
        "    # tables = soup.findAll('table', class_='mod-list-table')\n",
        "tables = soup.findAll('table', class_=lambda s: s and s.startswith('mod-list'))\n",
        "tables"
      ]
    },
    {
      "cell_type": "code",
      "execution_count": null,
      "metadata": {
        "colab": {
          "base_uri": "https://localhost:8080/"
        },
        "id": "yCNKjKqgwitj",
        "outputId": "ebd7a4ff-ae7a-43f8-cdaa-5de7d72de9dc"
      },
      "outputs": [
        {
          "data": {
            "text/plain": [
              "11"
            ]
          },
          "execution_count": 321,
          "metadata": {},
          "output_type": "execute_result"
        }
      ],
      "source": [
        "# i = 0\n",
        "# for table in tables:\n",
        "#   i += 1\n",
        "#   table.findAll('td')\n",
        "# i"
      ]
    },
    {
      "cell_type": "code",
      "execution_count": null,
      "metadata": {
        "id": "FKI5oQA9zaJu"
      },
      "outputs": [],
      "source": [
        "def parse_url(url):\n",
        "    page = requests.get(url)\n",
        "    soup = BeautifulSoup(page.text, \"html.parser\")\n",
        "\n",
        "    # tables = soup.findAll('table', class_='mod-list-table')\n",
        "    tables = soup.findAll('table', class_=lambda s: s and s.startswith('mod-list'))\n",
        "    \n",
        "    frames = []\n",
        "    for table in tables:\n",
        "      res_ = parse_table(table)\n",
        "      frames.append(res_)\n",
        "      # print(result)\n",
        "    result = pd.concat(frames)\n",
        "    # result.reset_index().drop('index', axis=1)\n",
        "\n",
        "    return result"
      ]
    },
    {
      "cell_type": "code",
      "execution_count": null,
      "metadata": {
        "colab": {
          "background_save": true
        },
        "id": "qN3TSG-BEgyi"
      },
      "outputs": [],
      "source": [
        "def parse_table(table):\n",
        "    res = {'name': [],\n",
        "           'release_year': [],\n",
        "           'carcass': [],\n",
        "           'doors': [],\n",
        "           'volume': [],\n",
        "           'power': []}\n",
        "    \n",
        "    name_tags = table.findAll('td', class_=\"mod\")\n",
        "    [res['name'].append(el.text.strip()) for el in name_tags]\n",
        "      \n",
        "\n",
        "    carcass_tags = table.findAll('td', class_=\"carcass\")\n",
        "    \n",
        "    for el in carcass_tags:\n",
        "      carcass_type, doors, *_ = el.text.split()\n",
        "      res['carcass'].append(carcass_type)\n",
        "      res['doors'].append(int(re.findall(r'\\d+', doors)[0]))\n",
        "\n",
        "    year_tags = table.findAll('td', class_=lambda s: s and s.startswith('edition'))\n",
        "\n",
        "    for el in year_tags:\n",
        "      release_year, *_ = el.text.split()\n",
        "      release_year = release_year[-4:]\n",
        "      res['release_year'].append(release_year)\n",
        "\n",
        "    volume_tags = table.findAll('td', class_=\"volume\")\n",
        "\n",
        "    for el in volume_tags:\n",
        "      volume, *_ = el.text.split()\n",
        "      res['volume'].append(int(volume))\n",
        "\n",
        "    power_tags = table.findAll('td', class_=\"power\")\n",
        "\n",
        "    for el in power_tags:\n",
        "      power, *_ = el.text.split()\n",
        "      res['power'].append(int(power))\n",
        "\n",
        "    return pd.DataFrame(res)"
      ]
    },
    {
      "cell_type": "code",
      "execution_count": null,
      "metadata": {
        "id": "N_Vmh_tR09bt"
      },
      "outputs": [],
      "source": [
        "# data = '01.2004'\n",
        "# data[-4:]"
      ]
    },
    {
      "cell_type": "code",
      "execution_count": null,
      "metadata": {
        "id": "ryA9wrQB3nzj"
      },
      "outputs": [],
      "source": [
        "# a = {'name': ['Audi A3 Sedan 1.4 TFSI', 'Audi A3 Sedan 2.0 TFSI', 'Audi A3 Sedan 2.0 TFSI quattro', 'Audi A3 Sportback 1.4 TFSI', 'Audi A3 Sportback 2.0 TFSI', 'Audi A3 Sportback 2.0 TFSI quattro'], 'release_year': ['2016', '2016', '2016', '2016', '2016', '2016'], 'carcass': ['седан', 'седан', 'седан', 'хэтчбек', 'хэтчбек', 'хэтчбек'], 'doors': [4, 4, 4, 5, 5, 5], 'volume': [1395, 1984, 1984, 1395, 1984, 1984], 'power': [150, 190, 190, 150, 190, 190]}\n",
        "# b = {'name': ['Audi A3 Sportback 1.4 TFSI', 'Audi A3 Sportback 1.8 TFSI', 'Audi A3 Sportback 2.0 TDI', 'Audi RS3 Sportback 2.5 TFSI quattro', 'Audi S3 Sportback 2.0 TFSI quattro'], 'release_year': ['2012', '2012', '2012', '2015', '2013'], 'carcass': ['хэтчбек', 'хэтчбек', 'хэтчбек', 'хэтчбек', 'хэтчбек'], 'doors': [5, 5, 5, 5, 5], 'volume': [1395, 1798, 1968, 2480, 1984], 'power': [122, 180, 150, 367, 300]}\n",
        "\n",
        "# a = pd.DataFrame(a)\n",
        "# b = pd.DataFrame(b)\n",
        "\n",
        "# frames = [a, b]\n",
        "\n",
        "# result = pd.concat(frames)\n",
        "# result.reset_index().drop('index', axis=1)"
      ]
    },
    {
      "cell_type": "code",
      "execution_count": null,
      "metadata": {
        "colab": {
          "base_uri": "https://localhost:8080/",
          "height": 424
        },
        "id": "7-4qOsXAFTr0",
        "outputId": "f075d4cf-e101-4dde-fccf-30784ac6dc93"
      },
      "outputs": [
        {
          "data": {
            "text/html": [
              "\n",
              "  <div id=\"df-ad48a4c9-6cea-415d-bb33-20c0eb89a24e\">\n",
              "    <div class=\"colab-df-container\">\n",
              "      <div>\n",
              "<style scoped>\n",
              "    .dataframe tbody tr th:only-of-type {\n",
              "        vertical-align: middle;\n",
              "    }\n",
              "\n",
              "    .dataframe tbody tr th {\n",
              "        vertical-align: top;\n",
              "    }\n",
              "\n",
              "    .dataframe thead th {\n",
              "        text-align: right;\n",
              "    }\n",
              "</style>\n",
              "<table border=\"1\" class=\"dataframe\">\n",
              "  <thead>\n",
              "    <tr style=\"text-align: right;\">\n",
              "      <th></th>\n",
              "      <th>name</th>\n",
              "      <th>release_year</th>\n",
              "      <th>carcass</th>\n",
              "      <th>doors</th>\n",
              "      <th>volume</th>\n",
              "      <th>power</th>\n",
              "    </tr>\n",
              "  </thead>\n",
              "  <tbody>\n",
              "    <tr>\n",
              "      <th>0</th>\n",
              "      <td>Audi A3 Sedan 1.4 TFSI</td>\n",
              "      <td>2016</td>\n",
              "      <td>седан</td>\n",
              "      <td>4</td>\n",
              "      <td>1395</td>\n",
              "      <td>150</td>\n",
              "    </tr>\n",
              "    <tr>\n",
              "      <th>1</th>\n",
              "      <td>Audi A3 Sedan 2.0 TFSI</td>\n",
              "      <td>2016</td>\n",
              "      <td>седан</td>\n",
              "      <td>4</td>\n",
              "      <td>1984</td>\n",
              "      <td>190</td>\n",
              "    </tr>\n",
              "    <tr>\n",
              "      <th>2</th>\n",
              "      <td>Audi A3 Sedan 2.0 TFSI quattro</td>\n",
              "      <td>2016</td>\n",
              "      <td>седан</td>\n",
              "      <td>4</td>\n",
              "      <td>1984</td>\n",
              "      <td>190</td>\n",
              "    </tr>\n",
              "    <tr>\n",
              "      <th>3</th>\n",
              "      <td>Audi A3 Sportback 1.4 TFSI</td>\n",
              "      <td>2016</td>\n",
              "      <td>хэтчбек</td>\n",
              "      <td>5</td>\n",
              "      <td>1395</td>\n",
              "      <td>150</td>\n",
              "    </tr>\n",
              "    <tr>\n",
              "      <th>4</th>\n",
              "      <td>Audi A3 Sportback 2.0 TFSI</td>\n",
              "      <td>2016</td>\n",
              "      <td>хэтчбек</td>\n",
              "      <td>5</td>\n",
              "      <td>1984</td>\n",
              "      <td>190</td>\n",
              "    </tr>\n",
              "    <tr>\n",
              "      <th>...</th>\n",
              "      <td>...</td>\n",
              "      <td>...</td>\n",
              "      <td>...</td>\n",
              "      <td>...</td>\n",
              "      <td>...</td>\n",
              "      <td>...</td>\n",
              "    </tr>\n",
              "    <tr>\n",
              "      <th>12</th>\n",
              "      <td>Audi A3 1.9 TDI</td>\n",
              "      <td>1997</td>\n",
              "      <td>хэтчбек</td>\n",
              "      <td>3</td>\n",
              "      <td>1896</td>\n",
              "      <td>110</td>\n",
              "    </tr>\n",
              "    <tr>\n",
              "      <th>13</th>\n",
              "      <td>Audi A3 1.9 TDI</td>\n",
              "      <td>1999</td>\n",
              "      <td>хэтчбек</td>\n",
              "      <td>5</td>\n",
              "      <td>1896</td>\n",
              "      <td>110</td>\n",
              "    </tr>\n",
              "    <tr>\n",
              "      <th>14</th>\n",
              "      <td>Audi A3 1.9 TDI</td>\n",
              "      <td>1996</td>\n",
              "      <td>хэтчбек</td>\n",
              "      <td>3</td>\n",
              "      <td>1896</td>\n",
              "      <td>90</td>\n",
              "    </tr>\n",
              "    <tr>\n",
              "      <th>15</th>\n",
              "      <td>Audi A3 1.9 TDI</td>\n",
              "      <td>1999</td>\n",
              "      <td>хэтчбек</td>\n",
              "      <td>5</td>\n",
              "      <td>1896</td>\n",
              "      <td>90</td>\n",
              "    </tr>\n",
              "    <tr>\n",
              "      <th>16</th>\n",
              "      <td>Audi S3 1.8 TFSI quattro</td>\n",
              "      <td>1999</td>\n",
              "      <td>хэтчбек</td>\n",
              "      <td>3</td>\n",
              "      <td>1781</td>\n",
              "      <td>210</td>\n",
              "    </tr>\n",
              "  </tbody>\n",
              "</table>\n",
              "<p>145 rows × 6 columns</p>\n",
              "</div>\n",
              "      <button class=\"colab-df-convert\" onclick=\"convertToInteractive('df-ad48a4c9-6cea-415d-bb33-20c0eb89a24e')\"\n",
              "              title=\"Convert this dataframe to an interactive table.\"\n",
              "              style=\"display:none;\">\n",
              "        \n",
              "  <svg xmlns=\"http://www.w3.org/2000/svg\" height=\"24px\"viewBox=\"0 0 24 24\"\n",
              "       width=\"24px\">\n",
              "    <path d=\"M0 0h24v24H0V0z\" fill=\"none\"/>\n",
              "    <path d=\"M18.56 5.44l.94 2.06.94-2.06 2.06-.94-2.06-.94-.94-2.06-.94 2.06-2.06.94zm-11 1L8.5 8.5l.94-2.06 2.06-.94-2.06-.94L8.5 2.5l-.94 2.06-2.06.94zm10 10l.94 2.06.94-2.06 2.06-.94-2.06-.94-.94-2.06-.94 2.06-2.06.94z\"/><path d=\"M17.41 7.96l-1.37-1.37c-.4-.4-.92-.59-1.43-.59-.52 0-1.04.2-1.43.59L10.3 9.45l-7.72 7.72c-.78.78-.78 2.05 0 2.83L4 21.41c.39.39.9.59 1.41.59.51 0 1.02-.2 1.41-.59l7.78-7.78 2.81-2.81c.8-.78.8-2.07 0-2.86zM5.41 20L4 18.59l7.72-7.72 1.47 1.35L5.41 20z\"/>\n",
              "  </svg>\n",
              "      </button>\n",
              "      \n",
              "  <style>\n",
              "    .colab-df-container {\n",
              "      display:flex;\n",
              "      flex-wrap:wrap;\n",
              "      gap: 12px;\n",
              "    }\n",
              "\n",
              "    .colab-df-convert {\n",
              "      background-color: #E8F0FE;\n",
              "      border: none;\n",
              "      border-radius: 50%;\n",
              "      cursor: pointer;\n",
              "      display: none;\n",
              "      fill: #1967D2;\n",
              "      height: 32px;\n",
              "      padding: 0 0 0 0;\n",
              "      width: 32px;\n",
              "    }\n",
              "\n",
              "    .colab-df-convert:hover {\n",
              "      background-color: #E2EBFA;\n",
              "      box-shadow: 0px 1px 2px rgba(60, 64, 67, 0.3), 0px 1px 3px 1px rgba(60, 64, 67, 0.15);\n",
              "      fill: #174EA6;\n",
              "    }\n",
              "\n",
              "    [theme=dark] .colab-df-convert {\n",
              "      background-color: #3B4455;\n",
              "      fill: #D2E3FC;\n",
              "    }\n",
              "\n",
              "    [theme=dark] .colab-df-convert:hover {\n",
              "      background-color: #434B5C;\n",
              "      box-shadow: 0px 1px 3px 1px rgba(0, 0, 0, 0.15);\n",
              "      filter: drop-shadow(0px 1px 2px rgba(0, 0, 0, 0.3));\n",
              "      fill: #FFFFFF;\n",
              "    }\n",
              "  </style>\n",
              "\n",
              "      <script>\n",
              "        const buttonEl =\n",
              "          document.querySelector('#df-ad48a4c9-6cea-415d-bb33-20c0eb89a24e button.colab-df-convert');\n",
              "        buttonEl.style.display =\n",
              "          google.colab.kernel.accessAllowed ? 'block' : 'none';\n",
              "\n",
              "        async function convertToInteractive(key) {\n",
              "          const element = document.querySelector('#df-ad48a4c9-6cea-415d-bb33-20c0eb89a24e');\n",
              "          const dataTable =\n",
              "            await google.colab.kernel.invokeFunction('convertToInteractive',\n",
              "                                                     [key], {});\n",
              "          if (!dataTable) return;\n",
              "\n",
              "          const docLinkHtml = 'Like what you see? Visit the ' +\n",
              "            '<a target=\"_blank\" href=https://colab.research.google.com/notebooks/data_table.ipynb>data table notebook</a>'\n",
              "            + ' to learn more about interactive tables.';\n",
              "          element.innerHTML = '';\n",
              "          dataTable['output_type'] = 'display_data';\n",
              "          await google.colab.output.renderOutput(dataTable, element);\n",
              "          const docLink = document.createElement('div');\n",
              "          docLink.innerHTML = docLinkHtml;\n",
              "          element.appendChild(docLink);\n",
              "        }\n",
              "      </script>\n",
              "    </div>\n",
              "  </div>\n",
              "  "
            ],
            "text/plain": [
              "                              name release_year  carcass  doors  volume  power\n",
              "0           Audi A3 Sedan 1.4 TFSI         2016    седан      4    1395    150\n",
              "1           Audi A3 Sedan 2.0 TFSI         2016    седан      4    1984    190\n",
              "2   Audi A3 Sedan 2.0 TFSI quattro         2016    седан      4    1984    190\n",
              "3       Audi A3 Sportback 1.4 TFSI         2016  хэтчбек      5    1395    150\n",
              "4       Audi A3 Sportback 2.0 TFSI         2016  хэтчбек      5    1984    190\n",
              "..                             ...          ...      ...    ...     ...    ...\n",
              "12                 Audi A3 1.9 TDI         1997  хэтчбек      3    1896    110\n",
              "13                 Audi A3 1.9 TDI         1999  хэтчбек      5    1896    110\n",
              "14                 Audi A3 1.9 TDI         1996  хэтчбек      3    1896     90\n",
              "15                 Audi A3 1.9 TDI         1999  хэтчбек      5    1896     90\n",
              "16        Audi S3 1.8 TFSI quattro         1999  хэтчбек      3    1781    210\n",
              "\n",
              "[145 rows x 6 columns]"
            ]
          },
          "execution_count": 382,
          "metadata": {},
          "output_type": "execute_result"
        }
      ],
      "source": [
        "df = parse_url(url)\n",
        "# df.reset_index().drop('index', axis=1)\n",
        "# df = df.sort_values(by=['name', 'release_year', 'carcass', 'doors', 'volume', 'power'])\n",
        "df"
      ]
    },
    {
      "cell_type": "code",
      "execution_count": null,
      "metadata": {
        "id": "Hanyzw3UZFsI"
      },
      "outputs": [],
      "source": [
        "# a = '(2'\n",
        "# int(re.findall(r'\\d+', a)[0])"
      ]
    },
    {
      "cell_type": "code",
      "execution_count": null,
      "metadata": {
        "colab": {
          "base_uri": "https://localhost:8080/",
          "height": 35
        },
        "id": "RAx7PovwHtNq",
        "outputId": "376a37b9-e00d-4179-d59c-6a549e7223d5"
      },
      "outputs": [
        {
          "data": {
            "application/vnd.google.colaboratory.intrinsic+json": {
              "type": "string"
            },
            "text/plain": [
              "'AC Cars Ace 3.5'"
            ]
          },
          "execution_count": 225,
          "metadata": {},
          "output_type": "execute_result"
        }
      ],
      "source": [
        "# a[0].text"
      ]
    },
    {
      "cell_type": "code",
      "execution_count": null,
      "metadata": {
        "colab": {
          "base_uri": "https://localhost:8080/"
        },
        "id": "6mdXEk7azgMP",
        "outputId": "967fefe1-d2e2-4c06-c866-d5c4ab914c79"
      },
      "outputs": [
        {
          "data": {
            "text/plain": [
              "<table class=\"mod-list-table\">\n",
              "<tbody>\n",
              "<tr>\n",
              "<th class=\"mod\">\n",
              "                        Марка и модификация\n",
              "                    </th>\n",
              "<th class=\"carcass\">\n",
              "                        Тип кузова\n",
              "                    </th>\n",
              "<th class=\"volume\">\n",
              "                        Объем\n",
              "                    </th>\n",
              "<th class=\"power\">\n",
              "                        Мощность\n",
              "                    </th>\n",
              "<th class=\"edition\">\n",
              "                        Выпуск\n",
              "                    </th>\n",
              "</tr>\n",
              "<tr>\n",
              "<td class=\"mod\">\n",
              "<a href=\"/auto/ttx/ac_cars/ace/270158\">AC Cars Ace 3.5</a>\n",
              "</td>\n",
              "<td class=\"carcass\">\n",
              "                            кабриолет (2 дв.)\n",
              "                        </td>\n",
              "<td class=\"volume\">\n",
              "                            3506 см3\n",
              "                        </td>\n",
              "<td class=\"power\">\n",
              "                            354 л.с.\n",
              "                        </td>\n",
              "<td class=\"edition nomonth\">\n",
              "                            1998 - 2001\n",
              "                        </td>\n",
              "</tr>\n",
              "<tr>\n",
              "<td class=\"mod\">\n",
              "<a href=\"/auto/ttx/ac_cars/ace/269736\">AC Cars Ace 4.6</a>\n",
              "</td>\n",
              "<td class=\"carcass\">\n",
              "                            кабриолет (2 дв.)\n",
              "                        </td>\n",
              "<td class=\"volume\">\n",
              "                            4601 см3\n",
              "                        </td>\n",
              "<td class=\"power\">\n",
              "                            307 л.с.\n",
              "                        </td>\n",
              "<td class=\"edition nomonth\">\n",
              "                            1998 - 2001\n",
              "                        </td>\n",
              "</tr>\n",
              "<tr>\n",
              "<td class=\"mod\">\n",
              "<a href=\"/auto/ttx/ac_cars/ace/270180\">AC Cars Ace 4.6</a>\n",
              "</td>\n",
              "<td class=\"carcass\">\n",
              "                            кабриолет (2 дв.)\n",
              "                        </td>\n",
              "<td class=\"volume\">\n",
              "                            4601 см3\n",
              "                        </td>\n",
              "<td class=\"power\">\n",
              "                            326 л.с.\n",
              "                        </td>\n",
              "<td class=\"edition nomonth\">\n",
              "                            1997 - 2001\n",
              "                        </td>\n",
              "</tr>\n",
              "<tr>\n",
              "<td class=\"mod\">\n",
              "<a href=\"/auto/ttx/ac_cars/ace/269594\">AC Cars Ace 4.9</a>\n",
              "</td>\n",
              "<td class=\"carcass\">\n",
              "                            кабриолет (2 дв.)\n",
              "                        </td>\n",
              "<td class=\"volume\">\n",
              "                            4942 см3\n",
              "                        </td>\n",
              "<td class=\"power\">\n",
              "                            326 л.с.\n",
              "                        </td>\n",
              "<td class=\"edition nomonth\">\n",
              "                            1997 - 2001\n",
              "                        </td>\n",
              "</tr>\n",
              "<tr>\n",
              "<td class=\"mod\">\n",
              "<a href=\"/auto/ttx/ac_cars/ace/269595\">AC Cars Ace 4.9</a>\n",
              "</td>\n",
              "<td class=\"carcass\">\n",
              "                            кабриолет (2 дв.)\n",
              "                        </td>\n",
              "<td class=\"volume\">\n",
              "                            4942 см3\n",
              "                        </td>\n",
              "<td class=\"power\">\n",
              "                            243 л.с.\n",
              "                        </td>\n",
              "<td class=\"edition nomonth\">\n",
              "                            1997 - 2001\n",
              "                        </td>\n",
              "</tr>\n",
              "</tbody>\n",
              "</table>"
            ]
          },
          "execution_count": 188,
          "metadata": {},
          "output_type": "execute_result"
        }
      ],
      "source": [
        "table_c"
      ]
    },
    {
      "cell_type": "code",
      "execution_count": null,
      "metadata": {
        "colab": {
          "base_uri": "https://localhost:8080/"
        },
        "id": "hXcCwZxTCJnL",
        "outputId": "1f444a3c-7479-47bb-f45c-5ca628ae2dbf"
      },
      "outputs": [
        {
          "data": {
            "text/plain": [
              "[<a href=\"/auto/ttx/ac_cars/ace/270158\">AC Cars Ace 3.5</a>,\n",
              " <a href=\"/auto/ttx/ac_cars/ace/269736\">AC Cars Ace 4.6</a>,\n",
              " <a href=\"/auto/ttx/ac_cars/ace/270180\">AC Cars Ace 4.6</a>,\n",
              " <a href=\"/auto/ttx/ac_cars/ace/269594\">AC Cars Ace 4.9</a>,\n",
              " <a href=\"/auto/ttx/ac_cars/ace/269595\">AC Cars Ace 4.9</a>]"
            ]
          },
          "execution_count": 192,
          "metadata": {},
          "output_type": "execute_result"
        }
      ],
      "source": [
        "table_c.findAll('a')"
      ]
    },
    {
      "cell_type": "markdown",
      "metadata": {
        "id": "WrJx3w6L5nlL"
      },
      "source": [
        "## new wave"
      ]
    },
    {
      "cell_type": "code",
      "execution_count": null,
      "metadata": {
        "id": "woKrxIkh5K17"
      },
      "outputs": [],
      "source": [
        "url = 'http://www.autonet.ru/auto/ttx/ac_cars/ace'\n",
        "page = requests.get(url)\n",
        "soup = BeautifulSoup(page.text, \"html.parser\")"
      ]
    },
    {
      "cell_type": "code",
      "execution_count": null,
      "metadata": {
        "id": "qaomJy575w8y"
      },
      "outputs": [],
      "source": [
        "t = soup.findAll('td', class_=\"carcass\")\n",
        "t"
      ]
    },
    {
      "cell_type": "code",
      "execution_count": null,
      "metadata": {
        "colab": {
          "base_uri": "https://localhost:8080/"
        },
        "id": "JQ1AavfX62iZ",
        "outputId": "5fe0d22f-2fbd-4214-97de-620d2b87eeb3"
      },
      "outputs": [
        {
          "name": "stdout",
          "output_type": "stream",
          "text": [
            "\r\n",
            "                            кабриолет (2 дв.)\r\n",
            "                        \n",
            "\r\n",
            "                            кабриолет (2 дв.)\r\n",
            "                        \n",
            "\r\n",
            "                            кабриолет (2 дв.)\r\n",
            "                        \n",
            "\r\n",
            "                            кабриолет (2 дв.)\r\n",
            "                        \n",
            "\r\n",
            "                            кабриолет (2 дв.)\r\n",
            "                        \n"
          ]
        }
      ],
      "source": [
        "lst = []\n",
        "for el in t:\n",
        "  print(el.contents[0])\n",
        "  lst.append(el.contents[0])"
      ]
    },
    {
      "cell_type": "code",
      "execution_count": null,
      "metadata": {
        "colab": {
          "base_uri": "https://localhost:8080/"
        },
        "id": "od1TR0un8Uy3",
        "outputId": "015ab643-24f4-4ffe-d101-155a1a01fae0"
      },
      "outputs": [
        {
          "data": {
            "text/plain": [
              "['\\r\\n                            кабриолет (2 дв.)\\r\\n                        ',\n",
              " '\\r\\n                            кабриолет (2 дв.)\\r\\n                        ',\n",
              " '\\r\\n                            кабриолет (2 дв.)\\r\\n                        ',\n",
              " '\\r\\n                            кабриолет (2 дв.)\\r\\n                        ',\n",
              " '\\r\\n                            кабриолет (2 дв.)\\r\\n                        ']"
            ]
          },
          "execution_count": 155,
          "metadata": {},
          "output_type": "execute_result"
        }
      ],
      "source": [
        "lst"
      ]
    },
    {
      "cell_type": "code",
      "execution_count": null,
      "metadata": {
        "colab": {
          "base_uri": "https://localhost:8080/"
        },
        "id": "-IMqktJU7vxY",
        "outputId": "2e2bd40d-647a-4151-c9a5-94c3fd46c041"
      },
      "outputs": [
        {
          "data": {
            "text/plain": [
              "<td class=\"carcass\">\n",
              "                            кабриолет (2 дв.)\n",
              "                        </td>"
            ]
          },
          "execution_count": 144,
          "metadata": {},
          "output_type": "execute_result"
        }
      ],
      "source": [
        "t[0]"
      ]
    },
    {
      "cell_type": "code",
      "execution_count": null,
      "metadata": {
        "colab": {
          "base_uri": "https://localhost:8080/",
          "height": 165
        },
        "id": "23CWD6lP7OCH",
        "outputId": "932a12ae-6b8f-4dfe-aff8-fafbe9b592a6"
      },
      "outputs": [
        {
          "ename": "AttributeError",
          "evalue": "ignored",
          "output_type": "error",
          "traceback": [
            "\u001b[0;31m---------------------------------------------------------------------------\u001b[0m",
            "\u001b[0;31mAttributeError\u001b[0m                            Traceback (most recent call last)",
            "\u001b[0;32m<ipython-input-149-c0445e59a876>\u001b[0m in \u001b[0;36m<cell line: 1>\u001b[0;34m()\u001b[0m\n\u001b[0;32m----> 1\u001b[0;31m \u001b[0mprint\u001b[0m\u001b[0;34m(\u001b[0m\u001b[0mt\u001b[0m\u001b[0;34m[\u001b[0m\u001b[0;36m0\u001b[0m\u001b[0;34m]\u001b[0m\u001b[0;34m.\u001b[0m\u001b[0mfind\u001b[0m\u001b[0;34m(\u001b[0m\u001b[0;34m'td'\u001b[0m\u001b[0;34m)\u001b[0m\u001b[0;34m.\u001b[0m\u001b[0mcontents\u001b[0m\u001b[0;34m[\u001b[0m\u001b[0;36m0\u001b[0m\u001b[0;34m]\u001b[0m\u001b[0;34m)\u001b[0m\u001b[0;34m\u001b[0m\u001b[0;34m\u001b[0m\u001b[0m\n\u001b[0m",
            "\u001b[0;31mAttributeError\u001b[0m: 'NoneType' object has no attribute 'contents'"
          ]
        }
      ],
      "source": [
        "print(t[0].find('td').contents[0])"
      ]
    }
  ],
  "metadata": {
    "colab": {
      "provenance": [],
      "toc_visible": true,
      "authorship_tag": "ABX9TyPsylBE9tySK9zecVhOuPga",
      "include_colab_link": true
    },
    "kernelspec": {
      "display_name": "Python 3",
      "name": "python3"
    },
    "language_info": {
      "name": "python"
    }
  },
  "nbformat": 4,
  "nbformat_minor": 0
}