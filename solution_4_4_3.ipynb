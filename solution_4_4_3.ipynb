{
  "nbformat": 4,
  "nbformat_minor": 0,
  "metadata": {
    "colab": {
      "provenance": [],
      "toc_visible": true,
      "authorship_tag": "ABX9TyOpX1yLP7a7X17vlu9S+d5a",
      "include_colab_link": true
    },
    "kernelspec": {
      "name": "python3",
      "display_name": "Python 3"
    },
    "language_info": {
      "name": "python"
    }
  },
  "cells": [
    {
      "cell_type": "markdown",
      "metadata": {
        "id": "view-in-github",
        "colab_type": "text"
      },
      "source": [
        "<a href=\"https://colab.research.google.com/github/nedokormysh/Stepik_Competitive_DS/blob/week_4/solution_4_4_3.ipynb\" target=\"_parent\"><img src=\"https://colab.research.google.com/assets/colab-badge.svg\" alt=\"Open In Colab\"/></a>"
      ]
    },
    {
      "cell_type": "code",
      "execution_count": null,
      "metadata": {
        "id": "q3j6P9f3MGAa",
        "colab": {
          "base_uri": "https://localhost:8080/"
        },
        "outputId": "71a691cc-1d3e-4932-e725-eb807a2f16e4"
      },
      "outputs": [
        {
          "output_type": "stream",
          "name": "stdout",
          "text": [
            "\u001b[2K     \u001b[90m━━━━━━━━━━━━━━━━━━━━━━━━━━━━━━━━━━━━━━━━\u001b[0m \u001b[32m76.6/76.6 MB\u001b[0m \u001b[31m13.0 MB/s\u001b[0m eta \u001b[36m0:00:00\u001b[0m\n",
            "\u001b[?25h"
          ]
        }
      ],
      "source": [
        "import pandas as pd\n",
        "import numpy as np\n",
        "\n",
        "!pip install catboost -q\n",
        "!pip install lightgbm -q\n",
        "!pip install xgboost -q\n",
        "from sklearn.preprocessing import LabelEncoder\n",
        "from sklearn.model_selection import GridSearchCV, RandomizedSearchCV\n",
        "from sklearn.model_selection import KFold, StratifiedKFold\n",
        "from sklearn.model_selection import train_test_split\n",
        "from sklearn.metrics import mean_squared_error\n",
        "import matplotlib.pyplot as plt\n",
        "from catboost import CatBoostClassifier, CatBoostRegressor, Pool\n",
        "import lightgbm as lgb\n",
        "from lightgbm import LGBMRegressor, early_stopping, Dataset\n",
        "import xgboost as xgb\n",
        "from xgboost import XGBRegressor\n",
        "\n",
        "import pickle\n",
        "import warnings\n",
        "warnings.simplefilter('ignore')\n",
        "\n",
        "import os\n",
        "import platform\n",
        "import psutil"
      ]
    },
    {
      "cell_type": "code",
      "source": [
        "print(platform.system(), platform.processor())\n",
        "# print(os.uname())\n",
        "print('CPU count:', os.cpu_count())\n",
        "print('RAM (GB):', psutil.virtual_memory()[0]/1000000000)\n",
        "print('RAM memory % used:', psutil.virtual_memory()[2])\n",
        "!python -V"
      ],
      "metadata": {
        "colab": {
          "base_uri": "https://localhost:8080/"
        },
        "id": "bRfh0U42tynD",
        "outputId": "00464d29-7e43-49cc-b3f0-3cd809306ed2"
      },
      "execution_count": null,
      "outputs": [
        {
          "output_type": "stream",
          "name": "stdout",
          "text": [
            "Linux x86_64\n",
            "CPU count: 2\n",
            "RAM (GB): 13.616316416\n",
            "RAM memory % used: 9.6\n",
            "Python 3.9.16\n"
          ]
        }
      ]
    },
    {
      "cell_type": "markdown",
      "source": [
        "# Загрузка данных"
      ],
      "metadata": {
        "id": "uB5iiUd1IkD-"
      }
    },
    {
      "cell_type": "code",
      "source": [
        "path_train = 'https://raw.githubusercontent.com/a-milenkin/Competitive_Data_Science/main/data/quickstart_train.csv'\n",
        "path_test = 'https://raw.githubusercontent.com/a-milenkin/Competitive_Data_Science/main/data/quickstart_test.csv'"
      ],
      "metadata": {
        "id": "mtyJFfuT2eLM"
      },
      "execution_count": null,
      "outputs": []
    },
    {
      "cell_type": "markdown",
      "source": [
        "Оптимизируем объём памяти."
      ],
      "metadata": {
        "id": "3w8J95Usdkwl"
      }
    },
    {
      "cell_type": "code",
      "source": [
        "def reduce_mem_usage(df):\n",
        "    \"\"\" iterate through all the columns of a dataframe and modify the data type\n",
        "        to reduce memory usage.        \n",
        "    \"\"\"\n",
        "    start_mem = df.memory_usage().sum() / 1024**2\n",
        "    print('Memory usage of dataframe is {:.2f} MB'.format(start_mem))\n",
        "    \n",
        "    for col in df.columns:\n",
        "        col_type = df[col].dtype\n",
        "        \n",
        "        if col_type != object:\n",
        "            c_min = df[col].min()\n",
        "            c_max = df[col].max()\n",
        "            if str(col_type)[:3] == 'int':\n",
        "                if c_min > np.iinfo(np.int8).min and c_max < np.iinfo(np.int8).max:\n",
        "                    df[col] = df[col].astype(np.int8)\n",
        "                elif c_min > np.iinfo(np.int16).min and c_max < np.iinfo(np.int16).max:\n",
        "                    df[col] = df[col].astype(np.int16)\n",
        "                elif c_min > np.iinfo(np.int32).min and c_max < np.iinfo(np.int32).max:\n",
        "                    df[col] = df[col].astype(np.int32)\n",
        "                elif c_min > np.iinfo(np.int64).min and c_max < np.iinfo(np.int64).max:\n",
        "                    df[col] = df[col].astype(np.int64)  \n",
        "            else:\n",
        "                if c_min > np.finfo(np.float16).min and c_max < np.finfo(np.float16).max:\n",
        "                    df[col] = df[col].astype(np.float16)\n",
        "                elif c_min > np.finfo(np.float32).min and c_max < np.finfo(np.float32).max:\n",
        "                    df[col] = df[col].astype(np.float32)\n",
        "                else:\n",
        "                    df[col] = df[col].astype(np.float64)\n",
        "        else:\n",
        "            df[col] = df[col].astype('category')\n",
        "\n",
        "    end_mem = df.memory_usage().sum() / 1024**2\n",
        "    print('Memory usage after optimization is: {:.2f} MB'.format(end_mem))\n",
        "    print('Decreased by {:.1f}%'.format(100 * (start_mem - end_mem) / start_mem))\n",
        "    \n",
        "    return df\n",
        "\n",
        "def import_data(file):\n",
        "    \"\"\"create a dataframe and optimize its memory usage\"\"\"\n",
        "    df = pd.read_csv(file, parse_dates=True, keep_date_col=True)\n",
        "    df = reduce_mem_usage(df)\n",
        "    return df"
      ],
      "metadata": {
        "id": "JK2j-sE4zHUm"
      },
      "execution_count": null,
      "outputs": []
    },
    {
      "cell_type": "code",
      "source": [
        "print('train')\n",
        "train = import_data(path_train)\n",
        "\n",
        "print('-' * 80)\n",
        "print('test')\n",
        "test = import_data(path_test)"
      ],
      "metadata": {
        "colab": {
          "base_uri": "https://localhost:8080/"
        },
        "id": "aW7bhtjtzMNI",
        "outputId": "c539954d-8de5-46e1-b7d7-f4a1d5430867"
      },
      "execution_count": null,
      "outputs": [
        {
          "output_type": "stream",
          "name": "stdout",
          "text": [
            "train\n",
            "Memory usage of dataframe is 0.30 MB\n",
            "Memory usage after optimization is: 0.16 MB\n",
            "Decreased by 47.7%\n",
            "--------------------------------------------------------------------------------\n",
            "test\n",
            "Memory usage of dataframe is 0.23 MB\n",
            "Memory usage after optimization is: 0.14 MB\n",
            "Decreased by 40.9%\n"
          ]
        }
      ]
    },
    {
      "cell_type": "code",
      "source": [
        "train.head(3)"
      ],
      "metadata": {
        "colab": {
          "base_uri": "https://localhost:8080/",
          "height": 240
        },
        "id": "xxLy4DvE2sj6",
        "outputId": "9547916f-5dc4-4fb3-c2fb-ef1eeda65fcf"
      },
      "execution_count": null,
      "outputs": [
        {
          "output_type": "execute_result",
          "data": {
            "text/plain": [
              "       car_id            model  car_type fuel_type  car_rating  year_to_start  \\\n",
              "0  y13744087j   Kia Rio X-line   economy    petrol    3.779297           2015   \n",
              "1  O41613818T       VW Polo VI   economy    petrol    3.900391           2015   \n",
              "2  d-2109686j  Renault Sandero  standart    petrol    6.300781           2012   \n",
              "\n",
              "   riders  year_to_work  target_reg target_class  mean_rating  distance_sum  \\\n",
              "0   76163          2021   110.00000  another_bug     4.738281    12141310.0   \n",
              "1   78218          2021    34.46875  electro_bug     4.480469    18039092.0   \n",
              "2   23340          2017    34.93750   gear_stick     4.769531    15883659.0   \n",
              "\n",
              "   rating_min  speed_max  user_ride_quality_median  deviation_normal_count  \\\n",
              "0    0.099976    180.875                  0.023178                     174   \n",
              "1    0.000000    187.875                 12.304688                     174   \n",
              "2    0.099976    102.375                  2.513672                     174   \n",
              "\n",
              "   user_uniq  \n",
              "0        170  \n",
              "1        174  \n",
              "2        173  "
            ],
            "text/html": [
              "\n",
              "  <div id=\"df-e76b699b-77f5-46a0-894b-047aa0695695\">\n",
              "    <div class=\"colab-df-container\">\n",
              "      <div>\n",
              "<style scoped>\n",
              "    .dataframe tbody tr th:only-of-type {\n",
              "        vertical-align: middle;\n",
              "    }\n",
              "\n",
              "    .dataframe tbody tr th {\n",
              "        vertical-align: top;\n",
              "    }\n",
              "\n",
              "    .dataframe thead th {\n",
              "        text-align: right;\n",
              "    }\n",
              "</style>\n",
              "<table border=\"1\" class=\"dataframe\">\n",
              "  <thead>\n",
              "    <tr style=\"text-align: right;\">\n",
              "      <th></th>\n",
              "      <th>car_id</th>\n",
              "      <th>model</th>\n",
              "      <th>car_type</th>\n",
              "      <th>fuel_type</th>\n",
              "      <th>car_rating</th>\n",
              "      <th>year_to_start</th>\n",
              "      <th>riders</th>\n",
              "      <th>year_to_work</th>\n",
              "      <th>target_reg</th>\n",
              "      <th>target_class</th>\n",
              "      <th>mean_rating</th>\n",
              "      <th>distance_sum</th>\n",
              "      <th>rating_min</th>\n",
              "      <th>speed_max</th>\n",
              "      <th>user_ride_quality_median</th>\n",
              "      <th>deviation_normal_count</th>\n",
              "      <th>user_uniq</th>\n",
              "    </tr>\n",
              "  </thead>\n",
              "  <tbody>\n",
              "    <tr>\n",
              "      <th>0</th>\n",
              "      <td>y13744087j</td>\n",
              "      <td>Kia Rio X-line</td>\n",
              "      <td>economy</td>\n",
              "      <td>petrol</td>\n",
              "      <td>3.779297</td>\n",
              "      <td>2015</td>\n",
              "      <td>76163</td>\n",
              "      <td>2021</td>\n",
              "      <td>110.00000</td>\n",
              "      <td>another_bug</td>\n",
              "      <td>4.738281</td>\n",
              "      <td>12141310.0</td>\n",
              "      <td>0.099976</td>\n",
              "      <td>180.875</td>\n",
              "      <td>0.023178</td>\n",
              "      <td>174</td>\n",
              "      <td>170</td>\n",
              "    </tr>\n",
              "    <tr>\n",
              "      <th>1</th>\n",
              "      <td>O41613818T</td>\n",
              "      <td>VW Polo VI</td>\n",
              "      <td>economy</td>\n",
              "      <td>petrol</td>\n",
              "      <td>3.900391</td>\n",
              "      <td>2015</td>\n",
              "      <td>78218</td>\n",
              "      <td>2021</td>\n",
              "      <td>34.46875</td>\n",
              "      <td>electro_bug</td>\n",
              "      <td>4.480469</td>\n",
              "      <td>18039092.0</td>\n",
              "      <td>0.000000</td>\n",
              "      <td>187.875</td>\n",
              "      <td>12.304688</td>\n",
              "      <td>174</td>\n",
              "      <td>174</td>\n",
              "    </tr>\n",
              "    <tr>\n",
              "      <th>2</th>\n",
              "      <td>d-2109686j</td>\n",
              "      <td>Renault Sandero</td>\n",
              "      <td>standart</td>\n",
              "      <td>petrol</td>\n",
              "      <td>6.300781</td>\n",
              "      <td>2012</td>\n",
              "      <td>23340</td>\n",
              "      <td>2017</td>\n",
              "      <td>34.93750</td>\n",
              "      <td>gear_stick</td>\n",
              "      <td>4.769531</td>\n",
              "      <td>15883659.0</td>\n",
              "      <td>0.099976</td>\n",
              "      <td>102.375</td>\n",
              "      <td>2.513672</td>\n",
              "      <td>174</td>\n",
              "      <td>173</td>\n",
              "    </tr>\n",
              "  </tbody>\n",
              "</table>\n",
              "</div>\n",
              "      <button class=\"colab-df-convert\" onclick=\"convertToInteractive('df-e76b699b-77f5-46a0-894b-047aa0695695')\"\n",
              "              title=\"Convert this dataframe to an interactive table.\"\n",
              "              style=\"display:none;\">\n",
              "        \n",
              "  <svg xmlns=\"http://www.w3.org/2000/svg\" height=\"24px\"viewBox=\"0 0 24 24\"\n",
              "       width=\"24px\">\n",
              "    <path d=\"M0 0h24v24H0V0z\" fill=\"none\"/>\n",
              "    <path d=\"M18.56 5.44l.94 2.06.94-2.06 2.06-.94-2.06-.94-.94-2.06-.94 2.06-2.06.94zm-11 1L8.5 8.5l.94-2.06 2.06-.94-2.06-.94L8.5 2.5l-.94 2.06-2.06.94zm10 10l.94 2.06.94-2.06 2.06-.94-2.06-.94-.94-2.06-.94 2.06-2.06.94z\"/><path d=\"M17.41 7.96l-1.37-1.37c-.4-.4-.92-.59-1.43-.59-.52 0-1.04.2-1.43.59L10.3 9.45l-7.72 7.72c-.78.78-.78 2.05 0 2.83L4 21.41c.39.39.9.59 1.41.59.51 0 1.02-.2 1.41-.59l7.78-7.78 2.81-2.81c.8-.78.8-2.07 0-2.86zM5.41 20L4 18.59l7.72-7.72 1.47 1.35L5.41 20z\"/>\n",
              "  </svg>\n",
              "      </button>\n",
              "      \n",
              "  <style>\n",
              "    .colab-df-container {\n",
              "      display:flex;\n",
              "      flex-wrap:wrap;\n",
              "      gap: 12px;\n",
              "    }\n",
              "\n",
              "    .colab-df-convert {\n",
              "      background-color: #E8F0FE;\n",
              "      border: none;\n",
              "      border-radius: 50%;\n",
              "      cursor: pointer;\n",
              "      display: none;\n",
              "      fill: #1967D2;\n",
              "      height: 32px;\n",
              "      padding: 0 0 0 0;\n",
              "      width: 32px;\n",
              "    }\n",
              "\n",
              "    .colab-df-convert:hover {\n",
              "      background-color: #E2EBFA;\n",
              "      box-shadow: 0px 1px 2px rgba(60, 64, 67, 0.3), 0px 1px 3px 1px rgba(60, 64, 67, 0.15);\n",
              "      fill: #174EA6;\n",
              "    }\n",
              "\n",
              "    [theme=dark] .colab-df-convert {\n",
              "      background-color: #3B4455;\n",
              "      fill: #D2E3FC;\n",
              "    }\n",
              "\n",
              "    [theme=dark] .colab-df-convert:hover {\n",
              "      background-color: #434B5C;\n",
              "      box-shadow: 0px 1px 3px 1px rgba(0, 0, 0, 0.15);\n",
              "      filter: drop-shadow(0px 1px 2px rgba(0, 0, 0, 0.3));\n",
              "      fill: #FFFFFF;\n",
              "    }\n",
              "  </style>\n",
              "\n",
              "      <script>\n",
              "        const buttonEl =\n",
              "          document.querySelector('#df-e76b699b-77f5-46a0-894b-047aa0695695 button.colab-df-convert');\n",
              "        buttonEl.style.display =\n",
              "          google.colab.kernel.accessAllowed ? 'block' : 'none';\n",
              "\n",
              "        async function convertToInteractive(key) {\n",
              "          const element = document.querySelector('#df-e76b699b-77f5-46a0-894b-047aa0695695');\n",
              "          const dataTable =\n",
              "            await google.colab.kernel.invokeFunction('convertToInteractive',\n",
              "                                                     [key], {});\n",
              "          if (!dataTable) return;\n",
              "\n",
              "          const docLinkHtml = 'Like what you see? Visit the ' +\n",
              "            '<a target=\"_blank\" href=https://colab.research.google.com/notebooks/data_table.ipynb>data table notebook</a>'\n",
              "            + ' to learn more about interactive tables.';\n",
              "          element.innerHTML = '';\n",
              "          dataTable['output_type'] = 'display_data';\n",
              "          await google.colab.output.renderOutput(dataTable, element);\n",
              "          const docLink = document.createElement('div');\n",
              "          docLink.innerHTML = docLinkHtml;\n",
              "          element.appendChild(docLink);\n",
              "        }\n",
              "      </script>\n",
              "    </div>\n",
              "  </div>\n",
              "  "
            ]
          },
          "metadata": {},
          "execution_count": 6
        }
      ]
    },
    {
      "cell_type": "code",
      "source": [
        "train.deviation_normal_count.unique()"
      ],
      "metadata": {
        "colab": {
          "base_uri": "https://localhost:8080/"
        },
        "id": "TNYsGj20etnQ",
        "outputId": "f38944df-3801-4194-ef44-d87a3269a86f"
      },
      "execution_count": null,
      "outputs": [
        {
          "output_type": "execute_result",
          "data": {
            "text/plain": [
              "array([174], dtype=int16)"
            ]
          },
          "metadata": {},
          "execution_count": 7
        }
      ]
    },
    {
      "cell_type": "markdown",
      "source": [
        "Этот признак никак не влияет на прогноз, поэтому не будем его использовать."
      ],
      "metadata": {
        "id": "ORbx_CuufBaX"
      }
    },
    {
      "cell_type": "code",
      "source": [
        "print(f'train shape = {train.shape},  test shape = {test.shape}')\n",
        "print(f'train, test is null: {train.isna().any().any(), test.isna().any().any()}') "
      ],
      "metadata": {
        "id": "_9jSS3Kq4bCg",
        "colab": {
          "base_uri": "https://localhost:8080/"
        },
        "outputId": "0e3275e3-6c92-42d0-93c6-1273c1d260a8"
      },
      "execution_count": null,
      "outputs": [
        {
          "output_type": "stream",
          "name": "stdout",
          "text": [
            "train shape = (2337, 17),  test shape = (1913, 16)\n",
            "train, test is null: (False, False)\n"
          ]
        }
      ]
    },
    {
      "cell_type": "code",
      "source": [
        "cat_features = ['model', 'car_type', 'fuel_type']\n",
        "cat_features_indxs = [0, 1, 2]\n",
        "targets = ['target_class', 'target_reg']\n",
        "features2drop = ['car_id', 'deviation_normal_count'] \n",
        "\n",
        "filtered_features = [i for i in train.columns if (i not in targets and i not in features2drop)]\n",
        "num_features = [i for i in filtered_features if i not in cat_features]\n",
        "\n",
        "print(f'\\033[1mcat_features:\\033[0m {cat_features}, \\033[1mamount\\033[0m = {len(cat_features)}')\n",
        "print(f'\\033[1mnum_features:\\033[0m {num_features}, \\033[1mamount\\033[0m = {len(num_features)}')\n",
        "print(f'\\033[1mtargets:\\033[0m {targets}, \\033[1mamount\\033[0m = {len(targets)}')"
      ],
      "metadata": {
        "colab": {
          "base_uri": "https://localhost:8080/"
        },
        "id": "RHAyDAOO6tjq",
        "outputId": "eda6b5b8-a903-425c-b071-5e9e1be4c56b"
      },
      "execution_count": null,
      "outputs": [
        {
          "output_type": "stream",
          "name": "stdout",
          "text": [
            "\u001b[1mcat_features:\u001b[0m ['model', 'car_type', 'fuel_type'], \u001b[1mamount\u001b[0m = 3\n",
            "\u001b[1mnum_features:\u001b[0m ['car_rating', 'year_to_start', 'riders', 'year_to_work', 'mean_rating', 'distance_sum', 'rating_min', 'speed_max', 'user_ride_quality_median', 'user_uniq'], \u001b[1mamount\u001b[0m = 10\n",
            "\u001b[1mtargets:\u001b[0m ['target_class', 'target_reg'], \u001b[1mamount\u001b[0m = 2\n"
          ]
        }
      ]
    },
    {
      "cell_type": "code",
      "source": [
        "X = train[filtered_features].drop(targets, axis=1, errors=\"ignore\")\n",
        "y = train[\"target_reg\"]"
      ],
      "metadata": {
        "id": "3kUzRvSKfbwj"
      },
      "execution_count": null,
      "outputs": []
    },
    {
      "cell_type": "code",
      "source": [
        "# инициализируем случайное состояние, список лучших моделей, датафрейм для результатов\n",
        "r_s = 42\n",
        "n_est = 1000 \n",
        "best_mdls = []\n",
        "df_results = pd.DataFrame(columns=['model', 'mode', 'RMSE_best_fold', 'mean_RMSE', 'std'])"
      ],
      "metadata": {
        "id": "GRoTKVmt_XAI"
      },
      "execution_count": null,
      "outputs": []
    },
    {
      "cell_type": "code",
      "source": [
        "# функция для реализации случайного поиска\n",
        "def random_search_implementation(X, y, algorithm, init_params, grid, fit_params, cv=3, r_s=r_s):\n",
        "    rgr = algorithm(**init_params)\n",
        "    grid = grid\n",
        "\n",
        "    model_regr = RandomizedSearchCV(estimator=rgr, \n",
        "                                    param_distributions=grid,\n",
        "                                    cv=cv,\n",
        "                                    scoring='neg_root_mean_squared_error',\n",
        "                                    n_jobs=-1,\n",
        "                                    verbose=100,\n",
        "                                    n_iter=20,\n",
        "                                    random_state=r_s)\n",
        "\n",
        "    model_regr.fit(X, y, **fit_params)\n",
        "\n",
        "    print('-' * 80)\n",
        "    print(f'\\n\\033[1mbest parameters:\\033[0m {model_regr.best_params_}')\n",
        "    print(f'\\033[1mbest score =\\033[0m {round(abs(model_regr.best_score_), 4)}')\n",
        "    # print(model_regr.get_params())\n",
        "    return model_regr.best_params_ | init_params"
      ],
      "metadata": {
        "id": "eImbt-KWZmsp"
      },
      "execution_count": null,
      "outputs": []
    },
    {
      "cell_type": "code",
      "source": [
        "# функция для шага обучения\n",
        "def lr_gen_simple(init_lr, epoch):    \n",
        "    decay = init_lr / epoch\n",
        "    lr_list = [init_lr/(1 + decay * i) for i in range(1, epoch + 1)]\n",
        "\n",
        "    return lr_list  "
      ],
      "metadata": {
        "id": "c99HUgedL_Hd"
      },
      "execution_count": null,
      "outputs": []
    },
    {
      "cell_type": "code",
      "source": [
        "# функция для получения модели лучшего фолда\n",
        "def best_fold_model(algorithm, X, y, params=None, cat_feats=None, n_splits=3,\n",
        "                    r_s=42,n_rounds=1000, stop_rounds=200, init_lr=0.12):\n",
        "    regrs = []\n",
        "    RMSE_scores = []\n",
        "\n",
        "    kf = KFold(n_splits=n_splits, shuffle=True, random_state=r_s)\n",
        "    \n",
        "    for num, (train_index, test_index) in enumerate(kf.split(X)):\n",
        "        X_train, X_test = X.iloc[train_index], X.iloc[test_index]\n",
        "        y_train, y_test = y.iloc[train_index], y.iloc[test_index]\n",
        "\n",
        "        if params != None:\n",
        "            regr = algorithm(**params)\n",
        "        else:\n",
        "            regr = algorithm()\n",
        "       \n",
        "        # используем специализированные для каждого бустинга классы \n",
        "        if algorithm.__name__ == 'CatBoostRegressor':\n",
        "            train_dataset = Pool(data=X_train, label=y_train,\n",
        "                                 cat_features=cat_feats)        \n",
        "            eval_dataset = Pool(data=X_test, label=y_test,\n",
        "                                cat_features=cat_feats)\n",
        "          \n",
        "            regr.fit(train_dataset, \n",
        "                   eval_set=eval_dataset,\n",
        "                   verbose=1000,\n",
        "                   early_stopping_rounds=stop_rounds)      \n",
        "          \n",
        "        elif algorithm.__name__ == 'LGBMRegressor':\n",
        "            train_dataset = Dataset(X_train, y_train, \n",
        "                                    categorical_feature=cat_feats,\n",
        "                                    free_raw_data=False)\n",
        "          \n",
        "            eval_dataset = Dataset(X_test, y_test,\n",
        "                                   categorical_feature=cat_feats,\n",
        "                                   free_raw_data=False)\n",
        "          \n",
        "            regr = lgb.train(params, train_set=train_dataset, \n",
        "                             valid_sets=(eval_dataset),\n",
        "                             categorical_feature=cat_feats,\n",
        "                             callbacks=[lgb.early_stopping(stopping_rounds=stop_rounds), \n",
        "                                        lgb.reset_parameter(learning_rate=lr_gen_simple(init_lr, n_rounds))],\n",
        "                             num_boost_round=n_rounds)\n",
        "            \n",
        "        elif algorithm.__name__ == 'XGBRegressor':\n",
        "              train_dataset = xgb.DMatrix(X_train, label=y_train, nthread=-1,\n",
        "                                          enable_categorical=True)\n",
        "              \n",
        "              eval_dataset = xgb.DMatrix(X_test, label=y_test, nthread=-1,\n",
        "                                         enable_categorical=True)\n",
        "              \n",
        "              xgb.set_config(verbosity=0)\n",
        "\n",
        "              regr = xgb.train(params,\n",
        "                               dtrain=train_dataset,\n",
        "                               evals=[(train_dataset, 'dtrain'),\n",
        "                                      (eval_dataset, 'dtest')],\n",
        "                               verbose_eval = False,\n",
        "                               early_stopping_rounds=stop_rounds,\n",
        "                               callbacks=[xgb.callback.LearningRateScheduler(lr_gen_simple(init_lr, n_rounds))],\n",
        "                               num_boost_round=n_rounds)\n",
        "              \n",
        "              X_test = eval_dataset\n",
        "          \n",
        "        regrs.append(regr)\n",
        "\n",
        "        y_pred = regr.predict(X_test)\n",
        "        # выводим номер фолда и значение RMSE\n",
        "        RMSE = mean_squared_error(y_test.values, y_pred, squared=False)\n",
        "        print(f'fold: {num}, test_RMSE: {RMSE}')\n",
        "        # выводим номер лучшего фолда\n",
        "        RMSE_scores.append(RMSE)\n",
        "        min_RMSE = min(RMSE_scores)\n",
        "        bst = regrs[np.argmin(RMSE_scores)]\n",
        "        print(f'Best fold number = {np.argmin(RMSE_scores)}\\n')\n",
        "        \n",
        "    assert len(regrs) == n_splits\n",
        "\n",
        "    print('-' * 80)    \n",
        "    print(f'Среднее значение метрики по трём фолдам \\033[1mtest_RMSE_mean\\033[0m = {np.mean(RMSE_scores).round(4)}')\n",
        "\n",
        "    return bst, algorithm.__name__, min_RMSE, np.mean(RMSE_scores).round(4), np.std(RMSE_scores).round(4)"
      ],
      "metadata": {
        "id": "Cuy5TfTvKl7k"
      },
      "execution_count": null,
      "outputs": []
    },
    {
      "cell_type": "markdown",
      "source": [
        "# Основная часть"
      ],
      "metadata": {
        "id": "8LLwKvkJ7T8I"
      }
    },
    {
      "cell_type": "markdown",
      "source": [
        "## CatBoostRegressor (random state = 42)"
      ],
      "metadata": {
        "id": "Akh7zpeB9LTW"
      }
    },
    {
      "cell_type": "code",
      "source": [
        "X_train, X_test, y_train, y_test = train_test_split(X, y, test_size=0.2, random_state=r_s)"
      ],
      "metadata": {
        "id": "6CyJ7Lvz-nRs"
      },
      "execution_count": null,
      "outputs": []
    },
    {
      "cell_type": "code",
      "source": [
        "%%time\n",
        "\n",
        "grid = {'depth': np.arange(2, 12, 1),        \n",
        "        'learning_rate' : [.02, .04, .06, .08, 0.1, .12],\n",
        "        'min_data_in_leaf': np.arange(100, 500, 50),\n",
        "        'l2_leaf_reg': np.arange(2, 12, 2),\n",
        "        'max_bin': np.arange(100, 300, 10),\n",
        "        'subsample': [.7, .75, .8, .85, .9, .95]}\n",
        "\n",
        "init_params = {'loss_function': 'RMSE',\n",
        "               'eval_metric': 'RMSE',\n",
        "               'random_seed': r_s,\n",
        "               'thread_count': -1,\n",
        "               'verbose': 0,\n",
        "               'task_type': \"CPU\",\n",
        "               'bootstrap_type': \"Bernoulli\",\n",
        "               'random_strength': 1,\n",
        "               'n_estimators': n_est}\n",
        "\n",
        "fit_params = {'cat_features': cat_features,\n",
        "              'eval_set': [(X_test, y_test)],\n",
        "              'verbose': 0,      \n",
        "              'early_stopping_rounds': 200}\n",
        "\n",
        "best_catboost_params = random_search_implementation(X_train, y_train,\n",
        "                                                    CatBoostRegressor,\n",
        "                                                    init_params, grid,\n",
        "                                                    fit_params)"
      ],
      "metadata": {
        "id": "nWum0l2b8oYn",
        "colab": {
          "base_uri": "https://localhost:8080/"
        },
        "outputId": "60019198-3d44-43e4-eabe-1f7096faf41c"
      },
      "execution_count": null,
      "outputs": [
        {
          "output_type": "stream",
          "name": "stdout",
          "text": [
            "Fitting 3 folds for each of 20 candidates, totalling 60 fits\n",
            "--------------------------------------------------------------------------------\n",
            "\n",
            "\u001b[1mbest parameters:\u001b[0m {'subsample': 0.95, 'min_data_in_leaf': 350, 'max_bin': 290, 'learning_rate': 0.06, 'l2_leaf_reg': 2, 'depth': 7}\n",
            "\u001b[1mbest score =\u001b[0m 11.664\n",
            "CPU times: user 3.31 s, sys: 784 ms, total: 4.09 s\n",
            "Wall time: 3min 41s\n"
          ]
        }
      ]
    },
    {
      "cell_type": "code",
      "source": [
        "res = best_fold_model(CatBoostRegressor, X, y, best_catboost_params,\n",
        "                      cat_features)\n",
        "best_mdls.append(res[0])"
      ],
      "metadata": {
        "id": "ztUJ7jlZhqid",
        "colab": {
          "base_uri": "https://localhost:8080/"
        },
        "outputId": "7a8ff8fa-7da7-4ea1-b8d6-177057cbc0b0"
      },
      "execution_count": null,
      "outputs": [
        {
          "output_type": "stream",
          "name": "stdout",
          "text": [
            "0:\tlearn: 17.3245548\ttest: 16.7341895\tbest: 16.7341895 (0)\ttotal: 4.25ms\tremaining: 4.24s\n",
            "Stopped by overfitting detector  (200 iterations wait)\n",
            "\n",
            "bestTest = 11.91224505\n",
            "bestIteration = 83\n",
            "\n",
            "Shrink model to first 84 iterations.\n",
            "fold: 0, test_RMSE: 11.912245046646174\n",
            "Best fold number = 0\n",
            "\n",
            "0:\tlearn: 16.7524580\ttest: 18.0058200\tbest: 18.0058200 (0)\ttotal: 4.45ms\tremaining: 4.44s\n",
            "Stopped by overfitting detector  (200 iterations wait)\n",
            "\n",
            "bestTest = 11.96002421\n",
            "bestIteration = 75\n",
            "\n",
            "Shrink model to first 76 iterations.\n",
            "fold: 1, test_RMSE: 11.96002421114515\n",
            "Best fold number = 0\n",
            "\n",
            "0:\tlearn: 17.3601904\ttest: 16.7730680\tbest: 16.7730680 (0)\ttotal: 3.96ms\tremaining: 3.96s\n",
            "Stopped by overfitting detector  (200 iterations wait)\n",
            "\n",
            "bestTest = 11.37458889\n",
            "bestIteration = 159\n",
            "\n",
            "Shrink model to first 160 iterations.\n",
            "fold: 2, test_RMSE: 11.374588887703041\n",
            "Best fold number = 2\n",
            "\n",
            "--------------------------------------------------------------------------------\n",
            "Среднее значение метрики по трём фолдам \u001b[1mtest_RMSE_mean\u001b[0m = 11.749\n"
          ]
        }
      ]
    },
    {
      "cell_type": "code",
      "source": [
        "df_results = df_results.append({'model': res[1],\n",
        "                                'mode': 'random_state = 42',\n",
        "                                'RMSE_best_fold': res[2],\n",
        "                                'mean_RMSE': res[3],\n",
        "                                'std': res[4]}, ignore_index=True)"
      ],
      "metadata": {
        "id": "kbJNM1yeYnfT"
      },
      "execution_count": null,
      "outputs": []
    },
    {
      "cell_type": "markdown",
      "source": [
        "## LightGBM ('goss')"
      ],
      "metadata": {
        "id": "GBnLVReBtKkM"
      }
    },
    {
      "cell_type": "code",
      "source": [
        "X_le = X.copy()"
      ],
      "metadata": {
        "id": "Y0iPXsnK1owA"
      },
      "execution_count": null,
      "outputs": []
    },
    {
      "cell_type": "code",
      "source": [
        "le = LabelEncoder()\n",
        "for col in cat_features:\n",
        "    X_le[col] = le.fit_transform(X_le[col])"
      ],
      "metadata": {
        "id": "2vngBIjC0NFv"
      },
      "execution_count": null,
      "outputs": []
    },
    {
      "cell_type": "code",
      "source": [
        "X_le_train, X_le_test, y_le_train, y_le_test = train_test_split(X_le, y, test_size=0.2, random_state=r_s)"
      ],
      "metadata": {
        "id": "Xs1rprYs4DvC"
      },
      "execution_count": null,
      "outputs": []
    },
    {
      "cell_type": "code",
      "source": [
        "%%time\n",
        "\n",
        "grid = {'max_depth': np.arange(2, 12, 1),\n",
        "        'min_data_in_leaf': np.arange(1, 30),\n",
        "        'lambda_l2': np.arange(2, 12, 2),\n",
        "        'max_bin': np.arange(10, 100, 10),\n",
        "        'subsample': [.75, .85, .95],         \n",
        "        'num_leaves': np.arange(1, 10),\n",
        "        'colsample_bytree': [0.6, 0.7, 0.8, 0.9, 0.95]}\n",
        "      \n",
        "init_params = {'boosting_type': 'goss',\n",
        "               'random_state': r_s,\n",
        "               'n_jobs':-1,\n",
        "               'n_estimators': n_est,\n",
        "               'metric': 'rmse',\n",
        "               'objective': 'rmse',\n",
        "               'random_state': r_s,\n",
        "               'verbose': -1,\n",
        "               'device': 'cpu'}\n",
        "\n",
        "fit_params = {'eval_metric': 'rmse',\n",
        "              'eval_set': [(X_le_test, y_le_test)],\n",
        "              'verbose': False,\n",
        "              'categorical_feature': cat_features_indxs,\n",
        "              'callbacks': [lgb.early_stopping(stopping_rounds=50), \n",
        "                            lgb.reset_parameter(learning_rate=lr_gen_simple(.02, n_est))]}\n",
        "\n",
        "best_LGBM_params = random_search_implementation(X_le_train, y_le_train, \n",
        "                                                LGBMRegressor, init_params,\n",
        "                                                grid, fit_params)"
      ],
      "metadata": {
        "colab": {
          "base_uri": "https://localhost:8080/"
        },
        "id": "IdXJMDbet6hD",
        "outputId": "2317046e-e978-4eae-c9e9-9ca68fd8527a"
      },
      "execution_count": null,
      "outputs": [
        {
          "output_type": "stream",
          "name": "stdout",
          "text": [
            "Fitting 3 folds for each of 20 candidates, totalling 60 fits\n",
            "[LightGBM] [Warning] lambda_l2 is set=2, reg_lambda=0.0 will be ignored. Current value: lambda_l2=2\n",
            "[LightGBM] [Warning] min_data_in_leaf is set=8, min_child_samples=20 will be ignored. Current value: min_data_in_leaf=8\n",
            "Training until validation scores don't improve for 50 rounds\n",
            "Early stopping, best iteration is:\n",
            "[269]\tvalid_0's rmse: 11.9474\n",
            "--------------------------------------------------------------------------------\n",
            "\n",
            "\u001b[1mbest parameters:\u001b[0m {'subsample': 0.95, 'num_leaves': 9, 'min_data_in_leaf': 8, 'max_depth': 11, 'max_bin': 60, 'lambda_l2': 2, 'colsample_bytree': 0.9}\n",
            "\u001b[1mbest score =\u001b[0m 11.7661\n",
            "CPU times: user 3.83 s, sys: 38.6 ms, total: 3.87 s\n",
            "Wall time: 20.5 s\n"
          ]
        }
      ]
    },
    {
      "cell_type": "code",
      "source": [
        "res = best_fold_model(LGBMRegressor, X_le, y, best_LGBM_params, cat_features,\n",
        "                      n_rounds=n_est, stop_rounds=50, init_lr=.02)\n",
        "best_mdls.append(res[0])"
      ],
      "metadata": {
        "id": "Cq7iqhpt95Z1",
        "colab": {
          "base_uri": "https://localhost:8080/"
        },
        "outputId": "0b17678c-8130-4871-a38d-3131dc82c8ce"
      },
      "execution_count": null,
      "outputs": [
        {
          "output_type": "stream",
          "name": "stdout",
          "text": [
            "Training until validation scores don't improve for 50 rounds\n",
            "Early stopping, best iteration is:\n",
            "[264]\tvalid_0's rmse: 11.8344\n",
            "fold: 0, test_RMSE: 11.834366492776924\n",
            "Best fold number = 0\n",
            "\n",
            "Training until validation scores don't improve for 50 rounds\n",
            "Early stopping, best iteration is:\n",
            "[285]\tvalid_0's rmse: 11.9343\n",
            "fold: 1, test_RMSE: 11.934273166899315\n",
            "Best fold number = 0\n",
            "\n",
            "Training until validation scores don't improve for 50 rounds\n",
            "Early stopping, best iteration is:\n",
            "[237]\tvalid_0's rmse: 11.5111\n",
            "fold: 2, test_RMSE: 11.511082614573594\n",
            "Best fold number = 2\n",
            "\n",
            "--------------------------------------------------------------------------------\n",
            "Среднее значение метрики по трём фолдам \u001b[1mtest_RMSE_mean\u001b[0m = 11.7599\n"
          ]
        }
      ]
    },
    {
      "cell_type": "code",
      "source": [
        "df_results = df_results.append({'model': res[1],\n",
        "                                'mode': 'goss',\n",
        "                                'RMSE_best_fold': res[2],\n",
        "                                'mean_RMSE': res[3],\n",
        "                                'std': res[4]}, ignore_index=True)"
      ],
      "metadata": {
        "id": "fsqiG8ljO1BH"
      },
      "execution_count": null,
      "outputs": []
    },
    {
      "cell_type": "markdown",
      "source": [
        "## XGBoost ('dart')"
      ],
      "metadata": {
        "id": "2CL6SAGLSTkE"
      }
    },
    {
      "cell_type": "code",
      "source": [
        "%%time\n",
        "\n",
        "grid = {'tree_method': ['hist', 'approx'],\n",
        "        'max_depth': np.arange(2, 12, 1),\n",
        "        'max_leaves': np.arange(1, 10),\n",
        "        'lambda': np.arange(1, 10, 1),\n",
        "        'max_bin': np.arange(10, 100, 10),\n",
        "        'subsample': [.75, .85, .95],\n",
        "        'alpha': np.arange(0, 10, 1),\n",
        "        'gamma': np.linspace(0, 1, 3),\n",
        "        'min_child_weight': np.linspace(1, 10, 10),\n",
        "        'colsample_bytree': [0.6, 0.7, 0.8, 0.9, 0.95],\n",
        "        'rate_drop':np.linspace(0.5, 1, 4),\n",
        "        'skip_drop': np.linspace(0.5, 1, 4)}\n",
        "      \n",
        "init_params = {'eval_metric':'rmse',\n",
        "               'enable_categorical': True,\n",
        "               'booster': 'dart',\n",
        "               'random_state': r_s,\n",
        "               'n_jobs':-1,\n",
        "               'n_estimators': n_est,\n",
        "               'objective': 'reg:squarederror',\n",
        "               'early_stopping_rounds': 20,\n",
        "               'callbacks': [xgb.callback.LearningRateScheduler(lr_gen_simple(.04, n_est))]}\n",
        "\n",
        "fit_params = {'eval_set': [(X_test, y_test)],              \n",
        "              'verbose': 0}\n",
        "\n",
        "best_XGB_params = random_search_implementation(X_train, y_train, \n",
        "                                               XGBRegressor, init_params,\n",
        "                                               grid, fit_params)"
      ],
      "metadata": {
        "colab": {
          "base_uri": "https://localhost:8080/"
        },
        "id": "RsUlo2yfTuGc",
        "outputId": "a1348c5f-4dac-4bee-f179-d987c2f5aecd"
      },
      "execution_count": null,
      "outputs": [
        {
          "output_type": "stream",
          "name": "stdout",
          "text": [
            "Fitting 3 folds for each of 20 candidates, totalling 60 fits\n",
            "--------------------------------------------------------------------------------\n",
            "\n",
            "\u001b[1mbest parameters:\u001b[0m {'tree_method': 'hist', 'subsample': 0.95, 'skip_drop': 0.6666666666666666, 'rate_drop': 0.5, 'min_child_weight': 4.0, 'max_leaves': 8, 'max_depth': 6, 'max_bin': 40, 'lambda': 4, 'gamma': 0.5, 'colsample_bytree': 0.8, 'alpha': 9}\n",
            "\u001b[1mbest score =\u001b[0m 11.7449\n",
            "CPU times: user 10.4 s, sys: 1.48 s, total: 11.9 s\n",
            "Wall time: 3min 50s\n"
          ]
        }
      ]
    },
    {
      "cell_type": "code",
      "source": [
        "res = best_fold_model(XGBRegressor, X, y, best_XGB_params,\n",
        "                      n_rounds=n_est, stop_rounds=20, init_lr=.04)\n",
        "best_mdls.append(res[0])"
      ],
      "metadata": {
        "colab": {
          "base_uri": "https://localhost:8080/"
        },
        "id": "qowXOsphTyw6",
        "outputId": "98438169-8f62-4874-cffa-31154231e115"
      },
      "execution_count": null,
      "outputs": [
        {
          "output_type": "stream",
          "name": "stdout",
          "text": [
            "fold: 0, test_RMSE: 11.761449813842773\n",
            "Best fold number = 0\n",
            "\n",
            "fold: 1, test_RMSE: 11.842194557189941\n",
            "Best fold number = 0\n",
            "\n",
            "fold: 2, test_RMSE: 11.357574462890625\n",
            "Best fold number = 2\n",
            "\n",
            "--------------------------------------------------------------------------------\n",
            "Среднее значение метрики по трём фолдам \u001b[1mtest_RMSE_mean\u001b[0m = 11.65369987487793\n"
          ]
        }
      ]
    },
    {
      "cell_type": "code",
      "source": [
        "df_results = df_results.append({'model': res[1],\n",
        "                                'mode': 'dart',\n",
        "                                'RMSE_best_fold': res[2],\n",
        "                                'mean_RMSE': res[3],\n",
        "                                'std': res[4]}, ignore_index=True)"
      ],
      "metadata": {
        "id": "-EcORkzWT_ye"
      },
      "execution_count": null,
      "outputs": []
    },
    {
      "cell_type": "markdown",
      "source": [
        "# Дополнительные модели"
      ],
      "metadata": {
        "id": "D4avnVe17cB-"
      }
    },
    {
      "cell_type": "markdown",
      "source": [
        "## CatBoostRegressor (random state = 7575)"
      ],
      "metadata": {
        "id": "YIf2QTQOoFQg"
      }
    },
    {
      "cell_type": "code",
      "source": [
        "%%time\n",
        "\n",
        "grid = {'depth': np.arange(2, 12, 1),        \n",
        "        'learning_rate' : [.02, .04, .06, .08, 0.1, .12],\n",
        "        'min_data_in_leaf': np.arange(100, 500, 50),\n",
        "        'l2_leaf_reg': np.arange(2, 12, 2),\n",
        "        'max_bin': np.arange(100, 300, 10),\n",
        "        'subsample': [.7, .75, .8, .85, .9, .95]}\n",
        "\n",
        "init_params = {'loss_function': 'RMSE',\n",
        "               'eval_metric': 'RMSE',\n",
        "               'random_seed': 7575,\n",
        "               'thread_count': -1,\n",
        "               'verbose': 0,\n",
        "               'task_type': \"CPU\",\n",
        "               'bootstrap_type': \"Bernoulli\",\n",
        "               'random_strength': 1,\n",
        "               'n_estimators': n_est}\n",
        "\n",
        "fit_params = {'cat_features': cat_features,\n",
        "              'eval_set': [(X_test, y_test)],\n",
        "              'verbose': 0,      \n",
        "              'early_stopping_rounds': 200}\n",
        "\n",
        "best_catboost_params = random_search_implementation(X_train, y_train, CatBoostRegressor, init_params, grid, fit_params)   "
      ],
      "metadata": {
        "colab": {
          "base_uri": "https://localhost:8080/"
        },
        "id": "T6A2ECPFZL3c",
        "outputId": "9b15b5b7-3767-43aa-fbd8-c9621a4a89cd"
      },
      "execution_count": null,
      "outputs": [
        {
          "output_type": "stream",
          "name": "stdout",
          "text": [
            "Fitting 3 folds for each of 20 candidates, totalling 60 fits\n",
            "--------------------------------------------------------------------------------\n",
            "\n",
            "\u001b[1mbest parameters:\u001b[0m {'subsample': 0.95, 'min_data_in_leaf': 250, 'max_bin': 270, 'learning_rate': 0.1, 'l2_leaf_reg': 2, 'depth': 6}\n",
            "\u001b[1mbest score =\u001b[0m 11.6219\n",
            "CPU times: user 2.52 s, sys: 200 ms, total: 2.72 s\n",
            "Wall time: 3min 19s\n"
          ]
        }
      ]
    },
    {
      "cell_type": "code",
      "source": [
        "res = best_fold_model(CatBoostRegressor, X, y, best_catboost_params, cat_features)\n",
        "best_mdls.append(res[0])"
      ],
      "metadata": {
        "colab": {
          "base_uri": "https://localhost:8080/"
        },
        "id": "RO2ic-c3Zadc",
        "outputId": "0d228444-c28c-41f6-a6a8-f101cb49fe21"
      },
      "execution_count": null,
      "outputs": [
        {
          "output_type": "stream",
          "name": "stdout",
          "text": [
            "0:\tlearn: 16.9259015\ttest: 16.3551890\tbest: 16.3551890 (0)\ttotal: 3.03ms\tremaining: 3.03s\n",
            "Stopped by overfitting detector  (200 iterations wait)\n",
            "\n",
            "bestTest = 11.86331758\n",
            "bestIteration = 44\n",
            "\n",
            "Shrink model to first 45 iterations.\n",
            "fold: 0, test_RMSE: 11.863317583672519\n",
            "Best fold number = 0\n",
            "\n",
            "0:\tlearn: 16.4215937\ttest: 17.6510416\tbest: 17.6510416 (0)\ttotal: 8.42ms\tremaining: 8.41s\n",
            "Stopped by overfitting detector  (200 iterations wait)\n",
            "\n",
            "bestTest = 11.83268471\n",
            "bestIteration = 178\n",
            "\n",
            "Shrink model to first 179 iterations.\n",
            "fold: 1, test_RMSE: 11.832684712859827\n",
            "Best fold number = 1\n",
            "\n",
            "0:\tlearn: 17.1079297\ttest: 16.5278394\tbest: 16.5278394 (0)\ttotal: 3.21ms\tremaining: 3.21s\n",
            "Stopped by overfitting detector  (200 iterations wait)\n",
            "\n",
            "bestTest = 11.40168631\n",
            "bestIteration = 142\n",
            "\n",
            "Shrink model to first 143 iterations.\n",
            "fold: 2, test_RMSE: 11.401686313691192\n",
            "Best fold number = 2\n",
            "\n",
            "--------------------------------------------------------------------------------\n",
            "Среднее значение метрики по трём фолдам \u001b[1mtest_RMSE_mean\u001b[0m = 11.6992\n"
          ]
        }
      ]
    },
    {
      "cell_type": "code",
      "source": [
        "df_results = df_results.append({'model': res[1],\n",
        "                                'RMSE_best_fold': res[2],\n",
        "                                'mean_RMSE': res[3],\n",
        "                                'std': res[4],\n",
        "                                'mode': 'random_state = 7575'}, ignore_index=True)"
      ],
      "metadata": {
        "id": "cC8pgK86j0L0"
      },
      "execution_count": null,
      "outputs": []
    },
    {
      "cell_type": "markdown",
      "source": [
        "## LightGBM ('dart')"
      ],
      "metadata": {
        "id": "xTOVEatcanpi"
      }
    },
    {
      "cell_type": "code",
      "source": [
        "%%time\n",
        "\n",
        "grid = {'max_depth': np.arange(2, 12, 1),\n",
        "        'min_data_in_leaf': np.arange(1, 30),\n",
        "        'lambda_l2': np.arange(2, 12, 2),\n",
        "        'max_bin': np.arange(10, 100, 10),\n",
        "        'subsample': [.75, .85, .95],         \n",
        "        'num_leaves': np.arange(1, 10),\n",
        "        'colsample_bytree': [0.6, 0.7, 0.8, 0.9, 0.95]}\n",
        "      \n",
        "init_params = {'boosting_type': 'dart',\n",
        "               'random_state': r_s,\n",
        "               'n_jobs':-1,\n",
        "               'n_estimators': n_est,\n",
        "               'metric': 'rmse',\n",
        "               'objective': 'rmse',\n",
        "               'random_state': r_s,\n",
        "               'verbose': -1,\n",
        "               'device': 'cpu'}\n",
        "\n",
        "fit_params = {'eval_metric': 'rmse',\n",
        "              'eval_set': [(X_le_test, y_le_test)],\n",
        "              'verbose': False,\n",
        "              'categorical_feature': cat_features_indxs,\n",
        "              'callbacks': [lgb.early_stopping(stopping_rounds=200), \n",
        "                            lgb.reset_parameter(learning_rate=lr_gen_simple(.7, n_est))]}\n",
        "\n",
        "best_LGBM_params = random_search_implementation(X_le_train, y_le_train, \n",
        "                                                LGBMRegressor, init_params,\n",
        "                                                grid, fit_params)"
      ],
      "metadata": {
        "id": "hIDCet0xasDa",
        "colab": {
          "base_uri": "https://localhost:8080/"
        },
        "outputId": "406fe606-ae91-4809-ebab-81762e85b9a7"
      },
      "execution_count": null,
      "outputs": [
        {
          "output_type": "stream",
          "name": "stdout",
          "text": [
            "Fitting 3 folds for each of 20 candidates, totalling 60 fits\n",
            "[LightGBM] [Warning] lambda_l2 is set=2, reg_lambda=0.0 will be ignored. Current value: lambda_l2=2\n",
            "[LightGBM] [Warning] min_data_in_leaf is set=3, min_child_samples=20 will be ignored. Current value: min_data_in_leaf=3\n",
            "--------------------------------------------------------------------------------\n",
            "\n",
            "\u001b[1mbest parameters:\u001b[0m {'subsample': 0.75, 'num_leaves': 8, 'min_data_in_leaf': 3, 'max_depth': 7, 'max_bin': 40, 'lambda_l2': 2, 'colsample_bytree': 0.8}\n",
            "\u001b[1mbest score =\u001b[0m 11.7207\n",
            "CPU times: user 12.2 s, sys: 276 ms, total: 12.4 s\n",
            "Wall time: 2min 5s\n"
          ]
        }
      ]
    },
    {
      "cell_type": "code",
      "source": [
        "res = best_fold_model(LGBMRegressor, X_le, y, best_LGBM_params, cat_features,\n",
        "                      n_rounds=1000, init_lr=.7)\n",
        "best_mdls.append(res[0])"
      ],
      "metadata": {
        "id": "NUmDufcNa2rZ",
        "colab": {
          "base_uri": "https://localhost:8080/"
        },
        "outputId": "280d3586-4d70-4ed4-d58b-7c9872e52577"
      },
      "execution_count": null,
      "outputs": [
        {
          "output_type": "stream",
          "name": "stdout",
          "text": [
            "fold: 0, test_RMSE: 11.95384357755469\n",
            "Best fold number = 0\n",
            "\n",
            "fold: 1, test_RMSE: 11.920302982871021\n",
            "Best fold number = 1\n",
            "\n",
            "fold: 2, test_RMSE: 11.511305955545428\n",
            "Best fold number = 2\n",
            "\n",
            "--------------------------------------------------------------------------------\n",
            "Среднее значение метрики по трём фолдам \u001b[1mtest_RMSE_mean\u001b[0m = 11.7952\n"
          ]
        }
      ]
    },
    {
      "cell_type": "code",
      "source": [
        "df_results = df_results.append({'model': res[1],\n",
        "                                'RMSE_best_fold': res[2],\n",
        "                                'mean_RMSE': res[3],\n",
        "                                'std': res[4],\n",
        "                                'mode': 'dart'}, ignore_index=True)"
      ],
      "metadata": {
        "id": "RQhj-B8Na9DK"
      },
      "execution_count": null,
      "outputs": []
    },
    {
      "cell_type": "markdown",
      "source": [
        "## XGBoost ('gbtree')"
      ],
      "metadata": {
        "id": "zYORkaheUik2"
      }
    },
    {
      "cell_type": "code",
      "source": [
        "%%time\n",
        "\n",
        "grid = {'tree_method': ['hist', 'approx', 'exact'],\n",
        "        'max_depth': np.arange(2, 12, 1),\n",
        "        'max_leaves': np.arange(1, 10),\n",
        "        'lambda': np.arange(1, 10, 1),\n",
        "        'max_bin': np.arange(10, 100, 10),\n",
        "        'subsample': [.75, .85, .95],\n",
        "        'alpha': np.arange(0, 10, 1),\n",
        "        'gamma': np.linspace(0, 1, 10),\n",
        "        'min_child_weight': np.linspace(1, 10, 10),\n",
        "        'colsample_bytree': [0.6, 0.7, 0.8, 0.9, 0.95]}\n",
        "      \n",
        "init_params = {'eval_metric':'rmse',\n",
        "               'enable_categorical': True,\n",
        "               'booster': 'gbtree',\n",
        "               'random_state': r_s,\n",
        "               'n_jobs':-1,\n",
        "               'n_estimators': n_est,\n",
        "               'objective': 'reg:squarederror',\n",
        "               'callbacks': [xgb.callback.LearningRateScheduler(lr_gen_simple(.01, n_est))],\n",
        "               'early_stopping_rounds': 200}\n",
        "\n",
        "fit_params = {'eval_set': [(X_test, y_test)],              \n",
        "              'verbose': False}\n",
        "\n",
        "best_XGB_params = random_search_implementation(X_train, y_train, \n",
        "                                               XGBRegressor, init_params,\n",
        "                                               grid, fit_params)"
      ],
      "metadata": {
        "colab": {
          "base_uri": "https://localhost:8080/"
        },
        "id": "o-SLzEulVRr3",
        "outputId": "43bdf34d-20da-4a54-a06e-4c44273416fb"
      },
      "execution_count": null,
      "outputs": [
        {
          "output_type": "stream",
          "name": "stdout",
          "text": [
            "Fitting 3 folds for each of 20 candidates, totalling 60 fits\n",
            "--------------------------------------------------------------------------------\n",
            "\n",
            "\u001b[1mbest parameters:\u001b[0m {'tree_method': 'approx', 'subsample': 0.95, 'min_child_weight': 8.0, 'max_leaves': 7, 'max_depth': 7, 'max_bin': 90, 'lambda': 3, 'gamma': 0.2222222222222222, 'colsample_bytree': 0.9, 'alpha': 7}\n",
            "\u001b[1mbest score =\u001b[0m 11.7349\n",
            "CPU times: user 1.85 s, sys: 76.6 ms, total: 1.93 s\n",
            "Wall time: 12.8 s\n"
          ]
        }
      ]
    },
    {
      "cell_type": "code",
      "source": [
        "res = best_fold_model(XGBRegressor, X, y, best_XGB_params,\n",
        "                      n_rounds=n_est, init_lr=.01)\n",
        "best_mdls.append(res[0])"
      ],
      "metadata": {
        "colab": {
          "base_uri": "https://localhost:8080/"
        },
        "id": "wN9-TxkePSNH",
        "outputId": "f7863534-9b2f-405f-ad36-433229d7c186"
      },
      "execution_count": null,
      "outputs": [
        {
          "output_type": "stream",
          "name": "stdout",
          "text": [
            "fold: 0, test_RMSE: 11.837638854980469\n",
            "Best fold number = 0\n",
            "\n",
            "fold: 1, test_RMSE: 11.901158332824707\n",
            "Best fold number = 0\n",
            "\n",
            "fold: 2, test_RMSE: 11.483156204223633\n",
            "Best fold number = 2\n",
            "\n",
            "--------------------------------------------------------------------------------\n",
            "Среднее значение метрики по трём фолдам \u001b[1mtest_RMSE_mean\u001b[0m = 11.740699768066406\n"
          ]
        }
      ]
    },
    {
      "cell_type": "code",
      "source": [
        "df_results = df_results.append({'model': res[1],\n",
        "                                'RMSE_best_fold': res[2],\n",
        "                                'mean_RMSE': res[3],\n",
        "                                'std': res[4],\n",
        "                                'mode': 'gbtree'}, ignore_index=True)"
      ],
      "metadata": {
        "id": "QK9RI8IAUGbf"
      },
      "execution_count": null,
      "outputs": []
    },
    {
      "cell_type": "markdown",
      "source": [
        "# Сохранение моделей и прогнозирование"
      ],
      "metadata": {
        "id": "1UmfFXF1OtRr"
      }
    },
    {
      "cell_type": "markdown",
      "source": [
        "Сохраним полученные модели"
      ],
      "metadata": {
        "id": "Urt7WEdNmmOo"
      }
    },
    {
      "cell_type": "code",
      "source": [
        "def prediction(i, X):\n",
        "    with open(f\"model_{i}.pkl\", \"rb\") as f:\n",
        "        model = pickle.load(f)\n",
        "\n",
        "    return model.predict(X)   "
      ],
      "metadata": {
        "id": "4oLLSZ1sJWru"
      },
      "execution_count": null,
      "outputs": []
    },
    {
      "cell_type": "code",
      "source": [
        "for i, mdl in enumerate(best_mdls):\n",
        "    with open(f'model_{i}.pkl', \"wb\") as f:\n",
        "        pickle.dump(mdl, f)"
      ],
      "metadata": {
        "id": "rnF2BKH-mB9w"
      },
      "execution_count": null,
      "outputs": []
    },
    {
      "cell_type": "markdown",
      "source": [
        "Получим прогнозы для трёх основных моделей"
      ],
      "metadata": {
        "id": "VPnUAfcSaWpx"
      }
    },
    {
      "cell_type": "code",
      "source": [
        "# подготовка submission для разных моделей\n",
        "X_sub = test[filtered_features].drop(targets, axis=1, errors=\"ignore\")\n",
        "\n",
        "X_le_sub = X_sub.copy()\n",
        "\n",
        "for col in cat_features:\n",
        "    X_le_sub[col] = le.fit_transform(X_sub[col])\n",
        "\n",
        "X_sub_dmatrix = xgb.DMatrix(X_sub, nthread=-1, enable_categorical=True)"
      ],
      "metadata": {
        "id": "9dTNiACgvvd_"
      },
      "execution_count": null,
      "outputs": []
    },
    {
      "cell_type": "markdown",
      "source": [
        "## CatBoostRegressor (random state = 7575)"
      ],
      "metadata": {
        "id": "yBRPqFb6ajdO"
      }
    },
    {
      "cell_type": "code",
      "source": [
        "df_sub = pd.DataFrame(test['car_id'])\n",
        "df_sub['CtB_target_reg']=(prediction(0, X_sub))"
      ],
      "metadata": {
        "id": "2wBeugBT5rlP"
      },
      "execution_count": null,
      "outputs": []
    },
    {
      "cell_type": "markdown",
      "source": [
        "## LightGBM ('goss')"
      ],
      "metadata": {
        "id": "b0sUHPHza_IE"
      }
    },
    {
      "cell_type": "code",
      "source": [
        "df_sub['LGBM_target_reg'] = prediction(1, X_le_sub)"
      ],
      "metadata": {
        "id": "1oBtqelTNF7L"
      },
      "execution_count": null,
      "outputs": []
    },
    {
      "cell_type": "markdown",
      "source": [
        "## XGBoost ('dart')"
      ],
      "metadata": {
        "id": "HB2Dk4CePsY7"
      }
    },
    {
      "cell_type": "code",
      "source": [
        "df_sub['XGB_target_reg'] = prediction(2, X_sub_dmatrix)"
      ],
      "metadata": {
        "id": "vLfx1GiOPrhK"
      },
      "execution_count": null,
      "outputs": []
    },
    {
      "cell_type": "code",
      "source": [
        "df_sub.head(3)"
      ],
      "metadata": {
        "colab": {
          "base_uri": "https://localhost:8080/",
          "height": 143
        },
        "id": "NpP3ODWAnpgb",
        "outputId": "84c65d74-4416-4198-9840-c06bfac7cffd"
      },
      "execution_count": null,
      "outputs": [
        {
          "output_type": "execute_result",
          "data": {
            "text/plain": [
              "       car_id  CtB_target_reg  LGBM_target_reg  XGB_target_reg\n",
              "0  P17494612l       41.348844        45.197706       47.434601\n",
              "1  N-1530212S       32.281348        35.633145       35.873508\n",
              "2  B-1154399t       33.456254        34.685609       31.681417"
            ],
            "text/html": [
              "\n",
              "  <div id=\"df-d1736c96-36f7-4ef8-8b75-645ce81bbbf0\">\n",
              "    <div class=\"colab-df-container\">\n",
              "      <div>\n",
              "<style scoped>\n",
              "    .dataframe tbody tr th:only-of-type {\n",
              "        vertical-align: middle;\n",
              "    }\n",
              "\n",
              "    .dataframe tbody tr th {\n",
              "        vertical-align: top;\n",
              "    }\n",
              "\n",
              "    .dataframe thead th {\n",
              "        text-align: right;\n",
              "    }\n",
              "</style>\n",
              "<table border=\"1\" class=\"dataframe\">\n",
              "  <thead>\n",
              "    <tr style=\"text-align: right;\">\n",
              "      <th></th>\n",
              "      <th>car_id</th>\n",
              "      <th>CtB_target_reg</th>\n",
              "      <th>LGBM_target_reg</th>\n",
              "      <th>XGB_target_reg</th>\n",
              "    </tr>\n",
              "  </thead>\n",
              "  <tbody>\n",
              "    <tr>\n",
              "      <th>0</th>\n",
              "      <td>P17494612l</td>\n",
              "      <td>41.348844</td>\n",
              "      <td>45.197706</td>\n",
              "      <td>47.434601</td>\n",
              "    </tr>\n",
              "    <tr>\n",
              "      <th>1</th>\n",
              "      <td>N-1530212S</td>\n",
              "      <td>32.281348</td>\n",
              "      <td>35.633145</td>\n",
              "      <td>35.873508</td>\n",
              "    </tr>\n",
              "    <tr>\n",
              "      <th>2</th>\n",
              "      <td>B-1154399t</td>\n",
              "      <td>33.456254</td>\n",
              "      <td>34.685609</td>\n",
              "      <td>31.681417</td>\n",
              "    </tr>\n",
              "  </tbody>\n",
              "</table>\n",
              "</div>\n",
              "      <button class=\"colab-df-convert\" onclick=\"convertToInteractive('df-d1736c96-36f7-4ef8-8b75-645ce81bbbf0')\"\n",
              "              title=\"Convert this dataframe to an interactive table.\"\n",
              "              style=\"display:none;\">\n",
              "        \n",
              "  <svg xmlns=\"http://www.w3.org/2000/svg\" height=\"24px\"viewBox=\"0 0 24 24\"\n",
              "       width=\"24px\">\n",
              "    <path d=\"M0 0h24v24H0V0z\" fill=\"none\"/>\n",
              "    <path d=\"M18.56 5.44l.94 2.06.94-2.06 2.06-.94-2.06-.94-.94-2.06-.94 2.06-2.06.94zm-11 1L8.5 8.5l.94-2.06 2.06-.94-2.06-.94L8.5 2.5l-.94 2.06-2.06.94zm10 10l.94 2.06.94-2.06 2.06-.94-2.06-.94-.94-2.06-.94 2.06-2.06.94z\"/><path d=\"M17.41 7.96l-1.37-1.37c-.4-.4-.92-.59-1.43-.59-.52 0-1.04.2-1.43.59L10.3 9.45l-7.72 7.72c-.78.78-.78 2.05 0 2.83L4 21.41c.39.39.9.59 1.41.59.51 0 1.02-.2 1.41-.59l7.78-7.78 2.81-2.81c.8-.78.8-2.07 0-2.86zM5.41 20L4 18.59l7.72-7.72 1.47 1.35L5.41 20z\"/>\n",
              "  </svg>\n",
              "      </button>\n",
              "      \n",
              "  <style>\n",
              "    .colab-df-container {\n",
              "      display:flex;\n",
              "      flex-wrap:wrap;\n",
              "      gap: 12px;\n",
              "    }\n",
              "\n",
              "    .colab-df-convert {\n",
              "      background-color: #E8F0FE;\n",
              "      border: none;\n",
              "      border-radius: 50%;\n",
              "      cursor: pointer;\n",
              "      display: none;\n",
              "      fill: #1967D2;\n",
              "      height: 32px;\n",
              "      padding: 0 0 0 0;\n",
              "      width: 32px;\n",
              "    }\n",
              "\n",
              "    .colab-df-convert:hover {\n",
              "      background-color: #E2EBFA;\n",
              "      box-shadow: 0px 1px 2px rgba(60, 64, 67, 0.3), 0px 1px 3px 1px rgba(60, 64, 67, 0.15);\n",
              "      fill: #174EA6;\n",
              "    }\n",
              "\n",
              "    [theme=dark] .colab-df-convert {\n",
              "      background-color: #3B4455;\n",
              "      fill: #D2E3FC;\n",
              "    }\n",
              "\n",
              "    [theme=dark] .colab-df-convert:hover {\n",
              "      background-color: #434B5C;\n",
              "      box-shadow: 0px 1px 3px 1px rgba(0, 0, 0, 0.15);\n",
              "      filter: drop-shadow(0px 1px 2px rgba(0, 0, 0, 0.3));\n",
              "      fill: #FFFFFF;\n",
              "    }\n",
              "  </style>\n",
              "\n",
              "      <script>\n",
              "        const buttonEl =\n",
              "          document.querySelector('#df-d1736c96-36f7-4ef8-8b75-645ce81bbbf0 button.colab-df-convert');\n",
              "        buttonEl.style.display =\n",
              "          google.colab.kernel.accessAllowed ? 'block' : 'none';\n",
              "\n",
              "        async function convertToInteractive(key) {\n",
              "          const element = document.querySelector('#df-d1736c96-36f7-4ef8-8b75-645ce81bbbf0');\n",
              "          const dataTable =\n",
              "            await google.colab.kernel.invokeFunction('convertToInteractive',\n",
              "                                                     [key], {});\n",
              "          if (!dataTable) return;\n",
              "\n",
              "          const docLinkHtml = 'Like what you see? Visit the ' +\n",
              "            '<a target=\"_blank\" href=https://colab.research.google.com/notebooks/data_table.ipynb>data table notebook</a>'\n",
              "            + ' to learn more about interactive tables.';\n",
              "          element.innerHTML = '';\n",
              "          dataTable['output_type'] = 'display_data';\n",
              "          await google.colab.output.renderOutput(dataTable, element);\n",
              "          const docLink = document.createElement('div');\n",
              "          docLink.innerHTML = docLinkHtml;\n",
              "          element.appendChild(docLink);\n",
              "        }\n",
              "      </script>\n",
              "    </div>\n",
              "  </div>\n",
              "  "
            ]
          },
          "metadata": {},
          "execution_count": 43
        }
      ]
    },
    {
      "cell_type": "markdown",
      "source": [
        "## Усреднённый прогноз"
      ],
      "metadata": {
        "id": "_Os1f4v0XU_n"
      }
    },
    {
      "cell_type": "code",
      "source": [
        "temp_columns = ['CtB_target_reg',\t'LGBM_target_reg', 'XGB_target_reg']"
      ],
      "metadata": {
        "id": "w2Yt-fWrhA2h"
      },
      "execution_count": null,
      "outputs": []
    },
    {
      "cell_type": "code",
      "source": [
        "df_sub['target_reg'] = df_sub.mean(axis=1)\n",
        "df_sub.drop(temp_columns, axis=1, inplace=True)\n",
        "df_sub = df_sub.reset_index(drop=True)\n",
        "df_sub.head(3)"
      ],
      "metadata": {
        "colab": {
          "base_uri": "https://localhost:8080/",
          "height": 143
        },
        "id": "VLKFxpdBXkS2",
        "outputId": "b542ca8e-4bd6-4505-add7-dbe91e7b2619"
      },
      "execution_count": null,
      "outputs": [
        {
          "output_type": "execute_result",
          "data": {
            "text/plain": [
              "       car_id  target_reg\n",
              "0  P17494612l   44.660384\n",
              "1  N-1530212S   34.596000\n",
              "2  B-1154399t   33.274427"
            ],
            "text/html": [
              "\n",
              "  <div id=\"df-3e3479c9-6d08-46c1-ae82-c98bb6359ed4\">\n",
              "    <div class=\"colab-df-container\">\n",
              "      <div>\n",
              "<style scoped>\n",
              "    .dataframe tbody tr th:only-of-type {\n",
              "        vertical-align: middle;\n",
              "    }\n",
              "\n",
              "    .dataframe tbody tr th {\n",
              "        vertical-align: top;\n",
              "    }\n",
              "\n",
              "    .dataframe thead th {\n",
              "        text-align: right;\n",
              "    }\n",
              "</style>\n",
              "<table border=\"1\" class=\"dataframe\">\n",
              "  <thead>\n",
              "    <tr style=\"text-align: right;\">\n",
              "      <th></th>\n",
              "      <th>car_id</th>\n",
              "      <th>target_reg</th>\n",
              "    </tr>\n",
              "  </thead>\n",
              "  <tbody>\n",
              "    <tr>\n",
              "      <th>0</th>\n",
              "      <td>P17494612l</td>\n",
              "      <td>44.660384</td>\n",
              "    </tr>\n",
              "    <tr>\n",
              "      <th>1</th>\n",
              "      <td>N-1530212S</td>\n",
              "      <td>34.596000</td>\n",
              "    </tr>\n",
              "    <tr>\n",
              "      <th>2</th>\n",
              "      <td>B-1154399t</td>\n",
              "      <td>33.274427</td>\n",
              "    </tr>\n",
              "  </tbody>\n",
              "</table>\n",
              "</div>\n",
              "      <button class=\"colab-df-convert\" onclick=\"convertToInteractive('df-3e3479c9-6d08-46c1-ae82-c98bb6359ed4')\"\n",
              "              title=\"Convert this dataframe to an interactive table.\"\n",
              "              style=\"display:none;\">\n",
              "        \n",
              "  <svg xmlns=\"http://www.w3.org/2000/svg\" height=\"24px\"viewBox=\"0 0 24 24\"\n",
              "       width=\"24px\">\n",
              "    <path d=\"M0 0h24v24H0V0z\" fill=\"none\"/>\n",
              "    <path d=\"M18.56 5.44l.94 2.06.94-2.06 2.06-.94-2.06-.94-.94-2.06-.94 2.06-2.06.94zm-11 1L8.5 8.5l.94-2.06 2.06-.94-2.06-.94L8.5 2.5l-.94 2.06-2.06.94zm10 10l.94 2.06.94-2.06 2.06-.94-2.06-.94-.94-2.06-.94 2.06-2.06.94z\"/><path d=\"M17.41 7.96l-1.37-1.37c-.4-.4-.92-.59-1.43-.59-.52 0-1.04.2-1.43.59L10.3 9.45l-7.72 7.72c-.78.78-.78 2.05 0 2.83L4 21.41c.39.39.9.59 1.41.59.51 0 1.02-.2 1.41-.59l7.78-7.78 2.81-2.81c.8-.78.8-2.07 0-2.86zM5.41 20L4 18.59l7.72-7.72 1.47 1.35L5.41 20z\"/>\n",
              "  </svg>\n",
              "      </button>\n",
              "      \n",
              "  <style>\n",
              "    .colab-df-container {\n",
              "      display:flex;\n",
              "      flex-wrap:wrap;\n",
              "      gap: 12px;\n",
              "    }\n",
              "\n",
              "    .colab-df-convert {\n",
              "      background-color: #E8F0FE;\n",
              "      border: none;\n",
              "      border-radius: 50%;\n",
              "      cursor: pointer;\n",
              "      display: none;\n",
              "      fill: #1967D2;\n",
              "      height: 32px;\n",
              "      padding: 0 0 0 0;\n",
              "      width: 32px;\n",
              "    }\n",
              "\n",
              "    .colab-df-convert:hover {\n",
              "      background-color: #E2EBFA;\n",
              "      box-shadow: 0px 1px 2px rgba(60, 64, 67, 0.3), 0px 1px 3px 1px rgba(60, 64, 67, 0.15);\n",
              "      fill: #174EA6;\n",
              "    }\n",
              "\n",
              "    [theme=dark] .colab-df-convert {\n",
              "      background-color: #3B4455;\n",
              "      fill: #D2E3FC;\n",
              "    }\n",
              "\n",
              "    [theme=dark] .colab-df-convert:hover {\n",
              "      background-color: #434B5C;\n",
              "      box-shadow: 0px 1px 3px 1px rgba(0, 0, 0, 0.15);\n",
              "      filter: drop-shadow(0px 1px 2px rgba(0, 0, 0, 0.3));\n",
              "      fill: #FFFFFF;\n",
              "    }\n",
              "  </style>\n",
              "\n",
              "      <script>\n",
              "        const buttonEl =\n",
              "          document.querySelector('#df-3e3479c9-6d08-46c1-ae82-c98bb6359ed4 button.colab-df-convert');\n",
              "        buttonEl.style.display =\n",
              "          google.colab.kernel.accessAllowed ? 'block' : 'none';\n",
              "\n",
              "        async function convertToInteractive(key) {\n",
              "          const element = document.querySelector('#df-3e3479c9-6d08-46c1-ae82-c98bb6359ed4');\n",
              "          const dataTable =\n",
              "            await google.colab.kernel.invokeFunction('convertToInteractive',\n",
              "                                                     [key], {});\n",
              "          if (!dataTable) return;\n",
              "\n",
              "          const docLinkHtml = 'Like what you see? Visit the ' +\n",
              "            '<a target=\"_blank\" href=https://colab.research.google.com/notebooks/data_table.ipynb>data table notebook</a>'\n",
              "            + ' to learn more about interactive tables.';\n",
              "          element.innerHTML = '';\n",
              "          dataTable['output_type'] = 'display_data';\n",
              "          await google.colab.output.renderOutput(dataTable, element);\n",
              "          const docLink = document.createElement('div');\n",
              "          docLink.innerHTML = docLinkHtml;\n",
              "          element.appendChild(docLink);\n",
              "        }\n",
              "      </script>\n",
              "    </div>\n",
              "  </div>\n",
              "  "
            ]
          },
          "metadata": {},
          "execution_count": 45
        }
      ]
    },
    {
      "cell_type": "code",
      "source": [
        "df_sub.to_csv(\"try_1.csv\", index=False)"
      ],
      "metadata": {
        "id": "h436pIdNgtaz"
      },
      "execution_count": null,
      "outputs": []
    },
    {
      "cell_type": "markdown",
      "source": [
        "# Результаты и выводы."
      ],
      "metadata": {
        "id": "tjrKfZDqbs9o"
      }
    },
    {
      "cell_type": "code",
      "source": [
        "df_results"
      ],
      "metadata": {
        "id": "gOxGMQt-lkus",
        "colab": {
          "base_uri": "https://localhost:8080/",
          "height": 238
        },
        "outputId": "ab9bd9f7-1adb-4281-8e43-54df48e44d73"
      },
      "execution_count": null,
      "outputs": [
        {
          "output_type": "execute_result",
          "data": {
            "text/plain": [
              "               model                 mode  RMSE_best_fold  mean_RMSE     std\n",
              "0  CatBoostRegressor    random_state = 42       11.374589    11.7490  0.2654\n",
              "1      LGBMRegressor                 goss       11.511083    11.7599  0.1806\n",
              "2       XGBRegressor                 dart       11.357574    11.6537  0.2120\n",
              "3  CatBoostRegressor  random_state = 7575       11.401686    11.6992  0.2108\n",
              "4      LGBMRegressor                 dart       11.511306    11.7952  0.2012\n",
              "5       XGBRegressor               gbtree       11.483156    11.7407  0.1839"
            ],
            "text/html": [
              "\n",
              "  <div id=\"df-d55d731e-e71e-4011-b71a-210b3e9deb28\">\n",
              "    <div class=\"colab-df-container\">\n",
              "      <div>\n",
              "<style scoped>\n",
              "    .dataframe tbody tr th:only-of-type {\n",
              "        vertical-align: middle;\n",
              "    }\n",
              "\n",
              "    .dataframe tbody tr th {\n",
              "        vertical-align: top;\n",
              "    }\n",
              "\n",
              "    .dataframe thead th {\n",
              "        text-align: right;\n",
              "    }\n",
              "</style>\n",
              "<table border=\"1\" class=\"dataframe\">\n",
              "  <thead>\n",
              "    <tr style=\"text-align: right;\">\n",
              "      <th></th>\n",
              "      <th>model</th>\n",
              "      <th>mode</th>\n",
              "      <th>RMSE_best_fold</th>\n",
              "      <th>mean_RMSE</th>\n",
              "      <th>std</th>\n",
              "    </tr>\n",
              "  </thead>\n",
              "  <tbody>\n",
              "    <tr>\n",
              "      <th>0</th>\n",
              "      <td>CatBoostRegressor</td>\n",
              "      <td>random_state = 42</td>\n",
              "      <td>11.374589</td>\n",
              "      <td>11.7490</td>\n",
              "      <td>0.2654</td>\n",
              "    </tr>\n",
              "    <tr>\n",
              "      <th>1</th>\n",
              "      <td>LGBMRegressor</td>\n",
              "      <td>goss</td>\n",
              "      <td>11.511083</td>\n",
              "      <td>11.7599</td>\n",
              "      <td>0.1806</td>\n",
              "    </tr>\n",
              "    <tr>\n",
              "      <th>2</th>\n",
              "      <td>XGBRegressor</td>\n",
              "      <td>dart</td>\n",
              "      <td>11.357574</td>\n",
              "      <td>11.6537</td>\n",
              "      <td>0.2120</td>\n",
              "    </tr>\n",
              "    <tr>\n",
              "      <th>3</th>\n",
              "      <td>CatBoostRegressor</td>\n",
              "      <td>random_state = 7575</td>\n",
              "      <td>11.401686</td>\n",
              "      <td>11.6992</td>\n",
              "      <td>0.2108</td>\n",
              "    </tr>\n",
              "    <tr>\n",
              "      <th>4</th>\n",
              "      <td>LGBMRegressor</td>\n",
              "      <td>dart</td>\n",
              "      <td>11.511306</td>\n",
              "      <td>11.7952</td>\n",
              "      <td>0.2012</td>\n",
              "    </tr>\n",
              "    <tr>\n",
              "      <th>5</th>\n",
              "      <td>XGBRegressor</td>\n",
              "      <td>gbtree</td>\n",
              "      <td>11.483156</td>\n",
              "      <td>11.7407</td>\n",
              "      <td>0.1839</td>\n",
              "    </tr>\n",
              "  </tbody>\n",
              "</table>\n",
              "</div>\n",
              "      <button class=\"colab-df-convert\" onclick=\"convertToInteractive('df-d55d731e-e71e-4011-b71a-210b3e9deb28')\"\n",
              "              title=\"Convert this dataframe to an interactive table.\"\n",
              "              style=\"display:none;\">\n",
              "        \n",
              "  <svg xmlns=\"http://www.w3.org/2000/svg\" height=\"24px\"viewBox=\"0 0 24 24\"\n",
              "       width=\"24px\">\n",
              "    <path d=\"M0 0h24v24H0V0z\" fill=\"none\"/>\n",
              "    <path d=\"M18.56 5.44l.94 2.06.94-2.06 2.06-.94-2.06-.94-.94-2.06-.94 2.06-2.06.94zm-11 1L8.5 8.5l.94-2.06 2.06-.94-2.06-.94L8.5 2.5l-.94 2.06-2.06.94zm10 10l.94 2.06.94-2.06 2.06-.94-2.06-.94-.94-2.06-.94 2.06-2.06.94z\"/><path d=\"M17.41 7.96l-1.37-1.37c-.4-.4-.92-.59-1.43-.59-.52 0-1.04.2-1.43.59L10.3 9.45l-7.72 7.72c-.78.78-.78 2.05 0 2.83L4 21.41c.39.39.9.59 1.41.59.51 0 1.02-.2 1.41-.59l7.78-7.78 2.81-2.81c.8-.78.8-2.07 0-2.86zM5.41 20L4 18.59l7.72-7.72 1.47 1.35L5.41 20z\"/>\n",
              "  </svg>\n",
              "      </button>\n",
              "      \n",
              "  <style>\n",
              "    .colab-df-container {\n",
              "      display:flex;\n",
              "      flex-wrap:wrap;\n",
              "      gap: 12px;\n",
              "    }\n",
              "\n",
              "    .colab-df-convert {\n",
              "      background-color: #E8F0FE;\n",
              "      border: none;\n",
              "      border-radius: 50%;\n",
              "      cursor: pointer;\n",
              "      display: none;\n",
              "      fill: #1967D2;\n",
              "      height: 32px;\n",
              "      padding: 0 0 0 0;\n",
              "      width: 32px;\n",
              "    }\n",
              "\n",
              "    .colab-df-convert:hover {\n",
              "      background-color: #E2EBFA;\n",
              "      box-shadow: 0px 1px 2px rgba(60, 64, 67, 0.3), 0px 1px 3px 1px rgba(60, 64, 67, 0.15);\n",
              "      fill: #174EA6;\n",
              "    }\n",
              "\n",
              "    [theme=dark] .colab-df-convert {\n",
              "      background-color: #3B4455;\n",
              "      fill: #D2E3FC;\n",
              "    }\n",
              "\n",
              "    [theme=dark] .colab-df-convert:hover {\n",
              "      background-color: #434B5C;\n",
              "      box-shadow: 0px 1px 3px 1px rgba(0, 0, 0, 0.15);\n",
              "      filter: drop-shadow(0px 1px 2px rgba(0, 0, 0, 0.3));\n",
              "      fill: #FFFFFF;\n",
              "    }\n",
              "  </style>\n",
              "\n",
              "      <script>\n",
              "        const buttonEl =\n",
              "          document.querySelector('#df-d55d731e-e71e-4011-b71a-210b3e9deb28 button.colab-df-convert');\n",
              "        buttonEl.style.display =\n",
              "          google.colab.kernel.accessAllowed ? 'block' : 'none';\n",
              "\n",
              "        async function convertToInteractive(key) {\n",
              "          const element = document.querySelector('#df-d55d731e-e71e-4011-b71a-210b3e9deb28');\n",
              "          const dataTable =\n",
              "            await google.colab.kernel.invokeFunction('convertToInteractive',\n",
              "                                                     [key], {});\n",
              "          if (!dataTable) return;\n",
              "\n",
              "          const docLinkHtml = 'Like what you see? Visit the ' +\n",
              "            '<a target=\"_blank\" href=https://colab.research.google.com/notebooks/data_table.ipynb>data table notebook</a>'\n",
              "            + ' to learn more about interactive tables.';\n",
              "          element.innerHTML = '';\n",
              "          dataTable['output_type'] = 'display_data';\n",
              "          await google.colab.output.renderOutput(dataTable, element);\n",
              "          const docLink = document.createElement('div');\n",
              "          docLink.innerHTML = docLinkHtml;\n",
              "          element.appendChild(docLink);\n",
              "        }\n",
              "      </script>\n",
              "    </div>\n",
              "  </div>\n",
              "  "
            ]
          },
          "metadata": {},
          "execution_count": 47
        }
      ]
    },
    {
      "cell_type": "markdown",
      "source": [
        "* Были проведены обучены три бустинга с различными параметрами.\n",
        "* Был проведён подбор гиперпараметров. Использовался random search, а не grid search из-за ограничения работы ноутбука по времени. Можно было бы выбирать лучшие фолды из random search, но тогда не использовались бы специализированные классы(Pool, Dmatrix, Dataset) для разных бустингов. В catboost возможно было воспользоваться \"батарейкой\". Но решил не использовать для единообразия решения.\n",
        "* Модели с лучшими параметрами были обучены на трёх фолдах и были выбраны лучшие фолды от каждой модели. Здесь и реализована работа с внутренними классами для каждого бустинга.\n",
        "* В моделях на основе LightGBM и XGBoost использался самый простой самописный изменяемый шаг обучения. В catboost, насколько я понял, такой возможности не реализовано.\n",
        "* Везде использовались early_stopping и многопоточность.\n",
        "* Использовалась оптимизация по использованию памяти для датасета. Там же категориальные признаки были переведены в тип category. Это использовалось для моделей на основе XGboost. Catboost работает с категориальными признаками напрямую поэтому туда можно было подавать только список признаков. Для LightGBM использовался encoding категориальных признаков.\n",
        "* Итоговое предсказание - усреднение трёх лучших моделей.\n",
        "* В принципе, все модели показали достаточно близкие результаты. По моим измерениям медленнее всего отрабатывали модели на основе catboost. Быстрее всего отрабатывали модели на основе LightGBM. Ноутбук готовился в colab, поэтому время выполнения ячеек может отличаться от pdf."
      ],
      "metadata": {
        "id": "LIIAo26dlZ6J"
      }
    }
  ]
}