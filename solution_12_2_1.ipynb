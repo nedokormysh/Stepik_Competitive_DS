{
  "cells": [
    {
      "cell_type": "markdown",
      "metadata": {
        "id": "view-in-github",
        "colab_type": "text"
      },
      "source": [
        "<a href=\"https://colab.research.google.com/github/nedokormysh/Stepik_Competitive_DS/blob/week_6/solution_12_2_1.ipynb\" target=\"_parent\"><img src=\"https://colab.research.google.com/assets/colab-badge.svg\" alt=\"Open In Colab\"/></a>"
      ]
    },
    {
      "cell_type": "markdown",
      "source": [
        "# Условие"
      ],
      "metadata": {
        "id": "9MtZzUECZicX"
      }
    },
    {
      "cell_type": "markdown",
      "source": [
        "**Задача: Обучи модели для блендинга и стекинга, выбери лучшие**\n",
        "\n",
        "Датасеты: quickstart_train.csv и quickstart_test.csv.\n",
        "\n",
        "Регрессионный таргет: столбец target_reg , метрика RMSE.\n",
        "\n",
        "Для блендинга и стекинга выбрать 3 модели:\n",
        "\n",
        "* Любые 2 бустинга на ваш выбор.\n",
        "* Любую другую модель (не бустинг).\n",
        "\n",
        "Для стекинга в качестве метамодели желательно взять простой алгоритм (регрессию, KNN и т. п.).\n",
        "\n",
        "Далее реализуем блендинг и стекинг и делаем финальное предсказание:\n",
        "\n",
        "* можно выбрать предсказание от блендинга;\n",
        "* можно от стекинга;\n",
        "* можно ансамбль блендинга и стекинга;\n",
        "* можно блендинг блендинга и стекинга с весами 🙈.\n",
        "\n",
        "**Дополнительные условия:**\n",
        "\n",
        "Особенно ничем вас не ограничиваем, можно пользоваться всем арсеналом: подбирать гиперпараметры в Optuna, генерить\\отбирать признаки и т. п. Но желательно сосредоточиться на освоении блендинга со стекингом и подбором моделей для них.\n",
        "Сохраняем в submission.csv только колонки car_id и target_reg.\n",
        "В конце добавляем выводы о проделанных экспериментах, что зашло\\не зашло.\n",
        "Желательно, чтобы на выполнение всего ноутбука уходило не более 30 мин.\n",
        "\n",
        "**Критерии оценки (максимум 10 баллов за задание):**\n",
        "\n",
        "*Оформление (3 балла)*\n",
        "\n",
        "прослеживается логика в последовательности решения задачи; в неочевидных местах добавлены поясняющие комментарии и маркдаун ячейки; ноутбук не перегружен лишней информацией, огромными простынями аутпутов ячеек (настраиваем verbose, скрываем служебную информацию после установки библиотек);\n",
        "хороший codestyle: код соответствует PEP 8 и DRY, названия переменных и функций понятны либо соответствуют общепринятым нормам (train, test, model, pd, xgb и т. п.);\n",
        "в конце присутствуют выводы о проделанных экспериментах.\n",
        "\n",
        "*Решение задачи и выполнение доп. условий (3 балла)*\n",
        "\n",
        "ноутбук выполняется до конца без ошибок (присутствуют все аутпуты в пдф);\n",
        "реализованы блендинг со стекингом и выполнены доп. условия;\n",
        "проведена работа над воспроизводимостью (зафиксированы все random seeds).\n",
        "\n",
        "*Использование возможностей фреймворка (2 балла)*\n",
        "\n",
        "корректная подготовка данных для использования в ансамбле;\n",
        "используется early_stopping, многопоточность (n_threads) и пр.;\n",
        "правильная подготовка категориальных признаков для каждой модели;\n",
        "корректное использование пайплайнов и функций sklearn или другой библиотеки.\n",
        "\n",
        "*Дополнительные баллы (макс. 2 балла)*\n",
        "\n",
        "* 1 балл, если проводился подбор гиперпараметров;\n",
        "* 1 балл, если использованы минимум 2 вида графики, и на основе их сделаны какие-либо выводы (не просто график ради красивой картинки, а с пользой для дела);\n",
        "* 1 балл, если для ансамблей использовались библиотеки, не затронутые или кратко упомянутые в уроках (pystacknet и пр.);\n",
        "* 1 балл, если использовались ансамблевые методы, не затронутые в уроках (стекинг с фичами, стекинг с весами и пр.)."
      ],
      "metadata": {
        "id": "rOQs4UzEZltt"
      }
    },
    {
      "cell_type": "code",
      "execution_count": null,
      "metadata": {
        "id": "5dIF98Se4p9T"
      },
      "outputs": [],
      "source": [
        "!pip install catboost -q\n",
        "!pip install pytorch-tabnet -q\n",
        "!pip install optuna -q\n",
        "!pip install gerrychain -q\n",
        "# !pip install lightgbm -q\n",
        "# !pip install xgboost -q"
      ]
    },
    {
      "cell_type": "markdown",
      "source": [
        "# Загрузка библиотек"
      ],
      "metadata": {
        "id": "6ZinwEJNmtjh"
      }
    },
    {
      "cell_type": "code",
      "execution_count": null,
      "metadata": {
        "id": "IgQDTCw84tI6"
      },
      "outputs": [],
      "source": [
        "from typing import Any\n",
        "import re\n",
        "\n",
        "from gerrychain.random import random\n",
        "\n",
        "import pandas as pd\n",
        "import numpy as np\n",
        "import seaborn as sns\n",
        "import time\n",
        "\n",
        "import optuna\n",
        "from optuna.integration import CatBoostPruningCallback, LightGBMPruningCallback, XGBoostPruningCallback\n",
        "from optuna.integration.pytorch_lightning import PyTorchLightningPruningCallback\n",
        "optuna.logging.set_verbosity(optuna.logging.WARNING)\n",
        "\n",
        "from sklearn.model_selection import GridSearchCV, RandomizedSearchCV\n",
        "from sklearn.metrics import mean_squared_error\n",
        "import matplotlib.pyplot as plt\n",
        "from catboost import CatBoostClassifier, CatBoostRegressor, Pool\n",
        "import lightgbm as lgb\n",
        "from lightgbm import LGBMRegressor, early_stopping, Dataset\n",
        "import xgboost as xgb\n",
        "from xgboost import XGBRegressor\n",
        "from sklearn.neighbors import KNeighborsRegressor\n",
        "from sklearn.dummy import DummyRegressor\n",
        "from sklearn.linear_model import ElasticNet\n",
        "from pytorch_tabnet.tab_model import TabNetRegressor\n",
        "from sklearn.ensemble import RandomForestRegressor, GradientBoostingRegressor\n",
        "from sklearn.ensemble import ExtraTreesRegressor, StackingRegressor\n",
        "from sklearn.gaussian_process import GaussianProcessRegressor\n",
        "from sklearn.neural_network import MLPRegressor\n",
        "from sklearn.svm import NuSVR\n",
        "\n",
        "from sklearn.model_selection import KFold, StratifiedKFold\n",
        "from sklearn.model_selection import train_test_split\n",
        "from sklearn.pipeline import Pipeline\n",
        "from sklearn.compose import TransformedTargetRegressor\n",
        "from sklearn.pipeline import make_pipeline\n",
        "\n",
        "from sklearn.preprocessing import OneHotEncoder, MinMaxScaler, StandardScaler, LabelEncoder\n",
        "from sklearn.compose import ColumnTransformer\n",
        "from sklearn.base import BaseEstimator, TransformerMixin\n",
        "from sklearn.impute import SimpleImputer\n",
        "\n",
        "from torch.utils.data import Dataset, DataLoader\n",
        "import torch\n",
        "from torch import nn\n",
        "import copy\n",
        "\n",
        "import pickle\n",
        "import warnings\n",
        "warnings.simplefilter('ignore')"
      ]
    },
    {
      "cell_type": "code",
      "source": [
        "# фиксируем random state согласно инструкции для optuna\n",
        "!export PYTHONHASHSEED=0\n",
        "random.seed(7575)"
      ],
      "metadata": {
        "id": "2gu8oh9NsVEu"
      },
      "execution_count": null,
      "outputs": []
    },
    {
      "cell_type": "markdown",
      "metadata": {
        "id": "zgO2qpPZ43g5"
      },
      "source": [
        "# Загрузка данных"
      ]
    },
    {
      "cell_type": "code",
      "source": [
        "start = time.time()"
      ],
      "metadata": {
        "id": "tyTTl1okbO4x"
      },
      "execution_count": null,
      "outputs": []
    },
    {
      "cell_type": "code",
      "execution_count": null,
      "metadata": {
        "id": "EhZIFbTt46Ji"
      },
      "outputs": [],
      "source": [
        "PATH_TRAIN = 'https://raw.githubusercontent.com/a-milenkin/Competitive_Data_Science/main/data/quickstart_train.csv'\n",
        "PATH_TEST = 'https://raw.githubusercontent.com/a-milenkin/Competitive_Data_Science/main/data/quickstart_test.csv'"
      ]
    },
    {
      "cell_type": "markdown",
      "metadata": {
        "id": "roP1HSwI4_yK"
      },
      "source": [
        "## Оптимизируем объём памяти."
      ]
    },
    {
      "cell_type": "code",
      "execution_count": null,
      "metadata": {
        "id": "hBUtQ5w149jK"
      },
      "outputs": [],
      "source": [
        "def reduce_mem_usage(df: pd.DataFrame) -> pd.DataFrame:\n",
        "    \"\"\" iterate through all the columns of a dataframe and modify the data type\n",
        "        to reduce memory usage.\n",
        "    \"\"\"\n",
        "    start_mem = df.memory_usage().sum() / 1024**2\n",
        "    print('Memory usage of dataframe is {:.2f} MB'.format(start_mem))\n",
        "\n",
        "    for col in df.columns:\n",
        "        col_type = df[col].dtype\n",
        "\n",
        "        if col_type != object:\n",
        "            c_min = df[col].min()\n",
        "            c_max = df[col].max()\n",
        "            if str(col_type)[:3] == 'int':\n",
        "                if c_min > np.iinfo(np.int8).min and c_max < np.iinfo(np.int8).max:\n",
        "                    df[col] = df[col].astype(np.int8)\n",
        "                elif c_min > np.iinfo(np.int16).min and c_max < np.iinfo(np.int16).max:\n",
        "                    df[col] = df[col].astype(np.int16)\n",
        "                elif c_min > np.iinfo(np.int32).min and c_max < np.iinfo(np.int32).max:\n",
        "                    df[col] = df[col].astype(np.int32)\n",
        "                elif c_min > np.iinfo(np.int64).min and c_max < np.iinfo(np.int64).max:\n",
        "                    df[col] = df[col].astype(np.int64)\n",
        "            else:\n",
        "                if c_min > np.finfo(np.float16).min and c_max < np.finfo(np.float16).max:\n",
        "                    df[col] = df[col].astype(np.float16)\n",
        "                elif c_min > np.finfo(np.float32).min and c_max < np.finfo(np.float32).max:\n",
        "                    df[col] = df[col].astype(np.float32)\n",
        "                else:\n",
        "                    df[col] = df[col].astype(np.float64)\n",
        "        else:\n",
        "            df[col] = df[col].astype('category')\n",
        "\n",
        "    end_mem = df.memory_usage().sum() / 1024**2\n",
        "    print('Memory usage after optimization is: {:.2f} MB'.format(end_mem))\n",
        "    print('Decreased by {:.1f}%'.format(100 * (start_mem - end_mem) / start_mem))\n",
        "\n",
        "    return df\n",
        "\n",
        "def import_data(file: str)-> pd.DataFrame:\n",
        "    \"\"\"create a dataframe and optimize its memory usage\"\"\"\n",
        "    df = pd.read_csv(file, parse_dates=True, keep_date_col=True)\n",
        "    df = reduce_mem_usage(df)\n",
        "    return df"
      ]
    },
    {
      "cell_type": "code",
      "execution_count": null,
      "metadata": {
        "colab": {
          "base_uri": "https://localhost:8080/"
        },
        "id": "O7qc383Aa5aA",
        "outputId": "c257cc50-7a09-4288-aae4-bae17bebdeb4"
      },
      "outputs": [
        {
          "output_type": "stream",
          "name": "stdout",
          "text": [
            "train\n",
            "Memory usage of dataframe is 0.30 MB\n",
            "Memory usage after optimization is: 0.16 MB\n",
            "Decreased by 47.7%\n",
            "--------------------------------------------------------------------------------\n",
            "test\n",
            "Memory usage of dataframe is 0.23 MB\n",
            "Memory usage after optimization is: 0.14 MB\n",
            "Decreased by 40.9%\n"
          ]
        }
      ],
      "source": [
        "print('train')\n",
        "train = import_data(PATH_TRAIN)\n",
        "\n",
        "print('-' * 80)\n",
        "print('test')\n",
        "test = import_data(PATH_TEST)"
      ]
    },
    {
      "cell_type": "markdown",
      "source": [
        "## Подготовка данных"
      ],
      "metadata": {
        "id": "S5fDEeqH1_VE"
      }
    },
    {
      "cell_type": "code",
      "source": [
        "train.hist(figsize=(12,8), layout=(-1,5), bins=20, edgecolor='black')"
      ],
      "metadata": {
        "colab": {
          "base_uri": "https://localhost:8080/",
          "height": 929
        },
        "id": "n5fM3gbK9_yw",
        "outputId": "06ac6c76-f505-41e9-fe71-6a4062ddd82e"
      },
      "execution_count": null,
      "outputs": [
        {
          "output_type": "execute_result",
          "data": {
            "text/plain": [
              "array([[<Axes: title={'center': 'car_rating'}>,\n",
              "        <Axes: title={'center': 'year_to_start'}>,\n",
              "        <Axes: title={'center': 'riders'}>,\n",
              "        <Axes: title={'center': 'year_to_work'}>,\n",
              "        <Axes: title={'center': 'target_reg'}>],\n",
              "       [<Axes: title={'center': 'mean_rating'}>,\n",
              "        <Axes: title={'center': 'distance_sum'}>,\n",
              "        <Axes: title={'center': 'rating_min'}>,\n",
              "        <Axes: title={'center': 'speed_max'}>,\n",
              "        <Axes: title={'center': 'user_ride_quality_median'}>],\n",
              "       [<Axes: title={'center': 'deviation_normal_count'}>,\n",
              "        <Axes: title={'center': 'user_uniq'}>, <Axes: >, <Axes: >,\n",
              "        <Axes: >]], dtype=object)"
            ]
          },
          "metadata": {},
          "execution_count": 82
        },
        {
          "output_type": "display_data",
          "data": {
            "text/plain": [
              "<Figure size 1200x800 with 15 Axes>"
            ],
            "image/png": "[encoded data removed]"
          },
          "metadata": {}
        }
      ]
    },
    {
      "cell_type": "markdown",
      "source": [
        "На гистограммах видно, что признак deviation_normal_count - константный, поэтому не будем его использовать для обучения. Также видно, что числовые признаки придётся стандартизировать для обучения, особенно не бустинговых моделей. Также потребуется стандартизировать и целевую переменную."
      ],
      "metadata": {
        "id": "QpX7OpycFZdF"
      }
    },
    {
      "cell_type": "code",
      "execution_count": null,
      "metadata": {
        "colab": {
          "base_uri": "https://localhost:8080/"
        },
        "id": "HnMVjZ1xa_mZ",
        "outputId": "7f798d17-6d6c-4d63-f4af-4826c88de121"
      },
      "outputs": [
        {
          "output_type": "stream",
          "name": "stdout",
          "text": [
            "\u001b[1mcat_features:\u001b[0m ['model', 'car_type', 'fuel_type'], \u001b[1mamount\u001b[0m = 3\n",
            "\u001b[1mnum_features:\u001b[0m ['car_rating', 'year_to_start', 'riders', 'year_to_work', 'mean_rating', 'distance_sum', 'rating_min', 'speed_max', 'user_ride_quality_median', 'user_uniq'], \u001b[1mamount\u001b[0m = 10\n",
            "\u001b[1mtargets:\u001b[0m ['target_reg'], \u001b[1mamount\u001b[0m = 1\n"
          ]
        }
      ],
      "source": [
        "# инициализируем листы числовых, категориальных, целевых признаков и признаки, которые не потребуются для анализа.\n",
        "cat_features = ['model', 'car_type', 'fuel_type']\n",
        "cat_features_indxs = [0, 1, 2]\n",
        "targets = [#'target_class',\n",
        "           'target_reg']\n",
        "features2drop = ['car_id', 'deviation_normal_count', 'target_class']\n",
        "\n",
        "filtered_features = [i for i in train.columns if (i not in targets and i not in features2drop)]\n",
        "num_features = [i for i in filtered_features if i not in cat_features]\n",
        "\n",
        "print(f'\\033[1mcat_features:\\033[0m {cat_features}, \\033[1mamount\\033[0m = {len(cat_features)}')\n",
        "print(f'\\033[1mnum_features:\\033[0m {num_features}, \\033[1mamount\\033[0m = {len(num_features)}')\n",
        "print(f'\\033[1mtargets:\\033[0m {targets}, \\033[1mamount\\033[0m = {len(targets)}')"
      ]
    },
    {
      "cell_type": "code",
      "execution_count": null,
      "metadata": {
        "id": "lp11F3lPLJQC"
      },
      "outputs": [],
      "source": [
        "# Заменим тип данных object на category в категориальных признаках\n",
        "\n",
        "for col in cat_features:\n",
        "    train[col] = train[col].astype(\"category\")\n",
        "\n",
        "for col in cat_features:\n",
        "    test[col] = test[col].astype(\"category\")"
      ]
    },
    {
      "cell_type": "code",
      "execution_count": null,
      "metadata": {
        "id": "wx6uO8CSdPZY"
      },
      "outputs": [],
      "source": [
        "# инициализируем номер случайного состояния, словарь лучших моделей, словарь для результатов\n",
        "# датасет для формирования результатов\n",
        "R_S = 7575\n",
        "N_EST = 400\n",
        "N_TRIALS = 100\n",
        "sampler = optuna.samplers.TPESampler(seed=R_S)\n",
        "\n",
        "bst_mdls = {}\n",
        "mean_scores = {}\n",
        "\n",
        "df_sub = pd.DataFrame(test['car_id'])"
      ]
    },
    {
      "cell_type": "code",
      "execution_count": null,
      "metadata": {
        "id": "sW9HJi2IdKLV"
      },
      "outputs": [],
      "source": [
        "# получаем разбиение на фичи и целевую переменную\n",
        "X = train[filtered_features].drop(targets, axis=1, errors=\"ignore\")\n",
        "y = train[\"target_reg\"]\n",
        "\n",
        "# разбиение на обучающую и валидационную выборки\n",
        "X_train, X_val, y_train, y_val = train_test_split(X, y, test_size=0.25, random_state=R_S)\n",
        "\n",
        "# подготовка тестовых данных\n",
        "X_sub = test[filtered_features].drop(targets, axis=1, errors=\"ignore\")"
      ]
    },
    {
      "cell_type": "markdown",
      "source": [
        "## Вспомогательные функции и классы"
      ],
      "metadata": {
        "id": "IaUs2P74srLk"
      }
    },
    {
      "cell_type": "markdown",
      "source": [
        "### Класс для нормализации цифровых признаков"
      ],
      "metadata": {
        "id": "tkwxC8p7updP"
      }
    },
    {
      "cell_type": "markdown",
      "source": [
        "Т.к. catboost может работать с категориальными признаками самостоятельно, то будем подавать dataframe в нашу модель. При этом стандартизируем числовые признаки. (пусть для модели catboost, насколько я понимаю, это и не принципиальное действие). Для этого напишем кастомный класс transformer."
      ],
      "metadata": {
        "id": "hxZhPFkn9A03"
      }
    },
    {
      "cell_type": "code",
      "execution_count": null,
      "metadata": {
        "id": "TI0OydN1Paq0"
      },
      "outputs": [],
      "source": [
        "class CustomTransformer(TransformerMixin):\n",
        "    '''\n",
        "    .. notes::\n",
        "    Класс трансформации признаков.\n",
        "    Числовые данные нормализуются или стандартизируются.\n",
        "    Категориальные признаки не изменяются.\n",
        "    После трансформаци возвращается датафрейм.\n",
        "    '''\n",
        "    def __init__(self,\n",
        "                 scaler_type: Any=None,\n",
        "                 cat_feats: list[str]=None,\n",
        "                 with_mean: bool=True,\n",
        "                 with_std: bool=True,\n",
        "                 feature_range: tuple[int, int]=(0, 1)):\n",
        "\n",
        "        self.scaler_type = scaler_type\n",
        "        if scaler_type:\n",
        "            self.scaler = StandardScaler(with_mean=with_mean, with_std=with_std)\n",
        "        else:\n",
        "            self.scaler = MinMaxScaler(feature_range=feature_range)\n",
        "\n",
        "        self.cat_feats = cat_feats\n",
        "\n",
        "        # print('Init done')\n",
        "    def fit(self, X: pd.DataFrame, y: pd.Series=None):\n",
        "        return self\n",
        "\n",
        "    def transform(self, X: pd.DataFrame, y: pd.Series=None) -> pd.DataFrame:\n",
        "        X_ = X.copy()\n",
        "        X_cat = X_[self.cat_feats]\n",
        "        num_feats = [i for i in X_.columns if i not in self.cat_feats]\n",
        "        X_num = X_[num_feats]\n",
        "        X_num = pd.DataFrame(self.scaler.fit_transform(X_num), columns=num_feats)\n",
        "\n",
        "        res = pd.concat([X_cat.reset_index(), X_num], axis=1)\n",
        "        return res.set_index('index')"
      ]
    },
    {
      "cell_type": "markdown",
      "source": [
        "### Функция для шага обучения"
      ],
      "metadata": {
        "id": "Z8bkaOmttngG"
      }
    },
    {
      "cell_type": "markdown",
      "source": [
        "будем использовать scheduler в моделях LGBM и XGB"
      ],
      "metadata": {
        "id": "eOWHxxO8bPQ7"
      }
    },
    {
      "cell_type": "code",
      "execution_count": null,
      "metadata": {
        "id": "3Kb7BjWxuB4j"
      },
      "outputs": [],
      "source": [
        "# функция для шага обучения\n",
        "def lr_gen_simple(init_lr: float=0.1, epoch: int=400) -> list[float]:\n",
        "    '''\n",
        "    :param init_lr: initial number for learning rate\n",
        "    :type init_lr: float, defaults to 0.1\n",
        "    :param epoch: amount of epochs\n",
        "    :type epoch: int, defaults to 400\n",
        "\n",
        "    :rtype: list[float]\n",
        "\n",
        "    .. notes:: Функция для формирования листа со значениями шага обучения\n",
        "    на каждой эпохе.\n",
        "    -----\n",
        "    Параметры:\n",
        "    init_lr - инициализирующий шаг обучения\n",
        "    epoch - количество эпох\n",
        "\n",
        "    '''\n",
        "    decay = init_lr / epoch\n",
        "    lr_list = [init_lr/(1 + decay * i) for i in range(1, epoch + 1)]\n",
        "\n",
        "    return lr_list"
      ]
    },
    {
      "cell_type": "markdown",
      "source": [
        "### Класс для применения моделей."
      ],
      "metadata": {
        "id": "BJZxRysRkFfh"
      }
    },
    {
      "cell_type": "markdown",
      "source": [
        "Соберём класс, в котором будут лежать 2 функции: preparing_features и fit.\n",
        "\n",
        "preparing_features будет готовить пайплайн для обработки признаков и применения модели. (часть для обработки признаков будет возвраться отдельно). Для catboost и tabnet будем использовать кастомные классы обработки признаков, которые ввели выше. Для остальных моделей: числовые признаки - стандартизируем, категориальные преобразуем при помощи one hot encoding.\n",
        "\n",
        "fit собственно будет применять нашу модель. Возвращать обученную модель и предсказания."
      ],
      "metadata": {
        "id": "s6RctgbbAcEd"
      }
    },
    {
      "cell_type": "code",
      "source": [
        "class FitClass():\n",
        "    '''\n",
        "    Класс для применения моделей.\n",
        "    preparing_features - фунция для создания пайплайнов обработки\n",
        "    fit - примененение модели\n",
        "    '''\n",
        "    @staticmethod\n",
        "    def preparing_features(name: str, algorithm: Any) -> tuple[Any, Any]:\n",
        "        '''\n",
        "        :param name: name of regressor algorithm\n",
        "        :type name: str\n",
        "        :param algorithm: class of regressor algorithm\n",
        "        :type algorithm: Any\n",
        "\n",
        "        :rtype: tuple[Any, Any]\n",
        "        :returns: preprocessor pipe for columns and pipe model\n",
        "\n",
        "        .. notes::\n",
        "        -----\n",
        "        Принимает на вход название алгоритма и алгоритм.\n",
        "        Возвращает цепочку для преобразования фичей,\n",
        "        цепочку для преобразования фичей и применения модели.\n",
        "        '''\n",
        "\n",
        "        if name == 'CatBoostRegressor':\n",
        "              preprocessor = CustomTransformer(True, cat_feats=cat_features)\n",
        "\n",
        "              pipe = Pipeline([('feature_preprocessor', preprocessor),\n",
        "                              ('model', algorithm)])\n",
        "        # elif name == 'TabNetRegressor':\n",
        "        #     preprocessor = CustomTransformerNN(True, cat_feats=cat_features)\n",
        "\n",
        "        #     pipe = Pipeline([('feature_preprocessor', preprocessor),\n",
        "        #                       ('model', algorithm)])\n",
        "        else:\n",
        "            numeric_transformer = Pipeline(\n",
        "                steps=[(\"imputer\", SimpleImputer(strategy=\"median\")),\n",
        "                      (\"scaler\", StandardScaler())])\n",
        "            categorical_transformer = Pipeline(\n",
        "                steps=[(\"encoder\", OneHotEncoder(handle_unknown=\"ignore\")),\n",
        "                      #  (\"selector\", SelectPercentile(chi2, percentile=50)),\n",
        "                      ])\n",
        "            preprocessor = ColumnTransformer(\n",
        "                transformers=[(\"num\", numeric_transformer, num_features),\n",
        "                              (\"cat\", categorical_transformer, cat_features)])\n",
        "\n",
        "            pipe = Pipeline([('feature_preprocessor', preprocessor),\n",
        "                            ('model', algorithm)])\n",
        "\n",
        "        return preprocessor, pipe\n",
        "\n",
        "    @staticmethod\n",
        "    def fit(name: str,\n",
        "            pipe: Any,\n",
        "            preprocessor: Any,\n",
        "            X_train: pd.DataFrame,\n",
        "            X_val: pd.DataFrame,\n",
        "            y_train: pd.Series,\n",
        "            y_val: pd.Series,\n",
        "            fit_params: dict,\n",
        "            callbacks=[]):\n",
        "        '''\n",
        "        :param name: name of regressor algorithm\n",
        "        :type name: str\n",
        "        :param pipe: pipe of preprocessor for features and model\n",
        "        :type pipe: Any\n",
        "        :param preprocessor: pipe of preprocessor for features\n",
        "        :type preprocessor: Any\n",
        "        :param X_train: train features\n",
        "        :type X_train: pandas.DataFrame\n",
        "        :param X_val: validation features\n",
        "        :type X_val: pandas.DataFrame\n",
        "        :param y_train: train targer\n",
        "        :type y_train: pandas.Series\n",
        "        :param y_val: validation target\n",
        "        :type y_val: pandas.Series\n",
        "\n",
        "        :rtype: tuple[np.array, Any]\n",
        "        :returns: array of predictions, model\n",
        "        .. notes::\n",
        "        -----\n",
        "        Принимает название алгоритма. Применяет алгоритм с заданными параметрами\n",
        "        к данным.\n",
        "        Возвращает предсказание. И обученную модель.\n",
        "        '''\n",
        "        if name == 'TabNetRegressor':\n",
        "            target_sc = StandardScaler()\n",
        "            y_train = target_sc.fit_transform(y_train.values.reshape(-1, 1))\n",
        "            X_val_eval_NN = X_val.copy()\n",
        "            eval_set_pipe = Pipeline(steps = [('feature_preprocessor', preprocessor)])\n",
        "            X_val_eval_NN = eval_set_pipe.fit(X_train).transform(X_val_eval_NN)\n",
        "            y_val_eval_NN = target_sc.transform(y_val.values.reshape(-1, 1))\n",
        "        else:\n",
        "            X_val_eval = X_val.copy()\n",
        "            eval_set_pipe = Pipeline(steps = [('feature_preprocessor', preprocessor)])\n",
        "            X_val_eval = eval_set_pipe.fit(X_train).transform(X_val_eval)\n",
        "\n",
        "        wrapped_model = TransformedTargetRegressor(regressor=pipe, transformer=StandardScaler())\n",
        "\n",
        "        if name in ['KNeighborsRegressor', 'ElasticNet', 'RandomForestRegressor', 'GaussianProcessRegressor', 'NuSVR', 'MLPRegressor', 'GradientBoostingRegressor']:\n",
        "            wrapped_model.fit(X_train,\n",
        "                              y_train,\n",
        "                              **fit_params)\n",
        "            y_pred = wrapped_model.predict(X_val)\n",
        "        elif name == 'TabNetRegressor':\n",
        "            pipe.fit(X_train, y_train,\n",
        "                    model__eval_set=[(X_val_eval_NN, y_val_eval_NN)],\n",
        "                    **fit_params)\n",
        "            y_pred = pipe.predict(X_val)\n",
        "            y_pred = target_sc.inverse_transform(np.array(y_pred).reshape(-1, 1))\n",
        "            wrapped_model = pipe\n",
        "\n",
        "        else:\n",
        "            if callbacks:\n",
        "                wrapped_model.fit(X_train,\n",
        "                                  y_train,\n",
        "                                  **fit_params,\n",
        "                                  model__callbacks=callbacks,\n",
        "                                  model__eval_set=[(X_val_eval, y_val)])\n",
        "                # запускаем процесс прунинга для catboost\n",
        "                if name == 'CatBoostRegressor':\n",
        "                    callbacks[-1].check_pruned()\n",
        "            else:\n",
        "                wrapped_model.fit(X_train,\n",
        "                                  y_train,\n",
        "                                  model__eval_set=[(X_val_eval, y_val)],\n",
        "                                  **fit_params)\n",
        "\n",
        "            y_pred = wrapped_model.predict(X_val)\n",
        "\n",
        "        if name == 'TabNetRegressor':\n",
        "            return y_pred, wrapped_model, target_sc\n",
        "\n",
        "        return y_pred, wrapped_model"
      ],
      "metadata": {
        "id": "ft1HdKfcGHP4"
      },
      "execution_count": null,
      "outputs": []
    },
    {
      "cell_type": "markdown",
      "source": [
        "### Fit algorithm optuna"
      ],
      "metadata": {
        "id": "jEkMjim6W-4u"
      }
    },
    {
      "cell_type": "markdown",
      "source": [
        "Объявим функцию обучения для всех моделей. Будем использовать механизм подбора гиперпараметров optuna."
      ],
      "metadata": {
        "id": "P19BaFAhJKfA"
      }
    },
    {
      "cell_type": "code",
      "source": [
        "# функция применения алгоритма, когда применяем optuna\n",
        "def fit_algorithm_optuna(trial: optuna.trial,\n",
        "                         train: pd.DataFrame,\n",
        "                         val: pd.DataFrame,\n",
        "                         algorithm: Any,\n",
        "                         init_params: dict,\n",
        "                         grid: dict,\n",
        "                         fit_params: dict,\n",
        "                         r_s=R_S,\n",
        "                         callbacks = []):\n",
        "    '''\n",
        "    :param trial: standart optuna parameter\n",
        "    :type trial: optuna.trial\n",
        "    :param train: train dataframe\n",
        "    :type train: pandas.DataFrame\n",
        "    :param val: validation dataframe\n",
        "    :type val: pd.DataFrame\n",
        "    :param algorithm: class of regressor algorithm\n",
        "    :type algorithm: Any\n",
        "    :param init_params: initial parameters\n",
        "    :type init_params: dict\n",
        "    :param grid: grid of parameters\n",
        "    :type grid: dict\n",
        "    :param fit_params: parameters to fit\n",
        "    :type fit_params: dict\n",
        "    :param r_s: random state\n",
        "    :type r_s: int, defaults to 7575\n",
        "    :param callbacks: callbacks\n",
        "    :type callbacks: list, defaults to []\n",
        "\n",
        "    :rtype: tuple[Any, np.array]\n",
        "    :returns: model, array of predictions\n",
        "    .. notes::\n",
        "    -----\n",
        "    Принимает объект trial из optuna, данные для обучения и валидации, алгоритм, параметры.\n",
        "    Алгоритм обучается и применяется.\n",
        "    Возвращает обученную модель и предсказанное значение для валидационной выборки.\n",
        "    '''\n",
        "\n",
        "    X_train, y_train = train\n",
        "    X_val, y_val = val\n",
        "\n",
        "    # получаем на вход сетку с параметрами для перебора. для пары алгоритмов будем\n",
        "    # добавлять параметры в сетку, в зависимости от некоторых условий.\n",
        "    if algorithm.__name__ == 'CatBoostRegressor':\n",
        "        if grid[\"bootstrap_type\"] == \"Bayesian\":\n",
        "            grid[\"bagging_temperature\"] = trial.suggest_float(\"bagging_temperature\", 0, 20)\n",
        "        elif grid[\"bootstrap_type\"] == \"Bernoulli\":\n",
        "            grid[\"subsample\"] = trial.suggest_float(\"subsample\", 0.1, 1, step=0.01)\n",
        "    elif algorithm.__name__ == 'XGBRegressor':\n",
        "        if grid[\"booster\"] == \"gbtree\" or grid[\"booster\"] == \"dart\":\n",
        "            grid[\"max_depth\"] = trial.suggest_int(\"max_depth\", 1, 9)\n",
        "            grid[\"eta\"] = trial.suggest_float(\"eta\", 1e-8, 1.0, log=True)\n",
        "            grid[\"gamma\"] = trial.suggest_float(\"gamma\", 1e-8, 1.0, log=True)\n",
        "            grid[\"grow_policy\"] = trial.suggest_categorical(\"grow_policy\", [\"depthwise\", \"lossguide\"])\n",
        "            grid[\"tree_method\"]: trial.suggest_categorical(\"tree_method\", ['hist', 'approx'],)\n",
        "        if grid[\"booster\"] == \"dart\":\n",
        "            grid[\"sample_type\"] = trial.suggest_categorical(\"sample_type\", [\"uniform\", \"weighted\"])\n",
        "            grid[\"normalize_type\"] = trial.suggest_categorical(\"normalize_type\", [\"tree\", \"forest\"])\n",
        "            grid[\"rate_drop\"] = trial.suggest_float(\"rate_drop\", 1e-8, 1.0, log=True)\n",
        "            grid[\"skip_drop\"] = trial.suggest_float(\"skip_drop\", 1e-8, 1.0, log=True)\n",
        "    elif algorithm.__name__ == 'LGBMRegressor':\n",
        "        if init_params['boosting_type'] != 'goss':\n",
        "            grid['bagging_fraction'] = trial.suggest_float('bagging_fraction', 0.5, 1.0, step=0.01)\n",
        "            grid['bagging_freq'] = trial.suggest_int('bagging_freq', 1, 10)\n",
        "        if init_params['boosting_type'] == 'dart':\n",
        "            grid['drop_rate'] = trial.suggest_float('drop_rate', 0.1, 0.5, step=0.01)\n",
        "\n",
        "    rgr = algorithm(**init_params, **grid)\n",
        "\n",
        "    # применяем метод preparing_features - он на вернёт способ обработки данных и общий пайплайн модели\n",
        "    preprocessor, pipe = FitClass.preparing_features(algorithm.__name__, rgr)\n",
        "    # для алгоритма TabNet будем возвращать ещё и обученный объект scaler для целевой переменной\n",
        "    if algorithm.__name__ == 'TabNetRegressor':\n",
        "        y_pred, wrapped_model, target_sc = FitClass.fit(algorithm.__name__, pipe, preprocessor, X_train, X_val, y_train, y_val, fit_params, callbacks)\n",
        "        return wrapped_model, y_pred, target_sc\n",
        "\n",
        "    y_pred, wrapped_model = FitClass.fit(algorithm.__name__, pipe, preprocessor, X_train, X_val, y_train, y_val, fit_params, callbacks)\n",
        "    # возвращаем модель и прогноз\n",
        "    return wrapped_model, y_pred"
      ],
      "metadata": {
        "id": "3sAVmMm2Wwe6"
      },
      "execution_count": null,
      "outputs": []
    },
    {
      "cell_type": "markdown",
      "metadata": {
        "id": "sNbFbo_odn8p"
      },
      "source": [
        "# Модели"
      ]
    },
    {
      "cell_type": "markdown",
      "metadata": {
        "id": "GBJ11dA8eLjP"
      },
      "source": [
        "## Catboost"
      ]
    },
    {
      "cell_type": "code",
      "source": [
        "# функция для рассчёта метрики в механизме перебора optuna\n",
        "def objective_catboost(trial: optuna.trial, return_models:bool=False):\n",
        "\n",
        "    '''\n",
        "    :param trial: standart optuna parameter\n",
        "    :type trial: optuna.trial\n",
        "    :param return_models: parameter to return fitted model or not\n",
        "    :type return_models: bool, defaults to False\n",
        "\n",
        "    :rtype: float | tuple[float, Any]\n",
        "    :returns: mean value of RMSE on folds, model\n",
        "    .. notes::\n",
        "    -----\n",
        "    Принимает объект trial из optuna и булево значение для возможности возврата модели.\n",
        "\n",
        "    Разбиваем данные на фолды, и подаём в функцию fit algorithm_optuna на каждом разбиении.\n",
        "\n",
        "    '''\n",
        "    # будем использовать pruning\n",
        "    pruning_callback = CatBoostPruningCallback(trial, \"RMSE\")\n",
        "    callbacks = [pruning_callback]\n",
        "\n",
        "    # параметры, которые не будем перебирать\n",
        "    init_params = {'loss_function': 'RMSE',\n",
        "                   'random_seed': R_S,\n",
        "                   'thread_count': -1,\n",
        "                   'verbose': 0,\n",
        "                   'task_type': \"CPU\",\n",
        "                   'iterations' : N_EST, # Можно не перебирать, есть Early-Stopping,\n",
        "                   'cat_features': cat_features}\n",
        "    # сетка с параметрами для перебора\n",
        "    grid = {'learning_rate': trial.suggest_float(\"learning_rate\", 0.019, 0.026 , step=0.001),\n",
        "            'min_data_in_leaf': trial.suggest_int('min_data_in_leaf', 300, 400),\n",
        "            'l2_leaf_reg': trial.suggest_int(\"l2_leaf_reg\", 2, 10),\n",
        "            'max_bin': trial.suggest_int('max_bin', 200, 300),\n",
        "            'boosting_type': trial.suggest_categorical(\"boosting_type\", [\"Ordered\",\n",
        "                                                                        #  \"Plain\"\n",
        "                                                                         ]),\n",
        "            'bootstrap_type': trial.suggest_categorical(\"bootstrap_type\", [#\"Bayesian\",\n",
        "                                                                           #\"Bernoulli\",\n",
        "                                                                           \"MVS\"]),\n",
        "            'depth': trial.suggest_int(\"depth\", 8, 11),\n",
        "            'colsample_bylevel': trial.suggest_float(\"colsample_bylevel\", 0.61, 0.64, step=0.01),\n",
        "            # 'subsample': trial.suggest_float(\"colsample_bylevel\", 0.01, 0.95),\n",
        "            'used_ram_limit': \"14gb\"}\n",
        "\n",
        "    # параметры для применения модели. используем early stopping\n",
        "    fit_params = {'model__cat_features': cat_features,\n",
        "                  'model__verbose': 0,\n",
        "                  'model__early_stopping_rounds': 200,\n",
        "                  'model__plot': False}\n",
        "\n",
        "    n_splits = 3\n",
        "    kf = KFold(n_splits=n_splits, shuffle=True, random_state=R_S)\n",
        "    # разбиваем на фолды\n",
        "    scores, models = [], []\n",
        "\n",
        "    for train_idx, valid_idx in kf.split(X):\n",
        "        train_data = X.iloc[train_idx, :], y.iloc[train_idx]\n",
        "        valid_data = X.iloc[valid_idx, :], y.iloc[valid_idx]\n",
        "\n",
        "        # Разбиваем на обучающую и валидационную выборки. Подаём данные, параметры и тип алгоритма функцию\n",
        "        # fit_algorithm_optuna, которая вернёт нам модель и прогноз для валидационных данных\n",
        "\n",
        "        model, y_pred = fit_algorithm_optuna(trial,\n",
        "                                             train_data,\n",
        "                                             valid_data,\n",
        "                                             CatBoostRegressor,\n",
        "                                             init_params,\n",
        "                                             grid,\n",
        "                                             fit_params,\n",
        "                                             callbacks=callbacks)\n",
        "        y_true = valid_data[1]\n",
        "        scores.append(mean_squared_error(y_true=y_true, y_pred=y_pred, squared=False))\n",
        "        models.append(model)\n",
        "        # break\n",
        "    # записываем лучшие модели и результат по фолдам\n",
        "    bst_mdl = models[np.argmin(scores)]\n",
        "    result = np.mean(scores)\n",
        "\n",
        "    if return_models:\n",
        "        return result, bst_mdl\n",
        "    else:\n",
        "        return result"
      ],
      "metadata": {
        "id": "3pPYN_w7W58h"
      },
      "execution_count": null,
      "outputs": []
    },
    {
      "cell_type": "code",
      "execution_count": null,
      "metadata": {
        "colab": {
          "base_uri": "https://localhost:8080/",
          "height": 84,
          "referenced_widgets": [
            "70572a03132a49cf9bef73091aeb51c2",
            "eb80cfc0226a4327b0e09ccd59b4b159",
            "04d1800179554821b495d8fefb8e3f2c",
            "f541b8ba7f564fa681fca74189282581",
            "296c93c33d18427da0a8023b8cc0d0eb",
            "d6a1222330a349998fed235327b5b4b3",
            "0e87de55c52746a8a11db1c28785453b",
            "30c99876bba04f3c96ae13aea3f6e2fe",
            "e32343df494d4e4a8ba2ec2d19ab892f",
            "ace966ba53524b89b8fc590eae372a6e",
            "40bf1a09b7d74fe5bc5cd144741c9c85"
          ]
        },
        "id": "lzIjs4proCiQ",
        "outputId": "b06f9b63-b2cd-42f0-9c6e-8c4e55d4397c"
      },
      "outputs": [
        {
          "output_type": "display_data",
          "data": {
            "text/plain": [
              "  0%|          | 0/100 [00:00<?, ?it/s]"
            ],
            "application/vnd.jupyter.widget-view+json": {
              "version_major": 2,
              "version_minor": 0,
              "model_id": "70572a03132a49cf9bef73091aeb51c2"
            }
          },
          "metadata": {}
        },
        {
          "output_type": "stream",
          "name": "stdout",
          "text": [
            "CPU times: user 10min 19s, sys: 6.48 s, total: 10min 25s\n",
            "Wall time: 6min 13s\n"
          ]
        }
      ],
      "source": [
        "%%time\n",
        "study = optuna.create_study(pruner=optuna.pruners.MedianPruner(n_warmup_steps=5),\n",
        "                            #  pruner=optuna.pruners.HyperbandPruner(),\n",
        "                            direction=\"minimize\", study_name=\"Catboost_Regressor\", sampler=sampler)\n",
        "study.optimize(objective_catboost,\n",
        "               n_trials=N_TRIALS,\n",
        "               n_jobs=-1,\n",
        "               show_progress_bar=True)"
      ]
    },
    {
      "cell_type": "code",
      "source": [
        "# optuna.visualization.plot_optimization_history(study)"
      ],
      "metadata": {
        "id": "ytvkKyRjUX4_"
      },
      "execution_count": null,
      "outputs": []
    },
    {
      "cell_type": "code",
      "source": [
        "# params = ['learning_rate',\n",
        "#           'min_data_in_leaf',\n",
        "#           'l2_leaf_reg',\n",
        "#           'max_bin',\n",
        "#           'boosting_type',\n",
        "#           'bootstrap_type',\n",
        "#           'depth',\n",
        "#           'colsample_bylevel']\n",
        "\n",
        "# optuna.visualization.plot_slice(study, params=params, target_name='rmse')"
      ],
      "metadata": {
        "id": "UEJ1HFpfHHHY"
      },
      "execution_count": null,
      "outputs": []
    },
    {
      "cell_type": "code",
      "source": [
        "# optuna.visualization.plot_param_importances(study)"
      ],
      "metadata": {
        "id": "bEsbYN7FEmd4"
      },
      "execution_count": null,
      "outputs": []
    },
    {
      "cell_type": "markdown",
      "source": [
        "Для уменьшения времени работы всего ноутбука все параметры были несколько раз подобраны с помощью optuna и ограничены диапазоны параметров."
      ],
      "metadata": {
        "id": "cbU5NY5Zc_MX"
      }
    },
    {
      "cell_type": "code",
      "source": [
        "mean_scores['Catboost_score'], bst_mdls['Catboost_model'] = objective_catboost(optuna.trial.FixedTrial(study.best_params), return_models=True)"
      ],
      "metadata": {
        "id": "7AHRHXhoUyEA"
      },
      "execution_count": null,
      "outputs": []
    },
    {
      "cell_type": "code",
      "source": [
        "# Сделаем прогноз для тестовых данных\n",
        "preds = bst_mdls['Catboost_model'].predict(X_sub)\n",
        "# Добавляем наши предсказания для тестовой выборки в таблицу результатов\n",
        "df_sub['Catboost_target'] = preds\n",
        "df_sub.head()"
      ],
      "metadata": {
        "colab": {
          "base_uri": "https://localhost:8080/",
          "height": 206
        },
        "id": "2jti7ng2inLr",
        "outputId": "0afb9605-a0da-4015-a30c-e39905cca709"
      },
      "execution_count": null,
      "outputs": [
        {
          "output_type": "execute_result",
          "data": {
            "text/plain": [
              "       car_id  Catboost_target\n",
              "0  P17494612l        44.269476\n",
              "1  N-1530212S        32.148753\n",
              "2  B-1154399t        32.534999\n",
              "3  F12725233R        34.120984\n",
              "4  l-1139189J        32.356600"
            ],
            "text/html": [
              "\n",
              "  <div id=\"df-0c7dae06-a4a2-4d6c-97a5-2acfd192ecc8\" class=\"colab-df-container\">\n",
              "    <div>\n",
              "<style scoped>\n",
              "    .dataframe tbody tr th:only-of-type {\n",
              "        vertical-align: middle;\n",
              "    }\n",
              "\n",
              "    .dataframe tbody tr th {\n",
              "        vertical-align: top;\n",
              "    }\n",
              "\n",
              "    .dataframe thead th {\n",
              "        text-align: right;\n",
              "    }\n",
              "</style>\n",
              "<table border=\"1\" class=\"dataframe\">\n",
              "  <thead>\n",
              "    <tr style=\"text-align: right;\">\n",
              "      <th></th>\n",
              "      <th>car_id</th>\n",
              "      <th>Catboost_target</th>\n",
              "    </tr>\n",
              "  </thead>\n",
              "  <tbody>\n",
              "    <tr>\n",
              "      <th>0</th>\n",
              "      <td>P17494612l</td>\n",
              "      <td>44.269476</td>\n",
              "    </tr>\n",
              "    <tr>\n",
              "      <th>1</th>\n",
              "      <td>N-1530212S</td>\n",
              "      <td>32.148753</td>\n",
              "    </tr>\n",
              "    <tr>\n",
              "      <th>2</th>\n",
              "      <td>B-1154399t</td>\n",
              "      <td>32.534999</td>\n",
              "    </tr>\n",
              "    <tr>\n",
              "      <th>3</th>\n",
              "      <td>F12725233R</td>\n",
              "      <td>34.120984</td>\n",
              "    </tr>\n",
              "    <tr>\n",
              "      <th>4</th>\n",
              "      <td>l-1139189J</td>\n",
              "      <td>32.356600</td>\n",
              "    </tr>\n",
              "  </tbody>\n",
              "</table>\n",
              "</div>\n",
              "    <div class=\"colab-df-buttons\">\n",
              "\n",
              "  <div class=\"colab-df-container\">\n",
              "    <button class=\"colab-df-convert\" onclick=\"convertToInteractive('df-0c7dae06-a4a2-4d6c-97a5-2acfd192ecc8')\"\n",
              "            title=\"Convert this dataframe to an interactive table.\"\n",
              "            style=\"display:none;\">\n",
              "\n",
              "  <svg xmlns=\"http://www.w3.org/2000/svg\" height=\"24px\" viewBox=\"0 -960 960 960\">\n",
              "    <path d=\"M120-120v-720h720v720H120Zm60-500h600v-160H180v160Zm220 220h160v-160H400v160Zm0 220h160v-160H400v160ZM180-400h160v-160H180v160Zm440 0h160v-160H620v160ZM180-180h160v-160H180v160Zm440 0h160v-160H620v160Z\"/>\n",
              "  </svg>\n",
              "    </button>\n",
              "\n",
              "  <style>\n",
              "    .colab-df-container {\n",
              "      display:flex;\n",
              "      gap: 12px;\n",
              "    }\n",
              "\n",
              "    .colab-df-convert {\n",
              "      background-color: #E8F0FE;\n",
              "      border: none;\n",
              "      border-radius: 50%;\n",
              "      cursor: pointer;\n",
              "      display: none;\n",
              "      fill: #1967D2;\n",
              "      height: 32px;\n",
              "      padding: 0 0 0 0;\n",
              "      width: 32px;\n",
              "    }\n",
              "\n",
              "    .colab-df-convert:hover {\n",
              "      background-color: #E2EBFA;\n",
              "      box-shadow: 0px 1px 2px rgba(60, 64, 67, 0.3), 0px 1px 3px 1px rgba(60, 64, 67, 0.15);\n",
              "      fill: #174EA6;\n",
              "    }\n",
              "\n",
              "    .colab-df-buttons div {\n",
              "      margin-bottom: 4px;\n",
              "    }\n",
              "\n",
              "    [theme=dark] .colab-df-convert {\n",
              "      background-color: #3B4455;\n",
              "      fill: #D2E3FC;\n",
              "    }\n",
              "\n",
              "    [theme=dark] .colab-df-convert:hover {\n",
              "      background-color: #434B5C;\n",
              "      box-shadow: 0px 1px 3px 1px rgba(0, 0, 0, 0.15);\n",
              "      filter: drop-shadow(0px 1px 2px rgba(0, 0, 0, 0.3));\n",
              "      fill: #FFFFFF;\n",
              "    }\n",
              "  </style>\n",
              "\n",
              "    <script>\n",
              "      const buttonEl =\n",
              "        document.querySelector('#df-0c7dae06-a4a2-4d6c-97a5-2acfd192ecc8 button.colab-df-convert');\n",
              "      buttonEl.style.display =\n",
              "        google.colab.kernel.accessAllowed ? 'block' : 'none';\n",
              "\n",
              "      async function convertToInteractive(key) {\n",
              "        const element = document.querySelector('#df-0c7dae06-a4a2-4d6c-97a5-2acfd192ecc8');\n",
              "        const dataTable =\n",
              "          await google.colab.kernel.invokeFunction('convertToInteractive',\n",
              "                                                    [key], {});\n",
              "        if (!dataTable) return;\n",
              "\n",
              "        const docLinkHtml = 'Like what you see? Visit the ' +\n",
              "          '<a target=\"_blank\" href=https://colab.research.google.com/notebooks/data_table.ipynb>data table notebook</a>'\n",
              "          + ' to learn more about interactive tables.';\n",
              "        element.innerHTML = '';\n",
              "        dataTable['output_type'] = 'display_data';\n",
              "        await google.colab.output.renderOutput(dataTable, element);\n",
              "        const docLink = document.createElement('div');\n",
              "        docLink.innerHTML = docLinkHtml;\n",
              "        element.appendChild(docLink);\n",
              "      }\n",
              "    </script>\n",
              "  </div>\n",
              "\n",
              "\n",
              "<div id=\"df-ac621250-772e-4302-9aa6-d0e91b9ef742\">\n",
              "  <button class=\"colab-df-quickchart\" onclick=\"quickchart('df-ac621250-772e-4302-9aa6-d0e91b9ef742')\"\n",
              "            title=\"Suggest charts.\"\n",
              "            style=\"display:none;\">\n",
              "\n",
              "<svg xmlns=\"http://www.w3.org/2000/svg\" height=\"24px\"viewBox=\"0 0 24 24\"\n",
              "     width=\"24px\">\n",
              "    <g>\n",
              "        <path d=\"M19 3H5c-1.1 0-2 .9-2 2v14c0 1.1.9 2 2 2h14c1.1 0 2-.9 2-2V5c0-1.1-.9-2-2-2zM9 17H7v-7h2v7zm4 0h-2V7h2v10zm4 0h-2v-4h2v4z\"/>\n",
              "    </g>\n",
              "</svg>\n",
              "  </button>\n",
              "\n",
              "<style>\n",
              "  .colab-df-quickchart {\n",
              "    background-color: #E8F0FE;\n",
              "    border: none;\n",
              "    border-radius: 50%;\n",
              "    cursor: pointer;\n",
              "    display: none;\n",
              "    fill: #1967D2;\n",
              "    height: 32px;\n",
              "    padding: 0 0 0 0;\n",
              "    width: 32px;\n",
              "  }\n",
              "\n",
              "  .colab-df-quickchart:hover {\n",
              "    background-color: #E2EBFA;\n",
              "    box-shadow: 0px 1px 2px rgba(60, 64, 67, 0.3), 0px 1px 3px 1px rgba(60, 64, 67, 0.15);\n",
              "    fill: #174EA6;\n",
              "  }\n",
              "\n",
              "  [theme=dark] .colab-df-quickchart {\n",
              "    background-color: #3B4455;\n",
              "    fill: #D2E3FC;\n",
              "  }\n",
              "\n",
              "  [theme=dark] .colab-df-quickchart:hover {\n",
              "    background-color: #434B5C;\n",
              "    box-shadow: 0px 1px 3px 1px rgba(0, 0, 0, 0.15);\n",
              "    filter: drop-shadow(0px 1px 2px rgba(0, 0, 0, 0.3));\n",
              "    fill: #FFFFFF;\n",
              "  }\n",
              "</style>\n",
              "\n",
              "  <script>\n",
              "    async function quickchart(key) {\n",
              "      const charts = await google.colab.kernel.invokeFunction(\n",
              "          'suggestCharts', [key], {});\n",
              "    }\n",
              "    (() => {\n",
              "      let quickchartButtonEl =\n",
              "        document.querySelector('#df-ac621250-772e-4302-9aa6-d0e91b9ef742 button');\n",
              "      quickchartButtonEl.style.display =\n",
              "        google.colab.kernel.accessAllowed ? 'block' : 'none';\n",
              "    })();\n",
              "  </script>\n",
              "</div>\n",
              "    </div>\n",
              "  </div>\n"
            ]
          },
          "metadata": {},
          "execution_count": 97
        }
      ]
    },
    {
      "cell_type": "markdown",
      "metadata": {
        "id": "b64s4rUJsWB-"
      },
      "source": [
        "## LGBM"
      ]
    },
    {
      "cell_type": "code",
      "execution_count": null,
      "metadata": {
        "id": "VLhF_Th5R6nL"
      },
      "outputs": [],
      "source": [
        "def objective_lgbm(trial, return_models=False):\n",
        "\n",
        "    pruning_callback = LightGBMPruningCallback(trial, \"rmse\")\n",
        "\n",
        "    callbacks = [\n",
        "                 lgb.early_stopping(stopping_rounds=50, verbose=0),\n",
        "                 lgb.reset_parameter(learning_rate=lr_gen_simple(trial.suggest_float(\"lr_init\", 0.0001, 0.5, step=0.001), N_EST)),\n",
        "                #  pruning_callback\n",
        "                ]\n",
        "\n",
        "    init_params = {'metric': \"RMSE\",\n",
        "                   'objective': 'regression',\n",
        "                   'boosting_type': trial.suggest_categorical(\"boosting_type\",\n",
        "                                                              [ \"gbdt\",\n",
        "                                                                \"dart\"]),\n",
        "                   'random_seed': R_S,\n",
        "                   'n_jobs': -1,\n",
        "                   'verbose': -1,\n",
        "                   'force_row_wise': True,\n",
        "                   'num_iterations' : N_EST, # Можно не перебирать, есть Early-Stopping\n",
        "                  #  'cat_features': cat_features\n",
        "                   }\n",
        "\n",
        "    grid = {'min_child_samples': trial.suggest_int('min_child_samples', 10, 50),\n",
        "            'reg_alpha': trial.suggest_int(\"reg_alpha\", 1e-3, 1),\n",
        "            'reg_lambda': trial.suggest_int(\"reg_lambda\", 1e-3, 1),\n",
        "            # 'max_bin': trial.suggest_int('max_bin', 100, 300),\n",
        "            'num_leaves': trial.suggest_int('num_leaves', 4, 7),\n",
        "            'colsample_bytree': trial.suggest_float(\"colsample_bytree\", 0.5, 0.95, step=0.01),\n",
        "            'subsample': trial.suggest_float(\"subsample\", 0.5, 1, step=0.01)}\n",
        "\n",
        "    fit_params = { }\n",
        "\n",
        "    n_splits = 3\n",
        "    kf = KFold(n_splits=n_splits, shuffle=True, random_state=R_S)\n",
        "\n",
        "    scores, models = [], []\n",
        "\n",
        "    for train_idx, valid_idx in kf.split(X):\n",
        "        train_data = X.iloc[train_idx, :], y.iloc[train_idx]\n",
        "        valid_data = X.iloc[valid_idx, :], y.iloc[valid_idx]\n",
        "\n",
        "        # Подаем trials для перебора\n",
        "        model, y_pred = fit_algorithm_optuna(trial,\n",
        "                                      train_data,\n",
        "                                      valid_data,\n",
        "                                      LGBMRegressor,\n",
        "                                      init_params,\n",
        "                                      grid,\n",
        "                                      fit_params,\n",
        "                                      callbacks=callbacks)\n",
        "\n",
        "        y_true = valid_data[1]\n",
        "        scores.append(mean_squared_error(y_true=y_true, y_pred=y_pred, squared=False))\n",
        "        models.append(model)\n",
        "        # break\n",
        "\n",
        "    bst_mdl = models[np.argmin(scores)]\n",
        "    result = np.mean(scores)\n",
        "\n",
        "    if return_models:\n",
        "        return result, bst_mdl\n",
        "    else:\n",
        "        return result"
      ]
    },
    {
      "cell_type": "markdown",
      "source": [
        "Learning rate настраиваем через sheduler. LGBM работает очень быстро, поэтому убрал pruning. Кроме того, при обучении лучшей модели на фиксированных параметрах и подаче pruning в callbacks обучение упадёт."
      ],
      "metadata": {
        "id": "WSj30CqE0QtT"
      }
    },
    {
      "cell_type": "code",
      "execution_count": null,
      "metadata": {
        "colab": {
          "base_uri": "https://localhost:8080/",
          "height": 84,
          "referenced_widgets": [
            "48ecdf07f379438b87c63b0f05df0326",
            "64a8275acd264bb89fe2fc02b71b9da7",
            "1e0e6ff67fda4770927afad7e2aff3c1",
            "73a538901beb4a8aba7684bafd55b097",
            "a9386816678c4904893f51315c122b18",
            "ffad53c064514e2e9b90dc6f84e37fd6",
            "5afe0122ee1444d5bd79d0e2fb1cb98d",
            "217ec909f7c3403bb404ac982780a339",
            "172bdd99c6664d5e917356705d2f5cee",
            "ceb8b49c81f84dc18ac2b159e5324202",
            "0bab15013383484ab9aac9d478674a49"
          ]
        },
        "id": "uDS0D2DjeGY-",
        "outputId": "ce675776-282d-4663-fe79-5544369ae0e1"
      },
      "outputs": [
        {
          "output_type": "display_data",
          "data": {
            "text/plain": [
              "  0%|          | 0/100 [00:00<?, ?it/s]"
            ],
            "application/vnd.jupyter.widget-view+json": {
              "version_major": 2,
              "version_minor": 0,
              "model_id": "48ecdf07f379438b87c63b0f05df0326"
            }
          },
          "metadata": {}
        },
        {
          "output_type": "stream",
          "name": "stdout",
          "text": [
            "CPU times: user 1min 32s, sys: 19.8 s, total: 1min 52s\n",
            "Wall time: 1min 15s\n"
          ]
        }
      ],
      "source": [
        "%%time\n",
        "study = optuna.create_study(pruner=optuna.pruners.MedianPruner(n_warmup_steps=5),\n",
        "                            direction=\"minimize\", study_name=\"LGBM_Regressor\", sampler=sampler)\n",
        "study.optimize(objective_lgbm,\n",
        "               n_trials=N_TRIALS,\n",
        "               n_jobs=-1,\n",
        "               show_progress_bar=True,)"
      ]
    },
    {
      "cell_type": "code",
      "source": [
        "# params = ['min_child_samples',\n",
        "#           'reg_alpha',\n",
        "#           'reg_lambda',\n",
        "#           'num_leaves',\n",
        "#           'colsample_bytree',\n",
        "#           'subsample',]\n",
        "\n",
        "# optuna.visualization.plot_slice(study, params=params, target_name='rmse')"
      ],
      "metadata": {
        "id": "fXqguC-TdxS4"
      },
      "execution_count": null,
      "outputs": []
    },
    {
      "cell_type": "code",
      "execution_count": null,
      "metadata": {
        "colab": {
          "base_uri": "https://localhost:8080/"
        },
        "id": "FJFrKF_3RzZ1",
        "outputId": "db055792-ccdd-488f-e103-8f31a6769f1c"
      },
      "outputs": [
        {
          "output_type": "stream",
          "name": "stdout",
          "text": [
            "Best trial: score 11.612262446913308, params {'lr_init': 0.0271, 'boosting_type': 'gbdt', 'min_child_samples': 14, 'reg_alpha': 1, 'reg_lambda': 1, 'num_leaves': 5, 'colsample_bytree': 0.7, 'subsample': 0.94, 'bagging_fraction': 0.81, 'bagging_freq': 6}\n",
            "[LightGBM] [Info] Start training from score -0.000030\n",
            "[LightGBM] [Info] Start training from score -0.000002\n",
            "[LightGBM] [Info] Start training from score -0.000034\n"
          ]
        }
      ],
      "source": [
        "print(\"Best trial: score {}, params {}\".format(study.best_trial.value, study.best_trial.params))\n",
        "mean_scores['LGBM_score'], bst_mdls['LGBM_model'] = objective_lgbm(optuna.trial.FixedTrial(study.best_trial.params), return_models=True)"
      ]
    },
    {
      "cell_type": "code",
      "source": [
        "preds = bst_mdls['LGBM_model'].predict(X_sub)\n",
        "df_sub['LGBM_target'] = preds"
      ],
      "metadata": {
        "id": "5M3xb10qbg2_"
      },
      "execution_count": null,
      "outputs": []
    },
    {
      "cell_type": "markdown",
      "metadata": {
        "id": "gHVp7c1ESfn0"
      },
      "source": [
        "## Elastic net"
      ]
    },
    {
      "cell_type": "code",
      "source": [
        "def objective_elastik(trial, return_models=False):\n",
        "    init_params = {'random_state': R_S,}\n",
        "\n",
        "    grid = {'max_iter': trial.suggest_int(\"max_iter\", 600, 800, step=4),\n",
        "            'l1_ratio': trial.suggest_float(\"l1_ratio\", 0.001, 0.3, step=0.01),\n",
        "            'alpha':  trial.suggest_float(\"alpha\", 0.001, 0.3, step=0.01)}\n",
        "\n",
        "    fit_params = {}\n",
        "\n",
        "    n_splits = 3\n",
        "    kf = KFold(n_splits=n_splits, shuffle=True, random_state=R_S)\n",
        "\n",
        "    scores, models = [], []\n",
        "\n",
        "    for train_idx, valid_idx in kf.split(X):\n",
        "        train_data = X.iloc[train_idx, :], y.iloc[train_idx]\n",
        "        valid_data = X.iloc[valid_idx, :], y.iloc[valid_idx]\n",
        "\n",
        "        model, y_pred = fit_algorithm_optuna(trial,\n",
        "                                             train_data,\n",
        "                                             valid_data,\n",
        "                                             ElasticNet,\n",
        "                                             init_params,\n",
        "                                             grid,\n",
        "                                             fit_params)\n",
        "\n",
        "        y_true = valid_data[1]\n",
        "        scores.append(mean_squared_error(y_true=y_true, y_pred=y_pred, squared=False))\n",
        "        models.append(model)\n",
        "        # break\n",
        "\n",
        "    bst_mdl = models[np.argmin(scores)]\n",
        "    result = np.mean(scores)\n",
        "\n",
        "    if return_models:\n",
        "        return result, bst_mdl\n",
        "    else:\n",
        "        return result"
      ],
      "metadata": {
        "id": "fu-F-A83r3wj"
      },
      "execution_count": null,
      "outputs": []
    },
    {
      "cell_type": "code",
      "execution_count": null,
      "metadata": {
        "colab": {
          "base_uri": "https://localhost:8080/",
          "height": 84,
          "referenced_widgets": [
            "95ff242a9b8543c3ac1dac9f075626ee",
            "a26ba52002b34f1ba993b925f37a1dd8",
            "998c3228f2b34942b94a0df098ab6bab",
            "91da575abed34b29a7005bd4b40e0624",
            "2870740463934cf18697633415884720",
            "1f34dc5e6bb34bf3a1168507fdb067c5",
            "1d46f84affbc43e89879fe8c518420c2",
            "01c7da63ad284ff1bf89bc53c784b99d",
            "f95ebc40b77e4c32a8200dd8e0262f7d",
            "8035b1797d3646ecadf667e420f66a5c",
            "88987c5b7d554731b3f5e018c12602db"
          ]
        },
        "id": "E3l57C3D8EQV",
        "outputId": "2ba00273-dee6-448e-f0ef-33d845128af1"
      },
      "outputs": [
        {
          "output_type": "display_data",
          "data": {
            "text/plain": [
              "  0%|          | 0/100 [00:00<?, ?it/s]"
            ],
            "application/vnd.jupyter.widget-view+json": {
              "version_major": 2,
              "version_minor": 0,
              "model_id": "95ff242a9b8543c3ac1dac9f075626ee"
            }
          },
          "metadata": {}
        },
        {
          "output_type": "stream",
          "name": "stdout",
          "text": [
            "CPU times: user 23.2 s, sys: 15.8 s, total: 39 s\n",
            "Wall time: 22.9 s\n"
          ]
        }
      ],
      "source": [
        "%%time\n",
        "study = optuna.create_study(direction=\"minimize\", study_name=\"Elastic_Regressor\", sampler=sampler)\n",
        "study.optimize(objective_elastik,\n",
        "               n_trials=N_TRIALS,\n",
        "               n_jobs=-1,\n",
        "               show_progress_bar=True,)"
      ]
    },
    {
      "cell_type": "code",
      "source": [
        "print(\"Best trial: score {}, params {}\".format(study.best_trial.value, study.best_trial.params))\n",
        "mean_scores['Elastic_score'], bst_mdls['Elastic_model'] = objective_elastik(optuna.trial.FixedTrial(study.best_trial.params), return_models=True)"
      ],
      "metadata": {
        "colab": {
          "base_uri": "https://localhost:8080/"
        },
        "id": "mVuSW_STtc7O",
        "outputId": "6b7b92f2-5f6d-40e9-f7a3-01003063a69b"
      },
      "execution_count": null,
      "outputs": [
        {
          "output_type": "stream",
          "name": "stdout",
          "text": [
            "Best trial: score 14.548511696372435, params {'max_iter': 776, 'l1_ratio': 0.041, 'alpha': 0.011}\n"
          ]
        }
      ]
    },
    {
      "cell_type": "code",
      "source": [
        "# params = ['max_iter',\n",
        "#           'l1_ratio',\n",
        "#           'alpha']\n",
        "\n",
        "# optuna.visualization.plot_slice(study, params=params, target_name='rmse')"
      ],
      "metadata": {
        "id": "0ig8iCPyWqYN"
      },
      "execution_count": null,
      "outputs": []
    },
    {
      "cell_type": "code",
      "source": [
        "preds = bst_mdls['Elastic_model'].predict(X_sub)\n",
        "df_sub['Elastic_target'] = preds"
      ],
      "metadata": {
        "id": "Cyx5KN6PXBJU"
      },
      "execution_count": null,
      "outputs": []
    },
    {
      "cell_type": "markdown",
      "source": [
        "## Gradient Boosting"
      ],
      "metadata": {
        "id": "PS0h6zY4uTRz"
      }
    },
    {
      "cell_type": "code",
      "source": [
        "def objective_gradient_boosting(trial, return_models=False):\n",
        "    init_params = {'random_state': R_S,\n",
        "                  #  'n_jobs': -1\n",
        "                   }\n",
        "\n",
        "    grid = { #'learning_rate': trial.suggest_float(\"learning_rate\", 0.001, 0.01),\n",
        "             'n_estimators': trial.suggest_int(\"n_estimators\", 300, 500, step=4),\n",
        "             'subsample': trial.suggest_float(\"subsample\", 0.6, 0.95, step=0.01),\n",
        "             'criterion': trial.suggest_categorical(\"criterion\", [\"friedman_mse\",\n",
        "                                                                  # \"squared_error\"\n",
        "                                                                  ]),\n",
        "             'min_samples_split': trial.suggest_int(\"min_samples_split\", 2, 200, step=10),\n",
        "             'min_samples_leaf': trial.suggest_int(\"min_samples_leaf\", 2, 200, step=10),\n",
        "             'max_depth': trial.suggest_int(\"max_depth\", 4, 8),\n",
        "             'n_iter_no_change': trial.suggest_int(\"n_iter_no_change\", 2, 100, step=10)}\n",
        "\n",
        "    fit_params = {}\n",
        "\n",
        "    n_splits = 3\n",
        "    kf = KFold(n_splits=n_splits, shuffle=True, random_state=R_S)\n",
        "\n",
        "    scores, models = [], []\n",
        "\n",
        "    for train_idx, valid_idx in kf.split(X):\n",
        "        train_data = X.iloc[train_idx, :], y.iloc[train_idx]\n",
        "        valid_data = X.iloc[valid_idx, :], y.iloc[valid_idx]\n",
        "\n",
        "        model, y_pred = fit_algorithm_optuna(trial,\n",
        "                                             train_data,\n",
        "                                             valid_data,\n",
        "                                             GradientBoostingRegressor,\n",
        "                                             init_params,\n",
        "                                             grid,\n",
        "                                             fit_params)\n",
        "\n",
        "        y_true = valid_data[1]\n",
        "        scores.append(mean_squared_error(y_true=y_true, y_pred=y_pred, squared=False))\n",
        "        models.append(model)\n",
        "        # break\n",
        "\n",
        "    bst_mdl = models[np.argmin(scores)]\n",
        "    result = np.mean(scores)\n",
        "\n",
        "    if return_models:\n",
        "        return result, bst_mdl\n",
        "    else:\n",
        "        return result"
      ],
      "metadata": {
        "id": "F_eqPfsVuaNF"
      },
      "execution_count": null,
      "outputs": []
    },
    {
      "cell_type": "code",
      "source": [
        "%%time\n",
        "study = optuna.create_study(direction=\"minimize\", study_name=\"GB_Regressor\", sampler=sampler)\n",
        "study.optimize(objective_gradient_boosting,\n",
        "               n_trials=N_TRIALS,\n",
        "               n_jobs=-1,\n",
        "               show_progress_bar=True,)"
      ],
      "metadata": {
        "colab": {
          "base_uri": "https://localhost:8080/",
          "height": 84,
          "referenced_widgets": [
            "b1c3d80f7dff4d5b8ea3812964e421a6",
            "f43519739a2a439dbba6cb98f3f97396",
            "7600b04099694507a0e62eb3300f82f7",
            "3b2024a080b04e0aaf8071777699fefa",
            "425ee9bbd8b94ddb985d4fe266c6e70f",
            "1bb9ccc59c544ddba983468d4aa7bda9",
            "86129d627fc148f89a1e09a3cef180f9",
            "73778796fb6f470cb07a03a0f53f5768",
            "a3960cea876248feb2ecc7f234b9fcd6",
            "c1421a6309784397915289179aa76ae0",
            "8740f98683bf4f3cab9d6d61c1e757cc"
          ]
        },
        "id": "Xc-qccqfXbgj",
        "outputId": "d51e72c4-ed1e-47d5-b94e-e0cd6ba18f9e"
      },
      "execution_count": null,
      "outputs": [
        {
          "output_type": "display_data",
          "data": {
            "text/plain": [
              "  0%|          | 0/100 [00:00<?, ?it/s]"
            ],
            "application/vnd.jupyter.widget-view+json": {
              "version_major": 2,
              "version_minor": 0,
              "model_id": "b1c3d80f7dff4d5b8ea3812964e421a6"
            }
          },
          "metadata": {}
        },
        {
          "output_type": "stream",
          "name": "stdout",
          "text": [
            "CPU times: user 2min 32s, sys: 2.49 s, total: 2min 35s\n",
            "Wall time: 1min 38s\n"
          ]
        }
      ]
    },
    {
      "cell_type": "code",
      "source": [
        "print(\"Best trial: score {}, params {}\".format(study.best_trial.value, study.best_trial.params))\n",
        "mean_scores['GB_score'], bst_mdls['GB_model'] = objective_gradient_boosting(optuna.trial.FixedTrial(study.best_trial.params), return_models=True)"
      ],
      "metadata": {
        "colab": {
          "base_uri": "https://localhost:8080/"
        },
        "id": "9TSXANnvZZHj",
        "outputId": "0a2f93ef-1965-450a-e203-6c0db390a8f2"
      },
      "execution_count": null,
      "outputs": [
        {
          "output_type": "stream",
          "name": "stdout",
          "text": [
            "Best trial: score 11.629129209414714, params {'n_estimators': 324, 'subsample': 0.77, 'criterion': 'friedman_mse', 'min_samples_split': 102, 'min_samples_leaf': 2, 'max_depth': 5, 'n_iter_no_change': 52}\n"
          ]
        }
      ]
    },
    {
      "cell_type": "code",
      "source": [
        "# params = ['n_estimators',\n",
        "#           'subsample',\n",
        "#           'criterion',\n",
        "#           'min_samples_split',\n",
        "#           'min_samples_leaf',\n",
        "#           'max_depth',\n",
        "#           'n_iter_no_change']\n",
        "\n",
        "# optuna.visualization.plot_slice(study, params=params, target_name='rmse')"
      ],
      "metadata": {
        "id": "9idGHmEfddLw"
      },
      "execution_count": null,
      "outputs": []
    },
    {
      "cell_type": "code",
      "source": [
        "preds = bst_mdls['GB_model'].predict(X_sub)\n",
        "df_sub['GB_target'] = preds"
      ],
      "metadata": {
        "id": "iXYPNQR7kGQk"
      },
      "execution_count": null,
      "outputs": []
    },
    {
      "cell_type": "markdown",
      "metadata": {
        "id": "l2uwigtOAxWS"
      },
      "source": [
        "## Random Forest"
      ]
    },
    {
      "cell_type": "code",
      "source": [
        "def objective_random_forest(trial, return_models=False):\n",
        "    init_params = {'random_state': R_S,\n",
        "                   'n_jobs': -1}\n",
        "\n",
        "    grid = { 'n_estimators': trial.suggest_int(\"n_estimators\", 200, 350, step=4),\n",
        "             'max_depth': trial.suggest_int(\"max_depth\", 8, 11),\n",
        "             'max_samples': trial.suggest_int(\"max_samples\", 200, 350, step=10)}\n",
        "\n",
        "    fit_params = {}\n",
        "\n",
        "    n_splits = 3\n",
        "    kf = KFold(n_splits=n_splits, shuffle=True, random_state=R_S)\n",
        "\n",
        "    scores, models = [], []\n",
        "\n",
        "    for train_idx, valid_idx in kf.split(X):\n",
        "        train_data = X.iloc[train_idx, :], y.iloc[train_idx]\n",
        "        valid_data = X.iloc[valid_idx, :], y.iloc[valid_idx]\n",
        "\n",
        "        # Подаем trials для перебора\n",
        "        model, y_pred = fit_algorithm_optuna(trial,\n",
        "                                             train_data,\n",
        "                                             valid_data,\n",
        "                                             RandomForestRegressor,\n",
        "                                             init_params,\n",
        "                                             grid,\n",
        "                                             fit_params)\n",
        "\n",
        "        y_true = valid_data[1]\n",
        "        scores.append(mean_squared_error(y_true=y_true, y_pred=y_pred, squared=False))\n",
        "        models.append(model)\n",
        "        # break\n",
        "\n",
        "    bst_mdl = models[np.argmin(scores)]\n",
        "    result = np.mean(scores)\n",
        "\n",
        "    if return_models:\n",
        "        return result, bst_mdl\n",
        "    else:\n",
        "        return result"
      ],
      "metadata": {
        "id": "s97SEiZkudz0"
      },
      "execution_count": null,
      "outputs": []
    },
    {
      "cell_type": "code",
      "source": [
        "%%time\n",
        "study = optuna.create_study(direction=\"minimize\", study_name=\"Random_Forest_Regressor\", sampler=sampler)\n",
        "study.optimize(objective_random_forest,\n",
        "               n_trials=N_TRIALS,\n",
        "               n_jobs=-1,\n",
        "               show_progress_bar=True,)"
      ],
      "metadata": {
        "colab": {
          "base_uri": "https://localhost:8080/",
          "height": 84,
          "referenced_widgets": [
            "59882c83970f4106acedc9bbf3942452",
            "0b6bba71ce6a4e13901f873ebb029a64",
            "66620b4779b141e387d5e9dc90b5d70e",
            "441e16729c9a478eb69403114cb9eada",
            "db2e035516c344a3815aa312724352b1",
            "a09051e32cbf4e03961a926f0c4d5914",
            "6a50d32f8a5c40c69fe228c237ed5b6b",
            "bf9d455867964bda9a520e050bec546a",
            "88c9e8deef204148bfa34a998f42c1ed",
            "d3966fa772134c5380f1b20d34a4c134",
            "f5093488533145019d2e46095af9077c"
          ]
        },
        "id": "Tdai8leRvEhx",
        "outputId": "35c362ab-b147-4955-e006-8e6f33d89f5f"
      },
      "execution_count": null,
      "outputs": [
        {
          "output_type": "display_data",
          "data": {
            "text/plain": [
              "  0%|          | 0/100 [00:00<?, ?it/s]"
            ],
            "application/vnd.jupyter.widget-view+json": {
              "version_major": 2,
              "version_minor": 0,
              "model_id": "59882c83970f4106acedc9bbf3942452"
            }
          },
          "metadata": {}
        },
        {
          "output_type": "stream",
          "name": "stdout",
          "text": [
            "CPU times: user 5min 50s, sys: 22.7 s, total: 6min 12s\n",
            "Wall time: 4min 35s\n"
          ]
        }
      ]
    },
    {
      "cell_type": "code",
      "source": [
        "print(\"Best trial: score {}, params {}\".format(study.best_trial.value, study.best_trial.params))\n",
        "mean_scores['RF_score'], bst_mdls['RF_model'] = objective_random_forest(optuna.trial.FixedTrial(study.best_trial.params), return_models=True)"
      ],
      "metadata": {
        "colab": {
          "base_uri": "https://localhost:8080/"
        },
        "id": "AcpenSbmvfKs",
        "outputId": "ad12671c-8b5a-412d-8fa6-c4667f9ab530"
      },
      "execution_count": null,
      "outputs": [
        {
          "output_type": "stream",
          "name": "stdout",
          "text": [
            "Best trial: score 11.716113669683864, params {'n_estimators': 300, 'max_depth': 10, 'max_samples': 350}\n"
          ]
        }
      ]
    },
    {
      "cell_type": "code",
      "source": [
        "# params = ['n_estimators',\n",
        "#           'max_depth',\n",
        "#           'max_samples']\n",
        "\n",
        "# optuna.visualization.plot_slice(study, params=params, target_name='rmse')"
      ],
      "metadata": {
        "id": "HuAdIDOmk2tT"
      },
      "execution_count": null,
      "outputs": []
    },
    {
      "cell_type": "code",
      "source": [
        "preds = bst_mdls['RF_model'].predict(X_sub)\n",
        "df_sub['RF_target'] = preds"
      ],
      "metadata": {
        "id": "6GO94-fNoKCI"
      },
      "execution_count": null,
      "outputs": []
    },
    {
      "cell_type": "markdown",
      "metadata": {
        "id": "Ww82af9XNzVK"
      },
      "source": [
        "## SVM"
      ]
    },
    {
      "cell_type": "code",
      "source": [
        "def objective_svm(trial, return_models=False):\n",
        "    init_params = {}\n",
        "\n",
        "    grid = {'max_iter': trial.suggest_int('max_iter', 300, 550, step=10),\n",
        "            'nu': trial.suggest_float(\"nu\", 0.5, 0.9, step=0.01),\n",
        "            'C': trial.suggest_float(\"C\", 1, 2, step=0.01)}\n",
        "\n",
        "    fit_params = {}\n",
        "\n",
        "    n_splits = 3\n",
        "    kf = KFold(n_splits=n_splits, shuffle=True, random_state=R_S)\n",
        "\n",
        "    scores, models = [], []\n",
        "\n",
        "    for train_idx, valid_idx in kf.split(X):\n",
        "        train_data = X.iloc[train_idx, :], y.iloc[train_idx]\n",
        "        valid_data = X.iloc[valid_idx, :], y.iloc[valid_idx]\n",
        "\n",
        "        # Подаем trials для перебора\n",
        "        model, y_pred = fit_algorithm_optuna(trial,\n",
        "                                             train_data,\n",
        "                                             valid_data,\n",
        "                                             NuSVR,\n",
        "                                             init_params,\n",
        "                                             grid,\n",
        "                                             fit_params)\n",
        "\n",
        "        y_true = valid_data[1]\n",
        "        scores.append(mean_squared_error(y_true=y_true, y_pred=y_pred, squared=False))\n",
        "        models.append(model)\n",
        "        # break\n",
        "\n",
        "    bst_mdl = models[np.argmin(scores)]\n",
        "    result = np.mean(scores)\n",
        "\n",
        "    if return_models:\n",
        "        return result, bst_mdl\n",
        "    else:\n",
        "        return result"
      ],
      "metadata": {
        "id": "Fkje-40c13Q3"
      },
      "execution_count": null,
      "outputs": []
    },
    {
      "cell_type": "code",
      "execution_count": null,
      "metadata": {
        "colab": {
          "base_uri": "https://localhost:8080/",
          "height": 84,
          "referenced_widgets": [
            "d3e55cf92a9c4b25baef3cc8847ee0dd",
            "bd095cf970f2403db0fd663f3fe2f022",
            "5d7e091a49964d6f969a4f6bae15f58d",
            "400aa861f9ec4e05bb2285e09e70d5d0",
            "37e134d364bf440cb0e314ac2694ab09",
            "74de604c3e9f48efa2ebf9aca230c4f0",
            "6dcb15fce9a14d1789e4a2c043bc6285",
            "d79a27dde6e24fa38d32a0c4b3cfb765",
            "ca6ea46cfdcb4fc681c00876285a5547",
            "d0b132673b8f4ed1a44ed5c8cf18c828",
            "09ea3724211449aeb03339277f62ab56"
          ]
        },
        "id": "2LvPINJmN5SJ",
        "outputId": "bc3cc72d-2f39-462a-bf13-1c889acc9755"
      },
      "outputs": [
        {
          "output_type": "display_data",
          "data": {
            "text/plain": [
              "  0%|          | 0/100 [00:00<?, ?it/s]"
            ],
            "application/vnd.jupyter.widget-view+json": {
              "version_major": 2,
              "version_minor": 0,
              "model_id": "d3e55cf92a9c4b25baef3cc8847ee0dd"
            }
          },
          "metadata": {}
        },
        {
          "output_type": "stream",
          "name": "stdout",
          "text": [
            "CPU times: user 1min 15s, sys: 718 ms, total: 1min 15s\n",
            "Wall time: 45.9 s\n"
          ]
        }
      ],
      "source": [
        "%%time\n",
        "study = optuna.create_study(direction=\"minimize\", study_name=\"SVM_Regressor\", sampler=sampler)\n",
        "study.optimize(objective_svm,\n",
        "               n_trials=N_TRIALS,\n",
        "               n_jobs=-1,\n",
        "               show_progress_bar=True,)"
      ]
    },
    {
      "cell_type": "code",
      "source": [
        "print(\"Best trial: score {}, params {}\".format(study.best_trial.value, study.best_trial.params))\n",
        "mean_scores['SVM_score'], bst_mdls['SVM_model'] = objective_svm(optuna.trial.FixedTrial(study.best_trial.params), return_models=True)"
      ],
      "metadata": {
        "colab": {
          "base_uri": "https://localhost:8080/"
        },
        "id": "crhDOsPa1NXc",
        "outputId": "de818658-8114-4f11-de69-3bb16633cf1f"
      },
      "execution_count": null,
      "outputs": [
        {
          "output_type": "stream",
          "name": "stdout",
          "text": [
            "Best trial: score 12.771331905554307, params {'max_iter': 550, 'nu': 0.8200000000000001, 'C': 1.53}\n"
          ]
        }
      ]
    },
    {
      "cell_type": "code",
      "source": [
        "# params = ['max_iter', 'C', 'nu', 'kernel']\n",
        "# optuna.visualization.plot_slice(study, params=params, target_name='rmse')"
      ],
      "metadata": {
        "id": "061GKyGVrRZF"
      },
      "execution_count": null,
      "outputs": []
    },
    {
      "cell_type": "code",
      "source": [
        "preds = bst_mdls['SVM_model'].predict(X_sub)\n",
        "\n",
        "df_sub['SVM_target'] = preds\n",
        "df_sub.head()"
      ],
      "metadata": {
        "colab": {
          "base_uri": "https://localhost:8080/",
          "height": 206
        },
        "id": "B2DFDwis2nMP",
        "outputId": "4a8361b4-ec25-4bcf-d576-02854208512b"
      },
      "execution_count": null,
      "outputs": [
        {
          "output_type": "execute_result",
          "data": {
            "text/plain": [
              "       car_id  Catboost_target  LGBM_target  Elastic_target  GB_target  \\\n",
              "0  P17494612l        44.269476    48.860750       48.650976  46.981685   \n",
              "1  N-1530212S        32.148753    36.022324       46.821449  39.983451   \n",
              "2  B-1154399t        32.534999    30.741058       39.139793  29.781080   \n",
              "3  F12725233R        34.120984    37.529150       42.544091  36.435767   \n",
              "4  l-1139189J        32.356600    31.277469       50.551689  33.011058   \n",
              "\n",
              "   RF_target  SVM_target  \n",
              "0  42.602648   37.363210  \n",
              "1  33.254034   38.331765  \n",
              "2  32.490699   32.297850  \n",
              "3  34.760761   44.226032  \n",
              "4  32.348427   42.158862  "
            ],
            "text/html": [
              "\n",
              "  <div id=\"df-ed635205-2aa4-4c7c-bcf4-94d0d911eafd\" class=\"colab-df-container\">\n",
              "    <div>\n",
              "<style scoped>\n",
              "    .dataframe tbody tr th:only-of-type {\n",
              "        vertical-align: middle;\n",
              "    }\n",
              "\n",
              "    .dataframe tbody tr th {\n",
              "        vertical-align: top;\n",
              "    }\n",
              "\n",
              "    .dataframe thead th {\n",
              "        text-align: right;\n",
              "    }\n",
              "</style>\n",
              "<table border=\"1\" class=\"dataframe\">\n",
              "  <thead>\n",
              "    <tr style=\"text-align: right;\">\n",
              "      <th></th>\n",
              "      <th>car_id</th>\n",
              "      <th>Catboost_target</th>\n",
              "      <th>LGBM_target</th>\n",
              "      <th>Elastic_target</th>\n",
              "      <th>GB_target</th>\n",
              "      <th>RF_target</th>\n",
              "      <th>SVM_target</th>\n",
              "    </tr>\n",
              "  </thead>\n",
              "  <tbody>\n",
              "    <tr>\n",
              "      <th>0</th>\n",
              "      <td>P17494612l</td>\n",
              "      <td>44.269476</td>\n",
              "      <td>48.860750</td>\n",
              "      <td>48.650976</td>\n",
              "      <td>46.981685</td>\n",
              "      <td>42.602648</td>\n",
              "      <td>37.363210</td>\n",
              "    </tr>\n",
              "    <tr>\n",
              "      <th>1</th>\n",
              "      <td>N-1530212S</td>\n",
              "      <td>32.148753</td>\n",
              "      <td>36.022324</td>\n",
              "      <td>46.821449</td>\n",
              "      <td>39.983451</td>\n",
              "      <td>33.254034</td>\n",
              "      <td>38.331765</td>\n",
              "    </tr>\n",
              "    <tr>\n",
              "      <th>2</th>\n",
              "      <td>B-1154399t</td>\n",
              "      <td>32.534999</td>\n",
              "      <td>30.741058</td>\n",
              "      <td>39.139793</td>\n",
              "      <td>29.781080</td>\n",
              "      <td>32.490699</td>\n",
              "      <td>32.297850</td>\n",
              "    </tr>\n",
              "    <tr>\n",
              "      <th>3</th>\n",
              "      <td>F12725233R</td>\n",
              "      <td>34.120984</td>\n",
              "      <td>37.529150</td>\n",
              "      <td>42.544091</td>\n",
              "      <td>36.435767</td>\n",
              "      <td>34.760761</td>\n",
              "      <td>44.226032</td>\n",
              "    </tr>\n",
              "    <tr>\n",
              "      <th>4</th>\n",
              "      <td>l-1139189J</td>\n",
              "      <td>32.356600</td>\n",
              "      <td>31.277469</td>\n",
              "      <td>50.551689</td>\n",
              "      <td>33.011058</td>\n",
              "      <td>32.348427</td>\n",
              "      <td>42.158862</td>\n",
              "    </tr>\n",
              "  </tbody>\n",
              "</table>\n",
              "</div>\n",
              "    <div class=\"colab-df-buttons\">\n",
              "\n",
              "  <div class=\"colab-df-container\">\n",
              "    <button class=\"colab-df-convert\" onclick=\"convertToInteractive('df-ed635205-2aa4-4c7c-bcf4-94d0d911eafd')\"\n",
              "            title=\"Convert this dataframe to an interactive table.\"\n",
              "            style=\"display:none;\">\n",
              "\n",
              "  <svg xmlns=\"http://www.w3.org/2000/svg\" height=\"24px\" viewBox=\"0 -960 960 960\">\n",
              "    <path d=\"M120-120v-720h720v720H120Zm60-500h600v-160H180v160Zm220 220h160v-160H400v160Zm0 220h160v-160H400v160ZM180-400h160v-160H180v160Zm440 0h160v-160H620v160ZM180-180h160v-160H180v160Zm440 0h160v-160H620v160Z\"/>\n",
              "  </svg>\n",
              "    </button>\n",
              "\n",
              "  <style>\n",
              "    .colab-df-container {\n",
              "      display:flex;\n",
              "      gap: 12px;\n",
              "    }\n",
              "\n",
              "    .colab-df-convert {\n",
              "      background-color: #E8F0FE;\n",
              "      border: none;\n",
              "      border-radius: 50%;\n",
              "      cursor: pointer;\n",
              "      display: none;\n",
              "      fill: #1967D2;\n",
              "      height: 32px;\n",
              "      padding: 0 0 0 0;\n",
              "      width: 32px;\n",
              "    }\n",
              "\n",
              "    .colab-df-convert:hover {\n",
              "      background-color: #E2EBFA;\n",
              "      box-shadow: 0px 1px 2px rgba(60, 64, 67, 0.3), 0px 1px 3px 1px rgba(60, 64, 67, 0.15);\n",
              "      fill: #174EA6;\n",
              "    }\n",
              "\n",
              "    .colab-df-buttons div {\n",
              "      margin-bottom: 4px;\n",
              "    }\n",
              "\n",
              "    [theme=dark] .colab-df-convert {\n",
              "      background-color: #3B4455;\n",
              "      fill: #D2E3FC;\n",
              "    }\n",
              "\n",
              "    [theme=dark] .colab-df-convert:hover {\n",
              "      background-color: #434B5C;\n",
              "      box-shadow: 0px 1px 3px 1px rgba(0, 0, 0, 0.15);\n",
              "      filter: drop-shadow(0px 1px 2px rgba(0, 0, 0, 0.3));\n",
              "      fill: #FFFFFF;\n",
              "    }\n",
              "  </style>\n",
              "\n",
              "    <script>\n",
              "      const buttonEl =\n",
              "        document.querySelector('#df-ed635205-2aa4-4c7c-bcf4-94d0d911eafd button.colab-df-convert');\n",
              "      buttonEl.style.display =\n",
              "        google.colab.kernel.accessAllowed ? 'block' : 'none';\n",
              "\n",
              "      async function convertToInteractive(key) {\n",
              "        const element = document.querySelector('#df-ed635205-2aa4-4c7c-bcf4-94d0d911eafd');\n",
              "        const dataTable =\n",
              "          await google.colab.kernel.invokeFunction('convertToInteractive',\n",
              "                                                    [key], {});\n",
              "        if (!dataTable) return;\n",
              "\n",
              "        const docLinkHtml = 'Like what you see? Visit the ' +\n",
              "          '<a target=\"_blank\" href=https://colab.research.google.com/notebooks/data_table.ipynb>data table notebook</a>'\n",
              "          + ' to learn more about interactive tables.';\n",
              "        element.innerHTML = '';\n",
              "        dataTable['output_type'] = 'display_data';\n",
              "        await google.colab.output.renderOutput(dataTable, element);\n",
              "        const docLink = document.createElement('div');\n",
              "        docLink.innerHTML = docLinkHtml;\n",
              "        element.appendChild(docLink);\n",
              "      }\n",
              "    </script>\n",
              "  </div>\n",
              "\n",
              "\n",
              "<div id=\"df-fcbffd1f-13e2-48eb-be52-95fb5f82ddaf\">\n",
              "  <button class=\"colab-df-quickchart\" onclick=\"quickchart('df-fcbffd1f-13e2-48eb-be52-95fb5f82ddaf')\"\n",
              "            title=\"Suggest charts.\"\n",
              "            style=\"display:none;\">\n",
              "\n",
              "<svg xmlns=\"http://www.w3.org/2000/svg\" height=\"24px\"viewBox=\"0 0 24 24\"\n",
              "     width=\"24px\">\n",
              "    <g>\n",
              "        <path d=\"M19 3H5c-1.1 0-2 .9-2 2v14c0 1.1.9 2 2 2h14c1.1 0 2-.9 2-2V5c0-1.1-.9-2-2-2zM9 17H7v-7h2v7zm4 0h-2V7h2v10zm4 0h-2v-4h2v4z\"/>\n",
              "    </g>\n",
              "</svg>\n",
              "  </button>\n",
              "\n",
              "<style>\n",
              "  .colab-df-quickchart {\n",
              "    background-color: #E8F0FE;\n",
              "    border: none;\n",
              "    border-radius: 50%;\n",
              "    cursor: pointer;\n",
              "    display: none;\n",
              "    fill: #1967D2;\n",
              "    height: 32px;\n",
              "    padding: 0 0 0 0;\n",
              "    width: 32px;\n",
              "  }\n",
              "\n",
              "  .colab-df-quickchart:hover {\n",
              "    background-color: #E2EBFA;\n",
              "    box-shadow: 0px 1px 2px rgba(60, 64, 67, 0.3), 0px 1px 3px 1px rgba(60, 64, 67, 0.15);\n",
              "    fill: #174EA6;\n",
              "  }\n",
              "\n",
              "  [theme=dark] .colab-df-quickchart {\n",
              "    background-color: #3B4455;\n",
              "    fill: #D2E3FC;\n",
              "  }\n",
              "\n",
              "  [theme=dark] .colab-df-quickchart:hover {\n",
              "    background-color: #434B5C;\n",
              "    box-shadow: 0px 1px 3px 1px rgba(0, 0, 0, 0.15);\n",
              "    filter: drop-shadow(0px 1px 2px rgba(0, 0, 0, 0.3));\n",
              "    fill: #FFFFFF;\n",
              "  }\n",
              "</style>\n",
              "\n",
              "  <script>\n",
              "    async function quickchart(key) {\n",
              "      const charts = await google.colab.kernel.invokeFunction(\n",
              "          'suggestCharts', [key], {});\n",
              "    }\n",
              "    (() => {\n",
              "      let quickchartButtonEl =\n",
              "        document.querySelector('#df-fcbffd1f-13e2-48eb-be52-95fb5f82ddaf button');\n",
              "      quickchartButtonEl.style.display =\n",
              "        google.colab.kernel.accessAllowed ? 'block' : 'none';\n",
              "    })();\n",
              "  </script>\n",
              "</div>\n",
              "    </div>\n",
              "  </div>\n"
            ]
          },
          "metadata": {},
          "execution_count": 122
        }
      ]
    },
    {
      "cell_type": "markdown",
      "metadata": {
        "id": "9mCHOltZxqk-"
      },
      "source": [
        "## XGBoost"
      ]
    },
    {
      "cell_type": "code",
      "execution_count": null,
      "metadata": {
        "id": "hOezWrK9duOQ"
      },
      "outputs": [],
      "source": [
        "def objective_xgb(trial, return_models=False):\n",
        "\n",
        "    pruning_callback = XGBoostPruningCallback(trial, 'validation_0-rmse')\n",
        "\n",
        "    callbacks = [xgb.callback.LearningRateScheduler(lr_gen_simple(trial.suggest_float(\"lr_init\", 0.05, 0.15, step=0.001), N_EST)),\n",
        "                #  xgb.callback.EarlyStopping(rounds=trial.suggest_int(\"early_stopping_rounds\", 50, 1000), #metric_name=\"RMSE\"\n",
        "                #  ),\n",
        "                 pruning_callback]\n",
        "\n",
        "    init_params = {'eval_metric':'rmse',\n",
        "                   'random_state': R_S,\n",
        "                   'n_jobs':-1,\n",
        "                   'objective': 'reg:squarederror'}\n",
        "\n",
        "    grid = {\"booster\": trial.suggest_categorical(\"booster\", [#\"gbtree\",\n",
        "                                                             #\"gblinear\",\n",
        "                                                             \"dart\"\n",
        "                                                             ]),\n",
        "            'max_leaves': trial.suggest_int('max_leaves', 6, 12),\n",
        "            'lambda': trial.suggest_int(\"lambda\", 2, 15),\n",
        "            'max_bin': trial.suggest_int('max_bin', 220, 350, step=10),\n",
        "            'alpha': trial.suggest_int('alpha', 2, 15),\n",
        "            'colsample_bytree': trial.suggest_float(\"colsample_bytree\", 0.6, 0.9, step=0.01),\n",
        "            'subsample': trial.suggest_float(\"subsample\", 0.8, 0.95, step=0.01),\n",
        "            'min_child_weight': trial.suggest_float(\"min_child_weight\", 8, 12, step=0.01)}\n",
        "\n",
        "    fit_params = {'model__verbose': 0}\n",
        "\n",
        "    n_splits = 3\n",
        "    kf = KFold(n_splits=n_splits, shuffle=True, random_state=R_S)\n",
        "\n",
        "    scores, models = [], []\n",
        "\n",
        "    for train_idx, valid_idx in kf.split(X):\n",
        "        train_data = X.iloc[train_idx, :], y.iloc[train_idx]\n",
        "        valid_data = X.iloc[valid_idx, :], y.iloc[valid_idx]\n",
        "\n",
        "        model, y_pred = fit_algorithm_optuna(trial,\n",
        "                                             train_data,\n",
        "                                             valid_data,\n",
        "                                             XGBRegressor,\n",
        "                                             init_params,\n",
        "                                             grid,\n",
        "                                             fit_params,\n",
        "                                             callbacks=callbacks)\n",
        "\n",
        "        y_true = valid_data[1]\n",
        "        scores.append(mean_squared_error(y_true=y_true, y_pred=y_pred, squared=False))\n",
        "        models.append(model)\n",
        "        # break\n",
        "\n",
        "    bst_mdl = models[np.argmin(scores)]\n",
        "    result = np.mean(scores)\n",
        "\n",
        "    if return_models:\n",
        "        return result, bst_mdl\n",
        "    else:\n",
        "        return result"
      ]
    },
    {
      "cell_type": "markdown",
      "source": [
        "Learning rate подбирается через sheduler. Для уменьшения времени работы ноутбука будем обучать только на одном фолде."
      ],
      "metadata": {
        "id": "WnbyEHCW3S12"
      }
    },
    {
      "cell_type": "code",
      "source": [
        "%%time\n",
        "study = optuna.create_study(pruner=optuna.pruners.MedianPruner(n_warmup_steps=5),\n",
        "                            direction=\"minimize\", study_name=\"XGB_Regressor\", sampler=sampler)\n",
        "study.optimize(objective_xgb,\n",
        "               n_trials=N_TRIALS,\n",
        "               n_jobs=-1,\n",
        "               show_progress_bar=True,)"
      ],
      "metadata": {
        "colab": {
          "base_uri": "https://localhost:8080/",
          "height": 84,
          "referenced_widgets": [
            "a4e9aeee2c004c699bd8a5735ee94eec",
            "6f148514548d41f3a0d0b586af950c34",
            "33fa4d3590654cdc910366606f6f147f",
            "5fbeb4d4db1f4264973788f2a4577ee7",
            "cd437edef5ae4600a9dd1022d212c16f",
            "05979516a1264584b0ce5fd1703a2f8d",
            "48504fd0804448738434c6a03b25c49e",
            "523ebef725704ba1908cf94a92cf428a",
            "d489f910ff23493db740798c322696aa",
            "dd69b556b20445fa94ade8e409913f5e",
            "0577459b90194e1cb27729d08a008aee"
          ]
        },
        "id": "0gAQ4i3oIPGm",
        "outputId": "e55d9d53-cbcf-448c-ec70-da19b69a52ee"
      },
      "execution_count": null,
      "outputs": [
        {
          "output_type": "display_data",
          "data": {
            "text/plain": [
              "  0%|          | 0/100 [00:00<?, ?it/s]"
            ],
            "application/vnd.jupyter.widget-view+json": {
              "version_major": 2,
              "version_minor": 0,
              "model_id": "a4e9aeee2c004c699bd8a5735ee94eec"
            }
          },
          "metadata": {}
        },
        {
          "output_type": "stream",
          "name": "stdout",
          "text": [
            "CPU times: user 8min 43s, sys: 40.6 s, total: 9min 23s\n",
            "Wall time: 5min 23s\n"
          ]
        }
      ]
    },
    {
      "cell_type": "code",
      "source": [
        "print(\"Best trial: score {}, params {}\".format(study.best_trial.value, study.best_trial.params))\n",
        "mean_scores['XGB_score'], bst_mdls['XGB_model'] = objective_xgb(optuna.trial.FixedTrial(study.best_trial.params), return_models=True)"
      ],
      "metadata": {
        "id": "WeSZyJy-L7-z",
        "colab": {
          "base_uri": "https://localhost:8080/"
        },
        "outputId": "a73152fc-9234-463a-fa1a-2d7e8ddcebe0"
      },
      "execution_count": null,
      "outputs": [
        {
          "output_type": "stream",
          "name": "stdout",
          "text": [
            "Best trial: score 11.597384452819824, params {'lr_init': 0.061, 'booster': 'dart', 'max_leaves': 10, 'lambda': 9, 'max_bin': 340, 'alpha': 2, 'colsample_bytree': 0.87, 'subsample': 0.8600000000000001, 'min_child_weight': 11.75, 'max_depth': 4, 'eta': 1.1391366645807567e-06, 'gamma': 0.00010921760575217162, 'grow_policy': 'lossguide', 'sample_type': 'uniform', 'normalize_type': 'forest', 'rate_drop': 8.487560323072748e-05, 'skip_drop': 7.91952699907406e-08}\n"
          ]
        }
      ]
    },
    {
      "cell_type": "code",
      "source": [
        "# params = [ 'lr_init', 'booster', 'max_leaves', 'lambda', 'max_bin', 'alpha', 'colsample_bytree', 'subsample', 'min_child_weight']\n",
        "# optuna.visualization.plot_slice(study, params=params, target_name='rmse')"
      ],
      "metadata": {
        "id": "95-yR4OXvoY3"
      },
      "execution_count": null,
      "outputs": []
    },
    {
      "cell_type": "code",
      "source": [
        "preds = bst_mdls['XGB_model'].predict(X_sub)\n",
        "df_sub['XGB_target'] = preds"
      ],
      "metadata": {
        "id": "UO58iBbY6ctR"
      },
      "execution_count": null,
      "outputs": []
    },
    {
      "cell_type": "markdown",
      "metadata": {
        "id": "m_XV1JxZCQvM"
      },
      "source": [
        "# Сравнение моделей"
      ]
    },
    {
      "cell_type": "code",
      "source": [
        "df_sub.head()"
      ],
      "metadata": {
        "colab": {
          "base_uri": "https://localhost:8080/",
          "height": 206
        },
        "id": "pBgB7nRZxOQh",
        "outputId": "9531ed72-a264-45bf-b86f-a6f7bc64fb49"
      },
      "execution_count": null,
      "outputs": [
        {
          "output_type": "execute_result",
          "data": {
            "text/plain": [
              "       car_id  Catboost_target  LGBM_target  Elastic_target  GB_target  \\\n",
              "0  P17494612l        44.269476    48.860750       48.650976  46.981685   \n",
              "1  N-1530212S        32.148753    36.022324       46.821449  39.983451   \n",
              "2  B-1154399t        32.534999    30.741058       39.139793  29.781080   \n",
              "3  F12725233R        34.120984    37.529150       42.544091  36.435767   \n",
              "4  l-1139189J        32.356600    31.277469       50.551689  33.011058   \n",
              "\n",
              "   RF_target  SVM_target  XGB_target  \n",
              "0  42.602648   37.363210   47.897663  \n",
              "1  33.254034   38.331765   33.488632  \n",
              "2  32.490699   32.297850   30.448099  \n",
              "3  34.760761   44.226032   35.530319  \n",
              "4  32.348427   42.158862   32.972980  "
            ],
            "text/html": [
              "\n",
              "  <div id=\"df-4e577e91-6061-490d-b244-30367422f07c\" class=\"colab-df-container\">\n",
              "    <div>\n",
              "<style scoped>\n",
              "    .dataframe tbody tr th:only-of-type {\n",
              "        vertical-align: middle;\n",
              "    }\n",
              "\n",
              "    .dataframe tbody tr th {\n",
              "        vertical-align: top;\n",
              "    }\n",
              "\n",
              "    .dataframe thead th {\n",
              "        text-align: right;\n",
              "    }\n",
              "</style>\n",
              "<table border=\"1\" class=\"dataframe\">\n",
              "  <thead>\n",
              "    <tr style=\"text-align: right;\">\n",
              "      <th></th>\n",
              "      <th>car_id</th>\n",
              "      <th>Catboost_target</th>\n",
              "      <th>LGBM_target</th>\n",
              "      <th>Elastic_target</th>\n",
              "      <th>GB_target</th>\n",
              "      <th>RF_target</th>\n",
              "      <th>SVM_target</th>\n",
              "      <th>XGB_target</th>\n",
              "    </tr>\n",
              "  </thead>\n",
              "  <tbody>\n",
              "    <tr>\n",
              "      <th>0</th>\n",
              "      <td>P17494612l</td>\n",
              "      <td>44.269476</td>\n",
              "      <td>48.860750</td>\n",
              "      <td>48.650976</td>\n",
              "      <td>46.981685</td>\n",
              "      <td>42.602648</td>\n",
              "      <td>37.363210</td>\n",
              "      <td>47.897663</td>\n",
              "    </tr>\n",
              "    <tr>\n",
              "      <th>1</th>\n",
              "      <td>N-1530212S</td>\n",
              "      <td>32.148753</td>\n",
              "      <td>36.022324</td>\n",
              "      <td>46.821449</td>\n",
              "      <td>39.983451</td>\n",
              "      <td>33.254034</td>\n",
              "      <td>38.331765</td>\n",
              "      <td>33.488632</td>\n",
              "    </tr>\n",
              "    <tr>\n",
              "      <th>2</th>\n",
              "      <td>B-1154399t</td>\n",
              "      <td>32.534999</td>\n",
              "      <td>30.741058</td>\n",
              "      <td>39.139793</td>\n",
              "      <td>29.781080</td>\n",
              "      <td>32.490699</td>\n",
              "      <td>32.297850</td>\n",
              "      <td>30.448099</td>\n",
              "    </tr>\n",
              "    <tr>\n",
              "      <th>3</th>\n",
              "      <td>F12725233R</td>\n",
              "      <td>34.120984</td>\n",
              "      <td>37.529150</td>\n",
              "      <td>42.544091</td>\n",
              "      <td>36.435767</td>\n",
              "      <td>34.760761</td>\n",
              "      <td>44.226032</td>\n",
              "      <td>35.530319</td>\n",
              "    </tr>\n",
              "    <tr>\n",
              "      <th>4</th>\n",
              "      <td>l-1139189J</td>\n",
              "      <td>32.356600</td>\n",
              "      <td>31.277469</td>\n",
              "      <td>50.551689</td>\n",
              "      <td>33.011058</td>\n",
              "      <td>32.348427</td>\n",
              "      <td>42.158862</td>\n",
              "      <td>32.972980</td>\n",
              "    </tr>\n",
              "  </tbody>\n",
              "</table>\n",
              "</div>\n",
              "    <div class=\"colab-df-buttons\">\n",
              "\n",
              "  <div class=\"colab-df-container\">\n",
              "    <button class=\"colab-df-convert\" onclick=\"convertToInteractive('df-4e577e91-6061-490d-b244-30367422f07c')\"\n",
              "            title=\"Convert this dataframe to an interactive table.\"\n",
              "            style=\"display:none;\">\n",
              "\n",
              "  <svg xmlns=\"http://www.w3.org/2000/svg\" height=\"24px\" viewBox=\"0 -960 960 960\">\n",
              "    <path d=\"M120-120v-720h720v720H120Zm60-500h600v-160H180v160Zm220 220h160v-160H400v160Zm0 220h160v-160H400v160ZM180-400h160v-160H180v160Zm440 0h160v-160H620v160ZM180-180h160v-160H180v160Zm440 0h160v-160H620v160Z\"/>\n",
              "  </svg>\n",
              "    </button>\n",
              "\n",
              "  <style>\n",
              "    .colab-df-container {\n",
              "      display:flex;\n",
              "      gap: 12px;\n",
              "    }\n",
              "\n",
              "    .colab-df-convert {\n",
              "      background-color: #E8F0FE;\n",
              "      border: none;\n",
              "      border-radius: 50%;\n",
              "      cursor: pointer;\n",
              "      display: none;\n",
              "      fill: #1967D2;\n",
              "      height: 32px;\n",
              "      padding: 0 0 0 0;\n",
              "      width: 32px;\n",
              "    }\n",
              "\n",
              "    .colab-df-convert:hover {\n",
              "      background-color: #E2EBFA;\n",
              "      box-shadow: 0px 1px 2px rgba(60, 64, 67, 0.3), 0px 1px 3px 1px rgba(60, 64, 67, 0.15);\n",
              "      fill: #174EA6;\n",
              "    }\n",
              "\n",
              "    .colab-df-buttons div {\n",
              "      margin-bottom: 4px;\n",
              "    }\n",
              "\n",
              "    [theme=dark] .colab-df-convert {\n",
              "      background-color: #3B4455;\n",
              "      fill: #D2E3FC;\n",
              "    }\n",
              "\n",
              "    [theme=dark] .colab-df-convert:hover {\n",
              "      background-color: #434B5C;\n",
              "      box-shadow: 0px 1px 3px 1px rgba(0, 0, 0, 0.15);\n",
              "      filter: drop-shadow(0px 1px 2px rgba(0, 0, 0, 0.3));\n",
              "      fill: #FFFFFF;\n",
              "    }\n",
              "  </style>\n",
              "\n",
              "    <script>\n",
              "      const buttonEl =\n",
              "        document.querySelector('#df-4e577e91-6061-490d-b244-30367422f07c button.colab-df-convert');\n",
              "      buttonEl.style.display =\n",
              "        google.colab.kernel.accessAllowed ? 'block' : 'none';\n",
              "\n",
              "      async function convertToInteractive(key) {\n",
              "        const element = document.querySelector('#df-4e577e91-6061-490d-b244-30367422f07c');\n",
              "        const dataTable =\n",
              "          await google.colab.kernel.invokeFunction('convertToInteractive',\n",
              "                                                    [key], {});\n",
              "        if (!dataTable) return;\n",
              "\n",
              "        const docLinkHtml = 'Like what you see? Visit the ' +\n",
              "          '<a target=\"_blank\" href=https://colab.research.google.com/notebooks/data_table.ipynb>data table notebook</a>'\n",
              "          + ' to learn more about interactive tables.';\n",
              "        element.innerHTML = '';\n",
              "        dataTable['output_type'] = 'display_data';\n",
              "        await google.colab.output.renderOutput(dataTable, element);\n",
              "        const docLink = document.createElement('div');\n",
              "        docLink.innerHTML = docLinkHtml;\n",
              "        element.appendChild(docLink);\n",
              "      }\n",
              "    </script>\n",
              "  </div>\n",
              "\n",
              "\n",
              "<div id=\"df-499ee0ea-1cb4-4796-84dc-a29077a52036\">\n",
              "  <button class=\"colab-df-quickchart\" onclick=\"quickchart('df-499ee0ea-1cb4-4796-84dc-a29077a52036')\"\n",
              "            title=\"Suggest charts.\"\n",
              "            style=\"display:none;\">\n",
              "\n",
              "<svg xmlns=\"http://www.w3.org/2000/svg\" height=\"24px\"viewBox=\"0 0 24 24\"\n",
              "     width=\"24px\">\n",
              "    <g>\n",
              "        <path d=\"M19 3H5c-1.1 0-2 .9-2 2v14c0 1.1.9 2 2 2h14c1.1 0 2-.9 2-2V5c0-1.1-.9-2-2-2zM9 17H7v-7h2v7zm4 0h-2V7h2v10zm4 0h-2v-4h2v4z\"/>\n",
              "    </g>\n",
              "</svg>\n",
              "  </button>\n",
              "\n",
              "<style>\n",
              "  .colab-df-quickchart {\n",
              "    background-color: #E8F0FE;\n",
              "    border: none;\n",
              "    border-radius: 50%;\n",
              "    cursor: pointer;\n",
              "    display: none;\n",
              "    fill: #1967D2;\n",
              "    height: 32px;\n",
              "    padding: 0 0 0 0;\n",
              "    width: 32px;\n",
              "  }\n",
              "\n",
              "  .colab-df-quickchart:hover {\n",
              "    background-color: #E2EBFA;\n",
              "    box-shadow: 0px 1px 2px rgba(60, 64, 67, 0.3), 0px 1px 3px 1px rgba(60, 64, 67, 0.15);\n",
              "    fill: #174EA6;\n",
              "  }\n",
              "\n",
              "  [theme=dark] .colab-df-quickchart {\n",
              "    background-color: #3B4455;\n",
              "    fill: #D2E3FC;\n",
              "  }\n",
              "\n",
              "  [theme=dark] .colab-df-quickchart:hover {\n",
              "    background-color: #434B5C;\n",
              "    box-shadow: 0px 1px 3px 1px rgba(0, 0, 0, 0.15);\n",
              "    filter: drop-shadow(0px 1px 2px rgba(0, 0, 0, 0.3));\n",
              "    fill: #FFFFFF;\n",
              "  }\n",
              "</style>\n",
              "\n",
              "  <script>\n",
              "    async function quickchart(key) {\n",
              "      const charts = await google.colab.kernel.invokeFunction(\n",
              "          'suggestCharts', [key], {});\n",
              "    }\n",
              "    (() => {\n",
              "      let quickchartButtonEl =\n",
              "        document.querySelector('#df-499ee0ea-1cb4-4796-84dc-a29077a52036 button');\n",
              "      quickchartButtonEl.style.display =\n",
              "        google.colab.kernel.accessAllowed ? 'block' : 'none';\n",
              "    })();\n",
              "  </script>\n",
              "</div>\n",
              "    </div>\n",
              "  </div>\n"
            ]
          },
          "metadata": {},
          "execution_count": 128
        }
      ]
    },
    {
      "cell_type": "markdown",
      "source": [
        "Средняя оценка результатов моделей после обучения в порядке убывания точности. Бустинги имеют лучшие результаты."
      ],
      "metadata": {
        "id": "wr5Ax8liT-DI"
      }
    },
    {
      "cell_type": "code",
      "source": [
        "mean_scores = {k: v for k, v in sorted(mean_scores.items(), key=lambda item: item[1])}\n",
        "mean_scores"
      ],
      "metadata": {
        "colab": {
          "base_uri": "https://localhost:8080/"
        },
        "id": "jS2FNxf37Vhw",
        "outputId": "653e16e9-5f9f-4b9b-a5f9-c0ee9f8814cd"
      },
      "execution_count": null,
      "outputs": [
        {
          "output_type": "execute_result",
          "data": {
            "text/plain": [
              "{'Catboost_score': 11.528727793270349,\n",
              " 'XGB_score': 11.597384,\n",
              " 'LGBM_score': 11.612262446913308,\n",
              " 'GB_score': 11.629129209414714,\n",
              " 'RF_score': 11.716113669683866,\n",
              " 'SVM_score': 12.771331905554307,\n",
              " 'Elastic_score': 14.548511696372435}"
            ]
          },
          "metadata": {},
          "execution_count": 129
        }
      ]
    },
    {
      "cell_type": "code",
      "source": [
        "sns.set_style(\"whitegrid\")\n",
        "\n",
        "mask = np.triu(np.ones_like(df_sub.corr(numeric_only=True), dtype=bool))\n",
        "\n",
        "heatmap = sns.heatmap(df_sub.corr(numeric_only=True).round(2),\n",
        "                      annot=True,\n",
        "                      square=True,\n",
        "                      cmap=\"BrBG\",\n",
        "                      cbar_kws={\"fraction\": 0.01},\n",
        "                      linewidth=1,\n",
        "                      mask=mask)\n",
        "\n",
        "heatmap.set_title(\"Матрица корреляций результатов моделей\", fontdict={\"fontsize\": 15}, pad=10);"
      ],
      "metadata": {
        "colab": {
          "base_uri": "https://localhost:8080/",
          "height": 742
        },
        "id": "qgpdx92Wytf3",
        "outputId": "d2cdf5a3-2f2b-4b83-9e7f-da8091fe8ddf"
      },
      "execution_count": null,
      "outputs": [
        {
          "output_type": "display_data",
          "data": {
            "text/plain": [
              "<Figure size 1000x700 with 2 Axes>"
            ],
            "image/png": "[encoded data removed]"
          },
          "metadata": {}
        }
      ]
    },
    {
      "cell_type": "markdown",
      "source": [
        "Бустинговые модели имеют высокую корреляцию между собой. Вероятно, потому что они и предсказывают целевую переменую наиболее точно. Но следует сблендить результаты этих моделей с принципиально другими."
      ],
      "metadata": {
        "id": "eXZPwUtbSzZH"
      }
    },
    {
      "cell_type": "markdown",
      "source": [
        "Обучим модели на одной и той же валидационной выборке."
      ],
      "metadata": {
        "id": "JGJWs4BhUQzb"
      }
    },
    {
      "cell_type": "code",
      "source": [
        "# разбиение на обучающую и валидационную выборки\n",
        "X_train, X_val, y_train, y_val = train_test_split(X, y, test_size=0.2, random_state=0)"
      ],
      "metadata": {
        "id": "qbu0bfwQMRfQ"
      },
      "execution_count": null,
      "outputs": []
    },
    {
      "cell_type": "code",
      "source": [
        "df_val = pd.DataFrame()\n",
        "df_val['target_val'] = y_val.values\n",
        "scores = {}\n",
        "\n",
        "for el in bst_mdls:\n",
        "   y_pred = bst_mdls[el].predict(X_val)\n",
        "   df_val[el] = y_pred\n",
        "   scores[el] = mean_squared_error(y_true=y_val, y_pred=y_pred, squared=False)"
      ],
      "metadata": {
        "id": "iCF3Fy6X4Ooy"
      },
      "execution_count": null,
      "outputs": []
    },
    {
      "cell_type": "code",
      "source": [
        "sns.set(rc={\"figure.figsize\":(10, 7)})\n",
        "sns.boxplot(data=df_val,whis=1,linewidth=3,orient=\"h\",palette=\"Set1\")"
      ],
      "metadata": {
        "colab": {
          "base_uri": "https://localhost:8080/",
          "height": 621
        },
        "id": "OL2QeFeMIma1",
        "outputId": "c28c8d86-83ea-48a8-9015-4e07ccea939f"
      },
      "execution_count": null,
      "outputs": [
        {
          "output_type": "execute_result",
          "data": {
            "text/plain": [
              "<Axes: >"
            ]
          },
          "metadata": {},
          "execution_count": 133
        },
        {
          "output_type": "display_data",
          "data": {
            "text/plain": [
              "<Figure size 1000x700 with 1 Axes>"
            ],
            "image/png": "[encoded data removed]"
          },
          "metadata": {}
        }
      ]
    },
    {
      "cell_type": "code",
      "source": [
        "# sns.displot(df_val, kind=\"hist\", aspect=2)"
      ],
      "metadata": {
        "id": "5jmK6gJrLq61"
      },
      "execution_count": null,
      "outputs": []
    },
    {
      "cell_type": "markdown",
      "source": [
        "По распределению можно предположить, что некоторые простые модели, например, Elastic, KNN (не попал в финальный вариант работы) очень хорошо предсказывает валидационную выборку. Но вероятно имеет место переобучение, т.к. во время обучения в optuna была утечка данных. Поэтому лучше ориентироваться на показатели RMSE по кросс-валидации на optuna."
      ],
      "metadata": {
        "id": "ml1OCjgnM_ru"
      }
    },
    {
      "cell_type": "markdown",
      "source": [
        "Видно, что модели Catboost и LGBM достаточно плохо предсказывают малые значения таргета. Вероятно этих значений не так много и модели не очень хорошо на них обучаются. Попытаемся скомпенсировать это добавив к нашим бустингам линейную модель. Для блендинга нам требуется взять 2 бустинга и одну модель не бустинг. Возьмём в наш набор для блендинга Catboost, LGBM и SVM."
      ],
      "metadata": {
        "id": "GV9KySkEsf3y"
      }
    },
    {
      "cell_type": "markdown",
      "source": [
        "# Блендинг"
      ],
      "metadata": {
        "id": "HzmxgGJwsben"
      }
    },
    {
      "cell_type": "markdown",
      "source": [
        "Попробуем подобрать веса для блендинга, исходя из поведения на валидационной выборке."
      ],
      "metadata": {
        "id": "QDiVpvnYf47m"
      }
    },
    {
      "cell_type": "code",
      "source": [
        "df_val.head()"
      ],
      "metadata": {
        "colab": {
          "base_uri": "https://localhost:8080/",
          "height": 206
        },
        "id": "nvkW8MHDUhFD",
        "outputId": "948b4c39-ead0-4630-83bb-552690fbcf51"
      },
      "execution_count": null,
      "outputs": [
        {
          "output_type": "execute_result",
          "data": {
            "text/plain": [
              "   target_val  Catboost_model  LGBM_model  Elastic_model   GB_model  \\\n",
              "0   35.531250       46.683696   46.472419      45.115550  48.727055   \n",
              "1   29.343750       31.417925   31.615200      44.618992  33.130172   \n",
              "2   41.375000       30.923593   32.283804      35.759284  34.168572   \n",
              "3   26.703125       33.872101   32.752787      30.389919  33.356304   \n",
              "4   33.281250       46.463045   45.090191      44.505353  44.665389   \n",
              "\n",
              "    RF_model  SVM_model  XGB_model  \n",
              "0  45.892647  42.867884  47.188889  \n",
              "1  31.833901  34.103194  32.815533  \n",
              "2  34.089744  31.644408  33.053764  \n",
              "3  33.890035  33.689247  33.057117  \n",
              "4  47.837180  44.605014  46.534046  "
            ],
            "text/html": [
              "\n",
              "  <div id=\"df-0a14d4c1-d8c9-4081-8125-9e7f5915afb4\" class=\"colab-df-container\">\n",
              "    <div>\n",
              "<style scoped>\n",
              "    .dataframe tbody tr th:only-of-type {\n",
              "        vertical-align: middle;\n",
              "    }\n",
              "\n",
              "    .dataframe tbody tr th {\n",
              "        vertical-align: top;\n",
              "    }\n",
              "\n",
              "    .dataframe thead th {\n",
              "        text-align: right;\n",
              "    }\n",
              "</style>\n",
              "<table border=\"1\" class=\"dataframe\">\n",
              "  <thead>\n",
              "    <tr style=\"text-align: right;\">\n",
              "      <th></th>\n",
              "      <th>target_val</th>\n",
              "      <th>Catboost_model</th>\n",
              "      <th>LGBM_model</th>\n",
              "      <th>Elastic_model</th>\n",
              "      <th>GB_model</th>\n",
              "      <th>RF_model</th>\n",
              "      <th>SVM_model</th>\n",
              "      <th>XGB_model</th>\n",
              "    </tr>\n",
              "  </thead>\n",
              "  <tbody>\n",
              "    <tr>\n",
              "      <th>0</th>\n",
              "      <td>35.531250</td>\n",
              "      <td>46.683696</td>\n",
              "      <td>46.472419</td>\n",
              "      <td>45.115550</td>\n",
              "      <td>48.727055</td>\n",
              "      <td>45.892647</td>\n",
              "      <td>42.867884</td>\n",
              "      <td>47.188889</td>\n",
              "    </tr>\n",
              "    <tr>\n",
              "      <th>1</th>\n",
              "      <td>29.343750</td>\n",
              "      <td>31.417925</td>\n",
              "      <td>31.615200</td>\n",
              "      <td>44.618992</td>\n",
              "      <td>33.130172</td>\n",
              "      <td>31.833901</td>\n",
              "      <td>34.103194</td>\n",
              "      <td>32.815533</td>\n",
              "    </tr>\n",
              "    <tr>\n",
              "      <th>2</th>\n",
              "      <td>41.375000</td>\n",
              "      <td>30.923593</td>\n",
              "      <td>32.283804</td>\n",
              "      <td>35.759284</td>\n",
              "      <td>34.168572</td>\n",
              "      <td>34.089744</td>\n",
              "      <td>31.644408</td>\n",
              "      <td>33.053764</td>\n",
              "    </tr>\n",
              "    <tr>\n",
              "      <th>3</th>\n",
              "      <td>26.703125</td>\n",
              "      <td>33.872101</td>\n",
              "      <td>32.752787</td>\n",
              "      <td>30.389919</td>\n",
              "      <td>33.356304</td>\n",
              "      <td>33.890035</td>\n",
              "      <td>33.689247</td>\n",
              "      <td>33.057117</td>\n",
              "    </tr>\n",
              "    <tr>\n",
              "      <th>4</th>\n",
              "      <td>33.281250</td>\n",
              "      <td>46.463045</td>\n",
              "      <td>45.090191</td>\n",
              "      <td>44.505353</td>\n",
              "      <td>44.665389</td>\n",
              "      <td>47.837180</td>\n",
              "      <td>44.605014</td>\n",
              "      <td>46.534046</td>\n",
              "    </tr>\n",
              "  </tbody>\n",
              "</table>\n",
              "</div>\n",
              "    <div class=\"colab-df-buttons\">\n",
              "\n",
              "  <div class=\"colab-df-container\">\n",
              "    <button class=\"colab-df-convert\" onclick=\"convertToInteractive('df-0a14d4c1-d8c9-4081-8125-9e7f5915afb4')\"\n",
              "            title=\"Convert this dataframe to an interactive table.\"\n",
              "            style=\"display:none;\">\n",
              "\n",
              "  <svg xmlns=\"http://www.w3.org/2000/svg\" height=\"24px\" viewBox=\"0 -960 960 960\">\n",
              "    <path d=\"M120-120v-720h720v720H120Zm60-500h600v-160H180v160Zm220 220h160v-160H400v160Zm0 220h160v-160H400v160ZM180-400h160v-160H180v160Zm440 0h160v-160H620v160ZM180-180h160v-160H180v160Zm440 0h160v-160H620v160Z\"/>\n",
              "  </svg>\n",
              "    </button>\n",
              "\n",
              "  <style>\n",
              "    .colab-df-container {\n",
              "      display:flex;\n",
              "      gap: 12px;\n",
              "    }\n",
              "\n",
              "    .colab-df-convert {\n",
              "      background-color: #E8F0FE;\n",
              "      border: none;\n",
              "      border-radius: 50%;\n",
              "      cursor: pointer;\n",
              "      display: none;\n",
              "      fill: #1967D2;\n",
              "      height: 32px;\n",
              "      padding: 0 0 0 0;\n",
              "      width: 32px;\n",
              "    }\n",
              "\n",
              "    .colab-df-convert:hover {\n",
              "      background-color: #E2EBFA;\n",
              "      box-shadow: 0px 1px 2px rgba(60, 64, 67, 0.3), 0px 1px 3px 1px rgba(60, 64, 67, 0.15);\n",
              "      fill: #174EA6;\n",
              "    }\n",
              "\n",
              "    .colab-df-buttons div {\n",
              "      margin-bottom: 4px;\n",
              "    }\n",
              "\n",
              "    [theme=dark] .colab-df-convert {\n",
              "      background-color: #3B4455;\n",
              "      fill: #D2E3FC;\n",
              "    }\n",
              "\n",
              "    [theme=dark] .colab-df-convert:hover {\n",
              "      background-color: #434B5C;\n",
              "      box-shadow: 0px 1px 3px 1px rgba(0, 0, 0, 0.15);\n",
              "      filter: drop-shadow(0px 1px 2px rgba(0, 0, 0, 0.3));\n",
              "      fill: #FFFFFF;\n",
              "    }\n",
              "  </style>\n",
              "\n",
              "    <script>\n",
              "      const buttonEl =\n",
              "        document.querySelector('#df-0a14d4c1-d8c9-4081-8125-9e7f5915afb4 button.colab-df-convert');\n",
              "      buttonEl.style.display =\n",
              "        google.colab.kernel.accessAllowed ? 'block' : 'none';\n",
              "\n",
              "      async function convertToInteractive(key) {\n",
              "        const element = document.querySelector('#df-0a14d4c1-d8c9-4081-8125-9e7f5915afb4');\n",
              "        const dataTable =\n",
              "          await google.colab.kernel.invokeFunction('convertToInteractive',\n",
              "                                                    [key], {});\n",
              "        if (!dataTable) return;\n",
              "\n",
              "        const docLinkHtml = 'Like what you see? Visit the ' +\n",
              "          '<a target=\"_blank\" href=https://colab.research.google.com/notebooks/data_table.ipynb>data table notebook</a>'\n",
              "          + ' to learn more about interactive tables.';\n",
              "        element.innerHTML = '';\n",
              "        dataTable['output_type'] = 'display_data';\n",
              "        await google.colab.output.renderOutput(dataTable, element);\n",
              "        const docLink = document.createElement('div');\n",
              "        docLink.innerHTML = docLinkHtml;\n",
              "        element.appendChild(docLink);\n",
              "      }\n",
              "    </script>\n",
              "  </div>\n",
              "\n",
              "\n",
              "<div id=\"df-e15d05bf-5bb4-4e53-8df3-e8978e47366d\">\n",
              "  <button class=\"colab-df-quickchart\" onclick=\"quickchart('df-e15d05bf-5bb4-4e53-8df3-e8978e47366d')\"\n",
              "            title=\"Suggest charts.\"\n",
              "            style=\"display:none;\">\n",
              "\n",
              "<svg xmlns=\"http://www.w3.org/2000/svg\" height=\"24px\"viewBox=\"0 0 24 24\"\n",
              "     width=\"24px\">\n",
              "    <g>\n",
              "        <path d=\"M19 3H5c-1.1 0-2 .9-2 2v14c0 1.1.9 2 2 2h14c1.1 0 2-.9 2-2V5c0-1.1-.9-2-2-2zM9 17H7v-7h2v7zm4 0h-2V7h2v10zm4 0h-2v-4h2v4z\"/>\n",
              "    </g>\n",
              "</svg>\n",
              "  </button>\n",
              "\n",
              "<style>\n",
              "  .colab-df-quickchart {\n",
              "    background-color: #E8F0FE;\n",
              "    border: none;\n",
              "    border-radius: 50%;\n",
              "    cursor: pointer;\n",
              "    display: none;\n",
              "    fill: #1967D2;\n",
              "    height: 32px;\n",
              "    padding: 0 0 0 0;\n",
              "    width: 32px;\n",
              "  }\n",
              "\n",
              "  .colab-df-quickchart:hover {\n",
              "    background-color: #E2EBFA;\n",
              "    box-shadow: 0px 1px 2px rgba(60, 64, 67, 0.3), 0px 1px 3px 1px rgba(60, 64, 67, 0.15);\n",
              "    fill: #174EA6;\n",
              "  }\n",
              "\n",
              "  [theme=dark] .colab-df-quickchart {\n",
              "    background-color: #3B4455;\n",
              "    fill: #D2E3FC;\n",
              "  }\n",
              "\n",
              "  [theme=dark] .colab-df-quickchart:hover {\n",
              "    background-color: #434B5C;\n",
              "    box-shadow: 0px 1px 3px 1px rgba(0, 0, 0, 0.15);\n",
              "    filter: drop-shadow(0px 1px 2px rgba(0, 0, 0, 0.3));\n",
              "    fill: #FFFFFF;\n",
              "  }\n",
              "</style>\n",
              "\n",
              "  <script>\n",
              "    async function quickchart(key) {\n",
              "      const charts = await google.colab.kernel.invokeFunction(\n",
              "          'suggestCharts', [key], {});\n",
              "    }\n",
              "    (() => {\n",
              "      let quickchartButtonEl =\n",
              "        document.querySelector('#df-e15d05bf-5bb4-4e53-8df3-e8978e47366d button');\n",
              "      quickchartButtonEl.style.display =\n",
              "        google.colab.kernel.accessAllowed ? 'block' : 'none';\n",
              "    })();\n",
              "  </script>\n",
              "</div>\n",
              "    </div>\n",
              "  </div>\n"
            ]
          },
          "metadata": {},
          "execution_count": 135
        }
      ]
    },
    {
      "cell_type": "code",
      "source": [
        "df_val_blending = df_val[['Catboost_model',\n",
        "                          'LGBM_model',\n",
        "                          'SVM_model',\n",
        "                          'target_val']]\n",
        "df_val_blending.head()"
      ],
      "metadata": {
        "colab": {
          "base_uri": "https://localhost:8080/",
          "height": 206
        },
        "id": "3wu1uTxaXIyL",
        "outputId": "374e612c-23a7-45ed-f802-b9918ad5f859"
      },
      "execution_count": null,
      "outputs": [
        {
          "output_type": "execute_result",
          "data": {
            "text/plain": [
              "   Catboost_model  LGBM_model  SVM_model  target_val\n",
              "0       46.683696   46.472419  42.867884   35.531250\n",
              "1       31.417925   31.615200  34.103194   29.343750\n",
              "2       30.923593   32.283804  31.644408   41.375000\n",
              "3       33.872101   32.752787  33.689247   26.703125\n",
              "4       46.463045   45.090191  44.605014   33.281250"
            ],
            "text/html": [
              "\n",
              "  <div id=\"df-e83d15bc-c086-4e61-a337-56705d0a6131\" class=\"colab-df-container\">\n",
              "    <div>\n",
              "<style scoped>\n",
              "    .dataframe tbody tr th:only-of-type {\n",
              "        vertical-align: middle;\n",
              "    }\n",
              "\n",
              "    .dataframe tbody tr th {\n",
              "        vertical-align: top;\n",
              "    }\n",
              "\n",
              "    .dataframe thead th {\n",
              "        text-align: right;\n",
              "    }\n",
              "</style>\n",
              "<table border=\"1\" class=\"dataframe\">\n",
              "  <thead>\n",
              "    <tr style=\"text-align: right;\">\n",
              "      <th></th>\n",
              "      <th>Catboost_model</th>\n",
              "      <th>LGBM_model</th>\n",
              "      <th>SVM_model</th>\n",
              "      <th>target_val</th>\n",
              "    </tr>\n",
              "  </thead>\n",
              "  <tbody>\n",
              "    <tr>\n",
              "      <th>0</th>\n",
              "      <td>46.683696</td>\n",
              "      <td>46.472419</td>\n",
              "      <td>42.867884</td>\n",
              "      <td>35.531250</td>\n",
              "    </tr>\n",
              "    <tr>\n",
              "      <th>1</th>\n",
              "      <td>31.417925</td>\n",
              "      <td>31.615200</td>\n",
              "      <td>34.103194</td>\n",
              "      <td>29.343750</td>\n",
              "    </tr>\n",
              "    <tr>\n",
              "      <th>2</th>\n",
              "      <td>30.923593</td>\n",
              "      <td>32.283804</td>\n",
              "      <td>31.644408</td>\n",
              "      <td>41.375000</td>\n",
              "    </tr>\n",
              "    <tr>\n",
              "      <th>3</th>\n",
              "      <td>33.872101</td>\n",
              "      <td>32.752787</td>\n",
              "      <td>33.689247</td>\n",
              "      <td>26.703125</td>\n",
              "    </tr>\n",
              "    <tr>\n",
              "      <th>4</th>\n",
              "      <td>46.463045</td>\n",
              "      <td>45.090191</td>\n",
              "      <td>44.605014</td>\n",
              "      <td>33.281250</td>\n",
              "    </tr>\n",
              "  </tbody>\n",
              "</table>\n",
              "</div>\n",
              "    <div class=\"colab-df-buttons\">\n",
              "\n",
              "  <div class=\"colab-df-container\">\n",
              "    <button class=\"colab-df-convert\" onclick=\"convertToInteractive('df-e83d15bc-c086-4e61-a337-56705d0a6131')\"\n",
              "            title=\"Convert this dataframe to an interactive table.\"\n",
              "            style=\"display:none;\">\n",
              "\n",
              "  <svg xmlns=\"http://www.w3.org/2000/svg\" height=\"24px\" viewBox=\"0 -960 960 960\">\n",
              "    <path d=\"M120-120v-720h720v720H120Zm60-500h600v-160H180v160Zm220 220h160v-160H400v160Zm0 220h160v-160H400v160ZM180-400h160v-160H180v160Zm440 0h160v-160H620v160ZM180-180h160v-160H180v160Zm440 0h160v-160H620v160Z\"/>\n",
              "  </svg>\n",
              "    </button>\n",
              "\n",
              "  <style>\n",
              "    .colab-df-container {\n",
              "      display:flex;\n",
              "      gap: 12px;\n",
              "    }\n",
              "\n",
              "    .colab-df-convert {\n",
              "      background-color: #E8F0FE;\n",
              "      border: none;\n",
              "      border-radius: 50%;\n",
              "      cursor: pointer;\n",
              "      display: none;\n",
              "      fill: #1967D2;\n",
              "      height: 32px;\n",
              "      padding: 0 0 0 0;\n",
              "      width: 32px;\n",
              "    }\n",
              "\n",
              "    .colab-df-convert:hover {\n",
              "      background-color: #E2EBFA;\n",
              "      box-shadow: 0px 1px 2px rgba(60, 64, 67, 0.3), 0px 1px 3px 1px rgba(60, 64, 67, 0.15);\n",
              "      fill: #174EA6;\n",
              "    }\n",
              "\n",
              "    .colab-df-buttons div {\n",
              "      margin-bottom: 4px;\n",
              "    }\n",
              "\n",
              "    [theme=dark] .colab-df-convert {\n",
              "      background-color: #3B4455;\n",
              "      fill: #D2E3FC;\n",
              "    }\n",
              "\n",
              "    [theme=dark] .colab-df-convert:hover {\n",
              "      background-color: #434B5C;\n",
              "      box-shadow: 0px 1px 3px 1px rgba(0, 0, 0, 0.15);\n",
              "      filter: drop-shadow(0px 1px 2px rgba(0, 0, 0, 0.3));\n",
              "      fill: #FFFFFF;\n",
              "    }\n",
              "  </style>\n",
              "\n",
              "    <script>\n",
              "      const buttonEl =\n",
              "        document.querySelector('#df-e83d15bc-c086-4e61-a337-56705d0a6131 button.colab-df-convert');\n",
              "      buttonEl.style.display =\n",
              "        google.colab.kernel.accessAllowed ? 'block' : 'none';\n",
              "\n",
              "      async function convertToInteractive(key) {\n",
              "        const element = document.querySelector('#df-e83d15bc-c086-4e61-a337-56705d0a6131');\n",
              "        const dataTable =\n",
              "          await google.colab.kernel.invokeFunction('convertToInteractive',\n",
              "                                                    [key], {});\n",
              "        if (!dataTable) return;\n",
              "\n",
              "        const docLinkHtml = 'Like what you see? Visit the ' +\n",
              "          '<a target=\"_blank\" href=https://colab.research.google.com/notebooks/data_table.ipynb>data table notebook</a>'\n",
              "          + ' to learn more about interactive tables.';\n",
              "        element.innerHTML = '';\n",
              "        dataTable['output_type'] = 'display_data';\n",
              "        await google.colab.output.renderOutput(dataTable, element);\n",
              "        const docLink = document.createElement('div');\n",
              "        docLink.innerHTML = docLinkHtml;\n",
              "        element.appendChild(docLink);\n",
              "      }\n",
              "    </script>\n",
              "  </div>\n",
              "\n",
              "\n",
              "<div id=\"df-b048949a-5ef0-4908-857b-f34d610e2e3f\">\n",
              "  <button class=\"colab-df-quickchart\" onclick=\"quickchart('df-b048949a-5ef0-4908-857b-f34d610e2e3f')\"\n",
              "            title=\"Suggest charts.\"\n",
              "            style=\"display:none;\">\n",
              "\n",
              "<svg xmlns=\"http://www.w3.org/2000/svg\" height=\"24px\"viewBox=\"0 0 24 24\"\n",
              "     width=\"24px\">\n",
              "    <g>\n",
              "        <path d=\"M19 3H5c-1.1 0-2 .9-2 2v14c0 1.1.9 2 2 2h14c1.1 0 2-.9 2-2V5c0-1.1-.9-2-2-2zM9 17H7v-7h2v7zm4 0h-2V7h2v10zm4 0h-2v-4h2v4z\"/>\n",
              "    </g>\n",
              "</svg>\n",
              "  </button>\n",
              "\n",
              "<style>\n",
              "  .colab-df-quickchart {\n",
              "    background-color: #E8F0FE;\n",
              "    border: none;\n",
              "    border-radius: 50%;\n",
              "    cursor: pointer;\n",
              "    display: none;\n",
              "    fill: #1967D2;\n",
              "    height: 32px;\n",
              "    padding: 0 0 0 0;\n",
              "    width: 32px;\n",
              "  }\n",
              "\n",
              "  .colab-df-quickchart:hover {\n",
              "    background-color: #E2EBFA;\n",
              "    box-shadow: 0px 1px 2px rgba(60, 64, 67, 0.3), 0px 1px 3px 1px rgba(60, 64, 67, 0.15);\n",
              "    fill: #174EA6;\n",
              "  }\n",
              "\n",
              "  [theme=dark] .colab-df-quickchart {\n",
              "    background-color: #3B4455;\n",
              "    fill: #D2E3FC;\n",
              "  }\n",
              "\n",
              "  [theme=dark] .colab-df-quickchart:hover {\n",
              "    background-color: #434B5C;\n",
              "    box-shadow: 0px 1px 3px 1px rgba(0, 0, 0, 0.15);\n",
              "    filter: drop-shadow(0px 1px 2px rgba(0, 0, 0, 0.3));\n",
              "    fill: #FFFFFF;\n",
              "  }\n",
              "</style>\n",
              "\n",
              "  <script>\n",
              "    async function quickchart(key) {\n",
              "      const charts = await google.colab.kernel.invokeFunction(\n",
              "          'suggestCharts', [key], {});\n",
              "    }\n",
              "    (() => {\n",
              "      let quickchartButtonEl =\n",
              "        document.querySelector('#df-b048949a-5ef0-4908-857b-f34d610e2e3f button');\n",
              "      quickchartButtonEl.style.display =\n",
              "        google.colab.kernel.accessAllowed ? 'block' : 'none';\n",
              "    })();\n",
              "  </script>\n",
              "</div>\n",
              "    </div>\n",
              "  </div>\n"
            ]
          },
          "metadata": {},
          "execution_count": 136
        }
      ]
    },
    {
      "cell_type": "code",
      "source": [
        "scores_mdls_chosen = {}\n",
        "for i in range(len(df_val_blending.columns)):\n",
        "    _ = re.sub(r'_model', '_score', df_val_blending.columns[i])\n",
        "    if _ in mean_scores:\n",
        "        scores_mdls_chosen.update({_: mean_scores[_]})\n",
        "\n",
        "scores_mdls_chosen"
      ],
      "metadata": {
        "colab": {
          "base_uri": "https://localhost:8080/"
        },
        "id": "ug2gcVlffUOZ",
        "outputId": "e2002aa2-33f6-4278-8675-489f40982c97"
      },
      "execution_count": null,
      "outputs": [
        {
          "output_type": "execute_result",
          "data": {
            "text/plain": [
              "{'Catboost_score': 11.528727793270349,\n",
              " 'LGBM_score': 11.612262446913308,\n",
              " 'SVM_score': 12.771331905554307}"
            ]
          },
          "metadata": {},
          "execution_count": 137
        }
      ]
    },
    {
      "cell_type": "markdown",
      "source": [
        "Бустинги дают нам лучшие значения метрики. И, кроме того, эти значения метрики достаточно близки."
      ],
      "metadata": {
        "id": "Up0JtwF7e5tn"
      }
    },
    {
      "cell_type": "code",
      "source": [
        "# высчитаем веса для результатов модели пропорционально метрике RMSE\n",
        "scores = 1 / np.array(list(scores_mdls_chosen.values()))\n",
        "all_sum = np.sum(scores)\n",
        "weights_ = scores / all_sum\n",
        "# weights_\n",
        "\n",
        "weights = {}\n",
        "for f, b in zip(scores_mdls_chosen, weights_):\n",
        "    weights.update({f: b})\n",
        "print(weights)"
      ],
      "metadata": {
        "colab": {
          "base_uri": "https://localhost:8080/"
        },
        "id": "gO3Lg2rmgXBz",
        "outputId": "a572c26c-ea56-4992-8372-7202e774c8fd"
      },
      "execution_count": null,
      "outputs": [
        {
          "output_type": "stream",
          "name": "stdout",
          "text": [
            "{'Catboost_score': 0.3453623046141505, 'LGBM_score': 0.34287788604118363, 'SVM_score': 0.31175980934466574}\n"
          ]
        }
      ]
    },
    {
      "cell_type": "markdown",
      "source": [
        "Можем высчитать коэффициенты для блендинга автоматически, пропрорционально усреднённым по фолдам метрикам. Но мне это давало результат хуже, чем выставление вручную.\n",
        "\n",
        "Веса, которые были высчитаны, исходя из средних rmse, достаточно близки. Рассмотрим есть ли другой вариант для решения.\n",
        "\n",
        "Предположим, что хотим зафиксировать одинаковый вклад в прогноз от бустингов. И тогда найдём оптимальные веса для модели SVM."
      ],
      "metadata": {
        "id": "iNBUjnD0jTs6"
      }
    },
    {
      "cell_type": "code",
      "source": [
        "lst = [x / 100.0 for x in range(1, 30, 1)]\n",
        "\n",
        "scores = []\n",
        "for w in lst:\n",
        "    n = 1 - w\n",
        "    y_pred = df_val_blending['Catboost_model'] * (n/2) +  df_val_blending['LGBM_model'] * (n/2) + df_val_blending['SVM_model'] * w\n",
        "    scores.append(mean_squared_error(y_true=df_val_blending['target_val'].values, y_pred=y_pred, squared=False))\n",
        "\n",
        "min = lst[np.argmin(scores)]\n",
        "print(min)"
      ],
      "metadata": {
        "id": "tLFTcF7KgjS1",
        "colab": {
          "base_uri": "https://localhost:8080/"
        },
        "outputId": "a8f5d6d0-aa38-4735-f00f-a731cd41d355"
      },
      "execution_count": null,
      "outputs": [
        {
          "output_type": "stream",
          "name": "stdout",
          "text": [
            "0.13\n"
          ]
        }
      ]
    },
    {
      "cell_type": "code",
      "source": [
        "plt.figure(figsize=(7, 5))\n",
        "plt.plot(lst, scores)\n",
        "plt.axvline(min, c='r')\n",
        "plt.show()"
      ],
      "metadata": {
        "colab": {
          "base_uri": "https://localhost:8080/",
          "height": 450
        },
        "id": "z3N87YLmDCZf",
        "outputId": "5cbed487-17d7-47af-a744-eaa2754c3848"
      },
      "execution_count": null,
      "outputs": [
        {
          "output_type": "display_data",
          "data": {
            "text/plain": [
              "<Figure size 700x500 with 1 Axes>"
            ],
            "image/png": "[encoded data removed]"
          },
          "metadata": {}
        }
      ]
    },
    {
      "cell_type": "markdown",
      "source": [
        "Важно отметить, что всё таки полноценно зафиксировать перебор параметров optuna не удалось. (В документации optuna сказано, что параллельность вычислений не позволяет этого сделать. И необходимо выполнять вычисления последовательно).  Поэтому при разных запусках ноутбука возможны разные варианты минимума. (В моих запусках наблюдал от 0.01 до 0.23). В любом случае, бустинги перетягивают на себя качество модели. И использовать веса, пропорциональные средним метрикам - нецелесообразно."
      ],
      "metadata": {
        "id": "bjhYD-PFeRP2"
      }
    },
    {
      "cell_type": "code",
      "execution_count": null,
      "metadata": {
        "id": "A8K4huij1AR8"
      },
      "outputs": [],
      "source": [
        "df_sub_blending = df_sub[['car_id',\n",
        "                          'Catboost_target',\n",
        "                          'LGBM_target',\n",
        "                          'SVM_target']]"
      ]
    },
    {
      "cell_type": "code",
      "execution_count": null,
      "metadata": {
        "id": "xoNb1saz5CCl",
        "colab": {
          "base_uri": "https://localhost:8080/",
          "height": 206
        },
        "outputId": "69db67c4-f815-46b3-ec89-2255655d9289"
      },
      "outputs": [
        {
          "output_type": "execute_result",
          "data": {
            "text/plain": [
              "       car_id  Catboost_target  LGBM_target  SVM_target  target_reg\n",
              "0  P17494612l        44.269476    48.860750   37.363210   45.368866\n",
              "1  N-1530212S        32.148753    36.022324   38.331765   34.637548\n",
              "2  B-1154399t        32.534999    30.741058   32.297850   31.723805\n",
              "3  F12725233R        34.120984    37.529150   44.226032   36.917192\n",
              "4  l-1139189J        32.356600    31.277469   42.158862   33.161472"
            ],
            "text/html": [
              "\n",
              "  <div id=\"df-86159cb2-2a8c-4afc-8024-51d57f80a872\" class=\"colab-df-container\">\n",
              "    <div>\n",
              "<style scoped>\n",
              "    .dataframe tbody tr th:only-of-type {\n",
              "        vertical-align: middle;\n",
              "    }\n",
              "\n",
              "    .dataframe tbody tr th {\n",
              "        vertical-align: top;\n",
              "    }\n",
              "\n",
              "    .dataframe thead th {\n",
              "        text-align: right;\n",
              "    }\n",
              "</style>\n",
              "<table border=\"1\" class=\"dataframe\">\n",
              "  <thead>\n",
              "    <tr style=\"text-align: right;\">\n",
              "      <th></th>\n",
              "      <th>car_id</th>\n",
              "      <th>Catboost_target</th>\n",
              "      <th>LGBM_target</th>\n",
              "      <th>SVM_target</th>\n",
              "      <th>target_reg</th>\n",
              "    </tr>\n",
              "  </thead>\n",
              "  <tbody>\n",
              "    <tr>\n",
              "      <th>0</th>\n",
              "      <td>P17494612l</td>\n",
              "      <td>44.269476</td>\n",
              "      <td>48.860750</td>\n",
              "      <td>37.363210</td>\n",
              "      <td>45.368866</td>\n",
              "    </tr>\n",
              "    <tr>\n",
              "      <th>1</th>\n",
              "      <td>N-1530212S</td>\n",
              "      <td>32.148753</td>\n",
              "      <td>36.022324</td>\n",
              "      <td>38.331765</td>\n",
              "      <td>34.637548</td>\n",
              "    </tr>\n",
              "    <tr>\n",
              "      <th>2</th>\n",
              "      <td>B-1154399t</td>\n",
              "      <td>32.534999</td>\n",
              "      <td>30.741058</td>\n",
              "      <td>32.297850</td>\n",
              "      <td>31.723805</td>\n",
              "    </tr>\n",
              "    <tr>\n",
              "      <th>3</th>\n",
              "      <td>F12725233R</td>\n",
              "      <td>34.120984</td>\n",
              "      <td>37.529150</td>\n",
              "      <td>44.226032</td>\n",
              "      <td>36.917192</td>\n",
              "    </tr>\n",
              "    <tr>\n",
              "      <th>4</th>\n",
              "      <td>l-1139189J</td>\n",
              "      <td>32.356600</td>\n",
              "      <td>31.277469</td>\n",
              "      <td>42.158862</td>\n",
              "      <td>33.161472</td>\n",
              "    </tr>\n",
              "  </tbody>\n",
              "</table>\n",
              "</div>\n",
              "    <div class=\"colab-df-buttons\">\n",
              "\n",
              "  <div class=\"colab-df-container\">\n",
              "    <button class=\"colab-df-convert\" onclick=\"convertToInteractive('df-86159cb2-2a8c-4afc-8024-51d57f80a872')\"\n",
              "            title=\"Convert this dataframe to an interactive table.\"\n",
              "            style=\"display:none;\">\n",
              "\n",
              "  <svg xmlns=\"http://www.w3.org/2000/svg\" height=\"24px\" viewBox=\"0 -960 960 960\">\n",
              "    <path d=\"M120-120v-720h720v720H120Zm60-500h600v-160H180v160Zm220 220h160v-160H400v160Zm0 220h160v-160H400v160ZM180-400h160v-160H180v160Zm440 0h160v-160H620v160ZM180-180h160v-160H180v160Zm440 0h160v-160H620v160Z\"/>\n",
              "  </svg>\n",
              "    </button>\n",
              "\n",
              "  <style>\n",
              "    .colab-df-container {\n",
              "      display:flex;\n",
              "      gap: 12px;\n",
              "    }\n",
              "\n",
              "    .colab-df-convert {\n",
              "      background-color: #E8F0FE;\n",
              "      border: none;\n",
              "      border-radius: 50%;\n",
              "      cursor: pointer;\n",
              "      display: none;\n",
              "      fill: #1967D2;\n",
              "      height: 32px;\n",
              "      padding: 0 0 0 0;\n",
              "      width: 32px;\n",
              "    }\n",
              "\n",
              "    .colab-df-convert:hover {\n",
              "      background-color: #E2EBFA;\n",
              "      box-shadow: 0px 1px 2px rgba(60, 64, 67, 0.3), 0px 1px 3px 1px rgba(60, 64, 67, 0.15);\n",
              "      fill: #174EA6;\n",
              "    }\n",
              "\n",
              "    .colab-df-buttons div {\n",
              "      margin-bottom: 4px;\n",
              "    }\n",
              "\n",
              "    [theme=dark] .colab-df-convert {\n",
              "      background-color: #3B4455;\n",
              "      fill: #D2E3FC;\n",
              "    }\n",
              "\n",
              "    [theme=dark] .colab-df-convert:hover {\n",
              "      background-color: #434B5C;\n",
              "      box-shadow: 0px 1px 3px 1px rgba(0, 0, 0, 0.15);\n",
              "      filter: drop-shadow(0px 1px 2px rgba(0, 0, 0, 0.3));\n",
              "      fill: #FFFFFF;\n",
              "    }\n",
              "  </style>\n",
              "\n",
              "    <script>\n",
              "      const buttonEl =\n",
              "        document.querySelector('#df-86159cb2-2a8c-4afc-8024-51d57f80a872 button.colab-df-convert');\n",
              "      buttonEl.style.display =\n",
              "        google.colab.kernel.accessAllowed ? 'block' : 'none';\n",
              "\n",
              "      async function convertToInteractive(key) {\n",
              "        const element = document.querySelector('#df-86159cb2-2a8c-4afc-8024-51d57f80a872');\n",
              "        const dataTable =\n",
              "          await google.colab.kernel.invokeFunction('convertToInteractive',\n",
              "                                                    [key], {});\n",
              "        if (!dataTable) return;\n",
              "\n",
              "        const docLinkHtml = 'Like what you see? Visit the ' +\n",
              "          '<a target=\"_blank\" href=https://colab.research.google.com/notebooks/data_table.ipynb>data table notebook</a>'\n",
              "          + ' to learn more about interactive tables.';\n",
              "        element.innerHTML = '';\n",
              "        dataTable['output_type'] = 'display_data';\n",
              "        await google.colab.output.renderOutput(dataTable, element);\n",
              "        const docLink = document.createElement('div');\n",
              "        docLink.innerHTML = docLinkHtml;\n",
              "        element.appendChild(docLink);\n",
              "      }\n",
              "    </script>\n",
              "  </div>\n",
              "\n",
              "\n",
              "<div id=\"df-a591478f-0a5a-4715-ac1b-b81de97e9be1\">\n",
              "  <button class=\"colab-df-quickchart\" onclick=\"quickchart('df-a591478f-0a5a-4715-ac1b-b81de97e9be1')\"\n",
              "            title=\"Suggest charts.\"\n",
              "            style=\"display:none;\">\n",
              "\n",
              "<svg xmlns=\"http://www.w3.org/2000/svg\" height=\"24px\"viewBox=\"0 0 24 24\"\n",
              "     width=\"24px\">\n",
              "    <g>\n",
              "        <path d=\"M19 3H5c-1.1 0-2 .9-2 2v14c0 1.1.9 2 2 2h14c1.1 0 2-.9 2-2V5c0-1.1-.9-2-2-2zM9 17H7v-7h2v7zm4 0h-2V7h2v10zm4 0h-2v-4h2v4z\"/>\n",
              "    </g>\n",
              "</svg>\n",
              "  </button>\n",
              "\n",
              "<style>\n",
              "  .colab-df-quickchart {\n",
              "    background-color: #E8F0FE;\n",
              "    border: none;\n",
              "    border-radius: 50%;\n",
              "    cursor: pointer;\n",
              "    display: none;\n",
              "    fill: #1967D2;\n",
              "    height: 32px;\n",
              "    padding: 0 0 0 0;\n",
              "    width: 32px;\n",
              "  }\n",
              "\n",
              "  .colab-df-quickchart:hover {\n",
              "    background-color: #E2EBFA;\n",
              "    box-shadow: 0px 1px 2px rgba(60, 64, 67, 0.3), 0px 1px 3px 1px rgba(60, 64, 67, 0.15);\n",
              "    fill: #174EA6;\n",
              "  }\n",
              "\n",
              "  [theme=dark] .colab-df-quickchart {\n",
              "    background-color: #3B4455;\n",
              "    fill: #D2E3FC;\n",
              "  }\n",
              "\n",
              "  [theme=dark] .colab-df-quickchart:hover {\n",
              "    background-color: #434B5C;\n",
              "    box-shadow: 0px 1px 3px 1px rgba(0, 0, 0, 0.15);\n",
              "    filter: drop-shadow(0px 1px 2px rgba(0, 0, 0, 0.3));\n",
              "    fill: #FFFFFF;\n",
              "  }\n",
              "</style>\n",
              "\n",
              "  <script>\n",
              "    async function quickchart(key) {\n",
              "      const charts = await google.colab.kernel.invokeFunction(\n",
              "          'suggestCharts', [key], {});\n",
              "    }\n",
              "    (() => {\n",
              "      let quickchartButtonEl =\n",
              "        document.querySelector('#df-a591478f-0a5a-4715-ac1b-b81de97e9be1 button');\n",
              "      quickchartButtonEl.style.display =\n",
              "        google.colab.kernel.accessAllowed ? 'block' : 'none';\n",
              "    })();\n",
              "  </script>\n",
              "</div>\n",
              "    </div>\n",
              "  </div>\n"
            ]
          },
          "metadata": {},
          "execution_count": 150
        }
      ],
      "source": [
        "# вариант выставления весов вручную\n",
        "# df_sub_blending['target_reg'] = df_sub_blending['Catboost_target'] * 0.445 + \\\n",
        "#      df_sub_blending['LGBM_target'] * 0.445 + df_sub_blending['SVM_target'] * 0.11\n",
        "# df_sub_blending.head()\n",
        "\n",
        "# выставление весов пропроционально средней метрике\n",
        "# df_sub_blending['target_reg'] = df_sub_blending['Catboost_target'] * weights['Catboost_score'] + \\\n",
        "#      df_sub_blending['LGBM_target'] * weights['LGBM_score'] + df_sub_blending['SVM_target'] * weights['SVM_score']\n",
        "# df_sub_blending.head()\n",
        "\n",
        "# выставление весов исходя из оптимального минимума, при одинаковом вкладе бустингов\n",
        "df_sub_blending['target_reg'] = df_sub_blending['Catboost_target'] * ((1 - min) / 2)+ \\\n",
        "     df_sub_blending['LGBM_target'] * ((1 - min) / 2) + df_sub_blending['SVM_target'] * min\n",
        "df_sub_blending.head()"
      ]
    },
    {
      "cell_type": "code",
      "source": [
        "# получаем предсказания от блендинга\n",
        "df_sub_blending = df_sub_blending[['car_id', 'target_reg']]\n",
        "df_sub_blending.to_csv('result_0.csv', index=False)"
      ],
      "metadata": {
        "id": "Ig1o_RgipiI1"
      },
      "execution_count": null,
      "outputs": []
    },
    {
      "cell_type": "markdown",
      "source": [
        "**На тесте: RMSE вашего решения 11.9. Нужно не более 11.85**"
      ],
      "metadata": {
        "id": "eCnvBH1GJxzW"
      }
    },
    {
      "cell_type": "markdown",
      "metadata": {
        "id": "r9bQ-G0fmEqt"
      },
      "source": [
        "# Стекинг"
      ]
    },
    {
      "cell_type": "markdown",
      "source": [
        "К сожалению, в моём варианте исполнения pystack не хотел напрямую работать с моделями, которые были сформированы. Необходимо было немного по-другому обрабатывать входные данные (+ для работы с библиотекой необходимо было корректировать строки, связанные с joblib). Воспользуемся стандартным sklearn стекингом."
      ],
      "metadata": {
        "id": "AClSD1Yb3QIq"
      }
    },
    {
      "cell_type": "markdown",
      "source": [
        "Для стекинга возьмём 2 бустинга XGB и Gradient."
      ],
      "metadata": {
        "id": "Pl48ajbFqmUY"
      }
    },
    {
      "cell_type": "code",
      "source": [
        "# список базовых моделей\n",
        "estimators = [\n",
        "    (\"RF\", bst_mdls['RF_model']),\n",
        "    (\"Gradient\", bst_mdls['GB_model']),\n",
        "    (\"XGBoost\", bst_mdls['XGB_model']),]\n",
        "\n",
        "meta_model = StackingRegressor(estimators=estimators,\n",
        "                               final_estimator=ElasticNet(max_iter=704,\n",
        "                               l1_ratio=0.23,\n",
        "                               alpha=0.004),\n",
        "                               n_jobs=-1,\n",
        "                               verbose=False)\n",
        "\n",
        "stacking_regressor = meta_model\n",
        "stacking_regressor.fit(X, y)"
      ],
      "metadata": {
        "id": "NAs_kmEP43JV",
        "colab": {
          "base_uri": "https://localhost:8080/",
          "height": 392
        },
        "outputId": "fb875f2d-a6a3-4ec4-f436-c3bc49ba99da"
      },
      "execution_count": null,
      "outputs": [
        {
          "output_type": "execute_result",
          "data": {
            "text/plain": [
              "StackingRegressor(estimators=[('RF',\n",
              "                               TransformedTargetRegressor(regressor=Pipeline(steps=[('feature_preprocessor',\n",
              "                                                                                     ColumnTransformer(transformers=[('num',\n",
              "                                                                                                                      Pipeline(steps=[('imputer',\n",
              "                                                                                                                                       SimpleImputer(strategy='median')),\n",
              "                                                                                                                                      ('scaler',\n",
              "                                                                                                                                       StandardScaler())]),\n",
              "                                                                                                                      ['car_rating',\n",
              "                                                                                                                       'year_to_start',\n",
              "                                                                                                                       'riders',\n",
              "                                                                                                                       'year_to_work',\n",
              "                                                                                                                       'mean_rating',\n",
              "                                                                                                                       'distance_sum',\n",
              "                                                                                                                       'rating_min',\n",
              "                                                                                                                       'speed_max'...\n",
              "                                                                                                  lambda=9,\n",
              "                                                                                                  learning_rate=None,\n",
              "                                                                                                  max_bin=340,\n",
              "                                                                                                  max_cat_threshold=None,\n",
              "                                                                                                  max_cat_to_onehot=None,\n",
              "                                                                                                  max_delta_step=None,\n",
              "                                                                                                  max_depth=4,\n",
              "                                                                                                  max_leaves=10,\n",
              "                                                                                                  min_child_weight=11.75,\n",
              "                                                                                                  missing=nan,\n",
              "                                                                                                  monotone_constraints=None,\n",
              "                                                                                                  n_estimators=100,\n",
              "                                                                                                  n_jobs=-1, ...))]),\n",
              "                                                          transformer=StandardScaler()))],\n",
              "                  final_estimator=ElasticNet(alpha=0.004, l1_ratio=0.23,\n",
              "                                             max_iter=704),\n",
              "                  n_jobs=-1, verbose=False)"
            ],
            "text/html": [
              "<style>#sk-container-id-3 {color: black;background-color: white;}#sk-container-id-3 pre{padding: 0;}#sk-container-id-3 div.sk-toggleable {background-color: white;}#sk-container-id-3 label.sk-toggleable__label {cursor: pointer;display: block;width: 100%;margin-bottom: 0;padding: 0.3em;box-sizing: border-box;text-align: center;}#sk-container-id-3 label.sk-toggleable__label-arrow:before {content: \"▸\";float: left;margin-right: 0.25em;color: #696969;}#sk-container-id-3 label.sk-toggleable__label-arrow:hover:before {color: black;}#sk-container-id-3 div.sk-estimator:hover label.sk-toggleable__label-arrow:before {color: black;}#sk-container-id-3 div.sk-toggleable__content {max-height: 0;max-width: 0;overflow: hidden;text-align: left;background-color: #f0f8ff;}#sk-container-id-3 div.sk-toggleable__content pre {margin: 0.2em;color: black;border-radius: 0.25em;background-color: #f0f8ff;}#sk-container-id-3 input.sk-toggleable__control:checked~div.sk-toggleable__content {max-height: 200px;max-width: 100%;overflow: auto;}#sk-container-id-3 input.sk-toggleable__control:checked~label.sk-toggleable__label-arrow:before {content: \"▾\";}#sk-container-id-3 div.sk-estimator input.sk-toggleable__control:checked~label.sk-toggleable__label {background-color: #d4ebff;}#sk-container-id-3 div.sk-label input.sk-toggleable__control:checked~label.sk-toggleable__label {background-color: #d4ebff;}#sk-container-id-3 input.sk-hidden--visually {border: 0;clip: rect(1px 1px 1px 1px);clip: rect(1px, 1px, 1px, 1px);height: 1px;margin: -1px;overflow: hidden;padding: 0;position: absolute;width: 1px;}#sk-container-id-3 div.sk-estimator {font-family: monospace;background-color: #f0f8ff;border: 1px dotted black;border-radius: 0.25em;box-sizing: border-box;margin-bottom: 0.5em;}#sk-container-id-3 div.sk-estimator:hover {background-color: #d4ebff;}#sk-container-id-3 div.sk-parallel-item::after {content: \"\";width: 100%;border-bottom: 1px solid gray;flex-grow: 1;}#sk-container-id-3 div.sk-label:hover label.sk-toggleable__label {background-color: #d4ebff;}#sk-container-id-3 div.sk-serial::before {content: \"\";position: absolute;border-left: 1px solid gray;box-sizing: border-box;top: 0;bottom: 0;left: 50%;z-index: 0;}#sk-container-id-3 div.sk-serial {display: flex;flex-direction: column;align-items: center;background-color: white;padding-right: 0.2em;padding-left: 0.2em;position: relative;}#sk-container-id-3 div.sk-item {position: relative;z-index: 1;}#sk-container-id-3 div.sk-parallel {display: flex;align-items: stretch;justify-content: center;background-color: white;position: relative;}#sk-container-id-3 div.sk-item::before, #sk-container-id-3 div.sk-parallel-item::before {content: \"\";position: absolute;border-left: 1px solid gray;box-sizing: border-box;top: 0;bottom: 0;left: 50%;z-index: -1;}#sk-container-id-3 div.sk-parallel-item {display: flex;flex-direction: column;z-index: 1;position: relative;background-color: white;}#sk-container-id-3 div.sk-parallel-item:first-child::after {align-self: flex-end;width: 50%;}#sk-container-id-3 div.sk-parallel-item:last-child::after {align-self: flex-start;width: 50%;}#sk-container-id-3 div.sk-parallel-item:only-child::after {width: 0;}#sk-container-id-3 div.sk-dashed-wrapped {border: 1px dashed gray;margin: 0 0.4em 0.5em 0.4em;box-sizing: border-box;padding-bottom: 0.4em;background-color: white;}#sk-container-id-3 div.sk-label label {font-family: monospace;font-weight: bold;display: inline-block;line-height: 1.2em;}#sk-container-id-3 div.sk-label-container {text-align: center;}#sk-container-id-3 div.sk-container {/* jupyter's `normalize.less` sets `[hidden] { display: none; }` but bootstrap.min.css set `[hidden] { display: none !important; }` so we also need the `!important` here to be able to override the default hidden behavior on the sphinx rendered scikit-learn.org. See: https://github.com/scikit-learn/scikit-learn/issues/21755 */display: inline-block !important;position: relative;}#sk-container-id-3 div.sk-text-repr-fallback {display: none;}</style><div id=\"sk-container-id-3\" class=\"sk-top-container\"><div class=\"sk-text-repr-fallback\"><pre>StackingRegressor(estimators=[(&#x27;RF&#x27;,\n",
              "                               TransformedTargetRegressor(regressor=Pipeline(steps=[(&#x27;feature_preprocessor&#x27;,\n",
              "                                                                                     ColumnTransformer(transformers=[(&#x27;num&#x27;,\n",
              "                                                                                                                      Pipeline(steps=[(&#x27;imputer&#x27;,\n",
              "                                                                                                                                       SimpleImputer(strategy=&#x27;median&#x27;)),\n",
              "                                                                                                                                      (&#x27;scaler&#x27;,\n",
              "                                                                                                                                       StandardScaler())]),\n",
              "                                                                                                                      [&#x27;car_rating&#x27;,\n",
              "                                                                                                                       &#x27;year_to_start&#x27;,\n",
              "                                                                                                                       &#x27;riders&#x27;,\n",
              "                                                                                                                       &#x27;year_to_work&#x27;,\n",
              "                                                                                                                       &#x27;mean_rating&#x27;,\n",
              "                                                                                                                       &#x27;distance_sum&#x27;,\n",
              "                                                                                                                       &#x27;rating_min&#x27;,\n",
              "                                                                                                                       &#x27;speed_max&#x27;...\n",
              "                                                                                                  lambda=9,\n",
              "                                                                                                  learning_rate=None,\n",
              "                                                                                                  max_bin=340,\n",
              "                                                                                                  max_cat_threshold=None,\n",
              "                                                                                                  max_cat_to_onehot=None,\n",
              "                                                                                                  max_delta_step=None,\n",
              "                                                                                                  max_depth=4,\n",
              "                                                                                                  max_leaves=10,\n",
              "                                                                                                  min_child_weight=11.75,\n",
              "                                                                                                  missing=nan,\n",
              "                                                                                                  monotone_constraints=None,\n",
              "                                                                                                  n_estimators=100,\n",
              "                                                                                                  n_jobs=-1, ...))]),\n",
              "                                                          transformer=StandardScaler()))],\n",
              "                  final_estimator=ElasticNet(alpha=0.004, l1_ratio=0.23,\n",
              "                                             max_iter=704),\n",
              "                  n_jobs=-1, verbose=False)</pre><b>In a Jupyter environment, please rerun this cell to show the HTML representation or trust the notebook. <br />On GitHub, the HTML representation is unable to render, please try loading this page with nbviewer.org.</b></div><div class=\"sk-container\" hidden><div class=\"sk-item sk-dashed-wrapped\"><div class=\"sk-label-container\"><div class=\"sk-label sk-toggleable\"><input class=\"sk-toggleable__control sk-hidden--visually\" id=\"sk-estimator-id-65\" type=\"checkbox\" ><label for=\"sk-estimator-id-65\" class=\"sk-toggleable__label sk-toggleable__label-arrow\">StackingRegressor</label><div class=\"sk-toggleable__content\"><pre>StackingRegressor(estimators=[(&#x27;RF&#x27;,\n",
              "                               TransformedTargetRegressor(regressor=Pipeline(steps=[(&#x27;feature_preprocessor&#x27;,\n",
              "                                                                                     ColumnTransformer(transformers=[(&#x27;num&#x27;,\n",
              "                                                                                                                      Pipeline(steps=[(&#x27;imputer&#x27;,\n",
              "                                                                                                                                       SimpleImputer(strategy=&#x27;median&#x27;)),\n",
              "                                                                                                                                      (&#x27;scaler&#x27;,\n",
              "                                                                                                                                       StandardScaler())]),\n",
              "                                                                                                                      [&#x27;car_rating&#x27;,\n",
              "                                                                                                                       &#x27;year_to_start&#x27;,\n",
              "                                                                                                                       &#x27;riders&#x27;,\n",
              "                                                                                                                       &#x27;year_to_work&#x27;,\n",
              "                                                                                                                       &#x27;mean_rating&#x27;,\n",
              "                                                                                                                       &#x27;distance_sum&#x27;,\n",
              "                                                                                                                       &#x27;rating_min&#x27;,\n",
              "                                                                                                                       &#x27;speed_max&#x27;...\n",
              "                                                                                                  lambda=9,\n",
              "                                                                                                  learning_rate=None,\n",
              "                                                                                                  max_bin=340,\n",
              "                                                                                                  max_cat_threshold=None,\n",
              "                                                                                                  max_cat_to_onehot=None,\n",
              "                                                                                                  max_delta_step=None,\n",
              "                                                                                                  max_depth=4,\n",
              "                                                                                                  max_leaves=10,\n",
              "                                                                                                  min_child_weight=11.75,\n",
              "                                                                                                  missing=nan,\n",
              "                                                                                                  monotone_constraints=None,\n",
              "                                                                                                  n_estimators=100,\n",
              "                                                                                                  n_jobs=-1, ...))]),\n",
              "                                                          transformer=StandardScaler()))],\n",
              "                  final_estimator=ElasticNet(alpha=0.004, l1_ratio=0.23,\n",
              "                                             max_iter=704),\n",
              "                  n_jobs=-1, verbose=False)</pre></div></div></div><div class=\"sk-serial\"><div class=\"sk-item\"><div class=\"sk-parallel\"><div class=\"sk-parallel-item\"><div class=\"sk-item\"><div class=\"sk-label-container\"><div class=\"sk-label sk-toggleable\"><label>RF</label></div></div><div class=\"sk-serial\"><div class=\"sk-item sk-dashed-wrapped\"><div class=\"sk-parallel\"><div class=\"sk-parallel-item\"><div class=\"sk-item\"><div class=\"sk-label-container\"><div class=\"sk-label sk-toggleable\"><input class=\"sk-toggleable__control sk-hidden--visually\" id=\"sk-estimator-id-66\" type=\"checkbox\" ><label for=\"sk-estimator-id-66\" class=\"sk-toggleable__label sk-toggleable__label-arrow\">regressor: Pipeline</label><div class=\"sk-toggleable__content\"><pre>Pipeline(steps=[(&#x27;feature_preprocessor&#x27;,\n",
              "                 ColumnTransformer(transformers=[(&#x27;num&#x27;,\n",
              "                                                  Pipeline(steps=[(&#x27;imputer&#x27;,\n",
              "                                                                   SimpleImputer(strategy=&#x27;median&#x27;)),\n",
              "                                                                  (&#x27;scaler&#x27;,\n",
              "                                                                   StandardScaler())]),\n",
              "                                                  [&#x27;car_rating&#x27;,\n",
              "                                                   &#x27;year_to_start&#x27;, &#x27;riders&#x27;,\n",
              "                                                   &#x27;year_to_work&#x27;,\n",
              "                                                   &#x27;mean_rating&#x27;,\n",
              "                                                   &#x27;distance_sum&#x27;, &#x27;rating_min&#x27;,\n",
              "                                                   &#x27;speed_max&#x27;,\n",
              "                                                   &#x27;user_ride_quality_median&#x27;,\n",
              "                                                   &#x27;user_uniq&#x27;]),\n",
              "                                                 (&#x27;cat&#x27;,\n",
              "                                                  Pipeline(steps=[(&#x27;encoder&#x27;,\n",
              "                                                                   OneHotEncoder(handle_unknown=&#x27;ignore&#x27;))]),\n",
              "                                                  [&#x27;model&#x27;, &#x27;car_type&#x27;,\n",
              "                                                   &#x27;fuel_type&#x27;])])),\n",
              "                (&#x27;model&#x27;,\n",
              "                 RandomForestRegressor(max_depth=10, max_samples=350,\n",
              "                                       n_estimators=300, n_jobs=-1,\n",
              "                                       random_state=7575))])</pre></div></div></div><div class=\"sk-serial\"><div class=\"sk-item\"><div class=\"sk-serial\"><div class=\"sk-item sk-dashed-wrapped\"><div class=\"sk-label-container\"><div class=\"sk-label sk-toggleable\"><input class=\"sk-toggleable__control sk-hidden--visually\" id=\"sk-estimator-id-67\" type=\"checkbox\" ><label for=\"sk-estimator-id-67\" class=\"sk-toggleable__label sk-toggleable__label-arrow\">feature_preprocessor: ColumnTransformer</label><div class=\"sk-toggleable__content\"><pre>ColumnTransformer(transformers=[(&#x27;num&#x27;,\n",
              "                                 Pipeline(steps=[(&#x27;imputer&#x27;,\n",
              "                                                  SimpleImputer(strategy=&#x27;median&#x27;)),\n",
              "                                                 (&#x27;scaler&#x27;, StandardScaler())]),\n",
              "                                 [&#x27;car_rating&#x27;, &#x27;year_to_start&#x27;, &#x27;riders&#x27;,\n",
              "                                  &#x27;year_to_work&#x27;, &#x27;mean_rating&#x27;, &#x27;distance_sum&#x27;,\n",
              "                                  &#x27;rating_min&#x27;, &#x27;speed_max&#x27;,\n",
              "                                  &#x27;user_ride_quality_median&#x27;, &#x27;user_uniq&#x27;]),\n",
              "                                (&#x27;cat&#x27;,\n",
              "                                 Pipeline(steps=[(&#x27;encoder&#x27;,\n",
              "                                                  OneHotEncoder(handle_unknown=&#x27;ignore&#x27;))]),\n",
              "                                 [&#x27;model&#x27;, &#x27;car_type&#x27;, &#x27;fuel_type&#x27;])])</pre></div></div></div><div class=\"sk-parallel\"><div class=\"sk-parallel-item\"><div class=\"sk-item\"><div class=\"sk-label-container\"><div class=\"sk-label sk-toggleable\"><input class=\"sk-toggleable__control sk-hidden--visually\" id=\"sk-estimator-id-68\" type=\"checkbox\" ><label for=\"sk-estimator-id-68\" class=\"sk-toggleable__label sk-toggleable__label-arrow\">num</label><div class=\"sk-toggleable__content\"><pre>[&#x27;car_rating&#x27;, &#x27;year_to_start&#x27;, &#x27;riders&#x27;, &#x27;year_to_work&#x27;, &#x27;mean_rating&#x27;, &#x27;distance_sum&#x27;, &#x27;rating_min&#x27;, &#x27;speed_max&#x27;, &#x27;user_ride_quality_median&#x27;, &#x27;user_uniq&#x27;]</pre></div></div></div><div class=\"sk-serial\"><div class=\"sk-item\"><div class=\"sk-serial\"><div class=\"sk-item\"><div class=\"sk-estimator sk-toggleable\"><input class=\"sk-toggleable__control sk-hidden--visually\" id=\"sk-estimator-id-69\" type=\"checkbox\" ><label for=\"sk-estimator-id-69\" class=\"sk-toggleable__label sk-toggleable__label-arrow\">SimpleImputer</label><div class=\"sk-toggleable__content\"><pre>SimpleImputer(strategy=&#x27;median&#x27;)</pre></div></div></div><div class=\"sk-item\"><div class=\"sk-estimator sk-toggleable\"><input class=\"sk-toggleable__control sk-hidden--visually\" id=\"sk-estimator-id-70\" type=\"checkbox\" ><label for=\"sk-estimator-id-70\" class=\"sk-toggleable__label sk-toggleable__label-arrow\">StandardScaler</label><div class=\"sk-toggleable__content\"><pre>StandardScaler()</pre></div></div></div></div></div></div></div></div><div class=\"sk-parallel-item\"><div class=\"sk-item\"><div class=\"sk-label-container\"><div class=\"sk-label sk-toggleable\"><input class=\"sk-toggleable__control sk-hidden--visually\" id=\"sk-estimator-id-71\" type=\"checkbox\" ><label for=\"sk-estimator-id-71\" class=\"sk-toggleable__label sk-toggleable__label-arrow\">cat</label><div class=\"sk-toggleable__content\"><pre>[&#x27;model&#x27;, &#x27;car_type&#x27;, &#x27;fuel_type&#x27;]</pre></div></div></div><div class=\"sk-serial\"><div class=\"sk-item\"><div class=\"sk-serial\"><div class=\"sk-item\"><div class=\"sk-estimator sk-toggleable\"><input class=\"sk-toggleable__control sk-hidden--visually\" id=\"sk-estimator-id-72\" type=\"checkbox\" ><label for=\"sk-estimator-id-72\" class=\"sk-toggleable__label sk-toggleable__label-arrow\">OneHotEncoder</label><div class=\"sk-toggleable__content\"><pre>OneHotEncoder(handle_unknown=&#x27;ignore&#x27;)</pre></div></div></div></div></div></div></div></div></div></div><div class=\"sk-item\"><div class=\"sk-estimator sk-toggleable\"><input class=\"sk-toggleable__control sk-hidden--visually\" id=\"sk-estimator-id-73\" type=\"checkbox\" ><label for=\"sk-estimator-id-73\" class=\"sk-toggleable__label sk-toggleable__label-arrow\">RandomForestRegressor</label><div class=\"sk-toggleable__content\"><pre>RandomForestRegressor(max_depth=10, max_samples=350, n_estimators=300,\n",
              "                      n_jobs=-1, random_state=7575)</pre></div></div></div></div></div></div></div></div><div class=\"sk-parallel-item\"><div class=\"sk-item\"><div class=\"sk-label-container\"><div class=\"sk-label sk-toggleable\"><input class=\"sk-toggleable__control sk-hidden--visually\" id=\"sk-estimator-id-74\" type=\"checkbox\" ><label for=\"sk-estimator-id-74\" class=\"sk-toggleable__label sk-toggleable__label-arrow\">transformer: StandardScaler</label><div class=\"sk-toggleable__content\"><pre>StandardScaler()</pre></div></div></div><div class=\"sk-serial\"><div class=\"sk-item\"><div class=\"sk-estimator sk-toggleable\"><input class=\"sk-toggleable__control sk-hidden--visually\" id=\"sk-estimator-id-75\" type=\"checkbox\" ><label for=\"sk-estimator-id-75\" class=\"sk-toggleable__label sk-toggleable__label-arrow\">StandardScaler</label><div class=\"sk-toggleable__content\"><pre>StandardScaler()</pre></div></div></div></div></div></div></div></div></div></div></div><div class=\"sk-parallel-item\"><div class=\"sk-item\"><div class=\"sk-label-container\"><div class=\"sk-label sk-toggleable\"><label>Gradient</label></div></div><div class=\"sk-serial\"><div class=\"sk-item sk-dashed-wrapped\"><div class=\"sk-parallel\"><div class=\"sk-parallel-item\"><div class=\"sk-item\"><div class=\"sk-label-container\"><div class=\"sk-label sk-toggleable\"><input class=\"sk-toggleable__control sk-hidden--visually\" id=\"sk-estimator-id-76\" type=\"checkbox\" ><label for=\"sk-estimator-id-76\" class=\"sk-toggleable__label sk-toggleable__label-arrow\">regressor: Pipeline</label><div class=\"sk-toggleable__content\"><pre>Pipeline(steps=[(&#x27;feature_preprocessor&#x27;,\n",
              "                 ColumnTransformer(transformers=[(&#x27;num&#x27;,\n",
              "                                                  Pipeline(steps=[(&#x27;imputer&#x27;,\n",
              "                                                                   SimpleImputer(strategy=&#x27;median&#x27;)),\n",
              "                                                                  (&#x27;scaler&#x27;,\n",
              "                                                                   StandardScaler())]),\n",
              "                                                  [&#x27;car_rating&#x27;,\n",
              "                                                   &#x27;year_to_start&#x27;, &#x27;riders&#x27;,\n",
              "                                                   &#x27;year_to_work&#x27;,\n",
              "                                                   &#x27;mean_rating&#x27;,\n",
              "                                                   &#x27;distance_sum&#x27;, &#x27;rating_min&#x27;,\n",
              "                                                   &#x27;speed_max&#x27;,\n",
              "                                                   &#x27;user_ride_quality_median&#x27;,\n",
              "                                                   &#x27;user_uniq&#x27;]),\n",
              "                                                 (&#x27;cat&#x27;,\n",
              "                                                  Pipeline(steps=[(&#x27;encoder&#x27;,\n",
              "                                                                   OneHotEncoder(handle_unknown=&#x27;ignore&#x27;))]),\n",
              "                                                  [&#x27;model&#x27;, &#x27;car_type&#x27;,\n",
              "                                                   &#x27;fuel_type&#x27;])])),\n",
              "                (&#x27;model&#x27;,\n",
              "                 GradientBoostingRegressor(max_depth=5, min_samples_leaf=2,\n",
              "                                           min_samples_split=102,\n",
              "                                           n_estimators=324,\n",
              "                                           n_iter_no_change=52,\n",
              "                                           random_state=7575,\n",
              "                                           subsample=0.77))])</pre></div></div></div><div class=\"sk-serial\"><div class=\"sk-item\"><div class=\"sk-serial\"><div class=\"sk-item sk-dashed-wrapped\"><div class=\"sk-label-container\"><div class=\"sk-label sk-toggleable\"><input class=\"sk-toggleable__control sk-hidden--visually\" id=\"sk-estimator-id-77\" type=\"checkbox\" ><label for=\"sk-estimator-id-77\" class=\"sk-toggleable__label sk-toggleable__label-arrow\">feature_preprocessor: ColumnTransformer</label><div class=\"sk-toggleable__content\"><pre>ColumnTransformer(transformers=[(&#x27;num&#x27;,\n",
              "                                 Pipeline(steps=[(&#x27;imputer&#x27;,\n",
              "                                                  SimpleImputer(strategy=&#x27;median&#x27;)),\n",
              "                                                 (&#x27;scaler&#x27;, StandardScaler())]),\n",
              "                                 [&#x27;car_rating&#x27;, &#x27;year_to_start&#x27;, &#x27;riders&#x27;,\n",
              "                                  &#x27;year_to_work&#x27;, &#x27;mean_rating&#x27;, &#x27;distance_sum&#x27;,\n",
              "                                  &#x27;rating_min&#x27;, &#x27;speed_max&#x27;,\n",
              "                                  &#x27;user_ride_quality_median&#x27;, &#x27;user_uniq&#x27;]),\n",
              "                                (&#x27;cat&#x27;,\n",
              "                                 Pipeline(steps=[(&#x27;encoder&#x27;,\n",
              "                                                  OneHotEncoder(handle_unknown=&#x27;ignore&#x27;))]),\n",
              "                                 [&#x27;model&#x27;, &#x27;car_type&#x27;, &#x27;fuel_type&#x27;])])</pre></div></div></div><div class=\"sk-parallel\"><div class=\"sk-parallel-item\"><div class=\"sk-item\"><div class=\"sk-label-container\"><div class=\"sk-label sk-toggleable\"><input class=\"sk-toggleable__control sk-hidden--visually\" id=\"sk-estimator-id-78\" type=\"checkbox\" ><label for=\"sk-estimator-id-78\" class=\"sk-toggleable__label sk-toggleable__label-arrow\">num</label><div class=\"sk-toggleable__content\"><pre>[&#x27;car_rating&#x27;, &#x27;year_to_start&#x27;, &#x27;riders&#x27;, &#x27;year_to_work&#x27;, &#x27;mean_rating&#x27;, &#x27;distance_sum&#x27;, &#x27;rating_min&#x27;, &#x27;speed_max&#x27;, &#x27;user_ride_quality_median&#x27;, &#x27;user_uniq&#x27;]</pre></div></div></div><div class=\"sk-serial\"><div class=\"sk-item\"><div class=\"sk-serial\"><div class=\"sk-item\"><div class=\"sk-estimator sk-toggleable\"><input class=\"sk-toggleable__control sk-hidden--visually\" id=\"sk-estimator-id-79\" type=\"checkbox\" ><label for=\"sk-estimator-id-79\" class=\"sk-toggleable__label sk-toggleable__label-arrow\">SimpleImputer</label><div class=\"sk-toggleable__content\"><pre>SimpleImputer(strategy=&#x27;median&#x27;)</pre></div></div></div><div class=\"sk-item\"><div class=\"sk-estimator sk-toggleable\"><input class=\"sk-toggleable__control sk-hidden--visually\" id=\"sk-estimator-id-80\" type=\"checkbox\" ><label for=\"sk-estimator-id-80\" class=\"sk-toggleable__label sk-toggleable__label-arrow\">StandardScaler</label><div class=\"sk-toggleable__content\"><pre>StandardScaler()</pre></div></div></div></div></div></div></div></div><div class=\"sk-parallel-item\"><div class=\"sk-item\"><div class=\"sk-label-container\"><div class=\"sk-label sk-toggleable\"><input class=\"sk-toggleable__control sk-hidden--visually\" id=\"sk-estimator-id-81\" type=\"checkbox\" ><label for=\"sk-estimator-id-81\" class=\"sk-toggleable__label sk-toggleable__label-arrow\">cat</label><div class=\"sk-toggleable__content\"><pre>[&#x27;model&#x27;, &#x27;car_type&#x27;, &#x27;fuel_type&#x27;]</pre></div></div></div><div class=\"sk-serial\"><div class=\"sk-item\"><div class=\"sk-serial\"><div class=\"sk-item\"><div class=\"sk-estimator sk-toggleable\"><input class=\"sk-toggleable__control sk-hidden--visually\" id=\"sk-estimator-id-82\" type=\"checkbox\" ><label for=\"sk-estimator-id-82\" class=\"sk-toggleable__label sk-toggleable__label-arrow\">OneHotEncoder</label><div class=\"sk-toggleable__content\"><pre>OneHotEncoder(handle_unknown=&#x27;ignore&#x27;)</pre></div></div></div></div></div></div></div></div></div></div><div class=\"sk-item\"><div class=\"sk-estimator sk-toggleable\"><input class=\"sk-toggleable__control sk-hidden--visually\" id=\"sk-estimator-id-83\" type=\"checkbox\" ><label for=\"sk-estimator-id-83\" class=\"sk-toggleable__label sk-toggleable__label-arrow\">GradientBoostingRegressor</label><div class=\"sk-toggleable__content\"><pre>GradientBoostingRegressor(max_depth=5, min_samples_leaf=2,\n",
              "                          min_samples_split=102, n_estimators=324,\n",
              "                          n_iter_no_change=52, random_state=7575,\n",
              "                          subsample=0.77)</pre></div></div></div></div></div></div></div></div><div class=\"sk-parallel-item\"><div class=\"sk-item\"><div class=\"sk-label-container\"><div class=\"sk-label sk-toggleable\"><input class=\"sk-toggleable__control sk-hidden--visually\" id=\"sk-estimator-id-84\" type=\"checkbox\" ><label for=\"sk-estimator-id-84\" class=\"sk-toggleable__label sk-toggleable__label-arrow\">transformer: StandardScaler</label><div class=\"sk-toggleable__content\"><pre>StandardScaler()</pre></div></div></div><div class=\"sk-serial\"><div class=\"sk-item\"><div class=\"sk-estimator sk-toggleable\"><input class=\"sk-toggleable__control sk-hidden--visually\" id=\"sk-estimator-id-85\" type=\"checkbox\" ><label for=\"sk-estimator-id-85\" class=\"sk-toggleable__label sk-toggleable__label-arrow\">StandardScaler</label><div class=\"sk-toggleable__content\"><pre>StandardScaler()</pre></div></div></div></div></div></div></div></div></div></div></div><div class=\"sk-parallel-item\"><div class=\"sk-item\"><div class=\"sk-label-container\"><div class=\"sk-label sk-toggleable\"><label>XGBoost</label></div></div><div class=\"sk-serial\"><div class=\"sk-item sk-dashed-wrapped\"><div class=\"sk-parallel\"><div class=\"sk-parallel-item\"><div class=\"sk-item\"><div class=\"sk-label-container\"><div class=\"sk-label sk-toggleable\"><input class=\"sk-toggleable__control sk-hidden--visually\" id=\"sk-estimator-id-86\" type=\"checkbox\" ><label for=\"sk-estimator-id-86\" class=\"sk-toggleable__label sk-toggleable__label-arrow\">regressor: Pipeline</label><div class=\"sk-toggleable__content\"><pre>Pipeline(steps=[(&#x27;feature_preprocessor&#x27;,\n",
              "                 ColumnTransformer(transformers=[(&#x27;num&#x27;,\n",
              "                                                  Pipeline(steps=[(&#x27;imputer&#x27;,\n",
              "                                                                   SimpleImputer(strategy=&#x27;median&#x27;)),\n",
              "                                                                  (&#x27;scaler&#x27;,\n",
              "                                                                   StandardScaler())]),\n",
              "                                                  [&#x27;car_rating&#x27;,\n",
              "                                                   &#x27;year_to_start&#x27;, &#x27;riders&#x27;,\n",
              "                                                   &#x27;year_to_work&#x27;,\n",
              "                                                   &#x27;mean_rating&#x27;,\n",
              "                                                   &#x27;distance_sum&#x27;, &#x27;rating_min&#x27;,\n",
              "                                                   &#x27;speed_max&#x27;,\n",
              "                                                   &#x27;user_ride_quality_median&#x27;,\n",
              "                                                   &#x27;user_uniq&#x27;]),\n",
              "                                                 (&#x27;cat&#x27;,\n",
              "                                                  Pipeline(steps=[(&#x27;encode...\n",
              "                              feature_types=None, gamma=0.00010921760575217162,\n",
              "                              gpu_id=None, grow_policy=&#x27;lossguide&#x27;,\n",
              "                              importance_type=None,\n",
              "                              interaction_constraints=None, lambda=9,\n",
              "                              learning_rate=None, max_bin=340,\n",
              "                              max_cat_threshold=None, max_cat_to_onehot=None,\n",
              "                              max_delta_step=None, max_depth=4, max_leaves=10,\n",
              "                              min_child_weight=11.75, missing=nan,\n",
              "                              monotone_constraints=None, n_estimators=100,\n",
              "                              n_jobs=-1, ...))])</pre></div></div></div><div class=\"sk-serial\"><div class=\"sk-item\"><div class=\"sk-serial\"><div class=\"sk-item sk-dashed-wrapped\"><div class=\"sk-label-container\"><div class=\"sk-label sk-toggleable\"><input class=\"sk-toggleable__control sk-hidden--visually\" id=\"sk-estimator-id-87\" type=\"checkbox\" ><label for=\"sk-estimator-id-87\" class=\"sk-toggleable__label sk-toggleable__label-arrow\">feature_preprocessor: ColumnTransformer</label><div class=\"sk-toggleable__content\"><pre>ColumnTransformer(transformers=[(&#x27;num&#x27;,\n",
              "                                 Pipeline(steps=[(&#x27;imputer&#x27;,\n",
              "                                                  SimpleImputer(strategy=&#x27;median&#x27;)),\n",
              "                                                 (&#x27;scaler&#x27;, StandardScaler())]),\n",
              "                                 [&#x27;car_rating&#x27;, &#x27;year_to_start&#x27;, &#x27;riders&#x27;,\n",
              "                                  &#x27;year_to_work&#x27;, &#x27;mean_rating&#x27;, &#x27;distance_sum&#x27;,\n",
              "                                  &#x27;rating_min&#x27;, &#x27;speed_max&#x27;,\n",
              "                                  &#x27;user_ride_quality_median&#x27;, &#x27;user_uniq&#x27;]),\n",
              "                                (&#x27;cat&#x27;,\n",
              "                                 Pipeline(steps=[(&#x27;encoder&#x27;,\n",
              "                                                  OneHotEncoder(handle_unknown=&#x27;ignore&#x27;))]),\n",
              "                                 [&#x27;model&#x27;, &#x27;car_type&#x27;, &#x27;fuel_type&#x27;])])</pre></div></div></div><div class=\"sk-parallel\"><div class=\"sk-parallel-item\"><div class=\"sk-item\"><div class=\"sk-label-container\"><div class=\"sk-label sk-toggleable\"><input class=\"sk-toggleable__control sk-hidden--visually\" id=\"sk-estimator-id-88\" type=\"checkbox\" ><label for=\"sk-estimator-id-88\" class=\"sk-toggleable__label sk-toggleable__label-arrow\">num</label><div class=\"sk-toggleable__content\"><pre>[&#x27;car_rating&#x27;, &#x27;year_to_start&#x27;, &#x27;riders&#x27;, &#x27;year_to_work&#x27;, &#x27;mean_rating&#x27;, &#x27;distance_sum&#x27;, &#x27;rating_min&#x27;, &#x27;speed_max&#x27;, &#x27;user_ride_quality_median&#x27;, &#x27;user_uniq&#x27;]</pre></div></div></div><div class=\"sk-serial\"><div class=\"sk-item\"><div class=\"sk-serial\"><div class=\"sk-item\"><div class=\"sk-estimator sk-toggleable\"><input class=\"sk-toggleable__control sk-hidden--visually\" id=\"sk-estimator-id-89\" type=\"checkbox\" ><label for=\"sk-estimator-id-89\" class=\"sk-toggleable__label sk-toggleable__label-arrow\">SimpleImputer</label><div class=\"sk-toggleable__content\"><pre>SimpleImputer(strategy=&#x27;median&#x27;)</pre></div></div></div><div class=\"sk-item\"><div class=\"sk-estimator sk-toggleable\"><input class=\"sk-toggleable__control sk-hidden--visually\" id=\"sk-estimator-id-90\" type=\"checkbox\" ><label for=\"sk-estimator-id-90\" class=\"sk-toggleable__label sk-toggleable__label-arrow\">StandardScaler</label><div class=\"sk-toggleable__content\"><pre>StandardScaler()</pre></div></div></div></div></div></div></div></div><div class=\"sk-parallel-item\"><div class=\"sk-item\"><div class=\"sk-label-container\"><div class=\"sk-label sk-toggleable\"><input class=\"sk-toggleable__control sk-hidden--visually\" id=\"sk-estimator-id-91\" type=\"checkbox\" ><label for=\"sk-estimator-id-91\" class=\"sk-toggleable__label sk-toggleable__label-arrow\">cat</label><div class=\"sk-toggleable__content\"><pre>[&#x27;model&#x27;, &#x27;car_type&#x27;, &#x27;fuel_type&#x27;]</pre></div></div></div><div class=\"sk-serial\"><div class=\"sk-item\"><div class=\"sk-serial\"><div class=\"sk-item\"><div class=\"sk-estimator sk-toggleable\"><input class=\"sk-toggleable__control sk-hidden--visually\" id=\"sk-estimator-id-92\" type=\"checkbox\" ><label for=\"sk-estimator-id-92\" class=\"sk-toggleable__label sk-toggleable__label-arrow\">OneHotEncoder</label><div class=\"sk-toggleable__content\"><pre>OneHotEncoder(handle_unknown=&#x27;ignore&#x27;)</pre></div></div></div></div></div></div></div></div></div></div><div class=\"sk-item\"><div class=\"sk-estimator sk-toggleable\"><input class=\"sk-toggleable__control sk-hidden--visually\" id=\"sk-estimator-id-93\" type=\"checkbox\" ><label for=\"sk-estimator-id-93\" class=\"sk-toggleable__label sk-toggleable__label-arrow\">XGBRegressor</label><div class=\"sk-toggleable__content\"><pre>XGBRegressor(alpha=2, base_score=None, booster=&#x27;dart&#x27;, callbacks=None,\n",
              "             colsample_bylevel=None, colsample_bynode=None,\n",
              "             colsample_bytree=0.87, early_stopping_rounds=None,\n",
              "             enable_categorical=False, eta=1.1391366645807567e-06,\n",
              "             eval_metric=&#x27;rmse&#x27;, feature_types=None,\n",
              "             gamma=0.00010921760575217162, gpu_id=None, grow_policy=&#x27;lossguide&#x27;,\n",
              "             importance_type=None, interaction_constraints=None, lambda=9,\n",
              "             learning_rate=None, max_bin=340, max_cat_threshold=None,\n",
              "             max_cat_to_onehot=None, max_delta_step=None, max_depth=4,\n",
              "             max_leaves=10, min_child_weight=11.75, missing=nan,\n",
              "             monotone_constraints=None, n_estimators=100, n_jobs=-1, ...)</pre></div></div></div></div></div></div></div></div><div class=\"sk-parallel-item\"><div class=\"sk-item\"><div class=\"sk-label-container\"><div class=\"sk-label sk-toggleable\"><input class=\"sk-toggleable__control sk-hidden--visually\" id=\"sk-estimator-id-94\" type=\"checkbox\" ><label for=\"sk-estimator-id-94\" class=\"sk-toggleable__label sk-toggleable__label-arrow\">transformer: StandardScaler</label><div class=\"sk-toggleable__content\"><pre>StandardScaler()</pre></div></div></div><div class=\"sk-serial\"><div class=\"sk-item\"><div class=\"sk-estimator sk-toggleable\"><input class=\"sk-toggleable__control sk-hidden--visually\" id=\"sk-estimator-id-95\" type=\"checkbox\" ><label for=\"sk-estimator-id-95\" class=\"sk-toggleable__label sk-toggleable__label-arrow\">StandardScaler</label><div class=\"sk-toggleable__content\"><pre>StandardScaler()</pre></div></div></div></div></div></div></div></div></div></div></div></div></div><div class=\"sk-item\"><div class=\"sk-parallel\"><div class=\"sk-parallel-item\"><div class=\"sk-item\"><div class=\"sk-label-container\"><div class=\"sk-label sk-toggleable\"><label>final_estimator</label></div></div><div class=\"sk-serial\"><div class=\"sk-item\"><div class=\"sk-estimator sk-toggleable\"><input class=\"sk-toggleable__control sk-hidden--visually\" id=\"sk-estimator-id-96\" type=\"checkbox\" ><label for=\"sk-estimator-id-96\" class=\"sk-toggleable__label sk-toggleable__label-arrow\">ElasticNet</label><div class=\"sk-toggleable__content\"><pre>ElasticNet(alpha=0.004, l1_ratio=0.23, max_iter=704)</pre></div></div></div></div></div></div></div></div></div></div></div></div>"
            ]
          },
          "metadata": {},
          "execution_count": 152
        }
      ]
    },
    {
      "cell_type": "code",
      "source": [
        "preds = stacking_regressor.predict(X_sub)\n",
        "df_sub_stacking = df_sub[['car_id',]]\n",
        "df_sub_stacking['target_reg'] = preds\n",
        "df_sub_stacking.to_csv('result_1.csv', index=False)"
      ],
      "metadata": {
        "id": "ududMUbt9AMY"
      },
      "execution_count": null,
      "outputs": []
    },
    {
      "cell_type": "code",
      "source": [
        "end = time.time()\n",
        "all_time = (end - start) / 60\n",
        "all_time"
      ],
      "metadata": {
        "id": "yBvHSr_lbVlh",
        "colab": {
          "base_uri": "https://localhost:8080/"
        },
        "outputId": "ce3da725-a8d4-4c41-babc-0f67d01d9ce6"
      },
      "execution_count": null,
      "outputs": [
        {
          "output_type": "execute_result",
          "data": {
            "text/plain": [
              "20.925259387493135"
            ]
          },
          "metadata": {},
          "execution_count": 146
        }
      ]
    },
    {
      "cell_type": "markdown",
      "source": [
        "**На тесте: Вы побили порог в 11.85 RMSE: ваше решение дает RMSE=11.8.**"
      ],
      "metadata": {
        "id": "iGB7BC0JKFCG"
      }
    },
    {
      "cell_type": "markdown",
      "source": [
        "# Ансамбль"
      ],
      "metadata": {
        "id": "Bo0AwYYYPCx-"
      }
    },
    {
      "cell_type": "markdown",
      "source": [
        "Воспользуемся библиотекой Kaggle-Ensemble-Guide и усредним значения блендинга  и стекинга."
      ],
      "metadata": {
        "id": "wba2VgSyvHOc"
      }
    },
    {
      "cell_type": "code",
      "source": [
        "!git clone https://github.com/MLWave/Kaggle-Ensemble-Guide"
      ],
      "metadata": {
        "id": "pjtny0fJQbh7",
        "colab": {
          "base_uri": "https://localhost:8080/"
        },
        "outputId": "1a6de780-3e46-4396-cce5-eeb34e7e7f9f"
      },
      "execution_count": null,
      "outputs": [
        {
          "output_type": "stream",
          "name": "stdout",
          "text": [
            "fatal: destination path 'Kaggle-Ensemble-Guide' already exists and is not an empty directory.\n"
          ]
        }
      ]
    },
    {
      "cell_type": "code",
      "source": [
        "!python /content/Kaggle-Ensemble-Guide/src/kaggle_avg.py \"/content/result_*.csv\" \"/content/all_blended.csv\""
      ],
      "metadata": {
        "id": "zVFPegwfmocT",
        "colab": {
          "base_uri": "https://localhost:8080/"
        },
        "outputId": "47dd720a-1d51-43ce-af97-866a19525c61"
      },
      "execution_count": null,
      "outputs": [
        {
          "output_type": "stream",
          "name": "stdout",
          "text": [
            "parsing: /content/result_1.csv\n",
            "parsing: /content/result_0.csv\n",
            "wrote to /content/all_blended.csv\n"
          ]
        }
      ]
    },
    {
      "cell_type": "markdown",
      "source": [
        "**На тесте: Вы побили порог в 11.85 RMSE: ваше решение дает RMSE=11.8.**"
      ],
      "metadata": {
        "id": "kTSC9PQPKaME"
      }
    },
    {
      "cell_type": "markdown",
      "source": [
        "# Сохранение моделей"
      ],
      "metadata": {
        "id": "Sfm6Ks2yLGcV"
      }
    },
    {
      "cell_type": "code",
      "source": [
        "for i, mdl in enumerate(bst_mdls):\n",
        "    with open(f'model_{i}.pkl', \"wb\") as f:\n",
        "        pickle.dump(bst_mdls[mdl], f)"
      ],
      "metadata": {
        "id": "uyXdEjWuLLIM"
      },
      "execution_count": null,
      "outputs": []
    },
    {
      "cell_type": "markdown",
      "source": [
        "# Результаты\n",
        "\n",
        "* Обучили несколько моделей. Многие модели не попали в окончательное решение. (MLPregressor, самописный MLPRegressor, GaussianProcessRegressor, TabNetRegressor, ...). Не попали из-за оптимизации количества моделей или из-за времени обучения.\n",
        "* Для всех моделей были написаны пайплайны для обработки признаков и использования их в моделях.\n",
        "* Для всех моделей числовые признаки стандартизировались. Это практически не влияло на работу бустинговых алгоритмов, но на более простых типа GaussianProcessRegressor, KNN, elastic, SVM, ... получали значительное улучшение.\n",
        "* Для всех моделей использовался подбор гиперпараметров библиотекой optuna. Для уменьшения времени работы ноутбука диапазон параметров были ограничены уже исходя из предыдущих запусков.\n",
        "* Полностью зафиксировать подбор гиперпараметров через optuna не удалось. Возможно отключение распределённых вычислений решит проблему. Но в данном исследовании мы использовали все возможности для ускорения вычислений. Для воспроизведения результатов лучше сохранять полученные модели и параметры.\n",
        "* Модели обучались используя кросс-валидацию. Также для некоторых моделей использовался pruning. Где возможно использовались sheduler и early-stoppings.\n",
        "* Ни одна из моделей не давала требуемый результат в отдельности. Лучше всего по метрике себя показывали бустинговые алгоритмы. Из более простых алгоритмов в моих запусках лучше всего на данной задаче проявил метод опорных векторов SVM.\n",
        "Среди нейронных сетей лучше всего показывала себя модель TabNet. Её результаты были сопоставимы с бустинговыми алгоритмами, пусть и всё таки хуже (RMSE = 12). Исключил эту модель из-за времени обучения. MLP regressor почему-то выдавал около 16 по RMSE. Самописная модель MLP выдавала около 13-14, но вероятно самописную можно было ещё улучшать.\n",
        "* Блендинг не решил проблему (впрочем, как уже было сказано из-за некой неопределённости результатов пару раз получал необходимый результат и на простом блендинге с весами). Стекинг моделей в данном случае позволил получить необходимое значение метрики."
      ],
      "metadata": {
        "id": "VwZnYn2AdNWa"
      }
    }
  ],
  "metadata": {
    "colab": {
      "provenance": [],
      "toc_visible": true,
      "authorship_tag": "ABX9TyPzVlghZM3tS7b2l+/+2ykO",
      "include_colab_link": true
    },
    "kernelspec": {
      "display_name": "Python 3",
      "name": "python3"
    },
    "language_info": {
      "name": "python"
    },
    "widgets": {
      "application/vnd.jupyter.widget-state+json": {
        "70572a03132a49cf9bef73091aeb51c2": {
          "model_module": "@jupyter-widgets/controls",
          "model_name": "HBoxModel",
          "model_module_version": "1.5.0",
          "state": {
            "_dom_classes": [],
            "_model_module": "@jupyter-widgets/controls",
            "_model_module_version": "1.5.0",
            "_model_name": "HBoxModel",
            "_view_count": null,
            "_view_module": "@jupyter-widgets/controls",
            "_view_module_version": "1.5.0",
            "_view_name": "HBoxView",
            "box_style": "",
            "children": [
              "IPY_MODEL_eb80cfc0226a4327b0e09ccd59b4b159",
              "IPY_MODEL_04d1800179554821b495d8fefb8e3f2c",
              "IPY_MODEL_f541b8ba7f564fa681fca74189282581"
            ],
            "layout": "IPY_MODEL_296c93c33d18427da0a8023b8cc0d0eb"
          }
        },
        "eb80cfc0226a4327b0e09ccd59b4b159": {
          "model_module": "@jupyter-widgets/controls",
          "model_name": "HTMLModel",
          "model_module_version": "1.5.0",
          "state": {
            "_dom_classes": [],
            "_model_module": "@jupyter-widgets/controls",
            "_model_module_version": "1.5.0",
            "_model_name": "HTMLModel",
            "_view_count": null,
            "_view_module": "@jupyter-widgets/controls",
            "_view_module_version": "1.5.0",
            "_view_name": "HTMLView",
            "description": "",
            "description_tooltip": null,
            "layout": "IPY_MODEL_d6a1222330a349998fed235327b5b4b3",
            "placeholder": "​",
            "style": "IPY_MODEL_0e87de55c52746a8a11db1c28785453b",
            "value": "Best trial: 4. Best value: 11.5287: 100%"
          }
        },
        "04d1800179554821b495d8fefb8e3f2c": {
          "model_module": "@jupyter-widgets/controls",
          "model_name": "FloatProgressModel",
          "model_module_version": "1.5.0",
          "state": {
            "_dom_classes": [],
            "_model_module": "@jupyter-widgets/controls",
            "_model_module_version": "1.5.0",
            "_model_name": "FloatProgressModel",
            "_view_count": null,
            "_view_module": "@jupyter-widgets/controls",
            "_view_module_version": "1.5.0",
            "_view_name": "ProgressView",
            "bar_style": "success",
            "description": "",
            "description_tooltip": null,
            "layout": "IPY_MODEL_30c99876bba04f3c96ae13aea3f6e2fe",
            "max": 100,
            "min": 0,
            "orientation": "horizontal",
            "style": "IPY_MODEL_e32343df494d4e4a8ba2ec2d19ab892f",
            "value": 100
          }
        },
        "f541b8ba7f564fa681fca74189282581": {
          "model_module": "@jupyter-widgets/controls",
          "model_name": "HTMLModel",
          "model_module_version": "1.5.0",
          "state": {
            "_dom_classes": [],
            "_model_module": "@jupyter-widgets/controls",
            "_model_module_version": "1.5.0",
            "_model_name": "HTMLModel",
            "_view_count": null,
            "_view_module": "@jupyter-widgets/controls",
            "_view_module_version": "1.5.0",
            "_view_name": "HTMLView",
            "description": "",
            "description_tooltip": null,
            "layout": "IPY_MODEL_ace966ba53524b89b8fc590eae372a6e",
            "placeholder": "​",
            "style": "IPY_MODEL_40bf1a09b7d74fe5bc5cd144741c9c85",
            "value": " 100/100 [06:13&lt;00:00,  1.68it/s]"
          }
        },
        "296c93c33d18427da0a8023b8cc0d0eb": {
          "model_module": "@jupyter-widgets/base",
          "model_name": "LayoutModel",
          "model_module_version": "1.2.0",
          "state": {
            "_model_module": "@jupyter-widgets/base",
            "_model_module_version": "1.2.0",
            "_model_name": "LayoutModel",
            "_view_count": null,
            "_view_module": "@jupyter-widgets/base",
            "_view_module_version": "1.2.0",
            "_view_name": "LayoutView",
            "align_content": null,
            "align_items": null,
            "align_self": null,
            "border": null,
            "bottom": null,
            "display": null,
            "flex": null,
            "flex_flow": null,
            "grid_area": null,
            "grid_auto_columns": null,
            "grid_auto_flow": null,
            "grid_auto_rows": null,
            "grid_column": null,
            "grid_gap": null,
            "grid_row": null,
            "grid_template_areas": null,
            "grid_template_columns": null,
            "grid_template_rows": null,
            "height": null,
            "justify_content": null,
            "justify_items": null,
            "left": null,
            "margin": null,
            "max_height": null,
            "max_width": null,
            "min_height": null,
            "min_width": null,
            "object_fit": null,
            "object_position": null,
            "order": null,
            "overflow": null,
            "overflow_x": null,
            "overflow_y": null,
            "padding": null,
            "right": null,
            "top": null,
            "visibility": null,
            "width": null
          }
        },
        "d6a1222330a349998fed235327b5b4b3": {
          "model_module": "@jupyter-widgets/base",
          "model_name": "LayoutModel",
          "model_module_version": "1.2.0",
          "state": {
            "_model_module": "@jupyter-widgets/base",
            "_model_module_version": "1.2.0",
            "_model_name": "LayoutModel",
            "_view_count": null,
            "_view_module": "@jupyter-widgets/base",
            "_view_module_version": "1.2.0",
            "_view_name": "LayoutView",
            "align_content": null,
            "align_items": null,
            "align_self": null,
            "border": null,
            "bottom": null,
            "display": null,
            "flex": null,
            "flex_flow": null,
            "grid_area": null,
            "grid_auto_columns": null,
            "grid_auto_flow": null,
            "grid_auto_rows": null,
            "grid_column": null,
            "grid_gap": null,
            "grid_row": null,
            "grid_template_areas": null,
            "grid_template_columns": null,
            "grid_template_rows": null,
            "height": null,
            "justify_content": null,
            "justify_items": null,
            "left": null,
            "margin": null,
            "max_height": null,
            "max_width": null,
            "min_height": null,
            "min_width": null,
            "object_fit": null,
            "object_position": null,
            "order": null,
            "overflow": null,
            "overflow_x": null,
            "overflow_y": null,
            "padding": null,
            "right": null,
            "top": null,
            "visibility": null,
            "width": null
          }
        },
        "0e87de55c52746a8a11db1c28785453b": {
          "model_module": "@jupyter-widgets/controls",
          "model_name": "DescriptionStyleModel",
          "model_module_version": "1.5.0",
          "state": {
            "_model_module": "@jupyter-widgets/controls",
            "_model_module_version": "1.5.0",
            "_model_name": "DescriptionStyleModel",
            "_view_count": null,
            "_view_module": "@jupyter-widgets/base",
            "_view_module_version": "1.2.0",
            "_view_name": "StyleView",
            "description_width": ""
          }
        },
        "30c99876bba04f3c96ae13aea3f6e2fe": {
          "model_module": "@jupyter-widgets/base",
          "model_name": "LayoutModel",
          "model_module_version": "1.2.0",
          "state": {
            "_model_module": "@jupyter-widgets/base",
            "_model_module_version": "1.2.0",
            "_model_name": "LayoutModel",
            "_view_count": null,
            "_view_module": "@jupyter-widgets/base",
            "_view_module_version": "1.2.0",
            "_view_name": "LayoutView",
            "align_content": null,
            "align_items": null,
            "align_self": null,
            "border": null,
            "bottom": null,
            "display": null,
            "flex": null,
            "flex_flow": null,
            "grid_area": null,
            "grid_auto_columns": null,
            "grid_auto_flow": null,
            "grid_auto_rows": null,
            "grid_column": null,
            "grid_gap": null,
            "grid_row": null,
            "grid_template_areas": null,
            "grid_template_columns": null,
            "grid_template_rows": null,
            "height": null,
            "justify_content": null,
            "justify_items": null,
            "left": null,
            "margin": null,
            "max_height": null,
            "max_width": null,
            "min_height": null,
            "min_width": null,
            "object_fit": null,
            "object_position": null,
            "order": null,
            "overflow": null,
            "overflow_x": null,
            "overflow_y": null,
            "padding": null,
            "right": null,
            "top": null,
            "visibility": null,
            "width": null
          }
        },
        "e32343df494d4e4a8ba2ec2d19ab892f": {
          "model_module": "@jupyter-widgets/controls",
          "model_name": "ProgressStyleModel",
          "model_module_version": "1.5.0",
          "state": {
            "_model_module": "@jupyter-widgets/controls",
            "_model_module_version": "1.5.0",
            "_model_name": "ProgressStyleModel",
            "_view_count": null,
            "_view_module": "@jupyter-widgets/base",
            "_view_module_version": "1.2.0",
            "_view_name": "StyleView",
            "bar_color": null,
            "description_width": ""
          }
        },
        "ace966ba53524b89b8fc590eae372a6e": {
          "model_module": "@jupyter-widgets/base",
          "model_name": "LayoutModel",
          "model_module_version": "1.2.0",
          "state": {
            "_model_module": "@jupyter-widgets/base",
            "_model_module_version": "1.2.0",
            "_model_name": "LayoutModel",
            "_view_count": null,
            "_view_module": "@jupyter-widgets/base",
            "_view_module_version": "1.2.0",
            "_view_name": "LayoutView",
            "align_content": null,
            "align_items": null,
            "align_self": null,
            "border": null,
            "bottom": null,
            "display": null,
            "flex": null,
            "flex_flow": null,
            "grid_area": null,
            "grid_auto_columns": null,
            "grid_auto_flow": null,
            "grid_auto_rows": null,
            "grid_column": null,
            "grid_gap": null,
            "grid_row": null,
            "grid_template_areas": null,
            "grid_template_columns": null,
            "grid_template_rows": null,
            "height": null,
            "justify_content": null,
            "justify_items": null,
            "left": null,
            "margin": null,
            "max_height": null,
            "max_width": null,
            "min_height": null,
            "min_width": null,
            "object_fit": null,
            "object_position": null,
            "order": null,
            "overflow": null,
            "overflow_x": null,
            "overflow_y": null,
            "padding": null,
            "right": null,
            "top": null,
            "visibility": null,
            "width": null
          }
        },
        "40bf1a09b7d74fe5bc5cd144741c9c85": {
          "model_module": "@jupyter-widgets/controls",
          "model_name": "DescriptionStyleModel",
          "model_module_version": "1.5.0",
          "state": {
            "_model_module": "@jupyter-widgets/controls",
            "_model_module_version": "1.5.0",
            "_model_name": "DescriptionStyleModel",
            "_view_count": null,
            "_view_module": "@jupyter-widgets/base",
            "_view_module_version": "1.2.0",
            "_view_name": "StyleView",
            "description_width": ""
          }
        },
        "48ecdf07f379438b87c63b0f05df0326": {
          "model_module": "@jupyter-widgets/controls",
          "model_name": "HBoxModel",
          "model_module_version": "1.5.0",
          "state": {
            "_dom_classes": [],
            "_model_module": "@jupyter-widgets/controls",
            "_model_module_version": "1.5.0",
            "_model_name": "HBoxModel",
            "_view_count": null,
            "_view_module": "@jupyter-widgets/controls",
            "_view_module_version": "1.5.0",
            "_view_name": "HBoxView",
            "box_style": "",
            "children": [
              "IPY_MODEL_64a8275acd264bb89fe2fc02b71b9da7",
              "IPY_MODEL_1e0e6ff67fda4770927afad7e2aff3c1",
              "IPY_MODEL_73a538901beb4a8aba7684bafd55b097"
            ],
            "layout": "IPY_MODEL_a9386816678c4904893f51315c122b18"
          }
        },
        "64a8275acd264bb89fe2fc02b71b9da7": {
          "model_module": "@jupyter-widgets/controls",
          "model_name": "HTMLModel",
          "model_module_version": "1.5.0",
          "state": {
            "_dom_classes": [],
            "_model_module": "@jupyter-widgets/controls",
            "_model_module_version": "1.5.0",
            "_model_name": "HTMLModel",
            "_view_count": null,
            "_view_module": "@jupyter-widgets/controls",
            "_view_module_version": "1.5.0",
            "_view_name": "HTMLView",
            "description": "",
            "description_tooltip": null,
            "layout": "IPY_MODEL_ffad53c064514e2e9b90dc6f84e37fd6",
            "placeholder": "​",
            "style": "IPY_MODEL_5afe0122ee1444d5bd79d0e2fb1cb98d",
            "value": "Best trial: 34. Best value: 11.6123: 100%"
          }
        },
        "1e0e6ff67fda4770927afad7e2aff3c1": {
          "model_module": "@jupyter-widgets/controls",
          "model_name": "FloatProgressModel",
          "model_module_version": "1.5.0",
          "state": {
            "_dom_classes": [],
            "_model_module": "@jupyter-widgets/controls",
            "_model_module_version": "1.5.0",
            "_model_name": "FloatProgressModel",
            "_view_count": null,
            "_view_module": "@jupyter-widgets/controls",
            "_view_module_version": "1.5.0",
            "_view_name": "ProgressView",
            "bar_style": "success",
            "description": "",
            "description_tooltip": null,
            "layout": "IPY_MODEL_217ec909f7c3403bb404ac982780a339",
            "max": 100,
            "min": 0,
            "orientation": "horizontal",
            "style": "IPY_MODEL_172bdd99c6664d5e917356705d2f5cee",
            "value": 100
          }
        },
        "73a538901beb4a8aba7684bafd55b097": {
          "model_module": "@jupyter-widgets/controls",
          "model_name": "HTMLModel",
          "model_module_version": "1.5.0",
          "state": {
            "_dom_classes": [],
            "_model_module": "@jupyter-widgets/controls",
            "_model_module_version": "1.5.0",
            "_model_name": "HTMLModel",
            "_view_count": null,
            "_view_module": "@jupyter-widgets/controls",
            "_view_module_version": "1.5.0",
            "_view_name": "HTMLView",
            "description": "",
            "description_tooltip": null,
            "layout": "IPY_MODEL_ceb8b49c81f84dc18ac2b159e5324202",
            "placeholder": "​",
            "style": "IPY_MODEL_0bab15013383484ab9aac9d478674a49",
            "value": " 100/100 [01:15&lt;00:00,  1.44it/s]"
          }
        },
        "a9386816678c4904893f51315c122b18": {
          "model_module": "@jupyter-widgets/base",
          "model_name": "LayoutModel",
          "model_module_version": "1.2.0",
          "state": {
            "_model_module": "@jupyter-widgets/base",
            "_model_module_version": "1.2.0",
            "_model_name": "LayoutModel",
            "_view_count": null,
            "_view_module": "@jupyter-widgets/base",
            "_view_module_version": "1.2.0",
            "_view_name": "LayoutView",
            "align_content": null,
            "align_items": null,
            "align_self": null,
            "border": null,
            "bottom": null,
            "display": null,
            "flex": null,
            "flex_flow": null,
            "grid_area": null,
            "grid_auto_columns": null,
            "grid_auto_flow": null,
            "grid_auto_rows": null,
            "grid_column": null,
            "grid_gap": null,
            "grid_row": null,
            "grid_template_areas": null,
            "grid_template_columns": null,
            "grid_template_rows": null,
            "height": null,
            "justify_content": null,
            "justify_items": null,
            "left": null,
            "margin": null,
            "max_height": null,
            "max_width": null,
            "min_height": null,
            "min_width": null,
            "object_fit": null,
            "object_position": null,
            "order": null,
            "overflow": null,
            "overflow_x": null,
            "overflow_y": null,
            "padding": null,
            "right": null,
            "top": null,
            "visibility": null,
            "width": null
          }
        },
        "ffad53c064514e2e9b90dc6f84e37fd6": {
          "model_module": "@jupyter-widgets/base",
          "model_name": "LayoutModel",
          "model_module_version": "1.2.0",
          "state": {
            "_model_module": "@jupyter-widgets/base",
            "_model_module_version": "1.2.0",
            "_model_name": "LayoutModel",
            "_view_count": null,
            "_view_module": "@jupyter-widgets/base",
            "_view_module_version": "1.2.0",
            "_view_name": "LayoutView",
            "align_content": null,
            "align_items": null,
            "align_self": null,
            "border": null,
            "bottom": null,
            "display": null,
            "flex": null,
            "flex_flow": null,
            "grid_area": null,
            "grid_auto_columns": null,
            "grid_auto_flow": null,
            "grid_auto_rows": null,
            "grid_column": null,
            "grid_gap": null,
            "grid_row": null,
            "grid_template_areas": null,
            "grid_template_columns": null,
            "grid_template_rows": null,
            "height": null,
            "justify_content": null,
            "justify_items": null,
            "left": null,
            "margin": null,
            "max_height": null,
            "max_width": null,
            "min_height": null,
            "min_width": null,
            "object_fit": null,
            "object_position": null,
            "order": null,
            "overflow": null,
            "overflow_x": null,
            "overflow_y": null,
            "padding": null,
            "right": null,
            "top": null,
            "visibility": null,
            "width": null
          }
        },
        "5afe0122ee1444d5bd79d0e2fb1cb98d": {
          "model_module": "@jupyter-widgets/controls",
          "model_name": "DescriptionStyleModel",
          "model_module_version": "1.5.0",
          "state": {
            "_model_module": "@jupyter-widgets/controls",
            "_model_module_version": "1.5.0",
            "_model_name": "DescriptionStyleModel",
            "_view_count": null,
            "_view_module": "@jupyter-widgets/base",
            "_view_module_version": "1.2.0",
            "_view_name": "StyleView",
            "description_width": ""
          }
        },
        "217ec909f7c3403bb404ac982780a339": {
          "model_module": "@jupyter-widgets/base",
          "model_name": "LayoutModel",
          "model_module_version": "1.2.0",
          "state": {
            "_model_module": "@jupyter-widgets/base",
            "_model_module_version": "1.2.0",
            "_model_name": "LayoutModel",
            "_view_count": null,
            "_view_module": "@jupyter-widgets/base",
            "_view_module_version": "1.2.0",
            "_view_name": "LayoutView",
            "align_content": null,
            "align_items": null,
            "align_self": null,
            "border": null,
            "bottom": null,
            "display": null,
            "flex": null,
            "flex_flow": null,
            "grid_area": null,
            "grid_auto_columns": null,
            "grid_auto_flow": null,
            "grid_auto_rows": null,
            "grid_column": null,
            "grid_gap": null,
            "grid_row": null,
            "grid_template_areas": null,
            "grid_template_columns": null,
            "grid_template_rows": null,
            "height": null,
            "justify_content": null,
            "justify_items": null,
            "left": null,
            "margin": null,
            "max_height": null,
            "max_width": null,
            "min_height": null,
            "min_width": null,
            "object_fit": null,
            "object_position": null,
            "order": null,
            "overflow": null,
            "overflow_x": null,
            "overflow_y": null,
            "padding": null,
            "right": null,
            "top": null,
            "visibility": null,
            "width": null
          }
        },
        "172bdd99c6664d5e917356705d2f5cee": {
          "model_module": "@jupyter-widgets/controls",
          "model_name": "ProgressStyleModel",
          "model_module_version": "1.5.0",
          "state": {
            "_model_module": "@jupyter-widgets/controls",
            "_model_module_version": "1.5.0",
            "_model_name": "ProgressStyleModel",
            "_view_count": null,
            "_view_module": "@jupyter-widgets/base",
            "_view_module_version": "1.2.0",
            "_view_name": "StyleView",
            "bar_color": null,
            "description_width": ""
          }
        },
        "ceb8b49c81f84dc18ac2b159e5324202": {
          "model_module": "@jupyter-widgets/base",
          "model_name": "LayoutModel",
          "model_module_version": "1.2.0",
          "state": {
            "_model_module": "@jupyter-widgets/base",
            "_model_module_version": "1.2.0",
            "_model_name": "LayoutModel",
            "_view_count": null,
            "_view_module": "@jupyter-widgets/base",
            "_view_module_version": "1.2.0",
            "_view_name": "LayoutView",
            "align_content": null,
            "align_items": null,
            "align_self": null,
            "border": null,
            "bottom": null,
            "display": null,
            "flex": null,
            "flex_flow": null,
            "grid_area": null,
            "grid_auto_columns": null,
            "grid_auto_flow": null,
            "grid_auto_rows": null,
            "grid_column": null,
            "grid_gap": null,
            "grid_row": null,
            "grid_template_areas": null,
            "grid_template_columns": null,
            "grid_template_rows": null,
            "height": null,
            "justify_content": null,
            "justify_items": null,
            "left": null,
            "margin": null,
            "max_height": null,
            "max_width": null,
            "min_height": null,
            "min_width": null,
            "object_fit": null,
            "object_position": null,
            "order": null,
            "overflow": null,
            "overflow_x": null,
            "overflow_y": null,
            "padding": null,
            "right": null,
            "top": null,
            "visibility": null,
            "width": null
          }
        },
        "0bab15013383484ab9aac9d478674a49": {
          "model_module": "@jupyter-widgets/controls",
          "model_name": "DescriptionStyleModel",
          "model_module_version": "1.5.0",
          "state": {
            "_model_module": "@jupyter-widgets/controls",
            "_model_module_version": "1.5.0",
            "_model_name": "DescriptionStyleModel",
            "_view_count": null,
            "_view_module": "@jupyter-widgets/base",
            "_view_module_version": "1.2.0",
            "_view_name": "StyleView",
            "description_width": ""
          }
        },
        "95ff242a9b8543c3ac1dac9f075626ee": {
          "model_module": "@jupyter-widgets/controls",
          "model_name": "HBoxModel",
          "model_module_version": "1.5.0",
          "state": {
            "_dom_classes": [],
            "_model_module": "@jupyter-widgets/controls",
            "_model_module_version": "1.5.0",
            "_model_name": "HBoxModel",
            "_view_count": null,
            "_view_module": "@jupyter-widgets/controls",
            "_view_module_version": "1.5.0",
            "_view_name": "HBoxView",
            "box_style": "",
            "children": [
              "IPY_MODEL_a26ba52002b34f1ba993b925f37a1dd8",
              "IPY_MODEL_998c3228f2b34942b94a0df098ab6bab",
              "IPY_MODEL_91da575abed34b29a7005bd4b40e0624"
            ],
            "layout": "IPY_MODEL_2870740463934cf18697633415884720"
          }
        },
        "a26ba52002b34f1ba993b925f37a1dd8": {
          "model_module": "@jupyter-widgets/controls",
          "model_name": "HTMLModel",
          "model_module_version": "1.5.0",
          "state": {
            "_dom_classes": [],
            "_model_module": "@jupyter-widgets/controls",
            "_model_module_version": "1.5.0",
            "_model_name": "HTMLModel",
            "_view_count": null,
            "_view_module": "@jupyter-widgets/controls",
            "_view_module_version": "1.5.0",
            "_view_name": "HTMLView",
            "description": "",
            "description_tooltip": null,
            "layout": "IPY_MODEL_1f34dc5e6bb34bf3a1168507fdb067c5",
            "placeholder": "​",
            "style": "IPY_MODEL_1d46f84affbc43e89879fe8c518420c2",
            "value": "Best trial: 50. Best value: 14.5485: 100%"
          }
        },
        "998c3228f2b34942b94a0df098ab6bab": {
          "model_module": "@jupyter-widgets/controls",
          "model_name": "FloatProgressModel",
          "model_module_version": "1.5.0",
          "state": {
            "_dom_classes": [],
            "_model_module": "@jupyter-widgets/controls",
            "_model_module_version": "1.5.0",
            "_model_name": "FloatProgressModel",
            "_view_count": null,
            "_view_module": "@jupyter-widgets/controls",
            "_view_module_version": "1.5.0",
            "_view_name": "ProgressView",
            "bar_style": "success",
            "description": "",
            "description_tooltip": null,
            "layout": "IPY_MODEL_01c7da63ad284ff1bf89bc53c784b99d",
            "max": 100,
            "min": 0,
            "orientation": "horizontal",
            "style": "IPY_MODEL_f95ebc40b77e4c32a8200dd8e0262f7d",
            "value": 100
          }
        },
        "91da575abed34b29a7005bd4b40e0624": {
          "model_module": "@jupyter-widgets/controls",
          "model_name": "HTMLModel",
          "model_module_version": "1.5.0",
          "state": {
            "_dom_classes": [],
            "_model_module": "@jupyter-widgets/controls",
            "_model_module_version": "1.5.0",
            "_model_name": "HTMLModel",
            "_view_count": null,
            "_view_module": "@jupyter-widgets/controls",
            "_view_module_version": "1.5.0",
            "_view_name": "HTMLView",
            "description": "",
            "description_tooltip": null,
            "layout": "IPY_MODEL_8035b1797d3646ecadf667e420f66a5c",
            "placeholder": "​",
            "style": "IPY_MODEL_88987c5b7d554731b3f5e018c12602db",
            "value": " 100/100 [00:22&lt;00:00,  5.19it/s]"
          }
        },
        "2870740463934cf18697633415884720": {
          "model_module": "@jupyter-widgets/base",
          "model_name": "LayoutModel",
          "model_module_version": "1.2.0",
          "state": {
            "_model_module": "@jupyter-widgets/base",
            "_model_module_version": "1.2.0",
            "_model_name": "LayoutModel",
            "_view_count": null,
            "_view_module": "@jupyter-widgets/base",
            "_view_module_version": "1.2.0",
            "_view_name": "LayoutView",
            "align_content": null,
            "align_items": null,
            "align_self": null,
            "border": null,
            "bottom": null,
            "display": null,
            "flex": null,
            "flex_flow": null,
            "grid_area": null,
            "grid_auto_columns": null,
            "grid_auto_flow": null,
            "grid_auto_rows": null,
            "grid_column": null,
            "grid_gap": null,
            "grid_row": null,
            "grid_template_areas": null,
            "grid_template_columns": null,
            "grid_template_rows": null,
            "height": null,
            "justify_content": null,
            "justify_items": null,
            "left": null,
            "margin": null,
            "max_height": null,
            "max_width": null,
            "min_height": null,
            "min_width": null,
            "object_fit": null,
            "object_position": null,
            "order": null,
            "overflow": null,
            "overflow_x": null,
            "overflow_y": null,
            "padding": null,
            "right": null,
            "top": null,
            "visibility": null,
            "width": null
          }
        },
        "1f34dc5e6bb34bf3a1168507fdb067c5": {
          "model_module": "@jupyter-widgets/base",
          "model_name": "LayoutModel",
          "model_module_version": "1.2.0",
          "state": {
            "_model_module": "@jupyter-widgets/base",
            "_model_module_version": "1.2.0",
            "_model_name": "LayoutModel",
            "_view_count": null,
            "_view_module": "@jupyter-widgets/base",
            "_view_module_version": "1.2.0",
            "_view_name": "LayoutView",
            "align_content": null,
            "align_items": null,
            "align_self": null,
            "border": null,
            "bottom": null,
            "display": null,
            "flex": null,
            "flex_flow": null,
            "grid_area": null,
            "grid_auto_columns": null,
            "grid_auto_flow": null,
            "grid_auto_rows": null,
            "grid_column": null,
            "grid_gap": null,
            "grid_row": null,
            "grid_template_areas": null,
            "grid_template_columns": null,
            "grid_template_rows": null,
            "height": null,
            "justify_content": null,
            "justify_items": null,
            "left": null,
            "margin": null,
            "max_height": null,
            "max_width": null,
            "min_height": null,
            "min_width": null,
            "object_fit": null,
            "object_position": null,
            "order": null,
            "overflow": null,
            "overflow_x": null,
            "overflow_y": null,
            "padding": null,
            "right": null,
            "top": null,
            "visibility": null,
            "width": null
          }
        },
        "1d46f84affbc43e89879fe8c518420c2": {
          "model_module": "@jupyter-widgets/controls",
          "model_name": "DescriptionStyleModel",
          "model_module_version": "1.5.0",
          "state": {
            "_model_module": "@jupyter-widgets/controls",
            "_model_module_version": "1.5.0",
            "_model_name": "DescriptionStyleModel",
            "_view_count": null,
            "_view_module": "@jupyter-widgets/base",
            "_view_module_version": "1.2.0",
            "_view_name": "StyleView",
            "description_width": ""
          }
        },
        "01c7da63ad284ff1bf89bc53c784b99d": {
          "model_module": "@jupyter-widgets/base",
          "model_name": "LayoutModel",
          "model_module_version": "1.2.0",
          "state": {
            "_model_module": "@jupyter-widgets/base",
            "_model_module_version": "1.2.0",
            "_model_name": "LayoutModel",
            "_view_count": null,
            "_view_module": "@jupyter-widgets/base",
            "_view_module_version": "1.2.0",
            "_view_name": "LayoutView",
            "align_content": null,
            "align_items": null,
            "align_self": null,
            "border": null,
            "bottom": null,
            "display": null,
            "flex": null,
            "flex_flow": null,
            "grid_area": null,
            "grid_auto_columns": null,
            "grid_auto_flow": null,
            "grid_auto_rows": null,
            "grid_column": null,
            "grid_gap": null,
            "grid_row": null,
            "grid_template_areas": null,
            "grid_template_columns": null,
            "grid_template_rows": null,
            "height": null,
            "justify_content": null,
            "justify_items": null,
            "left": null,
            "margin": null,
            "max_height": null,
            "max_width": null,
            "min_height": null,
            "min_width": null,
            "object_fit": null,
            "object_position": null,
            "order": null,
            "overflow": null,
            "overflow_x": null,
            "overflow_y": null,
            "padding": null,
            "right": null,
            "top": null,
            "visibility": null,
            "width": null
          }
        },
        "f95ebc40b77e4c32a8200dd8e0262f7d": {
          "model_module": "@jupyter-widgets/controls",
          "model_name": "ProgressStyleModel",
          "model_module_version": "1.5.0",
          "state": {
            "_model_module": "@jupyter-widgets/controls",
            "_model_module_version": "1.5.0",
            "_model_name": "ProgressStyleModel",
            "_view_count": null,
            "_view_module": "@jupyter-widgets/base",
            "_view_module_version": "1.2.0",
            "_view_name": "StyleView",
            "bar_color": null,
            "description_width": ""
          }
        },
        "8035b1797d3646ecadf667e420f66a5c": {
          "model_module": "@jupyter-widgets/base",
          "model_name": "LayoutModel",
          "model_module_version": "1.2.0",
          "state": {
            "_model_module": "@jupyter-widgets/base",
            "_model_module_version": "1.2.0",
            "_model_name": "LayoutModel",
            "_view_count": null,
            "_view_module": "@jupyter-widgets/base",
            "_view_module_version": "1.2.0",
            "_view_name": "LayoutView",
            "align_content": null,
            "align_items": null,
            "align_self": null,
            "border": null,
            "bottom": null,
            "display": null,
            "flex": null,
            "flex_flow": null,
            "grid_area": null,
            "grid_auto_columns": null,
            "grid_auto_flow": null,
            "grid_auto_rows": null,
            "grid_column": null,
            "grid_gap": null,
            "grid_row": null,
            "grid_template_areas": null,
            "grid_template_columns": null,
            "grid_template_rows": null,
            "height": null,
            "justify_content": null,
            "justify_items": null,
            "left": null,
            "margin": null,
            "max_height": null,
            "max_width": null,
            "min_height": null,
            "min_width": null,
            "object_fit": null,
            "object_position": null,
            "order": null,
            "overflow": null,
            "overflow_x": null,
            "overflow_y": null,
            "padding": null,
            "right": null,
            "top": null,
            "visibility": null,
            "width": null
          }
        },
        "88987c5b7d554731b3f5e018c12602db": {
          "model_module": "@jupyter-widgets/controls",
          "model_name": "DescriptionStyleModel",
          "model_module_version": "1.5.0",
          "state": {
            "_model_module": "@jupyter-widgets/controls",
            "_model_module_version": "1.5.0",
            "_model_name": "DescriptionStyleModel",
            "_view_count": null,
            "_view_module": "@jupyter-widgets/base",
            "_view_module_version": "1.2.0",
            "_view_name": "StyleView",
            "description_width": ""
          }
        },
        "b1c3d80f7dff4d5b8ea3812964e421a6": {
          "model_module": "@jupyter-widgets/controls",
          "model_name": "HBoxModel",
          "model_module_version": "1.5.0",
          "state": {
            "_dom_classes": [],
            "_model_module": "@jupyter-widgets/controls",
            "_model_module_version": "1.5.0",
            "_model_name": "HBoxModel",
            "_view_count": null,
            "_view_module": "@jupyter-widgets/controls",
            "_view_module_version": "1.5.0",
            "_view_name": "HBoxView",
            "box_style": "",
            "children": [
              "IPY_MODEL_f43519739a2a439dbba6cb98f3f97396",
              "IPY_MODEL_7600b04099694507a0e62eb3300f82f7",
              "IPY_MODEL_3b2024a080b04e0aaf8071777699fefa"
            ],
            "layout": "IPY_MODEL_425ee9bbd8b94ddb985d4fe266c6e70f"
          }
        },
        "f43519739a2a439dbba6cb98f3f97396": {
          "model_module": "@jupyter-widgets/controls",
          "model_name": "HTMLModel",
          "model_module_version": "1.5.0",
          "state": {
            "_dom_classes": [],
            "_model_module": "@jupyter-widgets/controls",
            "_model_module_version": "1.5.0",
            "_model_name": "HTMLModel",
            "_view_count": null,
            "_view_module": "@jupyter-widgets/controls",
            "_view_module_version": "1.5.0",
            "_view_name": "HTMLView",
            "description": "",
            "description_tooltip": null,
            "layout": "IPY_MODEL_1bb9ccc59c544ddba983468d4aa7bda9",
            "placeholder": "​",
            "style": "IPY_MODEL_86129d627fc148f89a1e09a3cef180f9",
            "value": "Best trial: 71. Best value: 11.6291: 100%"
          }
        },
        "7600b04099694507a0e62eb3300f82f7": {
          "model_module": "@jupyter-widgets/controls",
          "model_name": "FloatProgressModel",
          "model_module_version": "1.5.0",
          "state": {
            "_dom_classes": [],
            "_model_module": "@jupyter-widgets/controls",
            "_model_module_version": "1.5.0",
            "_model_name": "FloatProgressModel",
            "_view_count": null,
            "_view_module": "@jupyter-widgets/controls",
            "_view_module_version": "1.5.0",
            "_view_name": "ProgressView",
            "bar_style": "success",
            "description": "",
            "description_tooltip": null,
            "layout": "IPY_MODEL_73778796fb6f470cb07a03a0f53f5768",
            "max": 100,
            "min": 0,
            "orientation": "horizontal",
            "style": "IPY_MODEL_a3960cea876248feb2ecc7f234b9fcd6",
            "value": 100
          }
        },
        "3b2024a080b04e0aaf8071777699fefa": {
          "model_module": "@jupyter-widgets/controls",
          "model_name": "HTMLModel",
          "model_module_version": "1.5.0",
          "state": {
            "_dom_classes": [],
            "_model_module": "@jupyter-widgets/controls",
            "_model_module_version": "1.5.0",
            "_model_name": "HTMLModel",
            "_view_count": null,
            "_view_module": "@jupyter-widgets/controls",
            "_view_module_version": "1.5.0",
            "_view_name": "HTMLView",
            "description": "",
            "description_tooltip": null,
            "layout": "IPY_MODEL_c1421a6309784397915289179aa76ae0",
            "placeholder": "​",
            "style": "IPY_MODEL_8740f98683bf4f3cab9d6d61c1e757cc",
            "value": " 100/100 [01:38&lt;00:00,  1.31it/s]"
          }
        },
        "425ee9bbd8b94ddb985d4fe266c6e70f": {
          "model_module": "@jupyter-widgets/base",
          "model_name": "LayoutModel",
          "model_module_version": "1.2.0",
          "state": {
            "_model_module": "@jupyter-widgets/base",
            "_model_module_version": "1.2.0",
            "_model_name": "LayoutModel",
            "_view_count": null,
            "_view_module": "@jupyter-widgets/base",
            "_view_module_version": "1.2.0",
            "_view_name": "LayoutView",
            "align_content": null,
            "align_items": null,
            "align_self": null,
            "border": null,
            "bottom": null,
            "display": null,
            "flex": null,
            "flex_flow": null,
            "grid_area": null,
            "grid_auto_columns": null,
            "grid_auto_flow": null,
            "grid_auto_rows": null,
            "grid_column": null,
            "grid_gap": null,
            "grid_row": null,
            "grid_template_areas": null,
            "grid_template_columns": null,
            "grid_template_rows": null,
            "height": null,
            "justify_content": null,
            "justify_items": null,
            "left": null,
            "margin": null,
            "max_height": null,
            "max_width": null,
            "min_height": null,
            "min_width": null,
            "object_fit": null,
            "object_position": null,
            "order": null,
            "overflow": null,
            "overflow_x": null,
            "overflow_y": null,
            "padding": null,
            "right": null,
            "top": null,
            "visibility": null,
            "width": null
          }
        },
        "1bb9ccc59c544ddba983468d4aa7bda9": {
          "model_module": "@jupyter-widgets/base",
          "model_name": "LayoutModel",
          "model_module_version": "1.2.0",
          "state": {
            "_model_module": "@jupyter-widgets/base",
            "_model_module_version": "1.2.0",
            "_model_name": "LayoutModel",
            "_view_count": null,
            "_view_module": "@jupyter-widgets/base",
            "_view_module_version": "1.2.0",
            "_view_name": "LayoutView",
            "align_content": null,
            "align_items": null,
            "align_self": null,
            "border": null,
            "bottom": null,
            "display": null,
            "flex": null,
            "flex_flow": null,
            "grid_area": null,
            "grid_auto_columns": null,
            "grid_auto_flow": null,
            "grid_auto_rows": null,
            "grid_column": null,
            "grid_gap": null,
            "grid_row": null,
            "grid_template_areas": null,
            "grid_template_columns": null,
            "grid_template_rows": null,
            "height": null,
            "justify_content": null,
            "justify_items": null,
            "left": null,
            "margin": null,
            "max_height": null,
            "max_width": null,
            "min_height": null,
            "min_width": null,
            "object_fit": null,
            "object_position": null,
            "order": null,
            "overflow": null,
            "overflow_x": null,
            "overflow_y": null,
            "padding": null,
            "right": null,
            "top": null,
            "visibility": null,
            "width": null
          }
        },
        "86129d627fc148f89a1e09a3cef180f9": {
          "model_module": "@jupyter-widgets/controls",
          "model_name": "DescriptionStyleModel",
          "model_module_version": "1.5.0",
          "state": {
            "_model_module": "@jupyter-widgets/controls",
            "_model_module_version": "1.5.0",
            "_model_name": "DescriptionStyleModel",
            "_view_count": null,
            "_view_module": "@jupyter-widgets/base",
            "_view_module_version": "1.2.0",
            "_view_name": "StyleView",
            "description_width": ""
          }
        },
        "73778796fb6f470cb07a03a0f53f5768": {
          "model_module": "@jupyter-widgets/base",
          "model_name": "LayoutModel",
          "model_module_version": "1.2.0",
          "state": {
            "_model_module": "@jupyter-widgets/base",
            "_model_module_version": "1.2.0",
            "_model_name": "LayoutModel",
            "_view_count": null,
            "_view_module": "@jupyter-widgets/base",
            "_view_module_version": "1.2.0",
            "_view_name": "LayoutView",
            "align_content": null,
            "align_items": null,
            "align_self": null,
            "border": null,
            "bottom": null,
            "display": null,
            "flex": null,
            "flex_flow": null,
            "grid_area": null,
            "grid_auto_columns": null,
            "grid_auto_flow": null,
            "grid_auto_rows": null,
            "grid_column": null,
            "grid_gap": null,
            "grid_row": null,
            "grid_template_areas": null,
            "grid_template_columns": null,
            "grid_template_rows": null,
            "height": null,
            "justify_content": null,
            "justify_items": null,
            "left": null,
            "margin": null,
            "max_height": null,
            "max_width": null,
            "min_height": null,
            "min_width": null,
            "object_fit": null,
            "object_position": null,
            "order": null,
            "overflow": null,
            "overflow_x": null,
            "overflow_y": null,
            "padding": null,
            "right": null,
            "top": null,
            "visibility": null,
            "width": null
          }
        },
        "a3960cea876248feb2ecc7f234b9fcd6": {
          "model_module": "@jupyter-widgets/controls",
          "model_name": "ProgressStyleModel",
          "model_module_version": "1.5.0",
          "state": {
            "_model_module": "@jupyter-widgets/controls",
            "_model_module_version": "1.5.0",
            "_model_name": "ProgressStyleModel",
            "_view_count": null,
            "_view_module": "@jupyter-widgets/base",
            "_view_module_version": "1.2.0",
            "_view_name": "StyleView",
            "bar_color": null,
            "description_width": ""
          }
        },
        "c1421a6309784397915289179aa76ae0": {
          "model_module": "@jupyter-widgets/base",
          "model_name": "LayoutModel",
          "model_module_version": "1.2.0",
          "state": {
            "_model_module": "@jupyter-widgets/base",
            "_model_module_version": "1.2.0",
            "_model_name": "LayoutModel",
            "_view_count": null,
            "_view_module": "@jupyter-widgets/base",
            "_view_module_version": "1.2.0",
            "_view_name": "LayoutView",
            "align_content": null,
            "align_items": null,
            "align_self": null,
            "border": null,
            "bottom": null,
            "display": null,
            "flex": null,
            "flex_flow": null,
            "grid_area": null,
            "grid_auto_columns": null,
            "grid_auto_flow": null,
            "grid_auto_rows": null,
            "grid_column": null,
            "grid_gap": null,
            "grid_row": null,
            "grid_template_areas": null,
            "grid_template_columns": null,
            "grid_template_rows": null,
            "height": null,
            "justify_content": null,
            "justify_items": null,
            "left": null,
            "margin": null,
            "max_height": null,
            "max_width": null,
            "min_height": null,
            "min_width": null,
            "object_fit": null,
            "object_position": null,
            "order": null,
            "overflow": null,
            "overflow_x": null,
            "overflow_y": null,
            "padding": null,
            "right": null,
            "top": null,
            "visibility": null,
            "width": null
          }
        },
        "8740f98683bf4f3cab9d6d61c1e757cc": {
          "model_module": "@jupyter-widgets/controls",
          "model_name": "DescriptionStyleModel",
          "model_module_version": "1.5.0",
          "state": {
            "_model_module": "@jupyter-widgets/controls",
            "_model_module_version": "1.5.0",
            "_model_name": "DescriptionStyleModel",
            "_view_count": null,
            "_view_module": "@jupyter-widgets/base",
            "_view_module_version": "1.2.0",
            "_view_name": "StyleView",
            "description_width": ""
          }
        },
        "59882c83970f4106acedc9bbf3942452": {
          "model_module": "@jupyter-widgets/controls",
          "model_name": "HBoxModel",
          "model_module_version": "1.5.0",
          "state": {
            "_dom_classes": [],
            "_model_module": "@jupyter-widgets/controls",
            "_model_module_version": "1.5.0",
            "_model_name": "HBoxModel",
            "_view_count": null,
            "_view_module": "@jupyter-widgets/controls",
            "_view_module_version": "1.5.0",
            "_view_name": "HBoxView",
            "box_style": "",
            "children": [
              "IPY_MODEL_0b6bba71ce6a4e13901f873ebb029a64",
              "IPY_MODEL_66620b4779b141e387d5e9dc90b5d70e",
              "IPY_MODEL_441e16729c9a478eb69403114cb9eada"
            ],
            "layout": "IPY_MODEL_db2e035516c344a3815aa312724352b1"
          }
        },
        "0b6bba71ce6a4e13901f873ebb029a64": {
          "model_module": "@jupyter-widgets/controls",
          "model_name": "HTMLModel",
          "model_module_version": "1.5.0",
          "state": {
            "_dom_classes": [],
            "_model_module": "@jupyter-widgets/controls",
            "_model_module_version": "1.5.0",
            "_model_name": "HTMLModel",
            "_view_count": null,
            "_view_module": "@jupyter-widgets/controls",
            "_view_module_version": "1.5.0",
            "_view_name": "HTMLView",
            "description": "",
            "description_tooltip": null,
            "layout": "IPY_MODEL_a09051e32cbf4e03961a926f0c4d5914",
            "placeholder": "​",
            "style": "IPY_MODEL_6a50d32f8a5c40c69fe228c237ed5b6b",
            "value": "Best trial: 67. Best value: 11.7161: 100%"
          }
        },
        "66620b4779b141e387d5e9dc90b5d70e": {
          "model_module": "@jupyter-widgets/controls",
          "model_name": "FloatProgressModel",
          "model_module_version": "1.5.0",
          "state": {
            "_dom_classes": [],
            "_model_module": "@jupyter-widgets/controls",
            "_model_module_version": "1.5.0",
            "_model_name": "FloatProgressModel",
            "_view_count": null,
            "_view_module": "@jupyter-widgets/controls",
            "_view_module_version": "1.5.0",
            "_view_name": "ProgressView",
            "bar_style": "success",
            "description": "",
            "description_tooltip": null,
            "layout": "IPY_MODEL_bf9d455867964bda9a520e050bec546a",
            "max": 100,
            "min": 0,
            "orientation": "horizontal",
            "style": "IPY_MODEL_88c9e8deef204148bfa34a998f42c1ed",
            "value": 100
          }
        },
        "441e16729c9a478eb69403114cb9eada": {
          "model_module": "@jupyter-widgets/controls",
          "model_name": "HTMLModel",
          "model_module_version": "1.5.0",
          "state": {
            "_dom_classes": [],
            "_model_module": "@jupyter-widgets/controls",
            "_model_module_version": "1.5.0",
            "_model_name": "HTMLModel",
            "_view_count": null,
            "_view_module": "@jupyter-widgets/controls",
            "_view_module_version": "1.5.0",
            "_view_name": "HTMLView",
            "description": "",
            "description_tooltip": null,
            "layout": "IPY_MODEL_d3966fa772134c5380f1b20d34a4c134",
            "placeholder": "​",
            "style": "IPY_MODEL_f5093488533145019d2e46095af9077c",
            "value": " 100/100 [04:35&lt;00:00,  2.50s/it]"
          }
        },
        "db2e035516c344a3815aa312724352b1": {
          "model_module": "@jupyter-widgets/base",
          "model_name": "LayoutModel",
          "model_module_version": "1.2.0",
          "state": {
            "_model_module": "@jupyter-widgets/base",
            "_model_module_version": "1.2.0",
            "_model_name": "LayoutModel",
            "_view_count": null,
            "_view_module": "@jupyter-widgets/base",
            "_view_module_version": "1.2.0",
            "_view_name": "LayoutView",
            "align_content": null,
            "align_items": null,
            "align_self": null,
            "border": null,
            "bottom": null,
            "display": null,
            "flex": null,
            "flex_flow": null,
            "grid_area": null,
            "grid_auto_columns": null,
            "grid_auto_flow": null,
            "grid_auto_rows": null,
            "grid_column": null,
            "grid_gap": null,
            "grid_row": null,
            "grid_template_areas": null,
            "grid_template_columns": null,
            "grid_template_rows": null,
            "height": null,
            "justify_content": null,
            "justify_items": null,
            "left": null,
            "margin": null,
            "max_height": null,
            "max_width": null,
            "min_height": null,
            "min_width": null,
            "object_fit": null,
            "object_position": null,
            "order": null,
            "overflow": null,
            "overflow_x": null,
            "overflow_y": null,
            "padding": null,
            "right": null,
            "top": null,
            "visibility": null,
            "width": null
          }
        },
        "a09051e32cbf4e03961a926f0c4d5914": {
          "model_module": "@jupyter-widgets/base",
          "model_name": "LayoutModel",
          "model_module_version": "1.2.0",
          "state": {
            "_model_module": "@jupyter-widgets/base",
            "_model_module_version": "1.2.0",
            "_model_name": "LayoutModel",
            "_view_count": null,
            "_view_module": "@jupyter-widgets/base",
            "_view_module_version": "1.2.0",
            "_view_name": "LayoutView",
            "align_content": null,
            "align_items": null,
            "align_self": null,
            "border": null,
            "bottom": null,
            "display": null,
            "flex": null,
            "flex_flow": null,
            "grid_area": null,
            "grid_auto_columns": null,
            "grid_auto_flow": null,
            "grid_auto_rows": null,
            "grid_column": null,
            "grid_gap": null,
            "grid_row": null,
            "grid_template_areas": null,
            "grid_template_columns": null,
            "grid_template_rows": null,
            "height": null,
            "justify_content": null,
            "justify_items": null,
            "left": null,
            "margin": null,
            "max_height": null,
            "max_width": null,
            "min_height": null,
            "min_width": null,
            "object_fit": null,
            "object_position": null,
            "order": null,
            "overflow": null,
            "overflow_x": null,
            "overflow_y": null,
            "padding": null,
            "right": null,
            "top": null,
            "visibility": null,
            "width": null
          }
        },
        "6a50d32f8a5c40c69fe228c237ed5b6b": {
          "model_module": "@jupyter-widgets/controls",
          "model_name": "DescriptionStyleModel",
          "model_module_version": "1.5.0",
          "state": {
            "_model_module": "@jupyter-widgets/controls",
            "_model_module_version": "1.5.0",
            "_model_name": "DescriptionStyleModel",
            "_view_count": null,
            "_view_module": "@jupyter-widgets/base",
            "_view_module_version": "1.2.0",
            "_view_name": "StyleView",
            "description_width": ""
          }
        },
        "bf9d455867964bda9a520e050bec546a": {
          "model_module": "@jupyter-widgets/base",
          "model_name": "LayoutModel",
          "model_module_version": "1.2.0",
          "state": {
            "_model_module": "@jupyter-widgets/base",
            "_model_module_version": "1.2.0",
            "_model_name": "LayoutModel",
            "_view_count": null,
            "_view_module": "@jupyter-widgets/base",
            "_view_module_version": "1.2.0",
            "_view_name": "LayoutView",
            "align_content": null,
            "align_items": null,
            "align_self": null,
            "border": null,
            "bottom": null,
            "display": null,
            "flex": null,
            "flex_flow": null,
            "grid_area": null,
            "grid_auto_columns": null,
            "grid_auto_flow": null,
            "grid_auto_rows": null,
            "grid_column": null,
            "grid_gap": null,
            "grid_row": null,
            "grid_template_areas": null,
            "grid_template_columns": null,
            "grid_template_rows": null,
            "height": null,
            "justify_content": null,
            "justify_items": null,
            "left": null,
            "margin": null,
            "max_height": null,
            "max_width": null,
            "min_height": null,
            "min_width": null,
            "object_fit": null,
            "object_position": null,
            "order": null,
            "overflow": null,
            "overflow_x": null,
            "overflow_y": null,
            "padding": null,
            "right": null,
            "top": null,
            "visibility": null,
            "width": null
          }
        },
        "88c9e8deef204148bfa34a998f42c1ed": {
          "model_module": "@jupyter-widgets/controls",
          "model_name": "ProgressStyleModel",
          "model_module_version": "1.5.0",
          "state": {
            "_model_module": "@jupyter-widgets/controls",
            "_model_module_version": "1.5.0",
            "_model_name": "ProgressStyleModel",
            "_view_count": null,
            "_view_module": "@jupyter-widgets/base",
            "_view_module_version": "1.2.0",
            "_view_name": "StyleView",
            "bar_color": null,
            "description_width": ""
          }
        },
        "d3966fa772134c5380f1b20d34a4c134": {
          "model_module": "@jupyter-widgets/base",
          "model_name": "LayoutModel",
          "model_module_version": "1.2.0",
          "state": {
            "_model_module": "@jupyter-widgets/base",
            "_model_module_version": "1.2.0",
            "_model_name": "LayoutModel",
            "_view_count": null,
            "_view_module": "@jupyter-widgets/base",
            "_view_module_version": "1.2.0",
            "_view_name": "LayoutView",
            "align_content": null,
            "align_items": null,
            "align_self": null,
            "border": null,
            "bottom": null,
            "display": null,
            "flex": null,
            "flex_flow": null,
            "grid_area": null,
            "grid_auto_columns": null,
            "grid_auto_flow": null,
            "grid_auto_rows": null,
            "grid_column": null,
            "grid_gap": null,
            "grid_row": null,
            "grid_template_areas": null,
            "grid_template_columns": null,
            "grid_template_rows": null,
            "height": null,
            "justify_content": null,
            "justify_items": null,
            "left": null,
            "margin": null,
            "max_height": null,
            "max_width": null,
            "min_height": null,
            "min_width": null,
            "object_fit": null,
            "object_position": null,
            "order": null,
            "overflow": null,
            "overflow_x": null,
            "overflow_y": null,
            "padding": null,
            "right": null,
            "top": null,
            "visibility": null,
            "width": null
          }
        },
        "f5093488533145019d2e46095af9077c": {
          "model_module": "@jupyter-widgets/controls",
          "model_name": "DescriptionStyleModel",
          "model_module_version": "1.5.0",
          "state": {
            "_model_module": "@jupyter-widgets/controls",
            "_model_module_version": "1.5.0",
            "_model_name": "DescriptionStyleModel",
            "_view_count": null,
            "_view_module": "@jupyter-widgets/base",
            "_view_module_version": "1.2.0",
            "_view_name": "StyleView",
            "description_width": ""
          }
        },
        "d3e55cf92a9c4b25baef3cc8847ee0dd": {
          "model_module": "@jupyter-widgets/controls",
          "model_name": "HBoxModel",
          "model_module_version": "1.5.0",
          "state": {
            "_dom_classes": [],
            "_model_module": "@jupyter-widgets/controls",
            "_model_module_version": "1.5.0",
            "_model_name": "HBoxModel",
            "_view_count": null,
            "_view_module": "@jupyter-widgets/controls",
            "_view_module_version": "1.5.0",
            "_view_name": "HBoxView",
            "box_style": "",
            "children": [
              "IPY_MODEL_bd095cf970f2403db0fd663f3fe2f022",
              "IPY_MODEL_5d7e091a49964d6f969a4f6bae15f58d",
              "IPY_MODEL_400aa861f9ec4e05bb2285e09e70d5d0"
            ],
            "layout": "IPY_MODEL_37e134d364bf440cb0e314ac2694ab09"
          }
        },
        "bd095cf970f2403db0fd663f3fe2f022": {
          "model_module": "@jupyter-widgets/controls",
          "model_name": "HTMLModel",
          "model_module_version": "1.5.0",
          "state": {
            "_dom_classes": [],
            "_model_module": "@jupyter-widgets/controls",
            "_model_module_version": "1.5.0",
            "_model_name": "HTMLModel",
            "_view_count": null,
            "_view_module": "@jupyter-widgets/controls",
            "_view_module_version": "1.5.0",
            "_view_name": "HTMLView",
            "description": "",
            "description_tooltip": null,
            "layout": "IPY_MODEL_74de604c3e9f48efa2ebf9aca230c4f0",
            "placeholder": "​",
            "style": "IPY_MODEL_6dcb15fce9a14d1789e4a2c043bc6285",
            "value": "Best trial: 29. Best value: 12.7713: 100%"
          }
        },
        "5d7e091a49964d6f969a4f6bae15f58d": {
          "model_module": "@jupyter-widgets/controls",
          "model_name": "FloatProgressModel",
          "model_module_version": "1.5.0",
          "state": {
            "_dom_classes": [],
            "_model_module": "@jupyter-widgets/controls",
            "_model_module_version": "1.5.0",
            "_model_name": "FloatProgressModel",
            "_view_count": null,
            "_view_module": "@jupyter-widgets/controls",
            "_view_module_version": "1.5.0",
            "_view_name": "ProgressView",
            "bar_style": "success",
            "description": "",
            "description_tooltip": null,
            "layout": "IPY_MODEL_d79a27dde6e24fa38d32a0c4b3cfb765",
            "max": 100,
            "min": 0,
            "orientation": "horizontal",
            "style": "IPY_MODEL_ca6ea46cfdcb4fc681c00876285a5547",
            "value": 100
          }
        },
        "400aa861f9ec4e05bb2285e09e70d5d0": {
          "model_module": "@jupyter-widgets/controls",
          "model_name": "HTMLModel",
          "model_module_version": "1.5.0",
          "state": {
            "_dom_classes": [],
            "_model_module": "@jupyter-widgets/controls",
            "_model_module_version": "1.5.0",
            "_model_name": "HTMLModel",
            "_view_count": null,
            "_view_module": "@jupyter-widgets/controls",
            "_view_module_version": "1.5.0",
            "_view_name": "HTMLView",
            "description": "",
            "description_tooltip": null,
            "layout": "IPY_MODEL_d0b132673b8f4ed1a44ed5c8cf18c828",
            "placeholder": "​",
            "style": "IPY_MODEL_09ea3724211449aeb03339277f62ab56",
            "value": " 100/100 [00:45&lt;00:00,  2.58it/s]"
          }
        },
        "37e134d364bf440cb0e314ac2694ab09": {
          "model_module": "@jupyter-widgets/base",
          "model_name": "LayoutModel",
          "model_module_version": "1.2.0",
          "state": {
            "_model_module": "@jupyter-widgets/base",
            "_model_module_version": "1.2.0",
            "_model_name": "LayoutModel",
            "_view_count": null,
            "_view_module": "@jupyter-widgets/base",
            "_view_module_version": "1.2.0",
            "_view_name": "LayoutView",
            "align_content": null,
            "align_items": null,
            "align_self": null,
            "border": null,
            "bottom": null,
            "display": null,
            "flex": null,
            "flex_flow": null,
            "grid_area": null,
            "grid_auto_columns": null,
            "grid_auto_flow": null,
            "grid_auto_rows": null,
            "grid_column": null,
            "grid_gap": null,
            "grid_row": null,
            "grid_template_areas": null,
            "grid_template_columns": null,
            "grid_template_rows": null,
            "height": null,
            "justify_content": null,
            "justify_items": null,
            "left": null,
            "margin": null,
            "max_height": null,
            "max_width": null,
            "min_height": null,
            "min_width": null,
            "object_fit": null,
            "object_position": null,
            "order": null,
            "overflow": null,
            "overflow_x": null,
            "overflow_y": null,
            "padding": null,
            "right": null,
            "top": null,
            "visibility": null,
            "width": null
          }
        },
        "74de604c3e9f48efa2ebf9aca230c4f0": {
          "model_module": "@jupyter-widgets/base",
          "model_name": "LayoutModel",
          "model_module_version": "1.2.0",
          "state": {
            "_model_module": "@jupyter-widgets/base",
            "_model_module_version": "1.2.0",
            "_model_name": "LayoutModel",
            "_view_count": null,
            "_view_module": "@jupyter-widgets/base",
            "_view_module_version": "1.2.0",
            "_view_name": "LayoutView",
            "align_content": null,
            "align_items": null,
            "align_self": null,
            "border": null,
            "bottom": null,
            "display": null,
            "flex": null,
            "flex_flow": null,
            "grid_area": null,
            "grid_auto_columns": null,
            "grid_auto_flow": null,
            "grid_auto_rows": null,
            "grid_column": null,
            "grid_gap": null,
            "grid_row": null,
            "grid_template_areas": null,
            "grid_template_columns": null,
            "grid_template_rows": null,
            "height": null,
            "justify_content": null,
            "justify_items": null,
            "left": null,
            "margin": null,
            "max_height": null,
            "max_width": null,
            "min_height": null,
            "min_width": null,
            "object_fit": null,
            "object_position": null,
            "order": null,
            "overflow": null,
            "overflow_x": null,
            "overflow_y": null,
            "padding": null,
            "right": null,
            "top": null,
            "visibility": null,
            "width": null
          }
        },
        "6dcb15fce9a14d1789e4a2c043bc6285": {
          "model_module": "@jupyter-widgets/controls",
          "model_name": "DescriptionStyleModel",
          "model_module_version": "1.5.0",
          "state": {
            "_model_module": "@jupyter-widgets/controls",
            "_model_module_version": "1.5.0",
            "_model_name": "DescriptionStyleModel",
            "_view_count": null,
            "_view_module": "@jupyter-widgets/base",
            "_view_module_version": "1.2.0",
            "_view_name": "StyleView",
            "description_width": ""
          }
        },
        "d79a27dde6e24fa38d32a0c4b3cfb765": {
          "model_module": "@jupyter-widgets/base",
          "model_name": "LayoutModel",
          "model_module_version": "1.2.0",
          "state": {
            "_model_module": "@jupyter-widgets/base",
            "_model_module_version": "1.2.0",
            "_model_name": "LayoutModel",
            "_view_count": null,
            "_view_module": "@jupyter-widgets/base",
            "_view_module_version": "1.2.0",
            "_view_name": "LayoutView",
            "align_content": null,
            "align_items": null,
            "align_self": null,
            "border": null,
            "bottom": null,
            "display": null,
            "flex": null,
            "flex_flow": null,
            "grid_area": null,
            "grid_auto_columns": null,
            "grid_auto_flow": null,
            "grid_auto_rows": null,
            "grid_column": null,
            "grid_gap": null,
            "grid_row": null,
            "grid_template_areas": null,
            "grid_template_columns": null,
            "grid_template_rows": null,
            "height": null,
            "justify_content": null,
            "justify_items": null,
            "left": null,
            "margin": null,
            "max_height": null,
            "max_width": null,
            "min_height": null,
            "min_width": null,
            "object_fit": null,
            "object_position": null,
            "order": null,
            "overflow": null,
            "overflow_x": null,
            "overflow_y": null,
            "padding": null,
            "right": null,
            "top": null,
            "visibility": null,
            "width": null
          }
        },
        "ca6ea46cfdcb4fc681c00876285a5547": {
          "model_module": "@jupyter-widgets/controls",
          "model_name": "ProgressStyleModel",
          "model_module_version": "1.5.0",
          "state": {
            "_model_module": "@jupyter-widgets/controls",
            "_model_module_version": "1.5.0",
            "_model_name": "ProgressStyleModel",
            "_view_count": null,
            "_view_module": "@jupyter-widgets/base",
            "_view_module_version": "1.2.0",
            "_view_name": "StyleView",
            "bar_color": null,
            "description_width": ""
          }
        },
        "d0b132673b8f4ed1a44ed5c8cf18c828": {
          "model_module": "@jupyter-widgets/base",
          "model_name": "LayoutModel",
          "model_module_version": "1.2.0",
          "state": {
            "_model_module": "@jupyter-widgets/base",
            "_model_module_version": "1.2.0",
            "_model_name": "LayoutModel",
            "_view_count": null,
            "_view_module": "@jupyter-widgets/base",
            "_view_module_version": "1.2.0",
            "_view_name": "LayoutView",
            "align_content": null,
            "align_items": null,
            "align_self": null,
            "border": null,
            "bottom": null,
            "display": null,
            "flex": null,
            "flex_flow": null,
            "grid_area": null,
            "grid_auto_columns": null,
            "grid_auto_flow": null,
            "grid_auto_rows": null,
            "grid_column": null,
            "grid_gap": null,
            "grid_row": null,
            "grid_template_areas": null,
            "grid_template_columns": null,
            "grid_template_rows": null,
            "height": null,
            "justify_content": null,
            "justify_items": null,
            "left": null,
            "margin": null,
            "max_height": null,
            "max_width": null,
            "min_height": null,
            "min_width": null,
            "object_fit": null,
            "object_position": null,
            "order": null,
            "overflow": null,
            "overflow_x": null,
            "overflow_y": null,
            "padding": null,
            "right": null,
            "top": null,
            "visibility": null,
            "width": null
          }
        },
        "09ea3724211449aeb03339277f62ab56": {
          "model_module": "@jupyter-widgets/controls",
          "model_name": "DescriptionStyleModel",
          "model_module_version": "1.5.0",
          "state": {
            "_model_module": "@jupyter-widgets/controls",
            "_model_module_version": "1.5.0",
            "_model_name": "DescriptionStyleModel",
            "_view_count": null,
            "_view_module": "@jupyter-widgets/base",
            "_view_module_version": "1.2.0",
            "_view_name": "StyleView",
            "description_width": ""
          }
        },
        "a4e9aeee2c004c699bd8a5735ee94eec": {
          "model_module": "@jupyter-widgets/controls",
          "model_name": "HBoxModel",
          "model_module_version": "1.5.0",
          "state": {
            "_dom_classes": [],
            "_model_module": "@jupyter-widgets/controls",
            "_model_module_version": "1.5.0",
            "_model_name": "HBoxModel",
            "_view_count": null,
            "_view_module": "@jupyter-widgets/controls",
            "_view_module_version": "1.5.0",
            "_view_name": "HBoxView",
            "box_style": "",
            "children": [
              "IPY_MODEL_6f148514548d41f3a0d0b586af950c34",
              "IPY_MODEL_33fa4d3590654cdc910366606f6f147f",
              "IPY_MODEL_5fbeb4d4db1f4264973788f2a4577ee7"
            ],
            "layout": "IPY_MODEL_cd437edef5ae4600a9dd1022d212c16f"
          }
        },
        "6f148514548d41f3a0d0b586af950c34": {
          "model_module": "@jupyter-widgets/controls",
          "model_name": "HTMLModel",
          "model_module_version": "1.5.0",
          "state": {
            "_dom_classes": [],
            "_model_module": "@jupyter-widgets/controls",
            "_model_module_version": "1.5.0",
            "_model_name": "HTMLModel",
            "_view_count": null,
            "_view_module": "@jupyter-widgets/controls",
            "_view_module_version": "1.5.0",
            "_view_name": "HTMLView",
            "description": "",
            "description_tooltip": null,
            "layout": "IPY_MODEL_05979516a1264584b0ce5fd1703a2f8d",
            "placeholder": "​",
            "style": "IPY_MODEL_48504fd0804448738434c6a03b25c49e",
            "value": "Best trial: 53. Best value: 11.5974: 100%"
          }
        },
        "33fa4d3590654cdc910366606f6f147f": {
          "model_module": "@jupyter-widgets/controls",
          "model_name": "FloatProgressModel",
          "model_module_version": "1.5.0",
          "state": {
            "_dom_classes": [],
            "_model_module": "@jupyter-widgets/controls",
            "_model_module_version": "1.5.0",
            "_model_name": "FloatProgressModel",
            "_view_count": null,
            "_view_module": "@jupyter-widgets/controls",
            "_view_module_version": "1.5.0",
            "_view_name": "ProgressView",
            "bar_style": "success",
            "description": "",
            "description_tooltip": null,
            "layout": "IPY_MODEL_523ebef725704ba1908cf94a92cf428a",
            "max": 100,
            "min": 0,
            "orientation": "horizontal",
            "style": "IPY_MODEL_d489f910ff23493db740798c322696aa",
            "value": 100
          }
        },
        "5fbeb4d4db1f4264973788f2a4577ee7": {
          "model_module": "@jupyter-widgets/controls",
          "model_name": "HTMLModel",
          "model_module_version": "1.5.0",
          "state": {
            "_dom_classes": [],
            "_model_module": "@jupyter-widgets/controls",
            "_model_module_version": "1.5.0",
            "_model_name": "HTMLModel",
            "_view_count": null,
            "_view_module": "@jupyter-widgets/controls",
            "_view_module_version": "1.5.0",
            "_view_name": "HTMLView",
            "description": "",
            "description_tooltip": null,
            "layout": "IPY_MODEL_dd69b556b20445fa94ade8e409913f5e",
            "placeholder": "​",
            "style": "IPY_MODEL_0577459b90194e1cb27729d08a008aee",
            "value": " 100/100 [05:23&lt;00:00,  2.69s/it]"
          }
        },
        "cd437edef5ae4600a9dd1022d212c16f": {
          "model_module": "@jupyter-widgets/base",
          "model_name": "LayoutModel",
          "model_module_version": "1.2.0",
          "state": {
            "_model_module": "@jupyter-widgets/base",
            "_model_module_version": "1.2.0",
            "_model_name": "LayoutModel",
            "_view_count": null,
            "_view_module": "@jupyter-widgets/base",
            "_view_module_version": "1.2.0",
            "_view_name": "LayoutView",
            "align_content": null,
            "align_items": null,
            "align_self": null,
            "border": null,
            "bottom": null,
            "display": null,
            "flex": null,
            "flex_flow": null,
            "grid_area": null,
            "grid_auto_columns": null,
            "grid_auto_flow": null,
            "grid_auto_rows": null,
            "grid_column": null,
            "grid_gap": null,
            "grid_row": null,
            "grid_template_areas": null,
            "grid_template_columns": null,
            "grid_template_rows": null,
            "height": null,
            "justify_content": null,
            "justify_items": null,
            "left": null,
            "margin": null,
            "max_height": null,
            "max_width": null,
            "min_height": null,
            "min_width": null,
            "object_fit": null,
            "object_position": null,
            "order": null,
            "overflow": null,
            "overflow_x": null,
            "overflow_y": null,
            "padding": null,
            "right": null,
            "top": null,
            "visibility": null,
            "width": null
          }
        },
        "05979516a1264584b0ce5fd1703a2f8d": {
          "model_module": "@jupyter-widgets/base",
          "model_name": "LayoutModel",
          "model_module_version": "1.2.0",
          "state": {
            "_model_module": "@jupyter-widgets/base",
            "_model_module_version": "1.2.0",
            "_model_name": "LayoutModel",
            "_view_count": null,
            "_view_module": "@jupyter-widgets/base",
            "_view_module_version": "1.2.0",
            "_view_name": "LayoutView",
            "align_content": null,
            "align_items": null,
            "align_self": null,
            "border": null,
            "bottom": null,
            "display": null,
            "flex": null,
            "flex_flow": null,
            "grid_area": null,
            "grid_auto_columns": null,
            "grid_auto_flow": null,
            "grid_auto_rows": null,
            "grid_column": null,
            "grid_gap": null,
            "grid_row": null,
            "grid_template_areas": null,
            "grid_template_columns": null,
            "grid_template_rows": null,
            "height": null,
            "justify_content": null,
            "justify_items": null,
            "left": null,
            "margin": null,
            "max_height": null,
            "max_width": null,
            "min_height": null,
            "min_width": null,
            "object_fit": null,
            "object_position": null,
            "order": null,
            "overflow": null,
            "overflow_x": null,
            "overflow_y": null,
            "padding": null,
            "right": null,
            "top": null,
            "visibility": null,
            "width": null
          }
        },
        "48504fd0804448738434c6a03b25c49e": {
          "model_module": "@jupyter-widgets/controls",
          "model_name": "DescriptionStyleModel",
          "model_module_version": "1.5.0",
          "state": {
            "_model_module": "@jupyter-widgets/controls",
            "_model_module_version": "1.5.0",
            "_model_name": "DescriptionStyleModel",
            "_view_count": null,
            "_view_module": "@jupyter-widgets/base",
            "_view_module_version": "1.2.0",
            "_view_name": "StyleView",
            "description_width": ""
          }
        },
        "523ebef725704ba1908cf94a92cf428a": {
          "model_module": "@jupyter-widgets/base",
          "model_name": "LayoutModel",
          "model_module_version": "1.2.0",
          "state": {
            "_model_module": "@jupyter-widgets/base",
            "_model_module_version": "1.2.0",
            "_model_name": "LayoutModel",
            "_view_count": null,
            "_view_module": "@jupyter-widgets/base",
            "_view_module_version": "1.2.0",
            "_view_name": "LayoutView",
            "align_content": null,
            "align_items": null,
            "align_self": null,
            "border": null,
            "bottom": null,
            "display": null,
            "flex": null,
            "flex_flow": null,
            "grid_area": null,
            "grid_auto_columns": null,
            "grid_auto_flow": null,
            "grid_auto_rows": null,
            "grid_column": null,
            "grid_gap": null,
            "grid_row": null,
            "grid_template_areas": null,
            "grid_template_columns": null,
            "grid_template_rows": null,
            "height": null,
            "justify_content": null,
            "justify_items": null,
            "left": null,
            "margin": null,
            "max_height": null,
            "max_width": null,
            "min_height": null,
            "min_width": null,
            "object_fit": null,
            "object_position": null,
            "order": null,
            "overflow": null,
            "overflow_x": null,
            "overflow_y": null,
            "padding": null,
            "right": null,
            "top": null,
            "visibility": null,
            "width": null
          }
        },
        "d489f910ff23493db740798c322696aa": {
          "model_module": "@jupyter-widgets/controls",
          "model_name": "ProgressStyleModel",
          "model_module_version": "1.5.0",
          "state": {
            "_model_module": "@jupyter-widgets/controls",
            "_model_module_version": "1.5.0",
            "_model_name": "ProgressStyleModel",
            "_view_count": null,
            "_view_module": "@jupyter-widgets/base",
            "_view_module_version": "1.2.0",
            "_view_name": "StyleView",
            "bar_color": null,
            "description_width": ""
          }
        },
        "dd69b556b20445fa94ade8e409913f5e": {
          "model_module": "@jupyter-widgets/base",
          "model_name": "LayoutModel",
          "model_module_version": "1.2.0",
          "state": {
            "_model_module": "@jupyter-widgets/base",
            "_model_module_version": "1.2.0",
            "_model_name": "LayoutModel",
            "_view_count": null,
            "_view_module": "@jupyter-widgets/base",
            "_view_module_version": "1.2.0",
            "_view_name": "LayoutView",
            "align_content": null,
            "align_items": null,
            "align_self": null,
            "border": null,
            "bottom": null,
            "display": null,
            "flex": null,
            "flex_flow": null,
            "grid_area": null,
            "grid_auto_columns": null,
            "grid_auto_flow": null,
            "grid_auto_rows": null,
            "grid_column": null,
            "grid_gap": null,
            "grid_row": null,
            "grid_template_areas": null,
            "grid_template_columns": null,
            "grid_template_rows": null,
            "height": null,
            "justify_content": null,
            "justify_items": null,
            "left": null,
            "margin": null,
            "max_height": null,
            "max_width": null,
            "min_height": null,
            "min_width": null,
            "object_fit": null,
            "object_position": null,
            "order": null,
            "overflow": null,
            "overflow_x": null,
            "overflow_y": null,
            "padding": null,
            "right": null,
            "top": null,
            "visibility": null,
            "width": null
          }
        },
        "0577459b90194e1cb27729d08a008aee": {
          "model_module": "@jupyter-widgets/controls",
          "model_name": "DescriptionStyleModel",
          "model_module_version": "1.5.0",
          "state": {
            "_model_module": "@jupyter-widgets/controls",
            "_model_module_version": "1.5.0",
            "_model_name": "DescriptionStyleModel",
            "_view_count": null,
            "_view_module": "@jupyter-widgets/base",
            "_view_module_version": "1.2.0",
            "_view_name": "StyleView",
            "description_width": ""
          }
        }
      }
    }
  },
  "nbformat": 4,
  "nbformat_minor": 0
}