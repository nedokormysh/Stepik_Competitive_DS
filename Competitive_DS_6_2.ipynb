{
  "cells": [
    {
      "cell_type": "markdown",
      "metadata": {
        "id": "view-in-github",
        "colab_type": "text"
      },
      "source": [
        "<a href=\"https://colab.research.google.com/github/nedokormysh/Stepik_Competitive_DS/blob/week_6/Competitive_DS_6_2.ipynb\" target=\"_parent\"><img src=\"https://colab.research.google.com/assets/colab-badge.svg\" alt=\"Open In Colab\"/></a>"
      ]
    },
    {
      "cell_type": "markdown",
      "metadata": {
        "id": "o_0GJxhCUbBZ"
      },
      "source": [
        "# 6.2.3"
      ]
    },
    {
      "cell_type": "markdown",
      "metadata": {
        "id": "ShC3T0gsUf5W"
      },
      "source": [
        "Объявите модель StackingClassifier(), которая в качестве базовых моделей будет принимать список estimators, а в качестве мета-модели использует LogisticRegression().\n",
        "\n",
        "Пример estimators:\n",
        "estimators = [(\"logreg\", LogisticRegression()), (\"svc\", SVC())]"
      ]
    },
    {
      "cell_type": "code",
      "execution_count": null,
      "metadata": {
        "id": "bw2QfuxVR2mG"
      },
      "outputs": [],
      "source": [
        "from sklearn.ensemble import StackingClassifier\n",
        "\n",
        "meta_model = StackingClassifier(estimators=estimators, final_estimator=LogisticRegression())"
      ]
    },
    {
      "cell_type": "markdown",
      "metadata": {
        "id": "Gq0JyARbUhEX"
      },
      "source": [
        "#6.2.4"
      ]
    },
    {
      "cell_type": "code",
      "execution_count": null,
      "metadata": {
        "id": "PiWCihDZzi7q"
      },
      "outputs": [],
      "source": [
        "import pandas as pd"
      ]
    },
    {
      "cell_type": "code",
      "execution_count": null,
      "metadata": {
        "colab": {
          "base_uri": "https://localhost:8080/",
          "height": 206
        },
        "id": "ywXn-D2O5w4k",
        "outputId": "4e8d0cbd-42f6-4ae2-84f1-604ca5162de3"
      },
      "outputs": [
        {
          "data": {
            "text/html": [
              "\n",
              "  <div id=\"df-b514fd92-a9d6-4c24-9a3c-7daaa3b9b212\">\n",
              "    <div class=\"colab-df-container\">\n",
              "      <div>\n",
              "<style scoped>\n",
              "    .dataframe tbody tr th:only-of-type {\n",
              "        vertical-align: middle;\n",
              "    }\n",
              "\n",
              "    .dataframe tbody tr th {\n",
              "        vertical-align: top;\n",
              "    }\n",
              "\n",
              "    .dataframe thead th {\n",
              "        text-align: right;\n",
              "    }\n",
              "</style>\n",
              "<table border=\"1\" class=\"dataframe\">\n",
              "  <thead>\n",
              "    <tr style=\"text-align: right;\">\n",
              "      <th></th>\n",
              "      <th>index</th>\n",
              "      <th>target</th>\n",
              "      <th>model</th>\n",
              "    </tr>\n",
              "  </thead>\n",
              "  <tbody>\n",
              "    <tr>\n",
              "      <th>0</th>\n",
              "      <td>0</td>\n",
              "      <td>65.927922</td>\n",
              "      <td>catboost</td>\n",
              "    </tr>\n",
              "    <tr>\n",
              "      <th>1</th>\n",
              "      <td>1</td>\n",
              "      <td>44.248116</td>\n",
              "      <td>catboost</td>\n",
              "    </tr>\n",
              "    <tr>\n",
              "      <th>2</th>\n",
              "      <td>2</td>\n",
              "      <td>43.807966</td>\n",
              "      <td>catboost</td>\n",
              "    </tr>\n",
              "    <tr>\n",
              "      <th>3</th>\n",
              "      <td>3</td>\n",
              "      <td>45.661121</td>\n",
              "      <td>catboost</td>\n",
              "    </tr>\n",
              "    <tr>\n",
              "      <th>4</th>\n",
              "      <td>4</td>\n",
              "      <td>43.653036</td>\n",
              "      <td>catboost</td>\n",
              "    </tr>\n",
              "  </tbody>\n",
              "</table>\n",
              "</div>\n",
              "      <button class=\"colab-df-convert\" onclick=\"convertToInteractive('df-b514fd92-a9d6-4c24-9a3c-7daaa3b9b212')\"\n",
              "              title=\"Convert this dataframe to an interactive table.\"\n",
              "              style=\"display:none;\">\n",
              "        \n",
              "  <svg xmlns=\"http://www.w3.org/2000/svg\" height=\"24px\"viewBox=\"0 0 24 24\"\n",
              "       width=\"24px\">\n",
              "    <path d=\"M0 0h24v24H0V0z\" fill=\"none\"/>\n",
              "    <path d=\"M18.56 5.44l.94 2.06.94-2.06 2.06-.94-2.06-.94-.94-2.06-.94 2.06-2.06.94zm-11 1L8.5 8.5l.94-2.06 2.06-.94-2.06-.94L8.5 2.5l-.94 2.06-2.06.94zm10 10l.94 2.06.94-2.06 2.06-.94-2.06-.94-.94-2.06-.94 2.06-2.06.94z\"/><path d=\"M17.41 7.96l-1.37-1.37c-.4-.4-.92-.59-1.43-.59-.52 0-1.04.2-1.43.59L10.3 9.45l-7.72 7.72c-.78.78-.78 2.05 0 2.83L4 21.41c.39.39.9.59 1.41.59.51 0 1.02-.2 1.41-.59l7.78-7.78 2.81-2.81c.8-.78.8-2.07 0-2.86zM5.41 20L4 18.59l7.72-7.72 1.47 1.35L5.41 20z\"/>\n",
              "  </svg>\n",
              "      </button>\n",
              "      \n",
              "  <style>\n",
              "    .colab-df-container {\n",
              "      display:flex;\n",
              "      flex-wrap:wrap;\n",
              "      gap: 12px;\n",
              "    }\n",
              "\n",
              "    .colab-df-convert {\n",
              "      background-color: #E8F0FE;\n",
              "      border: none;\n",
              "      border-radius: 50%;\n",
              "      cursor: pointer;\n",
              "      display: none;\n",
              "      fill: #1967D2;\n",
              "      height: 32px;\n",
              "      padding: 0 0 0 0;\n",
              "      width: 32px;\n",
              "    }\n",
              "\n",
              "    .colab-df-convert:hover {\n",
              "      background-color: #E2EBFA;\n",
              "      box-shadow: 0px 1px 2px rgba(60, 64, 67, 0.3), 0px 1px 3px 1px rgba(60, 64, 67, 0.15);\n",
              "      fill: #174EA6;\n",
              "    }\n",
              "\n",
              "    [theme=dark] .colab-df-convert {\n",
              "      background-color: #3B4455;\n",
              "      fill: #D2E3FC;\n",
              "    }\n",
              "\n",
              "    [theme=dark] .colab-df-convert:hover {\n",
              "      background-color: #434B5C;\n",
              "      box-shadow: 0px 1px 3px 1px rgba(0, 0, 0, 0.15);\n",
              "      filter: drop-shadow(0px 1px 2px rgba(0, 0, 0, 0.3));\n",
              "      fill: #FFFFFF;\n",
              "    }\n",
              "  </style>\n",
              "\n",
              "      <script>\n",
              "        const buttonEl =\n",
              "          document.querySelector('#df-b514fd92-a9d6-4c24-9a3c-7daaa3b9b212 button.colab-df-convert');\n",
              "        buttonEl.style.display =\n",
              "          google.colab.kernel.accessAllowed ? 'block' : 'none';\n",
              "\n",
              "        async function convertToInteractive(key) {\n",
              "          const element = document.querySelector('#df-b514fd92-a9d6-4c24-9a3c-7daaa3b9b212');\n",
              "          const dataTable =\n",
              "            await google.colab.kernel.invokeFunction('convertToInteractive',\n",
              "                                                     [key], {});\n",
              "          if (!dataTable) return;\n",
              "\n",
              "          const docLinkHtml = 'Like what you see? Visit the ' +\n",
              "            '<a target=\"_blank\" href=https://colab.research.google.com/notebooks/data_table.ipynb>data table notebook</a>'\n",
              "            + ' to learn more about interactive tables.';\n",
              "          element.innerHTML = '';\n",
              "          dataTable['output_type'] = 'display_data';\n",
              "          await google.colab.output.renderOutput(dataTable, element);\n",
              "          const docLink = document.createElement('div');\n",
              "          docLink.innerHTML = docLinkHtml;\n",
              "          element.appendChild(docLink);\n",
              "        }\n",
              "      </script>\n",
              "    </div>\n",
              "  </div>\n",
              "  "
            ],
            "text/plain": [
              "   index     target     model\n",
              "0      0  65.927922  catboost\n",
              "1      1  44.248116  catboost\n",
              "2      2  43.807966  catboost\n",
              "3      3  45.661121  catboost\n",
              "4      4  43.653036  catboost"
            ]
          },
          "execution_count": 6,
          "metadata": {},
          "output_type": "execute_result"
        }
      ],
      "source": [
        "df = pd.read_csv('https://stepik.org/media/attachments/lesson/825511/meta_feautres_data.csv')\n",
        "df.head()"
      ]
    },
    {
      "cell_type": "code",
      "execution_count": null,
      "metadata": {
        "id": "zsI1GPkeBNA_"
      },
      "outputs": [],
      "source": [
        "import numpy as np"
      ]
    },
    {
      "cell_type": "code",
      "execution_count": null,
      "metadata": {
        "colab": {
          "base_uri": "https://localhost:8080/",
          "height": 455
        },
        "id": "j3IStOg18UIr",
        "outputId": "51e860eb-400d-4446-aaef-dec794ae20ae"
      },
      "outputs": [
        {
          "data": {
            "text/html": [
              "\n",
              "  <div id=\"df-ffeb9db0-9ba8-43c4-b9f0-f6ea4d8f6550\">\n",
              "    <div class=\"colab-df-container\">\n",
              "      <div>\n",
              "<style scoped>\n",
              "    .dataframe tbody tr th:only-of-type {\n",
              "        vertical-align: middle;\n",
              "    }\n",
              "\n",
              "    .dataframe tbody tr th {\n",
              "        vertical-align: top;\n",
              "    }\n",
              "\n",
              "    .dataframe thead th {\n",
              "        text-align: right;\n",
              "    }\n",
              "</style>\n",
              "<table border=\"1\" class=\"dataframe\">\n",
              "  <thead>\n",
              "    <tr style=\"text-align: right;\">\n",
              "      <th></th>\n",
              "      <th>target_catboost</th>\n",
              "      <th>target_lgbm</th>\n",
              "      <th>target_xgb</th>\n",
              "    </tr>\n",
              "    <tr>\n",
              "      <th>index</th>\n",
              "      <th></th>\n",
              "      <th></th>\n",
              "      <th></th>\n",
              "    </tr>\n",
              "  </thead>\n",
              "  <tbody>\n",
              "    <tr>\n",
              "      <th>0</th>\n",
              "      <td>65.927922</td>\n",
              "      <td>49.622930</td>\n",
              "      <td>55.741352</td>\n",
              "    </tr>\n",
              "    <tr>\n",
              "      <th>1</th>\n",
              "      <td>44.248116</td>\n",
              "      <td>43.244205</td>\n",
              "      <td>42.661655</td>\n",
              "    </tr>\n",
              "    <tr>\n",
              "      <th>2</th>\n",
              "      <td>43.807966</td>\n",
              "      <td>45.389293</td>\n",
              "      <td>42.217470</td>\n",
              "    </tr>\n",
              "    <tr>\n",
              "      <th>3</th>\n",
              "      <td>45.661121</td>\n",
              "      <td>44.769051</td>\n",
              "      <td>40.969734</td>\n",
              "    </tr>\n",
              "    <tr>\n",
              "      <th>4</th>\n",
              "      <td>43.653036</td>\n",
              "      <td>40.462658</td>\n",
              "      <td>38.243040</td>\n",
              "    </tr>\n",
              "    <tr>\n",
              "      <th>...</th>\n",
              "      <td>...</td>\n",
              "      <td>...</td>\n",
              "      <td>...</td>\n",
              "    </tr>\n",
              "    <tr>\n",
              "      <th>580</th>\n",
              "      <td>43.372847</td>\n",
              "      <td>44.205443</td>\n",
              "      <td>39.795555</td>\n",
              "    </tr>\n",
              "    <tr>\n",
              "      <th>581</th>\n",
              "      <td>44.168977</td>\n",
              "      <td>42.959736</td>\n",
              "      <td>42.351254</td>\n",
              "    </tr>\n",
              "    <tr>\n",
              "      <th>582</th>\n",
              "      <td>44.393186</td>\n",
              "      <td>43.844842</td>\n",
              "      <td>44.074200</td>\n",
              "    </tr>\n",
              "    <tr>\n",
              "      <th>583</th>\n",
              "      <td>43.649487</td>\n",
              "      <td>46.200331</td>\n",
              "      <td>40.630420</td>\n",
              "    </tr>\n",
              "    <tr>\n",
              "      <th>584</th>\n",
              "      <td>44.128439</td>\n",
              "      <td>45.071626</td>\n",
              "      <td>43.850530</td>\n",
              "    </tr>\n",
              "  </tbody>\n",
              "</table>\n",
              "<p>585 rows × 3 columns</p>\n",
              "</div>\n",
              "      <button class=\"colab-df-convert\" onclick=\"convertToInteractive('df-ffeb9db0-9ba8-43c4-b9f0-f6ea4d8f6550')\"\n",
              "              title=\"Convert this dataframe to an interactive table.\"\n",
              "              style=\"display:none;\">\n",
              "        \n",
              "  <svg xmlns=\"http://www.w3.org/2000/svg\" height=\"24px\"viewBox=\"0 0 24 24\"\n",
              "       width=\"24px\">\n",
              "    <path d=\"M0 0h24v24H0V0z\" fill=\"none\"/>\n",
              "    <path d=\"M18.56 5.44l.94 2.06.94-2.06 2.06-.94-2.06-.94-.94-2.06-.94 2.06-2.06.94zm-11 1L8.5 8.5l.94-2.06 2.06-.94-2.06-.94L8.5 2.5l-.94 2.06-2.06.94zm10 10l.94 2.06.94-2.06 2.06-.94-2.06-.94-.94-2.06-.94 2.06-2.06.94z\"/><path d=\"M17.41 7.96l-1.37-1.37c-.4-.4-.92-.59-1.43-.59-.52 0-1.04.2-1.43.59L10.3 9.45l-7.72 7.72c-.78.78-.78 2.05 0 2.83L4 21.41c.39.39.9.59 1.41.59.51 0 1.02-.2 1.41-.59l7.78-7.78 2.81-2.81c.8-.78.8-2.07 0-2.86zM5.41 20L4 18.59l7.72-7.72 1.47 1.35L5.41 20z\"/>\n",
              "  </svg>\n",
              "      </button>\n",
              "      \n",
              "  <style>\n",
              "    .colab-df-container {\n",
              "      display:flex;\n",
              "      flex-wrap:wrap;\n",
              "      gap: 12px;\n",
              "    }\n",
              "\n",
              "    .colab-df-convert {\n",
              "      background-color: #E8F0FE;\n",
              "      border: none;\n",
              "      border-radius: 50%;\n",
              "      cursor: pointer;\n",
              "      display: none;\n",
              "      fill: #1967D2;\n",
              "      height: 32px;\n",
              "      padding: 0 0 0 0;\n",
              "      width: 32px;\n",
              "    }\n",
              "\n",
              "    .colab-df-convert:hover {\n",
              "      background-color: #E2EBFA;\n",
              "      box-shadow: 0px 1px 2px rgba(60, 64, 67, 0.3), 0px 1px 3px 1px rgba(60, 64, 67, 0.15);\n",
              "      fill: #174EA6;\n",
              "    }\n",
              "\n",
              "    [theme=dark] .colab-df-convert {\n",
              "      background-color: #3B4455;\n",
              "      fill: #D2E3FC;\n",
              "    }\n",
              "\n",
              "    [theme=dark] .colab-df-convert:hover {\n",
              "      background-color: #434B5C;\n",
              "      box-shadow: 0px 1px 3px 1px rgba(0, 0, 0, 0.15);\n",
              "      filter: drop-shadow(0px 1px 2px rgba(0, 0, 0, 0.3));\n",
              "      fill: #FFFFFF;\n",
              "    }\n",
              "  </style>\n",
              "\n",
              "      <script>\n",
              "        const buttonEl =\n",
              "          document.querySelector('#df-ffeb9db0-9ba8-43c4-b9f0-f6ea4d8f6550 button.colab-df-convert');\n",
              "        buttonEl.style.display =\n",
              "          google.colab.kernel.accessAllowed ? 'block' : 'none';\n",
              "\n",
              "        async function convertToInteractive(key) {\n",
              "          const element = document.querySelector('#df-ffeb9db0-9ba8-43c4-b9f0-f6ea4d8f6550');\n",
              "          const dataTable =\n",
              "            await google.colab.kernel.invokeFunction('convertToInteractive',\n",
              "                                                     [key], {});\n",
              "          if (!dataTable) return;\n",
              "\n",
              "          const docLinkHtml = 'Like what you see? Visit the ' +\n",
              "            '<a target=\"_blank\" href=https://colab.research.google.com/notebooks/data_table.ipynb>data table notebook</a>'\n",
              "            + ' to learn more about interactive tables.';\n",
              "          element.innerHTML = '';\n",
              "          dataTable['output_type'] = 'display_data';\n",
              "          await google.colab.output.renderOutput(dataTable, element);\n",
              "          const docLink = document.createElement('div');\n",
              "          docLink.innerHTML = docLinkHtml;\n",
              "          element.appendChild(docLink);\n",
              "        }\n",
              "      </script>\n",
              "    </div>\n",
              "  </div>\n",
              "  "
            ],
            "text/plain": [
              "       target_catboost  target_lgbm  target_xgb\n",
              "index                                          \n",
              "0            65.927922    49.622930   55.741352\n",
              "1            44.248116    43.244205   42.661655\n",
              "2            43.807966    45.389293   42.217470\n",
              "3            45.661121    44.769051   40.969734\n",
              "4            43.653036    40.462658   38.243040\n",
              "...                ...          ...         ...\n",
              "580          43.372847    44.205443   39.795555\n",
              "581          44.168977    42.959736   42.351254\n",
              "582          44.393186    43.844842   44.074200\n",
              "583          43.649487    46.200331   40.630420\n",
              "584          44.128439    45.071626   43.850530\n",
              "\n",
              "[585 rows x 3 columns]"
            ]
          },
          "execution_count": 11,
          "metadata": {},
          "output_type": "execute_result"
        }
      ],
      "source": [
        "df_ = pd.pivot_table(df,\n",
        "                     index=[\"index\"],\n",
        "                     columns=['model'], \n",
        "              #  aggfunc=['diff']\n",
        "               )\n",
        "df_.columns = ['target_catboost', 'target_lgbm', 'target_xgb']\n",
        "df_"
      ]
    },
    {
      "cell_type": "code",
      "execution_count": null,
      "metadata": {
        "colab": {
          "base_uri": "https://localhost:8080/",
          "height": 424
        },
        "id": "TWjZgfZUfI1p",
        "outputId": "ff04610b-e342-49a9-df48-3ac4966fc8f3"
      },
      "outputs": [
        {
          "data": {
            "text/html": [
              "\n",
              "  <div id=\"df-91145365-84fe-4ff3-8940-13170d3415c8\">\n",
              "    <div class=\"colab-df-container\">\n",
              "      <div>\n",
              "<style scoped>\n",
              "    .dataframe tbody tr th:only-of-type {\n",
              "        vertical-align: middle;\n",
              "    }\n",
              "\n",
              "    .dataframe tbody tr th {\n",
              "        vertical-align: top;\n",
              "    }\n",
              "\n",
              "    .dataframe thead th {\n",
              "        text-align: right;\n",
              "    }\n",
              "</style>\n",
              "<table border=\"1\" class=\"dataframe\">\n",
              "  <thead>\n",
              "    <tr style=\"text-align: right;\">\n",
              "      <th></th>\n",
              "      <th>index</th>\n",
              "      <th>target_catboost</th>\n",
              "      <th>target_lgbm</th>\n",
              "      <th>target_xgb</th>\n",
              "    </tr>\n",
              "  </thead>\n",
              "  <tbody>\n",
              "    <tr>\n",
              "      <th>0</th>\n",
              "      <td>0</td>\n",
              "      <td>65.927922</td>\n",
              "      <td>49.622930</td>\n",
              "      <td>55.741352</td>\n",
              "    </tr>\n",
              "    <tr>\n",
              "      <th>1</th>\n",
              "      <td>1</td>\n",
              "      <td>44.248116</td>\n",
              "      <td>43.244205</td>\n",
              "      <td>42.661655</td>\n",
              "    </tr>\n",
              "    <tr>\n",
              "      <th>2</th>\n",
              "      <td>2</td>\n",
              "      <td>43.807966</td>\n",
              "      <td>45.389293</td>\n",
              "      <td>42.217470</td>\n",
              "    </tr>\n",
              "    <tr>\n",
              "      <th>3</th>\n",
              "      <td>3</td>\n",
              "      <td>45.661121</td>\n",
              "      <td>44.769051</td>\n",
              "      <td>40.969734</td>\n",
              "    </tr>\n",
              "    <tr>\n",
              "      <th>4</th>\n",
              "      <td>4</td>\n",
              "      <td>43.653036</td>\n",
              "      <td>40.462658</td>\n",
              "      <td>38.243040</td>\n",
              "    </tr>\n",
              "    <tr>\n",
              "      <th>...</th>\n",
              "      <td>...</td>\n",
              "      <td>...</td>\n",
              "      <td>...</td>\n",
              "      <td>...</td>\n",
              "    </tr>\n",
              "    <tr>\n",
              "      <th>580</th>\n",
              "      <td>580</td>\n",
              "      <td>43.372847</td>\n",
              "      <td>44.205443</td>\n",
              "      <td>39.795555</td>\n",
              "    </tr>\n",
              "    <tr>\n",
              "      <th>581</th>\n",
              "      <td>581</td>\n",
              "      <td>44.168977</td>\n",
              "      <td>42.959736</td>\n",
              "      <td>42.351254</td>\n",
              "    </tr>\n",
              "    <tr>\n",
              "      <th>582</th>\n",
              "      <td>582</td>\n",
              "      <td>44.393186</td>\n",
              "      <td>43.844842</td>\n",
              "      <td>44.074200</td>\n",
              "    </tr>\n",
              "    <tr>\n",
              "      <th>583</th>\n",
              "      <td>583</td>\n",
              "      <td>43.649487</td>\n",
              "      <td>46.200331</td>\n",
              "      <td>40.630420</td>\n",
              "    </tr>\n",
              "    <tr>\n",
              "      <th>584</th>\n",
              "      <td>584</td>\n",
              "      <td>44.128439</td>\n",
              "      <td>45.071626</td>\n",
              "      <td>43.850530</td>\n",
              "    </tr>\n",
              "  </tbody>\n",
              "</table>\n",
              "<p>585 rows × 4 columns</p>\n",
              "</div>\n",
              "      <button class=\"colab-df-convert\" onclick=\"convertToInteractive('df-91145365-84fe-4ff3-8940-13170d3415c8')\"\n",
              "              title=\"Convert this dataframe to an interactive table.\"\n",
              "              style=\"display:none;\">\n",
              "        \n",
              "  <svg xmlns=\"http://www.w3.org/2000/svg\" height=\"24px\"viewBox=\"0 0 24 24\"\n",
              "       width=\"24px\">\n",
              "    <path d=\"M0 0h24v24H0V0z\" fill=\"none\"/>\n",
              "    <path d=\"M18.56 5.44l.94 2.06.94-2.06 2.06-.94-2.06-.94-.94-2.06-.94 2.06-2.06.94zm-11 1L8.5 8.5l.94-2.06 2.06-.94-2.06-.94L8.5 2.5l-.94 2.06-2.06.94zm10 10l.94 2.06.94-2.06 2.06-.94-2.06-.94-.94-2.06-.94 2.06-2.06.94z\"/><path d=\"M17.41 7.96l-1.37-1.37c-.4-.4-.92-.59-1.43-.59-.52 0-1.04.2-1.43.59L10.3 9.45l-7.72 7.72c-.78.78-.78 2.05 0 2.83L4 21.41c.39.39.9.59 1.41.59.51 0 1.02-.2 1.41-.59l7.78-7.78 2.81-2.81c.8-.78.8-2.07 0-2.86zM5.41 20L4 18.59l7.72-7.72 1.47 1.35L5.41 20z\"/>\n",
              "  </svg>\n",
              "      </button>\n",
              "      \n",
              "  <style>\n",
              "    .colab-df-container {\n",
              "      display:flex;\n",
              "      flex-wrap:wrap;\n",
              "      gap: 12px;\n",
              "    }\n",
              "\n",
              "    .colab-df-convert {\n",
              "      background-color: #E8F0FE;\n",
              "      border: none;\n",
              "      border-radius: 50%;\n",
              "      cursor: pointer;\n",
              "      display: none;\n",
              "      fill: #1967D2;\n",
              "      height: 32px;\n",
              "      padding: 0 0 0 0;\n",
              "      width: 32px;\n",
              "    }\n",
              "\n",
              "    .colab-df-convert:hover {\n",
              "      background-color: #E2EBFA;\n",
              "      box-shadow: 0px 1px 2px rgba(60, 64, 67, 0.3), 0px 1px 3px 1px rgba(60, 64, 67, 0.15);\n",
              "      fill: #174EA6;\n",
              "    }\n",
              "\n",
              "    [theme=dark] .colab-df-convert {\n",
              "      background-color: #3B4455;\n",
              "      fill: #D2E3FC;\n",
              "    }\n",
              "\n",
              "    [theme=dark] .colab-df-convert:hover {\n",
              "      background-color: #434B5C;\n",
              "      box-shadow: 0px 1px 3px 1px rgba(0, 0, 0, 0.15);\n",
              "      filter: drop-shadow(0px 1px 2px rgba(0, 0, 0, 0.3));\n",
              "      fill: #FFFFFF;\n",
              "    }\n",
              "  </style>\n",
              "\n",
              "      <script>\n",
              "        const buttonEl =\n",
              "          document.querySelector('#df-91145365-84fe-4ff3-8940-13170d3415c8 button.colab-df-convert');\n",
              "        buttonEl.style.display =\n",
              "          google.colab.kernel.accessAllowed ? 'block' : 'none';\n",
              "\n",
              "        async function convertToInteractive(key) {\n",
              "          const element = document.querySelector('#df-91145365-84fe-4ff3-8940-13170d3415c8');\n",
              "          const dataTable =\n",
              "            await google.colab.kernel.invokeFunction('convertToInteractive',\n",
              "                                                     [key], {});\n",
              "          if (!dataTable) return;\n",
              "\n",
              "          const docLinkHtml = 'Like what you see? Visit the ' +\n",
              "            '<a target=\"_blank\" href=https://colab.research.google.com/notebooks/data_table.ipynb>data table notebook</a>'\n",
              "            + ' to learn more about interactive tables.';\n",
              "          element.innerHTML = '';\n",
              "          dataTable['output_type'] = 'display_data';\n",
              "          await google.colab.output.renderOutput(dataTable, element);\n",
              "          const docLink = document.createElement('div');\n",
              "          docLink.innerHTML = docLinkHtml;\n",
              "          element.appendChild(docLink);\n",
              "        }\n",
              "      </script>\n",
              "    </div>\n",
              "  </div>\n",
              "  "
            ],
            "text/plain": [
              "     index  target_catboost  target_lgbm  target_xgb\n",
              "0        0        65.927922    49.622930   55.741352\n",
              "1        1        44.248116    43.244205   42.661655\n",
              "2        2        43.807966    45.389293   42.217470\n",
              "3        3        45.661121    44.769051   40.969734\n",
              "4        4        43.653036    40.462658   38.243040\n",
              "..     ...              ...          ...         ...\n",
              "580    580        43.372847    44.205443   39.795555\n",
              "581    581        44.168977    42.959736   42.351254\n",
              "582    582        44.393186    43.844842   44.074200\n",
              "583    583        43.649487    46.200331   40.630420\n",
              "584    584        44.128439    45.071626   43.850530\n",
              "\n",
              "[585 rows x 4 columns]"
            ]
          },
          "execution_count": 13,
          "metadata": {},
          "output_type": "execute_result"
        }
      ],
      "source": [
        "df_.reset_index(inplace=True)\n",
        "df_"
      ]
    },
    {
      "cell_type": "code",
      "execution_count": null,
      "metadata": {
        "colab": {
          "base_uri": "https://localhost:8080/",
          "height": 488
        },
        "id": "ogjWjRIjfbxh",
        "outputId": "08708910-7190-42ff-f5a2-b73e1c2675fd"
      },
      "outputs": [
        {
          "data": {
            "text/html": [
              "\n",
              "  <div id=\"df-7e148991-cc46-410f-8671-cf68862dcc8f\">\n",
              "    <div class=\"colab-df-container\">\n",
              "      <div>\n",
              "<style scoped>\n",
              "    .dataframe tbody tr th:only-of-type {\n",
              "        vertical-align: middle;\n",
              "    }\n",
              "\n",
              "    .dataframe tbody tr th {\n",
              "        vertical-align: top;\n",
              "    }\n",
              "\n",
              "    .dataframe thead th {\n",
              "        text-align: right;\n",
              "    }\n",
              "</style>\n",
              "<table border=\"1\" class=\"dataframe\">\n",
              "  <thead>\n",
              "    <tr style=\"text-align: right;\">\n",
              "      <th></th>\n",
              "      <th>index</th>\n",
              "      <th>target_catboost</th>\n",
              "      <th>target_lgbm</th>\n",
              "      <th>target_xgb</th>\n",
              "      <th>catboost_div_lgbm</th>\n",
              "      <th>catboost_dif_lgbm</th>\n",
              "      <th>catboost_div_xgb</th>\n",
              "      <th>catboost_dif_xgb</th>\n",
              "      <th>lgbm_div_catboost</th>\n",
              "      <th>lgbm_div_xgb</th>\n",
              "      <th>...</th>\n",
              "      <th>xgb_div_catboost</th>\n",
              "      <th>xgb_dif_catboost</th>\n",
              "      <th>xgb_div_lgbm</th>\n",
              "      <th>xgb_dif_lgbm</th>\n",
              "      <th>catboost_div_catboost</th>\n",
              "      <th>catboost_dif_catboost</th>\n",
              "      <th>lgbm_div_lgbm</th>\n",
              "      <th>lgbm_dif_lgbm</th>\n",
              "      <th>xgb_div_xgb</th>\n",
              "      <th>xgb_dif_xgb</th>\n",
              "    </tr>\n",
              "  </thead>\n",
              "  <tbody>\n",
              "    <tr>\n",
              "      <th>0</th>\n",
              "      <td>0</td>\n",
              "      <td>65.927922</td>\n",
              "      <td>49.622930</td>\n",
              "      <td>55.741352</td>\n",
              "      <td>1.328578</td>\n",
              "      <td>16.304993</td>\n",
              "      <td>1.182747</td>\n",
              "      <td>10.186570</td>\n",
              "      <td>0.752685</td>\n",
              "      <td>0.890235</td>\n",
              "      <td>...</td>\n",
              "      <td>0.845489</td>\n",
              "      <td>-10.186570</td>\n",
              "      <td>1.123298</td>\n",
              "      <td>6.118422</td>\n",
              "      <td>1.0</td>\n",
              "      <td>0.0</td>\n",
              "      <td>1.0</td>\n",
              "      <td>0.0</td>\n",
              "      <td>1.0</td>\n",
              "      <td>0.0</td>\n",
              "    </tr>\n",
              "    <tr>\n",
              "      <th>1</th>\n",
              "      <td>1</td>\n",
              "      <td>44.248116</td>\n",
              "      <td>43.244205</td>\n",
              "      <td>42.661655</td>\n",
              "      <td>1.023215</td>\n",
              "      <td>1.003911</td>\n",
              "      <td>1.037187</td>\n",
              "      <td>1.586461</td>\n",
              "      <td>0.977312</td>\n",
              "      <td>1.013655</td>\n",
              "      <td>...</td>\n",
              "      <td>0.964146</td>\n",
              "      <td>-1.586461</td>\n",
              "      <td>0.986529</td>\n",
              "      <td>-0.582550</td>\n",
              "      <td>1.0</td>\n",
              "      <td>0.0</td>\n",
              "      <td>1.0</td>\n",
              "      <td>0.0</td>\n",
              "      <td>1.0</td>\n",
              "      <td>0.0</td>\n",
              "    </tr>\n",
              "    <tr>\n",
              "      <th>2</th>\n",
              "      <td>2</td>\n",
              "      <td>43.807966</td>\n",
              "      <td>45.389293</td>\n",
              "      <td>42.217470</td>\n",
              "      <td>0.965161</td>\n",
              "      <td>-1.581327</td>\n",
              "      <td>1.037674</td>\n",
              "      <td>1.590496</td>\n",
              "      <td>1.036097</td>\n",
              "      <td>1.075131</td>\n",
              "      <td>...</td>\n",
              "      <td>0.963694</td>\n",
              "      <td>-1.590496</td>\n",
              "      <td>0.930120</td>\n",
              "      <td>-3.171823</td>\n",
              "      <td>1.0</td>\n",
              "      <td>0.0</td>\n",
              "      <td>1.0</td>\n",
              "      <td>0.0</td>\n",
              "      <td>1.0</td>\n",
              "      <td>0.0</td>\n",
              "    </tr>\n",
              "    <tr>\n",
              "      <th>3</th>\n",
              "      <td>3</td>\n",
              "      <td>45.661121</td>\n",
              "      <td>44.769051</td>\n",
              "      <td>40.969734</td>\n",
              "      <td>1.019926</td>\n",
              "      <td>0.892070</td>\n",
              "      <td>1.114509</td>\n",
              "      <td>4.691387</td>\n",
              "      <td>0.980463</td>\n",
              "      <td>1.092735</td>\n",
              "      <td>...</td>\n",
              "      <td>0.897256</td>\n",
              "      <td>-4.691387</td>\n",
              "      <td>0.915135</td>\n",
              "      <td>-3.799317</td>\n",
              "      <td>1.0</td>\n",
              "      <td>0.0</td>\n",
              "      <td>1.0</td>\n",
              "      <td>0.0</td>\n",
              "      <td>1.0</td>\n",
              "      <td>0.0</td>\n",
              "    </tr>\n",
              "    <tr>\n",
              "      <th>4</th>\n",
              "      <td>4</td>\n",
              "      <td>43.653036</td>\n",
              "      <td>40.462658</td>\n",
              "      <td>38.243040</td>\n",
              "      <td>1.078847</td>\n",
              "      <td>3.190378</td>\n",
              "      <td>1.141464</td>\n",
              "      <td>5.409996</td>\n",
              "      <td>0.926915</td>\n",
              "      <td>1.058040</td>\n",
              "      <td>...</td>\n",
              "      <td>0.876068</td>\n",
              "      <td>-5.409996</td>\n",
              "      <td>0.945144</td>\n",
              "      <td>-2.219618</td>\n",
              "      <td>1.0</td>\n",
              "      <td>0.0</td>\n",
              "      <td>1.0</td>\n",
              "      <td>0.0</td>\n",
              "      <td>1.0</td>\n",
              "      <td>0.0</td>\n",
              "    </tr>\n",
              "    <tr>\n",
              "      <th>...</th>\n",
              "      <td>...</td>\n",
              "      <td>...</td>\n",
              "      <td>...</td>\n",
              "      <td>...</td>\n",
              "      <td>...</td>\n",
              "      <td>...</td>\n",
              "      <td>...</td>\n",
              "      <td>...</td>\n",
              "      <td>...</td>\n",
              "      <td>...</td>\n",
              "      <td>...</td>\n",
              "      <td>...</td>\n",
              "      <td>...</td>\n",
              "      <td>...</td>\n",
              "      <td>...</td>\n",
              "      <td>...</td>\n",
              "      <td>...</td>\n",
              "      <td>...</td>\n",
              "      <td>...</td>\n",
              "      <td>...</td>\n",
              "      <td>...</td>\n",
              "    </tr>\n",
              "    <tr>\n",
              "      <th>580</th>\n",
              "      <td>580</td>\n",
              "      <td>43.372847</td>\n",
              "      <td>44.205443</td>\n",
              "      <td>39.795555</td>\n",
              "      <td>0.981165</td>\n",
              "      <td>-0.832596</td>\n",
              "      <td>1.089892</td>\n",
              "      <td>3.577292</td>\n",
              "      <td>1.019196</td>\n",
              "      <td>1.110814</td>\n",
              "      <td>...</td>\n",
              "      <td>0.917522</td>\n",
              "      <td>-3.577292</td>\n",
              "      <td>0.900241</td>\n",
              "      <td>-4.409888</td>\n",
              "      <td>1.0</td>\n",
              "      <td>0.0</td>\n",
              "      <td>1.0</td>\n",
              "      <td>0.0</td>\n",
              "      <td>1.0</td>\n",
              "      <td>0.0</td>\n",
              "    </tr>\n",
              "    <tr>\n",
              "      <th>581</th>\n",
              "      <td>581</td>\n",
              "      <td>44.168977</td>\n",
              "      <td>42.959736</td>\n",
              "      <td>42.351254</td>\n",
              "      <td>1.028148</td>\n",
              "      <td>1.209241</td>\n",
              "      <td>1.042920</td>\n",
              "      <td>1.817723</td>\n",
              "      <td>0.972622</td>\n",
              "      <td>1.014368</td>\n",
              "      <td>...</td>\n",
              "      <td>0.958846</td>\n",
              "      <td>-1.817723</td>\n",
              "      <td>0.985836</td>\n",
              "      <td>-0.608482</td>\n",
              "      <td>1.0</td>\n",
              "      <td>0.0</td>\n",
              "      <td>1.0</td>\n",
              "      <td>0.0</td>\n",
              "      <td>1.0</td>\n",
              "      <td>0.0</td>\n",
              "    </tr>\n",
              "    <tr>\n",
              "      <th>582</th>\n",
              "      <td>582</td>\n",
              "      <td>44.393186</td>\n",
              "      <td>43.844842</td>\n",
              "      <td>44.074200</td>\n",
              "      <td>1.012506</td>\n",
              "      <td>0.548344</td>\n",
              "      <td>1.007237</td>\n",
              "      <td>0.318986</td>\n",
              "      <td>0.987648</td>\n",
              "      <td>0.994796</td>\n",
              "      <td>...</td>\n",
              "      <td>0.992815</td>\n",
              "      <td>-0.318986</td>\n",
              "      <td>1.005231</td>\n",
              "      <td>0.229358</td>\n",
              "      <td>1.0</td>\n",
              "      <td>0.0</td>\n",
              "      <td>1.0</td>\n",
              "      <td>0.0</td>\n",
              "      <td>1.0</td>\n",
              "      <td>0.0</td>\n",
              "    </tr>\n",
              "    <tr>\n",
              "      <th>583</th>\n",
              "      <td>583</td>\n",
              "      <td>43.649487</td>\n",
              "      <td>46.200331</td>\n",
              "      <td>40.630420</td>\n",
              "      <td>0.944787</td>\n",
              "      <td>-2.550844</td>\n",
              "      <td>1.074306</td>\n",
              "      <td>3.019067</td>\n",
              "      <td>1.058439</td>\n",
              "      <td>1.137087</td>\n",
              "      <td>...</td>\n",
              "      <td>0.930834</td>\n",
              "      <td>-3.019067</td>\n",
              "      <td>0.879440</td>\n",
              "      <td>-5.569911</td>\n",
              "      <td>1.0</td>\n",
              "      <td>0.0</td>\n",
              "      <td>1.0</td>\n",
              "      <td>0.0</td>\n",
              "      <td>1.0</td>\n",
              "      <td>0.0</td>\n",
              "    </tr>\n",
              "    <tr>\n",
              "      <th>584</th>\n",
              "      <td>584</td>\n",
              "      <td>44.128439</td>\n",
              "      <td>45.071626</td>\n",
              "      <td>43.850530</td>\n",
              "      <td>0.979074</td>\n",
              "      <td>-0.943187</td>\n",
              "      <td>1.006338</td>\n",
              "      <td>0.277909</td>\n",
              "      <td>1.021374</td>\n",
              "      <td>1.027847</td>\n",
              "      <td>...</td>\n",
              "      <td>0.993702</td>\n",
              "      <td>-0.277909</td>\n",
              "      <td>0.972908</td>\n",
              "      <td>-1.221096</td>\n",
              "      <td>1.0</td>\n",
              "      <td>0.0</td>\n",
              "      <td>1.0</td>\n",
              "      <td>0.0</td>\n",
              "      <td>1.0</td>\n",
              "      <td>0.0</td>\n",
              "    </tr>\n",
              "  </tbody>\n",
              "</table>\n",
              "<p>585 rows × 22 columns</p>\n",
              "</div>\n",
              "      <button class=\"colab-df-convert\" onclick=\"convertToInteractive('df-7e148991-cc46-410f-8671-cf68862dcc8f')\"\n",
              "              title=\"Convert this dataframe to an interactive table.\"\n",
              "              style=\"display:none;\">\n",
              "        \n",
              "  <svg xmlns=\"http://www.w3.org/2000/svg\" height=\"24px\"viewBox=\"0 0 24 24\"\n",
              "       width=\"24px\">\n",
              "    <path d=\"M0 0h24v24H0V0z\" fill=\"none\"/>\n",
              "    <path d=\"M18.56 5.44l.94 2.06.94-2.06 2.06-.94-2.06-.94-.94-2.06-.94 2.06-2.06.94zm-11 1L8.5 8.5l.94-2.06 2.06-.94-2.06-.94L8.5 2.5l-.94 2.06-2.06.94zm10 10l.94 2.06.94-2.06 2.06-.94-2.06-.94-.94-2.06-.94 2.06-2.06.94z\"/><path d=\"M17.41 7.96l-1.37-1.37c-.4-.4-.92-.59-1.43-.59-.52 0-1.04.2-1.43.59L10.3 9.45l-7.72 7.72c-.78.78-.78 2.05 0 2.83L4 21.41c.39.39.9.59 1.41.59.51 0 1.02-.2 1.41-.59l7.78-7.78 2.81-2.81c.8-.78.8-2.07 0-2.86zM5.41 20L4 18.59l7.72-7.72 1.47 1.35L5.41 20z\"/>\n",
              "  </svg>\n",
              "      </button>\n",
              "      \n",
              "  <style>\n",
              "    .colab-df-container {\n",
              "      display:flex;\n",
              "      flex-wrap:wrap;\n",
              "      gap: 12px;\n",
              "    }\n",
              "\n",
              "    .colab-df-convert {\n",
              "      background-color: #E8F0FE;\n",
              "      border: none;\n",
              "      border-radius: 50%;\n",
              "      cursor: pointer;\n",
              "      display: none;\n",
              "      fill: #1967D2;\n",
              "      height: 32px;\n",
              "      padding: 0 0 0 0;\n",
              "      width: 32px;\n",
              "    }\n",
              "\n",
              "    .colab-df-convert:hover {\n",
              "      background-color: #E2EBFA;\n",
              "      box-shadow: 0px 1px 2px rgba(60, 64, 67, 0.3), 0px 1px 3px 1px rgba(60, 64, 67, 0.15);\n",
              "      fill: #174EA6;\n",
              "    }\n",
              "\n",
              "    [theme=dark] .colab-df-convert {\n",
              "      background-color: #3B4455;\n",
              "      fill: #D2E3FC;\n",
              "    }\n",
              "\n",
              "    [theme=dark] .colab-df-convert:hover {\n",
              "      background-color: #434B5C;\n",
              "      box-shadow: 0px 1px 3px 1px rgba(0, 0, 0, 0.15);\n",
              "      filter: drop-shadow(0px 1px 2px rgba(0, 0, 0, 0.3));\n",
              "      fill: #FFFFFF;\n",
              "    }\n",
              "  </style>\n",
              "\n",
              "      <script>\n",
              "        const buttonEl =\n",
              "          document.querySelector('#df-7e148991-cc46-410f-8671-cf68862dcc8f button.colab-df-convert');\n",
              "        buttonEl.style.display =\n",
              "          google.colab.kernel.accessAllowed ? 'block' : 'none';\n",
              "\n",
              "        async function convertToInteractive(key) {\n",
              "          const element = document.querySelector('#df-7e148991-cc46-410f-8671-cf68862dcc8f');\n",
              "          const dataTable =\n",
              "            await google.colab.kernel.invokeFunction('convertToInteractive',\n",
              "                                                     [key], {});\n",
              "          if (!dataTable) return;\n",
              "\n",
              "          const docLinkHtml = 'Like what you see? Visit the ' +\n",
              "            '<a target=\"_blank\" href=https://colab.research.google.com/notebooks/data_table.ipynb>data table notebook</a>'\n",
              "            + ' to learn more about interactive tables.';\n",
              "          element.innerHTML = '';\n",
              "          dataTable['output_type'] = 'display_data';\n",
              "          await google.colab.output.renderOutput(dataTable, element);\n",
              "          const docLink = document.createElement('div');\n",
              "          docLink.innerHTML = docLinkHtml;\n",
              "          element.appendChild(docLink);\n",
              "        }\n",
              "      </script>\n",
              "    </div>\n",
              "  </div>\n",
              "  "
            ],
            "text/plain": [
              "     index  target_catboost  target_lgbm  target_xgb  catboost_div_lgbm  \\\n",
              "0        0        65.927922    49.622930   55.741352           1.328578   \n",
              "1        1        44.248116    43.244205   42.661655           1.023215   \n",
              "2        2        43.807966    45.389293   42.217470           0.965161   \n",
              "3        3        45.661121    44.769051   40.969734           1.019926   \n",
              "4        4        43.653036    40.462658   38.243040           1.078847   \n",
              "..     ...              ...          ...         ...                ...   \n",
              "580    580        43.372847    44.205443   39.795555           0.981165   \n",
              "581    581        44.168977    42.959736   42.351254           1.028148   \n",
              "582    582        44.393186    43.844842   44.074200           1.012506   \n",
              "583    583        43.649487    46.200331   40.630420           0.944787   \n",
              "584    584        44.128439    45.071626   43.850530           0.979074   \n",
              "\n",
              "     catboost_dif_lgbm  catboost_div_xgb  catboost_dif_xgb  lgbm_div_catboost  \\\n",
              "0            16.304993          1.182747         10.186570           0.752685   \n",
              "1             1.003911          1.037187          1.586461           0.977312   \n",
              "2            -1.581327          1.037674          1.590496           1.036097   \n",
              "3             0.892070          1.114509          4.691387           0.980463   \n",
              "4             3.190378          1.141464          5.409996           0.926915   \n",
              "..                 ...               ...               ...                ...   \n",
              "580          -0.832596          1.089892          3.577292           1.019196   \n",
              "581           1.209241          1.042920          1.817723           0.972622   \n",
              "582           0.548344          1.007237          0.318986           0.987648   \n",
              "583          -2.550844          1.074306          3.019067           1.058439   \n",
              "584          -0.943187          1.006338          0.277909           1.021374   \n",
              "\n",
              "     lgbm_div_xgb  ...  xgb_div_catboost  xgb_dif_catboost  xgb_div_lgbm  \\\n",
              "0        0.890235  ...          0.845489        -10.186570      1.123298   \n",
              "1        1.013655  ...          0.964146         -1.586461      0.986529   \n",
              "2        1.075131  ...          0.963694         -1.590496      0.930120   \n",
              "3        1.092735  ...          0.897256         -4.691387      0.915135   \n",
              "4        1.058040  ...          0.876068         -5.409996      0.945144   \n",
              "..            ...  ...               ...               ...           ...   \n",
              "580      1.110814  ...          0.917522         -3.577292      0.900241   \n",
              "581      1.014368  ...          0.958846         -1.817723      0.985836   \n",
              "582      0.994796  ...          0.992815         -0.318986      1.005231   \n",
              "583      1.137087  ...          0.930834         -3.019067      0.879440   \n",
              "584      1.027847  ...          0.993702         -0.277909      0.972908   \n",
              "\n",
              "     xgb_dif_lgbm  catboost_div_catboost  catboost_dif_catboost  \\\n",
              "0        6.118422                    1.0                    0.0   \n",
              "1       -0.582550                    1.0                    0.0   \n",
              "2       -3.171823                    1.0                    0.0   \n",
              "3       -3.799317                    1.0                    0.0   \n",
              "4       -2.219618                    1.0                    0.0   \n",
              "..            ...                    ...                    ...   \n",
              "580     -4.409888                    1.0                    0.0   \n",
              "581     -0.608482                    1.0                    0.0   \n",
              "582      0.229358                    1.0                    0.0   \n",
              "583     -5.569911                    1.0                    0.0   \n",
              "584     -1.221096                    1.0                    0.0   \n",
              "\n",
              "     lgbm_div_lgbm  lgbm_dif_lgbm  xgb_div_xgb  xgb_dif_xgb  \n",
              "0              1.0            0.0          1.0          0.0  \n",
              "1              1.0            0.0          1.0          0.0  \n",
              "2              1.0            0.0          1.0          0.0  \n",
              "3              1.0            0.0          1.0          0.0  \n",
              "4              1.0            0.0          1.0          0.0  \n",
              "..             ...            ...          ...          ...  \n",
              "580            1.0            0.0          1.0          0.0  \n",
              "581            1.0            0.0          1.0          0.0  \n",
              "582            1.0            0.0          1.0          0.0  \n",
              "583            1.0            0.0          1.0          0.0  \n",
              "584            1.0            0.0          1.0          0.0  \n",
              "\n",
              "[585 rows x 22 columns]"
            ]
          },
          "execution_count": 22,
          "metadata": {},
          "output_type": "execute_result"
        }
      ],
      "source": [
        "#1\n",
        "df_['catboost_div_lgbm'] = df_['target_catboost'] / df_['target_lgbm']\n",
        "#2\n",
        "df_['catboost_dif_lgbm'] = df_['target_catboost'] - df_['target_lgbm']\n",
        "#3\n",
        "df_['catboost_div_xgb'] = df_['target_catboost'] / df_['target_xgb']\n",
        "#4\n",
        "df_['catboost_dif_xgb'] = df_['target_catboost'] - df_['target_xgb']\n",
        "\n",
        "\n",
        "#5\n",
        "df_['catboost_div_catboost'] = df_['target_catboost'] / df_['target_catboost']\n",
        "#6\n",
        "df_['catboost_dif_catboost'] = df_['target_catboost'] - df_['target_catboost']\n",
        "\n",
        "\n",
        "\n",
        "\n",
        "#7\n",
        "df_['lgbm_div_catboost'] = df_['target_lgbm']  / df_['target_catboost']\n",
        "#8\n",
        "df_['lgbm_dif_catboost'] = df_['target_lgbm']  - df_['target_catboost']\n",
        "#9\n",
        "df_['lgbm_div_xgb'] = df_['target_lgbm']  / df_['target_xgb']\n",
        "#10\n",
        "df_['lgbm_dif_xgb'] = df_['target_lgbm']  - df_['target_xgb']\n",
        "\n",
        "#11\n",
        "df_['lgbm_div_lgbm'] = df_['target_lgbm']  / df_['target_lgbm']\n",
        "#12\n",
        "df_['lgbm_dif_lgbm'] = df_['target_lgbm']  - df_['target_lgbm']\n",
        "\n",
        "\n",
        "#13\n",
        "df_['xgb_div_catboost'] = df_['target_xgb']  / df_['target_catboost']\n",
        "#14\n",
        "df_['xgb_dif_catboost'] = df_['target_xgb']  - df_['target_catboost']\n",
        "#15\n",
        "df_['xgb_div_lgbm'] = df_['target_xgb']  / df_['target_lgbm']\n",
        "#16\n",
        "df_['xgb_dif_lgbm'] = df_['target_xgb']  - df_['target_lgbm']\n",
        "\n",
        "\n",
        "#17\n",
        "df_['xgb_div_xgb'] = df_['target_xgb']  / df_['target_xgb']\n",
        "#18\n",
        "df_['xgb_dif_xgb'] = df_['target_xgb']  - df_['target_xgb']\n",
        "\n",
        "\n",
        "df_"
      ]
    },
    {
      "cell_type": "code",
      "execution_count": null,
      "metadata": {
        "id": "2HW1r_blyxMS"
      },
      "outputs": [],
      "source": [
        "df_.to_csv('try_0.csv', index=False)"
      ]
    },
    {
      "cell_type": "code",
      "execution_count": null,
      "metadata": {
        "colab": {
          "base_uri": "https://localhost:8080/",
          "height": 424
        },
        "id": "VbZlUZSX0Aao",
        "outputId": "4873d9d5-c1d8-41a2-8729-0641ab771d52"
      },
      "outputs": [
        {
          "data": {
            "text/html": [
              "\n",
              "  <div id=\"df-1fd28162-688c-4c08-ac62-1d374bc311cb\">\n",
              "    <div class=\"colab-df-container\">\n",
              "      <div>\n",
              "<style scoped>\n",
              "    .dataframe tbody tr th:only-of-type {\n",
              "        vertical-align: middle;\n",
              "    }\n",
              "\n",
              "    .dataframe tbody tr th {\n",
              "        vertical-align: top;\n",
              "    }\n",
              "\n",
              "    .dataframe thead th {\n",
              "        text-align: right;\n",
              "    }\n",
              "</style>\n",
              "<table border=\"1\" class=\"dataframe\">\n",
              "  <thead>\n",
              "    <tr style=\"text-align: right;\">\n",
              "      <th></th>\n",
              "      <th>index_</th>\n",
              "      <th>target_catboost</th>\n",
              "      <th>target_lgbm</th>\n",
              "      <th>target_xgb</th>\n",
              "    </tr>\n",
              "  </thead>\n",
              "  <tbody>\n",
              "    <tr>\n",
              "      <th>0</th>\n",
              "      <td>0</td>\n",
              "      <td>65.927922</td>\n",
              "      <td>49.622930</td>\n",
              "      <td>55.741352</td>\n",
              "    </tr>\n",
              "    <tr>\n",
              "      <th>1</th>\n",
              "      <td>1</td>\n",
              "      <td>44.248116</td>\n",
              "      <td>43.244205</td>\n",
              "      <td>42.661655</td>\n",
              "    </tr>\n",
              "    <tr>\n",
              "      <th>2</th>\n",
              "      <td>2</td>\n",
              "      <td>43.807966</td>\n",
              "      <td>45.389293</td>\n",
              "      <td>42.217470</td>\n",
              "    </tr>\n",
              "    <tr>\n",
              "      <th>3</th>\n",
              "      <td>3</td>\n",
              "      <td>45.661121</td>\n",
              "      <td>44.769051</td>\n",
              "      <td>40.969734</td>\n",
              "    </tr>\n",
              "    <tr>\n",
              "      <th>4</th>\n",
              "      <td>4</td>\n",
              "      <td>43.653036</td>\n",
              "      <td>40.462658</td>\n",
              "      <td>38.243040</td>\n",
              "    </tr>\n",
              "    <tr>\n",
              "      <th>...</th>\n",
              "      <td>...</td>\n",
              "      <td>...</td>\n",
              "      <td>...</td>\n",
              "      <td>...</td>\n",
              "    </tr>\n",
              "    <tr>\n",
              "      <th>580</th>\n",
              "      <td>580</td>\n",
              "      <td>43.372847</td>\n",
              "      <td>44.205443</td>\n",
              "      <td>39.795555</td>\n",
              "    </tr>\n",
              "    <tr>\n",
              "      <th>581</th>\n",
              "      <td>581</td>\n",
              "      <td>44.168977</td>\n",
              "      <td>42.959736</td>\n",
              "      <td>42.351254</td>\n",
              "    </tr>\n",
              "    <tr>\n",
              "      <th>582</th>\n",
              "      <td>582</td>\n",
              "      <td>44.393186</td>\n",
              "      <td>43.844842</td>\n",
              "      <td>44.074200</td>\n",
              "    </tr>\n",
              "    <tr>\n",
              "      <th>583</th>\n",
              "      <td>583</td>\n",
              "      <td>43.649487</td>\n",
              "      <td>46.200331</td>\n",
              "      <td>40.630420</td>\n",
              "    </tr>\n",
              "    <tr>\n",
              "      <th>584</th>\n",
              "      <td>584</td>\n",
              "      <td>44.128439</td>\n",
              "      <td>45.071626</td>\n",
              "      <td>43.850530</td>\n",
              "    </tr>\n",
              "  </tbody>\n",
              "</table>\n",
              "<p>585 rows × 4 columns</p>\n",
              "</div>\n",
              "      <button class=\"colab-df-convert\" onclick=\"convertToInteractive('df-1fd28162-688c-4c08-ac62-1d374bc311cb')\"\n",
              "              title=\"Convert this dataframe to an interactive table.\"\n",
              "              style=\"display:none;\">\n",
              "        \n",
              "  <svg xmlns=\"http://www.w3.org/2000/svg\" height=\"24px\"viewBox=\"0 0 24 24\"\n",
              "       width=\"24px\">\n",
              "    <path d=\"M0 0h24v24H0V0z\" fill=\"none\"/>\n",
              "    <path d=\"M18.56 5.44l.94 2.06.94-2.06 2.06-.94-2.06-.94-.94-2.06-.94 2.06-2.06.94zm-11 1L8.5 8.5l.94-2.06 2.06-.94-2.06-.94L8.5 2.5l-.94 2.06-2.06.94zm10 10l.94 2.06.94-2.06 2.06-.94-2.06-.94-.94-2.06-.94 2.06-2.06.94z\"/><path d=\"M17.41 7.96l-1.37-1.37c-.4-.4-.92-.59-1.43-.59-.52 0-1.04.2-1.43.59L10.3 9.45l-7.72 7.72c-.78.78-.78 2.05 0 2.83L4 21.41c.39.39.9.59 1.41.59.51 0 1.02-.2 1.41-.59l7.78-7.78 2.81-2.81c.8-.78.8-2.07 0-2.86zM5.41 20L4 18.59l7.72-7.72 1.47 1.35L5.41 20z\"/>\n",
              "  </svg>\n",
              "      </button>\n",
              "      \n",
              "  <style>\n",
              "    .colab-df-container {\n",
              "      display:flex;\n",
              "      flex-wrap:wrap;\n",
              "      gap: 12px;\n",
              "    }\n",
              "\n",
              "    .colab-df-convert {\n",
              "      background-color: #E8F0FE;\n",
              "      border: none;\n",
              "      border-radius: 50%;\n",
              "      cursor: pointer;\n",
              "      display: none;\n",
              "      fill: #1967D2;\n",
              "      height: 32px;\n",
              "      padding: 0 0 0 0;\n",
              "      width: 32px;\n",
              "    }\n",
              "\n",
              "    .colab-df-convert:hover {\n",
              "      background-color: #E2EBFA;\n",
              "      box-shadow: 0px 1px 2px rgba(60, 64, 67, 0.3), 0px 1px 3px 1px rgba(60, 64, 67, 0.15);\n",
              "      fill: #174EA6;\n",
              "    }\n",
              "\n",
              "    [theme=dark] .colab-df-convert {\n",
              "      background-color: #3B4455;\n",
              "      fill: #D2E3FC;\n",
              "    }\n",
              "\n",
              "    [theme=dark] .colab-df-convert:hover {\n",
              "      background-color: #434B5C;\n",
              "      box-shadow: 0px 1px 3px 1px rgba(0, 0, 0, 0.15);\n",
              "      filter: drop-shadow(0px 1px 2px rgba(0, 0, 0, 0.3));\n",
              "      fill: #FFFFFF;\n",
              "    }\n",
              "  </style>\n",
              "\n",
              "      <script>\n",
              "        const buttonEl =\n",
              "          document.querySelector('#df-1fd28162-688c-4c08-ac62-1d374bc311cb button.colab-df-convert');\n",
              "        buttonEl.style.display =\n",
              "          google.colab.kernel.accessAllowed ? 'block' : 'none';\n",
              "\n",
              "        async function convertToInteractive(key) {\n",
              "          const element = document.querySelector('#df-1fd28162-688c-4c08-ac62-1d374bc311cb');\n",
              "          const dataTable =\n",
              "            await google.colab.kernel.invokeFunction('convertToInteractive',\n",
              "                                                     [key], {});\n",
              "          if (!dataTable) return;\n",
              "\n",
              "          const docLinkHtml = 'Like what you see? Visit the ' +\n",
              "            '<a target=\"_blank\" href=https://colab.research.google.com/notebooks/data_table.ipynb>data table notebook</a>'\n",
              "            + ' to learn more about interactive tables.';\n",
              "          element.innerHTML = '';\n",
              "          dataTable['output_type'] = 'display_data';\n",
              "          await google.colab.output.renderOutput(dataTable, element);\n",
              "          const docLink = document.createElement('div');\n",
              "          docLink.innerHTML = docLinkHtml;\n",
              "          element.appendChild(docLink);\n",
              "        }\n",
              "      </script>\n",
              "    </div>\n",
              "  </div>\n",
              "  "
            ],
            "text/plain": [
              "     index_  target_catboost  target_lgbm  target_xgb\n",
              "0         0        65.927922    49.622930   55.741352\n",
              "1         1        44.248116    43.244205   42.661655\n",
              "2         2        43.807966    45.389293   42.217470\n",
              "3         3        45.661121    44.769051   40.969734\n",
              "4         4        43.653036    40.462658   38.243040\n",
              "..      ...              ...          ...         ...\n",
              "580     580        43.372847    44.205443   39.795555\n",
              "581     581        44.168977    42.959736   42.351254\n",
              "582     582        44.393186    43.844842   44.074200\n",
              "583     583        43.649487    46.200331   40.630420\n",
              "584     584        44.128439    45.071626   43.850530\n",
              "\n",
              "[585 rows x 4 columns]"
            ]
          },
          "execution_count": 31,
          "metadata": {},
          "output_type": "execute_result"
        }
      ],
      "source": [
        "preds = pd.read_csv('https://stepik.org/media/attachments/lesson/825511/meta_feautres_data.csv')\n",
        "\n",
        "ensemble = pd.pivot_table(preds, index='index', columns=['model'], values=['target']).reset_index()\n",
        "ensemble.columns = ['_'.join(el) for el in ensemble.columns]\n",
        "\n",
        "model_names = ['catboost', 'lgbm', 'xgb']\n",
        "for i in range(3):\n",
        "    for j in range(3):\n",
        "        ensemble[f'{model_names[i]}_div_{model_names[j]}'] = ensemble['target_' + model_names[i]] / ensemble['target_' + model_names[j]]\n",
        "        ensemble[f'{model_names[i]}_dif_{model_names[j]}'] = ensemble['target_' + model_names[i]] - ensemble['target_' + model_names[j]]\n",
        "\n",
        "ensemble.rename(columns={'index_': 'index'}).to_csv('submission.csv', index=False)\n",
        "ensemble"
      ]
    },
    {
      "cell_type": "markdown",
      "metadata": {
        "id": "uqR7lUfe0r6f"
      },
      "source": [
        "# 6.2.6"
      ]
    },
    {
      "cell_type": "code",
      "execution_count": null,
      "metadata": {
        "id": "12ILnCRW00EQ"
      },
      "outputs": [],
      "source": [
        "class Blender:\n",
        "    def __init__(self, base_models, meta_model):\n",
        "        \"\"\"\n",
        "        base_models - список базовых моделей, которые нужно обучать на изначальных данных\n",
        "        meta_model - мета модель, которая обучается на предсказаниях базовых моделей\n",
        "        Считайте, что модель, которая передается имеет поля .fit(X_train, y_train) и .predict(X_test)\n",
        "        .predict(X_test) возвращает предсказания размерности (n_samples,)\n",
        "        \"\"\"\n",
        "        self.base_models = base_models\n",
        "        self.meta_model = meta_model\n",
        "\n",
        "    def fit(self, X_train, y_train, X_hold, y_hold):\n",
        "        #TODO\n",
        "        pass\n",
        "\n",
        "    def predict(self, X_test):\n",
        "        #TODO\n",
        "        #preds =\n",
        "        #TODO\n",
        "        return preds"
      ]
    },
    {
      "cell_type": "code",
      "execution_count": null,
      "metadata": {
        "id": "lxALerOeHZa_"
      },
      "outputs": [],
      "source": [
        "from sklearn.datasets import load_iris\n",
        "from sklearn.ensemble import RandomForestClassifier\n",
        "from sklearn.svm import LinearSVC\n",
        "from sklearn.linear_model import LogisticRegression\n",
        "from sklearn.preprocessing import StandardScaler\n",
        "from sklearn.pipeline import make_pipeline\n",
        "from sklearn.ensemble import StackingClassifier\n",
        "X, y = load_iris(return_X_y=True)"
      ]
    },
    {
      "cell_type": "code",
      "execution_count": null,
      "metadata": {
        "colab": {
          "base_uri": "https://localhost:8080/"
        },
        "id": "5TrXyeRRHdo-",
        "outputId": "fc529cf1-a4b6-47b2-9967-6700782edc0a"
      },
      "outputs": [
        {
          "data": {
            "text/plain": [
              "numpy.ndarray"
            ]
          },
          "execution_count": 7,
          "metadata": {},
          "output_type": "execute_result"
        }
      ],
      "source": [
        "type(X)"
      ]
    },
    {
      "cell_type": "code",
      "execution_count": null,
      "metadata": {
        "colab": {
          "base_uri": "https://localhost:8080/"
        },
        "id": "cyuyY2MEHm_n",
        "outputId": "b85836b9-cb69-4e27-cbfa-284457e276ac"
      },
      "outputs": [
        {
          "data": {
            "text/plain": [
              "(150,)"
            ]
          },
          "execution_count": 5,
          "metadata": {},
          "output_type": "execute_result"
        }
      ],
      "source": [
        "y.shape"
      ]
    },
    {
      "cell_type": "code",
      "execution_count": null,
      "metadata": {
        "id": "gXQekK8lQ2xv"
      },
      "outputs": [],
      "source": [
        "class Blender:\n",
        "    def __init__(self, base_models, meta_model):\n",
        "        \"\"\"\n",
        "        base_models - список базовых моделей, которые нужно обучать на изначальных данных\n",
        "        meta_model - мета модель, которая обучается на предсказаниях базовых моделей\n",
        "        Считайте, что модель, которая передается имеет поля .fit(X_train, y_train) и .predict(X_test)\n",
        "        .predict(X_test) возвращает предсказания размерности (n_samples,)\n",
        "        \"\"\"\n",
        "        self.base_models = base_models\n",
        "        self.meta_model = meta_model\n",
        "\n",
        "    def fit(self, X_train, y_train, X_hold, y_hold):\n",
        "\n",
        "        predicts = []\n",
        "\n",
        "        for model in self.base_models:\n",
        "          model.fit(X_train, y_train)          \n",
        "          predicts.append(model.predict(X_hold, y_hold))\n",
        "        pass\n",
        "\n",
        "    def predict(self, X_test):\n",
        "        self.meta_model.fit(predicts)\n",
        "        preds = self.meta_model.predict(X_test)\n",
        "        #TODO\n",
        "        return preds"
      ]
    },
    {
      "cell_type": "code",
      "execution_count": null,
      "metadata": {
        "id": "xxuiZePNJpVs"
      },
      "outputs": [],
      "source": [
        "import numpy as np\n",
        "\n",
        "class Blender:\n",
        "    def __init__(self, base_models, meta_model):\n",
        "        \"\"\"\n",
        "        base_models - список базовых моделей, которые нужно обучать на изначальных данных\n",
        "        meta_model - мета модель, которая обучается на предсказаниях базовых моделей\n",
        "        Считайте, что модель, которая передается имеет поля .fit(X_train, y_train) и .predict(X_test)\n",
        "        .predict(X_test) возвращает предсказания размерности (n_samples,)\n",
        "        \"\"\"\n",
        "        self.base_models = base_models\n",
        "        self.meta_model = meta_model\n",
        "\n",
        "    def fit(self, X_train, y_train, X_hold, y_hold):\n",
        "\n",
        "        predicts = []\n",
        "\n",
        "        for model in self.base_models:\n",
        "            model.fit(X_train, y_train)\n",
        "            predicts.append(model.predict(X_hold))\n",
        "        \n",
        "        predicts = np.array(predicts)\n",
        "        self.meta_model.fit(predicts, y_hold)\n",
        "        pass\n",
        "\n",
        "    def predict(self, X_test):\n",
        "        preds = self.meta_model.predict(X_test)\n",
        "        #TODO\n",
        "        return preds"
      ]
    },
    {
      "cell_type": "code",
      "execution_count": null,
      "metadata": {
        "colab": {
          "base_uri": "https://localhost:8080/"
        },
        "id": "Qax3NmIaOah3",
        "outputId": "32da232e-71f2-496a-fde6-b5919a232792"
      },
      "outputs": [
        {
          "data": {
            "text/plain": [
              "(150, 4)"
            ]
          },
          "execution_count": 14,
          "metadata": {},
          "output_type": "execute_result"
        }
      ],
      "source": [
        "X.shape"
      ]
    },
    {
      "cell_type": "code",
      "execution_count": null,
      "metadata": {
        "id": "mDuzy1pLOvsS"
      },
      "outputs": [],
      "source": [
        "import numpy as np"
      ]
    },
    {
      "cell_type": "code",
      "execution_count": null,
      "metadata": {
        "colab": {
          "base_uri": "https://localhost:8080/"
        },
        "id": "PsOyb2yjOqZW",
        "outputId": "4d6376b2-71bf-4351-d516-542522300b2c"
      },
      "outputs": [
        {
          "data": {
            "text/plain": [
              "(5, 4)"
            ]
          },
          "execution_count": 17,
          "metadata": {},
          "output_type": "execute_result"
        }
      ],
      "source": [
        "g = [[5.1, 3.5, 1.4, 0.2],\n",
        "       [4.9, 3. , 1.4, 0.2],\n",
        "       [4.7, 3.2, 1.3, 0.2],\n",
        "       [4.6, 3.1, 1.5, 0.2],\n",
        "     [4.6, 3.1, 1.5, 0.2]]\n",
        "\n",
        "g = np.array(g)\n",
        "g.shape"
      ]
    },
    {
      "cell_type": "code",
      "execution_count": null,
      "metadata": {
        "colab": {
          "base_uri": "https://localhost:8080/"
        },
        "id": "bacTsvIEPPIn",
        "outputId": "ee75c530-c9a7-4565-d741-4b000a5976f3"
      },
      "outputs": [
        {
          "data": {
            "text/plain": [
              "(4, 5)"
            ]
          },
          "execution_count": 20,
          "metadata": {},
          "output_type": "execute_result"
        }
      ],
      "source": [
        "g.T.shape"
      ]
    },
    {
      "cell_type": "code",
      "execution_count": null,
      "metadata": {
        "id": "o4MRFN8jHrav"
      },
      "outputs": [],
      "source": [
        "from sklearn.model_selection import train_test_split\n",
        "from sklearn.linear_model import LinearRegression, LassoCV\n",
        "from sklearn.svm import SVR\n",
        "\n",
        "class Blender:\n",
        "    def __init__(self, base_models, meta_model):\n",
        "        \"\"\"\n",
        "        base_models - список базовых моделей, которые нужно обучать на изначальных данных\n",
        "        meta_model - мета модель, которая обучается на предсказаниях базовых моделей\n",
        "        Считайте, что модель, которая передается имеет поля .fit(X_train, y_train) и .predict(X_test)\n",
        "        .predict(X_test) возвращает предсказания размерности (n_samples,)\n",
        "        \"\"\"\n",
        "        self.base_models = base_models\n",
        "        self.meta_model = meta_model\n",
        "\n",
        "    def fit(self, X_train, y_train, X_hold, y_hold):\n",
        "        #TODO\n",
        "        pass\n",
        "\n",
        "    def predict(self, X_test):\n",
        "        #TODO\n",
        "        #preds =\n",
        "        #TODO\n",
        "        return preds\n",
        "\n",
        "base_models = [LinearRegression(), LassoCV(), SVR()]\n",
        "X_train, X_holdout, y_train, y_holdout = train_test_split(X, y, random_state=42, shuffle=True)\n",
        "# Теперь обучи свой ансамбль и положия предсказания на X_holdout в переменную preds\n",
        "# your code here\n",
        "preds = # your code here"
      ]
    },
    {
      "cell_type": "code",
      "execution_count": null,
      "metadata": {
        "id": "hgCEkqW1JDN2"
      },
      "outputs": [],
      "source": [
        "import numpy as np\n",
        "from sklearn.base import BaseEstimator, TransformerMixin, RegressorMixin, clone\n",
        "class Blender:\n",
        "    def __init__(self, base_models, meta_model):\n",
        "        \"\"\"\n",
        "        base_models - список базовых моделей, которые нужно обучать на изначальных данных\n",
        "        meta_model - мета модель, которая обучается на предсказаниях базовых моделей\n",
        "        Считайте, что модель, которая передается имеет поля .fit(X_train, y_train) и .predict(X_test)\n",
        "        .predict(X_test) возвращает предсказания размерности (n_samples,)\n",
        "        \"\"\"\n",
        "        self.base_models = base_models\n",
        "        self.meta_model = meta_model\n",
        "\n",
        "    def fit(self, X_train, y_train, X_hold, y_hold):\n",
        "        out_of_fold_predictions = np.zeros((X.shape[0], len(self.base_models)))\n",
        "        predicts = []\n",
        "        self.base_models_ = [list() for x in self.base_models]\n",
        "        self.meta_model_ = clone(self.meta_model)\n",
        "\n",
        "        for i, model in enumerate(self.base_models):\n",
        "            instance = clone(model)\n",
        "            self.base_models_[i].append(instance)\n",
        "            instance.fit(X_train, y_train)\n",
        "            # y_pred = instance.predict(X_hold)\n",
        "            predicts.append(instance.predict(X_hold))\n",
        "            # out_of_fold_predictions[holdout_index, i] = y_pred\n",
        "        predicts = np.array(predicts)\n",
        "        predicts = predicts.T\n",
        "\n",
        "        self.meta_model_.fit(predicts, y_hold)\n",
        "        # pass\n",
        "        return self\n",
        "\n",
        "    def predict(self, X_test):\n",
        "        # preds = self.meta_model.predict(X_test)\n",
        "        #TODO\n",
        "        meta_features = np.column_stack([np.column_stack([model.predict(X_test) for model in base_models]).mean(axis=1)\n",
        "            for base_models in self.base_models_ ])\n",
        "\n",
        "        preds = self.meta_model_.predict(meta_features)\n",
        "        return preds"
      ]
    },
    {
      "cell_type": "code",
      "execution_count": null,
      "metadata": {
        "id": "MF71JaCXND4l"
      },
      "outputs": [],
      "source": [
        "import numpy as np"
      ]
    },
    {
      "cell_type": "code",
      "execution_count": null,
      "metadata": {
        "id": "L1tTf60GNVbM"
      },
      "outputs": [],
      "source": [
        "# np.zeros((150, 3))"
      ]
    },
    {
      "cell_type": "code",
      "execution_count": null,
      "metadata": {
        "colab": {
          "base_uri": "https://localhost:8080/"
        },
        "id": "ZjbUdLhxNXMH",
        "outputId": "71f7438b-d228-478c-a1e9-038a723c6d41"
      },
      "outputs": [
        {
          "data": {
            "text/plain": [
              "[[], [], []]"
            ]
          },
          "execution_count": 12,
          "metadata": {},
          "output_type": "execute_result"
        }
      ],
      "source": [
        "base_models = ['LinearRegression', 'LassoCV', 'SVR']\n",
        "\n",
        "[list() for x in base_models]"
      ]
    },
    {
      "cell_type": "code",
      "execution_count": null,
      "metadata": {
        "id": "IFdNFOuebZ3n"
      },
      "outputs": [],
      "source": [
        "# моё финальное решение\n",
        "\n",
        "class Blender:\n",
        "    def __init__(self, base_models, meta_model):\n",
        "        \"\"\"\n",
        "        base_models - список базовых моделей, которые нужно обучать на изначальных данных\n",
        "        meta_model - мета модель, которая обучается на предсказаниях базовых моделей\n",
        "        Считайте, что модель, которая передается имеет поля .fit(X_train, y_train) и .predict(X_test)\n",
        "        .predict(X_test) возвращает предсказания размерности (n_samples,)\n",
        "        \"\"\"\n",
        "        self.base_models = base_models\n",
        "        self.meta_model = meta_model\n",
        "\n",
        "    def fit(self, X_train, y_train, X_hold, y_hold):\n",
        "        predicts = []\n",
        "\n",
        "        for model in self.base_models:\n",
        "          model.fit(X_train, y_train)\n",
        "          preds = model.predict(X_hold)\n",
        "          predicts.append(preds)\n",
        "\n",
        "        predicts = np.array(predicts)\n",
        "        predicts = predicts.T\n",
        "\n",
        "        self.meta_model.fit(predicts, y_hold)\n",
        "\n",
        "    def predict(self, X_test):\n",
        "        predicts = []\n",
        "\n",
        "        for model in self.base_models:\n",
        "            preds = model.predict(X_test)\n",
        "            predicts.append(preds)\n",
        "\n",
        "        predicts = np.array(predicts)\n",
        "        predicts = predicts.T\n",
        "\n",
        "        preds = self.meta_model.predict(predicts)\n",
        "\n",
        "        return preds"
      ]
    },
    {
      "cell_type": "code",
      "execution_count": null,
      "metadata": {
        "id": "M6kSZYrZrDS0"
      },
      "outputs": [],
      "source": [
        "# решение авторов\n",
        "class Blender:\n",
        "    def __init__(self, base_models, meta_model):\n",
        "        \"\"\"\n",
        "        base_models - список базовых моделей, которые нужно обучать на изначальных данных\n",
        "        meta_model - мета модель, которая обучается на предсказаниях базовых моделей\n",
        "        Считайте, что модель, которая передается имеет поля .fit(X_train, y_train) и .predict(X_test)\n",
        "        .predict(X_test) возвращает предсказания размерности (n_samples,)\n",
        "        \"\"\"\n",
        "        self.base_models = base_models\n",
        "        self.meta_model = meta_model\n",
        "        \n",
        "    def fit(self, X_train, y_train, X_hold, y_hold):\n",
        "        final_features = np.zeros((len(X_hold), 0))\n",
        "        for model in self.base_models:\n",
        "            model.fit(X_train, y_train)\n",
        "            preds = model.predict(X_hold).reshape(-1, 1)\n",
        "            final_features = np.concatenate([final_features, preds], axis=1)\n",
        "        \n",
        "        self.meta_model.fit(final_features, y_hold)\n",
        "    \n",
        "    def predict(self, X_test):\n",
        "        final_features = np.zeros((len(X_test), 0))\n",
        "        for model in self.base_models:\n",
        "            preds = model.predict(X_test).reshape(-1, 1)\n",
        "            final_features = np.concatenate([final_features, preds], axis=1)\n",
        "        \n",
        "        return self.meta_model.predict(final_features)"
      ]
    },
    {
      "cell_type": "code",
      "execution_count": null,
      "metadata": {
        "colab": {
          "base_uri": "https://localhost:8080/"
        },
        "id": "keH0FEUlqa2d",
        "outputId": "8cf62397-6534-4426-c3f5-60710de3c4cd"
      },
      "outputs": [
        {
          "data": {
            "text/plain": [
              "array([], dtype=float64)"
            ]
          },
          "execution_count": 28,
          "metadata": {},
          "output_type": "execute_result"
        }
      ],
      "source": [
        " predicts = np.array([])\n",
        " predicts"
      ]
    },
    {
      "cell_type": "code",
      "execution_count": null,
      "metadata": {
        "id": "Rq3Keu9UrTL4"
      },
      "outputs": [],
      "source": []
    },
    {
      "cell_type": "code",
      "execution_count": null,
      "metadata": {
        "colab": {
          "base_uri": "https://localhost:8080/"
        },
        "id": "t4s9eLcLpRau",
        "outputId": "833fea90-43cf-4585-8e2a-a7c62460a396"
      },
      "outputs": [
        {
          "data": {
            "text/plain": [
              "array([[2.83],\n",
              "       [5.64],\n",
              "       [5.89]])"
            ]
          },
          "execution_count": 23,
          "metadata": {},
          "output_type": "execute_result"
        }
      ],
      "source": [
        "preds = np.array([2.83, 5.64, 5.89]).reshape(-1, 1)\n",
        "preds"
      ]
    },
    {
      "cell_type": "code",
      "execution_count": null,
      "metadata": {
        "colab": {
          "base_uri": "https://localhost:8080/"
        },
        "id": "BJcAuXcwpsQf",
        "outputId": "40d7932e-090a-49b9-fbbc-2fe88b320b40"
      },
      "outputs": [
        {
          "data": {
            "text/plain": [
              "array([], shape=(3, 0), dtype=float64)"
            ]
          },
          "execution_count": 24,
          "metadata": {},
          "output_type": "execute_result"
        }
      ],
      "source": [
        "final_features = np.zeros((3, 0))\n",
        "final_features"
      ]
    },
    {
      "cell_type": "code",
      "execution_count": null,
      "metadata": {
        "colab": {
          "base_uri": "https://localhost:8080/"
        },
        "id": "P8MlUsoUp1nP",
        "outputId": "e8d82523-939a-4aa7-dcfa-ede77ee664b7"
      },
      "outputs": [
        {
          "data": {
            "text/plain": [
              "array([[2.83],\n",
              "       [5.64],\n",
              "       [5.89]])"
            ]
          },
          "execution_count": 25,
          "metadata": {},
          "output_type": "execute_result"
        }
      ],
      "source": [
        "final_features = np.concatenate([final_features, preds], axis=1)\n",
        "final_features"
      ]
    },
    {
      "cell_type": "markdown",
      "metadata": {
        "id": "21vmocdeF7o7"
      },
      "source": [
        "# 6.2.7"
      ]
    },
    {
      "cell_type": "markdown",
      "metadata": {
        "id": "IS0ca4P0F_WW"
      },
      "source": [
        "Теперь воспользуйся классом, который написал на предыдущем задании и обучи свой ансамбль.\n",
        "\n",
        "В качестве базовых моделей используй LinearRegression(), LassoCV() и SVR(), а в качестве мета-модели используй  LinearRegression()."
      ]
    },
    {
      "cell_type": "code",
      "execution_count": null,
      "metadata": {
        "id": "x2mQjg84HXh2"
      },
      "outputs": [],
      "source": [
        "from sklearn.datasets import make_regression\n",
        "X, y = make_regression(n_samples=300, n_features=10, noise=1, random_state=42)"
      ]
    },
    {
      "cell_type": "code",
      "execution_count": null,
      "metadata": {
        "id": "Ws8mdq56GALB"
      },
      "outputs": [],
      "source": [
        "from sklearn.model_selection import train_test_split\n",
        "from sklearn.linear_model import LinearRegression, LassoCV\n",
        "from sklearn.svm import SVR\n",
        "import numpy as np\n",
        "\n",
        "class Blender:\n",
        "    def __init__(self, base_models, meta_model):\n",
        "\n",
        "        self.base_models = base_models\n",
        "        self.meta_model = meta_model\n",
        "\n",
        "    def fit(self, X_train, y_train, X_hold, y_hold):\n",
        "        predicts = []\n",
        "\n",
        "        for model in self.base_models:\n",
        "          model.fit(X_train, y_train)\n",
        "          preds = model.predict(X_hold)\n",
        "          predicts.append(preds)\n",
        "\n",
        "        predicts = np.array(predicts)\n",
        "        predicts = predicts.T\n",
        "\n",
        "        self.meta_model.fit(predicts, y_hold)\n",
        "\n",
        "    def predict(self, X_test):\n",
        "        predicts = []\n",
        "\n",
        "        for model in self.base_models:\n",
        "            preds = model.predict(X_test)\n",
        "            predicts.append(preds)\n",
        "\n",
        "        predicts = np.array(predicts)\n",
        "        predicts = predicts.T\n",
        "\n",
        "        preds = self.meta_model.predict(predicts)\n",
        "\n",
        "        return preds\n",
        "\n",
        "base_models = [LinearRegression(), LassoCV(), SVR()]\n",
        "X_train, X_holdout, y_train, y_holdout = train_test_split(X, y, random_state=42, shuffle=True)\n",
        "# # Теперь обучи свой ансамбль и положия предсказания на X_holdout в переменную preds\n",
        "blender = Blender(base_models, LinearRegression())\n",
        "\n",
        "# X_train_small, X_hold_small, y_train_small, y_hold_small = train_test_split(X_train, y_train, random_state=42, shuffle=True)\n",
        "\n",
        "blender.fit(X_train, y_train, X_holdout, y_holdout)\n",
        "preds = blender.predict(X_holdout)"
      ]
    },
    {
      "cell_type": "code",
      "execution_count": null,
      "metadata": {
        "id": "Fy5gdqSJMklp"
      },
      "outputs": [],
      "source": [
        "# preds"
      ]
    },
    {
      "cell_type": "code",
      "execution_count": null,
      "metadata": {
        "id": "ZjkExDhnH4Wm"
      },
      "outputs": [],
      "source": [
        "X_train_small, X_hold_small, y_train_small, y_hold_small = train_test_split(X_train, y_train, random_state=42, shuffle=True, test_size=0.2)"
      ]
    },
    {
      "cell_type": "code",
      "execution_count": null,
      "metadata": {
        "colab": {
          "base_uri": "https://localhost:8080/"
        },
        "id": "7vwCY7sWH7Qn",
        "outputId": "2ebc5272-cb20-44a1-8bdf-b44430b3dbbc"
      },
      "outputs": [
        {
          "data": {
            "text/plain": [
              "((180, 10), (45, 10), (180,), (45,))"
            ]
          },
          "execution_count": 19,
          "metadata": {},
          "output_type": "execute_result"
        }
      ],
      "source": [
        "X_train_small.shape, X_hold_small.shape, y_train_small.shape, y_hold_small.shape"
      ]
    },
    {
      "cell_type": "code",
      "execution_count": null,
      "metadata": {
        "id": "26O1svA0Ka63"
      },
      "outputs": [],
      "source": [
        "modelLR = LinearRegression()"
      ]
    },
    {
      "cell_type": "code",
      "execution_count": null,
      "metadata": {
        "id": "RNRTbBhBI_2T"
      },
      "outputs": [],
      "source": [
        "blender.fit(X_train_small, y_train_small, X_hold_small, y_hold_small)"
      ]
    },
    {
      "cell_type": "markdown",
      "metadata": {
        "id": "8F5DZ9adR-2y"
      },
      "source": [
        "# 6.2.9"
      ]
    },
    {
      "cell_type": "markdown",
      "metadata": {
        "id": "urUPuLy5SBXx"
      },
      "source": [
        "![image.png](data:image/png;base64,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)"
      ]
    },
    {
      "cell_type": "markdown",
      "metadata": {
        "id": "XZF1vPN6Ohhs"
      },
      "source": [
        "# 6.2.10"
      ]
    },
    {
      "cell_type": "markdown",
      "metadata": {
        "id": "NkL-VOj8Oxor"
      },
      "source": [
        "В этом степе вам предстоит написать функцию, которая будет получать предсказания модели на всей обучающей выборке при помощи 5 фолдовой кросс-валидации (KFold(n_splits=5)).\n",
        "\n",
        "Для этого проитерируйтесь по всем фолдам, обучите модель на сэмплах с номерами train_indices и сделайте предсказания на сэмплы с номерами val_indices. После этого соедините все полученные предсказания, в том порядке, в котором вы делали для них предсказания (этот порядок будет равен обычному) и верните получившийся массив.\n",
        "\n",
        "Примечание:\n",
        "\n",
        "train_indices и val_indices - это индексы, то есть обращаться к ним нужно через X.loc[]\n",
        "\n"
      ]
    },
    {
      "cell_type": "code",
      "execution_count": null,
      "metadata": {
        "id": "KCHSVLvLSAn5"
      },
      "outputs": [],
      "source": [
        "def GetPreds(model, X, y, n_fold=5):\n",
        "    \"\"\"\n",
        "    model - имеет методы .fit(X, y) и .predict(X)\n",
        "    X - pd.DataFrame\n",
        "    y - np.array\n",
        "    \"\"\"\n",
        "    folds = KFold(n_splits=n_fold)\n",
        "    preds = np.empty((0,1), float)\n",
        "\n",
        "    for train_indices, val_indices in folds.split(X, y):\n",
        "        #your code here\n",
        "\n",
        "    return preds.reshape(-1, 1)"
      ]
    },
    {
      "cell_type": "code",
      "execution_count": null,
      "metadata": {
        "id": "ODNg1R08RYN0"
      },
      "outputs": [],
      "source": [
        "from sklearn.model_selection import KFold"
      ]
    },
    {
      "cell_type": "code",
      "execution_count": null,
      "metadata": {
        "id": "UzXWaNbCSCK2"
      },
      "outputs": [],
      "source": [
        "def GetPreds(model, X, y, n_fold=5):\n",
        "    \"\"\"\n",
        "    model - имеет методы .fit(X, y) и .predict(X)\n",
        "    X - pd.DataFrame\n",
        "    y - np.array\n",
        "    \"\"\"\n",
        "    folds = KFold(n_splits=n_fold)\n",
        "    preds = np.empty((0,1), float)\n",
        "\n",
        "    predicts = []\n",
        "\n",
        "    for train_indices, val_indices in folds.split(X, y):\n",
        "        model.fit(X.iloc[train_indices], y.iloc[train_indices])\n",
        "        predicts.append(model.predict(X.iloc[val_indices]))\n",
        "        preds.append(predicts)\n",
        "\n",
        "    return preds.reshape(-1, 1)"
      ]
    },
    {
      "cell_type": "code",
      "execution_count": null,
      "metadata": {
        "id": "b8NEbxZCarLJ"
      },
      "outputs": [],
      "source": [
        "# моё финальное решение\n",
        "\n",
        "def GetPreds(model, X, y, n_fold=5):\n",
        "    \"\"\"\n",
        "    model - имеет методы .fit(X, y) и .predict(X)\n",
        "    X - pd.DataFrame\n",
        "    y - np.array\n",
        "    \"\"\"\n",
        "    folds = KFold(n_splits=n_fold)\n",
        "    preds = np.empty((0,1), float)\n",
        "\n",
        "    for train_indices, val_indices in folds.split(X, y):\n",
        "        model.fit(X.iloc[train_indices], y[train_indices])\n",
        "        preds = np.append(preds, model.predict(X.iloc[val_indices]))\n",
        "\n",
        "    return preds.reshape(-1, 1)"
      ]
    },
    {
      "cell_type": "code",
      "execution_count": null,
      "metadata": {
        "id": "o7ga1oe6Qa47"
      },
      "outputs": [],
      "source": [
        "import numpy as np"
      ]
    },
    {
      "cell_type": "code",
      "execution_count": null,
      "metadata": {
        "colab": {
          "base_uri": "https://localhost:8080/"
        },
        "id": "GVsawXGUTKZ1",
        "outputId": "a5438272-bfdd-4152-c718-edc65f7023b1"
      },
      "outputs": [
        {
          "name": "stdout",
          "output_type": "stream",
          "text": [
            "0\n",
            "(240,)\n",
            "1\n",
            "(240,)\n",
            "2\n",
            "(240,)\n",
            "3\n",
            "(240,)\n",
            "4\n",
            "(240,)\n"
          ]
        }
      ],
      "source": [
        "folds = KFold(n_splits=5)\n",
        "preds = np.empty((0,1), float)\n",
        "fold_number = 0\n",
        "\n",
        "predicts = []\n",
        "\n",
        "for train_indices, val_indices in folds.split(X, y):\n",
        "    print(fold_number)\n",
        "    fold_number += 1\n",
        "    print(train_indices.shape)\n",
        "    predicts.append(train_indices)\n",
        "    # preds = np.append(predicts)"
      ]
    },
    {
      "cell_type": "code",
      "execution_count": null,
      "metadata": {
        "colab": {
          "base_uri": "https://localhost:8080/"
        },
        "id": "6AKXc2i5Wyfd",
        "outputId": "14efb990-ad84-4ce3-8a3a-fff9b343eb8a"
      },
      "outputs": [
        {
          "data": {
            "text/plain": [
              "array([[1, 2, 3],\n",
              "       [4, 5, 6],\n",
              "       [7, 8, 9]])"
            ]
          },
          "execution_count": 36,
          "metadata": {},
          "output_type": "execute_result"
        }
      ],
      "source": [
        "np.append([[1, 2, 3], [4, 5, 6]], [[7, 8, 9]], axis=0)"
      ]
    },
    {
      "cell_type": "code",
      "execution_count": null,
      "metadata": {
        "colab": {
          "base_uri": "https://localhost:8080/",
          "height": 201
        },
        "id": "aBkozYX2U5wz",
        "outputId": "09f288e2-62d4-4ca4-e53a-33105311e567"
      },
      "outputs": [
        {
          "ename": "AttributeError",
          "evalue": "ignored",
          "output_type": "error",
          "traceback": [
            "\u001b[0;31m---------------------------------------------------------------------------\u001b[0m",
            "\u001b[0;31mAttributeError\u001b[0m                            Traceback (most recent call last)",
            "\u001b[0;32m<ipython-input-38-a618a41b7a67>\u001b[0m in \u001b[0;36m<cell line: 2>\u001b[0;34m()\u001b[0m\n\u001b[1;32m      1\u001b[0m \u001b[0mpredicts\u001b[0m \u001b[0;34m=\u001b[0m \u001b[0;34m[\u001b[0m\u001b[0;34m[\u001b[0m\u001b[0;36m1\u001b[0m\u001b[0;34m,\u001b[0m \u001b[0;36m2\u001b[0m\u001b[0;34m,\u001b[0m \u001b[0;36m3\u001b[0m\u001b[0;34m]\u001b[0m\u001b[0;34m,\u001b[0m \u001b[0;34m[\u001b[0m\u001b[0;36m4\u001b[0m\u001b[0;34m,\u001b[0m \u001b[0;36m5\u001b[0m\u001b[0;34m,\u001b[0m \u001b[0;36m6\u001b[0m\u001b[0;34m]\u001b[0m\u001b[0;34m,\u001b[0m \u001b[0;34m[\u001b[0m\u001b[0;36m7\u001b[0m\u001b[0;34m,\u001b[0m \u001b[0;36m8\u001b[0m\u001b[0;34m,\u001b[0m \u001b[0;36m9\u001b[0m\u001b[0;34m]\u001b[0m\u001b[0;34m]\u001b[0m\u001b[0;34m\u001b[0m\u001b[0;34m\u001b[0m\u001b[0m\n\u001b[0;32m----> 2\u001b[0;31m \u001b[0mpreds\u001b[0m\u001b[0;34m.\u001b[0m\u001b[0mextend\u001b[0m\u001b[0;34m(\u001b[0m\u001b[0mpredicts\u001b[0m\u001b[0;34m)\u001b[0m\u001b[0;34m\u001b[0m\u001b[0;34m\u001b[0m\u001b[0m\n\u001b[0m\u001b[1;32m      3\u001b[0m \u001b[0mpreds\u001b[0m\u001b[0;34m\u001b[0m\u001b[0;34m\u001b[0m\u001b[0m\n",
            "\u001b[0;31mAttributeError\u001b[0m: 'numpy.ndarray' object has no attribute 'extend'"
          ]
        }
      ],
      "source": [
        "predicts = [[1, 2, 3], [4, 5, 6], [7, 8, 9]]\n",
        "preds.extend(predicts)\n",
        "preds"
      ]
    },
    {
      "cell_type": "code",
      "execution_count": null,
      "metadata": {
        "colab": {
          "base_uri": "https://localhost:8080/"
        },
        "id": "GtZ4tcr2UoJK",
        "outputId": "86100852-e45b-4012-c0d5-ca7a9fa21a13"
      },
      "outputs": [
        {
          "data": {
            "text/plain": [
              "array([[1, 2, 3],\n",
              "       [4, 5, 6],\n",
              "       [7, 8, 9]])"
            ]
          },
          "execution_count": 20,
          "metadata": {},
          "output_type": "execute_result"
        }
      ],
      "source": [
        "np.append([[1, 2, 3], [4, 5, 6]], [[7, 8, 9]], axis=0)"
      ]
    },
    {
      "cell_type": "code",
      "execution_count": null,
      "metadata": {
        "colab": {
          "base_uri": "https://localhost:8080/"
        },
        "id": "3ZydDvZ-Qeyw",
        "outputId": "1d90d608-f9c0-4460-8216-b807715fb1ac"
      },
      "outputs": [
        {
          "data": {
            "text/plain": [
              "array([], shape=(0, 1), dtype=float64)"
            ]
          },
          "execution_count": 54,
          "metadata": {},
          "output_type": "execute_result"
        }
      ],
      "source": [
        "preds = np.empty((0,1), float)\n",
        "preds"
      ]
    },
    {
      "cell_type": "code",
      "execution_count": null,
      "metadata": {
        "colab": {
          "base_uri": "https://localhost:8080/"
        },
        "id": "-vEh_CNIZvR-",
        "outputId": "42cfe43d-4e94-4f42-ad59-58566b123d9a"
      },
      "outputs": [
        {
          "data": {
            "text/plain": [
              "array([[1.],\n",
              "       [2.],\n",
              "       [1.],\n",
              "       [2.],\n",
              "       [1.],\n",
              "       [2.],\n",
              "       [1.],\n",
              "       [2.],\n",
              "       [1.],\n",
              "       [2.]])"
            ]
          },
          "execution_count": 60,
          "metadata": {},
          "output_type": "execute_result"
        }
      ],
      "source": [
        "preds = np.append(preds, [1,2])\n",
        "preds.reshape(-1, 1)"
      ]
    },
    {
      "cell_type": "code",
      "execution_count": null,
      "metadata": {
        "colab": {
          "base_uri": "https://localhost:8080/",
          "height": 277
        },
        "id": "qBS9O0WFSbNU",
        "outputId": "d5ee9d9a-9f46-4eae-a300-5645072fa90b"
      },
      "outputs": [
        {
          "ename": "ValueError",
          "evalue": "ignored",
          "output_type": "error",
          "traceback": [
            "\u001b[0;31m---------------------------------------------------------------------------\u001b[0m",
            "\u001b[0;31mValueError\u001b[0m                                Traceback (most recent call last)",
            "\u001b[0;32m<ipython-input-51-93af7eac13f6>\u001b[0m in \u001b[0;36m<cell line: 2>\u001b[0;34m()\u001b[0m\n\u001b[1;32m      1\u001b[0m \u001b[0;31m# preds = np.hstack((preds, [1, 2, 3]))\u001b[0m\u001b[0;34m\u001b[0m\u001b[0;34m\u001b[0m\u001b[0m\n\u001b[0;32m----> 2\u001b[0;31m \u001b[0mpreds\u001b[0m \u001b[0;34m=\u001b[0m \u001b[0mnp\u001b[0m\u001b[0;34m.\u001b[0m\u001b[0mhstack\u001b[0m\u001b[0;34m(\u001b[0m\u001b[0;34m(\u001b[0m\u001b[0mpreds\u001b[0m\u001b[0;34m,\u001b[0m \u001b[0;34m[\u001b[0m\u001b[0;36m4\u001b[0m\u001b[0;34m,\u001b[0m \u001b[0;36m5\u001b[0m\u001b[0;34m,\u001b[0m \u001b[0;36m6\u001b[0m\u001b[0;34m]\u001b[0m\u001b[0;34m)\u001b[0m\u001b[0;34m)\u001b[0m\u001b[0;34m\u001b[0m\u001b[0;34m\u001b[0m\u001b[0m\n\u001b[0m\u001b[1;32m      3\u001b[0m \u001b[0mpreds\u001b[0m\u001b[0;34m\u001b[0m\u001b[0;34m\u001b[0m\u001b[0m\n",
            "\u001b[0;32m/usr/local/lib/python3.9/dist-packages/numpy/core/overrides.py\u001b[0m in \u001b[0;36mhstack\u001b[0;34m(*args, **kwargs)\u001b[0m\n",
            "\u001b[0;32m/usr/local/lib/python3.9/dist-packages/numpy/core/shape_base.py\u001b[0m in \u001b[0;36mhstack\u001b[0;34m(tup)\u001b[0m\n\u001b[1;32m    343\u001b[0m         \u001b[0;32mreturn\u001b[0m \u001b[0m_nx\u001b[0m\u001b[0;34m.\u001b[0m\u001b[0mconcatenate\u001b[0m\u001b[0;34m(\u001b[0m\u001b[0marrs\u001b[0m\u001b[0;34m,\u001b[0m \u001b[0;36m0\u001b[0m\u001b[0;34m)\u001b[0m\u001b[0;34m\u001b[0m\u001b[0;34m\u001b[0m\u001b[0m\n\u001b[1;32m    344\u001b[0m     \u001b[0;32melse\u001b[0m\u001b[0;34m:\u001b[0m\u001b[0;34m\u001b[0m\u001b[0;34m\u001b[0m\u001b[0m\n\u001b[0;32m--> 345\u001b[0;31m         \u001b[0;32mreturn\u001b[0m \u001b[0m_nx\u001b[0m\u001b[0;34m.\u001b[0m\u001b[0mconcatenate\u001b[0m\u001b[0;34m(\u001b[0m\u001b[0marrs\u001b[0m\u001b[0;34m,\u001b[0m \u001b[0;36m1\u001b[0m\u001b[0;34m)\u001b[0m\u001b[0;34m\u001b[0m\u001b[0;34m\u001b[0m\u001b[0m\n\u001b[0m\u001b[1;32m    346\u001b[0m \u001b[0;34m\u001b[0m\u001b[0m\n\u001b[1;32m    347\u001b[0m \u001b[0;34m\u001b[0m\u001b[0m\n",
            "\u001b[0;32m/usr/local/lib/python3.9/dist-packages/numpy/core/overrides.py\u001b[0m in \u001b[0;36mconcatenate\u001b[0;34m(*args, **kwargs)\u001b[0m\n",
            "\u001b[0;31mValueError\u001b[0m: all the input arrays must have same number of dimensions, but the array at index 0 has 2 dimension(s) and the array at index 1 has 1 dimension(s)"
          ]
        }
      ],
      "source": [
        "# preds = np.hstack((preds, [1, 2, 3]))\n",
        "\n",
        "preds = np.hstack((preds, [4, 5, 6]))\n",
        "preds"
      ]
    },
    {
      "cell_type": "code",
      "execution_count": null,
      "metadata": {
        "colab": {
          "base_uri": "https://localhost:8080/"
        },
        "id": "Gj5eNlL3ZOoX",
        "outputId": "f8e66db6-89ea-4743-c9ce-678b5a8b7108"
      },
      "outputs": [
        {
          "data": {
            "text/plain": [
              "(5, 4)"
            ]
          },
          "execution_count": 52,
          "metadata": {},
          "output_type": "execute_result"
        }
      ],
      "source": [
        "g = [[5.1, 3.5, 1.4, 0.2],\n",
        "       [4.9, 3. , 1.4, 0.2],\n",
        "       [4.7, 3.2, 1.3, 0.2],\n",
        "       [4.6, 3.1, 1.5, 0.2],\n",
        "     [4.6, 3.1, 1.5, 0.2]]\n",
        "\n",
        "g = np.array(g)\n",
        "g.shape"
      ]
    },
    {
      "cell_type": "code",
      "execution_count": null,
      "metadata": {
        "colab": {
          "base_uri": "https://localhost:8080/"
        },
        "id": "nIsSgUzuZPzB",
        "outputId": "8d7456d7-e192-4423-9998-6cec86819a2c"
      },
      "outputs": [
        {
          "data": {
            "text/plain": [
              "array([[5.1],\n",
              "       [3.5],\n",
              "       [1.4],\n",
              "       [0.2],\n",
              "       [4.9],\n",
              "       [3. ],\n",
              "       [1.4],\n",
              "       [0.2],\n",
              "       [4.7],\n",
              "       [3.2],\n",
              "       [1.3],\n",
              "       [0.2],\n",
              "       [4.6],\n",
              "       [3.1],\n",
              "       [1.5],\n",
              "       [0.2],\n",
              "       [4.6],\n",
              "       [3.1],\n",
              "       [1.5],\n",
              "       [0.2]])"
            ]
          },
          "execution_count": 53,
          "metadata": {},
          "output_type": "execute_result"
        }
      ],
      "source": [
        "g.reshape(-1, 1)"
      ]
    },
    {
      "cell_type": "code",
      "execution_count": null,
      "metadata": {
        "id": "YFcor5Hjb-O-"
      },
      "outputs": [],
      "source": [
        "# авторское решение\n",
        "\n",
        "def GetPreds(model, X, y, n_fold=5):\n",
        "    folds = KFold(n_splits=n_fold)\n",
        "    preds = np.empty((0,1),float)\n",
        "\n",
        "    for train_indices, val_indices in folds.split(X, y):\n",
        "        X_train, X_val = X.loc[train_indices], X.loc[val_indices]\n",
        "        y_train, y_val = y[train_indices], y[val_indices]\n",
        "        model.fit(X_train, y_train)\n",
        "        preds = np.append(preds, model.predict(X_val))\n",
        "\n",
        "    return preds.reshape(-1, 1)"
      ]
    },
    {
      "cell_type": "markdown",
      "metadata": {
        "id": "DqjFjkuYdQda"
      },
      "source": [
        "# 6.2.11\n",
        "\n",
        "Добавляем X_test\n",
        "Модифицируйте функцию из предыдущей задачи, чтобы она помимо предсказаний на весь X еще возвращала предсказания на X_test. Для того, чтобы получить предсказания на X_test обучите данную модель сразу на всей выборке.\n",
        "\n",
        "Примечание:\n",
        "\n",
        "train_indices и val_indices - это индексы, то есть обращаться к ним нужно через X.loc[]"
      ]
    },
    {
      "cell_type": "code",
      "execution_count": null,
      "metadata": {
        "id": "16ypdSabdSmb"
      },
      "outputs": [],
      "source": [
        "\n",
        "# my variant\n",
        "def GetPreds(model, X, y, X_test, n_fold=5):\n",
        "    \"\"\"\n",
        "    model - имеет методы .fit(X, y) и .predict(X)\n",
        "    X - pd.DataFrame\n",
        "    y - np.array\n",
        "    X_test - pd.DataFrame, для которого нужно сделать предсказания\n",
        "    \"\"\"\n",
        "    folds = KFold(n_splits=n_fold)\n",
        "    preds = np.empty((0,1),float)\n",
        "\n",
        "    for train_indices, val_indices in folds.split(X, y):\n",
        "        model.fit(X.iloc[train_indices], y[train_indices])\n",
        "        preds = np.append(preds, model.predict(X.iloc[val_indices]))\n",
        "\n",
        "    model.fit(X, y)\n",
        "    test_preds = model.predict(X_test)\n",
        "    return preds.reshape(len(X), 1), test_preds.reshape(len(X_test), 1)"
      ]
    },
    {
      "cell_type": "code",
      "execution_count": null,
      "metadata": {
        "id": "EDmlJzHUd9Yd"
      },
      "outputs": [],
      "source": [
        "# авторское решение\n",
        "\n",
        "def GetPreds(model, X, y, X_test, n_fold=5):\n",
        "    \"\"\"\n",
        "    model - имеет методы .fit(X, y) и .predict(X)\n",
        "    X - pd.DataFrame\n",
        "    y - np.array\n",
        "    X_test - pd.DataFrame, для которого нужно сделать предсказания\n",
        "    \"\"\"\n",
        "    folds = KFold(n_splits=n_fold)\n",
        "    preds = np.empty((0,1),float)\n",
        "\n",
        "    for train_indices, val_indices in folds.split(X, y):\n",
        "        X_train, X_val = X.loc[train_indices], X.loc[val_indices]\n",
        "        y_train, y_val = y[train_indices], y[val_indices]\n",
        "        model.fit(X_train, y_train)\n",
        "        preds = np.append(preds, model.predict(X_val))\n",
        "\n",
        "    model.fit(X, y)\n",
        "\n",
        "    test_preds = model.predict(X_test)\n",
        "    return preds.reshape(len(X), 1), test_preds.reshape(len(X_test), 1)"
      ]
    },
    {
      "cell_type": "markdown",
      "metadata": {
        "id": "n_2Vxn2mivNs"
      },
      "source": [
        "# 6.2.12\n",
        "\n",
        "У вас датасет текстов постов из социальной сети и вам нужно классифицировать их по 10 темам, к которым они относятся.\n",
        "\n",
        "Достаем эмбеддинги при помощи языковых моделей\n",
        "\n",
        "Очень часто в задачах связанными с текстами выстреливает подход с извлечением из текста эмбеддингов и последующего их использования в бустингах или линейных моделях для решения своей задачи.\n",
        "\n",
        "В рамках данного степа уже достали для каждого текста из датасета эмбеддинги при помощи больших языковых моделей из HuggingFace, а именно использовали 'sberbank-ai/ruBert-base', 'cointegrated/rubert-tiny2', 'DeepPavlov/rubert-base-cased-conversational' и 'sentence-transformers/LaBSE'.\n",
        "\n",
        "Так что теперь вы можете использовать их, чтобы составить свой невероятный ансамбль и порвать лидерборд.\n",
        "\n",
        "Задача: получить максимальное качество классификации, метрика - balanced_accuracy_score, классы в тестовой выборке сбалансированны также, как и в обучающей. За каждый процент точности начиная от 70% вы будете получать +1 балл, максимум 10."
      ]
    },
    {
      "cell_type": "code",
      "execution_count": null,
      "metadata": {
        "colab": {
          "base_uri": "https://localhost:8080/"
        },
        "id": "ybyItcIXjJD8",
        "outputId": "c766c8d9-d4f9-4396-93c1-b6e6389b4a7e"
      },
      "outputs": [
        {
          "name": "stdout",
          "output_type": "stream",
          "text": [
            "\u001b[2K     \u001b[90m━━━━━━━━━━━━━━━━━━━━━━━━━━━━━━━━━━━━━━━━\u001b[0m \u001b[32m76.6/76.6 MB\u001b[0m \u001b[31m12.5 MB/s\u001b[0m eta \u001b[36m0:00:00\u001b[0m\n",
            "\u001b[?25h"
          ]
        }
      ],
      "source": [
        "\n",
        "import pandas as pd\n",
        "import numpy as np\n",
        "\n",
        "!pip install catboost -q\n",
        "# !pip install lightgbm -q\n",
        "# !pip install xgboost -q\n",
        "# from sklearn.preprocessing import LabelEncoder\n",
        "# from sklearn.model_selection import GridSearchCV, RandomizedSearchCV\n",
        "# from sklearn.model_selection import KFold, StratifiedKFold\n",
        "# from sklearn.model_selection import train_test_split\n",
        "# from sklearn.metrics import mean_squared_error\n",
        "# import matplotlib.pyplot as plt\n",
        "from catboost import CatBoostClassifier, CatBoostRegressor, Pool\n",
        "# import lightgbm as lgb\n",
        "# from lightgbm import LGBMRegressor, early_stopping, Dataset\n",
        "# import xgboost as xgb\n",
        "# from xgboost import XGBRegressor"
      ]
    },
    {
      "cell_type": "code",
      "execution_count": null,
      "metadata": {
        "id": "l2-XvJKHoOiO"
      },
      "outputs": [],
      "source": [
        "# from catboost import CatBoostClassifier\n",
        "# from sklearn.model_selection import train_test_split\n",
        "from sklearn.metrics import accuracy_score\n",
        "from sklearn.metrics import balanced_accuracy_score"
      ]
    },
    {
      "cell_type": "markdown",
      "metadata": {
        "id": "CbcC_pvDjvHB"
      },
      "source": [
        "## Загрузка данных"
      ]
    },
    {
      "cell_type": "code",
      "execution_count": null,
      "metadata": {
        "id": "mDEAsdX_j1Lc"
      },
      "outputs": [],
      "source": [
        "path_train = '/content/text_classification_train.csv'\n",
        "path_test = '/content/text_classification_test.csv'"
      ]
    },
    {
      "cell_type": "code",
      "execution_count": null,
      "metadata": {
        "colab": {
          "base_uri": "https://localhost:8080/"
        },
        "id": "z2VjeLXUkYet",
        "outputId": "e35e8575-0a96-4916-c176-30b1da96c4e3"
      },
      "outputs": [
        {
          "name": "stdout",
          "output_type": "stream",
          "text": [
            "train\n",
            "Memory usage of dataframe is 13.30 MB\n",
            "Memory usage after optimization is: 3.35 MB\n",
            "Decreased by 74.8%\n",
            "--------------------------------------------------------------------------------\n",
            "test\n",
            "Memory usage of dataframe is 13.36 MB\n",
            "Memory usage after optimization is: 3.36 MB\n",
            "Decreased by 74.8%\n"
          ]
        }
      ],
      "source": [
        "def reduce_mem_usage(df):\n",
        "    \"\"\" iterate through all the columns of a dataframe and modify the data type\n",
        "        to reduce memory usage.        \n",
        "    \"\"\"\n",
        "    start_mem = df.memory_usage().sum() / 1024**2\n",
        "    print('Memory usage of dataframe is {:.2f} MB'.format(start_mem))\n",
        "    \n",
        "    for col in df.columns:\n",
        "        col_type = df[col].dtype\n",
        "        \n",
        "        if col_type != object:\n",
        "            c_min = df[col].min()\n",
        "            c_max = df[col].max()\n",
        "            if str(col_type)[:3] == 'int':\n",
        "                if c_min > np.iinfo(np.int8).min and c_max < np.iinfo(np.int8).max:\n",
        "                    df[col] = df[col].astype(np.int8)\n",
        "                elif c_min > np.iinfo(np.int16).min and c_max < np.iinfo(np.int16).max:\n",
        "                    df[col] = df[col].astype(np.int16)\n",
        "                elif c_min > np.iinfo(np.int32).min and c_max < np.iinfo(np.int32).max:\n",
        "                    df[col] = df[col].astype(np.int32)\n",
        "                elif c_min > np.iinfo(np.int64).min and c_max < np.iinfo(np.int64).max:\n",
        "                    df[col] = df[col].astype(np.int64)  \n",
        "            else:\n",
        "                if c_min > np.finfo(np.float16).min and c_max < np.finfo(np.float16).max:\n",
        "                    df[col] = df[col].astype(np.float16)\n",
        "                elif c_min > np.finfo(np.float32).min and c_max < np.finfo(np.float32).max:\n",
        "                    df[col] = df[col].astype(np.float32)\n",
        "                else:\n",
        "                    df[col] = df[col].astype(np.float64)\n",
        "        else:\n",
        "            df[col] = df[col].astype('category')\n",
        "\n",
        "    end_mem = df.memory_usage().sum() / 1024**2\n",
        "    print('Memory usage after optimization is: {:.2f} MB'.format(end_mem))\n",
        "    print('Decreased by {:.1f}%'.format(100 * (start_mem - end_mem) / start_mem))\n",
        "    \n",
        "    return df\n",
        "\n",
        "def import_data(file):\n",
        "    \"\"\"create a dataframe and optimize its memory usage\"\"\"\n",
        "    df = pd.read_csv(file, parse_dates=True, keep_date_col=True)\n",
        "    df = reduce_mem_usage(df)\n",
        "    return df\n",
        "     \n",
        "\n",
        "print('train')\n",
        "train = import_data(path_train)\n",
        "\n",
        "print('-' * 80)\n",
        "print('test')\n",
        "test = import_data(path_test)\n",
        "   "
      ]
    },
    {
      "cell_type": "code",
      "execution_count": null,
      "metadata": {
        "colab": {
          "base_uri": "https://localhost:8080/",
          "height": 462
        },
        "id": "Gszr9JxskuyN",
        "outputId": "a5fe4c05-0623-46be-8ee9-7dcc97b5822e"
      },
      "outputs": [
        {
          "data": {
            "text/html": [
              "\n",
              "  <div id=\"df-2d7015c4-d231-4805-bc77-0ea6c7ccc270\">\n",
              "    <div class=\"colab-df-container\">\n",
              "      <div>\n",
              "<style scoped>\n",
              "    .dataframe tbody tr th:only-of-type {\n",
              "        vertical-align: middle;\n",
              "    }\n",
              "\n",
              "    .dataframe tbody tr th {\n",
              "        vertical-align: top;\n",
              "    }\n",
              "\n",
              "    .dataframe thead th {\n",
              "        text-align: right;\n",
              "    }\n",
              "</style>\n",
              "<table border=\"1\" class=\"dataframe\">\n",
              "  <thead>\n",
              "    <tr style=\"text-align: right;\">\n",
              "      <th></th>\n",
              "      <th>category</th>\n",
              "      <th>text</th>\n",
              "      <th>ruBert-base_text_feature_0</th>\n",
              "      <th>ruBert-base_text_feature_1</th>\n",
              "      <th>ruBert-base_text_feature_2</th>\n",
              "      <th>ruBert-base_text_feature_3</th>\n",
              "      <th>ruBert-base_text_feature_4</th>\n",
              "      <th>ruBert-base_text_feature_5</th>\n",
              "      <th>ruBert-base_text_feature_6</th>\n",
              "      <th>ruBert-base_text_feature_7</th>\n",
              "      <th>...</th>\n",
              "      <th>labse_text_feature_758</th>\n",
              "      <th>labse_text_feature_759</th>\n",
              "      <th>labse_text_feature_760</th>\n",
              "      <th>labse_text_feature_761</th>\n",
              "      <th>labse_text_feature_762</th>\n",
              "      <th>labse_text_feature_763</th>\n",
              "      <th>labse_text_feature_764</th>\n",
              "      <th>labse_text_feature_765</th>\n",
              "      <th>labse_text_feature_766</th>\n",
              "      <th>labse_text_feature_767</th>\n",
              "    </tr>\n",
              "  </thead>\n",
              "  <tbody>\n",
              "    <tr>\n",
              "      <th>0</th>\n",
              "      <td>extreme</td>\n",
              "      <td>Ледник Пасторури это цирковой ледник расположе...</td>\n",
              "      <td>0.272217</td>\n",
              "      <td>0.155396</td>\n",
              "      <td>0.060272</td>\n",
              "      <td>0.363037</td>\n",
              "      <td>-0.140381</td>\n",
              "      <td>0.507812</td>\n",
              "      <td>-0.226318</td>\n",
              "      <td>0.431885</td>\n",
              "      <td>...</td>\n",
              "      <td>-0.045807</td>\n",
              "      <td>-0.027481</td>\n",
              "      <td>0.030533</td>\n",
              "      <td>-0.052216</td>\n",
              "      <td>0.042450</td>\n",
              "      <td>-0.012711</td>\n",
              "      <td>-0.055359</td>\n",
              "      <td>-0.012436</td>\n",
              "      <td>-0.016281</td>\n",
              "      <td>-0.006992</td>\n",
              "    </tr>\n",
              "    <tr>\n",
              "      <th>1</th>\n",
              "      <td>martial_arts</td>\n",
              "      <td>Главные участники предстоящего Betokenoid 274 ...</td>\n",
              "      <td>0.439209</td>\n",
              "      <td>0.343750</td>\n",
              "      <td>0.093628</td>\n",
              "      <td>0.245239</td>\n",
              "      <td>0.089783</td>\n",
              "      <td>0.424805</td>\n",
              "      <td>-0.071472</td>\n",
              "      <td>0.185913</td>\n",
              "      <td>...</td>\n",
              "      <td>-0.022659</td>\n",
              "      <td>0.042267</td>\n",
              "      <td>-0.027390</td>\n",
              "      <td>-0.033569</td>\n",
              "      <td>0.016022</td>\n",
              "      <td>-0.022049</td>\n",
              "      <td>-0.040375</td>\n",
              "      <td>0.007393</td>\n",
              "      <td>-0.029068</td>\n",
              "      <td>-0.011284</td>\n",
              "    </tr>\n",
              "    <tr>\n",
              "      <th>2</th>\n",
              "      <td>extreme</td>\n",
              "      <td>Ttokenoid Btokenoid – карта с которой можно не...</td>\n",
              "      <td>-0.040344</td>\n",
              "      <td>0.058105</td>\n",
              "      <td>-0.091064</td>\n",
              "      <td>0.296143</td>\n",
              "      <td>-0.137085</td>\n",
              "      <td>0.931641</td>\n",
              "      <td>-0.169067</td>\n",
              "      <td>0.131470</td>\n",
              "      <td>...</td>\n",
              "      <td>-0.009460</td>\n",
              "      <td>0.011551</td>\n",
              "      <td>-0.046021</td>\n",
              "      <td>0.024582</td>\n",
              "      <td>-0.013672</td>\n",
              "      <td>-0.047028</td>\n",
              "      <td>0.009392</td>\n",
              "      <td>-0.000488</td>\n",
              "      <td>-0.060272</td>\n",
              "      <td>0.006561</td>\n",
              "    </tr>\n",
              "  </tbody>\n",
              "</table>\n",
              "<p>3 rows × 2618 columns</p>\n",
              "</div>\n",
              "      <button class=\"colab-df-convert\" onclick=\"convertToInteractive('df-2d7015c4-d231-4805-bc77-0ea6c7ccc270')\"\n",
              "              title=\"Convert this dataframe to an interactive table.\"\n",
              "              style=\"display:none;\">\n",
              "        \n",
              "  <svg xmlns=\"http://www.w3.org/2000/svg\" height=\"24px\"viewBox=\"0 0 24 24\"\n",
              "       width=\"24px\">\n",
              "    <path d=\"M0 0h24v24H0V0z\" fill=\"none\"/>\n",
              "    <path d=\"M18.56 5.44l.94 2.06.94-2.06 2.06-.94-2.06-.94-.94-2.06-.94 2.06-2.06.94zm-11 1L8.5 8.5l.94-2.06 2.06-.94-2.06-.94L8.5 2.5l-.94 2.06-2.06.94zm10 10l.94 2.06.94-2.06 2.06-.94-2.06-.94-.94-2.06-.94 2.06-2.06.94z\"/><path d=\"M17.41 7.96l-1.37-1.37c-.4-.4-.92-.59-1.43-.59-.52 0-1.04.2-1.43.59L10.3 9.45l-7.72 7.72c-.78.78-.78 2.05 0 2.83L4 21.41c.39.39.9.59 1.41.59.51 0 1.02-.2 1.41-.59l7.78-7.78 2.81-2.81c.8-.78.8-2.07 0-2.86zM5.41 20L4 18.59l7.72-7.72 1.47 1.35L5.41 20z\"/>\n",
              "  </svg>\n",
              "      </button>\n",
              "      \n",
              "  <style>\n",
              "    .colab-df-container {\n",
              "      display:flex;\n",
              "      flex-wrap:wrap;\n",
              "      gap: 12px;\n",
              "    }\n",
              "\n",
              "    .colab-df-convert {\n",
              "      background-color: #E8F0FE;\n",
              "      border: none;\n",
              "      border-radius: 50%;\n",
              "      cursor: pointer;\n",
              "      display: none;\n",
              "      fill: #1967D2;\n",
              "      height: 32px;\n",
              "      padding: 0 0 0 0;\n",
              "      width: 32px;\n",
              "    }\n",
              "\n",
              "    .colab-df-convert:hover {\n",
              "      background-color: #E2EBFA;\n",
              "      box-shadow: 0px 1px 2px rgba(60, 64, 67, 0.3), 0px 1px 3px 1px rgba(60, 64, 67, 0.15);\n",
              "      fill: #174EA6;\n",
              "    }\n",
              "\n",
              "    [theme=dark] .colab-df-convert {\n",
              "      background-color: #3B4455;\n",
              "      fill: #D2E3FC;\n",
              "    }\n",
              "\n",
              "    [theme=dark] .colab-df-convert:hover {\n",
              "      background-color: #434B5C;\n",
              "      box-shadow: 0px 1px 3px 1px rgba(0, 0, 0, 0.15);\n",
              "      filter: drop-shadow(0px 1px 2px rgba(0, 0, 0, 0.3));\n",
              "      fill: #FFFFFF;\n",
              "    }\n",
              "  </style>\n",
              "\n",
              "      <script>\n",
              "        const buttonEl =\n",
              "          document.querySelector('#df-2d7015c4-d231-4805-bc77-0ea6c7ccc270 button.colab-df-convert');\n",
              "        buttonEl.style.display =\n",
              "          google.colab.kernel.accessAllowed ? 'block' : 'none';\n",
              "\n",
              "        async function convertToInteractive(key) {\n",
              "          const element = document.querySelector('#df-2d7015c4-d231-4805-bc77-0ea6c7ccc270');\n",
              "          const dataTable =\n",
              "            await google.colab.kernel.invokeFunction('convertToInteractive',\n",
              "                                                     [key], {});\n",
              "          if (!dataTable) return;\n",
              "\n",
              "          const docLinkHtml = 'Like what you see? Visit the ' +\n",
              "            '<a target=\"_blank\" href=https://colab.research.google.com/notebooks/data_table.ipynb>data table notebook</a>'\n",
              "            + ' to learn more about interactive tables.';\n",
              "          element.innerHTML = '';\n",
              "          dataTable['output_type'] = 'display_data';\n",
              "          await google.colab.output.renderOutput(dataTable, element);\n",
              "          const docLink = document.createElement('div');\n",
              "          docLink.innerHTML = docLinkHtml;\n",
              "          element.appendChild(docLink);\n",
              "        }\n",
              "      </script>\n",
              "    </div>\n",
              "  </div>\n",
              "  "
            ],
            "text/plain": [
              "       category                                               text  \\\n",
              "0       extreme  Ледник Пасторури это цирковой ледник расположе...   \n",
              "1  martial_arts  Главные участники предстоящего Betokenoid 274 ...   \n",
              "2       extreme  Ttokenoid Btokenoid – карта с которой можно не...   \n",
              "\n",
              "   ruBert-base_text_feature_0  ruBert-base_text_feature_1  \\\n",
              "0                    0.272217                    0.155396   \n",
              "1                    0.439209                    0.343750   \n",
              "2                   -0.040344                    0.058105   \n",
              "\n",
              "   ruBert-base_text_feature_2  ruBert-base_text_feature_3  \\\n",
              "0                    0.060272                    0.363037   \n",
              "1                    0.093628                    0.245239   \n",
              "2                   -0.091064                    0.296143   \n",
              "\n",
              "   ruBert-base_text_feature_4  ruBert-base_text_feature_5  \\\n",
              "0                   -0.140381                    0.507812   \n",
              "1                    0.089783                    0.424805   \n",
              "2                   -0.137085                    0.931641   \n",
              "\n",
              "   ruBert-base_text_feature_6  ruBert-base_text_feature_7  ...  \\\n",
              "0                   -0.226318                    0.431885  ...   \n",
              "1                   -0.071472                    0.185913  ...   \n",
              "2                   -0.169067                    0.131470  ...   \n",
              "\n",
              "   labse_text_feature_758  labse_text_feature_759  labse_text_feature_760  \\\n",
              "0               -0.045807               -0.027481                0.030533   \n",
              "1               -0.022659                0.042267               -0.027390   \n",
              "2               -0.009460                0.011551               -0.046021   \n",
              "\n",
              "   labse_text_feature_761  labse_text_feature_762  labse_text_feature_763  \\\n",
              "0               -0.052216                0.042450               -0.012711   \n",
              "1               -0.033569                0.016022               -0.022049   \n",
              "2                0.024582               -0.013672               -0.047028   \n",
              "\n",
              "   labse_text_feature_764  labse_text_feature_765  labse_text_feature_766  \\\n",
              "0               -0.055359               -0.012436               -0.016281   \n",
              "1               -0.040375                0.007393               -0.029068   \n",
              "2                0.009392               -0.000488               -0.060272   \n",
              "\n",
              "   labse_text_feature_767  \n",
              "0               -0.006992  \n",
              "1               -0.011284  \n",
              "2                0.006561  \n",
              "\n",
              "[3 rows x 2618 columns]"
            ]
          },
          "execution_count": 15,
          "metadata": {},
          "output_type": "execute_result"
        }
      ],
      "source": [
        "train.head(3)"
      ]
    },
    {
      "cell_type": "code",
      "execution_count": null,
      "metadata": {
        "colab": {
          "base_uri": "https://localhost:8080/"
        },
        "id": "0FPAj3JPmr1D",
        "outputId": "3aca9928-ee3c-4c05-d8c4-265aa3d7d5fb"
      },
      "outputs": [
        {
          "name": "stdout",
          "output_type": "stream",
          "text": [
            "\u001b[1mcat_features:\u001b[0m ['text'], \u001b[1mamount\u001b[0m = 1\n",
            "\u001b[1mnum_features:\u001b[0m ['ruBert-base_text_feature_0', 'ruBert-base_text_feature_1', 'ruBert-base_text_feature_2', 'ruBert-base_text_feature_3', 'ruBert-base_text_feature_4', 'ruBert-base_text_feature_5', 'ruBert-base_text_feature_6', 'ruBert-base_text_feature_7', 'ruBert-base_text_feature_8', 'ruBert-base_text_feature_9', 'ruBert-base_text_feature_10', 'ruBert-base_text_feature_11', 'ruBert-base_text_feature_12', 'ruBert-base_text_feature_13', 'ruBert-base_text_feature_14', 'ruBert-base_text_feature_15', 'ruBert-base_text_feature_16', 'ruBert-base_text_feature_17', 'ruBert-base_text_feature_18', 'ruBert-base_text_feature_19', 'ruBert-base_text_feature_20', 'ruBert-base_text_feature_21', 'ruBert-base_text_feature_22', 'ruBert-base_text_feature_23', 'ruBert-base_text_feature_24', 'ruBert-base_text_feature_25', 'ruBert-base_text_feature_26', 'ruBert-base_text_feature_27', 'ruBert-base_text_feature_28', 'ruBert-base_text_feature_29', 'ruBert-base_text_feature_30', 'ruBert-base_text_feature_31', 'ruBert-base_text_feature_32', 'ruBert-base_text_feature_33', 'ruBert-base_text_feature_34', 'ruBert-base_text_feature_35', 'ruBert-base_text_feature_36', 'ruBert-base_text_feature_37', 'ruBert-base_text_feature_38', 'ruBert-base_text_feature_39', 'ruBert-base_text_feature_40', 'ruBert-base_text_feature_41', 'ruBert-base_text_feature_42', 'ruBert-base_text_feature_43', 'ruBert-base_text_feature_44', 'ruBert-base_text_feature_45', 'ruBert-base_text_feature_46', 'ruBert-base_text_feature_47', 'ruBert-base_text_feature_48', 'ruBert-base_text_feature_49', 'ruBert-base_text_feature_50', 'ruBert-base_text_feature_51', 'ruBert-base_text_feature_52', 'ruBert-base_text_feature_53', 'ruBert-base_text_feature_54', 'ruBert-base_text_feature_55', 'ruBert-base_text_feature_56', 'ruBert-base_text_feature_57', 'ruBert-base_text_feature_58', 'ruBert-base_text_feature_59', 'ruBert-base_text_feature_60', 'ruBert-base_text_feature_61', 'ruBert-base_text_feature_62', 'ruBert-base_text_feature_63', 'ruBert-base_text_feature_64', 'ruBert-base_text_feature_65', 'ruBert-base_text_feature_66', 'ruBert-base_text_feature_67', 'ruBert-base_text_feature_68', 'ruBert-base_text_feature_69', 'ruBert-base_text_feature_70', 'ruBert-base_text_feature_71', 'ruBert-base_text_feature_72', 'ruBert-base_text_feature_73', 'ruBert-base_text_feature_74', 'ruBert-base_text_feature_75', 'ruBert-base_text_feature_76', 'ruBert-base_text_feature_77', 'ruBert-base_text_feature_78', 'ruBert-base_text_feature_79', 'ruBert-base_text_feature_80', 'ruBert-base_text_feature_81', 'ruBert-base_text_feature_82', 'ruBert-base_text_feature_83', 'ruBert-base_text_feature_84', 'ruBert-base_text_feature_85', 'ruBert-base_text_feature_86', 'ruBert-base_text_feature_87', 'ruBert-base_text_feature_88', 'ruBert-base_text_feature_89', 'ruBert-base_text_feature_90', 'ruBert-base_text_feature_91', 'ruBert-base_text_feature_92', 'ruBert-base_text_feature_93', 'ruBert-base_text_feature_94', 'ruBert-base_text_feature_95', 'ruBert-base_text_feature_96', 'ruBert-base_text_feature_97', 'ruBert-base_text_feature_98', 'ruBert-base_text_feature_99', 'ruBert-base_text_feature_100', 'ruBert-base_text_feature_101', 'ruBert-base_text_feature_102', 'ruBert-base_text_feature_103', 'ruBert-base_text_feature_104', 'ruBert-base_text_feature_105', 'ruBert-base_text_feature_106', 'ruBert-base_text_feature_107', 'ruBert-base_text_feature_108', 'ruBert-base_text_feature_109', 'ruBert-base_text_feature_110', 'ruBert-base_text_feature_111', 'ruBert-base_text_feature_112', 'ruBert-base_text_feature_113', 'ruBert-base_text_feature_114', 'ruBert-base_text_feature_115', 'ruBert-base_text_feature_116', 'ruBert-base_text_feature_117', 'ruBert-base_text_feature_118', 'ruBert-base_text_feature_119', 'ruBert-base_text_feature_120', 'ruBert-base_text_feature_121', 'ruBert-base_text_feature_122', 'ruBert-base_text_feature_123', 'ruBert-base_text_feature_124', 'ruBert-base_text_feature_125', 'ruBert-base_text_feature_126', 'ruBert-base_text_feature_127', 'ruBert-base_text_feature_128', 'ruBert-base_text_feature_129', 'ruBert-base_text_feature_130', 'ruBert-base_text_feature_131', 'ruBert-base_text_feature_132', 'ruBert-base_text_feature_133', 'ruBert-base_text_feature_134', 'ruBert-base_text_feature_135', 'ruBert-base_text_feature_136', 'ruBert-base_text_feature_137', 'ruBert-base_text_feature_138', 'ruBert-base_text_feature_139', 'ruBert-base_text_feature_140', 'ruBert-base_text_feature_141', 'ruBert-base_text_feature_142', 'ruBert-base_text_feature_143', 'ruBert-base_text_feature_144', 'ruBert-base_text_feature_145', 'ruBert-base_text_feature_146', 'ruBert-base_text_feature_147', 'ruBert-base_text_feature_148', 'ruBert-base_text_feature_149', 'ruBert-base_text_feature_150', 'ruBert-base_text_feature_151', 'ruBert-base_text_feature_152', 'ruBert-base_text_feature_153', 'ruBert-base_text_feature_154', 'ruBert-base_text_feature_155', 'ruBert-base_text_feature_156', 'ruBert-base_text_feature_157', 'ruBert-base_text_feature_158', 'ruBert-base_text_feature_159', 'ruBert-base_text_feature_160', 'ruBert-base_text_feature_161', 'ruBert-base_text_feature_162', 'ruBert-base_text_feature_163', 'ruBert-base_text_feature_164', 'ruBert-base_text_feature_165', 'ruBert-base_text_feature_166', 'ruBert-base_text_feature_167', 'ruBert-base_text_feature_168', 'ruBert-base_text_feature_169', 'ruBert-base_text_feature_170', 'ruBert-base_text_feature_171', 'ruBert-base_text_feature_172', 'ruBert-base_text_feature_173', 'ruBert-base_text_feature_174', 'ruBert-base_text_feature_175', 'ruBert-base_text_feature_176', 'ruBert-base_text_feature_177', 'ruBert-base_text_feature_178', 'ruBert-base_text_feature_179', 'ruBert-base_text_feature_180', 'ruBert-base_text_feature_181', 'ruBert-base_text_feature_182', 'ruBert-base_text_feature_183', 'ruBert-base_text_feature_184', 'ruBert-base_text_feature_185', 'ruBert-base_text_feature_186', 'ruBert-base_text_feature_187', 'ruBert-base_text_feature_188', 'ruBert-base_text_feature_189', 'ruBert-base_text_feature_190', 'ruBert-base_text_feature_191', 'ruBert-base_text_feature_192', 'ruBert-base_text_feature_193', 'ruBert-base_text_feature_194', 'ruBert-base_text_feature_195', 'ruBert-base_text_feature_196', 'ruBert-base_text_feature_197', 'ruBert-base_text_feature_198', 'ruBert-base_text_feature_199', 'ruBert-base_text_feature_200', 'ruBert-base_text_feature_201', 'ruBert-base_text_feature_202', 'ruBert-base_text_feature_203', 'ruBert-base_text_feature_204', 'ruBert-base_text_feature_205', 'ruBert-base_text_feature_206', 'ruBert-base_text_feature_207', 'ruBert-base_text_feature_208', 'ruBert-base_text_feature_209', 'ruBert-base_text_feature_210', 'ruBert-base_text_feature_211', 'ruBert-base_text_feature_212', 'ruBert-base_text_feature_213', 'ruBert-base_text_feature_214', 'ruBert-base_text_feature_215', 'ruBert-base_text_feature_216', 'ruBert-base_text_feature_217', 'ruBert-base_text_feature_218', 'ruBert-base_text_feature_219', 'ruBert-base_text_feature_220', 'ruBert-base_text_feature_221', 'ruBert-base_text_feature_222', 'ruBert-base_text_feature_223', 'ruBert-base_text_feature_224', 'ruBert-base_text_feature_225', 'ruBert-base_text_feature_226', 'ruBert-base_text_feature_227', 'ruBert-base_text_feature_228', 'ruBert-base_text_feature_229', 'ruBert-base_text_feature_230', 'ruBert-base_text_feature_231', 'ruBert-base_text_feature_232', 'ruBert-base_text_feature_233', 'ruBert-base_text_feature_234', 'ruBert-base_text_feature_235', 'ruBert-base_text_feature_236', 'ruBert-base_text_feature_237', 'ruBert-base_text_feature_238', 'ruBert-base_text_feature_239', 'ruBert-base_text_feature_240', 'ruBert-base_text_feature_241', 'ruBert-base_text_feature_242', 'ruBert-base_text_feature_243', 'ruBert-base_text_feature_244', 'ruBert-base_text_feature_245', 'ruBert-base_text_feature_246', 'ruBert-base_text_feature_247', 'ruBert-base_text_feature_248', 'ruBert-base_text_feature_249', 'ruBert-base_text_feature_250', 'ruBert-base_text_feature_251', 'ruBert-base_text_feature_252', 'ruBert-base_text_feature_253', 'ruBert-base_text_feature_254', 'ruBert-base_text_feature_255', 'ruBert-base_text_feature_256', 'ruBert-base_text_feature_257', 'ruBert-base_text_feature_258', 'ruBert-base_text_feature_259', 'ruBert-base_text_feature_260', 'ruBert-base_text_feature_261', 'ruBert-base_text_feature_262', 'ruBert-base_text_feature_263', 'ruBert-base_text_feature_264', 'ruBert-base_text_feature_265', 'ruBert-base_text_feature_266', 'ruBert-base_text_feature_267', 'ruBert-base_text_feature_268', 'ruBert-base_text_feature_269', 'ruBert-base_text_feature_270', 'ruBert-base_text_feature_271', 'ruBert-base_text_feature_272', 'ruBert-base_text_feature_273', 'ruBert-base_text_feature_274', 'ruBert-base_text_feature_275', 'ruBert-base_text_feature_276', 'ruBert-base_text_feature_277', 'ruBert-base_text_feature_278', 'ruBert-base_text_feature_279', 'ruBert-base_text_feature_280', 'ruBert-base_text_feature_281', 'ruBert-base_text_feature_282', 'ruBert-base_text_feature_283', 'ruBert-base_text_feature_284', 'ruBert-base_text_feature_285', 'ruBert-base_text_feature_286', 'ruBert-base_text_feature_287', 'ruBert-base_text_feature_288', 'ruBert-base_text_feature_289', 'ruBert-base_text_feature_290', 'ruBert-base_text_feature_291', 'ruBert-base_text_feature_292', 'ruBert-base_text_feature_293', 'ruBert-base_text_feature_294', 'ruBert-base_text_feature_295', 'ruBert-base_text_feature_296', 'ruBert-base_text_feature_297', 'ruBert-base_text_feature_298', 'ruBert-base_text_feature_299', 'ruBert-base_text_feature_300', 'ruBert-base_text_feature_301', 'ruBert-base_text_feature_302', 'ruBert-base_text_feature_303', 'ruBert-base_text_feature_304', 'ruBert-base_text_feature_305', 'ruBert-base_text_feature_306', 'ruBert-base_text_feature_307', 'ruBert-base_text_feature_308', 'ruBert-base_text_feature_309', 'ruBert-base_text_feature_310', 'ruBert-base_text_feature_311', 'ruBert-base_text_feature_312', 'ruBert-base_text_feature_313', 'ruBert-base_text_feature_314', 'ruBert-base_text_feature_315', 'ruBert-base_text_feature_316', 'ruBert-base_text_feature_317', 'ruBert-base_text_feature_318', 'ruBert-base_text_feature_319', 'ruBert-base_text_feature_320', 'ruBert-base_text_feature_321', 'ruBert-base_text_feature_322', 'ruBert-base_text_feature_323', 'ruBert-base_text_feature_324', 'ruBert-base_text_feature_325', 'ruBert-base_text_feature_326', 'ruBert-base_text_feature_327', 'ruBert-base_text_feature_328', 'ruBert-base_text_feature_329', 'ruBert-base_text_feature_330', 'ruBert-base_text_feature_331', 'ruBert-base_text_feature_332', 'ruBert-base_text_feature_333', 'ruBert-base_text_feature_334', 'ruBert-base_text_feature_335', 'ruBert-base_text_feature_336', 'ruBert-base_text_feature_337', 'ruBert-base_text_feature_338', 'ruBert-base_text_feature_339', 'ruBert-base_text_feature_340', 'ruBert-base_text_feature_341', 'ruBert-base_text_feature_342', 'ruBert-base_text_feature_343', 'ruBert-base_text_feature_344', 'ruBert-base_text_feature_345', 'ruBert-base_text_feature_346', 'ruBert-base_text_feature_347', 'ruBert-base_text_feature_348', 'ruBert-base_text_feature_349', 'ruBert-base_text_feature_350', 'ruBert-base_text_feature_351', 'ruBert-base_text_feature_352', 'ruBert-base_text_feature_353', 'ruBert-base_text_feature_354', 'ruBert-base_text_feature_355', 'ruBert-base_text_feature_356', 'ruBert-base_text_feature_357', 'ruBert-base_text_feature_358', 'ruBert-base_text_feature_359', 'ruBert-base_text_feature_360', 'ruBert-base_text_feature_361', 'ruBert-base_text_feature_362', 'ruBert-base_text_feature_363', 'ruBert-base_text_feature_364', 'ruBert-base_text_feature_365', 'ruBert-base_text_feature_366', 'ruBert-base_text_feature_367', 'ruBert-base_text_feature_368', 'ruBert-base_text_feature_369', 'ruBert-base_text_feature_370', 'ruBert-base_text_feature_371', 'ruBert-base_text_feature_372', 'ruBert-base_text_feature_373', 'ruBert-base_text_feature_374', 'ruBert-base_text_feature_375', 'ruBert-base_text_feature_376', 'ruBert-base_text_feature_377', 'ruBert-base_text_feature_378', 'ruBert-base_text_feature_379', 'ruBert-base_text_feature_380', 'ruBert-base_text_feature_381', 'ruBert-base_text_feature_382', 'ruBert-base_text_feature_383', 'ruBert-base_text_feature_384', 'ruBert-base_text_feature_385', 'ruBert-base_text_feature_386', 'ruBert-base_text_feature_387', 'ruBert-base_text_feature_388', 'ruBert-base_text_feature_389', 'ruBert-base_text_feature_390', 'ruBert-base_text_feature_391', 'ruBert-base_text_feature_392', 'ruBert-base_text_feature_393', 'ruBert-base_text_feature_394', 'ruBert-base_text_feature_395', 'ruBert-base_text_feature_396', 'ruBert-base_text_feature_397', 'ruBert-base_text_feature_398', 'ruBert-base_text_feature_399', 'ruBert-base_text_feature_400', 'ruBert-base_text_feature_401', 'ruBert-base_text_feature_402', 'ruBert-base_text_feature_403', 'ruBert-base_text_feature_404', 'ruBert-base_text_feature_405', 'ruBert-base_text_feature_406', 'ruBert-base_text_feature_407', 'ruBert-base_text_feature_408', 'ruBert-base_text_feature_409', 'ruBert-base_text_feature_410', 'ruBert-base_text_feature_411', 'ruBert-base_text_feature_412', 'ruBert-base_text_feature_413', 'ruBert-base_text_feature_414', 'ruBert-base_text_feature_415', 'ruBert-base_text_feature_416', 'ruBert-base_text_feature_417', 'ruBert-base_text_feature_418', 'ruBert-base_text_feature_419', 'ruBert-base_text_feature_420', 'ruBert-base_text_feature_421', 'ruBert-base_text_feature_422', 'ruBert-base_text_feature_423', 'ruBert-base_text_feature_424', 'ruBert-base_text_feature_425', 'ruBert-base_text_feature_426', 'ruBert-base_text_feature_427', 'ruBert-base_text_feature_428', 'ruBert-base_text_feature_429', 'ruBert-base_text_feature_430', 'ruBert-base_text_feature_431', 'ruBert-base_text_feature_432', 'ruBert-base_text_feature_433', 'ruBert-base_text_feature_434', 'ruBert-base_text_feature_435', 'ruBert-base_text_feature_436', 'ruBert-base_text_feature_437', 'ruBert-base_text_feature_438', 'ruBert-base_text_feature_439', 'ruBert-base_text_feature_440', 'ruBert-base_text_feature_441', 'ruBert-base_text_feature_442', 'ruBert-base_text_feature_443', 'ruBert-base_text_feature_444', 'ruBert-base_text_feature_445', 'ruBert-base_text_feature_446', 'ruBert-base_text_feature_447', 'ruBert-base_text_feature_448', 'ruBert-base_text_feature_449', 'ruBert-base_text_feature_450', 'ruBert-base_text_feature_451', 'ruBert-base_text_feature_452', 'ruBert-base_text_feature_453', 'ruBert-base_text_feature_454', 'ruBert-base_text_feature_455', 'ruBert-base_text_feature_456', 'ruBert-base_text_feature_457', 'ruBert-base_text_feature_458', 'ruBert-base_text_feature_459', 'ruBert-base_text_feature_460', 'ruBert-base_text_feature_461', 'ruBert-base_text_feature_462', 'ruBert-base_text_feature_463', 'ruBert-base_text_feature_464', 'ruBert-base_text_feature_465', 'ruBert-base_text_feature_466', 'ruBert-base_text_feature_467', 'ruBert-base_text_feature_468', 'ruBert-base_text_feature_469', 'ruBert-base_text_feature_470', 'ruBert-base_text_feature_471', 'ruBert-base_text_feature_472', 'ruBert-base_text_feature_473', 'ruBert-base_text_feature_474', 'ruBert-base_text_feature_475', 'ruBert-base_text_feature_476', 'ruBert-base_text_feature_477', 'ruBert-base_text_feature_478', 'ruBert-base_text_feature_479', 'ruBert-base_text_feature_480', 'ruBert-base_text_feature_481', 'ruBert-base_text_feature_482', 'ruBert-base_text_feature_483', 'ruBert-base_text_feature_484', 'ruBert-base_text_feature_485', 'ruBert-base_text_feature_486', 'ruBert-base_text_feature_487', 'ruBert-base_text_feature_488', 'ruBert-base_text_feature_489', 'ruBert-base_text_feature_490', 'ruBert-base_text_feature_491', 'ruBert-base_text_feature_492', 'ruBert-base_text_feature_493', 'ruBert-base_text_feature_494', 'ruBert-base_text_feature_495', 'ruBert-base_text_feature_496', 'ruBert-base_text_feature_497', 'ruBert-base_text_feature_498', 'ruBert-base_text_feature_499', 'ruBert-base_text_feature_500', 'ruBert-base_text_feature_501', 'ruBert-base_text_feature_502', 'ruBert-base_text_feature_503', 'ruBert-base_text_feature_504', 'ruBert-base_text_feature_505', 'ruBert-base_text_feature_506', 'ruBert-base_text_feature_507', 'ruBert-base_text_feature_508', 'ruBert-base_text_feature_509', 'ruBert-base_text_feature_510', 'ruBert-base_text_feature_511', 'ruBert-base_text_feature_512', 'ruBert-base_text_feature_513', 'ruBert-base_text_feature_514', 'ruBert-base_text_feature_515', 'ruBert-base_text_feature_516', 'ruBert-base_text_feature_517', 'ruBert-base_text_feature_518', 'ruBert-base_text_feature_519', 'ruBert-base_text_feature_520', 'ruBert-base_text_feature_521', 'ruBert-base_text_feature_522', 'ruBert-base_text_feature_523', 'ruBert-base_text_feature_524', 'ruBert-base_text_feature_525', 'ruBert-base_text_feature_526', 'ruBert-base_text_feature_527', 'ruBert-base_text_feature_528', 'ruBert-base_text_feature_529', 'ruBert-base_text_feature_530', 'ruBert-base_text_feature_531', 'ruBert-base_text_feature_532', 'ruBert-base_text_feature_533', 'ruBert-base_text_feature_534', 'ruBert-base_text_feature_535', 'ruBert-base_text_feature_536', 'ruBert-base_text_feature_537', 'ruBert-base_text_feature_538', 'ruBert-base_text_feature_539', 'ruBert-base_text_feature_540', 'ruBert-base_text_feature_541', 'ruBert-base_text_feature_542', 'ruBert-base_text_feature_543', 'ruBert-base_text_feature_544', 'ruBert-base_text_feature_545', 'ruBert-base_text_feature_546', 'ruBert-base_text_feature_547', 'ruBert-base_text_feature_548', 'ruBert-base_text_feature_549', 'ruBert-base_text_feature_550', 'ruBert-base_text_feature_551', 'ruBert-base_text_feature_552', 'ruBert-base_text_feature_553', 'ruBert-base_text_feature_554', 'ruBert-base_text_feature_555', 'ruBert-base_text_feature_556', 'ruBert-base_text_feature_557', 'ruBert-base_text_feature_558', 'ruBert-base_text_feature_559', 'ruBert-base_text_feature_560', 'ruBert-base_text_feature_561', 'ruBert-base_text_feature_562', 'ruBert-base_text_feature_563', 'ruBert-base_text_feature_564', 'ruBert-base_text_feature_565', 'ruBert-base_text_feature_566', 'ruBert-base_text_feature_567', 'ruBert-base_text_feature_568', 'ruBert-base_text_feature_569', 'ruBert-base_text_feature_570', 'ruBert-base_text_feature_571', 'ruBert-base_text_feature_572', 'ruBert-base_text_feature_573', 'ruBert-base_text_feature_574', 'ruBert-base_text_feature_575', 'ruBert-base_text_feature_576', 'ruBert-base_text_feature_577', 'ruBert-base_text_feature_578', 'ruBert-base_text_feature_579', 'ruBert-base_text_feature_580', 'ruBert-base_text_feature_581', 'ruBert-base_text_feature_582', 'ruBert-base_text_feature_583', 'ruBert-base_text_feature_584', 'ruBert-base_text_feature_585', 'ruBert-base_text_feature_586', 'ruBert-base_text_feature_587', 'ruBert-base_text_feature_588', 'ruBert-base_text_feature_589', 'ruBert-base_text_feature_590', 'ruBert-base_text_feature_591', 'ruBert-base_text_feature_592', 'ruBert-base_text_feature_593', 'ruBert-base_text_feature_594', 'ruBert-base_text_feature_595', 'ruBert-base_text_feature_596', 'ruBert-base_text_feature_597', 'ruBert-base_text_feature_598', 'ruBert-base_text_feature_599', 'ruBert-base_text_feature_600', 'ruBert-base_text_feature_601', 'ruBert-base_text_feature_602', 'ruBert-base_text_feature_603', 'ruBert-base_text_feature_604', 'ruBert-base_text_feature_605', 'ruBert-base_text_feature_606', 'ruBert-base_text_feature_607', 'ruBert-base_text_feature_608', 'ruBert-base_text_feature_609', 'ruBert-base_text_feature_610', 'ruBert-base_text_feature_611', 'ruBert-base_text_feature_612', 'ruBert-base_text_feature_613', 'ruBert-base_text_feature_614', 'ruBert-base_text_feature_615', 'ruBert-base_text_feature_616', 'ruBert-base_text_feature_617', 'ruBert-base_text_feature_618', 'ruBert-base_text_feature_619', 'ruBert-base_text_feature_620', 'ruBert-base_text_feature_621', 'ruBert-base_text_feature_622', 'ruBert-base_text_feature_623', 'ruBert-base_text_feature_624', 'ruBert-base_text_feature_625', 'ruBert-base_text_feature_626', 'ruBert-base_text_feature_627', 'ruBert-base_text_feature_628', 'ruBert-base_text_feature_629', 'ruBert-base_text_feature_630', 'ruBert-base_text_feature_631', 'ruBert-base_text_feature_632', 'ruBert-base_text_feature_633', 'ruBert-base_text_feature_634', 'ruBert-base_text_feature_635', 'ruBert-base_text_feature_636', 'ruBert-base_text_feature_637', 'ruBert-base_text_feature_638', 'ruBert-base_text_feature_639', 'ruBert-base_text_feature_640', 'ruBert-base_text_feature_641', 'ruBert-base_text_feature_642', 'ruBert-base_text_feature_643', 'ruBert-base_text_feature_644', 'ruBert-base_text_feature_645', 'ruBert-base_text_feature_646', 'ruBert-base_text_feature_647', 'ruBert-base_text_feature_648', 'ruBert-base_text_feature_649', 'ruBert-base_text_feature_650', 'ruBert-base_text_feature_651', 'ruBert-base_text_feature_652', 'ruBert-base_text_feature_653', 'ruBert-base_text_feature_654', 'ruBert-base_text_feature_655', 'ruBert-base_text_feature_656', 'ruBert-base_text_feature_657', 'ruBert-base_text_feature_658', 'ruBert-base_text_feature_659', 'ruBert-base_text_feature_660', 'ruBert-base_text_feature_661', 'ruBert-base_text_feature_662', 'ruBert-base_text_feature_663', 'ruBert-base_text_feature_664', 'ruBert-base_text_feature_665', 'ruBert-base_text_feature_666', 'ruBert-base_text_feature_667', 'ruBert-base_text_feature_668', 'ruBert-base_text_feature_669', 'ruBert-base_text_feature_670', 'ruBert-base_text_feature_671', 'ruBert-base_text_feature_672', 'ruBert-base_text_feature_673', 'ruBert-base_text_feature_674', 'ruBert-base_text_feature_675', 'ruBert-base_text_feature_676', 'ruBert-base_text_feature_677', 'ruBert-base_text_feature_678', 'ruBert-base_text_feature_679', 'ruBert-base_text_feature_680', 'ruBert-base_text_feature_681', 'ruBert-base_text_feature_682', 'ruBert-base_text_feature_683', 'ruBert-base_text_feature_684', 'ruBert-base_text_feature_685', 'ruBert-base_text_feature_686', 'ruBert-base_text_feature_687', 'ruBert-base_text_feature_688', 'ruBert-base_text_feature_689', 'ruBert-base_text_feature_690', 'ruBert-base_text_feature_691', 'ruBert-base_text_feature_692', 'ruBert-base_text_feature_693', 'ruBert-base_text_feature_694', 'ruBert-base_text_feature_695', 'ruBert-base_text_feature_696', 'ruBert-base_text_feature_697', 'ruBert-base_text_feature_698', 'ruBert-base_text_feature_699', 'ruBert-base_text_feature_700', 'ruBert-base_text_feature_701', 'ruBert-base_text_feature_702', 'ruBert-base_text_feature_703', 'ruBert-base_text_feature_704', 'ruBert-base_text_feature_705', 'ruBert-base_text_feature_706', 'ruBert-base_text_feature_707', 'ruBert-base_text_feature_708', 'ruBert-base_text_feature_709', 'ruBert-base_text_feature_710', 'ruBert-base_text_feature_711', 'ruBert-base_text_feature_712', 'ruBert-base_text_feature_713', 'ruBert-base_text_feature_714', 'ruBert-base_text_feature_715', 'ruBert-base_text_feature_716', 'ruBert-base_text_feature_717', 'ruBert-base_text_feature_718', 'ruBert-base_text_feature_719', 'ruBert-base_text_feature_720', 'ruBert-base_text_feature_721', 'ruBert-base_text_feature_722', 'ruBert-base_text_feature_723', 'ruBert-base_text_feature_724', 'ruBert-base_text_feature_725', 'ruBert-base_text_feature_726', 'ruBert-base_text_feature_727', 'ruBert-base_text_feature_728', 'ruBert-base_text_feature_729', 'ruBert-base_text_feature_730', 'ruBert-base_text_feature_731', 'ruBert-base_text_feature_732', 'ruBert-base_text_feature_733', 'ruBert-base_text_feature_734', 'ruBert-base_text_feature_735', 'ruBert-base_text_feature_736', 'ruBert-base_text_feature_737', 'ruBert-base_text_feature_738', 'ruBert-base_text_feature_739', 'ruBert-base_text_feature_740', 'ruBert-base_text_feature_741', 'ruBert-base_text_feature_742', 'ruBert-base_text_feature_743', 'ruBert-base_text_feature_744', 'ruBert-base_text_feature_745', 'ruBert-base_text_feature_746', 'ruBert-base_text_feature_747', 'ruBert-base_text_feature_748', 'ruBert-base_text_feature_749', 'ruBert-base_text_feature_750', 'ruBert-base_text_feature_751', 'ruBert-base_text_feature_752', 'ruBert-base_text_feature_753', 'ruBert-base_text_feature_754', 'ruBert-base_text_feature_755', 'ruBert-base_text_feature_756', 'ruBert-base_text_feature_757', 'ruBert-base_text_feature_758', 'ruBert-base_text_feature_759', 'ruBert-base_text_feature_760', 'ruBert-base_text_feature_761', 'ruBert-base_text_feature_762', 'ruBert-base_text_feature_763', 'ruBert-base_text_feature_764', 'ruBert-base_text_feature_765', 'ruBert-base_text_feature_766', 'ruBert-base_text_feature_767', 'rubert-tiny2_text_feature_0', 'rubert-tiny2_text_feature_1', 'rubert-tiny2_text_feature_2', 'rubert-tiny2_text_feature_3', 'rubert-tiny2_text_feature_4', 'rubert-tiny2_text_feature_5', 'rubert-tiny2_text_feature_6', 'rubert-tiny2_text_feature_7', 'rubert-tiny2_text_feature_8', 'rubert-tiny2_text_feature_9', 'rubert-tiny2_text_feature_10', 'rubert-tiny2_text_feature_11', 'rubert-tiny2_text_feature_12', 'rubert-tiny2_text_feature_13', 'rubert-tiny2_text_feature_14', 'rubert-tiny2_text_feature_15', 'rubert-tiny2_text_feature_16', 'rubert-tiny2_text_feature_17', 'rubert-tiny2_text_feature_18', 'rubert-tiny2_text_feature_19', 'rubert-tiny2_text_feature_20', 'rubert-tiny2_text_feature_21', 'rubert-tiny2_text_feature_22', 'rubert-tiny2_text_feature_23', 'rubert-tiny2_text_feature_24', 'rubert-tiny2_text_feature_25', 'rubert-tiny2_text_feature_26', 'rubert-tiny2_text_feature_27', 'rubert-tiny2_text_feature_28', 'rubert-tiny2_text_feature_29', 'rubert-tiny2_text_feature_30', 'rubert-tiny2_text_feature_31', 'rubert-tiny2_text_feature_32', 'rubert-tiny2_text_feature_33', 'rubert-tiny2_text_feature_34', 'rubert-tiny2_text_feature_35', 'rubert-tiny2_text_feature_36', 'rubert-tiny2_text_feature_37', 'rubert-tiny2_text_feature_38', 'rubert-tiny2_text_feature_39', 'rubert-tiny2_text_feature_40', 'rubert-tiny2_text_feature_41', 'rubert-tiny2_text_feature_42', 'rubert-tiny2_text_feature_43', 'rubert-tiny2_text_feature_44', 'rubert-tiny2_text_feature_45', 'rubert-tiny2_text_feature_46', 'rubert-tiny2_text_feature_47', 'rubert-tiny2_text_feature_48', 'rubert-tiny2_text_feature_49', 'rubert-tiny2_text_feature_50', 'rubert-tiny2_text_feature_51', 'rubert-tiny2_text_feature_52', 'rubert-tiny2_text_feature_53', 'rubert-tiny2_text_feature_54', 'rubert-tiny2_text_feature_55', 'rubert-tiny2_text_feature_56', 'rubert-tiny2_text_feature_57', 'rubert-tiny2_text_feature_58', 'rubert-tiny2_text_feature_59', 'rubert-tiny2_text_feature_60', 'rubert-tiny2_text_feature_61', 'rubert-tiny2_text_feature_62', 'rubert-tiny2_text_feature_63', 'rubert-tiny2_text_feature_64', 'rubert-tiny2_text_feature_65', 'rubert-tiny2_text_feature_66', 'rubert-tiny2_text_feature_67', 'rubert-tiny2_text_feature_68', 'rubert-tiny2_text_feature_69', 'rubert-tiny2_text_feature_70', 'rubert-tiny2_text_feature_71', 'rubert-tiny2_text_feature_72', 'rubert-tiny2_text_feature_73', 'rubert-tiny2_text_feature_74', 'rubert-tiny2_text_feature_75', 'rubert-tiny2_text_feature_76', 'rubert-tiny2_text_feature_77', 'rubert-tiny2_text_feature_78', 'rubert-tiny2_text_feature_79', 'rubert-tiny2_text_feature_80', 'rubert-tiny2_text_feature_81', 'rubert-tiny2_text_feature_82', 'rubert-tiny2_text_feature_83', 'rubert-tiny2_text_feature_84', 'rubert-tiny2_text_feature_85', 'rubert-tiny2_text_feature_86', 'rubert-tiny2_text_feature_87', 'rubert-tiny2_text_feature_88', 'rubert-tiny2_text_feature_89', 'rubert-tiny2_text_feature_90', 'rubert-tiny2_text_feature_91', 'rubert-tiny2_text_feature_92', 'rubert-tiny2_text_feature_93', 'rubert-tiny2_text_feature_94', 'rubert-tiny2_text_feature_95', 'rubert-tiny2_text_feature_96', 'rubert-tiny2_text_feature_97', 'rubert-tiny2_text_feature_98', 'rubert-tiny2_text_feature_99', 'rubert-tiny2_text_feature_100', 'rubert-tiny2_text_feature_101', 'rubert-tiny2_text_feature_102', 'rubert-tiny2_text_feature_103', 'rubert-tiny2_text_feature_104', 'rubert-tiny2_text_feature_105', 'rubert-tiny2_text_feature_106', 'rubert-tiny2_text_feature_107', 'rubert-tiny2_text_feature_108', 'rubert-tiny2_text_feature_109', 'rubert-tiny2_text_feature_110', 'rubert-tiny2_text_feature_111', 'rubert-tiny2_text_feature_112', 'rubert-tiny2_text_feature_113', 'rubert-tiny2_text_feature_114', 'rubert-tiny2_text_feature_115', 'rubert-tiny2_text_feature_116', 'rubert-tiny2_text_feature_117', 'rubert-tiny2_text_feature_118', 'rubert-tiny2_text_feature_119', 'rubert-tiny2_text_feature_120', 'rubert-tiny2_text_feature_121', 'rubert-tiny2_text_feature_122', 'rubert-tiny2_text_feature_123', 'rubert-tiny2_text_feature_124', 'rubert-tiny2_text_feature_125', 'rubert-tiny2_text_feature_126', 'rubert-tiny2_text_feature_127', 'rubert-tiny2_text_feature_128', 'rubert-tiny2_text_feature_129', 'rubert-tiny2_text_feature_130', 'rubert-tiny2_text_feature_131', 'rubert-tiny2_text_feature_132', 'rubert-tiny2_text_feature_133', 'rubert-tiny2_text_feature_134', 'rubert-tiny2_text_feature_135', 'rubert-tiny2_text_feature_136', 'rubert-tiny2_text_feature_137', 'rubert-tiny2_text_feature_138', 'rubert-tiny2_text_feature_139', 'rubert-tiny2_text_feature_140', 'rubert-tiny2_text_feature_141', 'rubert-tiny2_text_feature_142', 'rubert-tiny2_text_feature_143', 'rubert-tiny2_text_feature_144', 'rubert-tiny2_text_feature_145', 'rubert-tiny2_text_feature_146', 'rubert-tiny2_text_feature_147', 'rubert-tiny2_text_feature_148', 'rubert-tiny2_text_feature_149', 'rubert-tiny2_text_feature_150', 'rubert-tiny2_text_feature_151', 'rubert-tiny2_text_feature_152', 'rubert-tiny2_text_feature_153', 'rubert-tiny2_text_feature_154', 'rubert-tiny2_text_feature_155', 'rubert-tiny2_text_feature_156', 'rubert-tiny2_text_feature_157', 'rubert-tiny2_text_feature_158', 'rubert-tiny2_text_feature_159', 'rubert-tiny2_text_feature_160', 'rubert-tiny2_text_feature_161', 'rubert-tiny2_text_feature_162', 'rubert-tiny2_text_feature_163', 'rubert-tiny2_text_feature_164', 'rubert-tiny2_text_feature_165', 'rubert-tiny2_text_feature_166', 'rubert-tiny2_text_feature_167', 'rubert-tiny2_text_feature_168', 'rubert-tiny2_text_feature_169', 'rubert-tiny2_text_feature_170', 'rubert-tiny2_text_feature_171', 'rubert-tiny2_text_feature_172', 'rubert-tiny2_text_feature_173', 'rubert-tiny2_text_feature_174', 'rubert-tiny2_text_feature_175', 'rubert-tiny2_text_feature_176', 'rubert-tiny2_text_feature_177', 'rubert-tiny2_text_feature_178', 'rubert-tiny2_text_feature_179', 'rubert-tiny2_text_feature_180', 'rubert-tiny2_text_feature_181', 'rubert-tiny2_text_feature_182', 'rubert-tiny2_text_feature_183', 'rubert-tiny2_text_feature_184', 'rubert-tiny2_text_feature_185', 'rubert-tiny2_text_feature_186', 'rubert-tiny2_text_feature_187', 'rubert-tiny2_text_feature_188', 'rubert-tiny2_text_feature_189', 'rubert-tiny2_text_feature_190', 'rubert-tiny2_text_feature_191', 'rubert-tiny2_text_feature_192', 'rubert-tiny2_text_feature_193', 'rubert-tiny2_text_feature_194', 'rubert-tiny2_text_feature_195', 'rubert-tiny2_text_feature_196', 'rubert-tiny2_text_feature_197', 'rubert-tiny2_text_feature_198', 'rubert-tiny2_text_feature_199', 'rubert-tiny2_text_feature_200', 'rubert-tiny2_text_feature_201', 'rubert-tiny2_text_feature_202', 'rubert-tiny2_text_feature_203', 'rubert-tiny2_text_feature_204', 'rubert-tiny2_text_feature_205', 'rubert-tiny2_text_feature_206', 'rubert-tiny2_text_feature_207', 'rubert-tiny2_text_feature_208', 'rubert-tiny2_text_feature_209', 'rubert-tiny2_text_feature_210', 'rubert-tiny2_text_feature_211', 'rubert-tiny2_text_feature_212', 'rubert-tiny2_text_feature_213', 'rubert-tiny2_text_feature_214', 'rubert-tiny2_text_feature_215', 'rubert-tiny2_text_feature_216', 'rubert-tiny2_text_feature_217', 'rubert-tiny2_text_feature_218', 'rubert-tiny2_text_feature_219', 'rubert-tiny2_text_feature_220', 'rubert-tiny2_text_feature_221', 'rubert-tiny2_text_feature_222', 'rubert-tiny2_text_feature_223', 'rubert-tiny2_text_feature_224', 'rubert-tiny2_text_feature_225', 'rubert-tiny2_text_feature_226', 'rubert-tiny2_text_feature_227', 'rubert-tiny2_text_feature_228', 'rubert-tiny2_text_feature_229', 'rubert-tiny2_text_feature_230', 'rubert-tiny2_text_feature_231', 'rubert-tiny2_text_feature_232', 'rubert-tiny2_text_feature_233', 'rubert-tiny2_text_feature_234', 'rubert-tiny2_text_feature_235', 'rubert-tiny2_text_feature_236', 'rubert-tiny2_text_feature_237', 'rubert-tiny2_text_feature_238', 'rubert-tiny2_text_feature_239', 'rubert-tiny2_text_feature_240', 'rubert-tiny2_text_feature_241', 'rubert-tiny2_text_feature_242', 'rubert-tiny2_text_feature_243', 'rubert-tiny2_text_feature_244', 'rubert-tiny2_text_feature_245', 'rubert-tiny2_text_feature_246', 'rubert-tiny2_text_feature_247', 'rubert-tiny2_text_feature_248', 'rubert-tiny2_text_feature_249', 'rubert-tiny2_text_feature_250', 'rubert-tiny2_text_feature_251', 'rubert-tiny2_text_feature_252', 'rubert-tiny2_text_feature_253', 'rubert-tiny2_text_feature_254', 'rubert-tiny2_text_feature_255', 'rubert-tiny2_text_feature_256', 'rubert-tiny2_text_feature_257', 'rubert-tiny2_text_feature_258', 'rubert-tiny2_text_feature_259', 'rubert-tiny2_text_feature_260', 'rubert-tiny2_text_feature_261', 'rubert-tiny2_text_feature_262', 'rubert-tiny2_text_feature_263', 'rubert-tiny2_text_feature_264', 'rubert-tiny2_text_feature_265', 'rubert-tiny2_text_feature_266', 'rubert-tiny2_text_feature_267', 'rubert-tiny2_text_feature_268', 'rubert-tiny2_text_feature_269', 'rubert-tiny2_text_feature_270', 'rubert-tiny2_text_feature_271', 'rubert-tiny2_text_feature_272', 'rubert-tiny2_text_feature_273', 'rubert-tiny2_text_feature_274', 'rubert-tiny2_text_feature_275', 'rubert-tiny2_text_feature_276', 'rubert-tiny2_text_feature_277', 'rubert-tiny2_text_feature_278', 'rubert-tiny2_text_feature_279', 'rubert-tiny2_text_feature_280', 'rubert-tiny2_text_feature_281', 'rubert-tiny2_text_feature_282', 'rubert-tiny2_text_feature_283', 'rubert-tiny2_text_feature_284', 'rubert-tiny2_text_feature_285', 'rubert-tiny2_text_feature_286', 'rubert-tiny2_text_feature_287', 'rubert-tiny2_text_feature_288', 'rubert-tiny2_text_feature_289', 'rubert-tiny2_text_feature_290', 'rubert-tiny2_text_feature_291', 'rubert-tiny2_text_feature_292', 'rubert-tiny2_text_feature_293', 'rubert-tiny2_text_feature_294', 'rubert-tiny2_text_feature_295', 'rubert-tiny2_text_feature_296', 'rubert-tiny2_text_feature_297', 'rubert-tiny2_text_feature_298', 'rubert-tiny2_text_feature_299', 'rubert-tiny2_text_feature_300', 'rubert-tiny2_text_feature_301', 'rubert-tiny2_text_feature_302', 'rubert-tiny2_text_feature_303', 'rubert-tiny2_text_feature_304', 'rubert-tiny2_text_feature_305', 'rubert-tiny2_text_feature_306', 'rubert-tiny2_text_feature_307', 'rubert-tiny2_text_feature_308', 'rubert-tiny2_text_feature_309', 'rubert-tiny2_text_feature_310', 'rubert-tiny2_text_feature_311', 'rubert-base-cased-conversational_text_feature_0', 'rubert-base-cased-conversational_text_feature_1', 'rubert-base-cased-conversational_text_feature_2', 'rubert-base-cased-conversational_text_feature_3', 'rubert-base-cased-conversational_text_feature_4', 'rubert-base-cased-conversational_text_feature_5', 'rubert-base-cased-conversational_text_feature_6', 'rubert-base-cased-conversational_text_feature_7', 'rubert-base-cased-conversational_text_feature_8', 'rubert-base-cased-conversational_text_feature_9', 'rubert-base-cased-conversational_text_feature_10', 'rubert-base-cased-conversational_text_feature_11', 'rubert-base-cased-conversational_text_feature_12', 'rubert-base-cased-conversational_text_feature_13', 'rubert-base-cased-conversational_text_feature_14', 'rubert-base-cased-conversational_text_feature_15', 'rubert-base-cased-conversational_text_feature_16', 'rubert-base-cased-conversational_text_feature_17', 'rubert-base-cased-conversational_text_feature_18', 'rubert-base-cased-conversational_text_feature_19', 'rubert-base-cased-conversational_text_feature_20', 'rubert-base-cased-conversational_text_feature_21', 'rubert-base-cased-conversational_text_feature_22', 'rubert-base-cased-conversational_text_feature_23', 'rubert-base-cased-conversational_text_feature_24', 'rubert-base-cased-conversational_text_feature_25', 'rubert-base-cased-conversational_text_feature_26', 'rubert-base-cased-conversational_text_feature_27', 'rubert-base-cased-conversational_text_feature_28', 'rubert-base-cased-conversational_text_feature_29', 'rubert-base-cased-conversational_text_feature_30', 'rubert-base-cased-conversational_text_feature_31', 'rubert-base-cased-conversational_text_feature_32', 'rubert-base-cased-conversational_text_feature_33', 'rubert-base-cased-conversational_text_feature_34', 'rubert-base-cased-conversational_text_feature_35', 'rubert-base-cased-conversational_text_feature_36', 'rubert-base-cased-conversational_text_feature_37', 'rubert-base-cased-conversational_text_feature_38', 'rubert-base-cased-conversational_text_feature_39', 'rubert-base-cased-conversational_text_feature_40', 'rubert-base-cased-conversational_text_feature_41', 'rubert-base-cased-conversational_text_feature_42', 'rubert-base-cased-conversational_text_feature_43', 'rubert-base-cased-conversational_text_feature_44', 'rubert-base-cased-conversational_text_feature_45', 'rubert-base-cased-conversational_text_feature_46', 'rubert-base-cased-conversational_text_feature_47', 'rubert-base-cased-conversational_text_feature_48', 'rubert-base-cased-conversational_text_feature_49', 'rubert-base-cased-conversational_text_feature_50', 'rubert-base-cased-conversational_text_feature_51', 'rubert-base-cased-conversational_text_feature_52', 'rubert-base-cased-conversational_text_feature_53', 'rubert-base-cased-conversational_text_feature_54', 'rubert-base-cased-conversational_text_feature_55', 'rubert-base-cased-conversational_text_feature_56', 'rubert-base-cased-conversational_text_feature_57', 'rubert-base-cased-conversational_text_feature_58', 'rubert-base-cased-conversational_text_feature_59', 'rubert-base-cased-conversational_text_feature_60', 'rubert-base-cased-conversational_text_feature_61', 'rubert-base-cased-conversational_text_feature_62', 'rubert-base-cased-conversational_text_feature_63', 'rubert-base-cased-conversational_text_feature_64', 'rubert-base-cased-conversational_text_feature_65', 'rubert-base-cased-conversational_text_feature_66', 'rubert-base-cased-conversational_text_feature_67', 'rubert-base-cased-conversational_text_feature_68', 'rubert-base-cased-conversational_text_feature_69', 'rubert-base-cased-conversational_text_feature_70', 'rubert-base-cased-conversational_text_feature_71', 'rubert-base-cased-conversational_text_feature_72', 'rubert-base-cased-conversational_text_feature_73', 'rubert-base-cased-conversational_text_feature_74', 'rubert-base-cased-conversational_text_feature_75', 'rubert-base-cased-conversational_text_feature_76', 'rubert-base-cased-conversational_text_feature_77', 'rubert-base-cased-conversational_text_feature_78', 'rubert-base-cased-conversational_text_feature_79', 'rubert-base-cased-conversational_text_feature_80', 'rubert-base-cased-conversational_text_feature_81', 'rubert-base-cased-conversational_text_feature_82', 'rubert-base-cased-conversational_text_feature_83', 'rubert-base-cased-conversational_text_feature_84', 'rubert-base-cased-conversational_text_feature_85', 'rubert-base-cased-conversational_text_feature_86', 'rubert-base-cased-conversational_text_feature_87', 'rubert-base-cased-conversational_text_feature_88', 'rubert-base-cased-conversational_text_feature_89', 'rubert-base-cased-conversational_text_feature_90', 'rubert-base-cased-conversational_text_feature_91', 'rubert-base-cased-conversational_text_feature_92', 'rubert-base-cased-conversational_text_feature_93', 'rubert-base-cased-conversational_text_feature_94', 'rubert-base-cased-conversational_text_feature_95', 'rubert-base-cased-conversational_text_feature_96', 'rubert-base-cased-conversational_text_feature_97', 'rubert-base-cased-conversational_text_feature_98', 'rubert-base-cased-conversational_text_feature_99', 'rubert-base-cased-conversational_text_feature_100', 'rubert-base-cased-conversational_text_feature_101', 'rubert-base-cased-conversational_text_feature_102', 'rubert-base-cased-conversational_text_feature_103', 'rubert-base-cased-conversational_text_feature_104', 'rubert-base-cased-conversational_text_feature_105', 'rubert-base-cased-conversational_text_feature_106', 'rubert-base-cased-conversational_text_feature_107', 'rubert-base-cased-conversational_text_feature_108', 'rubert-base-cased-conversational_text_feature_109', 'rubert-base-cased-conversational_text_feature_110', 'rubert-base-cased-conversational_text_feature_111', 'rubert-base-cased-conversational_text_feature_112', 'rubert-base-cased-conversational_text_feature_113', 'rubert-base-cased-conversational_text_feature_114', 'rubert-base-cased-conversational_text_feature_115', 'rubert-base-cased-conversational_text_feature_116', 'rubert-base-cased-conversational_text_feature_117', 'rubert-base-cased-conversational_text_feature_118', 'rubert-base-cased-conversational_text_feature_119', 'rubert-base-cased-conversational_text_feature_120', 'rubert-base-cased-conversational_text_feature_121', 'rubert-base-cased-conversational_text_feature_122', 'rubert-base-cased-conversational_text_feature_123', 'rubert-base-cased-conversational_text_feature_124', 'rubert-base-cased-conversational_text_feature_125', 'rubert-base-cased-conversational_text_feature_126', 'rubert-base-cased-conversational_text_feature_127', 'rubert-base-cased-conversational_text_feature_128', 'rubert-base-cased-conversational_text_feature_129', 'rubert-base-cased-conversational_text_feature_130', 'rubert-base-cased-conversational_text_feature_131', 'rubert-base-cased-conversational_text_feature_132', 'rubert-base-cased-conversational_text_feature_133', 'rubert-base-cased-conversational_text_feature_134', 'rubert-base-cased-conversational_text_feature_135', 'rubert-base-cased-conversational_text_feature_136', 'rubert-base-cased-conversational_text_feature_137', 'rubert-base-cased-conversational_text_feature_138', 'rubert-base-cased-conversational_text_feature_139', 'rubert-base-cased-conversational_text_feature_140', 'rubert-base-cased-conversational_text_feature_141', 'rubert-base-cased-conversational_text_feature_142', 'rubert-base-cased-conversational_text_feature_143', 'rubert-base-cased-conversational_text_feature_144', 'rubert-base-cased-conversational_text_feature_145', 'rubert-base-cased-conversational_text_feature_146', 'rubert-base-cased-conversational_text_feature_147', 'rubert-base-cased-conversational_text_feature_148', 'rubert-base-cased-conversational_text_feature_149', 'rubert-base-cased-conversational_text_feature_150', 'rubert-base-cased-conversational_text_feature_151', 'rubert-base-cased-conversational_text_feature_152', 'rubert-base-cased-conversational_text_feature_153', 'rubert-base-cased-conversational_text_feature_154', 'rubert-base-cased-conversational_text_feature_155', 'rubert-base-cased-conversational_text_feature_156', 'rubert-base-cased-conversational_text_feature_157', 'rubert-base-cased-conversational_text_feature_158', 'rubert-base-cased-conversational_text_feature_159', 'rubert-base-cased-conversational_text_feature_160', 'rubert-base-cased-conversational_text_feature_161', 'rubert-base-cased-conversational_text_feature_162', 'rubert-base-cased-conversational_text_feature_163', 'rubert-base-cased-conversational_text_feature_164', 'rubert-base-cased-conversational_text_feature_165', 'rubert-base-cased-conversational_text_feature_166', 'rubert-base-cased-conversational_text_feature_167', 'rubert-base-cased-conversational_text_feature_168', 'rubert-base-cased-conversational_text_feature_169', 'rubert-base-cased-conversational_text_feature_170', 'rubert-base-cased-conversational_text_feature_171', 'rubert-base-cased-conversational_text_feature_172', 'rubert-base-cased-conversational_text_feature_173', 'rubert-base-cased-conversational_text_feature_174', 'rubert-base-cased-conversational_text_feature_175', 'rubert-base-cased-conversational_text_feature_176', 'rubert-base-cased-conversational_text_feature_177', 'rubert-base-cased-conversational_text_feature_178', 'rubert-base-cased-conversational_text_feature_179', 'rubert-base-cased-conversational_text_feature_180', 'rubert-base-cased-conversational_text_feature_181', 'rubert-base-cased-conversational_text_feature_182', 'rubert-base-cased-conversational_text_feature_183', 'rubert-base-cased-conversational_text_feature_184', 'rubert-base-cased-conversational_text_feature_185', 'rubert-base-cased-conversational_text_feature_186', 'rubert-base-cased-conversational_text_feature_187', 'rubert-base-cased-conversational_text_feature_188', 'rubert-base-cased-conversational_text_feature_189', 'rubert-base-cased-conversational_text_feature_190', 'rubert-base-cased-conversational_text_feature_191', 'rubert-base-cased-conversational_text_feature_192', 'rubert-base-cased-conversational_text_feature_193', 'rubert-base-cased-conversational_text_feature_194', 'rubert-base-cased-conversational_text_feature_195', 'rubert-base-cased-conversational_text_feature_196', 'rubert-base-cased-conversational_text_feature_197', 'rubert-base-cased-conversational_text_feature_198', 'rubert-base-cased-conversational_text_feature_199', 'rubert-base-cased-conversational_text_feature_200', 'rubert-base-cased-conversational_text_feature_201', 'rubert-base-cased-conversational_text_feature_202', 'rubert-base-cased-conversational_text_feature_203', 'rubert-base-cased-conversational_text_feature_204', 'rubert-base-cased-conversational_text_feature_205', 'rubert-base-cased-conversational_text_feature_206', 'rubert-base-cased-conversational_text_feature_207', 'rubert-base-cased-conversational_text_feature_208', 'rubert-base-cased-conversational_text_feature_209', 'rubert-base-cased-conversational_text_feature_210', 'rubert-base-cased-conversational_text_feature_211', 'rubert-base-cased-conversational_text_feature_212', 'rubert-base-cased-conversational_text_feature_213', 'rubert-base-cased-conversational_text_feature_214', 'rubert-base-cased-conversational_text_feature_215', 'rubert-base-cased-conversational_text_feature_216', 'rubert-base-cased-conversational_text_feature_217', 'rubert-base-cased-conversational_text_feature_218', 'rubert-base-cased-conversational_text_feature_219', 'rubert-base-cased-conversational_text_feature_220', 'rubert-base-cased-conversational_text_feature_221', 'rubert-base-cased-conversational_text_feature_222', 'rubert-base-cased-conversational_text_feature_223', 'rubert-base-cased-conversational_text_feature_224', 'rubert-base-cased-conversational_text_feature_225', 'rubert-base-cased-conversational_text_feature_226', 'rubert-base-cased-conversational_text_feature_227', 'rubert-base-cased-conversational_text_feature_228', 'rubert-base-cased-conversational_text_feature_229', 'rubert-base-cased-conversational_text_feature_230', 'rubert-base-cased-conversational_text_feature_231', 'rubert-base-cased-conversational_text_feature_232', 'rubert-base-cased-conversational_text_feature_233', 'rubert-base-cased-conversational_text_feature_234', 'rubert-base-cased-conversational_text_feature_235', 'rubert-base-cased-conversational_text_feature_236', 'rubert-base-cased-conversational_text_feature_237', 'rubert-base-cased-conversational_text_feature_238', 'rubert-base-cased-conversational_text_feature_239', 'rubert-base-cased-conversational_text_feature_240', 'rubert-base-cased-conversational_text_feature_241', 'rubert-base-cased-conversational_text_feature_242', 'rubert-base-cased-conversational_text_feature_243', 'rubert-base-cased-conversational_text_feature_244', 'rubert-base-cased-conversational_text_feature_245', 'rubert-base-cased-conversational_text_feature_246', 'rubert-base-cased-conversational_text_feature_247', 'rubert-base-cased-conversational_text_feature_248', 'rubert-base-cased-conversational_text_feature_249', 'rubert-base-cased-conversational_text_feature_250', 'rubert-base-cased-conversational_text_feature_251', 'rubert-base-cased-conversational_text_feature_252', 'rubert-base-cased-conversational_text_feature_253', 'rubert-base-cased-conversational_text_feature_254', 'rubert-base-cased-conversational_text_feature_255', 'rubert-base-cased-conversational_text_feature_256', 'rubert-base-cased-conversational_text_feature_257', 'rubert-base-cased-conversational_text_feature_258', 'rubert-base-cased-conversational_text_feature_259', 'rubert-base-cased-conversational_text_feature_260', 'rubert-base-cased-conversational_text_feature_261', 'rubert-base-cased-conversational_text_feature_262', 'rubert-base-cased-conversational_text_feature_263', 'rubert-base-cased-conversational_text_feature_264', 'rubert-base-cased-conversational_text_feature_265', 'rubert-base-cased-conversational_text_feature_266', 'rubert-base-cased-conversational_text_feature_267', 'rubert-base-cased-conversational_text_feature_268', 'rubert-base-cased-conversational_text_feature_269', 'rubert-base-cased-conversational_text_feature_270', 'rubert-base-cased-conversational_text_feature_271', 'rubert-base-cased-conversational_text_feature_272', 'rubert-base-cased-conversational_text_feature_273', 'rubert-base-cased-conversational_text_feature_274', 'rubert-base-cased-conversational_text_feature_275', 'rubert-base-cased-conversational_text_feature_276', 'rubert-base-cased-conversational_text_feature_277', 'rubert-base-cased-conversational_text_feature_278', 'rubert-base-cased-conversational_text_feature_279', 'rubert-base-cased-conversational_text_feature_280', 'rubert-base-cased-conversational_text_feature_281', 'rubert-base-cased-conversational_text_feature_282', 'rubert-base-cased-conversational_text_feature_283', 'rubert-base-cased-conversational_text_feature_284', 'rubert-base-cased-conversational_text_feature_285', 'rubert-base-cased-conversational_text_feature_286', 'rubert-base-cased-conversational_text_feature_287', 'rubert-base-cased-conversational_text_feature_288', 'rubert-base-cased-conversational_text_feature_289', 'rubert-base-cased-conversational_text_feature_290', 'rubert-base-cased-conversational_text_feature_291', 'rubert-base-cased-conversational_text_feature_292', 'rubert-base-cased-conversational_text_feature_293', 'rubert-base-cased-conversational_text_feature_294', 'rubert-base-cased-conversational_text_feature_295', 'rubert-base-cased-conversational_text_feature_296', 'rubert-base-cased-conversational_text_feature_297', 'rubert-base-cased-conversational_text_feature_298', 'rubert-base-cased-conversational_text_feature_299', 'rubert-base-cased-conversational_text_feature_300', 'rubert-base-cased-conversational_text_feature_301', 'rubert-base-cased-conversational_text_feature_302', 'rubert-base-cased-conversational_text_feature_303', 'rubert-base-cased-conversational_text_feature_304', 'rubert-base-cased-conversational_text_feature_305', 'rubert-base-cased-conversational_text_feature_306', 'rubert-base-cased-conversational_text_feature_307', 'rubert-base-cased-conversational_text_feature_308', 'rubert-base-cased-conversational_text_feature_309', 'rubert-base-cased-conversational_text_feature_310', 'rubert-base-cased-conversational_text_feature_311', 'rubert-base-cased-conversational_text_feature_312', 'rubert-base-cased-conversational_text_feature_313', 'rubert-base-cased-conversational_text_feature_314', 'rubert-base-cased-conversational_text_feature_315', 'rubert-base-cased-conversational_text_feature_316', 'rubert-base-cased-conversational_text_feature_317', 'rubert-base-cased-conversational_text_feature_318', 'rubert-base-cased-conversational_text_feature_319', 'rubert-base-cased-conversational_text_feature_320', 'rubert-base-cased-conversational_text_feature_321', 'rubert-base-cased-conversational_text_feature_322', 'rubert-base-cased-conversational_text_feature_323', 'rubert-base-cased-conversational_text_feature_324', 'rubert-base-cased-conversational_text_feature_325', 'rubert-base-cased-conversational_text_feature_326', 'rubert-base-cased-conversational_text_feature_327', 'rubert-base-cased-conversational_text_feature_328', 'rubert-base-cased-conversational_text_feature_329', 'rubert-base-cased-conversational_text_feature_330', 'rubert-base-cased-conversational_text_feature_331', 'rubert-base-cased-conversational_text_feature_332', 'rubert-base-cased-conversational_text_feature_333', 'rubert-base-cased-conversational_text_feature_334', 'rubert-base-cased-conversational_text_feature_335', 'rubert-base-cased-conversational_text_feature_336', 'rubert-base-cased-conversational_text_feature_337', 'rubert-base-cased-conversational_text_feature_338', 'rubert-base-cased-conversational_text_feature_339', 'rubert-base-cased-conversational_text_feature_340', 'rubert-base-cased-conversational_text_feature_341', 'rubert-base-cased-conversational_text_feature_342', 'rubert-base-cased-conversational_text_feature_343', 'rubert-base-cased-conversational_text_feature_344', 'rubert-base-cased-conversational_text_feature_345', 'rubert-base-cased-conversational_text_feature_346', 'rubert-base-cased-conversational_text_feature_347', 'rubert-base-cased-conversational_text_feature_348', 'rubert-base-cased-conversational_text_feature_349', 'rubert-base-cased-conversational_text_feature_350', 'rubert-base-cased-conversational_text_feature_351', 'rubert-base-cased-conversational_text_feature_352', 'rubert-base-cased-conversational_text_feature_353', 'rubert-base-cased-conversational_text_feature_354', 'rubert-base-cased-conversational_text_feature_355', 'rubert-base-cased-conversational_text_feature_356', 'rubert-base-cased-conversational_text_feature_357', 'rubert-base-cased-conversational_text_feature_358', 'rubert-base-cased-conversational_text_feature_359', 'rubert-base-cased-conversational_text_feature_360', 'rubert-base-cased-conversational_text_feature_361', 'rubert-base-cased-conversational_text_feature_362', 'rubert-base-cased-conversational_text_feature_363', 'rubert-base-cased-conversational_text_feature_364', 'rubert-base-cased-conversational_text_feature_365', 'rubert-base-cased-conversational_text_feature_366', 'rubert-base-cased-conversational_text_feature_367', 'rubert-base-cased-conversational_text_feature_368', 'rubert-base-cased-conversational_text_feature_369', 'rubert-base-cased-conversational_text_feature_370', 'rubert-base-cased-conversational_text_feature_371', 'rubert-base-cased-conversational_text_feature_372', 'rubert-base-cased-conversational_text_feature_373', 'rubert-base-cased-conversational_text_feature_374', 'rubert-base-cased-conversational_text_feature_375', 'rubert-base-cased-conversational_text_feature_376', 'rubert-base-cased-conversational_text_feature_377', 'rubert-base-cased-conversational_text_feature_378', 'rubert-base-cased-conversational_text_feature_379', 'rubert-base-cased-conversational_text_feature_380', 'rubert-base-cased-conversational_text_feature_381', 'rubert-base-cased-conversational_text_feature_382', 'rubert-base-cased-conversational_text_feature_383', 'rubert-base-cased-conversational_text_feature_384', 'rubert-base-cased-conversational_text_feature_385', 'rubert-base-cased-conversational_text_feature_386', 'rubert-base-cased-conversational_text_feature_387', 'rubert-base-cased-conversational_text_feature_388', 'rubert-base-cased-conversational_text_feature_389', 'rubert-base-cased-conversational_text_feature_390', 'rubert-base-cased-conversational_text_feature_391', 'rubert-base-cased-conversational_text_feature_392', 'rubert-base-cased-conversational_text_feature_393', 'rubert-base-cased-conversational_text_feature_394', 'rubert-base-cased-conversational_text_feature_395', 'rubert-base-cased-conversational_text_feature_396', 'rubert-base-cased-conversational_text_feature_397', 'rubert-base-cased-conversational_text_feature_398', 'rubert-base-cased-conversational_text_feature_399', 'rubert-base-cased-conversational_text_feature_400', 'rubert-base-cased-conversational_text_feature_401', 'rubert-base-cased-conversational_text_feature_402', 'rubert-base-cased-conversational_text_feature_403', 'rubert-base-cased-conversational_text_feature_404', 'rubert-base-cased-conversational_text_feature_405', 'rubert-base-cased-conversational_text_feature_406', 'rubert-base-cased-conversational_text_feature_407', 'rubert-base-cased-conversational_text_feature_408', 'rubert-base-cased-conversational_text_feature_409', 'rubert-base-cased-conversational_text_feature_410', 'rubert-base-cased-conversational_text_feature_411', 'rubert-base-cased-conversational_text_feature_412', 'rubert-base-cased-conversational_text_feature_413', 'rubert-base-cased-conversational_text_feature_414', 'rubert-base-cased-conversational_text_feature_415', 'rubert-base-cased-conversational_text_feature_416', 'rubert-base-cased-conversational_text_feature_417', 'rubert-base-cased-conversational_text_feature_418', 'rubert-base-cased-conversational_text_feature_419', 'rubert-base-cased-conversational_text_feature_420', 'rubert-base-cased-conversational_text_feature_421', 'rubert-base-cased-conversational_text_feature_422', 'rubert-base-cased-conversational_text_feature_423', 'rubert-base-cased-conversational_text_feature_424', 'rubert-base-cased-conversational_text_feature_425', 'rubert-base-cased-conversational_text_feature_426', 'rubert-base-cased-conversational_text_feature_427', 'rubert-base-cased-conversational_text_feature_428', 'rubert-base-cased-conversational_text_feature_429', 'rubert-base-cased-conversational_text_feature_430', 'rubert-base-cased-conversational_text_feature_431', 'rubert-base-cased-conversational_text_feature_432', 'rubert-base-cased-conversational_text_feature_433', 'rubert-base-cased-conversational_text_feature_434', 'rubert-base-cased-conversational_text_feature_435', 'rubert-base-cased-conversational_text_feature_436', 'rubert-base-cased-conversational_text_feature_437', 'rubert-base-cased-conversational_text_feature_438', 'rubert-base-cased-conversational_text_feature_439', 'rubert-base-cased-conversational_text_feature_440', 'rubert-base-cased-conversational_text_feature_441', 'rubert-base-cased-conversational_text_feature_442', 'rubert-base-cased-conversational_text_feature_443', 'rubert-base-cased-conversational_text_feature_444', 'rubert-base-cased-conversational_text_feature_445', 'rubert-base-cased-conversational_text_feature_446', 'rubert-base-cased-conversational_text_feature_447', 'rubert-base-cased-conversational_text_feature_448', 'rubert-base-cased-conversational_text_feature_449', 'rubert-base-cased-conversational_text_feature_450', 'rubert-base-cased-conversational_text_feature_451', 'rubert-base-cased-conversational_text_feature_452', 'rubert-base-cased-conversational_text_feature_453', 'rubert-base-cased-conversational_text_feature_454', 'rubert-base-cased-conversational_text_feature_455', 'rubert-base-cased-conversational_text_feature_456', 'rubert-base-cased-conversational_text_feature_457', 'rubert-base-cased-conversational_text_feature_458', 'rubert-base-cased-conversational_text_feature_459', 'rubert-base-cased-conversational_text_feature_460', 'rubert-base-cased-conversational_text_feature_461', 'rubert-base-cased-conversational_text_feature_462', 'rubert-base-cased-conversational_text_feature_463', 'rubert-base-cased-conversational_text_feature_464', 'rubert-base-cased-conversational_text_feature_465', 'rubert-base-cased-conversational_text_feature_466', 'rubert-base-cased-conversational_text_feature_467', 'rubert-base-cased-conversational_text_feature_468', 'rubert-base-cased-conversational_text_feature_469', 'rubert-base-cased-conversational_text_feature_470', 'rubert-base-cased-conversational_text_feature_471', 'rubert-base-cased-conversational_text_feature_472', 'rubert-base-cased-conversational_text_feature_473', 'rubert-base-cased-conversational_text_feature_474', 'rubert-base-cased-conversational_text_feature_475', 'rubert-base-cased-conversational_text_feature_476', 'rubert-base-cased-conversational_text_feature_477', 'rubert-base-cased-conversational_text_feature_478', 'rubert-base-cased-conversational_text_feature_479', 'rubert-base-cased-conversational_text_feature_480', 'rubert-base-cased-conversational_text_feature_481', 'rubert-base-cased-conversational_text_feature_482', 'rubert-base-cased-conversational_text_feature_483', 'rubert-base-cased-conversational_text_feature_484', 'rubert-base-cased-conversational_text_feature_485', 'rubert-base-cased-conversational_text_feature_486', 'rubert-base-cased-conversational_text_feature_487', 'rubert-base-cased-conversational_text_feature_488', 'rubert-base-cased-conversational_text_feature_489', 'rubert-base-cased-conversational_text_feature_490', 'rubert-base-cased-conversational_text_feature_491', 'rubert-base-cased-conversational_text_feature_492', 'rubert-base-cased-conversational_text_feature_493', 'rubert-base-cased-conversational_text_feature_494', 'rubert-base-cased-conversational_text_feature_495', 'rubert-base-cased-conversational_text_feature_496', 'rubert-base-cased-conversational_text_feature_497', 'rubert-base-cased-conversational_text_feature_498', 'rubert-base-cased-conversational_text_feature_499', 'rubert-base-cased-conversational_text_feature_500', 'rubert-base-cased-conversational_text_feature_501', 'rubert-base-cased-conversational_text_feature_502', 'rubert-base-cased-conversational_text_feature_503', 'rubert-base-cased-conversational_text_feature_504', 'rubert-base-cased-conversational_text_feature_505', 'rubert-base-cased-conversational_text_feature_506', 'rubert-base-cased-conversational_text_feature_507', 'rubert-base-cased-conversational_text_feature_508', 'rubert-base-cased-conversational_text_feature_509', 'rubert-base-cased-conversational_text_feature_510', 'rubert-base-cased-conversational_text_feature_511', 'rubert-base-cased-conversational_text_feature_512', 'rubert-base-cased-conversational_text_feature_513', 'rubert-base-cased-conversational_text_feature_514', 'rubert-base-cased-conversational_text_feature_515', 'rubert-base-cased-conversational_text_feature_516', 'rubert-base-cased-conversational_text_feature_517', 'rubert-base-cased-conversational_text_feature_518', 'rubert-base-cased-conversational_text_feature_519', 'rubert-base-cased-conversational_text_feature_520', 'rubert-base-cased-conversational_text_feature_521', 'rubert-base-cased-conversational_text_feature_522', 'rubert-base-cased-conversational_text_feature_523', 'rubert-base-cased-conversational_text_feature_524', 'rubert-base-cased-conversational_text_feature_525', 'rubert-base-cased-conversational_text_feature_526', 'rubert-base-cased-conversational_text_feature_527', 'rubert-base-cased-conversational_text_feature_528', 'rubert-base-cased-conversational_text_feature_529', 'rubert-base-cased-conversational_text_feature_530', 'rubert-base-cased-conversational_text_feature_531', 'rubert-base-cased-conversational_text_feature_532', 'rubert-base-cased-conversational_text_feature_533', 'rubert-base-cased-conversational_text_feature_534', 'rubert-base-cased-conversational_text_feature_535', 'rubert-base-cased-conversational_text_feature_536', 'rubert-base-cased-conversational_text_feature_537', 'rubert-base-cased-conversational_text_feature_538', 'rubert-base-cased-conversational_text_feature_539', 'rubert-base-cased-conversational_text_feature_540', 'rubert-base-cased-conversational_text_feature_541', 'rubert-base-cased-conversational_text_feature_542', 'rubert-base-cased-conversational_text_feature_543', 'rubert-base-cased-conversational_text_feature_544', 'rubert-base-cased-conversational_text_feature_545', 'rubert-base-cased-conversational_text_feature_546', 'rubert-base-cased-conversational_text_feature_547', 'rubert-base-cased-conversational_text_feature_548', 'rubert-base-cased-conversational_text_feature_549', 'rubert-base-cased-conversational_text_feature_550', 'rubert-base-cased-conversational_text_feature_551', 'rubert-base-cased-conversational_text_feature_552', 'rubert-base-cased-conversational_text_feature_553', 'rubert-base-cased-conversational_text_feature_554', 'rubert-base-cased-conversational_text_feature_555', 'rubert-base-cased-conversational_text_feature_556', 'rubert-base-cased-conversational_text_feature_557', 'rubert-base-cased-conversational_text_feature_558', 'rubert-base-cased-conversational_text_feature_559', 'rubert-base-cased-conversational_text_feature_560', 'rubert-base-cased-conversational_text_feature_561', 'rubert-base-cased-conversational_text_feature_562', 'rubert-base-cased-conversational_text_feature_563', 'rubert-base-cased-conversational_text_feature_564', 'rubert-base-cased-conversational_text_feature_565', 'rubert-base-cased-conversational_text_feature_566', 'rubert-base-cased-conversational_text_feature_567', 'rubert-base-cased-conversational_text_feature_568', 'rubert-base-cased-conversational_text_feature_569', 'rubert-base-cased-conversational_text_feature_570', 'rubert-base-cased-conversational_text_feature_571', 'rubert-base-cased-conversational_text_feature_572', 'rubert-base-cased-conversational_text_feature_573', 'rubert-base-cased-conversational_text_feature_574', 'rubert-base-cased-conversational_text_feature_575', 'rubert-base-cased-conversational_text_feature_576', 'rubert-base-cased-conversational_text_feature_577', 'rubert-base-cased-conversational_text_feature_578', 'rubert-base-cased-conversational_text_feature_579', 'rubert-base-cased-conversational_text_feature_580', 'rubert-base-cased-conversational_text_feature_581', 'rubert-base-cased-conversational_text_feature_582', 'rubert-base-cased-conversational_text_feature_583', 'rubert-base-cased-conversational_text_feature_584', 'rubert-base-cased-conversational_text_feature_585', 'rubert-base-cased-conversational_text_feature_586', 'rubert-base-cased-conversational_text_feature_587', 'rubert-base-cased-conversational_text_feature_588', 'rubert-base-cased-conversational_text_feature_589', 'rubert-base-cased-conversational_text_feature_590', 'rubert-base-cased-conversational_text_feature_591', 'rubert-base-cased-conversational_text_feature_592', 'rubert-base-cased-conversational_text_feature_593', 'rubert-base-cased-conversational_text_feature_594', 'rubert-base-cased-conversational_text_feature_595', 'rubert-base-cased-conversational_text_feature_596', 'rubert-base-cased-conversational_text_feature_597', 'rubert-base-cased-conversational_text_feature_598', 'rubert-base-cased-conversational_text_feature_599', 'rubert-base-cased-conversational_text_feature_600', 'rubert-base-cased-conversational_text_feature_601', 'rubert-base-cased-conversational_text_feature_602', 'rubert-base-cased-conversational_text_feature_603', 'rubert-base-cased-conversational_text_feature_604', 'rubert-base-cased-conversational_text_feature_605', 'rubert-base-cased-conversational_text_feature_606', 'rubert-base-cased-conversational_text_feature_607', 'rubert-base-cased-conversational_text_feature_608', 'rubert-base-cased-conversational_text_feature_609', 'rubert-base-cased-conversational_text_feature_610', 'rubert-base-cased-conversational_text_feature_611', 'rubert-base-cased-conversational_text_feature_612', 'rubert-base-cased-conversational_text_feature_613', 'rubert-base-cased-conversational_text_feature_614', 'rubert-base-cased-conversational_text_feature_615', 'rubert-base-cased-conversational_text_feature_616', 'rubert-base-cased-conversational_text_feature_617', 'rubert-base-cased-conversational_text_feature_618', 'rubert-base-cased-conversational_text_feature_619', 'rubert-base-cased-conversational_text_feature_620', 'rubert-base-cased-conversational_text_feature_621', 'rubert-base-cased-conversational_text_feature_622', 'rubert-base-cased-conversational_text_feature_623', 'rubert-base-cased-conversational_text_feature_624', 'rubert-base-cased-conversational_text_feature_625', 'rubert-base-cased-conversational_text_feature_626', 'rubert-base-cased-conversational_text_feature_627', 'rubert-base-cased-conversational_text_feature_628', 'rubert-base-cased-conversational_text_feature_629', 'rubert-base-cased-conversational_text_feature_630', 'rubert-base-cased-conversational_text_feature_631', 'rubert-base-cased-conversational_text_feature_632', 'rubert-base-cased-conversational_text_feature_633', 'rubert-base-cased-conversational_text_feature_634', 'rubert-base-cased-conversational_text_feature_635', 'rubert-base-cased-conversational_text_feature_636', 'rubert-base-cased-conversational_text_feature_637', 'rubert-base-cased-conversational_text_feature_638', 'rubert-base-cased-conversational_text_feature_639', 'rubert-base-cased-conversational_text_feature_640', 'rubert-base-cased-conversational_text_feature_641', 'rubert-base-cased-conversational_text_feature_642', 'rubert-base-cased-conversational_text_feature_643', 'rubert-base-cased-conversational_text_feature_644', 'rubert-base-cased-conversational_text_feature_645', 'rubert-base-cased-conversational_text_feature_646', 'rubert-base-cased-conversational_text_feature_647', 'rubert-base-cased-conversational_text_feature_648', 'rubert-base-cased-conversational_text_feature_649', 'rubert-base-cased-conversational_text_feature_650', 'rubert-base-cased-conversational_text_feature_651', 'rubert-base-cased-conversational_text_feature_652', 'rubert-base-cased-conversational_text_feature_653', 'rubert-base-cased-conversational_text_feature_654', 'rubert-base-cased-conversational_text_feature_655', 'rubert-base-cased-conversational_text_feature_656', 'rubert-base-cased-conversational_text_feature_657', 'rubert-base-cased-conversational_text_feature_658', 'rubert-base-cased-conversational_text_feature_659', 'rubert-base-cased-conversational_text_feature_660', 'rubert-base-cased-conversational_text_feature_661', 'rubert-base-cased-conversational_text_feature_662', 'rubert-base-cased-conversational_text_feature_663', 'rubert-base-cased-conversational_text_feature_664', 'rubert-base-cased-conversational_text_feature_665', 'rubert-base-cased-conversational_text_feature_666', 'rubert-base-cased-conversational_text_feature_667', 'rubert-base-cased-conversational_text_feature_668', 'rubert-base-cased-conversational_text_feature_669', 'rubert-base-cased-conversational_text_feature_670', 'rubert-base-cased-conversational_text_feature_671', 'rubert-base-cased-conversational_text_feature_672', 'rubert-base-cased-conversational_text_feature_673', 'rubert-base-cased-conversational_text_feature_674', 'rubert-base-cased-conversational_text_feature_675', 'rubert-base-cased-conversational_text_feature_676', 'rubert-base-cased-conversational_text_feature_677', 'rubert-base-cased-conversational_text_feature_678', 'rubert-base-cased-conversational_text_feature_679', 'rubert-base-cased-conversational_text_feature_680', 'rubert-base-cased-conversational_text_feature_681', 'rubert-base-cased-conversational_text_feature_682', 'rubert-base-cased-conversational_text_feature_683', 'rubert-base-cased-conversational_text_feature_684', 'rubert-base-cased-conversational_text_feature_685', 'rubert-base-cased-conversational_text_feature_686', 'rubert-base-cased-conversational_text_feature_687', 'rubert-base-cased-conversational_text_feature_688', 'rubert-base-cased-conversational_text_feature_689', 'rubert-base-cased-conversational_text_feature_690', 'rubert-base-cased-conversational_text_feature_691', 'rubert-base-cased-conversational_text_feature_692', 'rubert-base-cased-conversational_text_feature_693', 'rubert-base-cased-conversational_text_feature_694', 'rubert-base-cased-conversational_text_feature_695', 'rubert-base-cased-conversational_text_feature_696', 'rubert-base-cased-conversational_text_feature_697', 'rubert-base-cased-conversational_text_feature_698', 'rubert-base-cased-conversational_text_feature_699', 'rubert-base-cased-conversational_text_feature_700', 'rubert-base-cased-conversational_text_feature_701', 'rubert-base-cased-conversational_text_feature_702', 'rubert-base-cased-conversational_text_feature_703', 'rubert-base-cased-conversational_text_feature_704', 'rubert-base-cased-conversational_text_feature_705', 'rubert-base-cased-conversational_text_feature_706', 'rubert-base-cased-conversational_text_feature_707', 'rubert-base-cased-conversational_text_feature_708', 'rubert-base-cased-conversational_text_feature_709', 'rubert-base-cased-conversational_text_feature_710', 'rubert-base-cased-conversational_text_feature_711', 'rubert-base-cased-conversational_text_feature_712', 'rubert-base-cased-conversational_text_feature_713', 'rubert-base-cased-conversational_text_feature_714', 'rubert-base-cased-conversational_text_feature_715', 'rubert-base-cased-conversational_text_feature_716', 'rubert-base-cased-conversational_text_feature_717', 'rubert-base-cased-conversational_text_feature_718', 'rubert-base-cased-conversational_text_feature_719', 'rubert-base-cased-conversational_text_feature_720', 'rubert-base-cased-conversational_text_feature_721', 'rubert-base-cased-conversational_text_feature_722', 'rubert-base-cased-conversational_text_feature_723', 'rubert-base-cased-conversational_text_feature_724', 'rubert-base-cased-conversational_text_feature_725', 'rubert-base-cased-conversational_text_feature_726', 'rubert-base-cased-conversational_text_feature_727', 'rubert-base-cased-conversational_text_feature_728', 'rubert-base-cased-conversational_text_feature_729', 'rubert-base-cased-conversational_text_feature_730', 'rubert-base-cased-conversational_text_feature_731', 'rubert-base-cased-conversational_text_feature_732', 'rubert-base-cased-conversational_text_feature_733', 'rubert-base-cased-conversational_text_feature_734', 'rubert-base-cased-conversational_text_feature_735', 'rubert-base-cased-conversational_text_feature_736', 'rubert-base-cased-conversational_text_feature_737', 'rubert-base-cased-conversational_text_feature_738', 'rubert-base-cased-conversational_text_feature_739', 'rubert-base-cased-conversational_text_feature_740', 'rubert-base-cased-conversational_text_feature_741', 'rubert-base-cased-conversational_text_feature_742', 'rubert-base-cased-conversational_text_feature_743', 'rubert-base-cased-conversational_text_feature_744', 'rubert-base-cased-conversational_text_feature_745', 'rubert-base-cased-conversational_text_feature_746', 'rubert-base-cased-conversational_text_feature_747', 'rubert-base-cased-conversational_text_feature_748', 'rubert-base-cased-conversational_text_feature_749', 'rubert-base-cased-conversational_text_feature_750', 'rubert-base-cased-conversational_text_feature_751', 'rubert-base-cased-conversational_text_feature_752', 'rubert-base-cased-conversational_text_feature_753', 'rubert-base-cased-conversational_text_feature_754', 'rubert-base-cased-conversational_text_feature_755', 'rubert-base-cased-conversational_text_feature_756', 'rubert-base-cased-conversational_text_feature_757', 'rubert-base-cased-conversational_text_feature_758', 'rubert-base-cased-conversational_text_feature_759', 'rubert-base-cased-conversational_text_feature_760', 'rubert-base-cased-conversational_text_feature_761', 'rubert-base-cased-conversational_text_feature_762', 'rubert-base-cased-conversational_text_feature_763', 'rubert-base-cased-conversational_text_feature_764', 'rubert-base-cased-conversational_text_feature_765', 'rubert-base-cased-conversational_text_feature_766', 'rubert-base-cased-conversational_text_feature_767', 'labse_text_feature_0', 'labse_text_feature_1', 'labse_text_feature_2', 'labse_text_feature_3', 'labse_text_feature_4', 'labse_text_feature_5', 'labse_text_feature_6', 'labse_text_feature_7', 'labse_text_feature_8', 'labse_text_feature_9', 'labse_text_feature_10', 'labse_text_feature_11', 'labse_text_feature_12', 'labse_text_feature_13', 'labse_text_feature_14', 'labse_text_feature_15', 'labse_text_feature_16', 'labse_text_feature_17', 'labse_text_feature_18', 'labse_text_feature_19', 'labse_text_feature_20', 'labse_text_feature_21', 'labse_text_feature_22', 'labse_text_feature_23', 'labse_text_feature_24', 'labse_text_feature_25', 'labse_text_feature_26', 'labse_text_feature_27', 'labse_text_feature_28', 'labse_text_feature_29', 'labse_text_feature_30', 'labse_text_feature_31', 'labse_text_feature_32', 'labse_text_feature_33', 'labse_text_feature_34', 'labse_text_feature_35', 'labse_text_feature_36', 'labse_text_feature_37', 'labse_text_feature_38', 'labse_text_feature_39', 'labse_text_feature_40', 'labse_text_feature_41', 'labse_text_feature_42', 'labse_text_feature_43', 'labse_text_feature_44', 'labse_text_feature_45', 'labse_text_feature_46', 'labse_text_feature_47', 'labse_text_feature_48', 'labse_text_feature_49', 'labse_text_feature_50', 'labse_text_feature_51', 'labse_text_feature_52', 'labse_text_feature_53', 'labse_text_feature_54', 'labse_text_feature_55', 'labse_text_feature_56', 'labse_text_feature_57', 'labse_text_feature_58', 'labse_text_feature_59', 'labse_text_feature_60', 'labse_text_feature_61', 'labse_text_feature_62', 'labse_text_feature_63', 'labse_text_feature_64', 'labse_text_feature_65', 'labse_text_feature_66', 'labse_text_feature_67', 'labse_text_feature_68', 'labse_text_feature_69', 'labse_text_feature_70', 'labse_text_feature_71', 'labse_text_feature_72', 'labse_text_feature_73', 'labse_text_feature_74', 'labse_text_feature_75', 'labse_text_feature_76', 'labse_text_feature_77', 'labse_text_feature_78', 'labse_text_feature_79', 'labse_text_feature_80', 'labse_text_feature_81', 'labse_text_feature_82', 'labse_text_feature_83', 'labse_text_feature_84', 'labse_text_feature_85', 'labse_text_feature_86', 'labse_text_feature_87', 'labse_text_feature_88', 'labse_text_feature_89', 'labse_text_feature_90', 'labse_text_feature_91', 'labse_text_feature_92', 'labse_text_feature_93', 'labse_text_feature_94', 'labse_text_feature_95', 'labse_text_feature_96', 'labse_text_feature_97', 'labse_text_feature_98', 'labse_text_feature_99', 'labse_text_feature_100', 'labse_text_feature_101', 'labse_text_feature_102', 'labse_text_feature_103', 'labse_text_feature_104', 'labse_text_feature_105', 'labse_text_feature_106', 'labse_text_feature_107', 'labse_text_feature_108', 'labse_text_feature_109', 'labse_text_feature_110', 'labse_text_feature_111', 'labse_text_feature_112', 'labse_text_feature_113', 'labse_text_feature_114', 'labse_text_feature_115', 'labse_text_feature_116', 'labse_text_feature_117', 'labse_text_feature_118', 'labse_text_feature_119', 'labse_text_feature_120', 'labse_text_feature_121', 'labse_text_feature_122', 'labse_text_feature_123', 'labse_text_feature_124', 'labse_text_feature_125', 'labse_text_feature_126', 'labse_text_feature_127', 'labse_text_feature_128', 'labse_text_feature_129', 'labse_text_feature_130', 'labse_text_feature_131', 'labse_text_feature_132', 'labse_text_feature_133', 'labse_text_feature_134', 'labse_text_feature_135', 'labse_text_feature_136', 'labse_text_feature_137', 'labse_text_feature_138', 'labse_text_feature_139', 'labse_text_feature_140', 'labse_text_feature_141', 'labse_text_feature_142', 'labse_text_feature_143', 'labse_text_feature_144', 'labse_text_feature_145', 'labse_text_feature_146', 'labse_text_feature_147', 'labse_text_feature_148', 'labse_text_feature_149', 'labse_text_feature_150', 'labse_text_feature_151', 'labse_text_feature_152', 'labse_text_feature_153', 'labse_text_feature_154', 'labse_text_feature_155', 'labse_text_feature_156', 'labse_text_feature_157', 'labse_text_feature_158', 'labse_text_feature_159', 'labse_text_feature_160', 'labse_text_feature_161', 'labse_text_feature_162', 'labse_text_feature_163', 'labse_text_feature_164', 'labse_text_feature_165', 'labse_text_feature_166', 'labse_text_feature_167', 'labse_text_feature_168', 'labse_text_feature_169', 'labse_text_feature_170', 'labse_text_feature_171', 'labse_text_feature_172', 'labse_text_feature_173', 'labse_text_feature_174', 'labse_text_feature_175', 'labse_text_feature_176', 'labse_text_feature_177', 'labse_text_feature_178', 'labse_text_feature_179', 'labse_text_feature_180', 'labse_text_feature_181', 'labse_text_feature_182', 'labse_text_feature_183', 'labse_text_feature_184', 'labse_text_feature_185', 'labse_text_feature_186', 'labse_text_feature_187', 'labse_text_feature_188', 'labse_text_feature_189', 'labse_text_feature_190', 'labse_text_feature_191', 'labse_text_feature_192', 'labse_text_feature_193', 'labse_text_feature_194', 'labse_text_feature_195', 'labse_text_feature_196', 'labse_text_feature_197', 'labse_text_feature_198', 'labse_text_feature_199', 'labse_text_feature_200', 'labse_text_feature_201', 'labse_text_feature_202', 'labse_text_feature_203', 'labse_text_feature_204', 'labse_text_feature_205', 'labse_text_feature_206', 'labse_text_feature_207', 'labse_text_feature_208', 'labse_text_feature_209', 'labse_text_feature_210', 'labse_text_feature_211', 'labse_text_feature_212', 'labse_text_feature_213', 'labse_text_feature_214', 'labse_text_feature_215', 'labse_text_feature_216', 'labse_text_feature_217', 'labse_text_feature_218', 'labse_text_feature_219', 'labse_text_feature_220', 'labse_text_feature_221', 'labse_text_feature_222', 'labse_text_feature_223', 'labse_text_feature_224', 'labse_text_feature_225', 'labse_text_feature_226', 'labse_text_feature_227', 'labse_text_feature_228', 'labse_text_feature_229', 'labse_text_feature_230', 'labse_text_feature_231', 'labse_text_feature_232', 'labse_text_feature_233', 'labse_text_feature_234', 'labse_text_feature_235', 'labse_text_feature_236', 'labse_text_feature_237', 'labse_text_feature_238', 'labse_text_feature_239', 'labse_text_feature_240', 'labse_text_feature_241', 'labse_text_feature_242', 'labse_text_feature_243', 'labse_text_feature_244', 'labse_text_feature_245', 'labse_text_feature_246', 'labse_text_feature_247', 'labse_text_feature_248', 'labse_text_feature_249', 'labse_text_feature_250', 'labse_text_feature_251', 'labse_text_feature_252', 'labse_text_feature_253', 'labse_text_feature_254', 'labse_text_feature_255', 'labse_text_feature_256', 'labse_text_feature_257', 'labse_text_feature_258', 'labse_text_feature_259', 'labse_text_feature_260', 'labse_text_feature_261', 'labse_text_feature_262', 'labse_text_feature_263', 'labse_text_feature_264', 'labse_text_feature_265', 'labse_text_feature_266', 'labse_text_feature_267', 'labse_text_feature_268', 'labse_text_feature_269', 'labse_text_feature_270', 'labse_text_feature_271', 'labse_text_feature_272', 'labse_text_feature_273', 'labse_text_feature_274', 'labse_text_feature_275', 'labse_text_feature_276', 'labse_text_feature_277', 'labse_text_feature_278', 'labse_text_feature_279', 'labse_text_feature_280', 'labse_text_feature_281', 'labse_text_feature_282', 'labse_text_feature_283', 'labse_text_feature_284', 'labse_text_feature_285', 'labse_text_feature_286', 'labse_text_feature_287', 'labse_text_feature_288', 'labse_text_feature_289', 'labse_text_feature_290', 'labse_text_feature_291', 'labse_text_feature_292', 'labse_text_feature_293', 'labse_text_feature_294', 'labse_text_feature_295', 'labse_text_feature_296', 'labse_text_feature_297', 'labse_text_feature_298', 'labse_text_feature_299', 'labse_text_feature_300', 'labse_text_feature_301', 'labse_text_feature_302', 'labse_text_feature_303', 'labse_text_feature_304', 'labse_text_feature_305', 'labse_text_feature_306', 'labse_text_feature_307', 'labse_text_feature_308', 'labse_text_feature_309', 'labse_text_feature_310', 'labse_text_feature_311', 'labse_text_feature_312', 'labse_text_feature_313', 'labse_text_feature_314', 'labse_text_feature_315', 'labse_text_feature_316', 'labse_text_feature_317', 'labse_text_feature_318', 'labse_text_feature_319', 'labse_text_feature_320', 'labse_text_feature_321', 'labse_text_feature_322', 'labse_text_feature_323', 'labse_text_feature_324', 'labse_text_feature_325', 'labse_text_feature_326', 'labse_text_feature_327', 'labse_text_feature_328', 'labse_text_feature_329', 'labse_text_feature_330', 'labse_text_feature_331', 'labse_text_feature_332', 'labse_text_feature_333', 'labse_text_feature_334', 'labse_text_feature_335', 'labse_text_feature_336', 'labse_text_feature_337', 'labse_text_feature_338', 'labse_text_feature_339', 'labse_text_feature_340', 'labse_text_feature_341', 'labse_text_feature_342', 'labse_text_feature_343', 'labse_text_feature_344', 'labse_text_feature_345', 'labse_text_feature_346', 'labse_text_feature_347', 'labse_text_feature_348', 'labse_text_feature_349', 'labse_text_feature_350', 'labse_text_feature_351', 'labse_text_feature_352', 'labse_text_feature_353', 'labse_text_feature_354', 'labse_text_feature_355', 'labse_text_feature_356', 'labse_text_feature_357', 'labse_text_feature_358', 'labse_text_feature_359', 'labse_text_feature_360', 'labse_text_feature_361', 'labse_text_feature_362', 'labse_text_feature_363', 'labse_text_feature_364', 'labse_text_feature_365', 'labse_text_feature_366', 'labse_text_feature_367', 'labse_text_feature_368', 'labse_text_feature_369', 'labse_text_feature_370', 'labse_text_feature_371', 'labse_text_feature_372', 'labse_text_feature_373', 'labse_text_feature_374', 'labse_text_feature_375', 'labse_text_feature_376', 'labse_text_feature_377', 'labse_text_feature_378', 'labse_text_feature_379', 'labse_text_feature_380', 'labse_text_feature_381', 'labse_text_feature_382', 'labse_text_feature_383', 'labse_text_feature_384', 'labse_text_feature_385', 'labse_text_feature_386', 'labse_text_feature_387', 'labse_text_feature_388', 'labse_text_feature_389', 'labse_text_feature_390', 'labse_text_feature_391', 'labse_text_feature_392', 'labse_text_feature_393', 'labse_text_feature_394', 'labse_text_feature_395', 'labse_text_feature_396', 'labse_text_feature_397', 'labse_text_feature_398', 'labse_text_feature_399', 'labse_text_feature_400', 'labse_text_feature_401', 'labse_text_feature_402', 'labse_text_feature_403', 'labse_text_feature_404', 'labse_text_feature_405', 'labse_text_feature_406', 'labse_text_feature_407', 'labse_text_feature_408', 'labse_text_feature_409', 'labse_text_feature_410', 'labse_text_feature_411', 'labse_text_feature_412', 'labse_text_feature_413', 'labse_text_feature_414', 'labse_text_feature_415', 'labse_text_feature_416', 'labse_text_feature_417', 'labse_text_feature_418', 'labse_text_feature_419', 'labse_text_feature_420', 'labse_text_feature_421', 'labse_text_feature_422', 'labse_text_feature_423', 'labse_text_feature_424', 'labse_text_feature_425', 'labse_text_feature_426', 'labse_text_feature_427', 'labse_text_feature_428', 'labse_text_feature_429', 'labse_text_feature_430', 'labse_text_feature_431', 'labse_text_feature_432', 'labse_text_feature_433', 'labse_text_feature_434', 'labse_text_feature_435', 'labse_text_feature_436', 'labse_text_feature_437', 'labse_text_feature_438', 'labse_text_feature_439', 'labse_text_feature_440', 'labse_text_feature_441', 'labse_text_feature_442', 'labse_text_feature_443', 'labse_text_feature_444', 'labse_text_feature_445', 'labse_text_feature_446', 'labse_text_feature_447', 'labse_text_feature_448', 'labse_text_feature_449', 'labse_text_feature_450', 'labse_text_feature_451', 'labse_text_feature_452', 'labse_text_feature_453', 'labse_text_feature_454', 'labse_text_feature_455', 'labse_text_feature_456', 'labse_text_feature_457', 'labse_text_feature_458', 'labse_text_feature_459', 'labse_text_feature_460', 'labse_text_feature_461', 'labse_text_feature_462', 'labse_text_feature_463', 'labse_text_feature_464', 'labse_text_feature_465', 'labse_text_feature_466', 'labse_text_feature_467', 'labse_text_feature_468', 'labse_text_feature_469', 'labse_text_feature_470', 'labse_text_feature_471', 'labse_text_feature_472', 'labse_text_feature_473', 'labse_text_feature_474', 'labse_text_feature_475', 'labse_text_feature_476', 'labse_text_feature_477', 'labse_text_feature_478', 'labse_text_feature_479', 'labse_text_feature_480', 'labse_text_feature_481', 'labse_text_feature_482', 'labse_text_feature_483', 'labse_text_feature_484', 'labse_text_feature_485', 'labse_text_feature_486', 'labse_text_feature_487', 'labse_text_feature_488', 'labse_text_feature_489', 'labse_text_feature_490', 'labse_text_feature_491', 'labse_text_feature_492', 'labse_text_feature_493', 'labse_text_feature_494', 'labse_text_feature_495', 'labse_text_feature_496', 'labse_text_feature_497', 'labse_text_feature_498', 'labse_text_feature_499', 'labse_text_feature_500', 'labse_text_feature_501', 'labse_text_feature_502', 'labse_text_feature_503', 'labse_text_feature_504', 'labse_text_feature_505', 'labse_text_feature_506', 'labse_text_feature_507', 'labse_text_feature_508', 'labse_text_feature_509', 'labse_text_feature_510', 'labse_text_feature_511', 'labse_text_feature_512', 'labse_text_feature_513', 'labse_text_feature_514', 'labse_text_feature_515', 'labse_text_feature_516', 'labse_text_feature_517', 'labse_text_feature_518', 'labse_text_feature_519', 'labse_text_feature_520', 'labse_text_feature_521', 'labse_text_feature_522', 'labse_text_feature_523', 'labse_text_feature_524', 'labse_text_feature_525', 'labse_text_feature_526', 'labse_text_feature_527', 'labse_text_feature_528', 'labse_text_feature_529', 'labse_text_feature_530', 'labse_text_feature_531', 'labse_text_feature_532', 'labse_text_feature_533', 'labse_text_feature_534', 'labse_text_feature_535', 'labse_text_feature_536', 'labse_text_feature_537', 'labse_text_feature_538', 'labse_text_feature_539', 'labse_text_feature_540', 'labse_text_feature_541', 'labse_text_feature_542', 'labse_text_feature_543', 'labse_text_feature_544', 'labse_text_feature_545', 'labse_text_feature_546', 'labse_text_feature_547', 'labse_text_feature_548', 'labse_text_feature_549', 'labse_text_feature_550', 'labse_text_feature_551', 'labse_text_feature_552', 'labse_text_feature_553', 'labse_text_feature_554', 'labse_text_feature_555', 'labse_text_feature_556', 'labse_text_feature_557', 'labse_text_feature_558', 'labse_text_feature_559', 'labse_text_feature_560', 'labse_text_feature_561', 'labse_text_feature_562', 'labse_text_feature_563', 'labse_text_feature_564', 'labse_text_feature_565', 'labse_text_feature_566', 'labse_text_feature_567', 'labse_text_feature_568', 'labse_text_feature_569', 'labse_text_feature_570', 'labse_text_feature_571', 'labse_text_feature_572', 'labse_text_feature_573', 'labse_text_feature_574', 'labse_text_feature_575', 'labse_text_feature_576', 'labse_text_feature_577', 'labse_text_feature_578', 'labse_text_feature_579', 'labse_text_feature_580', 'labse_text_feature_581', 'labse_text_feature_582', 'labse_text_feature_583', 'labse_text_feature_584', 'labse_text_feature_585', 'labse_text_feature_586', 'labse_text_feature_587', 'labse_text_feature_588', 'labse_text_feature_589', 'labse_text_feature_590', 'labse_text_feature_591', 'labse_text_feature_592', 'labse_text_feature_593', 'labse_text_feature_594', 'labse_text_feature_595', 'labse_text_feature_596', 'labse_text_feature_597', 'labse_text_feature_598', 'labse_text_feature_599', 'labse_text_feature_600', 'labse_text_feature_601', 'labse_text_feature_602', 'labse_text_feature_603', 'labse_text_feature_604', 'labse_text_feature_605', 'labse_text_feature_606', 'labse_text_feature_607', 'labse_text_feature_608', 'labse_text_feature_609', 'labse_text_feature_610', 'labse_text_feature_611', 'labse_text_feature_612', 'labse_text_feature_613', 'labse_text_feature_614', 'labse_text_feature_615', 'labse_text_feature_616', 'labse_text_feature_617', 'labse_text_feature_618', 'labse_text_feature_619', 'labse_text_feature_620', 'labse_text_feature_621', 'labse_text_feature_622', 'labse_text_feature_623', 'labse_text_feature_624', 'labse_text_feature_625', 'labse_text_feature_626', 'labse_text_feature_627', 'labse_text_feature_628', 'labse_text_feature_629', 'labse_text_feature_630', 'labse_text_feature_631', 'labse_text_feature_632', 'labse_text_feature_633', 'labse_text_feature_634', 'labse_text_feature_635', 'labse_text_feature_636', 'labse_text_feature_637', 'labse_text_feature_638', 'labse_text_feature_639', 'labse_text_feature_640', 'labse_text_feature_641', 'labse_text_feature_642', 'labse_text_feature_643', 'labse_text_feature_644', 'labse_text_feature_645', 'labse_text_feature_646', 'labse_text_feature_647', 'labse_text_feature_648', 'labse_text_feature_649', 'labse_text_feature_650', 'labse_text_feature_651', 'labse_text_feature_652', 'labse_text_feature_653', 'labse_text_feature_654', 'labse_text_feature_655', 'labse_text_feature_656', 'labse_text_feature_657', 'labse_text_feature_658', 'labse_text_feature_659', 'labse_text_feature_660', 'labse_text_feature_661', 'labse_text_feature_662', 'labse_text_feature_663', 'labse_text_feature_664', 'labse_text_feature_665', 'labse_text_feature_666', 'labse_text_feature_667', 'labse_text_feature_668', 'labse_text_feature_669', 'labse_text_feature_670', 'labse_text_feature_671', 'labse_text_feature_672', 'labse_text_feature_673', 'labse_text_feature_674', 'labse_text_feature_675', 'labse_text_feature_676', 'labse_text_feature_677', 'labse_text_feature_678', 'labse_text_feature_679', 'labse_text_feature_680', 'labse_text_feature_681', 'labse_text_feature_682', 'labse_text_feature_683', 'labse_text_feature_684', 'labse_text_feature_685', 'labse_text_feature_686', 'labse_text_feature_687', 'labse_text_feature_688', 'labse_text_feature_689', 'labse_text_feature_690', 'labse_text_feature_691', 'labse_text_feature_692', 'labse_text_feature_693', 'labse_text_feature_694', 'labse_text_feature_695', 'labse_text_feature_696', 'labse_text_feature_697', 'labse_text_feature_698', 'labse_text_feature_699', 'labse_text_feature_700', 'labse_text_feature_701', 'labse_text_feature_702', 'labse_text_feature_703', 'labse_text_feature_704', 'labse_text_feature_705', 'labse_text_feature_706', 'labse_text_feature_707', 'labse_text_feature_708', 'labse_text_feature_709', 'labse_text_feature_710', 'labse_text_feature_711', 'labse_text_feature_712', 'labse_text_feature_713', 'labse_text_feature_714', 'labse_text_feature_715', 'labse_text_feature_716', 'labse_text_feature_717', 'labse_text_feature_718', 'labse_text_feature_719', 'labse_text_feature_720', 'labse_text_feature_721', 'labse_text_feature_722', 'labse_text_feature_723', 'labse_text_feature_724', 'labse_text_feature_725', 'labse_text_feature_726', 'labse_text_feature_727', 'labse_text_feature_728', 'labse_text_feature_729', 'labse_text_feature_730', 'labse_text_feature_731', 'labse_text_feature_732', 'labse_text_feature_733', 'labse_text_feature_734', 'labse_text_feature_735', 'labse_text_feature_736', 'labse_text_feature_737', 'labse_text_feature_738', 'labse_text_feature_739', 'labse_text_feature_740', 'labse_text_feature_741', 'labse_text_feature_742', 'labse_text_feature_743', 'labse_text_feature_744', 'labse_text_feature_745', 'labse_text_feature_746', 'labse_text_feature_747', 'labse_text_feature_748', 'labse_text_feature_749', 'labse_text_feature_750', 'labse_text_feature_751', 'labse_text_feature_752', 'labse_text_feature_753', 'labse_text_feature_754', 'labse_text_feature_755', 'labse_text_feature_756', 'labse_text_feature_757', 'labse_text_feature_758', 'labse_text_feature_759', 'labse_text_feature_760', 'labse_text_feature_761', 'labse_text_feature_762', 'labse_text_feature_763', 'labse_text_feature_764', 'labse_text_feature_765', 'labse_text_feature_766', 'labse_text_feature_767'], \u001b[1mamount\u001b[0m = 2616\n",
            "\u001b[1mtargets:\u001b[0m ['category'], \u001b[1mamount\u001b[0m = 1\n"
          ]
        }
      ],
      "source": [
        "cat_features = ['text']\n",
        "cat_features_indxs = [1]\n",
        "targets = ['category']\n",
        "features2drop = ['car_id', 'deviation_normal_count']\n",
        "\n",
        "filtered_features = [i for i in train.columns if (i not in targets and i not in features2drop)]\n",
        "num_features = [i for i in filtered_features if i not in cat_features]\n",
        "\n",
        "print(f'\\033[1mcat_features:\\033[0m {cat_features}, \\033[1mamount\\033[0m = {len(cat_features)}')\n",
        "print(f'\\033[1mnum_features:\\033[0m {num_features}, \\033[1mamount\\033[0m = {len(num_features)}')\n",
        "print(f'\\033[1mtargets:\\033[0m {targets}, \\033[1mamount\\033[0m = {len(targets)}')"
      ]
    },
    {
      "cell_type": "code",
      "execution_count": null,
      "metadata": {
        "colab": {
          "base_uri": "https://localhost:8080/"
        },
        "id": "0ZwANaf-k3DF",
        "outputId": "0477dc37-2599-4376-a510-b4d1ecd32390"
      },
      "outputs": [
        {
          "name": "stdout",
          "output_type": "stream",
          "text": [
            "train shape = (666, 2618),  test shape = (669, 2617)\n",
            "train, test is null: (True, True)\n"
          ]
        }
      ],
      "source": [
        "print(f'train shape = {train.shape},  test shape = {test.shape}')\n",
        "print(f'train, test is null: {train.isna().any().any(), test.isna().any().any()}') "
      ]
    },
    {
      "cell_type": "code",
      "execution_count": null,
      "metadata": {
        "colab": {
          "base_uri": "https://localhost:8080/"
        },
        "id": "eyb3JBE9l_RH",
        "outputId": "d3c94ea6-7743-4557-ab8f-8e9ea2dee731"
      },
      "outputs": [
        {
          "name": "stdout",
          "output_type": "stream",
          "text": [
            "<class 'pandas.core.frame.DataFrame'>\n",
            "RangeIndex: 666 entries, 0 to 665\n",
            "Columns: 2618 entries, category to labse_text_feature_767\n",
            "dtypes: category(2), float16(2616)\n",
            "memory usage: 3.3 MB\n"
          ]
        }
      ],
      "source": [
        "train.info()"
      ]
    },
    {
      "cell_type": "code",
      "execution_count": null,
      "metadata": {
        "colab": {
          "base_uri": "https://localhost:8080/",
          "height": 358
        },
        "id": "-9XPoKXtl5Zk",
        "outputId": "ad259d99-6533-4f43-b497-4bb1fd776798"
      },
      "outputs": [
        {
          "data": {
            "text/html": [
              "\n",
              "  <div id=\"df-d16234f5-09e6-41b0-b9ac-4063b5df83ee\">\n",
              "    <div class=\"colab-df-container\">\n",
              "      <div>\n",
              "<style scoped>\n",
              "    .dataframe tbody tr th:only-of-type {\n",
              "        vertical-align: middle;\n",
              "    }\n",
              "\n",
              "    .dataframe tbody tr th {\n",
              "        vertical-align: top;\n",
              "    }\n",
              "\n",
              "    .dataframe thead th {\n",
              "        text-align: right;\n",
              "    }\n",
              "</style>\n",
              "<table border=\"1\" class=\"dataframe\">\n",
              "  <thead>\n",
              "    <tr style=\"text-align: right;\">\n",
              "      <th></th>\n",
              "      <th>text</th>\n",
              "      <th>ruBert-base_text_feature_0</th>\n",
              "      <th>ruBert-base_text_feature_1</th>\n",
              "      <th>ruBert-base_text_feature_2</th>\n",
              "      <th>ruBert-base_text_feature_3</th>\n",
              "      <th>ruBert-base_text_feature_4</th>\n",
              "      <th>ruBert-base_text_feature_5</th>\n",
              "      <th>ruBert-base_text_feature_6</th>\n",
              "      <th>ruBert-base_text_feature_7</th>\n",
              "      <th>ruBert-base_text_feature_8</th>\n",
              "      <th>...</th>\n",
              "      <th>labse_text_feature_758</th>\n",
              "      <th>labse_text_feature_759</th>\n",
              "      <th>labse_text_feature_760</th>\n",
              "      <th>labse_text_feature_761</th>\n",
              "      <th>labse_text_feature_762</th>\n",
              "      <th>labse_text_feature_763</th>\n",
              "      <th>labse_text_feature_764</th>\n",
              "      <th>labse_text_feature_765</th>\n",
              "      <th>labse_text_feature_766</th>\n",
              "      <th>labse_text_feature_767</th>\n",
              "    </tr>\n",
              "  </thead>\n",
              "  <tbody>\n",
              "    <tr>\n",
              "      <th>0</th>\n",
              "      <td>Наступила та самая неделя Nattokenoid Setokeno...</td>\n",
              "      <td>-0.088379</td>\n",
              "      <td>0.065796</td>\n",
              "      <td>0.154907</td>\n",
              "      <td>0.133301</td>\n",
              "      <td>-0.019897</td>\n",
              "      <td>0.390625</td>\n",
              "      <td>-0.242065</td>\n",
              "      <td>0.559570</td>\n",
              "      <td>0.203735</td>\n",
              "      <td>...</td>\n",
              "      <td>-0.042480</td>\n",
              "      <td>-0.028748</td>\n",
              "      <td>-0.035522</td>\n",
              "      <td>0.010765</td>\n",
              "      <td>-0.030228</td>\n",
              "      <td>-0.037018</td>\n",
              "      <td>-0.006439</td>\n",
              "      <td>0.025848</td>\n",
              "      <td>0.000624</td>\n",
              "      <td>-0.022720</td>\n",
              "    </tr>\n",
              "    <tr>\n",
              "      <th>1</th>\n",
              "      <td>Тоня Сегодня я записываю свое первое видео на ...</td>\n",
              "      <td>-0.395508</td>\n",
              "      <td>0.051819</td>\n",
              "      <td>0.089111</td>\n",
              "      <td>0.233521</td>\n",
              "      <td>-0.137207</td>\n",
              "      <td>0.408936</td>\n",
              "      <td>-0.123291</td>\n",
              "      <td>0.441406</td>\n",
              "      <td>-0.072083</td>\n",
              "      <td>...</td>\n",
              "      <td>-0.021408</td>\n",
              "      <td>0.006958</td>\n",
              "      <td>0.002678</td>\n",
              "      <td>-0.032379</td>\n",
              "      <td>-0.038818</td>\n",
              "      <td>-0.004978</td>\n",
              "      <td>-0.058075</td>\n",
              "      <td>0.007465</td>\n",
              "      <td>-0.030640</td>\n",
              "      <td>-0.010941</td>\n",
              "    </tr>\n",
              "    <tr>\n",
              "      <th>2</th>\n",
              "      <td>Mtokenoid Games дисквалифицировали с мейджора ...</td>\n",
              "      <td>0.017258</td>\n",
              "      <td>0.055817</td>\n",
              "      <td>0.004318</td>\n",
              "      <td>0.209473</td>\n",
              "      <td>-0.144287</td>\n",
              "      <td>0.562988</td>\n",
              "      <td>-0.073242</td>\n",
              "      <td>0.413818</td>\n",
              "      <td>0.116760</td>\n",
              "      <td>...</td>\n",
              "      <td>0.062927</td>\n",
              "      <td>0.046143</td>\n",
              "      <td>0.027664</td>\n",
              "      <td>0.057434</td>\n",
              "      <td>-0.011208</td>\n",
              "      <td>-0.003731</td>\n",
              "      <td>0.006435</td>\n",
              "      <td>-0.031281</td>\n",
              "      <td>-0.057404</td>\n",
              "      <td>-0.017349</td>\n",
              "    </tr>\n",
              "  </tbody>\n",
              "</table>\n",
              "<p>3 rows × 2617 columns</p>\n",
              "</div>\n",
              "      <button class=\"colab-df-convert\" onclick=\"convertToInteractive('df-d16234f5-09e6-41b0-b9ac-4063b5df83ee')\"\n",
              "              title=\"Convert this dataframe to an interactive table.\"\n",
              "              style=\"display:none;\">\n",
              "        \n",
              "  <svg xmlns=\"http://www.w3.org/2000/svg\" height=\"24px\"viewBox=\"0 0 24 24\"\n",
              "       width=\"24px\">\n",
              "    <path d=\"M0 0h24v24H0V0z\" fill=\"none\"/>\n",
              "    <path d=\"M18.56 5.44l.94 2.06.94-2.06 2.06-.94-2.06-.94-.94-2.06-.94 2.06-2.06.94zm-11 1L8.5 8.5l.94-2.06 2.06-.94-2.06-.94L8.5 2.5l-.94 2.06-2.06.94zm10 10l.94 2.06.94-2.06 2.06-.94-2.06-.94-.94-2.06-.94 2.06-2.06.94z\"/><path d=\"M17.41 7.96l-1.37-1.37c-.4-.4-.92-.59-1.43-.59-.52 0-1.04.2-1.43.59L10.3 9.45l-7.72 7.72c-.78.78-.78 2.05 0 2.83L4 21.41c.39.39.9.59 1.41.59.51 0 1.02-.2 1.41-.59l7.78-7.78 2.81-2.81c.8-.78.8-2.07 0-2.86zM5.41 20L4 18.59l7.72-7.72 1.47 1.35L5.41 20z\"/>\n",
              "  </svg>\n",
              "      </button>\n",
              "      \n",
              "  <style>\n",
              "    .colab-df-container {\n",
              "      display:flex;\n",
              "      flex-wrap:wrap;\n",
              "      gap: 12px;\n",
              "    }\n",
              "\n",
              "    .colab-df-convert {\n",
              "      background-color: #E8F0FE;\n",
              "      border: none;\n",
              "      border-radius: 50%;\n",
              "      cursor: pointer;\n",
              "      display: none;\n",
              "      fill: #1967D2;\n",
              "      height: 32px;\n",
              "      padding: 0 0 0 0;\n",
              "      width: 32px;\n",
              "    }\n",
              "\n",
              "    .colab-df-convert:hover {\n",
              "      background-color: #E2EBFA;\n",
              "      box-shadow: 0px 1px 2px rgba(60, 64, 67, 0.3), 0px 1px 3px 1px rgba(60, 64, 67, 0.15);\n",
              "      fill: #174EA6;\n",
              "    }\n",
              "\n",
              "    [theme=dark] .colab-df-convert {\n",
              "      background-color: #3B4455;\n",
              "      fill: #D2E3FC;\n",
              "    }\n",
              "\n",
              "    [theme=dark] .colab-df-convert:hover {\n",
              "      background-color: #434B5C;\n",
              "      box-shadow: 0px 1px 3px 1px rgba(0, 0, 0, 0.15);\n",
              "      filter: drop-shadow(0px 1px 2px rgba(0, 0, 0, 0.3));\n",
              "      fill: #FFFFFF;\n",
              "    }\n",
              "  </style>\n",
              "\n",
              "      <script>\n",
              "        const buttonEl =\n",
              "          document.querySelector('#df-d16234f5-09e6-41b0-b9ac-4063b5df83ee button.colab-df-convert');\n",
              "        buttonEl.style.display =\n",
              "          google.colab.kernel.accessAllowed ? 'block' : 'none';\n",
              "\n",
              "        async function convertToInteractive(key) {\n",
              "          const element = document.querySelector('#df-d16234f5-09e6-41b0-b9ac-4063b5df83ee');\n",
              "          const dataTable =\n",
              "            await google.colab.kernel.invokeFunction('convertToInteractive',\n",
              "                                                     [key], {});\n",
              "          if (!dataTable) return;\n",
              "\n",
              "          const docLinkHtml = 'Like what you see? Visit the ' +\n",
              "            '<a target=\"_blank\" href=https://colab.research.google.com/notebooks/data_table.ipynb>data table notebook</a>'\n",
              "            + ' to learn more about interactive tables.';\n",
              "          element.innerHTML = '';\n",
              "          dataTable['output_type'] = 'display_data';\n",
              "          await google.colab.output.renderOutput(dataTable, element);\n",
              "          const docLink = document.createElement('div');\n",
              "          docLink.innerHTML = docLinkHtml;\n",
              "          element.appendChild(docLink);\n",
              "        }\n",
              "      </script>\n",
              "    </div>\n",
              "  </div>\n",
              "  "
            ],
            "text/plain": [
              "                                                text  \\\n",
              "0  Наступила та самая неделя Nattokenoid Setokeno...   \n",
              "1  Тоня Сегодня я записываю свое первое видео на ...   \n",
              "2  Mtokenoid Games дисквалифицировали с мейджора ...   \n",
              "\n",
              "   ruBert-base_text_feature_0  ruBert-base_text_feature_1  \\\n",
              "0                   -0.088379                    0.065796   \n",
              "1                   -0.395508                    0.051819   \n",
              "2                    0.017258                    0.055817   \n",
              "\n",
              "   ruBert-base_text_feature_2  ruBert-base_text_feature_3  \\\n",
              "0                    0.154907                    0.133301   \n",
              "1                    0.089111                    0.233521   \n",
              "2                    0.004318                    0.209473   \n",
              "\n",
              "   ruBert-base_text_feature_4  ruBert-base_text_feature_5  \\\n",
              "0                   -0.019897                    0.390625   \n",
              "1                   -0.137207                    0.408936   \n",
              "2                   -0.144287                    0.562988   \n",
              "\n",
              "   ruBert-base_text_feature_6  ruBert-base_text_feature_7  \\\n",
              "0                   -0.242065                    0.559570   \n",
              "1                   -0.123291                    0.441406   \n",
              "2                   -0.073242                    0.413818   \n",
              "\n",
              "   ruBert-base_text_feature_8  ...  labse_text_feature_758  \\\n",
              "0                    0.203735  ...               -0.042480   \n",
              "1                   -0.072083  ...               -0.021408   \n",
              "2                    0.116760  ...                0.062927   \n",
              "\n",
              "   labse_text_feature_759  labse_text_feature_760  labse_text_feature_761  \\\n",
              "0               -0.028748               -0.035522                0.010765   \n",
              "1                0.006958                0.002678               -0.032379   \n",
              "2                0.046143                0.027664                0.057434   \n",
              "\n",
              "   labse_text_feature_762  labse_text_feature_763  labse_text_feature_764  \\\n",
              "0               -0.030228               -0.037018               -0.006439   \n",
              "1               -0.038818               -0.004978               -0.058075   \n",
              "2               -0.011208               -0.003731                0.006435   \n",
              "\n",
              "   labse_text_feature_765  labse_text_feature_766  labse_text_feature_767  \n",
              "0                0.025848                0.000624               -0.022720  \n",
              "1                0.007465               -0.030640               -0.010941  \n",
              "2               -0.031281               -0.057404               -0.017349  \n",
              "\n",
              "[3 rows x 2617 columns]"
            ]
          },
          "execution_count": 19,
          "metadata": {},
          "output_type": "execute_result"
        }
      ],
      "source": [
        "test.head(3)"
      ]
    },
    {
      "cell_type": "code",
      "execution_count": null,
      "metadata": {
        "colab": {
          "base_uri": "https://localhost:8080/"
        },
        "id": "aZFHd3bbnbs3",
        "outputId": "22ba954e-8f34-4a43-a17b-ea3ca00cce60"
      },
      "outputs": [
        {
          "name": "stdout",
          "output_type": "stream",
          "text": [
            "<class 'pandas.core.frame.DataFrame'>\n",
            "RangeIndex: 635 entries, 0 to 634\n",
            "Columns: 2617 entries, text to labse_text_feature_767\n",
            "dtypes: category(1), float16(2616)\n",
            "memory usage: 3.2 MB\n"
          ]
        }
      ],
      "source": [
        "test.info()"
      ]
    },
    {
      "cell_type": "code",
      "execution_count": null,
      "metadata": {
        "id": "tSjJrZnUnje2"
      },
      "outputs": [],
      "source": [
        "X = train[filtered_features].drop(targets, axis=1, errors=\"ignore\")\n",
        "y = train[\"category\"]"
      ]
    },
    {
      "cell_type": "code",
      "execution_count": null,
      "metadata": {
        "id": "QXUr1Cl8nsrL"
      },
      "outputs": [],
      "source": [
        "r_s = 42\n",
        "n_est = 1000"
      ]
    },
    {
      "cell_type": "markdown",
      "metadata": {
        "id": "mUtIgfkHFVJm"
      },
      "source": [
        "## Optuna"
      ]
    },
    {
      "cell_type": "code",
      "execution_count": null,
      "metadata": {
        "colab": {
          "base_uri": "https://localhost:8080/"
        },
        "id": "oAhmSfaRFiIZ",
        "outputId": "4c6f315f-4ea3-454b-ab75-60268cdded4c"
      },
      "outputs": [
        {
          "name": "stdout",
          "output_type": "stream",
          "text": [
            "\u001b[2K     \u001b[90m━━━━━━━━━━━━━━━━━━━━━━━━━━━━━━━━━━━━━━━\u001b[0m \u001b[32m365.7/365.7 kB\u001b[0m \u001b[31m7.1 MB/s\u001b[0m eta \u001b[36m0:00:00\u001b[0m\n",
            "\u001b[2K     \u001b[90m━━━━━━━━━━━━━━━━━━━━━━━━━━━━━━━━━━━━━━\u001b[0m \u001b[32m212.3/212.3 kB\u001b[0m \u001b[31m17.9 MB/s\u001b[0m eta \u001b[36m0:00:00\u001b[0m\n",
            "\u001b[2K     \u001b[90m━━━━━━━━━━━━━━━━━━━━━━━━━━━━━━━━━━━━━━━━\u001b[0m \u001b[32m78.7/78.7 kB\u001b[0m \u001b[31m8.3 MB/s\u001b[0m eta \u001b[36m0:00:00\u001b[0m\n",
            "\u001b[?25h"
          ]
        }
      ],
      "source": [
        "!pip install optuna -q"
      ]
    },
    {
      "cell_type": "code",
      "execution_count": null,
      "metadata": {
        "id": "_OeC5BmuFt2l"
      },
      "outputs": [],
      "source": [
        "import optuna\n",
        "from sklearn.model_selection import KFold, train_test_split"
      ]
    },
    {
      "cell_type": "code",
      "execution_count": null,
      "metadata": {
        "id": "lqTDHRzaHgD1"
      },
      "outputs": [],
      "source": [
        "from optuna.integration import CatBoostPruningCallback"
      ]
    },
    {
      "cell_type": "code",
      "execution_count": null,
      "metadata": {
        "id": "OMeNUKvaGE-g"
      },
      "outputs": [],
      "source": [
        "def fit_catboost(trial, train, val):\n",
        "    X_train, y_train = train\n",
        "    X_val, y_val = val\n",
        "\n",
        "    param = {\n",
        "        'iterations' : 400, # Можно не перебирать, есть Easrly-Stopping\n",
        "        \"learning_rate\": trial.suggest_float(\"learning_rate\", 0.001, 0.01),\n",
        "        \"l2_leaf_reg\": trial.suggest_int(\"l2_leaf_reg\", 2, 50),\n",
        "        \"colsample_bylevel\": trial.suggest_float(\"colsample_bylevel\", 0.01, 0.8),\n",
        "        \n",
        "        \"auto_class_weights\": trial.suggest_categorical(\"auto_class_weights\", [\"SqrtBalanced\", \"Balanced\", \"None\"]),\n",
        "        \"depth\": trial.suggest_int(\"depth\", 3, 9),\n",
        "        \n",
        "        \"boosting_type\": trial.suggest_categorical(\"boosting_type\", [\"Ordered\", \"Plain\"]),\n",
        "        \"bootstrap_type\": trial.suggest_categorical(\"bootstrap_type\", [\"Bayesian\", \"Bernoulli\", \"MVS\"]),\n",
        "        \"used_ram_limit\": \"10gb\",\n",
        "        \"eval_metric\": \"Accuracy\", # Тоже стоит заранее определиться\n",
        "    }\n",
        "\n",
        "    \n",
        "    if param[\"bootstrap_type\"] == \"Bayesian\":\n",
        "        param[\"bagging_temperature\"] = trial.suggest_float(\"bagging_temperature\", 0, 20)\n",
        "        \n",
        "    elif param[\"bootstrap_type\"] == \"Bernoulli\":\n",
        "        param[\"subsample\"] = trial.suggest_float(\"subsample\", 0.1, 1)\n",
        "        \n",
        "\n",
        "    clf = CatBoostClassifier(\n",
        "        **param,\n",
        "        thread_count=-1,\n",
        "        random_seed=42,\n",
        "        cat_features=cat_features,\n",
        "    )\n",
        "    #  Создаем объект callback\n",
        "    pruning_callback = CatBoostPruningCallback(trial, \"Accuracy\")\n",
        "\n",
        "    clf.fit(\n",
        "        X_train,\n",
        "        y_train,\n",
        "        eval_set=(X_val, y_val),\n",
        "        verbose=0,\n",
        "        plot=False,\n",
        "        early_stopping_rounds=5,\n",
        "        callbacks=[pruning_callback],\n",
        "    )\n",
        "\n",
        "    # запускаем процесс прунинга\n",
        "    pruning_callback.check_pruned()\n",
        "\n",
        "    y_pred = clf.predict(X_val)\n",
        "    return clf, y_pred\n"
      ]
    },
    {
      "cell_type": "code",
      "execution_count": null,
      "metadata": {
        "id": "yD7kmbQmG3zk"
      },
      "outputs": [],
      "source": [
        "def objective(trial, return_models=False):\n",
        "    n_splits = 3\n",
        "    kf = KFold(n_splits=n_splits, shuffle=True, random_state=42)\n",
        "    X_train = train[filtered_features].drop(targets, axis=1, errors=\"ignore\")\n",
        "    y_train = train[\"category\"]\n",
        "\n",
        "    scores, models = [], []\n",
        "    \n",
        "    for train_idx, valid_idx in kf.split(X_train):\n",
        "        train_data = X_train.iloc[train_idx, :], y_train.iloc[train_idx]\n",
        "        valid_data = X_train.iloc[valid_idx, :], y_train.iloc[valid_idx]\n",
        "\n",
        "        # Подаем trials для перебора\n",
        "        model, y_pred = fit_catboost(trial, train_data, valid_data) # Определили выше\n",
        "        scores.append(balanced_accuracy_score(y_pred, valid_data[1]))\n",
        "        models.append(model)\n",
        "        break\n",
        "         \n",
        "\n",
        "    result = np.mean(scores)\n",
        "    \n",
        "    if return_models:\n",
        "        return result, models\n",
        "    else:\n",
        "        return result"
      ]
    },
    {
      "cell_type": "code",
      "execution_count": null,
      "metadata": {
        "colab": {
          "background_save": true,
          "base_uri": "https://localhost:8080/",
          "height": 1000,
          "referenced_widgets": [
            "0893114b997a43c99ac583173f5f0059",
            "f74dbd1b5f0246118daa39a3b2809cc5",
            "21169b16a14b4d98a716396a13a43246",
            "1757fe3027774c34b80bf0970f25c235",
            "2ee2e3507fee419d9622c4a414f77821",
            "b8a9562125fb4146abdacc52bf1da228",
            "560af7e486364853a73e63705ef1a16a",
            "630e244482a34426a352be992824d9b2",
            "cbe8960b0ade4e36881592f696f739ba",
            "12fa39633b4848648a42566e0d17ee59",
            "fc34efd89e4641639400ded715eb2c0e"
          ]
        },
        "id": "wTn9gr52HJyq",
        "outputId": "f832dcdb-4961-4361-d3d3-6348108b5959"
      },
      "outputs": [
        {
          "name": "stderr",
          "output_type": "stream",
          "text": [
            "\u001b[32m[I 2023-04-23 17:25:48,186]\u001b[0m A new study created in memory with name: no-name-f5964b31-42fc-4702-8742-f959676f1f49\u001b[0m\n",
            "/usr/local/lib/python3.9/dist-packages/optuna/progress_bar.py:56: ExperimentalWarning: Progress bar is experimental (supported from v1.2.0). The interface can change in the future.\n",
            "  self._init_valid()\n"
          ]
        },
        {
          "data": {
            "application/vnd.jupyter.widget-view+json": {
              "model_id": "0893114b997a43c99ac583173f5f0059",
              "version_major": 2,
              "version_minor": 0
            },
            "text/plain": [
              "  0%|          | 0/600 [00:00<?, ?it/s]"
            ]
          },
          "metadata": {},
          "output_type": "display_data"
        },
        {
          "name": "stderr",
          "output_type": "stream",
          "text": [
            "<ipython-input-35-db466a5c6fa1>:35: ExperimentalWarning: CatBoostPruningCallback is experimental (supported from v3.0.0). The interface can change in the future.\n",
            "  pruning_callback = CatBoostPruningCallback(trial, \"Accuracy\")\n"
          ]
        },
        {
          "name": "stdout",
          "output_type": "stream",
          "text": [
            "\u001b[32m[I 2023-04-23 17:33:09,229]\u001b[0m Trial 0 finished with value: 0.2558318082708327 and parameters: {'learning_rate': 0.0022797196787207865, 'l2_leaf_reg': 11, 'colsample_bylevel': 0.23242551785322885, 'auto_class_weights': 'Balanced', 'depth': 6, 'boosting_type': 'Ordered', 'bootstrap_type': 'Bernoulli', 'subsample': 0.7422550644857248}. Best is trial 0 with value: 0.2558318082708327.\u001b[0m\n"
          ]
        },
        {
          "name": "stderr",
          "output_type": "stream",
          "text": [
            "<ipython-input-35-db466a5c6fa1>:35: ExperimentalWarning: CatBoostPruningCallback is experimental (supported from v3.0.0). The interface can change in the future.\n",
            "  pruning_callback = CatBoostPruningCallback(trial, \"Accuracy\")\n"
          ]
        },
        {
          "name": "stdout",
          "output_type": "stream",
          "text": [
            "\u001b[32m[I 2023-04-23 17:43:21,523]\u001b[0m Trial 2 finished with value: 0.12456450244911783 and parameters: {'learning_rate': 0.005800620926850202, 'l2_leaf_reg': 49, 'colsample_bylevel': 0.621477051139504, 'auto_class_weights': 'Balanced', 'depth': 9, 'boosting_type': 'Plain', 'bootstrap_type': 'Bayesian', 'bagging_temperature': 6.136699015254683}. Best is trial 0 with value: 0.2558318082708327.\u001b[0m\n"
          ]
        },
        {
          "name": "stderr",
          "output_type": "stream",
          "text": [
            "<ipython-input-35-db466a5c6fa1>:35: ExperimentalWarning: CatBoostPruningCallback is experimental (supported from v3.0.0). The interface can change in the future.\n",
            "  pruning_callback = CatBoostPruningCallback(trial, \"Accuracy\")\n",
            "/usr/local/lib/python3.9/dist-packages/sklearn/metrics/_classification.py:2184: UserWarning: y_pred contains classes not in y_true\n",
            "  warnings.warn(\"y_pred contains classes not in y_true\")\n",
            "<ipython-input-35-db466a5c6fa1>:35: ExperimentalWarning: CatBoostPruningCallback is experimental (supported from v3.0.0). The interface can change in the future.\n",
            "  pruning_callback = CatBoostPruningCallback(trial, \"Accuracy\")\n"
          ]
        },
        {
          "name": "stdout",
          "output_type": "stream",
          "text": [
            "\u001b[32m[I 2023-04-23 17:44:43,726]\u001b[0m Trial 3 finished with value: 0.28474575565218835 and parameters: {'learning_rate': 0.006335262874547616, 'l2_leaf_reg': 12, 'colsample_bylevel': 0.5764008715937846, 'auto_class_weights': 'None', 'depth': 4, 'boosting_type': 'Plain', 'bootstrap_type': 'Bayesian', 'bagging_temperature': 18.907037315478853}. Best is trial 3 with value: 0.28474575565218835.\u001b[0m\n"
          ]
        },
        {
          "name": "stderr",
          "output_type": "stream",
          "text": [
            "/usr/local/lib/python3.9/dist-packages/sklearn/metrics/_classification.py:2184: UserWarning: y_pred contains classes not in y_true\n",
            "  warnings.warn(\"y_pred contains classes not in y_true\")\n",
            "<ipython-input-35-db466a5c6fa1>:35: ExperimentalWarning: CatBoostPruningCallback is experimental (supported from v3.0.0). The interface can change in the future.\n",
            "  pruning_callback = CatBoostPruningCallback(trial, \"Accuracy\")\n"
          ]
        },
        {
          "name": "stdout",
          "output_type": "stream",
          "text": [
            "\u001b[32m[I 2023-04-23 17:45:05,689]\u001b[0m Trial 1 finished with value: 0.25935642375270856 and parameters: {'learning_rate': 0.0025829209691109528, 'l2_leaf_reg': 34, 'colsample_bylevel': 0.47085978481497653, 'auto_class_weights': 'None', 'depth': 6, 'boosting_type': 'Ordered', 'bootstrap_type': 'MVS'}. Best is trial 3 with value: 0.28474575565218835.\u001b[0m\n",
            "\u001b[32m[I 2023-04-23 17:45:35,500]\u001b[0m Trial 4 finished with value: 0.12395032503728155 and parameters: {'learning_rate': 0.006423422522009737, 'l2_leaf_reg': 41, 'colsample_bylevel': 0.38706322557501877, 'auto_class_weights': 'Balanced', 'depth': 6, 'boosting_type': 'Plain', 'bootstrap_type': 'Bayesian', 'bagging_temperature': 12.599400594509877}. Best is trial 3 with value: 0.28474575565218835.\u001b[0m\n"
          ]
        },
        {
          "name": "stderr",
          "output_type": "stream",
          "text": [
            "<ipython-input-35-db466a5c6fa1>:35: ExperimentalWarning: CatBoostPruningCallback is experimental (supported from v3.0.0). The interface can change in the future.\n",
            "  pruning_callback = CatBoostPruningCallback(trial, \"Accuracy\")\n"
          ]
        },
        {
          "name": "stdout",
          "output_type": "stream",
          "text": [
            "\u001b[32m[I 2023-04-23 17:53:01,753]\u001b[0m Trial 6 finished with value: 0.2806272285811928 and parameters: {'learning_rate': 0.003206939324358384, 'l2_leaf_reg': 19, 'colsample_bylevel': 0.5523224925639711, 'auto_class_weights': 'Balanced', 'depth': 4, 'boosting_type': 'Ordered', 'bootstrap_type': 'MVS'}. Best is trial 3 with value: 0.28474575565218835.\u001b[0m\n"
          ]
        },
        {
          "name": "stderr",
          "output_type": "stream",
          "text": [
            "<ipython-input-35-db466a5c6fa1>:35: ExperimentalWarning: CatBoostPruningCallback is experimental (supported from v3.0.0). The interface can change in the future.\n",
            "  pruning_callback = CatBoostPruningCallback(trial, \"Accuracy\")\n"
          ]
        },
        {
          "name": "stdout",
          "output_type": "stream",
          "text": [
            "\u001b[32m[I 2023-04-23 17:54:48,211]\u001b[0m Trial 7 pruned. Trial was pruned at iteration 7.\u001b[0m\n"
          ]
        },
        {
          "name": "stderr",
          "output_type": "stream",
          "text": [
            "<ipython-input-35-db466a5c6fa1>:35: ExperimentalWarning: CatBoostPruningCallback is experimental (supported from v3.0.0). The interface can change in the future.\n",
            "  pruning_callback = CatBoostPruningCallback(trial, \"Accuracy\")\n"
          ]
        },
        {
          "name": "stdout",
          "output_type": "stream",
          "text": [
            "\u001b[32m[I 2023-04-23 17:56:11,105]\u001b[0m Trial 8 pruned. Trial was pruned at iteration 9.\u001b[0m\n"
          ]
        },
        {
          "name": "stderr",
          "output_type": "stream",
          "text": [
            "<ipython-input-35-db466a5c6fa1>:35: ExperimentalWarning: CatBoostPruningCallback is experimental (supported from v3.0.0). The interface can change in the future.\n",
            "  pruning_callback = CatBoostPruningCallback(trial, \"Accuracy\")\n"
          ]
        },
        {
          "name": "stdout",
          "output_type": "stream",
          "text": [
            "\u001b[32m[I 2023-04-23 18:01:29,428]\u001b[0m Trial 9 pruned. Trial was pruned at iteration 5.\u001b[0m\n"
          ]
        },
        {
          "name": "stderr",
          "output_type": "stream",
          "text": [
            "<ipython-input-35-db466a5c6fa1>:35: ExperimentalWarning: CatBoostPruningCallback is experimental (supported from v3.0.0). The interface can change in the future.\n",
            "  pruning_callback = CatBoostPruningCallback(trial, \"Accuracy\")\n"
          ]
        },
        {
          "name": "stdout",
          "output_type": "stream",
          "text": [
            "\u001b[32m[I 2023-04-23 18:01:57,896]\u001b[0m Trial 10 pruned. Trial was pruned at iteration 5.\u001b[0m\n"
          ]
        },
        {
          "name": "stderr",
          "output_type": "stream",
          "text": [
            "<ipython-input-35-db466a5c6fa1>:35: ExperimentalWarning: CatBoostPruningCallback is experimental (supported from v3.0.0). The interface can change in the future.\n",
            "  pruning_callback = CatBoostPruningCallback(trial, \"Accuracy\")\n"
          ]
        },
        {
          "name": "stdout",
          "output_type": "stream",
          "text": [
            "\u001b[32m[I 2023-04-23 18:02:02,307]\u001b[0m Trial 11 pruned. Trial was pruned at iteration 5.\u001b[0m\n"
          ]
        },
        {
          "name": "stderr",
          "output_type": "stream",
          "text": [
            "<ipython-input-35-db466a5c6fa1>:35: ExperimentalWarning: CatBoostPruningCallback is experimental (supported from v3.0.0). The interface can change in the future.\n",
            "  pruning_callback = CatBoostPruningCallback(trial, \"Accuracy\")\n"
          ]
        },
        {
          "name": "stdout",
          "output_type": "stream",
          "text": [
            "\u001b[32m[I 2023-04-23 18:07:21,097]\u001b[0m Trial 12 pruned. Trial was pruned at iteration 9.\u001b[0m\n"
          ]
        },
        {
          "name": "stderr",
          "output_type": "stream",
          "text": [
            "<ipython-input-35-db466a5c6fa1>:35: ExperimentalWarning: CatBoostPruningCallback is experimental (supported from v3.0.0). The interface can change in the future.\n",
            "  pruning_callback = CatBoostPruningCallback(trial, \"Accuracy\")\n"
          ]
        },
        {
          "name": "stdout",
          "output_type": "stream",
          "text": [
            "\u001b[32m[I 2023-04-23 18:09:31,901]\u001b[0m Trial 13 pruned. Trial was pruned at iteration 5.\u001b[0m\n"
          ]
        },
        {
          "name": "stderr",
          "output_type": "stream",
          "text": [
            "<ipython-input-35-db466a5c6fa1>:35: ExperimentalWarning: CatBoostPruningCallback is experimental (supported from v3.0.0). The interface can change in the future.\n",
            "  pruning_callback = CatBoostPruningCallback(trial, \"Accuracy\")\n"
          ]
        },
        {
          "name": "stdout",
          "output_type": "stream",
          "text": [
            "\u001b[32m[I 2023-04-23 18:15:30,493]\u001b[0m Trial 14 pruned. Trial was pruned at iteration 15.\u001b[0m\n"
          ]
        },
        {
          "name": "stderr",
          "output_type": "stream",
          "text": [
            "<ipython-input-35-db466a5c6fa1>:35: ExperimentalWarning: CatBoostPruningCallback is experimental (supported from v3.0.0). The interface can change in the future.\n",
            "  pruning_callback = CatBoostPruningCallback(trial, \"Accuracy\")\n"
          ]
        },
        {
          "name": "stdout",
          "output_type": "stream",
          "text": [
            "\u001b[32m[I 2023-04-23 18:24:27,575]\u001b[0m Trial 15 pruned. Trial was pruned at iteration 9.\u001b[0m\n"
          ]
        },
        {
          "name": "stderr",
          "output_type": "stream",
          "text": [
            "<ipython-input-35-db466a5c6fa1>:35: ExperimentalWarning: CatBoostPruningCallback is experimental (supported from v3.0.0). The interface can change in the future.\n",
            "  pruning_callback = CatBoostPruningCallback(trial, \"Accuracy\")\n"
          ]
        },
        {
          "name": "stdout",
          "output_type": "stream",
          "text": [
            "\u001b[32m[I 2023-04-23 18:25:01,310]\u001b[0m Trial 16 pruned. Trial was pruned at iteration 9.\u001b[0m\n"
          ]
        },
        {
          "name": "stderr",
          "output_type": "stream",
          "text": [
            "<ipython-input-35-db466a5c6fa1>:35: ExperimentalWarning: CatBoostPruningCallback is experimental (supported from v3.0.0). The interface can change in the future.\n",
            "  pruning_callback = CatBoostPruningCallback(trial, \"Accuracy\")\n"
          ]
        },
        {
          "name": "stdout",
          "output_type": "stream",
          "text": [
            "\u001b[32m[I 2023-04-23 18:26:42,363]\u001b[0m Trial 17 pruned. Trial was pruned at iteration 8.\u001b[0m\n"
          ]
        },
        {
          "name": "stderr",
          "output_type": "stream",
          "text": [
            "<ipython-input-35-db466a5c6fa1>:35: ExperimentalWarning: CatBoostPruningCallback is experimental (supported from v3.0.0). The interface can change in the future.\n",
            "  pruning_callback = CatBoostPruningCallback(trial, \"Accuracy\")\n"
          ]
        },
        {
          "name": "stdout",
          "output_type": "stream",
          "text": [
            "\u001b[32m[I 2023-04-23 18:47:10,799]\u001b[0m Trial 5 pruned. Trial was pruned at iteration 9.\u001b[0m\n"
          ]
        },
        {
          "name": "stderr",
          "output_type": "stream",
          "text": [
            "<ipython-input-35-db466a5c6fa1>:35: ExperimentalWarning: CatBoostPruningCallback is experimental (supported from v3.0.0). The interface can change in the future.\n",
            "  pruning_callback = CatBoostPruningCallback(trial, \"Accuracy\")\n"
          ]
        },
        {
          "name": "stdout",
          "output_type": "stream",
          "text": [
            "\u001b[32m[I 2023-04-23 18:59:17,114]\u001b[0m Trial 19 pruned. Trial was pruned at iteration 5.\u001b[0m\n"
          ]
        },
        {
          "name": "stderr",
          "output_type": "stream",
          "text": [
            "<ipython-input-35-db466a5c6fa1>:35: ExperimentalWarning: CatBoostPruningCallback is experimental (supported from v3.0.0). The interface can change in the future.\n",
            "  pruning_callback = CatBoostPruningCallback(trial, \"Accuracy\")\n"
          ]
        },
        {
          "name": "stdout",
          "output_type": "stream",
          "text": [
            "\u001b[32m[I 2023-04-23 19:00:18,306]\u001b[0m Trial 20 finished with value: 0.20787992589823687 and parameters: {'learning_rate': 0.0057473643944431115, 'l2_leaf_reg': 25, 'colsample_bylevel': 0.6598329789853887, 'auto_class_weights': 'Balanced', 'depth': 4, 'boosting_type': 'Plain', 'bootstrap_type': 'MVS'}. Best is trial 3 with value: 0.28474575565218835.\u001b[0m\n"
          ]
        },
        {
          "name": "stderr",
          "output_type": "stream",
          "text": [
            "<ipython-input-35-db466a5c6fa1>:35: ExperimentalWarning: CatBoostPruningCallback is experimental (supported from v3.0.0). The interface can change in the future.\n",
            "  pruning_callback = CatBoostPruningCallback(trial, \"Accuracy\")\n",
            "/usr/local/lib/python3.9/dist-packages/sklearn/metrics/_classification.py:2184: UserWarning: y_pred contains classes not in y_true\n",
            "  warnings.warn(\"y_pred contains classes not in y_true\")\n",
            "<ipython-input-35-db466a5c6fa1>:35: ExperimentalWarning: CatBoostPruningCallback is experimental (supported from v3.0.0). The interface can change in the future.\n",
            "  pruning_callback = CatBoostPruningCallback(trial, \"Accuracy\")\n"
          ]
        },
        {
          "name": "stdout",
          "output_type": "stream",
          "text": [
            "\u001b[32m[I 2023-04-23 19:11:27,372]\u001b[0m Trial 18 finished with value: 0.30985538083683867 and parameters: {'learning_rate': 0.003438196183787822, 'l2_leaf_reg': 26, 'colsample_bylevel': 0.49877678041213863, 'auto_class_weights': 'Balanced', 'depth': 7, 'boosting_type': 'Ordered', 'bootstrap_type': 'MVS'}. Best is trial 18 with value: 0.30985538083683867.\u001b[0m\n",
            "\u001b[32m[I 2023-04-23 19:31:16,262]\u001b[0m Trial 21 finished with value: 0.22094946388712966 and parameters: {'learning_rate': 0.0010668352410382466, 'l2_leaf_reg': 15, 'colsample_bylevel': 0.4960164434120844, 'auto_class_weights': 'Balanced', 'depth': 7, 'boosting_type': 'Ordered', 'bootstrap_type': 'MVS'}. Best is trial 18 with value: 0.30985538083683867.\u001b[0m\n"
          ]
        },
        {
          "name": "stderr",
          "output_type": "stream",
          "text": [
            "<ipython-input-35-db466a5c6fa1>:35: ExperimentalWarning: CatBoostPruningCallback is experimental (supported from v3.0.0). The interface can change in the future.\n",
            "  pruning_callback = CatBoostPruningCallback(trial, \"Accuracy\")\n"
          ]
        },
        {
          "name": "stdout",
          "output_type": "stream",
          "text": [
            "\u001b[32m[I 2023-04-23 19:32:37,859]\u001b[0m Trial 22 pruned. Trial was pruned at iteration 9.\u001b[0m\n"
          ]
        },
        {
          "name": "stderr",
          "output_type": "stream",
          "text": [
            "<ipython-input-35-db466a5c6fa1>:35: ExperimentalWarning: CatBoostPruningCallback is experimental (supported from v3.0.0). The interface can change in the future.\n",
            "  pruning_callback = CatBoostPruningCallback(trial, \"Accuracy\")\n"
          ]
        },
        {
          "name": "stdout",
          "output_type": "stream",
          "text": [
            "\u001b[32m[I 2023-04-23 19:59:15,923]\u001b[0m Trial 23 pruned. Trial was pruned at iteration 9.\u001b[0m\n"
          ]
        },
        {
          "name": "stderr",
          "output_type": "stream",
          "text": [
            "<ipython-input-35-db466a5c6fa1>:35: ExperimentalWarning: CatBoostPruningCallback is experimental (supported from v3.0.0). The interface can change in the future.\n",
            "  pruning_callback = CatBoostPruningCallback(trial, \"Accuracy\")\n"
          ]
        },
        {
          "name": "stdout",
          "output_type": "stream",
          "text": [
            "\u001b[32m[I 2023-04-23 20:02:29,548]\u001b[0m Trial 25 pruned. Trial was pruned at iteration 5.\u001b[0m\n"
          ]
        },
        {
          "name": "stderr",
          "output_type": "stream",
          "text": [
            "<ipython-input-35-db466a5c6fa1>:35: ExperimentalWarning: CatBoostPruningCallback is experimental (supported from v3.0.0). The interface can change in the future.\n",
            "  pruning_callback = CatBoostPruningCallback(trial, \"Accuracy\")\n"
          ]
        },
        {
          "name": "stdout",
          "output_type": "stream",
          "text": [
            "\u001b[32m[I 2023-04-23 20:35:35,285]\u001b[0m Trial 24 pruned. Trial was pruned at iteration 9.\u001b[0m\n"
          ]
        },
        {
          "name": "stderr",
          "output_type": "stream",
          "text": [
            "<ipython-input-35-db466a5c6fa1>:35: ExperimentalWarning: CatBoostPruningCallback is experimental (supported from v3.0.0). The interface can change in the future.\n",
            "  pruning_callback = CatBoostPruningCallback(trial, \"Accuracy\")\n"
          ]
        },
        {
          "name": "stdout",
          "output_type": "stream",
          "text": [
            "\u001b[32m[I 2023-04-23 20:36:09,258]\u001b[0m Trial 27 pruned. Trial was pruned at iteration 5.\u001b[0m\n"
          ]
        },
        {
          "name": "stderr",
          "output_type": "stream",
          "text": [
            "<ipython-input-35-db466a5c6fa1>:35: ExperimentalWarning: CatBoostPruningCallback is experimental (supported from v3.0.0). The interface can change in the future.\n",
            "  pruning_callback = CatBoostPruningCallback(trial, \"Accuracy\")\n"
          ]
        },
        {
          "name": "stdout",
          "output_type": "stream",
          "text": [
            "\u001b[32m[I 2023-04-23 21:10:44,968]\u001b[0m Trial 26 pruned. Trial was pruned at iteration 9.\u001b[0m\n"
          ]
        },
        {
          "name": "stderr",
          "output_type": "stream",
          "text": [
            "<ipython-input-35-db466a5c6fa1>:35: ExperimentalWarning: CatBoostPruningCallback is experimental (supported from v3.0.0). The interface can change in the future.\n",
            "  pruning_callback = CatBoostPruningCallback(trial, \"Accuracy\")\n"
          ]
        },
        {
          "name": "stdout",
          "output_type": "stream",
          "text": [
            "\u001b[32m[I 2023-04-23 21:12:07,088]\u001b[0m Trial 29 pruned. Trial was pruned at iteration 5.\u001b[0m\n"
          ]
        },
        {
          "name": "stderr",
          "output_type": "stream",
          "text": [
            "<ipython-input-35-db466a5c6fa1>:35: ExperimentalWarning: CatBoostPruningCallback is experimental (supported from v3.0.0). The interface can change in the future.\n",
            "  pruning_callback = CatBoostPruningCallback(trial, \"Accuracy\")\n"
          ]
        },
        {
          "name": "stdout",
          "output_type": "stream",
          "text": [
            "\u001b[32m[I 2023-04-23 21:13:32,012]\u001b[0m Trial 30 pruned. Trial was pruned at iteration 9.\u001b[0m\n"
          ]
        },
        {
          "name": "stderr",
          "output_type": "stream",
          "text": [
            "<ipython-input-35-db466a5c6fa1>:35: ExperimentalWarning: CatBoostPruningCallback is experimental (supported from v3.0.0). The interface can change in the future.\n",
            "  pruning_callback = CatBoostPruningCallback(trial, \"Accuracy\")\n"
          ]
        },
        {
          "name": "stdout",
          "output_type": "stream",
          "text": [
            "\u001b[32m[I 2023-04-23 21:17:50,343]\u001b[0m Trial 31 pruned. Trial was pruned at iteration 8.\u001b[0m\n"
          ]
        },
        {
          "name": "stderr",
          "output_type": "stream",
          "text": [
            "<ipython-input-35-db466a5c6fa1>:35: ExperimentalWarning: CatBoostPruningCallback is experimental (supported from v3.0.0). The interface can change in the future.\n",
            "  pruning_callback = CatBoostPruningCallback(trial, \"Accuracy\")\n"
          ]
        }
      ],
      "source": [
        "study = optuna.create_study(direction=\"maximize\",\n",
        "                            pruner=optuna.pruners.MedianPruner(n_warmup_steps=5),)\n",
        "study.optimize(objective,\n",
        "               n_trials=600,\n",
        "               n_jobs = -1,\n",
        "               show_progress_bar=True,)"
      ]
    },
    {
      "cell_type": "code",
      "execution_count": null,
      "metadata": {
        "id": "djq3tKkkIF_N"
      },
      "outputs": [],
      "source": [
        "print(\"Number of finished trials: {}\".format(len(study.trials)))\n",
        "print(\"Best trial:\")\n",
        "trial = study.best_trial\n",
        "print(\"  Value: {}\".format(trial.value))\n",
        "print(\"  Params: \")\n",
        "\n",
        "for key, value in trial.params.items():\n",
        "    print(\"    {}: {}\".format(key, value))"
      ]
    },
    {
      "cell_type": "code",
      "execution_count": null,
      "metadata": {
        "id": "2A5SsfISHOPr"
      },
      "outputs": [],
      "source": [
        "print(\"Best trial: score {}, params {}\".format(study.best_trial.value, study.best_trial.params))"
      ]
    },
    {
      "cell_type": "code",
      "execution_count": null,
      "metadata": {
        "id": "robwQEaBHTBl"
      },
      "outputs": [],
      "source": [
        "valid_scores, models = objective(\n",
        "    optuna.trial.FixedTrial(study.best_params),\n",
        "    return_models=True,\n",
        ")"
      ]
    },
    {
      "cell_type": "code",
      "execution_count": null,
      "metadata": {
        "id": "gRNFA4UeHV2s"
      },
      "outputs": [],
      "source": [
        "valid_scores, len(models)"
      ]
    },
    {
      "cell_type": "code",
      "execution_count": null,
      "metadata": {
        "id": "3tRIpHoOHa32"
      },
      "outputs": [],
      "source": [
        "# Важность параметров\n",
        "optuna.visualization.plot_param_importances(study)"
      ]
    },
    {
      "cell_type": "markdown",
      "metadata": {
        "id": "Jy-PL9jeGDet"
      },
      "source": [
        "##Kfold"
      ]
    },
    {
      "cell_type": "code",
      "execution_count": null,
      "metadata": {
        "colab": {
          "base_uri": "https://localhost:8080/"
        },
        "id": "zQFPFYqun-is",
        "outputId": "0986b87b-25dd-43a9-b52d-aee9c2ce40a8"
      },
      "outputs": [
        {
          "name": "stdout",
          "output_type": "stream",
          "text": [
            "fold: 0 acc: 0.5073460946716484\n",
            "fold: 1 acc: 0.4729106300938881\n",
            "fold: 2 acc: 0.450302695042514\n",
            "mean accuracy score -- 0.4502 0.0\n"
          ]
        }
      ],
      "source": [
        "from sklearn.model_selection import KFold, StratifiedKFold\n",
        "\n",
        "X = train[filtered_features].drop(targets, axis=1, errors=\"ignore\")\n",
        "y = train[\"category\"]\n",
        "\n",
        "n_splits = 3\n",
        "clfs = []\n",
        "# scores = []\n",
        "acc_scores = []\n",
        "\n",
        "kf = KFold(n_splits=n_splits, shuffle=True, random_state=7575)\n",
        "for num, (train_index, test_index) in enumerate(kf.split(X)):\n",
        "\n",
        "  X_train, X_test = X.iloc[train_index], X.iloc[test_index]\n",
        "  y_train, y_test = y.iloc[train_index], y.iloc[test_index]\n",
        "  clf = CatBoostClassifier(\n",
        "      cat_features=cat_features\n",
        "      )\n",
        "  clfs.append(clf)\n",
        "\n",
        "  clf.fit(X_train, y_train, \n",
        "          eval_set=(X_test, y_test),\n",
        "          verbose=False, plot=False)\n",
        "   \n",
        "\n",
        "  y_pred = clf.predict(X_test)  \n",
        "  \n",
        "  acc_score = balanced_accuracy_score(y_test.values, y_pred)\n",
        "\n",
        "  print(f'fold: {num} acc: {acc_score}')\n",
        "  # score = np.mean(np.array(y_pred == y_test.values))\n",
        "  # scores.append(score)\n",
        "  # print(f\"fold: {num} acc: {score}\")\n",
        "  acc_scores.append(acc_score)\n",
        "\n",
        "assert len(clfs) == n_splits  # Проверка, что все ок\n",
        "\n",
        "# Считаем среднее и дисперсию по всем фолдам\n",
        "print(\"mean accuracy score --\", np.mean(acc_score, dtype=\"float16\"), np.std(acc_score).round(4))    "
      ]
    },
    {
      "cell_type": "code",
      "execution_count": null,
      "metadata": {
        "id": "RG7KVbdoeMZn"
      },
      "outputs": [],
      "source": [
        "\n",
        "import pickle\n",
        "\n",
        "with open(f'model.pkl', \"wb\") as f:\n",
        "        pickle.dump(clf, f)"
      ]
    }
  ],
  "metadata": {
    "colab": {
      "provenance": [],
      "authorship_tag": "ABX9TyN7x7F/omagrHdVRvPeZkis",
      "include_colab_link": true
    },
    "kernelspec": {
      "display_name": "Python 3",
      "name": "python3"
    },
    "language_info": {
      "name": "python"
    },
    "widgets": {
      "application/vnd.jupyter.widget-state+json": {
        "0893114b997a43c99ac583173f5f0059": {
          "model_module": "@jupyter-widgets/controls",
          "model_module_version": "1.5.0",
          "model_name": "HBoxModel",
          "state": {
            "_dom_classes": [],
            "_model_module": "@jupyter-widgets/controls",
            "_model_module_version": "1.5.0",
            "_model_name": "HBoxModel",
            "_view_count": null,
            "_view_module": "@jupyter-widgets/controls",
            "_view_module_version": "1.5.0",
            "_view_name": "HBoxView",
            "box_style": "",
            "children": [
              "IPY_MODEL_f74dbd1b5f0246118daa39a3b2809cc5",
              "IPY_MODEL_21169b16a14b4d98a716396a13a43246",
              "IPY_MODEL_1757fe3027774c34b80bf0970f25c235"
            ],
            "layout": "IPY_MODEL_2ee2e3507fee419d9622c4a414f77821"
          }
        },
        "12fa39633b4848648a42566e0d17ee59": {
          "model_module": "@jupyter-widgets/base",
          "model_module_version": "1.2.0",
          "model_name": "LayoutModel",
          "state": {
            "_model_module": "@jupyter-widgets/base",
            "_model_module_version": "1.2.0",
            "_model_name": "LayoutModel",
            "_view_count": null,
            "_view_module": "@jupyter-widgets/base",
            "_view_module_version": "1.2.0",
            "_view_name": "LayoutView",
            "align_content": null,
            "align_items": null,
            "align_self": null,
            "border": null,
            "bottom": null,
            "display": null,
            "flex": null,
            "flex_flow": null,
            "grid_area": null,
            "grid_auto_columns": null,
            "grid_auto_flow": null,
            "grid_auto_rows": null,
            "grid_column": null,
            "grid_gap": null,
            "grid_row": null,
            "grid_template_areas": null,
            "grid_template_columns": null,
            "grid_template_rows": null,
            "height": null,
            "justify_content": null,
            "justify_items": null,
            "left": null,
            "margin": null,
            "max_height": null,
            "max_width": null,
            "min_height": null,
            "min_width": null,
            "object_fit": null,
            "object_position": null,
            "order": null,
            "overflow": null,
            "overflow_x": null,
            "overflow_y": null,
            "padding": null,
            "right": null,
            "top": null,
            "visibility": null,
            "width": null
          }
        },
        "1757fe3027774c34b80bf0970f25c235": {
          "model_module": "@jupyter-widgets/controls",
          "model_module_version": "1.5.0",
          "model_name": "HTMLModel",
          "state": {
            "_dom_classes": [],
            "_model_module": "@jupyter-widgets/controls",
            "_model_module_version": "1.5.0",
            "_model_name": "HTMLModel",
            "_view_count": null,
            "_view_module": "@jupyter-widgets/controls",
            "_view_module_version": "1.5.0",
            "_view_name": "HTMLView",
            "description": "",
            "description_tooltip": null,
            "layout": "IPY_MODEL_12fa39633b4848648a42566e0d17ee59",
            "placeholder": "​",
            "style": "IPY_MODEL_fc34efd89e4641639400ded715eb2c0e",
            "value": " 25/600 [2:36:41&lt;103:14:36, 646.39s/it]"
          }
        },
        "21169b16a14b4d98a716396a13a43246": {
          "model_module": "@jupyter-widgets/controls",
          "model_module_version": "1.5.0",
          "model_name": "FloatProgressModel",
          "state": {
            "_dom_classes": [],
            "_model_module": "@jupyter-widgets/controls",
            "_model_module_version": "1.5.0",
            "_model_name": "FloatProgressModel",
            "_view_count": null,
            "_view_module": "@jupyter-widgets/controls",
            "_view_module_version": "1.5.0",
            "_view_name": "ProgressView",
            "bar_style": "",
            "description": "",
            "description_tooltip": null,
            "layout": "IPY_MODEL_630e244482a34426a352be992824d9b2",
            "max": 600,
            "min": 0,
            "orientation": "horizontal",
            "style": "IPY_MODEL_cbe8960b0ade4e36881592f696f739ba",
            "value": 25
          }
        },
        "2ee2e3507fee419d9622c4a414f77821": {
          "model_module": "@jupyter-widgets/base",
          "model_module_version": "1.2.0",
          "model_name": "LayoutModel",
          "state": {
            "_model_module": "@jupyter-widgets/base",
            "_model_module_version": "1.2.0",
            "_model_name": "LayoutModel",
            "_view_count": null,
            "_view_module": "@jupyter-widgets/base",
            "_view_module_version": "1.2.0",
            "_view_name": "LayoutView",
            "align_content": null,
            "align_items": null,
            "align_self": null,
            "border": null,
            "bottom": null,
            "display": null,
            "flex": null,
            "flex_flow": null,
            "grid_area": null,
            "grid_auto_columns": null,
            "grid_auto_flow": null,
            "grid_auto_rows": null,
            "grid_column": null,
            "grid_gap": null,
            "grid_row": null,
            "grid_template_areas": null,
            "grid_template_columns": null,
            "grid_template_rows": null,
            "height": null,
            "justify_content": null,
            "justify_items": null,
            "left": null,
            "margin": null,
            "max_height": null,
            "max_width": null,
            "min_height": null,
            "min_width": null,
            "object_fit": null,
            "object_position": null,
            "order": null,
            "overflow": null,
            "overflow_x": null,
            "overflow_y": null,
            "padding": null,
            "right": null,
            "top": null,
            "visibility": null,
            "width": null
          }
        },
        "560af7e486364853a73e63705ef1a16a": {
          "model_module": "@jupyter-widgets/controls",
          "model_module_version": "1.5.0",
          "model_name": "DescriptionStyleModel",
          "state": {
            "_model_module": "@jupyter-widgets/controls",
            "_model_module_version": "1.5.0",
            "_model_name": "DescriptionStyleModel",
            "_view_count": null,
            "_view_module": "@jupyter-widgets/base",
            "_view_module_version": "1.2.0",
            "_view_name": "StyleView",
            "description_width": ""
          }
        },
        "630e244482a34426a352be992824d9b2": {
          "model_module": "@jupyter-widgets/base",
          "model_module_version": "1.2.0",
          "model_name": "LayoutModel",
          "state": {
            "_model_module": "@jupyter-widgets/base",
            "_model_module_version": "1.2.0",
            "_model_name": "LayoutModel",
            "_view_count": null,
            "_view_module": "@jupyter-widgets/base",
            "_view_module_version": "1.2.0",
            "_view_name": "LayoutView",
            "align_content": null,
            "align_items": null,
            "align_self": null,
            "border": null,
            "bottom": null,
            "display": null,
            "flex": null,
            "flex_flow": null,
            "grid_area": null,
            "grid_auto_columns": null,
            "grid_auto_flow": null,
            "grid_auto_rows": null,
            "grid_column": null,
            "grid_gap": null,
            "grid_row": null,
            "grid_template_areas": null,
            "grid_template_columns": null,
            "grid_template_rows": null,
            "height": null,
            "justify_content": null,
            "justify_items": null,
            "left": null,
            "margin": null,
            "max_height": null,
            "max_width": null,
            "min_height": null,
            "min_width": null,
            "object_fit": null,
            "object_position": null,
            "order": null,
            "overflow": null,
            "overflow_x": null,
            "overflow_y": null,
            "padding": null,
            "right": null,
            "top": null,
            "visibility": null,
            "width": null
          }
        },
        "b8a9562125fb4146abdacc52bf1da228": {
          "model_module": "@jupyter-widgets/base",
          "model_module_version": "1.2.0",
          "model_name": "LayoutModel",
          "state": {
            "_model_module": "@jupyter-widgets/base",
            "_model_module_version": "1.2.0",
            "_model_name": "LayoutModel",
            "_view_count": null,
            "_view_module": "@jupyter-widgets/base",
            "_view_module_version": "1.2.0",
            "_view_name": "LayoutView",
            "align_content": null,
            "align_items": null,
            "align_self": null,
            "border": null,
            "bottom": null,
            "display": null,
            "flex": null,
            "flex_flow": null,
            "grid_area": null,
            "grid_auto_columns": null,
            "grid_auto_flow": null,
            "grid_auto_rows": null,
            "grid_column": null,
            "grid_gap": null,
            "grid_row": null,
            "grid_template_areas": null,
            "grid_template_columns": null,
            "grid_template_rows": null,
            "height": null,
            "justify_content": null,
            "justify_items": null,
            "left": null,
            "margin": null,
            "max_height": null,
            "max_width": null,
            "min_height": null,
            "min_width": null,
            "object_fit": null,
            "object_position": null,
            "order": null,
            "overflow": null,
            "overflow_x": null,
            "overflow_y": null,
            "padding": null,
            "right": null,
            "top": null,
            "visibility": null,
            "width": null
          }
        },
        "cbe8960b0ade4e36881592f696f739ba": {
          "model_module": "@jupyter-widgets/controls",
          "model_module_version": "1.5.0",
          "model_name": "ProgressStyleModel",
          "state": {
            "_model_module": "@jupyter-widgets/controls",
            "_model_module_version": "1.5.0",
            "_model_name": "ProgressStyleModel",
            "_view_count": null,
            "_view_module": "@jupyter-widgets/base",
            "_view_module_version": "1.2.0",
            "_view_name": "StyleView",
            "bar_color": null,
            "description_width": ""
          }
        },
        "f74dbd1b5f0246118daa39a3b2809cc5": {
          "model_module": "@jupyter-widgets/controls",
          "model_module_version": "1.5.0",
          "model_name": "HTMLModel",
          "state": {
            "_dom_classes": [],
            "_model_module": "@jupyter-widgets/controls",
            "_model_module_version": "1.5.0",
            "_model_name": "HTMLModel",
            "_view_count": null,
            "_view_module": "@jupyter-widgets/controls",
            "_view_module_version": "1.5.0",
            "_view_name": "HTMLView",
            "description": "",
            "description_tooltip": null,
            "layout": "IPY_MODEL_b8a9562125fb4146abdacc52bf1da228",
            "placeholder": "​",
            "style": "IPY_MODEL_560af7e486364853a73e63705ef1a16a",
            "value": "Best trial: 18. Best value: 0.309855:   4%"
          }
        },
        "fc34efd89e4641639400ded715eb2c0e": {
          "model_module": "@jupyter-widgets/controls",
          "model_module_version": "1.5.0",
          "model_name": "DescriptionStyleModel",
          "state": {
            "_model_module": "@jupyter-widgets/controls",
            "_model_module_version": "1.5.0",
            "_model_name": "DescriptionStyleModel",
            "_view_count": null,
            "_view_module": "@jupyter-widgets/base",
            "_view_module_version": "1.2.0",
            "_view_name": "StyleView",
            "description_width": ""
          }
        }
      }
    }
  },
  "nbformat": 4,
  "nbformat_minor": 0
}