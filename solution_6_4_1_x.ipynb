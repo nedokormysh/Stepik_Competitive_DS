{
  "cells": [
    {
      "cell_type": "markdown",
      "metadata": {
        "id": "view-in-github",
        "colab_type": "text"
      },
      "source": [
        "<a href=\"https://colab.research.google.com/github/nedokormysh/Stepik_Competitive_DS/blob/week_6/solution_6_4_1_x.ipynb\" target=\"_parent\"><img src=\"https://colab.research.google.com/assets/colab-badge.svg\" alt=\"Open In Colab\"/></a>"
      ]
    },
    {
      "cell_type": "markdown",
      "source": [
        "# Условие"
      ],
      "metadata": {
        "id": "9MtZzUECZicX"
      }
    },
    {
      "cell_type": "markdown",
      "source": [
        "**Задача: Обучи модели для блендинга и стекинга, выбери лучшие**\n",
        "\n",
        "Датасеты: quickstart_train.csv и quickstart_test.csv.\n",
        "\n",
        "Регрессионный таргет: столбец target_reg , метрика RMSE.\n",
        "\n",
        "Для блендинга и стекинга выбрать 3 модели:\n",
        "\n",
        "* Любые 2 бустинга на ваш выбор.\n",
        "* Любую другую модель (не бустинг).\n",
        "\n",
        "Для стекинга в качестве метамодели желательно взять простой алгоритм (регрессию, KNN и т. п.).\n",
        "\n",
        "Далее реализуем блендинг и стекинг и делаем финальное предсказание:\n",
        "\n",
        "* можно выбрать предсказание от блендинга;\n",
        "* можно от стекинга;\n",
        "* можно ансамбль блендинга и стекинга;\n",
        "* можно блендинг блендинга и стекинга с весами 🙈.\n",
        "\n",
        "**Дополнительные условия:**\n",
        "\n",
        "Особенно ничем вас не ограничиваем, можно пользоваться всем арсеналом: подбирать гиперпараметры в Optuna, генерить\\отбирать признаки и т. п. Но желательно сосредоточиться на освоении блендинга со стекингом и подбором моделей для них.\n",
        "Сохраняем в submission.csv только колонки car_id и target_reg.\n",
        "В конце добавляем выводы о проделанных экспериментах, что зашло\\не зашло.\n",
        "Желательно, чтобы на выполнение всего ноутбука уходило не более 30 мин.\n",
        "\n",
        "**Критерии оценки (максимум 10 баллов за задание):**\n",
        "\n",
        "*Оформление (3 балла)*\n",
        "\n",
        "прослеживается логика в последовательности решения задачи; в неочевидных местах добавлены поясняющие комментарии и маркдаун ячейки; ноутбук не перегружен лишней информацией, огромными простынями аутпутов ячеек (настраиваем verbose, скрываем служебную информацию после установки библиотек);\n",
        "хороший codestyle: код соответствует PEP 8 и DRY, названия переменных и функций понятны либо соответствуют общепринятым нормам (train, test, model, pd, xgb и т. п.);\n",
        "в конце присутствуют выводы о проделанных экспериментах.\n",
        "\n",
        "*Решение задачи и выполнение доп. условий (3 балла)*\n",
        "\n",
        "ноутбук выполняется до конца без ошибок (присутствуют все аутпуты в пдф);\n",
        "реализованы блендинг со стекингом и выполнены доп. условия;\n",
        "проведена работа над воспроизводимостью (зафиксированы все random seeds).\n",
        "\n",
        "*Использование возможностей фреймворка (2 балла)*\n",
        "\n",
        "корректная подготовка данных для использования в ансамбле;\n",
        "используется early_stopping, многопоточность (n_threads) и пр.;\n",
        "правильная подготовка категориальных признаков для каждой модели;\n",
        "корректное использование пайплайнов и функций sklearn или другой библиотеки.\n",
        "\n",
        "*Дополнительные баллы (макс. 2 балла)*\n",
        "\n",
        "* 1 балл, если проводился подбор гиперпараметров;\n",
        "* 1 балл, если использованы минимум 2 вида графики, и на основе их сделаны какие-либо выводы (не просто график ради красивой картинки, а с пользой для дела);\n",
        "* 1 балл, если для ансамблей использовались библиотеки, не затронутые или кратко упомянутые в уроках (pystacknet и пр.);\n",
        "* 1 балл, если использовались ансамблевые методы, не затронутые в уроках (стекинг с фичами, стекинг с весами и пр.)."
      ],
      "metadata": {
        "id": "rOQs4UzEZltt"
      }
    },
    {
      "cell_type": "code",
      "execution_count": 1,
      "metadata": {
        "id": "5dIF98Se4p9T",
        "colab": {
          "base_uri": "https://localhost:8080/"
        },
        "outputId": "4cfa2ae7-9ceb-4dcb-86e6-65cf17167ec7"
      },
      "outputs": [
        {
          "output_type": "stream",
          "name": "stdout",
          "text": [
            "\u001b[2K     \u001b[90m━━━━━━━━━━━━━━━━━━━━━━━━━━━━━━━━━━━━━━━━\u001b[0m \u001b[32m98.6/98.6 MB\u001b[0m \u001b[31m8.6 MB/s\u001b[0m eta \u001b[36m0:00:00\u001b[0m\n",
            "\u001b[2K     \u001b[90m━━━━━━━━━━━━━━━━━━━━━━━━━━━━━━━━━━━━━━━\u001b[0m \u001b[32m44.5/44.5 kB\u001b[0m \u001b[31m937.5 kB/s\u001b[0m eta \u001b[36m0:00:00\u001b[0m\n",
            "\u001b[2K     \u001b[90m━━━━━━━━━━━━━━━━━━━━━━━━━━━━━━━━━━━━━━━\u001b[0m \u001b[32m404.2/404.2 kB\u001b[0m \u001b[31m4.2 MB/s\u001b[0m eta \u001b[36m0:00:00\u001b[0m\n",
            "\u001b[2K     \u001b[90m━━━━━━━━━━━━━━━━━━━━━━━━━━━━━━━━━━━━━━━\u001b[0m \u001b[32m225.4/225.4 kB\u001b[0m \u001b[31m8.9 MB/s\u001b[0m eta \u001b[36m0:00:00\u001b[0m\n",
            "\u001b[2K     \u001b[90m━━━━━━━━━━━━━━━━━━━━━━━━━━━━━━━━━━━━━━━━\u001b[0m \u001b[32m78.7/78.7 kB\u001b[0m \u001b[31m5.5 MB/s\u001b[0m eta \u001b[36m0:00:00\u001b[0m\n",
            "\u001b[2K     \u001b[90m━━━━━━━━━━━━━━━━━━━━━━━━━━━━━━━━━━━━━━━━\u001b[0m \u001b[32m58.4/58.4 kB\u001b[0m \u001b[31m1.9 MB/s\u001b[0m eta \u001b[36m0:00:00\u001b[0m\n",
            "\u001b[?25h"
          ]
        }
      ],
      "source": [
        "!pip install catboost -q\n",
        "!pip install pytorch-tabnet -q\n",
        "!pip install optuna -q\n",
        "!pip install gerrychain -q\n",
        "# !pip install lightgbm -q\n",
        "# !pip install xgboost -q"
      ]
    },
    {
      "cell_type": "markdown",
      "source": [
        "# Загрузка библиотек"
      ],
      "metadata": {
        "id": "6ZinwEJNmtjh"
      }
    },
    {
      "cell_type": "code",
      "execution_count": 2,
      "metadata": {
        "id": "IgQDTCw84tI6"
      },
      "outputs": [],
      "source": [
        "from typing import Any\n",
        "import re\n",
        "\n",
        "from gerrychain.random import random\n",
        "\n",
        "import pandas as pd\n",
        "import numpy as np\n",
        "import seaborn as sns\n",
        "import time\n",
        "\n",
        "import optuna\n",
        "from optuna.integration import CatBoostPruningCallback, LightGBMPruningCallback, XGBoostPruningCallback\n",
        "from optuna.integration.pytorch_lightning import PyTorchLightningPruningCallback\n",
        "optuna.logging.set_verbosity(optuna.logging.WARNING)\n",
        "\n",
        "from sklearn.model_selection import GridSearchCV, RandomizedSearchCV\n",
        "from sklearn.metrics import mean_squared_error\n",
        "import matplotlib.pyplot as plt\n",
        "from catboost import CatBoostClassifier, CatBoostRegressor, Pool\n",
        "import lightgbm as lgb\n",
        "from lightgbm import LGBMRegressor, early_stopping, Dataset\n",
        "import xgboost as xgb\n",
        "from xgboost import XGBRegressor\n",
        "from sklearn.neighbors import KNeighborsRegressor\n",
        "from sklearn.dummy import DummyRegressor\n",
        "from sklearn.linear_model import ElasticNet\n",
        "from pytorch_tabnet.tab_model import TabNetRegressor\n",
        "from sklearn.ensemble import RandomForestRegressor, GradientBoostingRegressor\n",
        "from sklearn.ensemble import ExtraTreesRegressor, StackingRegressor\n",
        "from sklearn.gaussian_process import GaussianProcessRegressor\n",
        "from sklearn.neural_network import MLPRegressor\n",
        "from sklearn.svm import NuSVR\n",
        "\n",
        "from sklearn.model_selection import KFold, StratifiedKFold\n",
        "from sklearn.model_selection import train_test_split\n",
        "from sklearn.pipeline import Pipeline\n",
        "from sklearn.compose import TransformedTargetRegressor\n",
        "from sklearn.pipeline import make_pipeline\n",
        "\n",
        "from sklearn.preprocessing import OneHotEncoder, MinMaxScaler, StandardScaler, LabelEncoder\n",
        "from sklearn.compose import ColumnTransformer\n",
        "from sklearn.base import BaseEstimator, TransformerMixin\n",
        "from sklearn.impute import SimpleImputer\n",
        "\n",
        "from torch.utils.data import Dataset, DataLoader\n",
        "import torch\n",
        "from torch import nn\n",
        "import copy\n",
        "\n",
        "import pickle\n",
        "import warnings\n",
        "warnings.simplefilter('ignore')"
      ]
    },
    {
      "cell_type": "code",
      "source": [
        "# фиксируем random state согласно инструкции для optuna\n",
        "!export PYTHONHASHSEED=0\n",
        "random.seed(7575)"
      ],
      "metadata": {
        "id": "2gu8oh9NsVEu"
      },
      "execution_count": 3,
      "outputs": []
    },
    {
      "cell_type": "markdown",
      "metadata": {
        "id": "zgO2qpPZ43g5"
      },
      "source": [
        "# Загрузка данных"
      ]
    },
    {
      "cell_type": "code",
      "source": [
        "start = time.time()"
      ],
      "metadata": {
        "id": "tyTTl1okbO4x"
      },
      "execution_count": 4,
      "outputs": []
    },
    {
      "cell_type": "code",
      "execution_count": 5,
      "metadata": {
        "id": "EhZIFbTt46Ji"
      },
      "outputs": [],
      "source": [
        "PATH_TRAIN = 'https://raw.githubusercontent.com/a-milenkin/Competitive_Data_Science/main/data/quickstart_train.csv'\n",
        "PATH_TEST = 'https://raw.githubusercontent.com/a-milenkin/Competitive_Data_Science/main/data/quickstart_test.csv'"
      ]
    },
    {
      "cell_type": "markdown",
      "metadata": {
        "id": "roP1HSwI4_yK"
      },
      "source": [
        "## Оптимизируем объём памяти."
      ]
    },
    {
      "cell_type": "code",
      "execution_count": 6,
      "metadata": {
        "id": "hBUtQ5w149jK"
      },
      "outputs": [],
      "source": [
        "def reduce_mem_usage(df: pd.DataFrame) -> pd.DataFrame:\n",
        "    \"\"\" iterate through all the columns of a dataframe and modify the data type\n",
        "        to reduce memory usage.\n",
        "    \"\"\"\n",
        "    start_mem = df.memory_usage().sum() / 1024**2\n",
        "    print('Memory usage of dataframe is {:.2f} MB'.format(start_mem))\n",
        "\n",
        "    for col in df.columns:\n",
        "        col_type = df[col].dtype\n",
        "\n",
        "        if col_type != object:\n",
        "            c_min = df[col].min()\n",
        "            c_max = df[col].max()\n",
        "            if str(col_type)[:3] == 'int':\n",
        "                if c_min > np.iinfo(np.int8).min and c_max < np.iinfo(np.int8).max:\n",
        "                    df[col] = df[col].astype(np.int8)\n",
        "                elif c_min > np.iinfo(np.int16).min and c_max < np.iinfo(np.int16).max:\n",
        "                    df[col] = df[col].astype(np.int16)\n",
        "                elif c_min > np.iinfo(np.int32).min and c_max < np.iinfo(np.int32).max:\n",
        "                    df[col] = df[col].astype(np.int32)\n",
        "                elif c_min > np.iinfo(np.int64).min and c_max < np.iinfo(np.int64).max:\n",
        "                    df[col] = df[col].astype(np.int64)\n",
        "            else:\n",
        "                if c_min > np.finfo(np.float16).min and c_max < np.finfo(np.float16).max:\n",
        "                    df[col] = df[col].astype(np.float16)\n",
        "                elif c_min > np.finfo(np.float32).min and c_max < np.finfo(np.float32).max:\n",
        "                    df[col] = df[col].astype(np.float32)\n",
        "                else:\n",
        "                    df[col] = df[col].astype(np.float64)\n",
        "        else:\n",
        "            df[col] = df[col].astype('category')\n",
        "\n",
        "    end_mem = df.memory_usage().sum() / 1024**2\n",
        "    print('Memory usage after optimization is: {:.2f} MB'.format(end_mem))\n",
        "    print('Decreased by {:.1f}%'.format(100 * (start_mem - end_mem) / start_mem))\n",
        "\n",
        "    return df\n",
        "\n",
        "def import_data(file: str)-> pd.DataFrame:\n",
        "    \"\"\"create a dataframe and optimize its memory usage\"\"\"\n",
        "    df = pd.read_csv(file, parse_dates=True, keep_date_col=True)\n",
        "    df = reduce_mem_usage(df)\n",
        "    return df"
      ]
    },
    {
      "cell_type": "code",
      "execution_count": 7,
      "metadata": {
        "colab": {
          "base_uri": "https://localhost:8080/"
        },
        "id": "O7qc383Aa5aA",
        "outputId": "b12c36b5-e6b8-44ed-f8c3-ca653dc608d0"
      },
      "outputs": [
        {
          "output_type": "stream",
          "name": "stdout",
          "text": [
            "train\n",
            "Memory usage of dataframe is 0.30 MB\n",
            "Memory usage after optimization is: 0.16 MB\n",
            "Decreased by 47.7%\n",
            "--------------------------------------------------------------------------------\n",
            "test\n",
            "Memory usage of dataframe is 0.23 MB\n",
            "Memory usage after optimization is: 0.14 MB\n",
            "Decreased by 40.9%\n"
          ]
        }
      ],
      "source": [
        "print('train')\n",
        "train = import_data(PATH_TRAIN)\n",
        "\n",
        "print('-' * 80)\n",
        "print('test')\n",
        "test = import_data(PATH_TEST)"
      ]
    },
    {
      "cell_type": "markdown",
      "source": [
        "## Подготовка данных"
      ],
      "metadata": {
        "id": "S5fDEeqH1_VE"
      }
    },
    {
      "cell_type": "code",
      "source": [
        "train.hist(figsize=(12,8), layout=(-1,5), bins=20, edgecolor='black')"
      ],
      "metadata": {
        "colab": {
          "base_uri": "https://localhost:8080/",
          "height": 925
        },
        "id": "n5fM3gbK9_yw",
        "outputId": "ff692b47-cea3-45b0-9865-df0caeed33c7"
      },
      "execution_count": 8,
      "outputs": [
        {
          "output_type": "execute_result",
          "data": {
            "text/plain": [
              "array([[<Axes: title={'center': 'car_rating'}>,\n",
              "        <Axes: title={'center': 'year_to_start'}>,\n",
              "        <Axes: title={'center': 'riders'}>,\n",
              "        <Axes: title={'center': 'year_to_work'}>,\n",
              "        <Axes: title={'center': 'target_reg'}>],\n",
              "       [<Axes: title={'center': 'mean_rating'}>,\n",
              "        <Axes: title={'center': 'distance_sum'}>,\n",
              "        <Axes: title={'center': 'rating_min'}>,\n",
              "        <Axes: title={'center': 'speed_max'}>,\n",
              "        <Axes: title={'center': 'user_ride_quality_median'}>],\n",
              "       [<Axes: title={'center': 'deviation_normal_count'}>,\n",
              "        <Axes: title={'center': 'user_uniq'}>, <Axes: >, <Axes: >,\n",
              "        <Axes: >]], dtype=object)"
            ]
          },
          "metadata": {},
          "execution_count": 8
        },
        {
          "output_type": "display_data",
          "data": {
            "text/plain": [
              "<Figure size 1200x800 with 15 Axes>"
            ],
            "image/png": "[encoded data removed]"
          },
          "metadata": {}
        }
      ]
    },
    {
      "cell_type": "markdown",
      "source": [
        "На гистограммах сразу видно, что признак deviation_normal_count - константный, поэтому не будем его использовать для обучения. Также видно, что числовые признаки придётся стандартизировать для обучения, особенно не бустинговых моделей. Также потребуется стандартизировать и целевую переменную."
      ],
      "metadata": {
        "id": "QpX7OpycFZdF"
      }
    },
    {
      "cell_type": "code",
      "execution_count": 9,
      "metadata": {
        "colab": {
          "base_uri": "https://localhost:8080/"
        },
        "id": "HnMVjZ1xa_mZ",
        "outputId": "77155776-e81e-41b0-bb1e-7968a237c2e8"
      },
      "outputs": [
        {
          "output_type": "stream",
          "name": "stdout",
          "text": [
            "\u001b[1mcat_features:\u001b[0m ['model', 'car_type', 'fuel_type'], \u001b[1mamount\u001b[0m = 3\n",
            "\u001b[1mnum_features:\u001b[0m ['car_rating', 'year_to_start', 'riders', 'year_to_work', 'mean_rating', 'distance_sum', 'rating_min', 'speed_max', 'user_ride_quality_median', 'user_uniq'], \u001b[1mamount\u001b[0m = 10\n",
            "\u001b[1mtargets:\u001b[0m ['target_reg'], \u001b[1mamount\u001b[0m = 1\n"
          ]
        }
      ],
      "source": [
        "# инициализируем листы числовых, категориальных, целевых признаков и признаки, которые не потребуются для анализа.\n",
        "cat_features = ['model', 'car_type', 'fuel_type']\n",
        "cat_features_indxs = [0, 1, 2]\n",
        "targets = [#'target_class',\n",
        "           'target_reg']\n",
        "features2drop = ['car_id', 'deviation_normal_count', 'target_class']\n",
        "\n",
        "filtered_features = [i for i in train.columns if (i not in targets and i not in features2drop)]\n",
        "num_features = [i for i in filtered_features if i not in cat_features]\n",
        "\n",
        "print(f'\\033[1mcat_features:\\033[0m {cat_features}, \\033[1mamount\\033[0m = {len(cat_features)}')\n",
        "print(f'\\033[1mnum_features:\\033[0m {num_features}, \\033[1mamount\\033[0m = {len(num_features)}')\n",
        "print(f'\\033[1mtargets:\\033[0m {targets}, \\033[1mamount\\033[0m = {len(targets)}')"
      ]
    },
    {
      "cell_type": "code",
      "execution_count": 10,
      "metadata": {
        "id": "lp11F3lPLJQC"
      },
      "outputs": [],
      "source": [
        "# Заменим тип данных object на category в категориальных признаках\n",
        "\n",
        "for col in cat_features:\n",
        "    train[col] = train[col].astype(\"category\")\n",
        "\n",
        "for col in cat_features:\n",
        "    test[col] = test[col].astype(\"category\")"
      ]
    },
    {
      "cell_type": "code",
      "execution_count": 11,
      "metadata": {
        "id": "wx6uO8CSdPZY"
      },
      "outputs": [],
      "source": [
        "# инициализируем номер случайного состояния, словарь лучших моделей, словарь для результатов\n",
        "# датасет для формирования результатов\n",
        "R_S = 7575\n",
        "n_est = 400\n",
        "sampler = optuna.samplers.TPESampler(seed=R_S)\n",
        "\n",
        "bst_mdls = {}\n",
        "mean_scores = {}\n",
        "\n",
        "df_sub = pd.DataFrame(test['car_id'])"
      ]
    },
    {
      "cell_type": "code",
      "execution_count": 12,
      "metadata": {
        "id": "sW9HJi2IdKLV"
      },
      "outputs": [],
      "source": [
        "# получаем разбиение на фичи и целевую переменную\n",
        "X = train[filtered_features].drop(targets, axis=1, errors=\"ignore\")\n",
        "y = train[\"target_reg\"]\n",
        "\n",
        "# разбиение на обучающую и валидационную выборки\n",
        "X_train, X_val, y_train, y_val = train_test_split(X, y, test_size=0.25, random_state=R_S)\n",
        "\n",
        "# подготовка тестовых данных\n",
        "X_sub = test[filtered_features].drop(targets, axis=1, errors=\"ignore\")"
      ]
    },
    {
      "cell_type": "markdown",
      "source": [
        "## Вспомогательные функции и классы"
      ],
      "metadata": {
        "id": "IaUs2P74srLk"
      }
    },
    {
      "cell_type": "markdown",
      "source": [
        "### Класс для нормализации цифровых признаков"
      ],
      "metadata": {
        "id": "tkwxC8p7updP"
      }
    },
    {
      "cell_type": "markdown",
      "source": [
        "Т.к. catboost может работать с категориальными признаками самостоятельно, то будем подавать dataframe в нашу модель. При этом стандартизируем числовые признаки. (пусть для модели catboost, насколько я понимаю, это и не принципиальное действие). Для этого напишем кастомный класс transformer."
      ],
      "metadata": {
        "id": "hxZhPFkn9A03"
      }
    },
    {
      "cell_type": "code",
      "execution_count": 13,
      "metadata": {
        "id": "TI0OydN1Paq0"
      },
      "outputs": [],
      "source": [
        "class CustomTransformer(TransformerMixin):\n",
        "    '''\n",
        "    .. notes::\n",
        "    Класс трансформации признаков.\n",
        "    Числовые данные нормализуются или стандартизируются.\n",
        "    Категориальные признаки не изменяются.\n",
        "    После трансформаци возвращается датафрейм.\n",
        "    '''\n",
        "    def __init__(self,\n",
        "                 scaler_type: Any=None,\n",
        "                 cat_feats: list[str]=None,\n",
        "                 with_mean: bool=True,\n",
        "                 with_std: bool=True,\n",
        "                 feature_range: tuple[int, int]=(0, 1)):\n",
        "\n",
        "        self.scaler_type = scaler_type\n",
        "        if scaler_type:\n",
        "            self.scaler = StandardScaler(with_mean=with_mean, with_std=with_std)\n",
        "        else:\n",
        "            self.scaler = MinMaxScaler(feature_range=feature_range)\n",
        "\n",
        "        self.cat_feats = cat_feats\n",
        "\n",
        "        # print('Init done')\n",
        "    def fit(self, X: pd.DataFrame, y: pd.Series=None):\n",
        "        return self\n",
        "\n",
        "    def transform(self, X: pd.DataFrame, y: pd.Series=None) -> pd.DataFrame:\n",
        "        X_ = X.copy()\n",
        "        X_cat = X_[self.cat_feats]\n",
        "        num_feats = [i for i in X_.columns if i not in self.cat_feats]\n",
        "        X_num = X_[num_feats]\n",
        "        X_num = pd.DataFrame(self.scaler.fit_transform(X_num), columns=num_feats)\n",
        "\n",
        "        res = pd.concat([X_cat.reset_index(), X_num], axis=1)\n",
        "        return res.set_index('index')"
      ]
    },
    {
      "cell_type": "markdown",
      "source": [
        "### Класс для нормализации и преобразования для нейронной сети."
      ],
      "metadata": {
        "id": "eQ9i0yVq6wLs"
      }
    },
    {
      "cell_type": "markdown",
      "source": [
        "Для Tabnet регрессора хотим стандартизировать числовые признаки, при этом категориальные закодировать числами. И на вход tabnet будем подавать массив. Ещё один кастомный класс transformer."
      ],
      "metadata": {
        "id": "s21CMKmy_8Vu"
      }
    },
    {
      "cell_type": "code",
      "source": [
        "class CustomTransformerNN(TransformerMixin):\n",
        "    '''\n",
        "    .. notes::\n",
        "    Класс трансформации признаков.\n",
        "    Числовые данные нормализуются или стандартизируются.\n",
        "    Категориальные признаки кодируютя числами.\n",
        "    После трансформации получаем.\n",
        "    '''\n",
        "    def __init__(self, scaler_type=None, cat_feats=None, with_mean=True, with_std=True, feature_range=(0, 1)):\n",
        "        self.scaler_type = scaler_type\n",
        "        if scaler_type:\n",
        "            self.scaler = StandardScaler(with_mean=with_mean, with_std=with_std,)\n",
        "        else:\n",
        "            self.scaler = MinMaxScaler(feature_range=feature_range)\n",
        "\n",
        "        self.cat_feats = cat_feats\n",
        "\n",
        "        # print('Init done')\n",
        "    def fit(self, X, y=None):\n",
        "        return self\n",
        "\n",
        "    def transform(self, X, y=None) -> np.array:\n",
        "        X_ = X.copy()\n",
        "        X_cat = X_[self.cat_feats]\n",
        "        for col in cat_features:\n",
        "            X_cat[col] = X_cat[col].replace(np.unique(X_cat[col]), np.arange(X_cat[col].nunique()))\n",
        "        num_feats = [i for i in X_.columns if i not in self.cat_feats]\n",
        "        X_num = X_[num_feats]\n",
        "        X_num = pd.DataFrame(self.scaler.fit_transform(X_num), columns=num_feats)\n",
        "\n",
        "        res = pd.concat([X_cat.reset_index(), X_num], axis=1)\n",
        "        return res.set_index('index').values"
      ],
      "metadata": {
        "id": "PhmRBPDN65h9"
      },
      "execution_count": 14,
      "outputs": []
    },
    {
      "cell_type": "markdown",
      "source": [
        "### Функция для шага обучения"
      ],
      "metadata": {
        "id": "Z8bkaOmttngG"
      }
    },
    {
      "cell_type": "markdown",
      "source": [
        "будем использовать scheduler в моделях LGBM и XGB"
      ],
      "metadata": {
        "id": "eOWHxxO8bPQ7"
      }
    },
    {
      "cell_type": "code",
      "execution_count": 15,
      "metadata": {
        "id": "3Kb7BjWxuB4j"
      },
      "outputs": [],
      "source": [
        "# функция для шага обучения\n",
        "def lr_gen_simple(init_lr: float=0.1, epoch: int=400) -> list[float]:\n",
        "    '''\n",
        "    :param init_lr: initial number for learning rate\n",
        "    :type init_lr: float, defaults to 0.1\n",
        "    :param epoch: amount of epochs\n",
        "    :type epoch: int, defaults to 400\n",
        "\n",
        "    :rtype: list[float]\n",
        "\n",
        "    .. notes:: Функция для формирования листа со значениями шага обучения\n",
        "    на каждой эпохе.\n",
        "    -----\n",
        "    Параметры:\n",
        "    init_lr - инициализирующий шаг обучения\n",
        "    epoch - количество эпох\n",
        "\n",
        "    '''\n",
        "    decay = init_lr / epoch\n",
        "    lr_list = [init_lr/(1 + decay * i) for i in range(1, epoch + 1)]\n",
        "\n",
        "    return lr_list"
      ]
    },
    {
      "cell_type": "markdown",
      "source": [
        "### Класс для применения моделей."
      ],
      "metadata": {
        "id": "BJZxRysRkFfh"
      }
    },
    {
      "cell_type": "markdown",
      "source": [
        "Соберём класс, в котором будут лежать 2 функции: preparing_features и fit.\n",
        "\n",
        "preparing_features будет готовить пайплайн для обработки признаков и применения модели. (часть для обработки признаков будет возвраться отдельно). Для catboost и tabnet будем использовать кастомные классы обработки признаков, которые ввели выше. Для остальных моделей: числовые признаки - стандартизируем, категориальные преобразуем при помощи one hot encoding.\n",
        "\n",
        "fit собственно будет применять нашу модель. Возвращать обученную модель и предсказания."
      ],
      "metadata": {
        "id": "s6RctgbbAcEd"
      }
    },
    {
      "cell_type": "code",
      "source": [
        "class FitClass():\n",
        "    '''\n",
        "    Класс для применения моделей.\n",
        "    preparing_features - фунция для создания пайплайнов обработки\n",
        "    fit - примененение модели\n",
        "    '''\n",
        "    @staticmethod\n",
        "    def preparing_features(name: str, algorithm: Any) -> tuple[Any, Any]:\n",
        "        '''\n",
        "        :param name: name of regressor algorithm\n",
        "        :type name: str\n",
        "        :param algorithm: class of regressor algorithm\n",
        "        :type algorithm: Any\n",
        "\n",
        "        :rtype: tuple[Any, Any]\n",
        "        :returns: preprocessor pipe for columns and pipe model\n",
        "\n",
        "        .. notes::\n",
        "        -----\n",
        "        Принимает на вход название алгоритма и алгоритм.\n",
        "        Возвращает цепочку для преобразования фичей,\n",
        "        цепочку для преобразования фичей и применения модели.\n",
        "        '''\n",
        "\n",
        "        if name == 'CatBoostRegressor':\n",
        "              preprocessor = CustomTransformer(True, cat_feats=cat_features)\n",
        "\n",
        "              pipe = Pipeline([('feature_preprocessor', preprocessor),\n",
        "                              ('model', algorithm)])\n",
        "        elif name == 'TabNetRegressor':\n",
        "            preprocessor = CustomTransformerNN(True, cat_feats=cat_features)\n",
        "\n",
        "            pipe = Pipeline([('feature_preprocessor', preprocessor),\n",
        "                              ('model', algorithm)])\n",
        "        else:\n",
        "            numeric_transformer = Pipeline(\n",
        "                steps=[(\"imputer\", SimpleImputer(strategy=\"median\")),\n",
        "                      (\"scaler\", StandardScaler())])\n",
        "            categorical_transformer = Pipeline(\n",
        "                steps=[(\"encoder\", OneHotEncoder(handle_unknown=\"ignore\")),\n",
        "                      #  (\"selector\", SelectPercentile(chi2, percentile=50)),\n",
        "                      ])\n",
        "            preprocessor = ColumnTransformer(\n",
        "                transformers=[(\"num\", numeric_transformer, num_features),\n",
        "                              (\"cat\", categorical_transformer, cat_features)])\n",
        "\n",
        "            pipe = Pipeline([('feature_preprocessor', preprocessor),\n",
        "                            ('model', algorithm)])\n",
        "\n",
        "        return preprocessor, pipe\n",
        "\n",
        "    @staticmethod\n",
        "    def fit(name: str,\n",
        "            pipe: Any,\n",
        "            preprocessor: Any,\n",
        "            X_train: pd.DataFrame,\n",
        "            X_val: pd.DataFrame,\n",
        "            y_train: pd.Series,\n",
        "            y_val: pd.Series,\n",
        "            fit_params: dict,\n",
        "            callbacks=[]):\n",
        "        '''\n",
        "        :param name: name of regressor algorithm\n",
        "        :type name: str\n",
        "        :param pipe: pipe of preprocessor for features and model\n",
        "        :type pipe: Any\n",
        "        :param preprocessor: pipe of preprocessor for features\n",
        "        :type preprocessor: Any\n",
        "        :param X_train: train features\n",
        "        :type X_train: pandas.DataFrame\n",
        "        :param X_val: validation features\n",
        "        :type X_val: pandas.DataFrame\n",
        "        :param y_train: train targer\n",
        "        :type y_train: pandas.Series\n",
        "        :param y_val: validation target\n",
        "        :type y_val: pandas.Series\n",
        "\n",
        "        :rtype: tuple[np.array, Any]\n",
        "        :returns: array of predictions, model\n",
        "        .. notes::\n",
        "        -----\n",
        "        Принимает название алгоритма. Применяет алгоритм с заданными параметрами\n",
        "        к данным.\n",
        "        Возвращает предсказание. И обученную модель.\n",
        "        '''\n",
        "        if name == 'TabNetRegressor':\n",
        "            target_sc = StandardScaler()\n",
        "            y_train = target_sc.fit_transform(y_train.values.reshape(-1, 1))\n",
        "            X_val_eval_NN = X_val.copy()\n",
        "            eval_set_pipe = Pipeline(steps = [('feature_preprocessor', preprocessor)])\n",
        "            X_val_eval_NN = eval_set_pipe.fit(X_train).transform(X_val_eval_NN)\n",
        "            y_val_eval_NN = target_sc.transform(y_val.values.reshape(-1, 1))\n",
        "        else:\n",
        "            X_val_eval = X_val.copy()\n",
        "            eval_set_pipe = Pipeline(steps = [('feature_preprocessor', preprocessor)])\n",
        "            X_val_eval = eval_set_pipe.fit(X_train).transform(X_val_eval)\n",
        "\n",
        "        wrapped_model = TransformedTargetRegressor(regressor=pipe, transformer=StandardScaler())\n",
        "\n",
        "        if name in ['KNeighborsRegressor', 'ElasticNet', 'RandomForestRegressor', 'GaussianProcessRegressor', 'NuSVR', 'MLPRegressor', 'GradientBoostingRegressor']:\n",
        "            wrapped_model.fit(X_train,\n",
        "                              y_train,\n",
        "                              **fit_params)\n",
        "            y_pred = wrapped_model.predict(X_val)\n",
        "        elif name == 'TabNetRegressor':\n",
        "            pipe.fit(X_train, y_train,\n",
        "                    model__eval_set=[(X_val_eval_NN, y_val_eval_NN)],\n",
        "                    **fit_params)\n",
        "            y_pred = pipe.predict(X_val)\n",
        "            y_pred = target_sc.inverse_transform(np.array(y_pred).reshape(-1, 1))\n",
        "            wrapped_model = pipe\n",
        "\n",
        "        else:\n",
        "            if callbacks:\n",
        "                wrapped_model.fit(X_train,\n",
        "                                  y_train,\n",
        "                                  **fit_params,\n",
        "                                  model__callbacks=callbacks,\n",
        "                                  model__eval_set=[(X_val_eval, y_val)])\n",
        "                # запускаем процесс прунинга для catboost\n",
        "                if name == 'CatBoostRegressor':\n",
        "                    callbacks[-1].check_pruned()\n",
        "            else:\n",
        "                wrapped_model.fit(X_train,\n",
        "                                  y_train,\n",
        "                                  model__eval_set=[(X_val_eval, y_val)],\n",
        "                                  **fit_params)\n",
        "\n",
        "            y_pred = wrapped_model.predict(X_val)\n",
        "\n",
        "        if name == 'TabNetRegressor':\n",
        "            return y_pred, wrapped_model, target_sc\n",
        "\n",
        "        return y_pred, wrapped_model"
      ],
      "metadata": {
        "id": "ft1HdKfcGHP4"
      },
      "execution_count": 16,
      "outputs": []
    },
    {
      "cell_type": "markdown",
      "source": [
        "### Fit algorithm optuna"
      ],
      "metadata": {
        "id": "jEkMjim6W-4u"
      }
    },
    {
      "cell_type": "markdown",
      "source": [
        "Объявим функцию обучения для всех моделей. Будем использовать механизм подбора гиперпараметров optuna."
      ],
      "metadata": {
        "id": "P19BaFAhJKfA"
      }
    },
    {
      "cell_type": "code",
      "source": [
        "# функция применения алгоритма, когда применяем optuna\n",
        "def fit_algorithm_optuna(trial: optuna.trial,\n",
        "                         train: pd.DataFrame,\n",
        "                         val: pd.DataFrame,\n",
        "                         algorithm: Any,\n",
        "                         init_params: dict,\n",
        "                         grid: dict,\n",
        "                         fit_params: dict,\n",
        "                         r_s=R_S,\n",
        "                         callbacks = []):\n",
        "    '''\n",
        "    :param trial: standart optuna parameter\n",
        "    :type trial: optuna.trial\n",
        "    :param train: train dataframe\n",
        "    :type train: pandas.DataFrame\n",
        "    :param val: validation dataframe\n",
        "    :type val: pd.DataFrame\n",
        "    :param algorithm: class of regressor algorithm\n",
        "    :type algorithm: Any\n",
        "    :param init_params: initial parameters\n",
        "    :type init_params: dict\n",
        "    :param grid: grid of parameters\n",
        "    :type grid: dict\n",
        "    :param fit_params: parameters to fit\n",
        "    :type fit_params: dict\n",
        "    :param r_s: random state\n",
        "    :type r_s: int, defaults to 7575\n",
        "    :param callbacks: callbacks\n",
        "    :type callbacks: list, defaults to []\n",
        "\n",
        "    :rtype: tuple[Any, np.array]\n",
        "    :returns: model, array of predictions\n",
        "    .. notes::\n",
        "    -----\n",
        "    Принимает объект trial из optuna, данные для обучения и валидации, алгоритм, параметры.\n",
        "    Алгоритм обучается и применяется.\n",
        "    Возвращает обученную модель и предсказанное значение для валидационной выборки.\n",
        "    '''\n",
        "\n",
        "    X_train, y_train = train\n",
        "    X_val, y_val = val\n",
        "\n",
        "    # получаем на вход сетку с параметрами для перебора. для пары алгоритмов будем\n",
        "    # добавлять параметры в сетку, в зависимости от некоторых условий.\n",
        "    if algorithm.__name__ == 'CatBoostRegressor':\n",
        "        if grid[\"bootstrap_type\"] == \"Bayesian\":\n",
        "            grid[\"bagging_temperature\"] = trial.suggest_float(\"bagging_temperature\", 0, 20)\n",
        "        elif grid[\"bootstrap_type\"] == \"Bernoulli\":\n",
        "            grid[\"subsample\"] = trial.suggest_float(\"subsample\", 0.1, 1)\n",
        "    elif algorithm.__name__ == 'XGBRegressor':\n",
        "        if grid[\"booster\"] == \"gbtree\" or grid[\"booster\"] == \"dart\":\n",
        "            grid[\"max_depth\"] = trial.suggest_int(\"max_depth\", 1, 9)\n",
        "            grid[\"eta\"] = trial.suggest_float(\"eta\", 1e-8, 1.0, log=True)\n",
        "            grid[\"gamma\"] = trial.suggest_float(\"gamma\", 1e-8, 1.0, log=True)\n",
        "            grid[\"grow_policy\"] = trial.suggest_categorical(\"grow_policy\", [\"depthwise\", \"lossguide\"])\n",
        "            grid[\"tree_method\"]: trial.suggest_categorical(\"tree_method\", ['hist', 'approx'],)\n",
        "        if grid[\"booster\"] == \"dart\":\n",
        "            grid[\"sample_type\"] = trial.suggest_categorical(\"sample_type\", [\"uniform\", \"weighted\"])\n",
        "            grid[\"normalize_type\"] = trial.suggest_categorical(\"normalize_type\", [\"tree\", \"forest\"])\n",
        "            grid[\"rate_drop\"] = trial.suggest_float(\"rate_drop\", 1e-8, 1.0, log=True)\n",
        "            grid[\"skip_drop\"] = trial.suggest_float(\"skip_drop\", 1e-8, 1.0, log=True)\n",
        "    elif algorithm.__name__ == 'LGBMRegressor':\n",
        "        if init_params['boosting_type'] != 'goss':\n",
        "            grid['bagging_fraction'] = trial.suggest_float('bagging_fraction', 0.5, 1.0)\n",
        "            grid['bagging_freq'] = trial.suggest_int('bagging_freq', 1, 10)\n",
        "        if init_params['boosting_type'] == 'dart':\n",
        "            grid['drop_rate'] = trial.suggest_float('drop_rate', 0.1, 0.5)\n",
        "\n",
        "    rgr = algorithm(**init_params, **grid)\n",
        "\n",
        "    # применяем метод preparing_features - он на вернёт способ обработки данных и общий пайплайн модели\n",
        "    preprocessor, pipe = FitClass.preparing_features(algorithm.__name__, rgr)\n",
        "    # для алгоритма TabNet будем возвращать ещё и обученный объект scaler для целевой переменной\n",
        "    if algorithm.__name__ == 'TabNetRegressor':\n",
        "        y_pred, wrapped_model, target_sc = FitClass.fit(algorithm.__name__, pipe, preprocessor, X_train, X_val, y_train, y_val, fit_params, callbacks)\n",
        "        return wrapped_model, y_pred, target_sc\n",
        "\n",
        "    y_pred, wrapped_model = FitClass.fit(algorithm.__name__, pipe, preprocessor, X_train, X_val, y_train, y_val, fit_params, callbacks)\n",
        "    # возвращаем модель и прогноз\n",
        "    return wrapped_model, y_pred"
      ],
      "metadata": {
        "id": "3sAVmMm2Wwe6"
      },
      "execution_count": 17,
      "outputs": []
    },
    {
      "cell_type": "markdown",
      "metadata": {
        "id": "sNbFbo_odn8p"
      },
      "source": [
        "# Модели"
      ]
    },
    {
      "cell_type": "markdown",
      "metadata": {
        "id": "GBJ11dA8eLjP"
      },
      "source": [
        "## Catboost"
      ]
    },
    {
      "cell_type": "code",
      "source": [
        "# функция для рассчёта метрики в механизме перебора optuna\n",
        "def objective_catboost(trial: optuna.trial, return_models:bool=False):\n",
        "\n",
        "    '''\n",
        "    :param trial: standart optuna parameter\n",
        "    :type trial: optuna.trial\n",
        "    :param return_models: parameter to return fitted model or not\n",
        "    :type return_models: bool, defaults to False\n",
        "\n",
        "    :rtype: float | tuple[float, Any]\n",
        "    :returns: mean value of RMSE on folds, model\n",
        "    .. notes::\n",
        "    -----\n",
        "    Принимает объект trial из optuna и булево значение для возможности возврата модели.\n",
        "\n",
        "    Разбиваем данные на фолды, и подаём в функцию fit algorithm_optuna на каждом разбиении.\n",
        "\n",
        "    '''\n",
        "    # будем использовать pruning\n",
        "    pruning_callback = CatBoostPruningCallback(trial, \"RMSE\")\n",
        "    callbacks = [pruning_callback]\n",
        "\n",
        "    # параметры, которые не будем перебирать\n",
        "    init_params = {'loss_function': 'RMSE',\n",
        "                   'random_seed': R_S,\n",
        "                   'thread_count': -1,\n",
        "                   'verbose': 0,\n",
        "                   'task_type': \"CPU\",\n",
        "                   'iterations' : n_est, # Можно не перебирать, есть Early-Stopping,\n",
        "                   'cat_features': cat_features}\n",
        "    # сетка с параметрами для перебора\n",
        "    grid = {'learning_rate': trial.suggest_float(\"learning_rate\", 0.019, 0.026),\n",
        "            'min_data_in_leaf': trial.suggest_int('min_data_in_leaf', 300, 400),\n",
        "            'l2_leaf_reg': trial.suggest_int(\"l2_leaf_reg\", 2, 10),\n",
        "            'max_bin': trial.suggest_int('max_bin', 200, 300),\n",
        "            'boosting_type': trial.suggest_categorical(\"boosting_type\", [\"Ordered\",\n",
        "                                                                        #  \"Plain\"\n",
        "                                                                         ]),\n",
        "            'bootstrap_type': trial.suggest_categorical(\"bootstrap_type\", [#\"Bayesian\",\n",
        "                                                                           #\"Bernoulli\",\n",
        "                                                                           \"MVS\"]),\n",
        "            'depth': trial.suggest_int(\"depth\", 8, 11),\n",
        "            'colsample_bylevel': trial.suggest_float(\"colsample_bylevel\", 0.61, 0.64),\n",
        "            # 'subsample': trial.suggest_float(\"colsample_bylevel\", 0.01, 0.95),\n",
        "            'used_ram_limit': \"14gb\"}\n",
        "\n",
        "    # параметры для применения модели. используем early stopping\n",
        "    fit_params = {'model__cat_features': cat_features,\n",
        "                  'model__verbose': 0,\n",
        "                  'model__early_stopping_rounds': 200,\n",
        "                  'model__plot': False}\n",
        "\n",
        "    n_splits = 3\n",
        "    kf = KFold(n_splits=n_splits, shuffle=True, random_state=R_S)\n",
        "    # разбиваем на фолды\n",
        "    scores, models = [], []\n",
        "\n",
        "    for train_idx, valid_idx in kf.split(X):\n",
        "        train_data = X.iloc[train_idx, :], y.iloc[train_idx]\n",
        "        valid_data = X.iloc[valid_idx, :], y.iloc[valid_idx]\n",
        "\n",
        "        # Разбиваем на обучающую и валидационную выборки. Подаём данные, параметры и тип алгоритма функцию\n",
        "        # fit_algorithm_optuna, которая вернёт нам модель и прогноз для валидационных данных\n",
        "\n",
        "        model, y_pred = fit_algorithm_optuna(trial,\n",
        "                                             train_data,\n",
        "                                             valid_data,\n",
        "                                             CatBoostRegressor,\n",
        "                                             init_params,\n",
        "                                             grid,\n",
        "                                             fit_params,\n",
        "                                             callbacks=callbacks)\n",
        "        y_true = valid_data[1]\n",
        "        scores.append(mean_squared_error(y_true=y_true, y_pred=y_pred, squared=False))\n",
        "        models.append(model)\n",
        "        # break\n",
        "    # записываем лучшие модели и результат по фолдам\n",
        "    bst_mdl = models[np.argmin(scores)]\n",
        "    result = np.mean(scores)\n",
        "\n",
        "    if return_models:\n",
        "        return result, bst_mdl\n",
        "    else:\n",
        "        return result"
      ],
      "metadata": {
        "id": "3pPYN_w7W58h"
      },
      "execution_count": 18,
      "outputs": []
    },
    {
      "cell_type": "code",
      "execution_count": 19,
      "metadata": {
        "colab": {
          "base_uri": "https://localhost:8080/",
          "height": 84,
          "referenced_widgets": [
            "d4a3c7e3e97845499067547bf8c2d13c",
            "b327d1b4a3e549ddb1ed47f890ca0520",
            "c9fc27efa39545f8b8361aad7204c32c",
            "9e057910ee114612aee61311ecfb5df6",
            "d6d18a4dce94470dbacc5542589374e5",
            "f84282ba693a4380838361fe6b7e1abf",
            "c8a08323d36245f7b3d6851047fd64c7",
            "757f08453f50447b91c14badf4dbec92",
            "fbdb69980cec4f3b8fdec4732f84c35b",
            "5c40ccfc140b494d98fb5cb6aba9b638",
            "059177226ddc4eba96d73a7237983659"
          ]
        },
        "id": "lzIjs4proCiQ",
        "outputId": "df55f426-5c39-4d1a-ee36-94dfc5ad0fd8"
      },
      "outputs": [
        {
          "output_type": "display_data",
          "data": {
            "text/plain": [
              "  0%|          | 0/30 [00:00<?, ?it/s]"
            ],
            "application/vnd.jupyter.widget-view+json": {
              "version_major": 2,
              "version_minor": 0,
              "model_id": "d4a3c7e3e97845499067547bf8c2d13c"
            }
          },
          "metadata": {}
        },
        {
          "output_type": "stream",
          "name": "stdout",
          "text": [
            "CPU times: user 5min 47s, sys: 4.83 s, total: 5min 52s\n",
            "Wall time: 3min 54s\n"
          ]
        }
      ],
      "source": [
        "%%time\n",
        "study = optuna.create_study(pruner=optuna.pruners.MedianPruner(n_warmup_steps=5),\n",
        "                            #  pruner=optuna.pruners.HyperbandPruner(),\n",
        "                            direction=\"minimize\", study_name=\"Catboost_Regressor\", sampler=sampler)\n",
        "study.optimize(objective_catboost,\n",
        "               n_trials=30,\n",
        "               n_jobs=-1,\n",
        "               show_progress_bar=True)"
      ]
    },
    {
      "cell_type": "code",
      "source": [
        "# optuna.visualization.plot_optimization_history(study)"
      ],
      "metadata": {
        "id": "ytvkKyRjUX4_"
      },
      "execution_count": 20,
      "outputs": []
    },
    {
      "cell_type": "code",
      "source": [
        "# params = ['learning_rate',\n",
        "#           'min_data_in_leaf',\n",
        "#           'l2_leaf_reg',\n",
        "#           'max_bin',\n",
        "#           'boosting_type',\n",
        "#           'bootstrap_type',\n",
        "#           'depth',\n",
        "#           'colsample_bylevel']\n",
        "\n",
        "# optuna.visualization.plot_slice(study, params=params, target_name='rmse')"
      ],
      "metadata": {
        "id": "UEJ1HFpfHHHY"
      },
      "execution_count": 21,
      "outputs": []
    },
    {
      "cell_type": "code",
      "source": [
        "# optuna.visualization.plot_param_importances(study)"
      ],
      "metadata": {
        "id": "bEsbYN7FEmd4"
      },
      "execution_count": 22,
      "outputs": []
    },
    {
      "cell_type": "markdown",
      "source": [
        "Для уменьшения времени работы всего ноутбука все параметры были несколько раз подобраны с помощью optuna и изменены диапазоны параметров, а также выброшены какие-то параметры."
      ],
      "metadata": {
        "id": "cbU5NY5Zc_MX"
      }
    },
    {
      "cell_type": "code",
      "source": [
        "mean_scores['Catboost_score'], bst_mdls['Catboost_model'] = objective_catboost(optuna.trial.FixedTrial(study.best_params), return_models=True)"
      ],
      "metadata": {
        "id": "7AHRHXhoUyEA"
      },
      "execution_count": 23,
      "outputs": []
    },
    {
      "cell_type": "code",
      "source": [
        "# Сделаем прогноз для тестовых данных\n",
        "preds = bst_mdls['Catboost_model'].predict(X_sub)\n",
        "# Добавляем наши предсказания для тестовой выборки в таблицу результатов\n",
        "df_sub['Catboost_target'] = preds\n",
        "df_sub.head()"
      ],
      "metadata": {
        "colab": {
          "base_uri": "https://localhost:8080/",
          "height": 206
        },
        "id": "2jti7ng2inLr",
        "outputId": "6e372a09-cea8-4a0b-f0f7-60faa24e5e68"
      },
      "execution_count": 24,
      "outputs": [
        {
          "output_type": "execute_result",
          "data": {
            "text/plain": [
              "       car_id  Catboost_target\n",
              "0  P17494612l        43.810075\n",
              "1  N-1530212S        33.024832\n",
              "2  B-1154399t        32.408407\n",
              "3  F12725233R        34.229204\n",
              "4  l-1139189J        31.757414"
            ],
            "text/html": [
              "\n",
              "  <div id=\"df-5df0fc30-4b00-49a1-a9f2-e78111b1a3e1\" class=\"colab-df-container\">\n",
              "    <div>\n",
              "<style scoped>\n",
              "    .dataframe tbody tr th:only-of-type {\n",
              "        vertical-align: middle;\n",
              "    }\n",
              "\n",
              "    .dataframe tbody tr th {\n",
              "        vertical-align: top;\n",
              "    }\n",
              "\n",
              "    .dataframe thead th {\n",
              "        text-align: right;\n",
              "    }\n",
              "</style>\n",
              "<table border=\"1\" class=\"dataframe\">\n",
              "  <thead>\n",
              "    <tr style=\"text-align: right;\">\n",
              "      <th></th>\n",
              "      <th>car_id</th>\n",
              "      <th>Catboost_target</th>\n",
              "    </tr>\n",
              "  </thead>\n",
              "  <tbody>\n",
              "    <tr>\n",
              "      <th>0</th>\n",
              "      <td>P17494612l</td>\n",
              "      <td>43.810075</td>\n",
              "    </tr>\n",
              "    <tr>\n",
              "      <th>1</th>\n",
              "      <td>N-1530212S</td>\n",
              "      <td>33.024832</td>\n",
              "    </tr>\n",
              "    <tr>\n",
              "      <th>2</th>\n",
              "      <td>B-1154399t</td>\n",
              "      <td>32.408407</td>\n",
              "    </tr>\n",
              "    <tr>\n",
              "      <th>3</th>\n",
              "      <td>F12725233R</td>\n",
              "      <td>34.229204</td>\n",
              "    </tr>\n",
              "    <tr>\n",
              "      <th>4</th>\n",
              "      <td>l-1139189J</td>\n",
              "      <td>31.757414</td>\n",
              "    </tr>\n",
              "  </tbody>\n",
              "</table>\n",
              "</div>\n",
              "    <div class=\"colab-df-buttons\">\n",
              "\n",
              "  <div class=\"colab-df-container\">\n",
              "    <button class=\"colab-df-convert\" onclick=\"convertToInteractive('df-5df0fc30-4b00-49a1-a9f2-e78111b1a3e1')\"\n",
              "            title=\"Convert this dataframe to an interactive table.\"\n",
              "            style=\"display:none;\">\n",
              "\n",
              "  <svg xmlns=\"http://www.w3.org/2000/svg\" height=\"24px\" viewBox=\"0 -960 960 960\">\n",
              "    <path d=\"M120-120v-720h720v720H120Zm60-500h600v-160H180v160Zm220 220h160v-160H400v160Zm0 220h160v-160H400v160ZM180-400h160v-160H180v160Zm440 0h160v-160H620v160ZM180-180h160v-160H180v160Zm440 0h160v-160H620v160Z\"/>\n",
              "  </svg>\n",
              "    </button>\n",
              "\n",
              "  <style>\n",
              "    .colab-df-container {\n",
              "      display:flex;\n",
              "      gap: 12px;\n",
              "    }\n",
              "\n",
              "    .colab-df-convert {\n",
              "      background-color: #E8F0FE;\n",
              "      border: none;\n",
              "      border-radius: 50%;\n",
              "      cursor: pointer;\n",
              "      display: none;\n",
              "      fill: #1967D2;\n",
              "      height: 32px;\n",
              "      padding: 0 0 0 0;\n",
              "      width: 32px;\n",
              "    }\n",
              "\n",
              "    .colab-df-convert:hover {\n",
              "      background-color: #E2EBFA;\n",
              "      box-shadow: 0px 1px 2px rgba(60, 64, 67, 0.3), 0px 1px 3px 1px rgba(60, 64, 67, 0.15);\n",
              "      fill: #174EA6;\n",
              "    }\n",
              "\n",
              "    .colab-df-buttons div {\n",
              "      margin-bottom: 4px;\n",
              "    }\n",
              "\n",
              "    [theme=dark] .colab-df-convert {\n",
              "      background-color: #3B4455;\n",
              "      fill: #D2E3FC;\n",
              "    }\n",
              "\n",
              "    [theme=dark] .colab-df-convert:hover {\n",
              "      background-color: #434B5C;\n",
              "      box-shadow: 0px 1px 3px 1px rgba(0, 0, 0, 0.15);\n",
              "      filter: drop-shadow(0px 1px 2px rgba(0, 0, 0, 0.3));\n",
              "      fill: #FFFFFF;\n",
              "    }\n",
              "  </style>\n",
              "\n",
              "    <script>\n",
              "      const buttonEl =\n",
              "        document.querySelector('#df-5df0fc30-4b00-49a1-a9f2-e78111b1a3e1 button.colab-df-convert');\n",
              "      buttonEl.style.display =\n",
              "        google.colab.kernel.accessAllowed ? 'block' : 'none';\n",
              "\n",
              "      async function convertToInteractive(key) {\n",
              "        const element = document.querySelector('#df-5df0fc30-4b00-49a1-a9f2-e78111b1a3e1');\n",
              "        const dataTable =\n",
              "          await google.colab.kernel.invokeFunction('convertToInteractive',\n",
              "                                                    [key], {});\n",
              "        if (!dataTable) return;\n",
              "\n",
              "        const docLinkHtml = 'Like what you see? Visit the ' +\n",
              "          '<a target=\"_blank\" href=https://colab.research.google.com/notebooks/data_table.ipynb>data table notebook</a>'\n",
              "          + ' to learn more about interactive tables.';\n",
              "        element.innerHTML = '';\n",
              "        dataTable['output_type'] = 'display_data';\n",
              "        await google.colab.output.renderOutput(dataTable, element);\n",
              "        const docLink = document.createElement('div');\n",
              "        docLink.innerHTML = docLinkHtml;\n",
              "        element.appendChild(docLink);\n",
              "      }\n",
              "    </script>\n",
              "  </div>\n",
              "\n",
              "\n",
              "<div id=\"df-dafc4268-34e4-4914-ae8f-f10c69a2c530\">\n",
              "  <button class=\"colab-df-quickchart\" onclick=\"quickchart('df-dafc4268-34e4-4914-ae8f-f10c69a2c530')\"\n",
              "            title=\"Suggest charts.\"\n",
              "            style=\"display:none;\">\n",
              "\n",
              "<svg xmlns=\"http://www.w3.org/2000/svg\" height=\"24px\"viewBox=\"0 0 24 24\"\n",
              "     width=\"24px\">\n",
              "    <g>\n",
              "        <path d=\"M19 3H5c-1.1 0-2 .9-2 2v14c0 1.1.9 2 2 2h14c1.1 0 2-.9 2-2V5c0-1.1-.9-2-2-2zM9 17H7v-7h2v7zm4 0h-2V7h2v10zm4 0h-2v-4h2v4z\"/>\n",
              "    </g>\n",
              "</svg>\n",
              "  </button>\n",
              "\n",
              "<style>\n",
              "  .colab-df-quickchart {\n",
              "    background-color: #E8F0FE;\n",
              "    border: none;\n",
              "    border-radius: 50%;\n",
              "    cursor: pointer;\n",
              "    display: none;\n",
              "    fill: #1967D2;\n",
              "    height: 32px;\n",
              "    padding: 0 0 0 0;\n",
              "    width: 32px;\n",
              "  }\n",
              "\n",
              "  .colab-df-quickchart:hover {\n",
              "    background-color: #E2EBFA;\n",
              "    box-shadow: 0px 1px 2px rgba(60, 64, 67, 0.3), 0px 1px 3px 1px rgba(60, 64, 67, 0.15);\n",
              "    fill: #174EA6;\n",
              "  }\n",
              "\n",
              "  [theme=dark] .colab-df-quickchart {\n",
              "    background-color: #3B4455;\n",
              "    fill: #D2E3FC;\n",
              "  }\n",
              "\n",
              "  [theme=dark] .colab-df-quickchart:hover {\n",
              "    background-color: #434B5C;\n",
              "    box-shadow: 0px 1px 3px 1px rgba(0, 0, 0, 0.15);\n",
              "    filter: drop-shadow(0px 1px 2px rgba(0, 0, 0, 0.3));\n",
              "    fill: #FFFFFF;\n",
              "  }\n",
              "</style>\n",
              "\n",
              "  <script>\n",
              "    async function quickchart(key) {\n",
              "      const charts = await google.colab.kernel.invokeFunction(\n",
              "          'suggestCharts', [key], {});\n",
              "    }\n",
              "    (() => {\n",
              "      let quickchartButtonEl =\n",
              "        document.querySelector('#df-dafc4268-34e4-4914-ae8f-f10c69a2c530 button');\n",
              "      quickchartButtonEl.style.display =\n",
              "        google.colab.kernel.accessAllowed ? 'block' : 'none';\n",
              "    })();\n",
              "  </script>\n",
              "</div>\n",
              "    </div>\n",
              "  </div>\n"
            ]
          },
          "metadata": {},
          "execution_count": 24
        }
      ]
    },
    {
      "cell_type": "markdown",
      "metadata": {
        "id": "b64s4rUJsWB-"
      },
      "source": [
        "## LGBM"
      ]
    },
    {
      "cell_type": "code",
      "execution_count": 25,
      "metadata": {
        "id": "VLhF_Th5R6nL"
      },
      "outputs": [],
      "source": [
        "def objective_lgbm(trial, return_models=False):\n",
        "\n",
        "    pruning_callback = LightGBMPruningCallback(trial, \"rmse\")\n",
        "\n",
        "    callbacks = [\n",
        "                 lgb.early_stopping(stopping_rounds=50, verbose=0),\n",
        "                 lgb.reset_parameter(learning_rate=lr_gen_simple(trial.suggest_float(\"lr_init\", 0.0001, 0.5), n_est)),\n",
        "                #  pruning_callback\n",
        "                ]\n",
        "\n",
        "    init_params = {'metric': \"RMSE\",\n",
        "                   'objective': 'regression',\n",
        "                   'boosting_type': trial.suggest_categorical(\"boosting_type\",\n",
        "                                                              [ \"gbdt\",\n",
        "                                                                \"dart\"\n",
        "                                                                ]),\n",
        "                   'random_seed': R_S,\n",
        "                   'n_jobs': -1,\n",
        "                   'verbose': -1,\n",
        "                   'force_row_wise': True,\n",
        "                   'num_iterations' : n_est, # Можно не перебирать, есть Early-Stopping\n",
        "                  #  'cat_features': cat_features\n",
        "                   }\n",
        "\n",
        "    grid = {\n",
        "            #  'learning_rate': trial.suggest_float(\"learning_rate\", 0.001, 0.01),\n",
        "            'min_child_samples': trial.suggest_int('min_child_samples', 10, 50),\n",
        "            'reg_alpha': trial.suggest_int(\"reg_alpha\", 1e-3, 1),\n",
        "            'reg_lambda': trial.suggest_int(\"reg_lambda\", 1e-3, 1),\n",
        "            # 'max_bin': trial.suggest_int('max_bin', 100, 300),\n",
        "            'num_leaves': trial.suggest_int('num_leaves', 4, 7),\n",
        "            'colsample_bytree': trial.suggest_float(\"colsample_bytree\", 0.5, 0.95),\n",
        "            'subsample': trial.suggest_float(\"subsample\", 0.5, 1),\n",
        "        }\n",
        "\n",
        "    fit_params = { }\n",
        "\n",
        "    n_splits = 3\n",
        "    kf = KFold(n_splits=n_splits, shuffle=True, random_state=R_S)\n",
        "\n",
        "    scores, models = [], []\n",
        "\n",
        "    for train_idx, valid_idx in kf.split(X):\n",
        "        train_data = X.iloc[train_idx, :], y.iloc[train_idx]\n",
        "        valid_data = X.iloc[valid_idx, :], y.iloc[valid_idx]\n",
        "\n",
        "        # Подаем trials для перебора\n",
        "        model, y_pred = fit_algorithm_optuna(trial,\n",
        "                                      train_data,\n",
        "                                      valid_data,\n",
        "                                      LGBMRegressor,\n",
        "                                      init_params,\n",
        "                                      grid,\n",
        "                                      fit_params,\n",
        "                                      callbacks=callbacks)\n",
        "\n",
        "        y_true = valid_data[1]\n",
        "        scores.append(mean_squared_error(y_true=y_true, y_pred=y_pred, squared=False))\n",
        "        models.append(model)\n",
        "        # break\n",
        "\n",
        "    # print('scores', scores)\n",
        "    bst_mdl = models[np.argmin(scores)]\n",
        "    result = np.mean(scores)\n",
        "\n",
        "    if return_models:\n",
        "        return result, bst_mdl\n",
        "    else:\n",
        "        return result"
      ]
    },
    {
      "cell_type": "markdown",
      "source": [
        "Learning rate настраиваем через sheduler. LGBM работает очень быстро, поэтому убрал pruning. Кроме того, при обучении лучшей модели на фиксированных параметрах и подаче pruning в callbacks обучение упадёт."
      ],
      "metadata": {
        "id": "WSj30CqE0QtT"
      }
    },
    {
      "cell_type": "code",
      "execution_count": 26,
      "metadata": {
        "colab": {
          "base_uri": "https://localhost:8080/",
          "height": 84,
          "referenced_widgets": [
            "4207a9a0edf542c78105ee4fce993991",
            "aa3b6d50acc34116b794d3d299801c14",
            "91a7953f4c71416694b7153d328bf845",
            "86180a3bd783433caaf597893d38095f",
            "954bebae1a034fd2ae308f673a955281",
            "ca756575dbb74b30b6da9b2e244a8996",
            "d0a5f1c06fba42ea8d5b820141ddb984",
            "4c329a80f18b4cfcb31d9b77d147725b",
            "a9f1d83b7a2c4feca1266137a6053119",
            "7d72709e1736440c8b8090c666feac02",
            "af1fa62f10784e25b1df4f698d58f34f"
          ]
        },
        "id": "uDS0D2DjeGY-",
        "outputId": "1bfeefd7-af0b-4bb3-d9d8-4e7a8a236b0f"
      },
      "outputs": [
        {
          "output_type": "display_data",
          "data": {
            "text/plain": [
              "  0%|          | 0/30 [00:00<?, ?it/s]"
            ],
            "application/vnd.jupyter.widget-view+json": {
              "version_major": 2,
              "version_minor": 0,
              "model_id": "4207a9a0edf542c78105ee4fce993991"
            }
          },
          "metadata": {}
        },
        {
          "output_type": "stream",
          "name": "stdout",
          "text": [
            "CPU times: user 45.8 s, sys: 6.28 s, total: 52.1 s\n",
            "Wall time: 34.9 s\n"
          ]
        }
      ],
      "source": [
        "%%time\n",
        "study = optuna.create_study(pruner=optuna.pruners.MedianPruner(n_warmup_steps=5),\n",
        "                            direction=\"minimize\", study_name=\"LGBM_Regressor\", sampler=sampler)\n",
        "study.optimize(objective_lgbm,\n",
        "               n_trials=30,\n",
        "               n_jobs=-1,\n",
        "               show_progress_bar=True,)"
      ]
    },
    {
      "cell_type": "code",
      "source": [
        "# params = ['min_child_samples',\n",
        "#           'reg_alpha',\n",
        "#           'reg_lambda',\n",
        "#           'num_leaves',\n",
        "#           'colsample_bytree',\n",
        "#           'subsample',]\n",
        "\n",
        "# optuna.visualization.plot_slice(study, params=params, target_name='rmse')"
      ],
      "metadata": {
        "id": "fXqguC-TdxS4"
      },
      "execution_count": 27,
      "outputs": []
    },
    {
      "cell_type": "code",
      "execution_count": 28,
      "metadata": {
        "colab": {
          "base_uri": "https://localhost:8080/"
        },
        "id": "FJFrKF_3RzZ1",
        "outputId": "d29b2acf-8e90-4e19-bff2-1c819df2ae1e"
      },
      "outputs": [
        {
          "output_type": "stream",
          "name": "stdout",
          "text": [
            "Best trial: score 11.654412102229008, params {'lr_init': 0.027577649555732657, 'boosting_type': 'dart', 'min_child_samples': 27, 'reg_alpha': 1, 'reg_lambda': 0, 'num_leaves': 6, 'colsample_bytree': 0.6332082655237187, 'subsample': 0.7580338193935776, 'bagging_fraction': 0.9906161078046545, 'bagging_freq': 9, 'drop_rate': 0.3831048645075988}\n",
            "[LightGBM] [Info] Start training from score -0.000030\n",
            "[LightGBM] [Info] Start training from score -0.000002\n",
            "[LightGBM] [Info] Start training from score -0.000034\n"
          ]
        }
      ],
      "source": [
        "print(\"Best trial: score {}, params {}\".format(study.best_trial.value, study.best_trial.params))\n",
        "mean_scores['LGBM_score'], bst_mdls['LGBM_model'] = objective_lgbm(optuna.trial.FixedTrial(study.best_trial.params), return_models=True)"
      ]
    },
    {
      "cell_type": "code",
      "source": [
        "preds = bst_mdls['LGBM_model'].predict(X_sub)\n",
        "\n",
        "df_sub['LGBM_target'] = preds\n",
        "# df_sub.head()"
      ],
      "metadata": {
        "id": "5M3xb10qbg2_"
      },
      "execution_count": 29,
      "outputs": []
    },
    {
      "cell_type": "markdown",
      "source": [
        "## TabNet"
      ],
      "metadata": {
        "id": "tC9iLLs6fdfo"
      }
    },
    {
      "cell_type": "code",
      "source": [
        "def objective_tabnet(trial, return_models=False):\n",
        "\n",
        "    init_params = {'device_name':'cpu',\n",
        "                   'cat_idxs': cat_features_indxs,\n",
        "                   'cat_dims': [26, 4, 2],\n",
        "                   'verbose': 0,\n",
        "                  #  'verbose_eval': 0,\n",
        "                   'seed': R_S,\n",
        "                   'optimizer_fn': torch.optim.Adam,\n",
        "                   'optimizer_params': dict(lr=2e-2, weight_decay=1e-5),\n",
        "                   'scheduler_fn': torch.optim.lr_scheduler.ReduceLROnPlateau}\n",
        "\n",
        "    grid = {'mask_type': trial.suggest_categorical(\"mask_type\", [# \"sparsemax\",\n",
        "                                                                  \"entmax\"]),\n",
        "             'n_d': 12,\n",
        "             'n_a': 10,\n",
        "             'n_steps': trial.suggest_int(\"n_steps\", 2, 3),\n",
        "             'gamma': trial.suggest_float(\"gamma\", 1.35, 1.4),\n",
        "             'cat_emb_dim': trial.suggest_int(\"cat_emb_dim\", 6, 8),\n",
        "             'n_independent': trial.suggest_int(\"n_independent\", 4, 5),\n",
        "             'n_shared': trial.suggest_int(\"n_shared\", 3, 4),\n",
        "             'momentum': trial.suggest_float(\"momentum\", .06, .1),\n",
        "             'lambda_sparse': trial.suggest_float(\"lambda_sparse\", 1e-6, 1e-4, log=True),\n",
        "             'scheduler_params': dict(mode=\"min\",\n",
        "                                      min_lr=1e-5,\n",
        "                                      factor=0.5,\n",
        "                                      # verbose=-1\n",
        "                                      )\n",
        "    }\n",
        "\n",
        "    fit_params = {'model__eval_metric':['rmse'],\n",
        "                  'model__patience': 24,\n",
        "                  'model__max_epochs': 170}\n",
        "\n",
        "    n_splits = 3\n",
        "    kf = KFold(n_splits=n_splits, shuffle=True, random_state=R_S)\n",
        "\n",
        "    scores, models ,scs = [], [], []\n",
        "\n",
        "\n",
        "    for train_idx, valid_idx in kf.split(X):\n",
        "        train_data = X.iloc[train_idx, :], y.iloc[train_idx]\n",
        "        valid_data = X.iloc[valid_idx, :], y.iloc[valid_idx]\n",
        "\n",
        "        # Подаем trials для перебора\n",
        "        model, y_pred, target_sc = fit_algorithm_optuna(trial,\n",
        "                                                        train_data,\n",
        "                                                        valid_data,\n",
        "                                                        TabNetRegressor,\n",
        "                                                        init_params,\n",
        "                                                        grid,\n",
        "                                                        fit_params,\n",
        "                                                        # callbacks=callbacks\n",
        "                                                        )\n",
        "\n",
        "        y_true = valid_data[1]\n",
        "        scores.append(mean_squared_error(y_true=y_true, y_pred=y_pred, squared=False))\n",
        "        scs.append(target_sc)\n",
        "        models.append(model)\n",
        "        # break\n",
        "\n",
        "    bst_mdl = models[np.argmin(scores)]\n",
        "    bst_ts = scs[np.argmin(scores)]\n",
        "    result = np.mean(scores)\n",
        "\n",
        "    if return_models:\n",
        "        return result, bst_mdl, bst_ts\n",
        "    else:\n",
        "        return result"
      ],
      "metadata": {
        "id": "GY9h3-2cgSBW"
      },
      "execution_count": 30,
      "outputs": []
    },
    {
      "cell_type": "code",
      "source": [
        "%%time\n",
        "study = optuna.create_study(direction=\"minimize\", study_name=\"TabNet_Regressor\", sampler=sampler)\n",
        "study.optimize(objective_tabnet,\n",
        "               n_trials=5,\n",
        "               n_jobs=-1,\n",
        "               show_progress_bar=True)"
      ],
      "metadata": {
        "colab": {
          "base_uri": "https://localhost:8080/",
          "height": 605,
          "referenced_widgets": [
            "8e7b8a2a62c44fd09a2dcea10e6439e0",
            "5382a06f950c444da3dd3aa246fde868",
            "d12d83a8d50a43c09bf3dd2d9aca0ec2",
            "4940599dd93e45deaf720933251444c2",
            "383eea7f2f59474b88de85c461365228",
            "f0c208b6b4e64b07bfbf286ac97d0bdc",
            "7389a2264d2f4254adc9558d141babf7",
            "c284ddad2d844ff6a9b966bb9eac404c",
            "2b492b65c8e64c6ba7b7021f7836f8e8",
            "4ef9854bf8654995ae1512e1c618d677",
            "5c7510c9db424f759eb7a502cff7304e"
          ]
        },
        "id": "VPVBeYnrqPMf",
        "outputId": "de7364ef-c147-4fca-a0e4-1bbbc7d761c5"
      },
      "execution_count": 31,
      "outputs": [
        {
          "output_type": "display_data",
          "data": {
            "text/plain": [
              "  0%|          | 0/5 [00:00<?, ?it/s]"
            ],
            "application/vnd.jupyter.widget-view+json": {
              "version_major": 2,
              "version_minor": 0,
              "model_id": "8e7b8a2a62c44fd09a2dcea10e6439e0"
            }
          },
          "metadata": {}
        },
        {
          "output_type": "stream",
          "name": "stdout",
          "text": [
            "\n",
            "Early stopping occurred at epoch 85 with best_epoch = 61 and best_val_0_rmse = 0.692579984664917\n",
            "\n",
            "Early stopping occurred at epoch 81 with best_epoch = 57 and best_val_0_rmse = 0.7264299988746643\n",
            "\n",
            "Early stopping occurred at epoch 85 with best_epoch = 61 and best_val_0_rmse = 0.7287600040435791\n",
            "\n",
            "Early stopping occurred at epoch 87 with best_epoch = 63 and best_val_0_rmse = 0.716920018196106\n",
            "\n",
            "Early stopping occurred at epoch 92 with best_epoch = 68 and best_val_0_rmse = 0.6720399856567383\n",
            "\n",
            "Early stopping occurred at epoch 96 with best_epoch = 72 and best_val_0_rmse = 0.6872299909591675\n",
            "\n",
            "Early stopping occurred at epoch 116 with best_epoch = 92 and best_val_0_rmse = 0.7193800210952759\n",
            "\n",
            "Early stopping occurred at epoch 72 with best_epoch = 48 and best_val_0_rmse = 0.7740899920463562\n",
            "\n",
            "Early stopping occurred at epoch 70 with best_epoch = 46 and best_val_0_rmse = 0.7271699905395508\n",
            "\n",
            "Early stopping occurred at epoch 105 with best_epoch = 81 and best_val_0_rmse = 0.715179979801178\n",
            "\n",
            "Early stopping occurred at epoch 71 with best_epoch = 47 and best_val_0_rmse = 0.7456799745559692\n",
            "\n",
            "Early stopping occurred at epoch 70 with best_epoch = 46 and best_val_0_rmse = 0.735319972038269\n",
            "\n",
            "Early stopping occurred at epoch 80 with best_epoch = 56 and best_val_0_rmse = 0.7269499897956848\n",
            "\n",
            "Early stopping occurred at epoch 120 with best_epoch = 96 and best_val_0_rmse = 0.7193300127983093\n",
            "\n",
            "Early stopping occurred at epoch 104 with best_epoch = 80 and best_val_0_rmse = 0.7112799882888794\n",
            "CPU times: user 4min 56s, sys: 22.8 s, total: 5min 19s\n",
            "Wall time: 3min 58s\n"
          ]
        }
      ]
    },
    {
      "cell_type": "code",
      "source": [
        "print(\"Best trial: score {}, params {}\".format(study.best_trial.value, study.best_trial.params))\n",
        "mean_scores['TabNet_score'], bst_mdls['TabNet_model'], target_sc = objective_tabnet(optuna.trial.FixedTrial(study.best_trial.params), return_models=True)"
      ],
      "metadata": {
        "colab": {
          "base_uri": "https://localhost:8080/"
        },
        "id": "eAq1FDz-zcqR",
        "outputId": "c0bd6e4e-059c-463b-eca0-9bbaf817a497"
      },
      "execution_count": 32,
      "outputs": [
        {
          "output_type": "stream",
          "name": "stdout",
          "text": [
            "Best trial: score 12.304533958435059, params {'mask_type': 'entmax', 'n_steps': 2, 'gamma': 1.3989176032455901, 'cat_emb_dim': 8, 'n_independent': 5, 'n_shared': 3, 'momentum': 0.09055906010009843, 'lambda_sparse': 5.0997341097581644e-05}\n",
            "\n",
            "Early stopping occurred at epoch 110 with best_epoch = 86 and best_val_0_rmse = 0.7304999828338623\n",
            "\n",
            "Early stopping occurred at epoch 80 with best_epoch = 56 and best_val_0_rmse = 0.706250011920929\n",
            "\n",
            "Early stopping occurred at epoch 115 with best_epoch = 91 and best_val_0_rmse = 0.6666799783706665\n"
          ]
        }
      ]
    },
    {
      "cell_type": "code",
      "source": [
        "# params = [\"mask_type\",\n",
        "#           'n_d',\n",
        "#           'n_a',\n",
        "#           'n_steps',\n",
        "#           'gamma',\n",
        "#           'cat_emb_dim',\n",
        "#           'n_independent',\n",
        "#           'n_shared',\n",
        "#           'momentum',\n",
        "#           'lambda_sparse',]\n",
        "\n",
        "# optuna.visualization.plot_slice(study, params=params, target_name='rmse')"
      ],
      "metadata": {
        "id": "YjQKWi9GirRF"
      },
      "execution_count": 33,
      "outputs": []
    },
    {
      "cell_type": "code",
      "source": [
        "preds = bst_mdls['TabNet_model'].predict(X_sub)\n",
        "preds = target_sc.inverse_transform(np.array(preds).reshape(-1, 1))\n",
        "\n",
        "df_sub['TabNet_target'] = preds"
      ],
      "metadata": {
        "id": "OCPYyrj3gi03"
      },
      "execution_count": 34,
      "outputs": []
    },
    {
      "cell_type": "markdown",
      "metadata": {
        "id": "WQnk_d98PuiR"
      },
      "source": [
        "## KNN"
      ]
    },
    {
      "cell_type": "code",
      "source": [
        "def objective_knn(trial, return_models=False):\n",
        "    init_params = {'n_jobs': -1}\n",
        "\n",
        "    grid = {'weights': trial.suggest_categorical(\"weights\", ['distance',\n",
        "                                                              # 'uniform'\n",
        "                                                              ],),\n",
        "             'n_neighbors': trial.suggest_int(\"n_neighbors\", 100, 200, step=4),\n",
        "             'leaf_size': trial.suggest_int(\"leaf_size\", 200, 300, step=4),\n",
        "             'p':  trial.suggest_int(\"p\", 1, 2)}\n",
        "\n",
        "    fit_params = {}\n",
        "\n",
        "    n_splits = 3\n",
        "    kf = KFold(n_splits=n_splits, shuffle=True, random_state=R_S)\n",
        "\n",
        "    scores, models = [], []\n",
        "\n",
        "    for train_idx, valid_idx in kf.split(X):\n",
        "        train_data = X.iloc[train_idx, :], y.iloc[train_idx]\n",
        "        valid_data = X.iloc[valid_idx, :], y.iloc[valid_idx]\n",
        "\n",
        "        model, y_pred = fit_algorithm_optuna(trial,\n",
        "                                             train_data,\n",
        "                                             valid_data,\n",
        "                                             KNeighborsRegressor,\n",
        "                                             init_params,\n",
        "                                             grid,\n",
        "                                             fit_params)\n",
        "\n",
        "        y_true = valid_data[1]\n",
        "        scores.append(mean_squared_error(y_true=y_true, y_pred=y_pred, squared=False))\n",
        "        models.append(model)\n",
        "        # break\n",
        "\n",
        "    bst_mdl = models[np.argmin(scores)]\n",
        "    result = np.mean(scores)\n",
        "\n",
        "    if return_models:\n",
        "        return result, bst_mdl\n",
        "    else:\n",
        "        return result"
      ],
      "metadata": {
        "id": "aagW8jM0iVvP"
      },
      "execution_count": 35,
      "outputs": []
    },
    {
      "cell_type": "code",
      "source": [
        "%%time\n",
        "study = optuna.create_study(direction=\"minimize\", study_name=\"KNN_Regressor\", sampler=sampler)\n",
        "study.optimize(objective_knn,\n",
        "               n_trials=30,\n",
        "               n_jobs=-1,\n",
        "               show_progress_bar=True,)"
      ],
      "metadata": {
        "colab": {
          "base_uri": "https://localhost:8080/",
          "height": 84,
          "referenced_widgets": [
            "d1e1029fd55348c7b4700d1d90229e39",
            "8cd622467cf44dbfbfef2a2349f190fc",
            "3e75acb991d84dd8ad72e55182d55b37",
            "96bd64d21313433eb8649db7fe08ca13",
            "4b0af322b24c45ecb43e9fbf24a2c4d7",
            "c93a8b2afb094ace9cfabaef199edf52",
            "59b5e2b591b04ff8b6148497cd6db856",
            "4811a8b6875146ecb6b3cf045edb7779",
            "8006027969224916bae0980b92a0c2b6",
            "04f27994aa4449b0ae23030ac3d7fbd9",
            "f87807940dd448ad84aff7b903ff861d"
          ]
        },
        "id": "lcin0TYkjm4f",
        "outputId": "43259586-056a-4c1c-ee36-a5f61503eab7"
      },
      "execution_count": 36,
      "outputs": [
        {
          "output_type": "display_data",
          "data": {
            "text/plain": [
              "  0%|          | 0/30 [00:00<?, ?it/s]"
            ],
            "application/vnd.jupyter.widget-view+json": {
              "version_major": 2,
              "version_minor": 0,
              "model_id": "d1e1029fd55348c7b4700d1d90229e39"
            }
          },
          "metadata": {}
        },
        {
          "output_type": "stream",
          "name": "stdout",
          "text": [
            "CPU times: user 15.3 s, sys: 283 ms, total: 15.6 s\n",
            "Wall time: 11.4 s\n"
          ]
        }
      ]
    },
    {
      "cell_type": "code",
      "source": [
        "print(\"Best trial: score {}, params {}\".format(study.best_trial.value, study.best_trial.params))\n",
        "mean_scores['KNN_score'], bst_mdls['KNN_model'] = objective_knn(optuna.trial.FixedTrial(study.best_trial.params), return_models=True)"
      ],
      "metadata": {
        "colab": {
          "base_uri": "https://localhost:8080/"
        },
        "id": "dVm4FL1AnJpX",
        "outputId": "00389f11-7916-45c0-dd74-0f7cdaa51c27"
      },
      "execution_count": 37,
      "outputs": [
        {
          "output_type": "stream",
          "name": "stdout",
          "text": [
            "Best trial: score 14.80338878265787, params {'weights': 'distance', 'n_neighbors': 100, 'leaf_size': 204, 'p': 2}\n"
          ]
        }
      ]
    },
    {
      "cell_type": "code",
      "source": [
        "# params = ['weights',\n",
        "#           'n_neighbors',\n",
        "#           'leaf_size',\n",
        "#           'p']\n",
        "\n",
        "# optuna.visualization.plot_slice(study, params=params, target_name='rmse')"
      ],
      "metadata": {
        "id": "Iwip0SEYUeGO"
      },
      "execution_count": 38,
      "outputs": []
    },
    {
      "cell_type": "code",
      "source": [
        "preds = bst_mdls['KNN_model'].predict(X_sub)\n",
        "df_sub['KNN_target'] = preds"
      ],
      "metadata": {
        "id": "H8zjIH_TrMhs"
      },
      "execution_count": 39,
      "outputs": []
    },
    {
      "cell_type": "markdown",
      "metadata": {
        "id": "gHVp7c1ESfn0"
      },
      "source": [
        "## Elastic net"
      ]
    },
    {
      "cell_type": "code",
      "source": [
        "def objective_elastik(trial, return_models=False):\n",
        "    init_params = {'random_state': R_S,}\n",
        "\n",
        "    grid = {'max_iter': trial.suggest_int(\"max_iter\", 600, 800, step=4),\n",
        "            'l1_ratio': trial.suggest_float(\"l1_ratio\", 0.001, .3),\n",
        "            'alpha':  trial.suggest_float(\"alpha\", 0.001, .3)}\n",
        "\n",
        "    fit_params = {}\n",
        "\n",
        "    n_splits = 3\n",
        "    kf = KFold(n_splits=n_splits, shuffle=True, random_state=R_S)\n",
        "\n",
        "    scores, models = [], []\n",
        "\n",
        "    for train_idx, valid_idx in kf.split(X):\n",
        "        train_data = X.iloc[train_idx, :], y.iloc[train_idx]\n",
        "        valid_data = X.iloc[valid_idx, :], y.iloc[valid_idx]\n",
        "\n",
        "\n",
        "        # Подаем trials для перебора\n",
        "        model, y_pred = fit_algorithm_optuna(trial,\n",
        "                                             train_data,\n",
        "                                             valid_data,\n",
        "                                             ElasticNet,\n",
        "                                             init_params,\n",
        "                                             grid,\n",
        "                                             fit_params)\n",
        "\n",
        "        y_true = valid_data[1]\n",
        "        scores.append(mean_squared_error(y_true=y_true, y_pred=y_pred, squared=False))\n",
        "        models.append(model)\n",
        "        # break\n",
        "\n",
        "    bst_mdl = models[np.argmin(scores)]\n",
        "    result = np.mean(scores)\n",
        "\n",
        "    if return_models:\n",
        "        return result, bst_mdl\n",
        "    else:\n",
        "        return result"
      ],
      "metadata": {
        "id": "fu-F-A83r3wj"
      },
      "execution_count": 40,
      "outputs": []
    },
    {
      "cell_type": "code",
      "execution_count": 41,
      "metadata": {
        "colab": {
          "base_uri": "https://localhost:8080/",
          "height": 84,
          "referenced_widgets": [
            "1525296cd7714f3cbe4e9a7ff530c051",
            "6509daefa6384161a4522a23306e30d5",
            "d0a61a2cec0c4b0197c951beafa3e963",
            "c004b4d1b16d4a61935462703313b57a",
            "700b65707ca3490d9170be87fe01cb96",
            "1fc7ac34060b49c2a2995c0a28b08d4f",
            "e1378b1ca48a426286ea9014ecbf9baf",
            "b105b921d03448b6a7d28e9af38050da",
            "1f6289e2bee344118b7c70c69f0898fb",
            "9bc97791c5a947719039ae39ea3f6d1e",
            "5e1b6885176f4b0f99a3fcce19a508e2"
          ]
        },
        "id": "E3l57C3D8EQV",
        "outputId": "f5b31532-8cf4-4c77-ba01-06b484b1b043"
      },
      "outputs": [
        {
          "output_type": "display_data",
          "data": {
            "text/plain": [
              "  0%|          | 0/30 [00:00<?, ?it/s]"
            ],
            "application/vnd.jupyter.widget-view+json": {
              "version_major": 2,
              "version_minor": 0,
              "model_id": "1525296cd7714f3cbe4e9a7ff530c051"
            }
          },
          "metadata": {}
        },
        {
          "output_type": "stream",
          "name": "stdout",
          "text": [
            "CPU times: user 6.32 s, sys: 306 ms, total: 6.63 s\n",
            "Wall time: 6.14 s\n"
          ]
        }
      ],
      "source": [
        "%%time\n",
        "study = optuna.create_study(direction=\"minimize\", study_name=\"Elastic_Regressor\", sampler=sampler)\n",
        "study.optimize(objective_elastik,\n",
        "               n_trials=30,\n",
        "               n_jobs=-1,\n",
        "               show_progress_bar=True,)"
      ]
    },
    {
      "cell_type": "code",
      "source": [
        "print(\"Best trial: score {}, params {}\".format(study.best_trial.value, study.best_trial.params))\n",
        "mean_scores['Elastic_score'], bst_mdls['Elastic_model'] = objective_elastik(optuna.trial.FixedTrial(study.best_trial.params), return_models=True)"
      ],
      "metadata": {
        "colab": {
          "base_uri": "https://localhost:8080/"
        },
        "id": "mVuSW_STtc7O",
        "outputId": "c1cff1ef-26dc-4aed-fdce-debc07634fa2"
      },
      "execution_count": 42,
      "outputs": [
        {
          "output_type": "stream",
          "name": "stdout",
          "text": [
            "Best trial: score 14.548987111107854, params {'max_iter': 660, 'l1_ratio': 0.061331377535654985, 'alpha': 0.008065274131719105}\n"
          ]
        }
      ]
    },
    {
      "cell_type": "code",
      "source": [
        "# params = ['max_iter',\n",
        "#           'l1_ratio',\n",
        "#           'alpha']\n",
        "\n",
        "# optuna.visualization.plot_slice(study, params=params, target_name='rmse')"
      ],
      "metadata": {
        "id": "0ig8iCPyWqYN"
      },
      "execution_count": 43,
      "outputs": []
    },
    {
      "cell_type": "code",
      "source": [
        "preds = bst_mdls['Elastic_model'].predict(X_sub)\n",
        "df_sub['Elastic_target'] = preds"
      ],
      "metadata": {
        "id": "Cyx5KN6PXBJU"
      },
      "execution_count": 44,
      "outputs": []
    },
    {
      "cell_type": "markdown",
      "source": [
        "## Gradient Boosting"
      ],
      "metadata": {
        "id": "PS0h6zY4uTRz"
      }
    },
    {
      "cell_type": "code",
      "source": [
        "def objective_gradient_boosting(trial, return_models=False):\n",
        "    init_params = {'random_state': R_S,\n",
        "                  #  'n_jobs': -1\n",
        "                   }\n",
        "\n",
        "    grid = { #'learning_rate': trial.suggest_float(\"learning_rate\", 0.001, 0.01),\n",
        "             'n_estimators': trial.suggest_int(\"n_estimators\", 300, 500, step=4),\n",
        "             'subsample': trial.suggest_float(\"subsample\", 0.6, 0.95),\n",
        "             'criterion': trial.suggest_categorical(\"criterion\", [\"friedman_mse\",\n",
        "                                                                  # \"squared_error\"\n",
        "                                                                  ]),\n",
        "             'min_samples_split': trial.suggest_int(\"min_samples_split\", 2, 200),\n",
        "             'min_samples_leaf': trial.suggest_int(\"min_samples_leaf\", 2, 200),\n",
        "             'max_depth': trial.suggest_int(\"max_depth\", 4, 8),\n",
        "             'n_iter_no_change': trial.suggest_int(\"n_iter_no_change\", 2, 100),\n",
        "             }\n",
        "\n",
        "    fit_params = {}\n",
        "\n",
        "    n_splits = 3\n",
        "    kf = KFold(n_splits=n_splits, shuffle=True, random_state=R_S)\n",
        "\n",
        "    scores, models = [], []\n",
        "\n",
        "\n",
        "    for train_idx, valid_idx in kf.split(X):\n",
        "        train_data = X.iloc[train_idx, :], y.iloc[train_idx]\n",
        "        valid_data = X.iloc[valid_idx, :], y.iloc[valid_idx]\n",
        "\n",
        "\n",
        "        # Подаем trials для перебора\n",
        "        model, y_pred = fit_algorithm_optuna(trial,\n",
        "                                      train_data,\n",
        "                                      valid_data,\n",
        "                                      GradientBoostingRegressor,\n",
        "                                      init_params,\n",
        "                                      grid,\n",
        "                                      fit_params)\n",
        "\n",
        "        y_true = valid_data[1]\n",
        "        scores.append(mean_squared_error(y_true=y_true, y_pred=y_pred, squared=False))\n",
        "        models.append(model)\n",
        "        break\n",
        "\n",
        "    bst_mdl = models[np.argmin(scores)]\n",
        "    result = np.mean(scores)\n",
        "\n",
        "    if return_models:\n",
        "        return result, bst_mdl\n",
        "    else:\n",
        "        return result"
      ],
      "metadata": {
        "id": "F_eqPfsVuaNF"
      },
      "execution_count": 45,
      "outputs": []
    },
    {
      "cell_type": "code",
      "source": [
        "%%time\n",
        "study = optuna.create_study(direction=\"minimize\", study_name=\"GB_Regressor\", sampler=sampler)\n",
        "study.optimize(objective_gradient_boosting,\n",
        "               n_trials=30,\n",
        "               n_jobs=-1,\n",
        "               show_progress_bar=True,)"
      ],
      "metadata": {
        "colab": {
          "base_uri": "https://localhost:8080/",
          "height": 84,
          "referenced_widgets": [
            "3abd4fbcc0364d8f86ff9ce7d2dd2bcd",
            "7c2b784324d643668940f410c6dfba2c",
            "8c3d33df5f624d199adb9cdd3a885ee6",
            "ddecfd45e93c490b807c5b73853eb2d0",
            "a5fbbfd662a4486fa1eae8b5a54c3391",
            "c3697b304eb044f2bae607c73f89c98b",
            "a9272916855445fd81fa593806aa86c0",
            "ba235ac7d0df4d719b791a3ccc628fc7",
            "2a4951603ae84c16b0eb797393a2277b",
            "503e9b277eeb40f0ab9d7896183eb20c",
            "e8a627e8fbcf475881325fc2c19ea62d"
          ]
        },
        "id": "Xc-qccqfXbgj",
        "outputId": "8b65070d-91f8-4917-e2b6-a27cef6857d6"
      },
      "execution_count": 46,
      "outputs": [
        {
          "output_type": "display_data",
          "data": {
            "text/plain": [
              "  0%|          | 0/30 [00:00<?, ?it/s]"
            ],
            "application/vnd.jupyter.widget-view+json": {
              "version_major": 2,
              "version_minor": 0,
              "model_id": "3abd4fbcc0364d8f86ff9ce7d2dd2bcd"
            }
          },
          "metadata": {}
        },
        {
          "output_type": "stream",
          "name": "stdout",
          "text": [
            "CPU times: user 24.9 s, sys: 274 ms, total: 25.2 s\n",
            "Wall time: 17.9 s\n"
          ]
        }
      ]
    },
    {
      "cell_type": "code",
      "source": [
        "print(\"Best trial: score {}, params {}\".format(study.best_trial.value, study.best_trial.params))\n",
        "mean_scores['GB_score'], bst_mdls['GB_model'] = objective_gradient_boosting(optuna.trial.FixedTrial(study.best_trial.params), return_models=True)"
      ],
      "metadata": {
        "colab": {
          "base_uri": "https://localhost:8080/"
        },
        "id": "9TSXANnvZZHj",
        "outputId": "3748796c-bd73-4e16-cada-c56b07d2dd1a"
      },
      "execution_count": 47,
      "outputs": [
        {
          "output_type": "stream",
          "name": "stdout",
          "text": [
            "Best trial: score 11.66122961266563, params {'n_estimators': 412, 'subsample': 0.9409893274546193, 'criterion': 'friedman_mse', 'min_samples_split': 149, 'min_samples_leaf': 2, 'max_depth': 5, 'n_iter_no_change': 70}\n"
          ]
        }
      ]
    },
    {
      "cell_type": "code",
      "source": [
        "# params = ['n_estimators',\n",
        "#           'subsample',\n",
        "#           'criterion',\n",
        "#           'min_samples_split',\n",
        "#           'min_samples_leaf',\n",
        "#           'max_depth',\n",
        "#           'n_iter_no_change']\n",
        "\n",
        "# optuna.visualization.plot_slice(study, params=params, target_name='rmse')"
      ],
      "metadata": {
        "id": "9idGHmEfddLw"
      },
      "execution_count": 48,
      "outputs": []
    },
    {
      "cell_type": "code",
      "source": [
        "preds = bst_mdls['GB_model'].predict(X_sub)\n",
        "df_sub['GB_target'] = preds"
      ],
      "metadata": {
        "id": "iXYPNQR7kGQk"
      },
      "execution_count": 49,
      "outputs": []
    },
    {
      "cell_type": "markdown",
      "metadata": {
        "id": "l2uwigtOAxWS"
      },
      "source": [
        "## Random Forest"
      ]
    },
    {
      "cell_type": "code",
      "source": [
        "def objective_random_forest(trial, return_models=False):\n",
        "    init_params = {'random_state': R_S,\n",
        "                   'n_jobs': -1}\n",
        "\n",
        "    grid = { 'n_estimators': trial.suggest_int(\"n_estimators\", 200, 350, step=4),\n",
        "             'max_depth': trial.suggest_int(\"max_depth\", 8, 11),\n",
        "             'max_samples': trial.suggest_int(\"max_samples\", 200, 350),\n",
        "            #  'min_samples_leaf': trial.suggest_int(\"min_samples_leaf\", 50, 150),\n",
        "             }\n",
        "\n",
        "    fit_params = {}\n",
        "\n",
        "    n_splits = 3\n",
        "    kf = KFold(n_splits=n_splits, shuffle=True, random_state=R_S)\n",
        "\n",
        "    scores, models = [], []\n",
        "\n",
        "    for train_idx, valid_idx in kf.split(X):\n",
        "        train_data = X.iloc[train_idx, :], y.iloc[train_idx]\n",
        "        valid_data = X.iloc[valid_idx, :], y.iloc[valid_idx]\n",
        "\n",
        "        # Подаем trials для перебора\n",
        "        model, y_pred = fit_algorithm_optuna(trial,\n",
        "                                      train_data,\n",
        "                                      valid_data,\n",
        "                                      RandomForestRegressor,\n",
        "                                      init_params,\n",
        "                                      grid,\n",
        "                                      fit_params)\n",
        "\n",
        "        y_true = valid_data[1]\n",
        "        scores.append(mean_squared_error(y_true=y_true, y_pred=y_pred, squared=False))\n",
        "        models.append(model)\n",
        "        # break\n",
        "\n",
        "    bst_mdl = models[np.argmin(scores)]\n",
        "    result = np.mean(scores)\n",
        "\n",
        "    if return_models:\n",
        "        return result, bst_mdl\n",
        "    else:\n",
        "        return result"
      ],
      "metadata": {
        "id": "s97SEiZkudz0"
      },
      "execution_count": 50,
      "outputs": []
    },
    {
      "cell_type": "code",
      "source": [
        "%%time\n",
        "study = optuna.create_study(direction=\"minimize\", study_name=\"Random_Forest_Regressor\", sampler=sampler)\n",
        "study.optimize(objective_random_forest,\n",
        "               n_trials=30,\n",
        "               n_jobs=-1,\n",
        "               show_progress_bar=True,)"
      ],
      "metadata": {
        "colab": {
          "base_uri": "https://localhost:8080/",
          "height": 84,
          "referenced_widgets": [
            "0abdc6c73e654886b222bede9f106a94",
            "5736db846b9c416d8d3374ce0a903c57",
            "871f2a3d5ac04b808875d23e6c6b63fc",
            "0b662af6ad9a4d369328b2480ed88d6c",
            "66c300917d954527938c1520ec6ac644",
            "289b5bb6102741a2afd983f3dc06d836",
            "5539ae015cc74ed08d5e38a12ebff55d",
            "1cfbfd39caa54fc28d4e1122677e4c27",
            "9bb5418c9dc146379fcd7294852e844d",
            "befcdfce1dba410c8f8162de8bc254b6",
            "6c94069a5d3345f09226810c7d4fa5ad"
          ]
        },
        "id": "Tdai8leRvEhx",
        "outputId": "de57a979-b0b6-4f05-fda2-00255528bf46"
      },
      "execution_count": 51,
      "outputs": [
        {
          "output_type": "display_data",
          "data": {
            "text/plain": [
              "  0%|          | 0/30 [00:00<?, ?it/s]"
            ],
            "application/vnd.jupyter.widget-view+json": {
              "version_major": 2,
              "version_minor": 0,
              "model_id": "0abdc6c73e654886b222bede9f106a94"
            }
          },
          "metadata": {}
        },
        {
          "output_type": "stream",
          "name": "stdout",
          "text": [
            "CPU times: user 2min 19s, sys: 6.24 s, total: 2min 25s\n",
            "Wall time: 1min 49s\n"
          ]
        }
      ]
    },
    {
      "cell_type": "code",
      "source": [
        "print(\"Best trial: score {}, params {}\".format(study.best_trial.value, study.best_trial.params))\n",
        "mean_scores['RF_score'], bst_mdls['RF_model'] = objective_random_forest(optuna.trial.FixedTrial(study.best_trial.params), return_models=True)"
      ],
      "metadata": {
        "colab": {
          "base_uri": "https://localhost:8080/"
        },
        "id": "AcpenSbmvfKs",
        "outputId": "6f1d4e94-73dc-4547-aa78-6b10470c2684"
      },
      "execution_count": 52,
      "outputs": [
        {
          "output_type": "stream",
          "name": "stdout",
          "text": [
            "Best trial: score 11.721087963413531, params {'n_estimators': 264, 'max_depth': 10, 'max_samples': 349}\n"
          ]
        }
      ]
    },
    {
      "cell_type": "code",
      "source": [
        "# params = ['n_estimators',\n",
        "#           'max_depth',\n",
        "#           'max_samples']\n",
        "\n",
        "# optuna.visualization.plot_slice(study, params=params, target_name='rmse')"
      ],
      "metadata": {
        "id": "HuAdIDOmk2tT"
      },
      "execution_count": 53,
      "outputs": []
    },
    {
      "cell_type": "code",
      "source": [
        "preds = bst_mdls['RF_model'].predict(X_sub)\n",
        "df_sub['RF_target'] = preds"
      ],
      "metadata": {
        "id": "6GO94-fNoKCI"
      },
      "execution_count": 54,
      "outputs": []
    },
    {
      "cell_type": "markdown",
      "metadata": {
        "id": "Ww82af9XNzVK"
      },
      "source": [
        "## SVM"
      ]
    },
    {
      "cell_type": "code",
      "source": [
        "def objective_svm(trial, return_models=False):\n",
        "    init_params = {}\n",
        "\n",
        "    grid = {'max_iter': trial.suggest_int('max_iter', 400, 550),\n",
        "            'nu': trial.suggest_float(\"nu\", 0.5, .8),\n",
        "            'C': trial.suggest_float(\"C\", 1, 2)}\n",
        "\n",
        "    fit_params = {}\n",
        "\n",
        "    n_splits = 3\n",
        "    kf = KFold(n_splits=n_splits, shuffle=True, random_state=R_S)\n",
        "\n",
        "    scores, models = [], []\n",
        "\n",
        "    for train_idx, valid_idx in kf.split(X):\n",
        "        train_data = X.iloc[train_idx, :], y.iloc[train_idx]\n",
        "        valid_data = X.iloc[valid_idx, :], y.iloc[valid_idx]\n",
        "\n",
        "        # Подаем trials для перебора\n",
        "        model, y_pred = fit_algorithm_optuna(trial,\n",
        "                                      train_data,\n",
        "                                      valid_data,\n",
        "                                      NuSVR,\n",
        "                                      init_params,\n",
        "                                      grid,\n",
        "                                      fit_params)\n",
        "\n",
        "        y_true = valid_data[1]\n",
        "        scores.append(mean_squared_error(y_true=y_true, y_pred=y_pred, squared=False))\n",
        "        models.append(model)\n",
        "        # break\n",
        "\n",
        "    bst_mdl = models[np.argmin(scores)]\n",
        "    result = np.mean(scores)\n",
        "\n",
        "    if return_models:\n",
        "        return result, bst_mdl\n",
        "    else:\n",
        "        return result"
      ],
      "metadata": {
        "id": "Fkje-40c13Q3"
      },
      "execution_count": 55,
      "outputs": []
    },
    {
      "cell_type": "code",
      "execution_count": 56,
      "metadata": {
        "colab": {
          "base_uri": "https://localhost:8080/",
          "height": 84,
          "referenced_widgets": [
            "e1059be2a447483ea0cd2930dcf1ada7",
            "9a00b46d26f0413bb5fd2cda795fcd4d",
            "69e237f8e42645b08947c8bc9c10643a",
            "8f83a46d6c2c4a50b29cce0d852f19b2",
            "d319cbf1418c47929fb952490e9a7572",
            "c9123a93b14a4de09d0c3959e1cd236e",
            "588dfc6c22c44d89887969b73f3e2702",
            "6e251997fd3542f8b03463e9e36f4976",
            "e7b30cd1d82241e9ae2caec8f0776aee",
            "882fd3f0f0ff4924823f5762dc85afb9",
            "e1cec577cadc408499296d6bce0f1aca"
          ]
        },
        "id": "2LvPINJmN5SJ",
        "outputId": "6f023136-6b48-41e9-ec4c-f6085cc13121"
      },
      "outputs": [
        {
          "output_type": "display_data",
          "data": {
            "text/plain": [
              "  0%|          | 0/30 [00:00<?, ?it/s]"
            ],
            "application/vnd.jupyter.widget-view+json": {
              "version_major": 2,
              "version_minor": 0,
              "model_id": "e1059be2a447483ea0cd2930dcf1ada7"
            }
          },
          "metadata": {}
        },
        {
          "output_type": "stream",
          "name": "stdout",
          "text": [
            "CPU times: user 35.5 s, sys: 123 ms, total: 35.6 s\n",
            "Wall time: 22.6 s\n"
          ]
        }
      ],
      "source": [
        "%%time\n",
        "study = optuna.create_study(direction=\"minimize\", study_name=\"SVM_Regressor\", sampler=sampler)\n",
        "study.optimize(objective_svm,\n",
        "               n_trials=30,\n",
        "               n_jobs=-1,\n",
        "               show_progress_bar=True,)"
      ]
    },
    {
      "cell_type": "code",
      "source": [
        "print(\"Best trial: score {}, params {}\".format(study.best_trial.value, study.best_trial.params))\n",
        "mean_scores['SVM_score'], bst_mdls['SVM_model'] = objective_svm(optuna.trial.FixedTrial(study.best_trial.params), return_models=True)"
      ],
      "metadata": {
        "colab": {
          "base_uri": "https://localhost:8080/"
        },
        "id": "crhDOsPa1NXc",
        "outputId": "96f4634e-fac6-4254-9d0f-66c6522c9fa9"
      },
      "execution_count": 57,
      "outputs": [
        {
          "output_type": "stream",
          "name": "stdout",
          "text": [
            "Best trial: score 12.832003798945207, params {'max_iter': 545, 'nu': 0.6889768876808462, 'C': 1.8012419283998322}\n"
          ]
        }
      ]
    },
    {
      "cell_type": "code",
      "source": [
        "# params = ['max_iter', 'C', 'nu']\n",
        "# optuna.visualization.plot_slice(study, params=params, target_name='rmse')"
      ],
      "metadata": {
        "id": "061GKyGVrRZF"
      },
      "execution_count": 58,
      "outputs": []
    },
    {
      "cell_type": "code",
      "source": [
        "preds = bst_mdls['SVM_model'].predict(X_sub)\n",
        "\n",
        "df_sub['SVM_target'] = preds\n",
        "df_sub.head()"
      ],
      "metadata": {
        "colab": {
          "base_uri": "https://localhost:8080/",
          "height": 206
        },
        "id": "B2DFDwis2nMP",
        "outputId": "d42f7697-a737-4b83-c67f-56ad9a79864f"
      },
      "execution_count": 59,
      "outputs": [
        {
          "output_type": "execute_result",
          "data": {
            "text/plain": [
              "       car_id  Catboost_target  LGBM_target  TabNet_target  KNN_target  \\\n",
              "0  P17494612l        43.810075    48.448740      50.539455   41.080899   \n",
              "1  N-1530212S        33.024832    35.105823      33.824364   43.897313   \n",
              "2  B-1154399t        32.408407    30.110363      30.862722   36.976320   \n",
              "3  F12725233R        34.229204    37.272761      35.417656   43.667786   \n",
              "4  l-1139189J        31.757414    30.088132      36.004406   48.241163   \n",
              "\n",
              "   Elastic_target  GB_target  RF_target  SVM_target  \n",
              "0       48.711633  46.962069  42.924486   30.216692  \n",
              "1       46.790291  38.277294  33.435849   42.389465  \n",
              "2       39.034140  31.122297  32.410244   35.546270  \n",
              "3       42.557854  34.046644  34.718910   36.830307  \n",
              "4       50.574948  31.799180  32.214107   33.181151  "
            ],
            "text/html": [
              "\n",
              "  <div id=\"df-f8ecd7b9-f332-4740-9ce5-6b75161b0d68\" class=\"colab-df-container\">\n",
              "    <div>\n",
              "<style scoped>\n",
              "    .dataframe tbody tr th:only-of-type {\n",
              "        vertical-align: middle;\n",
              "    }\n",
              "\n",
              "    .dataframe tbody tr th {\n",
              "        vertical-align: top;\n",
              "    }\n",
              "\n",
              "    .dataframe thead th {\n",
              "        text-align: right;\n",
              "    }\n",
              "</style>\n",
              "<table border=\"1\" class=\"dataframe\">\n",
              "  <thead>\n",
              "    <tr style=\"text-align: right;\">\n",
              "      <th></th>\n",
              "      <th>car_id</th>\n",
              "      <th>Catboost_target</th>\n",
              "      <th>LGBM_target</th>\n",
              "      <th>TabNet_target</th>\n",
              "      <th>KNN_target</th>\n",
              "      <th>Elastic_target</th>\n",
              "      <th>GB_target</th>\n",
              "      <th>RF_target</th>\n",
              "      <th>SVM_target</th>\n",
              "    </tr>\n",
              "  </thead>\n",
              "  <tbody>\n",
              "    <tr>\n",
              "      <th>0</th>\n",
              "      <td>P17494612l</td>\n",
              "      <td>43.810075</td>\n",
              "      <td>48.448740</td>\n",
              "      <td>50.539455</td>\n",
              "      <td>41.080899</td>\n",
              "      <td>48.711633</td>\n",
              "      <td>46.962069</td>\n",
              "      <td>42.924486</td>\n",
              "      <td>30.216692</td>\n",
              "    </tr>\n",
              "    <tr>\n",
              "      <th>1</th>\n",
              "      <td>N-1530212S</td>\n",
              "      <td>33.024832</td>\n",
              "      <td>35.105823</td>\n",
              "      <td>33.824364</td>\n",
              "      <td>43.897313</td>\n",
              "      <td>46.790291</td>\n",
              "      <td>38.277294</td>\n",
              "      <td>33.435849</td>\n",
              "      <td>42.389465</td>\n",
              "    </tr>\n",
              "    <tr>\n",
              "      <th>2</th>\n",
              "      <td>B-1154399t</td>\n",
              "      <td>32.408407</td>\n",
              "      <td>30.110363</td>\n",
              "      <td>30.862722</td>\n",
              "      <td>36.976320</td>\n",
              "      <td>39.034140</td>\n",
              "      <td>31.122297</td>\n",
              "      <td>32.410244</td>\n",
              "      <td>35.546270</td>\n",
              "    </tr>\n",
              "    <tr>\n",
              "      <th>3</th>\n",
              "      <td>F12725233R</td>\n",
              "      <td>34.229204</td>\n",
              "      <td>37.272761</td>\n",
              "      <td>35.417656</td>\n",
              "      <td>43.667786</td>\n",
              "      <td>42.557854</td>\n",
              "      <td>34.046644</td>\n",
              "      <td>34.718910</td>\n",
              "      <td>36.830307</td>\n",
              "    </tr>\n",
              "    <tr>\n",
              "      <th>4</th>\n",
              "      <td>l-1139189J</td>\n",
              "      <td>31.757414</td>\n",
              "      <td>30.088132</td>\n",
              "      <td>36.004406</td>\n",
              "      <td>48.241163</td>\n",
              "      <td>50.574948</td>\n",
              "      <td>31.799180</td>\n",
              "      <td>32.214107</td>\n",
              "      <td>33.181151</td>\n",
              "    </tr>\n",
              "  </tbody>\n",
              "</table>\n",
              "</div>\n",
              "    <div class=\"colab-df-buttons\">\n",
              "\n",
              "  <div class=\"colab-df-container\">\n",
              "    <button class=\"colab-df-convert\" onclick=\"convertToInteractive('df-f8ecd7b9-f332-4740-9ce5-6b75161b0d68')\"\n",
              "            title=\"Convert this dataframe to an interactive table.\"\n",
              "            style=\"display:none;\">\n",
              "\n",
              "  <svg xmlns=\"http://www.w3.org/2000/svg\" height=\"24px\" viewBox=\"0 -960 960 960\">\n",
              "    <path d=\"M120-120v-720h720v720H120Zm60-500h600v-160H180v160Zm220 220h160v-160H400v160Zm0 220h160v-160H400v160ZM180-400h160v-160H180v160Zm440 0h160v-160H620v160ZM180-180h160v-160H180v160Zm440 0h160v-160H620v160Z\"/>\n",
              "  </svg>\n",
              "    </button>\n",
              "\n",
              "  <style>\n",
              "    .colab-df-container {\n",
              "      display:flex;\n",
              "      gap: 12px;\n",
              "    }\n",
              "\n",
              "    .colab-df-convert {\n",
              "      background-color: #E8F0FE;\n",
              "      border: none;\n",
              "      border-radius: 50%;\n",
              "      cursor: pointer;\n",
              "      display: none;\n",
              "      fill: #1967D2;\n",
              "      height: 32px;\n",
              "      padding: 0 0 0 0;\n",
              "      width: 32px;\n",
              "    }\n",
              "\n",
              "    .colab-df-convert:hover {\n",
              "      background-color: #E2EBFA;\n",
              "      box-shadow: 0px 1px 2px rgba(60, 64, 67, 0.3), 0px 1px 3px 1px rgba(60, 64, 67, 0.15);\n",
              "      fill: #174EA6;\n",
              "    }\n",
              "\n",
              "    .colab-df-buttons div {\n",
              "      margin-bottom: 4px;\n",
              "    }\n",
              "\n",
              "    [theme=dark] .colab-df-convert {\n",
              "      background-color: #3B4455;\n",
              "      fill: #D2E3FC;\n",
              "    }\n",
              "\n",
              "    [theme=dark] .colab-df-convert:hover {\n",
              "      background-color: #434B5C;\n",
              "      box-shadow: 0px 1px 3px 1px rgba(0, 0, 0, 0.15);\n",
              "      filter: drop-shadow(0px 1px 2px rgba(0, 0, 0, 0.3));\n",
              "      fill: #FFFFFF;\n",
              "    }\n",
              "  </style>\n",
              "\n",
              "    <script>\n",
              "      const buttonEl =\n",
              "        document.querySelector('#df-f8ecd7b9-f332-4740-9ce5-6b75161b0d68 button.colab-df-convert');\n",
              "      buttonEl.style.display =\n",
              "        google.colab.kernel.accessAllowed ? 'block' : 'none';\n",
              "\n",
              "      async function convertToInteractive(key) {\n",
              "        const element = document.querySelector('#df-f8ecd7b9-f332-4740-9ce5-6b75161b0d68');\n",
              "        const dataTable =\n",
              "          await google.colab.kernel.invokeFunction('convertToInteractive',\n",
              "                                                    [key], {});\n",
              "        if (!dataTable) return;\n",
              "\n",
              "        const docLinkHtml = 'Like what you see? Visit the ' +\n",
              "          '<a target=\"_blank\" href=https://colab.research.google.com/notebooks/data_table.ipynb>data table notebook</a>'\n",
              "          + ' to learn more about interactive tables.';\n",
              "        element.innerHTML = '';\n",
              "        dataTable['output_type'] = 'display_data';\n",
              "        await google.colab.output.renderOutput(dataTable, element);\n",
              "        const docLink = document.createElement('div');\n",
              "        docLink.innerHTML = docLinkHtml;\n",
              "        element.appendChild(docLink);\n",
              "      }\n",
              "    </script>\n",
              "  </div>\n",
              "\n",
              "\n",
              "<div id=\"df-e19405af-7b83-43e9-8abf-b425e0428e99\">\n",
              "  <button class=\"colab-df-quickchart\" onclick=\"quickchart('df-e19405af-7b83-43e9-8abf-b425e0428e99')\"\n",
              "            title=\"Suggest charts.\"\n",
              "            style=\"display:none;\">\n",
              "\n",
              "<svg xmlns=\"http://www.w3.org/2000/svg\" height=\"24px\"viewBox=\"0 0 24 24\"\n",
              "     width=\"24px\">\n",
              "    <g>\n",
              "        <path d=\"M19 3H5c-1.1 0-2 .9-2 2v14c0 1.1.9 2 2 2h14c1.1 0 2-.9 2-2V5c0-1.1-.9-2-2-2zM9 17H7v-7h2v7zm4 0h-2V7h2v10zm4 0h-2v-4h2v4z\"/>\n",
              "    </g>\n",
              "</svg>\n",
              "  </button>\n",
              "\n",
              "<style>\n",
              "  .colab-df-quickchart {\n",
              "    background-color: #E8F0FE;\n",
              "    border: none;\n",
              "    border-radius: 50%;\n",
              "    cursor: pointer;\n",
              "    display: none;\n",
              "    fill: #1967D2;\n",
              "    height: 32px;\n",
              "    padding: 0 0 0 0;\n",
              "    width: 32px;\n",
              "  }\n",
              "\n",
              "  .colab-df-quickchart:hover {\n",
              "    background-color: #E2EBFA;\n",
              "    box-shadow: 0px 1px 2px rgba(60, 64, 67, 0.3), 0px 1px 3px 1px rgba(60, 64, 67, 0.15);\n",
              "    fill: #174EA6;\n",
              "  }\n",
              "\n",
              "  [theme=dark] .colab-df-quickchart {\n",
              "    background-color: #3B4455;\n",
              "    fill: #D2E3FC;\n",
              "  }\n",
              "\n",
              "  [theme=dark] .colab-df-quickchart:hover {\n",
              "    background-color: #434B5C;\n",
              "    box-shadow: 0px 1px 3px 1px rgba(0, 0, 0, 0.15);\n",
              "    filter: drop-shadow(0px 1px 2px rgba(0, 0, 0, 0.3));\n",
              "    fill: #FFFFFF;\n",
              "  }\n",
              "</style>\n",
              "\n",
              "  <script>\n",
              "    async function quickchart(key) {\n",
              "      const charts = await google.colab.kernel.invokeFunction(\n",
              "          'suggestCharts', [key], {});\n",
              "    }\n",
              "    (() => {\n",
              "      let quickchartButtonEl =\n",
              "        document.querySelector('#df-e19405af-7b83-43e9-8abf-b425e0428e99 button');\n",
              "      quickchartButtonEl.style.display =\n",
              "        google.colab.kernel.accessAllowed ? 'block' : 'none';\n",
              "    })();\n",
              "  </script>\n",
              "</div>\n",
              "    </div>\n",
              "  </div>\n"
            ]
          },
          "metadata": {},
          "execution_count": 59
        }
      ]
    },
    {
      "cell_type": "markdown",
      "metadata": {
        "id": "9mCHOltZxqk-"
      },
      "source": [
        "## XGBoost"
      ]
    },
    {
      "cell_type": "code",
      "execution_count": 60,
      "metadata": {
        "id": "hOezWrK9duOQ"
      },
      "outputs": [],
      "source": [
        "def objective_xgb(trial, return_models=False):\n",
        "\n",
        "    pruning_callback = XGBoostPruningCallback(trial, 'validation_0-rmse')\n",
        "\n",
        "    # n_rounds = trial.suggest_int('n_rounds', 20, 350)\n",
        "    callbacks = [xgb.callback.LearningRateScheduler(lr_gen_simple(trial.suggest_float(\"lr_init\", 0.05, 0.15), n_est)),\n",
        "                #  xgb.callback.EarlyStopping(rounds=trial.suggest_int(\"early_stopping_rounds\", 50, 1000), #metric_name=\"RMSE\"\n",
        "                #  ),\n",
        "                 pruning_callback]\n",
        "\n",
        "    init_params = {'eval_metric':'rmse',\n",
        "                   'random_state': R_S,\n",
        "                   'n_jobs':-1,\n",
        "                  #  'n_rounds': n_est,\n",
        "                   'objective': 'reg:squarederror'}\n",
        "\n",
        "    grid = {\"booster\": trial.suggest_categorical(\"booster\", [#\"gbtree\",\n",
        "                                                             #\"gblinear\",\n",
        "                                                             \"dart\"\n",
        "                                                             ]),\n",
        "            'max_leaves': trial.suggest_int('max_leaves', 6, 12),\n",
        "            'lambda': trial.suggest_int(\"lambda\", 2, 15),\n",
        "            'max_bin': trial.suggest_int('max_bin', 220, 350),\n",
        "            'alpha': trial.suggest_int('alpha', 2, 15),\n",
        "            'colsample_bytree': trial.suggest_float(\"colsample_bytree\", 0.6, 0.9),\n",
        "            'subsample': trial.suggest_float(\"subsample\", 0.8, 0.95),\n",
        "            'min_child_weight': trial.suggest_float(\"min_child_weight\", 8, 12)}\n",
        "\n",
        "    fit_params = {'model__verbose': 0}\n",
        "\n",
        "    n_splits = 3\n",
        "    kf = KFold(n_splits=n_splits, shuffle=True, random_state=R_S)\n",
        "\n",
        "    scores, models = [], []\n",
        "\n",
        "    for train_idx, valid_idx in kf.split(X):\n",
        "        train_data = X.iloc[train_idx, :], y.iloc[train_idx]\n",
        "        valid_data = X.iloc[valid_idx, :], y.iloc[valid_idx]\n",
        "\n",
        "        model, y_pred = fit_algorithm_optuna(trial,\n",
        "                                      train_data,\n",
        "                                      valid_data,\n",
        "                                      XGBRegressor,\n",
        "                                      init_params,\n",
        "                                      grid,\n",
        "                                      fit_params,\n",
        "                                      callbacks=callbacks)\n",
        "\n",
        "        y_true = valid_data[1]\n",
        "        scores.append(mean_squared_error(y_true=y_true, y_pred=y_pred, squared=False))\n",
        "        models.append(model)\n",
        "        # break\n",
        "\n",
        "    bst_mdl = models[np.argmin(scores)]\n",
        "    result = np.mean(scores)\n",
        "\n",
        "    if return_models:\n",
        "        return result, bst_mdl\n",
        "    else:\n",
        "        return result"
      ]
    },
    {
      "cell_type": "markdown",
      "source": [
        "Learning rate подбирается через sheduler. Для уменьшения времени работы ноутбука будем обучать только на одном фолде."
      ],
      "metadata": {
        "id": "WnbyEHCW3S12"
      }
    },
    {
      "cell_type": "code",
      "source": [
        "%%time\n",
        "study = optuna.create_study(pruner=optuna.pruners.MedianPruner(n_warmup_steps=5),\n",
        "                            direction=\"minimize\", study_name=\"XGB_Regressor\", sampler=sampler)\n",
        "study.optimize(objective_xgb,\n",
        "               n_trials=30,\n",
        "               n_jobs=-1,\n",
        "               show_progress_bar=True,)"
      ],
      "metadata": {
        "colab": {
          "base_uri": "https://localhost:8080/",
          "height": 84,
          "referenced_widgets": [
            "2719282951944110ad08acd57364e8de",
            "b6ee3534a4d345d6bfd7d2fd93b7aadb",
            "5ec1e56395b14f31ae5fdb3602e244b8",
            "8ef3bd5be43c43f8bc8d0d425bf18d09",
            "869ee3bc35764ebfbe7706f9164cfe00",
            "7aa716c2149d44859bcd69120f69661a",
            "d3f760f953154674918f448ad91cdcca",
            "3689d3d0aed44cce8197330d81386097",
            "01945c2bdbd84beb9ccda5531702bd1a",
            "45e1da92f3974092baff45a977e00d28",
            "041a7524bd4246b1a986601a87d3eaf7"
          ]
        },
        "id": "0gAQ4i3oIPGm",
        "outputId": "c54283dc-9848-4159-cea2-71798b07a442"
      },
      "execution_count": 61,
      "outputs": [
        {
          "output_type": "display_data",
          "data": {
            "text/plain": [
              "  0%|          | 0/30 [00:00<?, ?it/s]"
            ],
            "application/vnd.jupyter.widget-view+json": {
              "version_major": 2,
              "version_minor": 0,
              "model_id": "2719282951944110ad08acd57364e8de"
            }
          },
          "metadata": {}
        },
        {
          "output_type": "stream",
          "name": "stdout",
          "text": [
            "CPU times: user 3min 56s, sys: 14.6 s, total: 4min 11s\n",
            "Wall time: 2min 30s\n"
          ]
        }
      ]
    },
    {
      "cell_type": "code",
      "source": [
        "print(\"Best trial: score {}, params {}\".format(study.best_trial.value, study.best_trial.params))\n",
        "mean_scores['XGB_score'], bst_mdls['XGB_model'] = objective_xgb(optuna.trial.FixedTrial(study.best_trial.params), return_models=True)"
      ],
      "metadata": {
        "id": "WeSZyJy-L7-z",
        "colab": {
          "base_uri": "https://localhost:8080/"
        },
        "outputId": "504e2aad-bfc2-4a06-92cb-2b22ead54ef1"
      },
      "execution_count": 62,
      "outputs": [
        {
          "output_type": "stream",
          "name": "stdout",
          "text": [
            "Best trial: score 11.66357135772705, params {'lr_init': 0.06888253423404803, 'booster': 'dart', 'max_leaves': 6, 'lambda': 3, 'max_bin': 240, 'alpha': 3, 'colsample_bytree': 0.7743052028681592, 'subsample': 0.9309596573734499, 'min_child_weight': 11.679409524162446, 'max_depth': 3, 'eta': 0.24405403745440712, 'gamma': 1.8986366588526835e-05, 'grow_policy': 'lossguide', 'sample_type': 'weighted', 'normalize_type': 'tree', 'rate_drop': 0.0010148912001599955, 'skip_drop': 8.354102230813049e-05}\n"
          ]
        }
      ]
    },
    {
      "cell_type": "code",
      "source": [
        "# params = [ 'lr_init', 'booster', 'max_leaves', 'lambda', 'max_bin', 'alpha', 'colsample_bytree', 'subsample', 'min_child_weight']\n",
        "# optuna.visualization.plot_slice(study, params=params, target_name='rmse')"
      ],
      "metadata": {
        "id": "95-yR4OXvoY3"
      },
      "execution_count": 63,
      "outputs": []
    },
    {
      "cell_type": "code",
      "source": [
        "preds = bst_mdls['XGB_model'].predict(X_sub)\n",
        "df_sub['XGB_target'] = preds"
      ],
      "metadata": {
        "id": "UO58iBbY6ctR"
      },
      "execution_count": 64,
      "outputs": []
    },
    {
      "cell_type": "markdown",
      "metadata": {
        "id": "m_XV1JxZCQvM"
      },
      "source": [
        "# Сравнение моделей"
      ]
    },
    {
      "cell_type": "code",
      "source": [
        "df_sub.head()"
      ],
      "metadata": {
        "colab": {
          "base_uri": "https://localhost:8080/",
          "height": 206
        },
        "id": "pBgB7nRZxOQh",
        "outputId": "c535021e-37c4-46ec-f51e-cc4871ba72aa"
      },
      "execution_count": 65,
      "outputs": [
        {
          "output_type": "execute_result",
          "data": {
            "text/plain": [
              "       car_id  Catboost_target  LGBM_target  TabNet_target  KNN_target  \\\n",
              "0  P17494612l        43.810075    48.448740      50.539455   41.080899   \n",
              "1  N-1530212S        33.024832    35.105823      33.824364   43.897313   \n",
              "2  B-1154399t        32.408407    30.110363      30.862722   36.976320   \n",
              "3  F12725233R        34.229204    37.272761      35.417656   43.667786   \n",
              "4  l-1139189J        31.757414    30.088132      36.004406   48.241163   \n",
              "\n",
              "   Elastic_target  GB_target  RF_target  SVM_target  XGB_target  \n",
              "0       48.711633  46.962069  42.924486   30.216692   47.731289  \n",
              "1       46.790291  38.277294  33.435849   42.389465   36.236980  \n",
              "2       39.034140  31.122297  32.410244   35.546270   32.331486  \n",
              "3       42.557854  34.046644  34.718910   36.830307   35.057045  \n",
              "4       50.574948  31.799180  32.214107   33.181151   32.248978  "
            ],
            "text/html": [
              "\n",
              "  <div id=\"df-505b7198-5df7-43fe-9c53-6c2cf823408d\" class=\"colab-df-container\">\n",
              "    <div>\n",
              "<style scoped>\n",
              "    .dataframe tbody tr th:only-of-type {\n",
              "        vertical-align: middle;\n",
              "    }\n",
              "\n",
              "    .dataframe tbody tr th {\n",
              "        vertical-align: top;\n",
              "    }\n",
              "\n",
              "    .dataframe thead th {\n",
              "        text-align: right;\n",
              "    }\n",
              "</style>\n",
              "<table border=\"1\" class=\"dataframe\">\n",
              "  <thead>\n",
              "    <tr style=\"text-align: right;\">\n",
              "      <th></th>\n",
              "      <th>car_id</th>\n",
              "      <th>Catboost_target</th>\n",
              "      <th>LGBM_target</th>\n",
              "      <th>TabNet_target</th>\n",
              "      <th>KNN_target</th>\n",
              "      <th>Elastic_target</th>\n",
              "      <th>GB_target</th>\n",
              "      <th>RF_target</th>\n",
              "      <th>SVM_target</th>\n",
              "      <th>XGB_target</th>\n",
              "    </tr>\n",
              "  </thead>\n",
              "  <tbody>\n",
              "    <tr>\n",
              "      <th>0</th>\n",
              "      <td>P17494612l</td>\n",
              "      <td>43.810075</td>\n",
              "      <td>48.448740</td>\n",
              "      <td>50.539455</td>\n",
              "      <td>41.080899</td>\n",
              "      <td>48.711633</td>\n",
              "      <td>46.962069</td>\n",
              "      <td>42.924486</td>\n",
              "      <td>30.216692</td>\n",
              "      <td>47.731289</td>\n",
              "    </tr>\n",
              "    <tr>\n",
              "      <th>1</th>\n",
              "      <td>N-1530212S</td>\n",
              "      <td>33.024832</td>\n",
              "      <td>35.105823</td>\n",
              "      <td>33.824364</td>\n",
              "      <td>43.897313</td>\n",
              "      <td>46.790291</td>\n",
              "      <td>38.277294</td>\n",
              "      <td>33.435849</td>\n",
              "      <td>42.389465</td>\n",
              "      <td>36.236980</td>\n",
              "    </tr>\n",
              "    <tr>\n",
              "      <th>2</th>\n",
              "      <td>B-1154399t</td>\n",
              "      <td>32.408407</td>\n",
              "      <td>30.110363</td>\n",
              "      <td>30.862722</td>\n",
              "      <td>36.976320</td>\n",
              "      <td>39.034140</td>\n",
              "      <td>31.122297</td>\n",
              "      <td>32.410244</td>\n",
              "      <td>35.546270</td>\n",
              "      <td>32.331486</td>\n",
              "    </tr>\n",
              "    <tr>\n",
              "      <th>3</th>\n",
              "      <td>F12725233R</td>\n",
              "      <td>34.229204</td>\n",
              "      <td>37.272761</td>\n",
              "      <td>35.417656</td>\n",
              "      <td>43.667786</td>\n",
              "      <td>42.557854</td>\n",
              "      <td>34.046644</td>\n",
              "      <td>34.718910</td>\n",
              "      <td>36.830307</td>\n",
              "      <td>35.057045</td>\n",
              "    </tr>\n",
              "    <tr>\n",
              "      <th>4</th>\n",
              "      <td>l-1139189J</td>\n",
              "      <td>31.757414</td>\n",
              "      <td>30.088132</td>\n",
              "      <td>36.004406</td>\n",
              "      <td>48.241163</td>\n",
              "      <td>50.574948</td>\n",
              "      <td>31.799180</td>\n",
              "      <td>32.214107</td>\n",
              "      <td>33.181151</td>\n",
              "      <td>32.248978</td>\n",
              "    </tr>\n",
              "  </tbody>\n",
              "</table>\n",
              "</div>\n",
              "    <div class=\"colab-df-buttons\">\n",
              "\n",
              "  <div class=\"colab-df-container\">\n",
              "    <button class=\"colab-df-convert\" onclick=\"convertToInteractive('df-505b7198-5df7-43fe-9c53-6c2cf823408d')\"\n",
              "            title=\"Convert this dataframe to an interactive table.\"\n",
              "            style=\"display:none;\">\n",
              "\n",
              "  <svg xmlns=\"http://www.w3.org/2000/svg\" height=\"24px\" viewBox=\"0 -960 960 960\">\n",
              "    <path d=\"M120-120v-720h720v720H120Zm60-500h600v-160H180v160Zm220 220h160v-160H400v160Zm0 220h160v-160H400v160ZM180-400h160v-160H180v160Zm440 0h160v-160H620v160ZM180-180h160v-160H180v160Zm440 0h160v-160H620v160Z\"/>\n",
              "  </svg>\n",
              "    </button>\n",
              "\n",
              "  <style>\n",
              "    .colab-df-container {\n",
              "      display:flex;\n",
              "      gap: 12px;\n",
              "    }\n",
              "\n",
              "    .colab-df-convert {\n",
              "      background-color: #E8F0FE;\n",
              "      border: none;\n",
              "      border-radius: 50%;\n",
              "      cursor: pointer;\n",
              "      display: none;\n",
              "      fill: #1967D2;\n",
              "      height: 32px;\n",
              "      padding: 0 0 0 0;\n",
              "      width: 32px;\n",
              "    }\n",
              "\n",
              "    .colab-df-convert:hover {\n",
              "      background-color: #E2EBFA;\n",
              "      box-shadow: 0px 1px 2px rgba(60, 64, 67, 0.3), 0px 1px 3px 1px rgba(60, 64, 67, 0.15);\n",
              "      fill: #174EA6;\n",
              "    }\n",
              "\n",
              "    .colab-df-buttons div {\n",
              "      margin-bottom: 4px;\n",
              "    }\n",
              "\n",
              "    [theme=dark] .colab-df-convert {\n",
              "      background-color: #3B4455;\n",
              "      fill: #D2E3FC;\n",
              "    }\n",
              "\n",
              "    [theme=dark] .colab-df-convert:hover {\n",
              "      background-color: #434B5C;\n",
              "      box-shadow: 0px 1px 3px 1px rgba(0, 0, 0, 0.15);\n",
              "      filter: drop-shadow(0px 1px 2px rgba(0, 0, 0, 0.3));\n",
              "      fill: #FFFFFF;\n",
              "    }\n",
              "  </style>\n",
              "\n",
              "    <script>\n",
              "      const buttonEl =\n",
              "        document.querySelector('#df-505b7198-5df7-43fe-9c53-6c2cf823408d button.colab-df-convert');\n",
              "      buttonEl.style.display =\n",
              "        google.colab.kernel.accessAllowed ? 'block' : 'none';\n",
              "\n",
              "      async function convertToInteractive(key) {\n",
              "        const element = document.querySelector('#df-505b7198-5df7-43fe-9c53-6c2cf823408d');\n",
              "        const dataTable =\n",
              "          await google.colab.kernel.invokeFunction('convertToInteractive',\n",
              "                                                    [key], {});\n",
              "        if (!dataTable) return;\n",
              "\n",
              "        const docLinkHtml = 'Like what you see? Visit the ' +\n",
              "          '<a target=\"_blank\" href=https://colab.research.google.com/notebooks/data_table.ipynb>data table notebook</a>'\n",
              "          + ' to learn more about interactive tables.';\n",
              "        element.innerHTML = '';\n",
              "        dataTable['output_type'] = 'display_data';\n",
              "        await google.colab.output.renderOutput(dataTable, element);\n",
              "        const docLink = document.createElement('div');\n",
              "        docLink.innerHTML = docLinkHtml;\n",
              "        element.appendChild(docLink);\n",
              "      }\n",
              "    </script>\n",
              "  </div>\n",
              "\n",
              "\n",
              "<div id=\"df-a11a2b07-1f20-4789-9826-0fbafe1a9c94\">\n",
              "  <button class=\"colab-df-quickchart\" onclick=\"quickchart('df-a11a2b07-1f20-4789-9826-0fbafe1a9c94')\"\n",
              "            title=\"Suggest charts.\"\n",
              "            style=\"display:none;\">\n",
              "\n",
              "<svg xmlns=\"http://www.w3.org/2000/svg\" height=\"24px\"viewBox=\"0 0 24 24\"\n",
              "     width=\"24px\">\n",
              "    <g>\n",
              "        <path d=\"M19 3H5c-1.1 0-2 .9-2 2v14c0 1.1.9 2 2 2h14c1.1 0 2-.9 2-2V5c0-1.1-.9-2-2-2zM9 17H7v-7h2v7zm4 0h-2V7h2v10zm4 0h-2v-4h2v4z\"/>\n",
              "    </g>\n",
              "</svg>\n",
              "  </button>\n",
              "\n",
              "<style>\n",
              "  .colab-df-quickchart {\n",
              "    background-color: #E8F0FE;\n",
              "    border: none;\n",
              "    border-radius: 50%;\n",
              "    cursor: pointer;\n",
              "    display: none;\n",
              "    fill: #1967D2;\n",
              "    height: 32px;\n",
              "    padding: 0 0 0 0;\n",
              "    width: 32px;\n",
              "  }\n",
              "\n",
              "  .colab-df-quickchart:hover {\n",
              "    background-color: #E2EBFA;\n",
              "    box-shadow: 0px 1px 2px rgba(60, 64, 67, 0.3), 0px 1px 3px 1px rgba(60, 64, 67, 0.15);\n",
              "    fill: #174EA6;\n",
              "  }\n",
              "\n",
              "  [theme=dark] .colab-df-quickchart {\n",
              "    background-color: #3B4455;\n",
              "    fill: #D2E3FC;\n",
              "  }\n",
              "\n",
              "  [theme=dark] .colab-df-quickchart:hover {\n",
              "    background-color: #434B5C;\n",
              "    box-shadow: 0px 1px 3px 1px rgba(0, 0, 0, 0.15);\n",
              "    filter: drop-shadow(0px 1px 2px rgba(0, 0, 0, 0.3));\n",
              "    fill: #FFFFFF;\n",
              "  }\n",
              "</style>\n",
              "\n",
              "  <script>\n",
              "    async function quickchart(key) {\n",
              "      const charts = await google.colab.kernel.invokeFunction(\n",
              "          'suggestCharts', [key], {});\n",
              "    }\n",
              "    (() => {\n",
              "      let quickchartButtonEl =\n",
              "        document.querySelector('#df-a11a2b07-1f20-4789-9826-0fbafe1a9c94 button');\n",
              "      quickchartButtonEl.style.display =\n",
              "        google.colab.kernel.accessAllowed ? 'block' : 'none';\n",
              "    })();\n",
              "  </script>\n",
              "</div>\n",
              "    </div>\n",
              "  </div>\n"
            ]
          },
          "metadata": {},
          "execution_count": 65
        }
      ]
    },
    {
      "cell_type": "markdown",
      "source": [
        "Средняя оценка результатов моделей после обучения в порядке убывания точности. Бустинги имеют лучшие результаты."
      ],
      "metadata": {
        "id": "wr5Ax8liT-DI"
      }
    },
    {
      "cell_type": "code",
      "source": [
        "mean_scores = {k: v for k, v in sorted(mean_scores.items(), key=lambda item: item[1])}\n",
        "mean_scores"
      ],
      "metadata": {
        "colab": {
          "base_uri": "https://localhost:8080/"
        },
        "id": "jS2FNxf37Vhw",
        "outputId": "22678c23-e647-4520-e4b9-2e1697dbdd5b"
      },
      "execution_count": 66,
      "outputs": [
        {
          "output_type": "execute_result",
          "data": {
            "text/plain": [
              "{'Catboost_score': 11.5108030264696,\n",
              " 'LGBM_score': 11.654412102229008,\n",
              " 'GB_score': 11.66122961266563,\n",
              " 'XGB_score': 11.663571,\n",
              " 'RF_score': 11.721087963413531,\n",
              " 'TabNet_score': 12.360761,\n",
              " 'SVM_score': 12.832003798945207,\n",
              " 'Elastic_score': 14.548987111107854,\n",
              " 'KNN_score': 14.80338878265787}"
            ]
          },
          "metadata": {},
          "execution_count": 66
        }
      ]
    },
    {
      "cell_type": "code",
      "source": [
        "sns.set_style(\"whitegrid\")\n",
        "\n",
        "mask = np.triu(np.ones_like(df_sub.corr(numeric_only=True), dtype=bool))\n",
        "\n",
        "heatmap = sns.heatmap(df_sub.corr(numeric_only=True).round(2),\n",
        "                      annot=True,\n",
        "                      square=True,\n",
        "                      cmap=\"BrBG\",\n",
        "                      cbar_kws={\"fraction\": 0.01},\n",
        "                      linewidth=1,\n",
        "                      mask=mask)\n",
        "\n",
        "heatmap.set_title(\"Матрица корреляций результатов моделей\", fontdict={\"fontsize\": 15}, pad=10);"
      ],
      "metadata": {
        "colab": {
          "base_uri": "https://localhost:8080/",
          "height": 558
        },
        "id": "qgpdx92Wytf3",
        "outputId": "7f9d5ff1-ba1e-44bf-fec0-6a8ab303e05b"
      },
      "execution_count": 67,
      "outputs": [
        {
          "output_type": "display_data",
          "data": {
            "text/plain": [
              "<Figure size 640x480 with 2 Axes>"
            ],
            "image/png": "[encoded data removed]"
          },
          "metadata": {}
        }
      ]
    },
    {
      "cell_type": "markdown",
      "source": [
        "Бустинговые модели имеют высокую корреляцию между собой. Вероятно, потому что они и предсказывают целевую переменую наиболее точно. Но следует сблендить результаты этих моделей с принципиально другими."
      ],
      "metadata": {
        "id": "eXZPwUtbSzZH"
      }
    },
    {
      "cell_type": "markdown",
      "source": [
        "Обучим модели на одной и той же валидационной выборке."
      ],
      "metadata": {
        "id": "JGJWs4BhUQzb"
      }
    },
    {
      "cell_type": "code",
      "source": [
        "# разбиение на обучающую и валидационную выборки\n",
        "X_train, X_val, y_train, y_val = train_test_split(X, y, test_size=0.2, random_state=0)"
      ],
      "metadata": {
        "id": "qbu0bfwQMRfQ"
      },
      "execution_count": 68,
      "outputs": []
    },
    {
      "cell_type": "code",
      "source": [
        "df_val = pd.DataFrame()\n",
        "df_val['target_val'] = y_val.values\n",
        "scores = {}\n",
        "TabNet_model = bst_mdls.pop('TabNet_model')\n",
        "for el in bst_mdls:\n",
        "   y_pred = bst_mdls[el].predict(X_val)\n",
        "   df_val[el] = y_pred\n",
        "   scores[el] = mean_squared_error(y_true=y_val, y_pred=y_pred, squared=False)\n",
        "\n",
        "target_sc = StandardScaler()\n",
        "target_sc.fit(y_train.values.reshape(-1, 1))\n",
        "# y_val_ = target_sc.fit_transform(y_val.values.reshape(-1, 1))\n",
        "preds = TabNet_model.predict(X_val)\n",
        "y_pred = target_sc.inverse_transform(np.array(preds).reshape(-1,1))\n",
        "# scores['TabNetmodel'] = mean_squared_error(y_true=y_val, y_pred=y_pred, squared=False)\n",
        "# bst_mdls['TabNet_model'] = TabNet_model\n",
        "df_val['Tab_Net_model'] = y_pred"
      ],
      "metadata": {
        "id": "iCF3Fy6X4Ooy"
      },
      "execution_count": 69,
      "outputs": []
    },
    {
      "cell_type": "code",
      "source": [
        "sns.set(rc={\"figure.figsize\":(10, 7)})\n",
        "sns.boxplot(data=df_val,whis=1,linewidth=3,orient=\"h\",palette=\"Set1\")"
      ],
      "metadata": {
        "colab": {
          "base_uri": "https://localhost:8080/",
          "height": 621
        },
        "id": "OL2QeFeMIma1",
        "outputId": "6c590450-8f38-4326-878e-4dea885f6702"
      },
      "execution_count": 70,
      "outputs": [
        {
          "output_type": "execute_result",
          "data": {
            "text/plain": [
              "<Axes: >"
            ]
          },
          "metadata": {},
          "execution_count": 70
        },
        {
          "output_type": "display_data",
          "data": {
            "text/plain": [
              "<Figure size 1000x700 with 1 Axes>"
            ],
            "image/png": "[encoded data removed]"
          },
          "metadata": {}
        }
      ]
    },
    {
      "cell_type": "code",
      "source": [
        "# sns.displot(df_val, kind=\"hist\", aspect=2)"
      ],
      "metadata": {
        "id": "5jmK6gJrLq61"
      },
      "execution_count": 71,
      "outputs": []
    },
    {
      "cell_type": "markdown",
      "source": [
        "По распределению можно предположить, что KNN очень хорошо предсказывает валидационную выборку. Но вероятно имеет место переобучение, т.к. во время обучения в optuna была утечка данных. Поэтому лучше ориентироваться на показатели RMSE по кросс-валидации на optuna."
      ],
      "metadata": {
        "id": "ml1OCjgnM_ru"
      }
    },
    {
      "cell_type": "markdown",
      "source": [
        "# Блендинг"
      ],
      "metadata": {
        "id": "HzmxgGJwsben"
      }
    },
    {
      "cell_type": "markdown",
      "source": [
        "Видно, что модели Catboost и LGBM достаточно плохо предсказывают экстремальные значения таргета. Вероятно этих значений не так много и модели не очень хорошо на них обучаются. Попытаемся скомпенсировать это добавив к нашим бустингам линейную модель. Для блендинга нам требуется взять 2 бустинга и одну модель не бустинг. Возьмём в наш набор для блендинга Catboost, LGBM и SVM."
      ],
      "metadata": {
        "id": "GV9KySkEsf3y"
      }
    },
    {
      "cell_type": "markdown",
      "source": [
        "Попробуем подобрать веса для блендинга, исходя из поведения на валидационной выборке."
      ],
      "metadata": {
        "id": "QDiVpvnYf47m"
      }
    },
    {
      "cell_type": "code",
      "source": [
        "df_val_blending = df_val[['Catboost_model', 'LGBM_model', 'SVM_model', 'target_val']]\n",
        "df_val_blending.head()"
      ],
      "metadata": {
        "colab": {
          "base_uri": "https://localhost:8080/",
          "height": 206
        },
        "id": "3wu1uTxaXIyL",
        "outputId": "1d689073-64a1-4661-8b2f-292eb2819ded"
      },
      "execution_count": 72,
      "outputs": [
        {
          "output_type": "execute_result",
          "data": {
            "text/plain": [
              "   Catboost_model  LGBM_model  SVM_model  target_val\n",
              "0       47.322247   47.445561  37.110353   35.531250\n",
              "1       31.231408   31.571394  37.729278   29.343750\n",
              "2       31.287726   31.693933  34.240900   41.375000\n",
              "3       33.777903   32.457949  33.730075   26.703125\n",
              "4       47.000291   46.563485  42.206194   33.281250"
            ],
            "text/html": [
              "\n",
              "  <div id=\"df-a4c9ad38-a7d3-4cb0-a9e9-eb32c77d5aea\" class=\"colab-df-container\">\n",
              "    <div>\n",
              "<style scoped>\n",
              "    .dataframe tbody tr th:only-of-type {\n",
              "        vertical-align: middle;\n",
              "    }\n",
              "\n",
              "    .dataframe tbody tr th {\n",
              "        vertical-align: top;\n",
              "    }\n",
              "\n",
              "    .dataframe thead th {\n",
              "        text-align: right;\n",
              "    }\n",
              "</style>\n",
              "<table border=\"1\" class=\"dataframe\">\n",
              "  <thead>\n",
              "    <tr style=\"text-align: right;\">\n",
              "      <th></th>\n",
              "      <th>Catboost_model</th>\n",
              "      <th>LGBM_model</th>\n",
              "      <th>SVM_model</th>\n",
              "      <th>target_val</th>\n",
              "    </tr>\n",
              "  </thead>\n",
              "  <tbody>\n",
              "    <tr>\n",
              "      <th>0</th>\n",
              "      <td>47.322247</td>\n",
              "      <td>47.445561</td>\n",
              "      <td>37.110353</td>\n",
              "      <td>35.531250</td>\n",
              "    </tr>\n",
              "    <tr>\n",
              "      <th>1</th>\n",
              "      <td>31.231408</td>\n",
              "      <td>31.571394</td>\n",
              "      <td>37.729278</td>\n",
              "      <td>29.343750</td>\n",
              "    </tr>\n",
              "    <tr>\n",
              "      <th>2</th>\n",
              "      <td>31.287726</td>\n",
              "      <td>31.693933</td>\n",
              "      <td>34.240900</td>\n",
              "      <td>41.375000</td>\n",
              "    </tr>\n",
              "    <tr>\n",
              "      <th>3</th>\n",
              "      <td>33.777903</td>\n",
              "      <td>32.457949</td>\n",
              "      <td>33.730075</td>\n",
              "      <td>26.703125</td>\n",
              "    </tr>\n",
              "    <tr>\n",
              "      <th>4</th>\n",
              "      <td>47.000291</td>\n",
              "      <td>46.563485</td>\n",
              "      <td>42.206194</td>\n",
              "      <td>33.281250</td>\n",
              "    </tr>\n",
              "  </tbody>\n",
              "</table>\n",
              "</div>\n",
              "    <div class=\"colab-df-buttons\">\n",
              "\n",
              "  <div class=\"colab-df-container\">\n",
              "    <button class=\"colab-df-convert\" onclick=\"convertToInteractive('df-a4c9ad38-a7d3-4cb0-a9e9-eb32c77d5aea')\"\n",
              "            title=\"Convert this dataframe to an interactive table.\"\n",
              "            style=\"display:none;\">\n",
              "\n",
              "  <svg xmlns=\"http://www.w3.org/2000/svg\" height=\"24px\" viewBox=\"0 -960 960 960\">\n",
              "    <path d=\"M120-120v-720h720v720H120Zm60-500h600v-160H180v160Zm220 220h160v-160H400v160Zm0 220h160v-160H400v160ZM180-400h160v-160H180v160Zm440 0h160v-160H620v160ZM180-180h160v-160H180v160Zm440 0h160v-160H620v160Z\"/>\n",
              "  </svg>\n",
              "    </button>\n",
              "\n",
              "  <style>\n",
              "    .colab-df-container {\n",
              "      display:flex;\n",
              "      gap: 12px;\n",
              "    }\n",
              "\n",
              "    .colab-df-convert {\n",
              "      background-color: #E8F0FE;\n",
              "      border: none;\n",
              "      border-radius: 50%;\n",
              "      cursor: pointer;\n",
              "      display: none;\n",
              "      fill: #1967D2;\n",
              "      height: 32px;\n",
              "      padding: 0 0 0 0;\n",
              "      width: 32px;\n",
              "    }\n",
              "\n",
              "    .colab-df-convert:hover {\n",
              "      background-color: #E2EBFA;\n",
              "      box-shadow: 0px 1px 2px rgba(60, 64, 67, 0.3), 0px 1px 3px 1px rgba(60, 64, 67, 0.15);\n",
              "      fill: #174EA6;\n",
              "    }\n",
              "\n",
              "    .colab-df-buttons div {\n",
              "      margin-bottom: 4px;\n",
              "    }\n",
              "\n",
              "    [theme=dark] .colab-df-convert {\n",
              "      background-color: #3B4455;\n",
              "      fill: #D2E3FC;\n",
              "    }\n",
              "\n",
              "    [theme=dark] .colab-df-convert:hover {\n",
              "      background-color: #434B5C;\n",
              "      box-shadow: 0px 1px 3px 1px rgba(0, 0, 0, 0.15);\n",
              "      filter: drop-shadow(0px 1px 2px rgba(0, 0, 0, 0.3));\n",
              "      fill: #FFFFFF;\n",
              "    }\n",
              "  </style>\n",
              "\n",
              "    <script>\n",
              "      const buttonEl =\n",
              "        document.querySelector('#df-a4c9ad38-a7d3-4cb0-a9e9-eb32c77d5aea button.colab-df-convert');\n",
              "      buttonEl.style.display =\n",
              "        google.colab.kernel.accessAllowed ? 'block' : 'none';\n",
              "\n",
              "      async function convertToInteractive(key) {\n",
              "        const element = document.querySelector('#df-a4c9ad38-a7d3-4cb0-a9e9-eb32c77d5aea');\n",
              "        const dataTable =\n",
              "          await google.colab.kernel.invokeFunction('convertToInteractive',\n",
              "                                                    [key], {});\n",
              "        if (!dataTable) return;\n",
              "\n",
              "        const docLinkHtml = 'Like what you see? Visit the ' +\n",
              "          '<a target=\"_blank\" href=https://colab.research.google.com/notebooks/data_table.ipynb>data table notebook</a>'\n",
              "          + ' to learn more about interactive tables.';\n",
              "        element.innerHTML = '';\n",
              "        dataTable['output_type'] = 'display_data';\n",
              "        await google.colab.output.renderOutput(dataTable, element);\n",
              "        const docLink = document.createElement('div');\n",
              "        docLink.innerHTML = docLinkHtml;\n",
              "        element.appendChild(docLink);\n",
              "      }\n",
              "    </script>\n",
              "  </div>\n",
              "\n",
              "\n",
              "<div id=\"df-04445d8c-21ea-4963-9a59-945fae734b66\">\n",
              "  <button class=\"colab-df-quickchart\" onclick=\"quickchart('df-04445d8c-21ea-4963-9a59-945fae734b66')\"\n",
              "            title=\"Suggest charts.\"\n",
              "            style=\"display:none;\">\n",
              "\n",
              "<svg xmlns=\"http://www.w3.org/2000/svg\" height=\"24px\"viewBox=\"0 0 24 24\"\n",
              "     width=\"24px\">\n",
              "    <g>\n",
              "        <path d=\"M19 3H5c-1.1 0-2 .9-2 2v14c0 1.1.9 2 2 2h14c1.1 0 2-.9 2-2V5c0-1.1-.9-2-2-2zM9 17H7v-7h2v7zm4 0h-2V7h2v10zm4 0h-2v-4h2v4z\"/>\n",
              "    </g>\n",
              "</svg>\n",
              "  </button>\n",
              "\n",
              "<style>\n",
              "  .colab-df-quickchart {\n",
              "    background-color: #E8F0FE;\n",
              "    border: none;\n",
              "    border-radius: 50%;\n",
              "    cursor: pointer;\n",
              "    display: none;\n",
              "    fill: #1967D2;\n",
              "    height: 32px;\n",
              "    padding: 0 0 0 0;\n",
              "    width: 32px;\n",
              "  }\n",
              "\n",
              "  .colab-df-quickchart:hover {\n",
              "    background-color: #E2EBFA;\n",
              "    box-shadow: 0px 1px 2px rgba(60, 64, 67, 0.3), 0px 1px 3px 1px rgba(60, 64, 67, 0.15);\n",
              "    fill: #174EA6;\n",
              "  }\n",
              "\n",
              "  [theme=dark] .colab-df-quickchart {\n",
              "    background-color: #3B4455;\n",
              "    fill: #D2E3FC;\n",
              "  }\n",
              "\n",
              "  [theme=dark] .colab-df-quickchart:hover {\n",
              "    background-color: #434B5C;\n",
              "    box-shadow: 0px 1px 3px 1px rgba(0, 0, 0, 0.15);\n",
              "    filter: drop-shadow(0px 1px 2px rgba(0, 0, 0, 0.3));\n",
              "    fill: #FFFFFF;\n",
              "  }\n",
              "</style>\n",
              "\n",
              "  <script>\n",
              "    async function quickchart(key) {\n",
              "      const charts = await google.colab.kernel.invokeFunction(\n",
              "          'suggestCharts', [key], {});\n",
              "    }\n",
              "    (() => {\n",
              "      let quickchartButtonEl =\n",
              "        document.querySelector('#df-04445d8c-21ea-4963-9a59-945fae734b66 button');\n",
              "      quickchartButtonEl.style.display =\n",
              "        google.colab.kernel.accessAllowed ? 'block' : 'none';\n",
              "    })();\n",
              "  </script>\n",
              "</div>\n",
              "    </div>\n",
              "  </div>\n"
            ]
          },
          "metadata": {},
          "execution_count": 72
        }
      ]
    },
    {
      "cell_type": "code",
      "source": [
        "scores_mdls_chosen = {}\n",
        "for i in range(len(df_val_blending.columns)):\n",
        "    _ = re.sub(r'_model', '_score', df_val_blending.columns[i])\n",
        "    if _ in mean_scores:\n",
        "        scores_mdls_chosen.update({_: mean_scores[_]})\n",
        "\n",
        "scores_mdls_chosen"
      ],
      "metadata": {
        "colab": {
          "base_uri": "https://localhost:8080/"
        },
        "id": "ug2gcVlffUOZ",
        "outputId": "d2f3caf9-47c1-4b50-cb49-949900f10134"
      },
      "execution_count": 73,
      "outputs": [
        {
          "output_type": "execute_result",
          "data": {
            "text/plain": [
              "{'Catboost_score': 11.5108030264696,\n",
              " 'LGBM_score': 11.654412102229008,\n",
              " 'SVM_score': 12.832003798945207}"
            ]
          },
          "metadata": {},
          "execution_count": 73
        }
      ]
    },
    {
      "cell_type": "markdown",
      "source": [
        "Бустинги дают нам лучшие значения метрики. И, кроме того, эти значения метрики достаточно близки."
      ],
      "metadata": {
        "id": "Up0JtwF7e5tn"
      }
    },
    {
      "cell_type": "code",
      "source": [
        "# высчитаем веса для результатов модели пропорционально метрике RMSE\n",
        "scores = 1 / np.array(list(scores_mdls_chosen.values()))\n",
        "all_sum = np.sum(scores)\n",
        "weights_ = scores / all_sum\n",
        "# weights_\n",
        "\n",
        "weights = {}\n",
        "for f, b in zip(scores_mdls_chosen, weights_):\n",
        "    weights.update({f: b})\n",
        "print(weights)"
      ],
      "metadata": {
        "colab": {
          "base_uri": "https://localhost:8080/"
        },
        "id": "gO3Lg2rmgXBz",
        "outputId": "fc51741d-4b6b-4310-a68d-33a97b4b3c60"
      },
      "execution_count": 74,
      "outputs": [
        {
          "output_type": "stream",
          "name": "stdout",
          "text": [
            "{'Catboost_score': 0.3466545355705489, 'LGBM_score': 0.342382956959426, 'SVM_score': 0.310962507470025}\n"
          ]
        }
      ]
    },
    {
      "cell_type": "markdown",
      "source": [
        "Можем высчитаем коэффициенты для блендинга автоматически, пропрорционально усреднённым по фолдам метрикам. Но мне это давало результат хуже, чем выставление вручную. Попробуем выставить веса вручную.\n",
        "\n",
        "Веса, которые были высчитаны, исходя из средних rmse, достаточно близки. Рассмотрим есть ли другой вариант для решения. Зафиксируем равенство весов для бустингов. Но посмотрим как будет вести себя метрика, в зависимости от веса для модели SVM."
      ],
      "metadata": {
        "id": "iNBUjnD0jTs6"
      }
    },
    {
      "cell_type": "code",
      "source": [
        "lst = [x / 100.0 for x in range(1, 40, 1)]\n",
        "\n",
        "scores = []\n",
        "for el in lst:\n",
        "    n = 1 - el\n",
        "    y_pred = df_val_blending['Catboost_model'] * n/2 + \\\n",
        "        df_val_blending['LGBM_model'] * n/2 + df_val_blending['SVM_model'] * el\n",
        "    scores.append(mean_squared_error(y_true=df_val_blending['target_val'].values, y_pred=y_pred, squared=False))\n",
        "\n",
        "min = lst[np.argmin(scores)]\n",
        "min"
      ],
      "metadata": {
        "id": "tLFTcF7KgjS1",
        "colab": {
          "base_uri": "https://localhost:8080/"
        },
        "outputId": "c59b2655-d79f-4bd2-8b15-f7f3c1e19fc8"
      },
      "execution_count": 75,
      "outputs": [
        {
          "output_type": "execute_result",
          "data": {
            "text/plain": [
              "0.23"
            ]
          },
          "metadata": {},
          "execution_count": 75
        }
      ]
    },
    {
      "cell_type": "code",
      "source": [
        "plt.figure(figsize=(7, 5))\n",
        "plt.plot(lst, scores)\n",
        "plt.axvline(min, c='r')\n",
        "plt.show()"
      ],
      "metadata": {
        "colab": {
          "base_uri": "https://localhost:8080/",
          "height": 450
        },
        "id": "imS8229lk0jH",
        "outputId": "8b12729e-1276-41db-f438-e7a831ae33cd"
      },
      "execution_count": 76,
      "outputs": [
        {
          "output_type": "display_data",
          "data": {
            "text/plain": [
              "<Figure size 700x500 with 1 Axes>"
            ],
            "image/png": "[encoded data removed]"
          },
          "metadata": {}
        }
      ]
    },
    {
      "cell_type": "markdown",
      "source": [
        "Видно, что лучшее значение метрики мы получаем в районе 0.23 при условии равенства весов бустингов. Применим полученные веса уже не валидационной, а к тестовой метрике."
      ],
      "metadata": {
        "id": "aQq8AWpGoSGO"
      }
    },
    {
      "cell_type": "code",
      "execution_count": 77,
      "metadata": {
        "colab": {
          "base_uri": "https://localhost:8080/",
          "height": 206
        },
        "id": "A8K4huij1AR8",
        "outputId": "22105c3b-29cd-432b-ceb6-831bd2bc89bd"
      },
      "outputs": [
        {
          "output_type": "execute_result",
          "data": {
            "text/plain": [
              "       car_id  Catboost_target  LGBM_target  SVM_target\n",
              "0  P17494612l        43.810075    48.448740   30.216692\n",
              "1  N-1530212S        33.024832    35.105823   42.389465\n",
              "2  B-1154399t        32.408407    30.110363   35.546270\n",
              "3  F12725233R        34.229204    37.272761   36.830307\n",
              "4  l-1139189J        31.757414    30.088132   33.181151"
            ],
            "text/html": [
              "\n",
              "  <div id=\"df-1a770b94-602b-46b5-aa8a-487830d87dc7\" class=\"colab-df-container\">\n",
              "    <div>\n",
              "<style scoped>\n",
              "    .dataframe tbody tr th:only-of-type {\n",
              "        vertical-align: middle;\n",
              "    }\n",
              "\n",
              "    .dataframe tbody tr th {\n",
              "        vertical-align: top;\n",
              "    }\n",
              "\n",
              "    .dataframe thead th {\n",
              "        text-align: right;\n",
              "    }\n",
              "</style>\n",
              "<table border=\"1\" class=\"dataframe\">\n",
              "  <thead>\n",
              "    <tr style=\"text-align: right;\">\n",
              "      <th></th>\n",
              "      <th>car_id</th>\n",
              "      <th>Catboost_target</th>\n",
              "      <th>LGBM_target</th>\n",
              "      <th>SVM_target</th>\n",
              "    </tr>\n",
              "  </thead>\n",
              "  <tbody>\n",
              "    <tr>\n",
              "      <th>0</th>\n",
              "      <td>P17494612l</td>\n",
              "      <td>43.810075</td>\n",
              "      <td>48.448740</td>\n",
              "      <td>30.216692</td>\n",
              "    </tr>\n",
              "    <tr>\n",
              "      <th>1</th>\n",
              "      <td>N-1530212S</td>\n",
              "      <td>33.024832</td>\n",
              "      <td>35.105823</td>\n",
              "      <td>42.389465</td>\n",
              "    </tr>\n",
              "    <tr>\n",
              "      <th>2</th>\n",
              "      <td>B-1154399t</td>\n",
              "      <td>32.408407</td>\n",
              "      <td>30.110363</td>\n",
              "      <td>35.546270</td>\n",
              "    </tr>\n",
              "    <tr>\n",
              "      <th>3</th>\n",
              "      <td>F12725233R</td>\n",
              "      <td>34.229204</td>\n",
              "      <td>37.272761</td>\n",
              "      <td>36.830307</td>\n",
              "    </tr>\n",
              "    <tr>\n",
              "      <th>4</th>\n",
              "      <td>l-1139189J</td>\n",
              "      <td>31.757414</td>\n",
              "      <td>30.088132</td>\n",
              "      <td>33.181151</td>\n",
              "    </tr>\n",
              "  </tbody>\n",
              "</table>\n",
              "</div>\n",
              "    <div class=\"colab-df-buttons\">\n",
              "\n",
              "  <div class=\"colab-df-container\">\n",
              "    <button class=\"colab-df-convert\" onclick=\"convertToInteractive('df-1a770b94-602b-46b5-aa8a-487830d87dc7')\"\n",
              "            title=\"Convert this dataframe to an interactive table.\"\n",
              "            style=\"display:none;\">\n",
              "\n",
              "  <svg xmlns=\"http://www.w3.org/2000/svg\" height=\"24px\" viewBox=\"0 -960 960 960\">\n",
              "    <path d=\"M120-120v-720h720v720H120Zm60-500h600v-160H180v160Zm220 220h160v-160H400v160Zm0 220h160v-160H400v160ZM180-400h160v-160H180v160Zm440 0h160v-160H620v160ZM180-180h160v-160H180v160Zm440 0h160v-160H620v160Z\"/>\n",
              "  </svg>\n",
              "    </button>\n",
              "\n",
              "  <style>\n",
              "    .colab-df-container {\n",
              "      display:flex;\n",
              "      gap: 12px;\n",
              "    }\n",
              "\n",
              "    .colab-df-convert {\n",
              "      background-color: #E8F0FE;\n",
              "      border: none;\n",
              "      border-radius: 50%;\n",
              "      cursor: pointer;\n",
              "      display: none;\n",
              "      fill: #1967D2;\n",
              "      height: 32px;\n",
              "      padding: 0 0 0 0;\n",
              "      width: 32px;\n",
              "    }\n",
              "\n",
              "    .colab-df-convert:hover {\n",
              "      background-color: #E2EBFA;\n",
              "      box-shadow: 0px 1px 2px rgba(60, 64, 67, 0.3), 0px 1px 3px 1px rgba(60, 64, 67, 0.15);\n",
              "      fill: #174EA6;\n",
              "    }\n",
              "\n",
              "    .colab-df-buttons div {\n",
              "      margin-bottom: 4px;\n",
              "    }\n",
              "\n",
              "    [theme=dark] .colab-df-convert {\n",
              "      background-color: #3B4455;\n",
              "      fill: #D2E3FC;\n",
              "    }\n",
              "\n",
              "    [theme=dark] .colab-df-convert:hover {\n",
              "      background-color: #434B5C;\n",
              "      box-shadow: 0px 1px 3px 1px rgba(0, 0, 0, 0.15);\n",
              "      filter: drop-shadow(0px 1px 2px rgba(0, 0, 0, 0.3));\n",
              "      fill: #FFFFFF;\n",
              "    }\n",
              "  </style>\n",
              "\n",
              "    <script>\n",
              "      const buttonEl =\n",
              "        document.querySelector('#df-1a770b94-602b-46b5-aa8a-487830d87dc7 button.colab-df-convert');\n",
              "      buttonEl.style.display =\n",
              "        google.colab.kernel.accessAllowed ? 'block' : 'none';\n",
              "\n",
              "      async function convertToInteractive(key) {\n",
              "        const element = document.querySelector('#df-1a770b94-602b-46b5-aa8a-487830d87dc7');\n",
              "        const dataTable =\n",
              "          await google.colab.kernel.invokeFunction('convertToInteractive',\n",
              "                                                    [key], {});\n",
              "        if (!dataTable) return;\n",
              "\n",
              "        const docLinkHtml = 'Like what you see? Visit the ' +\n",
              "          '<a target=\"_blank\" href=https://colab.research.google.com/notebooks/data_table.ipynb>data table notebook</a>'\n",
              "          + ' to learn more about interactive tables.';\n",
              "        element.innerHTML = '';\n",
              "        dataTable['output_type'] = 'display_data';\n",
              "        await google.colab.output.renderOutput(dataTable, element);\n",
              "        const docLink = document.createElement('div');\n",
              "        docLink.innerHTML = docLinkHtml;\n",
              "        element.appendChild(docLink);\n",
              "      }\n",
              "    </script>\n",
              "  </div>\n",
              "\n",
              "\n",
              "<div id=\"df-a81cbcc9-53e6-43e0-aa5e-a4f223e26013\">\n",
              "  <button class=\"colab-df-quickchart\" onclick=\"quickchart('df-a81cbcc9-53e6-43e0-aa5e-a4f223e26013')\"\n",
              "            title=\"Suggest charts.\"\n",
              "            style=\"display:none;\">\n",
              "\n",
              "<svg xmlns=\"http://www.w3.org/2000/svg\" height=\"24px\"viewBox=\"0 0 24 24\"\n",
              "     width=\"24px\">\n",
              "    <g>\n",
              "        <path d=\"M19 3H5c-1.1 0-2 .9-2 2v14c0 1.1.9 2 2 2h14c1.1 0 2-.9 2-2V5c0-1.1-.9-2-2-2zM9 17H7v-7h2v7zm4 0h-2V7h2v10zm4 0h-2v-4h2v4z\"/>\n",
              "    </g>\n",
              "</svg>\n",
              "  </button>\n",
              "\n",
              "<style>\n",
              "  .colab-df-quickchart {\n",
              "    background-color: #E8F0FE;\n",
              "    border: none;\n",
              "    border-radius: 50%;\n",
              "    cursor: pointer;\n",
              "    display: none;\n",
              "    fill: #1967D2;\n",
              "    height: 32px;\n",
              "    padding: 0 0 0 0;\n",
              "    width: 32px;\n",
              "  }\n",
              "\n",
              "  .colab-df-quickchart:hover {\n",
              "    background-color: #E2EBFA;\n",
              "    box-shadow: 0px 1px 2px rgba(60, 64, 67, 0.3), 0px 1px 3px 1px rgba(60, 64, 67, 0.15);\n",
              "    fill: #174EA6;\n",
              "  }\n",
              "\n",
              "  [theme=dark] .colab-df-quickchart {\n",
              "    background-color: #3B4455;\n",
              "    fill: #D2E3FC;\n",
              "  }\n",
              "\n",
              "  [theme=dark] .colab-df-quickchart:hover {\n",
              "    background-color: #434B5C;\n",
              "    box-shadow: 0px 1px 3px 1px rgba(0, 0, 0, 0.15);\n",
              "    filter: drop-shadow(0px 1px 2px rgba(0, 0, 0, 0.3));\n",
              "    fill: #FFFFFF;\n",
              "  }\n",
              "</style>\n",
              "\n",
              "  <script>\n",
              "    async function quickchart(key) {\n",
              "      const charts = await google.colab.kernel.invokeFunction(\n",
              "          'suggestCharts', [key], {});\n",
              "    }\n",
              "    (() => {\n",
              "      let quickchartButtonEl =\n",
              "        document.querySelector('#df-a81cbcc9-53e6-43e0-aa5e-a4f223e26013 button');\n",
              "      quickchartButtonEl.style.display =\n",
              "        google.colab.kernel.accessAllowed ? 'block' : 'none';\n",
              "    })();\n",
              "  </script>\n",
              "</div>\n",
              "    </div>\n",
              "  </div>\n"
            ]
          },
          "metadata": {},
          "execution_count": 77
        }
      ],
      "source": [
        "df_sub_blending = df_sub[['car_id',\n",
        "                          'Catboost_target',\n",
        "                          'LGBM_target',\n",
        "                          'SVM_target',]]\n",
        "df_sub_blending.head()"
      ]
    },
    {
      "cell_type": "code",
      "execution_count": 78,
      "metadata": {
        "id": "xoNb1saz5CCl",
        "colab": {
          "base_uri": "https://localhost:8080/",
          "height": 206
        },
        "outputId": "d2aa4377-6c95-43fa-ac89-9824fdc40996"
      },
      "outputs": [
        {
          "output_type": "execute_result",
          "data": {
            "text/plain": [
              "       car_id  Catboost_target  LGBM_target  SVM_target  target_reg\n",
              "0  P17494612l        43.810075    48.448740   30.216692   42.469483\n",
              "1  N-1530212S        33.024832    35.105823   42.389465   35.979879\n",
              "2  B-1154399t        32.408407    30.110363   35.546270   32.245368\n",
              "3  F12725233R        34.229204    37.272761   36.830307   35.999227\n",
              "4  l-1139189J        31.757414    30.088132   33.181151   31.442200"
            ],
            "text/html": [
              "\n",
              "  <div id=\"df-7b1e2fca-2bd3-4948-aafd-b01e18d6ff3c\" class=\"colab-df-container\">\n",
              "    <div>\n",
              "<style scoped>\n",
              "    .dataframe tbody tr th:only-of-type {\n",
              "        vertical-align: middle;\n",
              "    }\n",
              "\n",
              "    .dataframe tbody tr th {\n",
              "        vertical-align: top;\n",
              "    }\n",
              "\n",
              "    .dataframe thead th {\n",
              "        text-align: right;\n",
              "    }\n",
              "</style>\n",
              "<table border=\"1\" class=\"dataframe\">\n",
              "  <thead>\n",
              "    <tr style=\"text-align: right;\">\n",
              "      <th></th>\n",
              "      <th>car_id</th>\n",
              "      <th>Catboost_target</th>\n",
              "      <th>LGBM_target</th>\n",
              "      <th>SVM_target</th>\n",
              "      <th>target_reg</th>\n",
              "    </tr>\n",
              "  </thead>\n",
              "  <tbody>\n",
              "    <tr>\n",
              "      <th>0</th>\n",
              "      <td>P17494612l</td>\n",
              "      <td>43.810075</td>\n",
              "      <td>48.448740</td>\n",
              "      <td>30.216692</td>\n",
              "      <td>42.469483</td>\n",
              "    </tr>\n",
              "    <tr>\n",
              "      <th>1</th>\n",
              "      <td>N-1530212S</td>\n",
              "      <td>33.024832</td>\n",
              "      <td>35.105823</td>\n",
              "      <td>42.389465</td>\n",
              "      <td>35.979879</td>\n",
              "    </tr>\n",
              "    <tr>\n",
              "      <th>2</th>\n",
              "      <td>B-1154399t</td>\n",
              "      <td>32.408407</td>\n",
              "      <td>30.110363</td>\n",
              "      <td>35.546270</td>\n",
              "      <td>32.245368</td>\n",
              "    </tr>\n",
              "    <tr>\n",
              "      <th>3</th>\n",
              "      <td>F12725233R</td>\n",
              "      <td>34.229204</td>\n",
              "      <td>37.272761</td>\n",
              "      <td>36.830307</td>\n",
              "      <td>35.999227</td>\n",
              "    </tr>\n",
              "    <tr>\n",
              "      <th>4</th>\n",
              "      <td>l-1139189J</td>\n",
              "      <td>31.757414</td>\n",
              "      <td>30.088132</td>\n",
              "      <td>33.181151</td>\n",
              "      <td>31.442200</td>\n",
              "    </tr>\n",
              "  </tbody>\n",
              "</table>\n",
              "</div>\n",
              "    <div class=\"colab-df-buttons\">\n",
              "\n",
              "  <div class=\"colab-df-container\">\n",
              "    <button class=\"colab-df-convert\" onclick=\"convertToInteractive('df-7b1e2fca-2bd3-4948-aafd-b01e18d6ff3c')\"\n",
              "            title=\"Convert this dataframe to an interactive table.\"\n",
              "            style=\"display:none;\">\n",
              "\n",
              "  <svg xmlns=\"http://www.w3.org/2000/svg\" height=\"24px\" viewBox=\"0 -960 960 960\">\n",
              "    <path d=\"M120-120v-720h720v720H120Zm60-500h600v-160H180v160Zm220 220h160v-160H400v160Zm0 220h160v-160H400v160ZM180-400h160v-160H180v160Zm440 0h160v-160H620v160ZM180-180h160v-160H180v160Zm440 0h160v-160H620v160Z\"/>\n",
              "  </svg>\n",
              "    </button>\n",
              "\n",
              "  <style>\n",
              "    .colab-df-container {\n",
              "      display:flex;\n",
              "      gap: 12px;\n",
              "    }\n",
              "\n",
              "    .colab-df-convert {\n",
              "      background-color: #E8F0FE;\n",
              "      border: none;\n",
              "      border-radius: 50%;\n",
              "      cursor: pointer;\n",
              "      display: none;\n",
              "      fill: #1967D2;\n",
              "      height: 32px;\n",
              "      padding: 0 0 0 0;\n",
              "      width: 32px;\n",
              "    }\n",
              "\n",
              "    .colab-df-convert:hover {\n",
              "      background-color: #E2EBFA;\n",
              "      box-shadow: 0px 1px 2px rgba(60, 64, 67, 0.3), 0px 1px 3px 1px rgba(60, 64, 67, 0.15);\n",
              "      fill: #174EA6;\n",
              "    }\n",
              "\n",
              "    .colab-df-buttons div {\n",
              "      margin-bottom: 4px;\n",
              "    }\n",
              "\n",
              "    [theme=dark] .colab-df-convert {\n",
              "      background-color: #3B4455;\n",
              "      fill: #D2E3FC;\n",
              "    }\n",
              "\n",
              "    [theme=dark] .colab-df-convert:hover {\n",
              "      background-color: #434B5C;\n",
              "      box-shadow: 0px 1px 3px 1px rgba(0, 0, 0, 0.15);\n",
              "      filter: drop-shadow(0px 1px 2px rgba(0, 0, 0, 0.3));\n",
              "      fill: #FFFFFF;\n",
              "    }\n",
              "  </style>\n",
              "\n",
              "    <script>\n",
              "      const buttonEl =\n",
              "        document.querySelector('#df-7b1e2fca-2bd3-4948-aafd-b01e18d6ff3c button.colab-df-convert');\n",
              "      buttonEl.style.display =\n",
              "        google.colab.kernel.accessAllowed ? 'block' : 'none';\n",
              "\n",
              "      async function convertToInteractive(key) {\n",
              "        const element = document.querySelector('#df-7b1e2fca-2bd3-4948-aafd-b01e18d6ff3c');\n",
              "        const dataTable =\n",
              "          await google.colab.kernel.invokeFunction('convertToInteractive',\n",
              "                                                    [key], {});\n",
              "        if (!dataTable) return;\n",
              "\n",
              "        const docLinkHtml = 'Like what you see? Visit the ' +\n",
              "          '<a target=\"_blank\" href=https://colab.research.google.com/notebooks/data_table.ipynb>data table notebook</a>'\n",
              "          + ' to learn more about interactive tables.';\n",
              "        element.innerHTML = '';\n",
              "        dataTable['output_type'] = 'display_data';\n",
              "        await google.colab.output.renderOutput(dataTable, element);\n",
              "        const docLink = document.createElement('div');\n",
              "        docLink.innerHTML = docLinkHtml;\n",
              "        element.appendChild(docLink);\n",
              "      }\n",
              "    </script>\n",
              "  </div>\n",
              "\n",
              "\n",
              "<div id=\"df-51e4c946-a8c2-4f8d-9a61-318154d0c6bc\">\n",
              "  <button class=\"colab-df-quickchart\" onclick=\"quickchart('df-51e4c946-a8c2-4f8d-9a61-318154d0c6bc')\"\n",
              "            title=\"Suggest charts.\"\n",
              "            style=\"display:none;\">\n",
              "\n",
              "<svg xmlns=\"http://www.w3.org/2000/svg\" height=\"24px\"viewBox=\"0 0 24 24\"\n",
              "     width=\"24px\">\n",
              "    <g>\n",
              "        <path d=\"M19 3H5c-1.1 0-2 .9-2 2v14c0 1.1.9 2 2 2h14c1.1 0 2-.9 2-2V5c0-1.1-.9-2-2-2zM9 17H7v-7h2v7zm4 0h-2V7h2v10zm4 0h-2v-4h2v4z\"/>\n",
              "    </g>\n",
              "</svg>\n",
              "  </button>\n",
              "\n",
              "<style>\n",
              "  .colab-df-quickchart {\n",
              "    background-color: #E8F0FE;\n",
              "    border: none;\n",
              "    border-radius: 50%;\n",
              "    cursor: pointer;\n",
              "    display: none;\n",
              "    fill: #1967D2;\n",
              "    height: 32px;\n",
              "    padding: 0 0 0 0;\n",
              "    width: 32px;\n",
              "  }\n",
              "\n",
              "  .colab-df-quickchart:hover {\n",
              "    background-color: #E2EBFA;\n",
              "    box-shadow: 0px 1px 2px rgba(60, 64, 67, 0.3), 0px 1px 3px 1px rgba(60, 64, 67, 0.15);\n",
              "    fill: #174EA6;\n",
              "  }\n",
              "\n",
              "  [theme=dark] .colab-df-quickchart {\n",
              "    background-color: #3B4455;\n",
              "    fill: #D2E3FC;\n",
              "  }\n",
              "\n",
              "  [theme=dark] .colab-df-quickchart:hover {\n",
              "    background-color: #434B5C;\n",
              "    box-shadow: 0px 1px 3px 1px rgba(0, 0, 0, 0.15);\n",
              "    filter: drop-shadow(0px 1px 2px rgba(0, 0, 0, 0.3));\n",
              "    fill: #FFFFFF;\n",
              "  }\n",
              "</style>\n",
              "\n",
              "  <script>\n",
              "    async function quickchart(key) {\n",
              "      const charts = await google.colab.kernel.invokeFunction(\n",
              "          'suggestCharts', [key], {});\n",
              "    }\n",
              "    (() => {\n",
              "      let quickchartButtonEl =\n",
              "        document.querySelector('#df-51e4c946-a8c2-4f8d-9a61-318154d0c6bc button');\n",
              "      quickchartButtonEl.style.display =\n",
              "        google.colab.kernel.accessAllowed ? 'block' : 'none';\n",
              "    })();\n",
              "  </script>\n",
              "</div>\n",
              "    </div>\n",
              "  </div>\n"
            ]
          },
          "metadata": {},
          "execution_count": 78
        }
      ],
      "source": [
        "df_sub_blending['target_reg'] = df_sub_blending['Catboost_target'] * (1 - min)/2 + \\\n",
        "     df_sub_blending['LGBM_target'] * (1 - min)/2 + df_sub_blending['SVM_target'] * min\n",
        "df_sub_blending.head()"
      ]
    },
    {
      "cell_type": "code",
      "source": [
        "# получаем предсказания от блендинга\n",
        "df_sub_blending = df_sub_blending[['car_id', 'target_reg']]\n",
        "df_sub_blending.to_csv('result_1.csv', index=False)"
      ],
      "metadata": {
        "id": "Ig1o_RgipiI1"
      },
      "execution_count": 79,
      "outputs": []
    },
    {
      "cell_type": "markdown",
      "source": [
        "### tabnet"
      ],
      "metadata": {
        "id": "bjM4ZJMf0LHK"
      }
    },
    {
      "cell_type": "code",
      "source": [
        "df_val_blending = df_val[['Catboost_model', 'LGBM_model', 'Tab_Net_model', 'target_val']]\n",
        "df_val_blending.head()"
      ],
      "metadata": {
        "colab": {
          "base_uri": "https://localhost:8080/",
          "height": 206
        },
        "id": "sWyL7sCY0Go7",
        "outputId": "c87c9105-f911-4653-d284-eee79d636b20"
      },
      "execution_count": 80,
      "outputs": [
        {
          "output_type": "execute_result",
          "data": {
            "text/plain": [
              "   Catboost_model  LGBM_model  Tab_Net_model  target_val\n",
              "0       47.322247   47.445561      48.594570   35.531250\n",
              "1       31.231408   31.571394      33.925861   29.343750\n",
              "2       31.287726   31.693933      34.609486   41.375000\n",
              "3       33.777903   32.457949      35.535320   26.703125\n",
              "4       47.000291   46.563485      46.118748   33.281250"
            ],
            "text/html": [
              "\n",
              "  <div id=\"df-03cea985-8a08-4cbe-a8ed-d5f15c3f0e2a\" class=\"colab-df-container\">\n",
              "    <div>\n",
              "<style scoped>\n",
              "    .dataframe tbody tr th:only-of-type {\n",
              "        vertical-align: middle;\n",
              "    }\n",
              "\n",
              "    .dataframe tbody tr th {\n",
              "        vertical-align: top;\n",
              "    }\n",
              "\n",
              "    .dataframe thead th {\n",
              "        text-align: right;\n",
              "    }\n",
              "</style>\n",
              "<table border=\"1\" class=\"dataframe\">\n",
              "  <thead>\n",
              "    <tr style=\"text-align: right;\">\n",
              "      <th></th>\n",
              "      <th>Catboost_model</th>\n",
              "      <th>LGBM_model</th>\n",
              "      <th>Tab_Net_model</th>\n",
              "      <th>target_val</th>\n",
              "    </tr>\n",
              "  </thead>\n",
              "  <tbody>\n",
              "    <tr>\n",
              "      <th>0</th>\n",
              "      <td>47.322247</td>\n",
              "      <td>47.445561</td>\n",
              "      <td>48.594570</td>\n",
              "      <td>35.531250</td>\n",
              "    </tr>\n",
              "    <tr>\n",
              "      <th>1</th>\n",
              "      <td>31.231408</td>\n",
              "      <td>31.571394</td>\n",
              "      <td>33.925861</td>\n",
              "      <td>29.343750</td>\n",
              "    </tr>\n",
              "    <tr>\n",
              "      <th>2</th>\n",
              "      <td>31.287726</td>\n",
              "      <td>31.693933</td>\n",
              "      <td>34.609486</td>\n",
              "      <td>41.375000</td>\n",
              "    </tr>\n",
              "    <tr>\n",
              "      <th>3</th>\n",
              "      <td>33.777903</td>\n",
              "      <td>32.457949</td>\n",
              "      <td>35.535320</td>\n",
              "      <td>26.703125</td>\n",
              "    </tr>\n",
              "    <tr>\n",
              "      <th>4</th>\n",
              "      <td>47.000291</td>\n",
              "      <td>46.563485</td>\n",
              "      <td>46.118748</td>\n",
              "      <td>33.281250</td>\n",
              "    </tr>\n",
              "  </tbody>\n",
              "</table>\n",
              "</div>\n",
              "    <div class=\"colab-df-buttons\">\n",
              "\n",
              "  <div class=\"colab-df-container\">\n",
              "    <button class=\"colab-df-convert\" onclick=\"convertToInteractive('df-03cea985-8a08-4cbe-a8ed-d5f15c3f0e2a')\"\n",
              "            title=\"Convert this dataframe to an interactive table.\"\n",
              "            style=\"display:none;\">\n",
              "\n",
              "  <svg xmlns=\"http://www.w3.org/2000/svg\" height=\"24px\" viewBox=\"0 -960 960 960\">\n",
              "    <path d=\"M120-120v-720h720v720H120Zm60-500h600v-160H180v160Zm220 220h160v-160H400v160Zm0 220h160v-160H400v160ZM180-400h160v-160H180v160Zm440 0h160v-160H620v160ZM180-180h160v-160H180v160Zm440 0h160v-160H620v160Z\"/>\n",
              "  </svg>\n",
              "    </button>\n",
              "\n",
              "  <style>\n",
              "    .colab-df-container {\n",
              "      display:flex;\n",
              "      gap: 12px;\n",
              "    }\n",
              "\n",
              "    .colab-df-convert {\n",
              "      background-color: #E8F0FE;\n",
              "      border: none;\n",
              "      border-radius: 50%;\n",
              "      cursor: pointer;\n",
              "      display: none;\n",
              "      fill: #1967D2;\n",
              "      height: 32px;\n",
              "      padding: 0 0 0 0;\n",
              "      width: 32px;\n",
              "    }\n",
              "\n",
              "    .colab-df-convert:hover {\n",
              "      background-color: #E2EBFA;\n",
              "      box-shadow: 0px 1px 2px rgba(60, 64, 67, 0.3), 0px 1px 3px 1px rgba(60, 64, 67, 0.15);\n",
              "      fill: #174EA6;\n",
              "    }\n",
              "\n",
              "    .colab-df-buttons div {\n",
              "      margin-bottom: 4px;\n",
              "    }\n",
              "\n",
              "    [theme=dark] .colab-df-convert {\n",
              "      background-color: #3B4455;\n",
              "      fill: #D2E3FC;\n",
              "    }\n",
              "\n",
              "    [theme=dark] .colab-df-convert:hover {\n",
              "      background-color: #434B5C;\n",
              "      box-shadow: 0px 1px 3px 1px rgba(0, 0, 0, 0.15);\n",
              "      filter: drop-shadow(0px 1px 2px rgba(0, 0, 0, 0.3));\n",
              "      fill: #FFFFFF;\n",
              "    }\n",
              "  </style>\n",
              "\n",
              "    <script>\n",
              "      const buttonEl =\n",
              "        document.querySelector('#df-03cea985-8a08-4cbe-a8ed-d5f15c3f0e2a button.colab-df-convert');\n",
              "      buttonEl.style.display =\n",
              "        google.colab.kernel.accessAllowed ? 'block' : 'none';\n",
              "\n",
              "      async function convertToInteractive(key) {\n",
              "        const element = document.querySelector('#df-03cea985-8a08-4cbe-a8ed-d5f15c3f0e2a');\n",
              "        const dataTable =\n",
              "          await google.colab.kernel.invokeFunction('convertToInteractive',\n",
              "                                                    [key], {});\n",
              "        if (!dataTable) return;\n",
              "\n",
              "        const docLinkHtml = 'Like what you see? Visit the ' +\n",
              "          '<a target=\"_blank\" href=https://colab.research.google.com/notebooks/data_table.ipynb>data table notebook</a>'\n",
              "          + ' to learn more about interactive tables.';\n",
              "        element.innerHTML = '';\n",
              "        dataTable['output_type'] = 'display_data';\n",
              "        await google.colab.output.renderOutput(dataTable, element);\n",
              "        const docLink = document.createElement('div');\n",
              "        docLink.innerHTML = docLinkHtml;\n",
              "        element.appendChild(docLink);\n",
              "      }\n",
              "    </script>\n",
              "  </div>\n",
              "\n",
              "\n",
              "<div id=\"df-1ce816f0-89ef-4a3d-a7ae-101645a54ce7\">\n",
              "  <button class=\"colab-df-quickchart\" onclick=\"quickchart('df-1ce816f0-89ef-4a3d-a7ae-101645a54ce7')\"\n",
              "            title=\"Suggest charts.\"\n",
              "            style=\"display:none;\">\n",
              "\n",
              "<svg xmlns=\"http://www.w3.org/2000/svg\" height=\"24px\"viewBox=\"0 0 24 24\"\n",
              "     width=\"24px\">\n",
              "    <g>\n",
              "        <path d=\"M19 3H5c-1.1 0-2 .9-2 2v14c0 1.1.9 2 2 2h14c1.1 0 2-.9 2-2V5c0-1.1-.9-2-2-2zM9 17H7v-7h2v7zm4 0h-2V7h2v10zm4 0h-2v-4h2v4z\"/>\n",
              "    </g>\n",
              "</svg>\n",
              "  </button>\n",
              "\n",
              "<style>\n",
              "  .colab-df-quickchart {\n",
              "    background-color: #E8F0FE;\n",
              "    border: none;\n",
              "    border-radius: 50%;\n",
              "    cursor: pointer;\n",
              "    display: none;\n",
              "    fill: #1967D2;\n",
              "    height: 32px;\n",
              "    padding: 0 0 0 0;\n",
              "    width: 32px;\n",
              "  }\n",
              "\n",
              "  .colab-df-quickchart:hover {\n",
              "    background-color: #E2EBFA;\n",
              "    box-shadow: 0px 1px 2px rgba(60, 64, 67, 0.3), 0px 1px 3px 1px rgba(60, 64, 67, 0.15);\n",
              "    fill: #174EA6;\n",
              "  }\n",
              "\n",
              "  [theme=dark] .colab-df-quickchart {\n",
              "    background-color: #3B4455;\n",
              "    fill: #D2E3FC;\n",
              "  }\n",
              "\n",
              "  [theme=dark] .colab-df-quickchart:hover {\n",
              "    background-color: #434B5C;\n",
              "    box-shadow: 0px 1px 3px 1px rgba(0, 0, 0, 0.15);\n",
              "    filter: drop-shadow(0px 1px 2px rgba(0, 0, 0, 0.3));\n",
              "    fill: #FFFFFF;\n",
              "  }\n",
              "</style>\n",
              "\n",
              "  <script>\n",
              "    async function quickchart(key) {\n",
              "      const charts = await google.colab.kernel.invokeFunction(\n",
              "          'suggestCharts', [key], {});\n",
              "    }\n",
              "    (() => {\n",
              "      let quickchartButtonEl =\n",
              "        document.querySelector('#df-1ce816f0-89ef-4a3d-a7ae-101645a54ce7 button');\n",
              "      quickchartButtonEl.style.display =\n",
              "        google.colab.kernel.accessAllowed ? 'block' : 'none';\n",
              "    })();\n",
              "  </script>\n",
              "</div>\n",
              "    </div>\n",
              "  </div>\n"
            ]
          },
          "metadata": {},
          "execution_count": 80
        }
      ]
    },
    {
      "cell_type": "code",
      "source": [
        "lst = [x / 100.0 for x in range(1, 40, 1)]\n",
        "\n",
        "scores = []\n",
        "for el in lst:\n",
        "    n = 1 - el\n",
        "    y_pred = df_val_blending['Catboost_model'] * n/2 + \\\n",
        "        df_val_blending['LGBM_model'] * n/2 + df_val_blending['Tab_Net_model'] * el\n",
        "    scores.append(mean_squared_error(y_true=df_val_blending['target_val'].values, y_pred=y_pred, squared=False))\n",
        "\n",
        "min = lst[np.argmin(scores)]\n",
        "min"
      ],
      "metadata": {
        "colab": {
          "base_uri": "https://localhost:8080/"
        },
        "id": "Q_IOOjYTBljt",
        "outputId": "6906886a-8715-4dd0-9201-85627ae87b49"
      },
      "execution_count": 81,
      "outputs": [
        {
          "output_type": "execute_result",
          "data": {
            "text/plain": [
              "0.01"
            ]
          },
          "metadata": {},
          "execution_count": 81
        }
      ]
    },
    {
      "cell_type": "code",
      "source": [
        "plt.figure(figsize=(7, 5))\n",
        "plt.plot(lst, scores)\n",
        "plt.axvline(min, c='r')\n",
        "plt.show()"
      ],
      "metadata": {
        "colab": {
          "base_uri": "https://localhost:8080/",
          "height": 450
        },
        "id": "3wMhYSp0BsPJ",
        "outputId": "775d1af9-135c-490f-e097-92373d912ecc"
      },
      "execution_count": 82,
      "outputs": [
        {
          "output_type": "display_data",
          "data": {
            "text/plain": [
              "<Figure size 700x500 with 1 Axes>"
            ],
            "image/png": "[encoded data removed]"
          },
          "metadata": {}
        }
      ]
    },
    {
      "cell_type": "markdown",
      "metadata": {
        "id": "r9bQ-G0fmEqt"
      },
      "source": [
        "# Стекинг"
      ]
    },
    {
      "cell_type": "markdown",
      "source": [
        "К сожалению, в моём варианте исполнения pystack не хотел напрямую работать с моделями, которые были сформированы. Необходимо было немного по-другому обрабатывать входные данные (+ для работы с библиотекой необходимо было корректировать строки, связанные с joblib). Воспользуемся стандартным sklearn стекингом."
      ],
      "metadata": {
        "id": "AClSD1Yb3QIq"
      }
    },
    {
      "cell_type": "markdown",
      "source": [
        "Для стекинга возьмём 2 бустинга XGB и Gradient."
      ],
      "metadata": {
        "id": "Pl48ajbFqmUY"
      }
    },
    {
      "cell_type": "code",
      "source": [
        "# список базовых моделей\n",
        "estimators = [\n",
        "    (\"RF\", bst_mdls['RF_model']),\n",
        "    (\"Gradient\", bst_mdls['GB_model']),\n",
        "    (\"XGBoost\", bst_mdls['XGB_model']),]\n",
        "\n",
        "meta_model = StackingRegressor(estimators=estimators,\n",
        "                               final_estimator=ElasticNet(max_iter=704,\n",
        "                               l1_ratio=0.23,\n",
        "                               alpha=0.004),\n",
        "                               n_jobs=-1,\n",
        "                               verbose=False)\n",
        "\n",
        "stacking_regressor = meta_model\n",
        "stacking_regressor.fit(X, y)"
      ],
      "metadata": {
        "colab": {
          "base_uri": "https://localhost:8080/",
          "height": 392
        },
        "id": "NAs_kmEP43JV",
        "outputId": "1c9a193c-9357-4c99-9ba1-3ebb824a1494"
      },
      "execution_count": 83,
      "outputs": [
        {
          "output_type": "execute_result",
          "data": {
            "text/plain": [
              "StackingRegressor(estimators=[('RF',\n",
              "                               TransformedTargetRegressor(regressor=Pipeline(steps=[('feature_preprocessor',\n",
              "                                                                                     ColumnTransformer(transformers=[('num',\n",
              "                                                                                                                      Pipeline(steps=[('imputer',\n",
              "                                                                                                                                       SimpleImputer(strategy='median')),\n",
              "                                                                                                                                      ('scaler',\n",
              "                                                                                                                                       StandardScaler())]),\n",
              "                                                                                                                      ['car_rating',\n",
              "                                                                                                                       'year_to_start',\n",
              "                                                                                                                       'riders',\n",
              "                                                                                                                       'year_to_work',\n",
              "                                                                                                                       'mean_rating',\n",
              "                                                                                                                       'distance_sum',\n",
              "                                                                                                                       'rating_min',\n",
              "                                                                                                                       'speed_max'...\n",
              "                                                                                                  learning_rate=None,\n",
              "                                                                                                  max_bin=240,\n",
              "                                                                                                  max_cat_threshold=None,\n",
              "                                                                                                  max_cat_to_onehot=None,\n",
              "                                                                                                  max_delta_step=None,\n",
              "                                                                                                  max_depth=3,\n",
              "                                                                                                  max_leaves=6,\n",
              "                                                                                                  min_child_weight=11.679409524162446,\n",
              "                                                                                                  missing=nan,\n",
              "                                                                                                  monotone_constraints=None,\n",
              "                                                                                                  n_estimators=100,\n",
              "                                                                                                  n_jobs=-1, ...))]),\n",
              "                                                          transformer=StandardScaler()))],\n",
              "                  final_estimator=ElasticNet(alpha=0.004, l1_ratio=0.23,\n",
              "                                             max_iter=704),\n",
              "                  n_jobs=-1, verbose=False)"
            ],
            "text/html": [
              "<style>#sk-container-id-1 {color: black;background-color: white;}#sk-container-id-1 pre{padding: 0;}#sk-container-id-1 div.sk-toggleable {background-color: white;}#sk-container-id-1 label.sk-toggleable__label {cursor: pointer;display: block;width: 100%;margin-bottom: 0;padding: 0.3em;box-sizing: border-box;text-align: center;}#sk-container-id-1 label.sk-toggleable__label-arrow:before {content: \"▸\";float: left;margin-right: 0.25em;color: #696969;}#sk-container-id-1 label.sk-toggleable__label-arrow:hover:before {color: black;}#sk-container-id-1 div.sk-estimator:hover label.sk-toggleable__label-arrow:before {color: black;}#sk-container-id-1 div.sk-toggleable__content {max-height: 0;max-width: 0;overflow: hidden;text-align: left;background-color: #f0f8ff;}#sk-container-id-1 div.sk-toggleable__content pre {margin: 0.2em;color: black;border-radius: 0.25em;background-color: #f0f8ff;}#sk-container-id-1 input.sk-toggleable__control:checked~div.sk-toggleable__content {max-height: 200px;max-width: 100%;overflow: auto;}#sk-container-id-1 input.sk-toggleable__control:checked~label.sk-toggleable__label-arrow:before {content: \"▾\";}#sk-container-id-1 div.sk-estimator input.sk-toggleable__control:checked~label.sk-toggleable__label {background-color: #d4ebff;}#sk-container-id-1 div.sk-label input.sk-toggleable__control:checked~label.sk-toggleable__label {background-color: #d4ebff;}#sk-container-id-1 input.sk-hidden--visually {border: 0;clip: rect(1px 1px 1px 1px);clip: rect(1px, 1px, 1px, 1px);height: 1px;margin: -1px;overflow: hidden;padding: 0;position: absolute;width: 1px;}#sk-container-id-1 div.sk-estimator {font-family: monospace;background-color: #f0f8ff;border: 1px dotted black;border-radius: 0.25em;box-sizing: border-box;margin-bottom: 0.5em;}#sk-container-id-1 div.sk-estimator:hover {background-color: #d4ebff;}#sk-container-id-1 div.sk-parallel-item::after {content: \"\";width: 100%;border-bottom: 1px solid gray;flex-grow: 1;}#sk-container-id-1 div.sk-label:hover label.sk-toggleable__label {background-color: #d4ebff;}#sk-container-id-1 div.sk-serial::before {content: \"\";position: absolute;border-left: 1px solid gray;box-sizing: border-box;top: 0;bottom: 0;left: 50%;z-index: 0;}#sk-container-id-1 div.sk-serial {display: flex;flex-direction: column;align-items: center;background-color: white;padding-right: 0.2em;padding-left: 0.2em;position: relative;}#sk-container-id-1 div.sk-item {position: relative;z-index: 1;}#sk-container-id-1 div.sk-parallel {display: flex;align-items: stretch;justify-content: center;background-color: white;position: relative;}#sk-container-id-1 div.sk-item::before, #sk-container-id-1 div.sk-parallel-item::before {content: \"\";position: absolute;border-left: 1px solid gray;box-sizing: border-box;top: 0;bottom: 0;left: 50%;z-index: -1;}#sk-container-id-1 div.sk-parallel-item {display: flex;flex-direction: column;z-index: 1;position: relative;background-color: white;}#sk-container-id-1 div.sk-parallel-item:first-child::after {align-self: flex-end;width: 50%;}#sk-container-id-1 div.sk-parallel-item:last-child::after {align-self: flex-start;width: 50%;}#sk-container-id-1 div.sk-parallel-item:only-child::after {width: 0;}#sk-container-id-1 div.sk-dashed-wrapped {border: 1px dashed gray;margin: 0 0.4em 0.5em 0.4em;box-sizing: border-box;padding-bottom: 0.4em;background-color: white;}#sk-container-id-1 div.sk-label label {font-family: monospace;font-weight: bold;display: inline-block;line-height: 1.2em;}#sk-container-id-1 div.sk-label-container {text-align: center;}#sk-container-id-1 div.sk-container {/* jupyter's `normalize.less` sets `[hidden] { display: none; }` but bootstrap.min.css set `[hidden] { display: none !important; }` so we also need the `!important` here to be able to override the default hidden behavior on the sphinx rendered scikit-learn.org. See: https://github.com/scikit-learn/scikit-learn/issues/21755 */display: inline-block !important;position: relative;}#sk-container-id-1 div.sk-text-repr-fallback {display: none;}</style><div id=\"sk-container-id-1\" class=\"sk-top-container\"><div class=\"sk-text-repr-fallback\"><pre>StackingRegressor(estimators=[(&#x27;RF&#x27;,\n",
              "                               TransformedTargetRegressor(regressor=Pipeline(steps=[(&#x27;feature_preprocessor&#x27;,\n",
              "                                                                                     ColumnTransformer(transformers=[(&#x27;num&#x27;,\n",
              "                                                                                                                      Pipeline(steps=[(&#x27;imputer&#x27;,\n",
              "                                                                                                                                       SimpleImputer(strategy=&#x27;median&#x27;)),\n",
              "                                                                                                                                      (&#x27;scaler&#x27;,\n",
              "                                                                                                                                       StandardScaler())]),\n",
              "                                                                                                                      [&#x27;car_rating&#x27;,\n",
              "                                                                                                                       &#x27;year_to_start&#x27;,\n",
              "                                                                                                                       &#x27;riders&#x27;,\n",
              "                                                                                                                       &#x27;year_to_work&#x27;,\n",
              "                                                                                                                       &#x27;mean_rating&#x27;,\n",
              "                                                                                                                       &#x27;distance_sum&#x27;,\n",
              "                                                                                                                       &#x27;rating_min&#x27;,\n",
              "                                                                                                                       &#x27;speed_max&#x27;...\n",
              "                                                                                                  learning_rate=None,\n",
              "                                                                                                  max_bin=240,\n",
              "                                                                                                  max_cat_threshold=None,\n",
              "                                                                                                  max_cat_to_onehot=None,\n",
              "                                                                                                  max_delta_step=None,\n",
              "                                                                                                  max_depth=3,\n",
              "                                                                                                  max_leaves=6,\n",
              "                                                                                                  min_child_weight=11.679409524162446,\n",
              "                                                                                                  missing=nan,\n",
              "                                                                                                  monotone_constraints=None,\n",
              "                                                                                                  n_estimators=100,\n",
              "                                                                                                  n_jobs=-1, ...))]),\n",
              "                                                          transformer=StandardScaler()))],\n",
              "                  final_estimator=ElasticNet(alpha=0.004, l1_ratio=0.23,\n",
              "                                             max_iter=704),\n",
              "                  n_jobs=-1, verbose=False)</pre><b>In a Jupyter environment, please rerun this cell to show the HTML representation or trust the notebook. <br />On GitHub, the HTML representation is unable to render, please try loading this page with nbviewer.org.</b></div><div class=\"sk-container\" hidden><div class=\"sk-item sk-dashed-wrapped\"><div class=\"sk-label-container\"><div class=\"sk-label sk-toggleable\"><input class=\"sk-toggleable__control sk-hidden--visually\" id=\"sk-estimator-id-1\" type=\"checkbox\" ><label for=\"sk-estimator-id-1\" class=\"sk-toggleable__label sk-toggleable__label-arrow\">StackingRegressor</label><div class=\"sk-toggleable__content\"><pre>StackingRegressor(estimators=[(&#x27;RF&#x27;,\n",
              "                               TransformedTargetRegressor(regressor=Pipeline(steps=[(&#x27;feature_preprocessor&#x27;,\n",
              "                                                                                     ColumnTransformer(transformers=[(&#x27;num&#x27;,\n",
              "                                                                                                                      Pipeline(steps=[(&#x27;imputer&#x27;,\n",
              "                                                                                                                                       SimpleImputer(strategy=&#x27;median&#x27;)),\n",
              "                                                                                                                                      (&#x27;scaler&#x27;,\n",
              "                                                                                                                                       StandardScaler())]),\n",
              "                                                                                                                      [&#x27;car_rating&#x27;,\n",
              "                                                                                                                       &#x27;year_to_start&#x27;,\n",
              "                                                                                                                       &#x27;riders&#x27;,\n",
              "                                                                                                                       &#x27;year_to_work&#x27;,\n",
              "                                                                                                                       &#x27;mean_rating&#x27;,\n",
              "                                                                                                                       &#x27;distance_sum&#x27;,\n",
              "                                                                                                                       &#x27;rating_min&#x27;,\n",
              "                                                                                                                       &#x27;speed_max&#x27;...\n",
              "                                                                                                  learning_rate=None,\n",
              "                                                                                                  max_bin=240,\n",
              "                                                                                                  max_cat_threshold=None,\n",
              "                                                                                                  max_cat_to_onehot=None,\n",
              "                                                                                                  max_delta_step=None,\n",
              "                                                                                                  max_depth=3,\n",
              "                                                                                                  max_leaves=6,\n",
              "                                                                                                  min_child_weight=11.679409524162446,\n",
              "                                                                                                  missing=nan,\n",
              "                                                                                                  monotone_constraints=None,\n",
              "                                                                                                  n_estimators=100,\n",
              "                                                                                                  n_jobs=-1, ...))]),\n",
              "                                                          transformer=StandardScaler()))],\n",
              "                  final_estimator=ElasticNet(alpha=0.004, l1_ratio=0.23,\n",
              "                                             max_iter=704),\n",
              "                  n_jobs=-1, verbose=False)</pre></div></div></div><div class=\"sk-serial\"><div class=\"sk-item\"><div class=\"sk-parallel\"><div class=\"sk-parallel-item\"><div class=\"sk-item\"><div class=\"sk-label-container\"><div class=\"sk-label sk-toggleable\"><label>RF</label></div></div><div class=\"sk-serial\"><div class=\"sk-item sk-dashed-wrapped\"><div class=\"sk-parallel\"><div class=\"sk-parallel-item\"><div class=\"sk-item\"><div class=\"sk-label-container\"><div class=\"sk-label sk-toggleable\"><input class=\"sk-toggleable__control sk-hidden--visually\" id=\"sk-estimator-id-2\" type=\"checkbox\" ><label for=\"sk-estimator-id-2\" class=\"sk-toggleable__label sk-toggleable__label-arrow\">regressor: Pipeline</label><div class=\"sk-toggleable__content\"><pre>Pipeline(steps=[(&#x27;feature_preprocessor&#x27;,\n",
              "                 ColumnTransformer(transformers=[(&#x27;num&#x27;,\n",
              "                                                  Pipeline(steps=[(&#x27;imputer&#x27;,\n",
              "                                                                   SimpleImputer(strategy=&#x27;median&#x27;)),\n",
              "                                                                  (&#x27;scaler&#x27;,\n",
              "                                                                   StandardScaler())]),\n",
              "                                                  [&#x27;car_rating&#x27;,\n",
              "                                                   &#x27;year_to_start&#x27;, &#x27;riders&#x27;,\n",
              "                                                   &#x27;year_to_work&#x27;,\n",
              "                                                   &#x27;mean_rating&#x27;,\n",
              "                                                   &#x27;distance_sum&#x27;, &#x27;rating_min&#x27;,\n",
              "                                                   &#x27;speed_max&#x27;,\n",
              "                                                   &#x27;user_ride_quality_median&#x27;,\n",
              "                                                   &#x27;user_uniq&#x27;]),\n",
              "                                                 (&#x27;cat&#x27;,\n",
              "                                                  Pipeline(steps=[(&#x27;encoder&#x27;,\n",
              "                                                                   OneHotEncoder(handle_unknown=&#x27;ignore&#x27;))]),\n",
              "                                                  [&#x27;model&#x27;, &#x27;car_type&#x27;,\n",
              "                                                   &#x27;fuel_type&#x27;])])),\n",
              "                (&#x27;model&#x27;,\n",
              "                 RandomForestRegressor(max_depth=10, max_samples=349,\n",
              "                                       n_estimators=264, n_jobs=-1,\n",
              "                                       random_state=7575))])</pre></div></div></div><div class=\"sk-serial\"><div class=\"sk-item\"><div class=\"sk-serial\"><div class=\"sk-item sk-dashed-wrapped\"><div class=\"sk-label-container\"><div class=\"sk-label sk-toggleable\"><input class=\"sk-toggleable__control sk-hidden--visually\" id=\"sk-estimator-id-3\" type=\"checkbox\" ><label for=\"sk-estimator-id-3\" class=\"sk-toggleable__label sk-toggleable__label-arrow\">feature_preprocessor: ColumnTransformer</label><div class=\"sk-toggleable__content\"><pre>ColumnTransformer(transformers=[(&#x27;num&#x27;,\n",
              "                                 Pipeline(steps=[(&#x27;imputer&#x27;,\n",
              "                                                  SimpleImputer(strategy=&#x27;median&#x27;)),\n",
              "                                                 (&#x27;scaler&#x27;, StandardScaler())]),\n",
              "                                 [&#x27;car_rating&#x27;, &#x27;year_to_start&#x27;, &#x27;riders&#x27;,\n",
              "                                  &#x27;year_to_work&#x27;, &#x27;mean_rating&#x27;, &#x27;distance_sum&#x27;,\n",
              "                                  &#x27;rating_min&#x27;, &#x27;speed_max&#x27;,\n",
              "                                  &#x27;user_ride_quality_median&#x27;, &#x27;user_uniq&#x27;]),\n",
              "                                (&#x27;cat&#x27;,\n",
              "                                 Pipeline(steps=[(&#x27;encoder&#x27;,\n",
              "                                                  OneHotEncoder(handle_unknown=&#x27;ignore&#x27;))]),\n",
              "                                 [&#x27;model&#x27;, &#x27;car_type&#x27;, &#x27;fuel_type&#x27;])])</pre></div></div></div><div class=\"sk-parallel\"><div class=\"sk-parallel-item\"><div class=\"sk-item\"><div class=\"sk-label-container\"><div class=\"sk-label sk-toggleable\"><input class=\"sk-toggleable__control sk-hidden--visually\" id=\"sk-estimator-id-4\" type=\"checkbox\" ><label for=\"sk-estimator-id-4\" class=\"sk-toggleable__label sk-toggleable__label-arrow\">num</label><div class=\"sk-toggleable__content\"><pre>[&#x27;car_rating&#x27;, &#x27;year_to_start&#x27;, &#x27;riders&#x27;, &#x27;year_to_work&#x27;, &#x27;mean_rating&#x27;, &#x27;distance_sum&#x27;, &#x27;rating_min&#x27;, &#x27;speed_max&#x27;, &#x27;user_ride_quality_median&#x27;, &#x27;user_uniq&#x27;]</pre></div></div></div><div class=\"sk-serial\"><div class=\"sk-item\"><div class=\"sk-serial\"><div class=\"sk-item\"><div class=\"sk-estimator sk-toggleable\"><input class=\"sk-toggleable__control sk-hidden--visually\" id=\"sk-estimator-id-5\" type=\"checkbox\" ><label for=\"sk-estimator-id-5\" class=\"sk-toggleable__label sk-toggleable__label-arrow\">SimpleImputer</label><div class=\"sk-toggleable__content\"><pre>SimpleImputer(strategy=&#x27;median&#x27;)</pre></div></div></div><div class=\"sk-item\"><div class=\"sk-estimator sk-toggleable\"><input class=\"sk-toggleable__control sk-hidden--visually\" id=\"sk-estimator-id-6\" type=\"checkbox\" ><label for=\"sk-estimator-id-6\" class=\"sk-toggleable__label sk-toggleable__label-arrow\">StandardScaler</label><div class=\"sk-toggleable__content\"><pre>StandardScaler()</pre></div></div></div></div></div></div></div></div><div class=\"sk-parallel-item\"><div class=\"sk-item\"><div class=\"sk-label-container\"><div class=\"sk-label sk-toggleable\"><input class=\"sk-toggleable__control sk-hidden--visually\" id=\"sk-estimator-id-7\" type=\"checkbox\" ><label for=\"sk-estimator-id-7\" class=\"sk-toggleable__label sk-toggleable__label-arrow\">cat</label><div class=\"sk-toggleable__content\"><pre>[&#x27;model&#x27;, &#x27;car_type&#x27;, &#x27;fuel_type&#x27;]</pre></div></div></div><div class=\"sk-serial\"><div class=\"sk-item\"><div class=\"sk-serial\"><div class=\"sk-item\"><div class=\"sk-estimator sk-toggleable\"><input class=\"sk-toggleable__control sk-hidden--visually\" id=\"sk-estimator-id-8\" type=\"checkbox\" ><label for=\"sk-estimator-id-8\" class=\"sk-toggleable__label sk-toggleable__label-arrow\">OneHotEncoder</label><div class=\"sk-toggleable__content\"><pre>OneHotEncoder(handle_unknown=&#x27;ignore&#x27;)</pre></div></div></div></div></div></div></div></div></div></div><div class=\"sk-item\"><div class=\"sk-estimator sk-toggleable\"><input class=\"sk-toggleable__control sk-hidden--visually\" id=\"sk-estimator-id-9\" type=\"checkbox\" ><label for=\"sk-estimator-id-9\" class=\"sk-toggleable__label sk-toggleable__label-arrow\">RandomForestRegressor</label><div class=\"sk-toggleable__content\"><pre>RandomForestRegressor(max_depth=10, max_samples=349, n_estimators=264,\n",
              "                      n_jobs=-1, random_state=7575)</pre></div></div></div></div></div></div></div></div><div class=\"sk-parallel-item\"><div class=\"sk-item\"><div class=\"sk-label-container\"><div class=\"sk-label sk-toggleable\"><input class=\"sk-toggleable__control sk-hidden--visually\" id=\"sk-estimator-id-10\" type=\"checkbox\" ><label for=\"sk-estimator-id-10\" class=\"sk-toggleable__label sk-toggleable__label-arrow\">transformer: StandardScaler</label><div class=\"sk-toggleable__content\"><pre>StandardScaler()</pre></div></div></div><div class=\"sk-serial\"><div class=\"sk-item\"><div class=\"sk-estimator sk-toggleable\"><input class=\"sk-toggleable__control sk-hidden--visually\" id=\"sk-estimator-id-11\" type=\"checkbox\" ><label for=\"sk-estimator-id-11\" class=\"sk-toggleable__label sk-toggleable__label-arrow\">StandardScaler</label><div class=\"sk-toggleable__content\"><pre>StandardScaler()</pre></div></div></div></div></div></div></div></div></div></div></div><div class=\"sk-parallel-item\"><div class=\"sk-item\"><div class=\"sk-label-container\"><div class=\"sk-label sk-toggleable\"><label>Gradient</label></div></div><div class=\"sk-serial\"><div class=\"sk-item sk-dashed-wrapped\"><div class=\"sk-parallel\"><div class=\"sk-parallel-item\"><div class=\"sk-item\"><div class=\"sk-label-container\"><div class=\"sk-label sk-toggleable\"><input class=\"sk-toggleable__control sk-hidden--visually\" id=\"sk-estimator-id-12\" type=\"checkbox\" ><label for=\"sk-estimator-id-12\" class=\"sk-toggleable__label sk-toggleable__label-arrow\">regressor: Pipeline</label><div class=\"sk-toggleable__content\"><pre>Pipeline(steps=[(&#x27;feature_preprocessor&#x27;,\n",
              "                 ColumnTransformer(transformers=[(&#x27;num&#x27;,\n",
              "                                                  Pipeline(steps=[(&#x27;imputer&#x27;,\n",
              "                                                                   SimpleImputer(strategy=&#x27;median&#x27;)),\n",
              "                                                                  (&#x27;scaler&#x27;,\n",
              "                                                                   StandardScaler())]),\n",
              "                                                  [&#x27;car_rating&#x27;,\n",
              "                                                   &#x27;year_to_start&#x27;, &#x27;riders&#x27;,\n",
              "                                                   &#x27;year_to_work&#x27;,\n",
              "                                                   &#x27;mean_rating&#x27;,\n",
              "                                                   &#x27;distance_sum&#x27;, &#x27;rating_min&#x27;,\n",
              "                                                   &#x27;speed_max&#x27;,\n",
              "                                                   &#x27;user_ride_quality_median&#x27;,\n",
              "                                                   &#x27;user_uniq&#x27;]),\n",
              "                                                 (&#x27;cat&#x27;,\n",
              "                                                  Pipeline(steps=[(&#x27;encoder&#x27;,\n",
              "                                                                   OneHotEncoder(handle_unknown=&#x27;ignore&#x27;))]),\n",
              "                                                  [&#x27;model&#x27;, &#x27;car_type&#x27;,\n",
              "                                                   &#x27;fuel_type&#x27;])])),\n",
              "                (&#x27;model&#x27;,\n",
              "                 GradientBoostingRegressor(max_depth=5, min_samples_leaf=2,\n",
              "                                           min_samples_split=149,\n",
              "                                           n_estimators=412,\n",
              "                                           n_iter_no_change=70,\n",
              "                                           random_state=7575,\n",
              "                                           subsample=0.9409893274546193))])</pre></div></div></div><div class=\"sk-serial\"><div class=\"sk-item\"><div class=\"sk-serial\"><div class=\"sk-item sk-dashed-wrapped\"><div class=\"sk-label-container\"><div class=\"sk-label sk-toggleable\"><input class=\"sk-toggleable__control sk-hidden--visually\" id=\"sk-estimator-id-13\" type=\"checkbox\" ><label for=\"sk-estimator-id-13\" class=\"sk-toggleable__label sk-toggleable__label-arrow\">feature_preprocessor: ColumnTransformer</label><div class=\"sk-toggleable__content\"><pre>ColumnTransformer(transformers=[(&#x27;num&#x27;,\n",
              "                                 Pipeline(steps=[(&#x27;imputer&#x27;,\n",
              "                                                  SimpleImputer(strategy=&#x27;median&#x27;)),\n",
              "                                                 (&#x27;scaler&#x27;, StandardScaler())]),\n",
              "                                 [&#x27;car_rating&#x27;, &#x27;year_to_start&#x27;, &#x27;riders&#x27;,\n",
              "                                  &#x27;year_to_work&#x27;, &#x27;mean_rating&#x27;, &#x27;distance_sum&#x27;,\n",
              "                                  &#x27;rating_min&#x27;, &#x27;speed_max&#x27;,\n",
              "                                  &#x27;user_ride_quality_median&#x27;, &#x27;user_uniq&#x27;]),\n",
              "                                (&#x27;cat&#x27;,\n",
              "                                 Pipeline(steps=[(&#x27;encoder&#x27;,\n",
              "                                                  OneHotEncoder(handle_unknown=&#x27;ignore&#x27;))]),\n",
              "                                 [&#x27;model&#x27;, &#x27;car_type&#x27;, &#x27;fuel_type&#x27;])])</pre></div></div></div><div class=\"sk-parallel\"><div class=\"sk-parallel-item\"><div class=\"sk-item\"><div class=\"sk-label-container\"><div class=\"sk-label sk-toggleable\"><input class=\"sk-toggleable__control sk-hidden--visually\" id=\"sk-estimator-id-14\" type=\"checkbox\" ><label for=\"sk-estimator-id-14\" class=\"sk-toggleable__label sk-toggleable__label-arrow\">num</label><div class=\"sk-toggleable__content\"><pre>[&#x27;car_rating&#x27;, &#x27;year_to_start&#x27;, &#x27;riders&#x27;, &#x27;year_to_work&#x27;, &#x27;mean_rating&#x27;, &#x27;distance_sum&#x27;, &#x27;rating_min&#x27;, &#x27;speed_max&#x27;, &#x27;user_ride_quality_median&#x27;, &#x27;user_uniq&#x27;]</pre></div></div></div><div class=\"sk-serial\"><div class=\"sk-item\"><div class=\"sk-serial\"><div class=\"sk-item\"><div class=\"sk-estimator sk-toggleable\"><input class=\"sk-toggleable__control sk-hidden--visually\" id=\"sk-estimator-id-15\" type=\"checkbox\" ><label for=\"sk-estimator-id-15\" class=\"sk-toggleable__label sk-toggleable__label-arrow\">SimpleImputer</label><div class=\"sk-toggleable__content\"><pre>SimpleImputer(strategy=&#x27;median&#x27;)</pre></div></div></div><div class=\"sk-item\"><div class=\"sk-estimator sk-toggleable\"><input class=\"sk-toggleable__control sk-hidden--visually\" id=\"sk-estimator-id-16\" type=\"checkbox\" ><label for=\"sk-estimator-id-16\" class=\"sk-toggleable__label sk-toggleable__label-arrow\">StandardScaler</label><div class=\"sk-toggleable__content\"><pre>StandardScaler()</pre></div></div></div></div></div></div></div></div><div class=\"sk-parallel-item\"><div class=\"sk-item\"><div class=\"sk-label-container\"><div class=\"sk-label sk-toggleable\"><input class=\"sk-toggleable__control sk-hidden--visually\" id=\"sk-estimator-id-17\" type=\"checkbox\" ><label for=\"sk-estimator-id-17\" class=\"sk-toggleable__label sk-toggleable__label-arrow\">cat</label><div class=\"sk-toggleable__content\"><pre>[&#x27;model&#x27;, &#x27;car_type&#x27;, &#x27;fuel_type&#x27;]</pre></div></div></div><div class=\"sk-serial\"><div class=\"sk-item\"><div class=\"sk-serial\"><div class=\"sk-item\"><div class=\"sk-estimator sk-toggleable\"><input class=\"sk-toggleable__control sk-hidden--visually\" id=\"sk-estimator-id-18\" type=\"checkbox\" ><label for=\"sk-estimator-id-18\" class=\"sk-toggleable__label sk-toggleable__label-arrow\">OneHotEncoder</label><div class=\"sk-toggleable__content\"><pre>OneHotEncoder(handle_unknown=&#x27;ignore&#x27;)</pre></div></div></div></div></div></div></div></div></div></div><div class=\"sk-item\"><div class=\"sk-estimator sk-toggleable\"><input class=\"sk-toggleable__control sk-hidden--visually\" id=\"sk-estimator-id-19\" type=\"checkbox\" ><label for=\"sk-estimator-id-19\" class=\"sk-toggleable__label sk-toggleable__label-arrow\">GradientBoostingRegressor</label><div class=\"sk-toggleable__content\"><pre>GradientBoostingRegressor(max_depth=5, min_samples_leaf=2,\n",
              "                          min_samples_split=149, n_estimators=412,\n",
              "                          n_iter_no_change=70, random_state=7575,\n",
              "                          subsample=0.9409893274546193)</pre></div></div></div></div></div></div></div></div><div class=\"sk-parallel-item\"><div class=\"sk-item\"><div class=\"sk-label-container\"><div class=\"sk-label sk-toggleable\"><input class=\"sk-toggleable__control sk-hidden--visually\" id=\"sk-estimator-id-20\" type=\"checkbox\" ><label for=\"sk-estimator-id-20\" class=\"sk-toggleable__label sk-toggleable__label-arrow\">transformer: StandardScaler</label><div class=\"sk-toggleable__content\"><pre>StandardScaler()</pre></div></div></div><div class=\"sk-serial\"><div class=\"sk-item\"><div class=\"sk-estimator sk-toggleable\"><input class=\"sk-toggleable__control sk-hidden--visually\" id=\"sk-estimator-id-21\" type=\"checkbox\" ><label for=\"sk-estimator-id-21\" class=\"sk-toggleable__label sk-toggleable__label-arrow\">StandardScaler</label><div class=\"sk-toggleable__content\"><pre>StandardScaler()</pre></div></div></div></div></div></div></div></div></div></div></div><div class=\"sk-parallel-item\"><div class=\"sk-item\"><div class=\"sk-label-container\"><div class=\"sk-label sk-toggleable\"><label>XGBoost</label></div></div><div class=\"sk-serial\"><div class=\"sk-item sk-dashed-wrapped\"><div class=\"sk-parallel\"><div class=\"sk-parallel-item\"><div class=\"sk-item\"><div class=\"sk-label-container\"><div class=\"sk-label sk-toggleable\"><input class=\"sk-toggleable__control sk-hidden--visually\" id=\"sk-estimator-id-22\" type=\"checkbox\" ><label for=\"sk-estimator-id-22\" class=\"sk-toggleable__label sk-toggleable__label-arrow\">regressor: Pipeline</label><div class=\"sk-toggleable__content\"><pre>Pipeline(steps=[(&#x27;feature_preprocessor&#x27;,\n",
              "                 ColumnTransformer(transformers=[(&#x27;num&#x27;,\n",
              "                                                  Pipeline(steps=[(&#x27;imputer&#x27;,\n",
              "                                                                   SimpleImputer(strategy=&#x27;median&#x27;)),\n",
              "                                                                  (&#x27;scaler&#x27;,\n",
              "                                                                   StandardScaler())]),\n",
              "                                                  [&#x27;car_rating&#x27;,\n",
              "                                                   &#x27;year_to_start&#x27;, &#x27;riders&#x27;,\n",
              "                                                   &#x27;year_to_work&#x27;,\n",
              "                                                   &#x27;mean_rating&#x27;,\n",
              "                                                   &#x27;distance_sum&#x27;, &#x27;rating_min&#x27;,\n",
              "                                                   &#x27;speed_max&#x27;,\n",
              "                                                   &#x27;user_ride_quality_median&#x27;,\n",
              "                                                   &#x27;user_uniq&#x27;]),\n",
              "                                                 (&#x27;cat&#x27;,\n",
              "                                                  Pipeline(steps=[(&#x27;encode...\n",
              "                              gamma=1.8986366588526835e-05, gpu_id=None,\n",
              "                              grow_policy=&#x27;lossguide&#x27;, importance_type=None,\n",
              "                              interaction_constraints=None, lambda=3,\n",
              "                              learning_rate=None, max_bin=240,\n",
              "                              max_cat_threshold=None, max_cat_to_onehot=None,\n",
              "                              max_delta_step=None, max_depth=3, max_leaves=6,\n",
              "                              min_child_weight=11.679409524162446, missing=nan,\n",
              "                              monotone_constraints=None, n_estimators=100,\n",
              "                              n_jobs=-1, ...))])</pre></div></div></div><div class=\"sk-serial\"><div class=\"sk-item\"><div class=\"sk-serial\"><div class=\"sk-item sk-dashed-wrapped\"><div class=\"sk-label-container\"><div class=\"sk-label sk-toggleable\"><input class=\"sk-toggleable__control sk-hidden--visually\" id=\"sk-estimator-id-23\" type=\"checkbox\" ><label for=\"sk-estimator-id-23\" class=\"sk-toggleable__label sk-toggleable__label-arrow\">feature_preprocessor: ColumnTransformer</label><div class=\"sk-toggleable__content\"><pre>ColumnTransformer(transformers=[(&#x27;num&#x27;,\n",
              "                                 Pipeline(steps=[(&#x27;imputer&#x27;,\n",
              "                                                  SimpleImputer(strategy=&#x27;median&#x27;)),\n",
              "                                                 (&#x27;scaler&#x27;, StandardScaler())]),\n",
              "                                 [&#x27;car_rating&#x27;, &#x27;year_to_start&#x27;, &#x27;riders&#x27;,\n",
              "                                  &#x27;year_to_work&#x27;, &#x27;mean_rating&#x27;, &#x27;distance_sum&#x27;,\n",
              "                                  &#x27;rating_min&#x27;, &#x27;speed_max&#x27;,\n",
              "                                  &#x27;user_ride_quality_median&#x27;, &#x27;user_uniq&#x27;]),\n",
              "                                (&#x27;cat&#x27;,\n",
              "                                 Pipeline(steps=[(&#x27;encoder&#x27;,\n",
              "                                                  OneHotEncoder(handle_unknown=&#x27;ignore&#x27;))]),\n",
              "                                 [&#x27;model&#x27;, &#x27;car_type&#x27;, &#x27;fuel_type&#x27;])])</pre></div></div></div><div class=\"sk-parallel\"><div class=\"sk-parallel-item\"><div class=\"sk-item\"><div class=\"sk-label-container\"><div class=\"sk-label sk-toggleable\"><input class=\"sk-toggleable__control sk-hidden--visually\" id=\"sk-estimator-id-24\" type=\"checkbox\" ><label for=\"sk-estimator-id-24\" class=\"sk-toggleable__label sk-toggleable__label-arrow\">num</label><div class=\"sk-toggleable__content\"><pre>[&#x27;car_rating&#x27;, &#x27;year_to_start&#x27;, &#x27;riders&#x27;, &#x27;year_to_work&#x27;, &#x27;mean_rating&#x27;, &#x27;distance_sum&#x27;, &#x27;rating_min&#x27;, &#x27;speed_max&#x27;, &#x27;user_ride_quality_median&#x27;, &#x27;user_uniq&#x27;]</pre></div></div></div><div class=\"sk-serial\"><div class=\"sk-item\"><div class=\"sk-serial\"><div class=\"sk-item\"><div class=\"sk-estimator sk-toggleable\"><input class=\"sk-toggleable__control sk-hidden--visually\" id=\"sk-estimator-id-25\" type=\"checkbox\" ><label for=\"sk-estimator-id-25\" class=\"sk-toggleable__label sk-toggleable__label-arrow\">SimpleImputer</label><div class=\"sk-toggleable__content\"><pre>SimpleImputer(strategy=&#x27;median&#x27;)</pre></div></div></div><div class=\"sk-item\"><div class=\"sk-estimator sk-toggleable\"><input class=\"sk-toggleable__control sk-hidden--visually\" id=\"sk-estimator-id-26\" type=\"checkbox\" ><label for=\"sk-estimator-id-26\" class=\"sk-toggleable__label sk-toggleable__label-arrow\">StandardScaler</label><div class=\"sk-toggleable__content\"><pre>StandardScaler()</pre></div></div></div></div></div></div></div></div><div class=\"sk-parallel-item\"><div class=\"sk-item\"><div class=\"sk-label-container\"><div class=\"sk-label sk-toggleable\"><input class=\"sk-toggleable__control sk-hidden--visually\" id=\"sk-estimator-id-27\" type=\"checkbox\" ><label for=\"sk-estimator-id-27\" class=\"sk-toggleable__label sk-toggleable__label-arrow\">cat</label><div class=\"sk-toggleable__content\"><pre>[&#x27;model&#x27;, &#x27;car_type&#x27;, &#x27;fuel_type&#x27;]</pre></div></div></div><div class=\"sk-serial\"><div class=\"sk-item\"><div class=\"sk-serial\"><div class=\"sk-item\"><div class=\"sk-estimator sk-toggleable\"><input class=\"sk-toggleable__control sk-hidden--visually\" id=\"sk-estimator-id-28\" type=\"checkbox\" ><label for=\"sk-estimator-id-28\" class=\"sk-toggleable__label sk-toggleable__label-arrow\">OneHotEncoder</label><div class=\"sk-toggleable__content\"><pre>OneHotEncoder(handle_unknown=&#x27;ignore&#x27;)</pre></div></div></div></div></div></div></div></div></div></div><div class=\"sk-item\"><div class=\"sk-estimator sk-toggleable\"><input class=\"sk-toggleable__control sk-hidden--visually\" id=\"sk-estimator-id-29\" type=\"checkbox\" ><label for=\"sk-estimator-id-29\" class=\"sk-toggleable__label sk-toggleable__label-arrow\">XGBRegressor</label><div class=\"sk-toggleable__content\"><pre>XGBRegressor(alpha=3, base_score=None, booster=&#x27;dart&#x27;, callbacks=None,\n",
              "             colsample_bylevel=None, colsample_bynode=None,\n",
              "             colsample_bytree=0.7743052028681592, early_stopping_rounds=None,\n",
              "             enable_categorical=False, eta=0.24405403745440712,\n",
              "             eval_metric=&#x27;rmse&#x27;, feature_types=None,\n",
              "             gamma=1.8986366588526835e-05, gpu_id=None, grow_policy=&#x27;lossguide&#x27;,\n",
              "             importance_type=None, interaction_constraints=None, lambda=3,\n",
              "             learning_rate=None, max_bin=240, max_cat_threshold=None,\n",
              "             max_cat_to_onehot=None, max_delta_step=None, max_depth=3,\n",
              "             max_leaves=6, min_child_weight=11.679409524162446, missing=nan,\n",
              "             monotone_constraints=None, n_estimators=100, n_jobs=-1, ...)</pre></div></div></div></div></div></div></div></div><div class=\"sk-parallel-item\"><div class=\"sk-item\"><div class=\"sk-label-container\"><div class=\"sk-label sk-toggleable\"><input class=\"sk-toggleable__control sk-hidden--visually\" id=\"sk-estimator-id-30\" type=\"checkbox\" ><label for=\"sk-estimator-id-30\" class=\"sk-toggleable__label sk-toggleable__label-arrow\">transformer: StandardScaler</label><div class=\"sk-toggleable__content\"><pre>StandardScaler()</pre></div></div></div><div class=\"sk-serial\"><div class=\"sk-item\"><div class=\"sk-estimator sk-toggleable\"><input class=\"sk-toggleable__control sk-hidden--visually\" id=\"sk-estimator-id-31\" type=\"checkbox\" ><label for=\"sk-estimator-id-31\" class=\"sk-toggleable__label sk-toggleable__label-arrow\">StandardScaler</label><div class=\"sk-toggleable__content\"><pre>StandardScaler()</pre></div></div></div></div></div></div></div></div></div></div></div></div></div><div class=\"sk-item\"><div class=\"sk-parallel\"><div class=\"sk-parallel-item\"><div class=\"sk-item\"><div class=\"sk-label-container\"><div class=\"sk-label sk-toggleable\"><label>final_estimator</label></div></div><div class=\"sk-serial\"><div class=\"sk-item\"><div class=\"sk-estimator sk-toggleable\"><input class=\"sk-toggleable__control sk-hidden--visually\" id=\"sk-estimator-id-32\" type=\"checkbox\" ><label for=\"sk-estimator-id-32\" class=\"sk-toggleable__label sk-toggleable__label-arrow\">ElasticNet</label><div class=\"sk-toggleable__content\"><pre>ElasticNet(alpha=0.004, l1_ratio=0.23, max_iter=704)</pre></div></div></div></div></div></div></div></div></div></div></div></div>"
            ]
          },
          "metadata": {},
          "execution_count": 83
        }
      ]
    },
    {
      "cell_type": "code",
      "source": [
        "preds = stacking_regressor.predict(X_sub)\n",
        "df_sub_stacking = df_sub[['car_id',]]\n",
        "df_sub_stacking['target_reg'] = preds\n",
        "df_sub_stacking.to_csv('result_2.csv', index=False)"
      ],
      "metadata": {
        "id": "ududMUbt9AMY"
      },
      "execution_count": 84,
      "outputs": []
    },
    {
      "cell_type": "code",
      "source": [
        "end = time.time()\n",
        "all_time = (end - start) / 60\n",
        "all_time"
      ],
      "metadata": {
        "colab": {
          "base_uri": "https://localhost:8080/"
        },
        "id": "yBvHSr_lbVlh",
        "outputId": "85f393bf-b4ca-4148-e32e-077621f09ee6"
      },
      "execution_count": 85,
      "outputs": [
        {
          "output_type": "execute_result",
          "data": {
            "text/plain": [
              "15.846910178661346"
            ]
          },
          "metadata": {},
          "execution_count": 85
        }
      ]
    },
    {
      "cell_type": "markdown",
      "source": [
        "# Ансамбль"
      ],
      "metadata": {
        "id": "Bo0AwYYYPCx-"
      }
    },
    {
      "cell_type": "markdown",
      "source": [
        "Соберём ансамбль из блендинга и стекинга. И добавим к нему результат прогнозирования модели TabNet."
      ],
      "metadata": {
        "id": "Lk4mGwkJuZ7S"
      }
    },
    {
      "cell_type": "code",
      "source": [
        "df_tabnet = df_sub[['car_id', 'TabNet_target']]\n",
        "df_tabnet.rename(columns={'TabNet_target': 'target_reg'}, inplace=True)\n",
        "df_tabnet.to_csv('result_3.csv', index=False)"
      ],
      "metadata": {
        "id": "04pDKae4ulQe"
      },
      "execution_count": 86,
      "outputs": []
    },
    {
      "cell_type": "markdown",
      "source": [
        "Воспользуемся библиотекой Kaggle-Ensemble-Guide и усредним значения."
      ],
      "metadata": {
        "id": "wba2VgSyvHOc"
      }
    },
    {
      "cell_type": "code",
      "source": [
        "!git clone https://github.com/MLWave/Kaggle-Ensemble-Guide"
      ],
      "metadata": {
        "colab": {
          "base_uri": "https://localhost:8080/"
        },
        "id": "pjtny0fJQbh7",
        "outputId": "10cc9aa5-8e06-4978-ab0e-000dd5343d3b"
      },
      "execution_count": 87,
      "outputs": [
        {
          "output_type": "stream",
          "name": "stdout",
          "text": [
            "Cloning into 'Kaggle-Ensemble-Guide'...\n",
            "remote: Enumerating objects: 116, done.\u001b[K\n",
            "remote: Total 116 (delta 0), reused 0 (delta 0), pack-reused 116\u001b[K\n",
            "Receiving objects: 100% (116/116), 23.29 KiB | 2.91 MiB/s, done.\n",
            "Resolving deltas: 100% (53/53), done.\n"
          ]
        }
      ]
    },
    {
      "cell_type": "code",
      "source": [
        "!python /content/Kaggle-Ensemble-Guide/src/kaggle_avg.py \"/content/result_*.csv\" \"/content/all_avg-1.csv\" # \"weighted\""
      ],
      "metadata": {
        "colab": {
          "base_uri": "https://localhost:8080/"
        },
        "id": "zVFPegwfmocT",
        "outputId": "217ab875-31f3-4abd-f9b4-5262087c8e06"
      },
      "execution_count": 88,
      "outputs": [
        {
          "output_type": "stream",
          "name": "stdout",
          "text": [
            "parsing: /content/result_3.csv\n",
            "parsing: /content/result_1.csv\n",
            "parsing: /content/result_2.csv\n",
            "wrote to /content/all_avg-1.csv\n"
          ]
        }
      ]
    },
    {
      "cell_type": "markdown",
      "source": [
        "# Результаты и выводы.\n",
        "\n",
        "* Обучили несколько моделей. Многие модели не попали в окончательное решение. (MLPregressor, самописный MLPRegressor, GaussianProcessRegressor, TabNetRegressor, ...)\n",
        "* Для различных моделей были написаны\n",
        "* Для всех моделей использовался подбор гиперпараметров библиотекой optuna\n",
        "* Ни одна из моделей не давала требуемый результат"
      ],
      "metadata": {
        "id": "VwZnYn2AdNWa"
      }
    }
  ],
  "metadata": {
    "colab": {
      "provenance": [],
      "toc_visible": true,
      "authorship_tag": "ABX9TyONBGR1Fpi60i1MRsD/42M1",
      "include_colab_link": true
    },
    "kernelspec": {
      "display_name": "Python 3",
      "name": "python3"
    },
    "language_info": {
      "name": "python"
    },
    "widgets": {
      "application/vnd.jupyter.widget-state+json": {
        "d4a3c7e3e97845499067547bf8c2d13c": {
          "model_module": "@jupyter-widgets/controls",
          "model_name": "HBoxModel",
          "model_module_version": "1.5.0",
          "state": {
            "_dom_classes": [],
            "_model_module": "@jupyter-widgets/controls",
            "_model_module_version": "1.5.0",
            "_model_name": "HBoxModel",
            "_view_count": null,
            "_view_module": "@jupyter-widgets/controls",
            "_view_module_version": "1.5.0",
            "_view_name": "HBoxView",
            "box_style": "",
            "children": [
              "IPY_MODEL_b327d1b4a3e549ddb1ed47f890ca0520",
              "IPY_MODEL_c9fc27efa39545f8b8361aad7204c32c",
              "IPY_MODEL_9e057910ee114612aee61311ecfb5df6"
            ],
            "layout": "IPY_MODEL_d6d18a4dce94470dbacc5542589374e5"
          }
        },
        "b327d1b4a3e549ddb1ed47f890ca0520": {
          "model_module": "@jupyter-widgets/controls",
          "model_name": "HTMLModel",
          "model_module_version": "1.5.0",
          "state": {
            "_dom_classes": [],
            "_model_module": "@jupyter-widgets/controls",
            "_model_module_version": "1.5.0",
            "_model_name": "HTMLModel",
            "_view_count": null,
            "_view_module": "@jupyter-widgets/controls",
            "_view_module_version": "1.5.0",
            "_view_name": "HTMLView",
            "description": "",
            "description_tooltip": null,
            "layout": "IPY_MODEL_f84282ba693a4380838361fe6b7e1abf",
            "placeholder": "​",
            "style": "IPY_MODEL_c8a08323d36245f7b3d6851047fd64c7",
            "value": "Best trial: 4. Best value: 11.5108: 100%"
          }
        },
        "c9fc27efa39545f8b8361aad7204c32c": {
          "model_module": "@jupyter-widgets/controls",
          "model_name": "FloatProgressModel",
          "model_module_version": "1.5.0",
          "state": {
            "_dom_classes": [],
            "_model_module": "@jupyter-widgets/controls",
            "_model_module_version": "1.5.0",
            "_model_name": "FloatProgressModel",
            "_view_count": null,
            "_view_module": "@jupyter-widgets/controls",
            "_view_module_version": "1.5.0",
            "_view_name": "ProgressView",
            "bar_style": "success",
            "description": "",
            "description_tooltip": null,
            "layout": "IPY_MODEL_757f08453f50447b91c14badf4dbec92",
            "max": 30,
            "min": 0,
            "orientation": "horizontal",
            "style": "IPY_MODEL_fbdb69980cec4f3b8fdec4732f84c35b",
            "value": 30
          }
        },
        "9e057910ee114612aee61311ecfb5df6": {
          "model_module": "@jupyter-widgets/controls",
          "model_name": "HTMLModel",
          "model_module_version": "1.5.0",
          "state": {
            "_dom_classes": [],
            "_model_module": "@jupyter-widgets/controls",
            "_model_module_version": "1.5.0",
            "_model_name": "HTMLModel",
            "_view_count": null,
            "_view_module": "@jupyter-widgets/controls",
            "_view_module_version": "1.5.0",
            "_view_name": "HTMLView",
            "description": "",
            "description_tooltip": null,
            "layout": "IPY_MODEL_5c40ccfc140b494d98fb5cb6aba9b638",
            "placeholder": "​",
            "style": "IPY_MODEL_059177226ddc4eba96d73a7237983659",
            "value": " 30/30 [03:54&lt;00:00,  1.05s/it]"
          }
        },
        "d6d18a4dce94470dbacc5542589374e5": {
          "model_module": "@jupyter-widgets/base",
          "model_name": "LayoutModel",
          "model_module_version": "1.2.0",
          "state": {
            "_model_module": "@jupyter-widgets/base",
            "_model_module_version": "1.2.0",
            "_model_name": "LayoutModel",
            "_view_count": null,
            "_view_module": "@jupyter-widgets/base",
            "_view_module_version": "1.2.0",
            "_view_name": "LayoutView",
            "align_content": null,
            "align_items": null,
            "align_self": null,
            "border": null,
            "bottom": null,
            "display": null,
            "flex": null,
            "flex_flow": null,
            "grid_area": null,
            "grid_auto_columns": null,
            "grid_auto_flow": null,
            "grid_auto_rows": null,
            "grid_column": null,
            "grid_gap": null,
            "grid_row": null,
            "grid_template_areas": null,
            "grid_template_columns": null,
            "grid_template_rows": null,
            "height": null,
            "justify_content": null,
            "justify_items": null,
            "left": null,
            "margin": null,
            "max_height": null,
            "max_width": null,
            "min_height": null,
            "min_width": null,
            "object_fit": null,
            "object_position": null,
            "order": null,
            "overflow": null,
            "overflow_x": null,
            "overflow_y": null,
            "padding": null,
            "right": null,
            "top": null,
            "visibility": null,
            "width": null
          }
        },
        "f84282ba693a4380838361fe6b7e1abf": {
          "model_module": "@jupyter-widgets/base",
          "model_name": "LayoutModel",
          "model_module_version": "1.2.0",
          "state": {
            "_model_module": "@jupyter-widgets/base",
            "_model_module_version": "1.2.0",
            "_model_name": "LayoutModel",
            "_view_count": null,
            "_view_module": "@jupyter-widgets/base",
            "_view_module_version": "1.2.0",
            "_view_name": "LayoutView",
            "align_content": null,
            "align_items": null,
            "align_self": null,
            "border": null,
            "bottom": null,
            "display": null,
            "flex": null,
            "flex_flow": null,
            "grid_area": null,
            "grid_auto_columns": null,
            "grid_auto_flow": null,
            "grid_auto_rows": null,
            "grid_column": null,
            "grid_gap": null,
            "grid_row": null,
            "grid_template_areas": null,
            "grid_template_columns": null,
            "grid_template_rows": null,
            "height": null,
            "justify_content": null,
            "justify_items": null,
            "left": null,
            "margin": null,
            "max_height": null,
            "max_width": null,
            "min_height": null,
            "min_width": null,
            "object_fit": null,
            "object_position": null,
            "order": null,
            "overflow": null,
            "overflow_x": null,
            "overflow_y": null,
            "padding": null,
            "right": null,
            "top": null,
            "visibility": null,
            "width": null
          }
        },
        "c8a08323d36245f7b3d6851047fd64c7": {
          "model_module": "@jupyter-widgets/controls",
          "model_name": "DescriptionStyleModel",
          "model_module_version": "1.5.0",
          "state": {
            "_model_module": "@jupyter-widgets/controls",
            "_model_module_version": "1.5.0",
            "_model_name": "DescriptionStyleModel",
            "_view_count": null,
            "_view_module": "@jupyter-widgets/base",
            "_view_module_version": "1.2.0",
            "_view_name": "StyleView",
            "description_width": ""
          }
        },
        "757f08453f50447b91c14badf4dbec92": {
          "model_module": "@jupyter-widgets/base",
          "model_name": "LayoutModel",
          "model_module_version": "1.2.0",
          "state": {
            "_model_module": "@jupyter-widgets/base",
            "_model_module_version": "1.2.0",
            "_model_name": "LayoutModel",
            "_view_count": null,
            "_view_module": "@jupyter-widgets/base",
            "_view_module_version": "1.2.0",
            "_view_name": "LayoutView",
            "align_content": null,
            "align_items": null,
            "align_self": null,
            "border": null,
            "bottom": null,
            "display": null,
            "flex": null,
            "flex_flow": null,
            "grid_area": null,
            "grid_auto_columns": null,
            "grid_auto_flow": null,
            "grid_auto_rows": null,
            "grid_column": null,
            "grid_gap": null,
            "grid_row": null,
            "grid_template_areas": null,
            "grid_template_columns": null,
            "grid_template_rows": null,
            "height": null,
            "justify_content": null,
            "justify_items": null,
            "left": null,
            "margin": null,
            "max_height": null,
            "max_width": null,
            "min_height": null,
            "min_width": null,
            "object_fit": null,
            "object_position": null,
            "order": null,
            "overflow": null,
            "overflow_x": null,
            "overflow_y": null,
            "padding": null,
            "right": null,
            "top": null,
            "visibility": null,
            "width": null
          }
        },
        "fbdb69980cec4f3b8fdec4732f84c35b": {
          "model_module": "@jupyter-widgets/controls",
          "model_name": "ProgressStyleModel",
          "model_module_version": "1.5.0",
          "state": {
            "_model_module": "@jupyter-widgets/controls",
            "_model_module_version": "1.5.0",
            "_model_name": "ProgressStyleModel",
            "_view_count": null,
            "_view_module": "@jupyter-widgets/base",
            "_view_module_version": "1.2.0",
            "_view_name": "StyleView",
            "bar_color": null,
            "description_width": ""
          }
        },
        "5c40ccfc140b494d98fb5cb6aba9b638": {
          "model_module": "@jupyter-widgets/base",
          "model_name": "LayoutModel",
          "model_module_version": "1.2.0",
          "state": {
            "_model_module": "@jupyter-widgets/base",
            "_model_module_version": "1.2.0",
            "_model_name": "LayoutModel",
            "_view_count": null,
            "_view_module": "@jupyter-widgets/base",
            "_view_module_version": "1.2.0",
            "_view_name": "LayoutView",
            "align_content": null,
            "align_items": null,
            "align_self": null,
            "border": null,
            "bottom": null,
            "display": null,
            "flex": null,
            "flex_flow": null,
            "grid_area": null,
            "grid_auto_columns": null,
            "grid_auto_flow": null,
            "grid_auto_rows": null,
            "grid_column": null,
            "grid_gap": null,
            "grid_row": null,
            "grid_template_areas": null,
            "grid_template_columns": null,
            "grid_template_rows": null,
            "height": null,
            "justify_content": null,
            "justify_items": null,
            "left": null,
            "margin": null,
            "max_height": null,
            "max_width": null,
            "min_height": null,
            "min_width": null,
            "object_fit": null,
            "object_position": null,
            "order": null,
            "overflow": null,
            "overflow_x": null,
            "overflow_y": null,
            "padding": null,
            "right": null,
            "top": null,
            "visibility": null,
            "width": null
          }
        },
        "059177226ddc4eba96d73a7237983659": {
          "model_module": "@jupyter-widgets/controls",
          "model_name": "DescriptionStyleModel",
          "model_module_version": "1.5.0",
          "state": {
            "_model_module": "@jupyter-widgets/controls",
            "_model_module_version": "1.5.0",
            "_model_name": "DescriptionStyleModel",
            "_view_count": null,
            "_view_module": "@jupyter-widgets/base",
            "_view_module_version": "1.2.0",
            "_view_name": "StyleView",
            "description_width": ""
          }
        },
        "4207a9a0edf542c78105ee4fce993991": {
          "model_module": "@jupyter-widgets/controls",
          "model_name": "HBoxModel",
          "model_module_version": "1.5.0",
          "state": {
            "_dom_classes": [],
            "_model_module": "@jupyter-widgets/controls",
            "_model_module_version": "1.5.0",
            "_model_name": "HBoxModel",
            "_view_count": null,
            "_view_module": "@jupyter-widgets/controls",
            "_view_module_version": "1.5.0",
            "_view_name": "HBoxView",
            "box_style": "",
            "children": [
              "IPY_MODEL_aa3b6d50acc34116b794d3d299801c14",
              "IPY_MODEL_91a7953f4c71416694b7153d328bf845",
              "IPY_MODEL_86180a3bd783433caaf597893d38095f"
            ],
            "layout": "IPY_MODEL_954bebae1a034fd2ae308f673a955281"
          }
        },
        "aa3b6d50acc34116b794d3d299801c14": {
          "model_module": "@jupyter-widgets/controls",
          "model_name": "HTMLModel",
          "model_module_version": "1.5.0",
          "state": {
            "_dom_classes": [],
            "_model_module": "@jupyter-widgets/controls",
            "_model_module_version": "1.5.0",
            "_model_name": "HTMLModel",
            "_view_count": null,
            "_view_module": "@jupyter-widgets/controls",
            "_view_module_version": "1.5.0",
            "_view_name": "HTMLView",
            "description": "",
            "description_tooltip": null,
            "layout": "IPY_MODEL_ca756575dbb74b30b6da9b2e244a8996",
            "placeholder": "​",
            "style": "IPY_MODEL_d0a5f1c06fba42ea8d5b820141ddb984",
            "value": "Best trial: 23. Best value: 11.6544: 100%"
          }
        },
        "91a7953f4c71416694b7153d328bf845": {
          "model_module": "@jupyter-widgets/controls",
          "model_name": "FloatProgressModel",
          "model_module_version": "1.5.0",
          "state": {
            "_dom_classes": [],
            "_model_module": "@jupyter-widgets/controls",
            "_model_module_version": "1.5.0",
            "_model_name": "FloatProgressModel",
            "_view_count": null,
            "_view_module": "@jupyter-widgets/controls",
            "_view_module_version": "1.5.0",
            "_view_name": "ProgressView",
            "bar_style": "success",
            "description": "",
            "description_tooltip": null,
            "layout": "IPY_MODEL_4c329a80f18b4cfcb31d9b77d147725b",
            "max": 30,
            "min": 0,
            "orientation": "horizontal",
            "style": "IPY_MODEL_a9f1d83b7a2c4feca1266137a6053119",
            "value": 30
          }
        },
        "86180a3bd783433caaf597893d38095f": {
          "model_module": "@jupyter-widgets/controls",
          "model_name": "HTMLModel",
          "model_module_version": "1.5.0",
          "state": {
            "_dom_classes": [],
            "_model_module": "@jupyter-widgets/controls",
            "_model_module_version": "1.5.0",
            "_model_name": "HTMLModel",
            "_view_count": null,
            "_view_module": "@jupyter-widgets/controls",
            "_view_module_version": "1.5.0",
            "_view_name": "HTMLView",
            "description": "",
            "description_tooltip": null,
            "layout": "IPY_MODEL_7d72709e1736440c8b8090c666feac02",
            "placeholder": "​",
            "style": "IPY_MODEL_af1fa62f10784e25b1df4f698d58f34f",
            "value": " 30/30 [00:34&lt;00:00,  1.48s/it]"
          }
        },
        "954bebae1a034fd2ae308f673a955281": {
          "model_module": "@jupyter-widgets/base",
          "model_name": "LayoutModel",
          "model_module_version": "1.2.0",
          "state": {
            "_model_module": "@jupyter-widgets/base",
            "_model_module_version": "1.2.0",
            "_model_name": "LayoutModel",
            "_view_count": null,
            "_view_module": "@jupyter-widgets/base",
            "_view_module_version": "1.2.0",
            "_view_name": "LayoutView",
            "align_content": null,
            "align_items": null,
            "align_self": null,
            "border": null,
            "bottom": null,
            "display": null,
            "flex": null,
            "flex_flow": null,
            "grid_area": null,
            "grid_auto_columns": null,
            "grid_auto_flow": null,
            "grid_auto_rows": null,
            "grid_column": null,
            "grid_gap": null,
            "grid_row": null,
            "grid_template_areas": null,
            "grid_template_columns": null,
            "grid_template_rows": null,
            "height": null,
            "justify_content": null,
            "justify_items": null,
            "left": null,
            "margin": null,
            "max_height": null,
            "max_width": null,
            "min_height": null,
            "min_width": null,
            "object_fit": null,
            "object_position": null,
            "order": null,
            "overflow": null,
            "overflow_x": null,
            "overflow_y": null,
            "padding": null,
            "right": null,
            "top": null,
            "visibility": null,
            "width": null
          }
        },
        "ca756575dbb74b30b6da9b2e244a8996": {
          "model_module": "@jupyter-widgets/base",
          "model_name": "LayoutModel",
          "model_module_version": "1.2.0",
          "state": {
            "_model_module": "@jupyter-widgets/base",
            "_model_module_version": "1.2.0",
            "_model_name": "LayoutModel",
            "_view_count": null,
            "_view_module": "@jupyter-widgets/base",
            "_view_module_version": "1.2.0",
            "_view_name": "LayoutView",
            "align_content": null,
            "align_items": null,
            "align_self": null,
            "border": null,
            "bottom": null,
            "display": null,
            "flex": null,
            "flex_flow": null,
            "grid_area": null,
            "grid_auto_columns": null,
            "grid_auto_flow": null,
            "grid_auto_rows": null,
            "grid_column": null,
            "grid_gap": null,
            "grid_row": null,
            "grid_template_areas": null,
            "grid_template_columns": null,
            "grid_template_rows": null,
            "height": null,
            "justify_content": null,
            "justify_items": null,
            "left": null,
            "margin": null,
            "max_height": null,
            "max_width": null,
            "min_height": null,
            "min_width": null,
            "object_fit": null,
            "object_position": null,
            "order": null,
            "overflow": null,
            "overflow_x": null,
            "overflow_y": null,
            "padding": null,
            "right": null,
            "top": null,
            "visibility": null,
            "width": null
          }
        },
        "d0a5f1c06fba42ea8d5b820141ddb984": {
          "model_module": "@jupyter-widgets/controls",
          "model_name": "DescriptionStyleModel",
          "model_module_version": "1.5.0",
          "state": {
            "_model_module": "@jupyter-widgets/controls",
            "_model_module_version": "1.5.0",
            "_model_name": "DescriptionStyleModel",
            "_view_count": null,
            "_view_module": "@jupyter-widgets/base",
            "_view_module_version": "1.2.0",
            "_view_name": "StyleView",
            "description_width": ""
          }
        },
        "4c329a80f18b4cfcb31d9b77d147725b": {
          "model_module": "@jupyter-widgets/base",
          "model_name": "LayoutModel",
          "model_module_version": "1.2.0",
          "state": {
            "_model_module": "@jupyter-widgets/base",
            "_model_module_version": "1.2.0",
            "_model_name": "LayoutModel",
            "_view_count": null,
            "_view_module": "@jupyter-widgets/base",
            "_view_module_version": "1.2.0",
            "_view_name": "LayoutView",
            "align_content": null,
            "align_items": null,
            "align_self": null,
            "border": null,
            "bottom": null,
            "display": null,
            "flex": null,
            "flex_flow": null,
            "grid_area": null,
            "grid_auto_columns": null,
            "grid_auto_flow": null,
            "grid_auto_rows": null,
            "grid_column": null,
            "grid_gap": null,
            "grid_row": null,
            "grid_template_areas": null,
            "grid_template_columns": null,
            "grid_template_rows": null,
            "height": null,
            "justify_content": null,
            "justify_items": null,
            "left": null,
            "margin": null,
            "max_height": null,
            "max_width": null,
            "min_height": null,
            "min_width": null,
            "object_fit": null,
            "object_position": null,
            "order": null,
            "overflow": null,
            "overflow_x": null,
            "overflow_y": null,
            "padding": null,
            "right": null,
            "top": null,
            "visibility": null,
            "width": null
          }
        },
        "a9f1d83b7a2c4feca1266137a6053119": {
          "model_module": "@jupyter-widgets/controls",
          "model_name": "ProgressStyleModel",
          "model_module_version": "1.5.0",
          "state": {
            "_model_module": "@jupyter-widgets/controls",
            "_model_module_version": "1.5.0",
            "_model_name": "ProgressStyleModel",
            "_view_count": null,
            "_view_module": "@jupyter-widgets/base",
            "_view_module_version": "1.2.0",
            "_view_name": "StyleView",
            "bar_color": null,
            "description_width": ""
          }
        },
        "7d72709e1736440c8b8090c666feac02": {
          "model_module": "@jupyter-widgets/base",
          "model_name": "LayoutModel",
          "model_module_version": "1.2.0",
          "state": {
            "_model_module": "@jupyter-widgets/base",
            "_model_module_version": "1.2.0",
            "_model_name": "LayoutModel",
            "_view_count": null,
            "_view_module": "@jupyter-widgets/base",
            "_view_module_version": "1.2.0",
            "_view_name": "LayoutView",
            "align_content": null,
            "align_items": null,
            "align_self": null,
            "border": null,
            "bottom": null,
            "display": null,
            "flex": null,
            "flex_flow": null,
            "grid_area": null,
            "grid_auto_columns": null,
            "grid_auto_flow": null,
            "grid_auto_rows": null,
            "grid_column": null,
            "grid_gap": null,
            "grid_row": null,
            "grid_template_areas": null,
            "grid_template_columns": null,
            "grid_template_rows": null,
            "height": null,
            "justify_content": null,
            "justify_items": null,
            "left": null,
            "margin": null,
            "max_height": null,
            "max_width": null,
            "min_height": null,
            "min_width": null,
            "object_fit": null,
            "object_position": null,
            "order": null,
            "overflow": null,
            "overflow_x": null,
            "overflow_y": null,
            "padding": null,
            "right": null,
            "top": null,
            "visibility": null,
            "width": null
          }
        },
        "af1fa62f10784e25b1df4f698d58f34f": {
          "model_module": "@jupyter-widgets/controls",
          "model_name": "DescriptionStyleModel",
          "model_module_version": "1.5.0",
          "state": {
            "_model_module": "@jupyter-widgets/controls",
            "_model_module_version": "1.5.0",
            "_model_name": "DescriptionStyleModel",
            "_view_count": null,
            "_view_module": "@jupyter-widgets/base",
            "_view_module_version": "1.2.0",
            "_view_name": "StyleView",
            "description_width": ""
          }
        },
        "8e7b8a2a62c44fd09a2dcea10e6439e0": {
          "model_module": "@jupyter-widgets/controls",
          "model_name": "HBoxModel",
          "model_module_version": "1.5.0",
          "state": {
            "_dom_classes": [],
            "_model_module": "@jupyter-widgets/controls",
            "_model_module_version": "1.5.0",
            "_model_name": "HBoxModel",
            "_view_count": null,
            "_view_module": "@jupyter-widgets/controls",
            "_view_module_version": "1.5.0",
            "_view_name": "HBoxView",
            "box_style": "",
            "children": [
              "IPY_MODEL_5382a06f950c444da3dd3aa246fde868",
              "IPY_MODEL_d12d83a8d50a43c09bf3dd2d9aca0ec2",
              "IPY_MODEL_4940599dd93e45deaf720933251444c2"
            ],
            "layout": "IPY_MODEL_383eea7f2f59474b88de85c461365228"
          }
        },
        "5382a06f950c444da3dd3aa246fde868": {
          "model_module": "@jupyter-widgets/controls",
          "model_name": "HTMLModel",
          "model_module_version": "1.5.0",
          "state": {
            "_dom_classes": [],
            "_model_module": "@jupyter-widgets/controls",
            "_model_module_version": "1.5.0",
            "_model_name": "HTMLModel",
            "_view_count": null,
            "_view_module": "@jupyter-widgets/controls",
            "_view_module_version": "1.5.0",
            "_view_name": "HTMLView",
            "description": "",
            "description_tooltip": null,
            "layout": "IPY_MODEL_f0c208b6b4e64b07bfbf286ac97d0bdc",
            "placeholder": "​",
            "style": "IPY_MODEL_7389a2264d2f4254adc9558d141babf7",
            "value": "Best trial: 1. Best value: 12.3045: 100%"
          }
        },
        "d12d83a8d50a43c09bf3dd2d9aca0ec2": {
          "model_module": "@jupyter-widgets/controls",
          "model_name": "FloatProgressModel",
          "model_module_version": "1.5.0",
          "state": {
            "_dom_classes": [],
            "_model_module": "@jupyter-widgets/controls",
            "_model_module_version": "1.5.0",
            "_model_name": "FloatProgressModel",
            "_view_count": null,
            "_view_module": "@jupyter-widgets/controls",
            "_view_module_version": "1.5.0",
            "_view_name": "ProgressView",
            "bar_style": "success",
            "description": "",
            "description_tooltip": null,
            "layout": "IPY_MODEL_c284ddad2d844ff6a9b966bb9eac404c",
            "max": 5,
            "min": 0,
            "orientation": "horizontal",
            "style": "IPY_MODEL_2b492b65c8e64c6ba7b7021f7836f8e8",
            "value": 5
          }
        },
        "4940599dd93e45deaf720933251444c2": {
          "model_module": "@jupyter-widgets/controls",
          "model_name": "HTMLModel",
          "model_module_version": "1.5.0",
          "state": {
            "_dom_classes": [],
            "_model_module": "@jupyter-widgets/controls",
            "_model_module_version": "1.5.0",
            "_model_name": "HTMLModel",
            "_view_count": null,
            "_view_module": "@jupyter-widgets/controls",
            "_view_module_version": "1.5.0",
            "_view_name": "HTMLView",
            "description": "",
            "description_tooltip": null,
            "layout": "IPY_MODEL_4ef9854bf8654995ae1512e1c618d677",
            "placeholder": "​",
            "style": "IPY_MODEL_5c7510c9db424f759eb7a502cff7304e",
            "value": " 5/5 [03:58&lt;00:00, 42.76s/it]"
          }
        },
        "383eea7f2f59474b88de85c461365228": {
          "model_module": "@jupyter-widgets/base",
          "model_name": "LayoutModel",
          "model_module_version": "1.2.0",
          "state": {
            "_model_module": "@jupyter-widgets/base",
            "_model_module_version": "1.2.0",
            "_model_name": "LayoutModel",
            "_view_count": null,
            "_view_module": "@jupyter-widgets/base",
            "_view_module_version": "1.2.0",
            "_view_name": "LayoutView",
            "align_content": null,
            "align_items": null,
            "align_self": null,
            "border": null,
            "bottom": null,
            "display": null,
            "flex": null,
            "flex_flow": null,
            "grid_area": null,
            "grid_auto_columns": null,
            "grid_auto_flow": null,
            "grid_auto_rows": null,
            "grid_column": null,
            "grid_gap": null,
            "grid_row": null,
            "grid_template_areas": null,
            "grid_template_columns": null,
            "grid_template_rows": null,
            "height": null,
            "justify_content": null,
            "justify_items": null,
            "left": null,
            "margin": null,
            "max_height": null,
            "max_width": null,
            "min_height": null,
            "min_width": null,
            "object_fit": null,
            "object_position": null,
            "order": null,
            "overflow": null,
            "overflow_x": null,
            "overflow_y": null,
            "padding": null,
            "right": null,
            "top": null,
            "visibility": null,
            "width": null
          }
        },
        "f0c208b6b4e64b07bfbf286ac97d0bdc": {
          "model_module": "@jupyter-widgets/base",
          "model_name": "LayoutModel",
          "model_module_version": "1.2.0",
          "state": {
            "_model_module": "@jupyter-widgets/base",
            "_model_module_version": "1.2.0",
            "_model_name": "LayoutModel",
            "_view_count": null,
            "_view_module": "@jupyter-widgets/base",
            "_view_module_version": "1.2.0",
            "_view_name": "LayoutView",
            "align_content": null,
            "align_items": null,
            "align_self": null,
            "border": null,
            "bottom": null,
            "display": null,
            "flex": null,
            "flex_flow": null,
            "grid_area": null,
            "grid_auto_columns": null,
            "grid_auto_flow": null,
            "grid_auto_rows": null,
            "grid_column": null,
            "grid_gap": null,
            "grid_row": null,
            "grid_template_areas": null,
            "grid_template_columns": null,
            "grid_template_rows": null,
            "height": null,
            "justify_content": null,
            "justify_items": null,
            "left": null,
            "margin": null,
            "max_height": null,
            "max_width": null,
            "min_height": null,
            "min_width": null,
            "object_fit": null,
            "object_position": null,
            "order": null,
            "overflow": null,
            "overflow_x": null,
            "overflow_y": null,
            "padding": null,
            "right": null,
            "top": null,
            "visibility": null,
            "width": null
          }
        },
        "7389a2264d2f4254adc9558d141babf7": {
          "model_module": "@jupyter-widgets/controls",
          "model_name": "DescriptionStyleModel",
          "model_module_version": "1.5.0",
          "state": {
            "_model_module": "@jupyter-widgets/controls",
            "_model_module_version": "1.5.0",
            "_model_name": "DescriptionStyleModel",
            "_view_count": null,
            "_view_module": "@jupyter-widgets/base",
            "_view_module_version": "1.2.0",
            "_view_name": "StyleView",
            "description_width": ""
          }
        },
        "c284ddad2d844ff6a9b966bb9eac404c": {
          "model_module": "@jupyter-widgets/base",
          "model_name": "LayoutModel",
          "model_module_version": "1.2.0",
          "state": {
            "_model_module": "@jupyter-widgets/base",
            "_model_module_version": "1.2.0",
            "_model_name": "LayoutModel",
            "_view_count": null,
            "_view_module": "@jupyter-widgets/base",
            "_view_module_version": "1.2.0",
            "_view_name": "LayoutView",
            "align_content": null,
            "align_items": null,
            "align_self": null,
            "border": null,
            "bottom": null,
            "display": null,
            "flex": null,
            "flex_flow": null,
            "grid_area": null,
            "grid_auto_columns": null,
            "grid_auto_flow": null,
            "grid_auto_rows": null,
            "grid_column": null,
            "grid_gap": null,
            "grid_row": null,
            "grid_template_areas": null,
            "grid_template_columns": null,
            "grid_template_rows": null,
            "height": null,
            "justify_content": null,
            "justify_items": null,
            "left": null,
            "margin": null,
            "max_height": null,
            "max_width": null,
            "min_height": null,
            "min_width": null,
            "object_fit": null,
            "object_position": null,
            "order": null,
            "overflow": null,
            "overflow_x": null,
            "overflow_y": null,
            "padding": null,
            "right": null,
            "top": null,
            "visibility": null,
            "width": null
          }
        },
        "2b492b65c8e64c6ba7b7021f7836f8e8": {
          "model_module": "@jupyter-widgets/controls",
          "model_name": "ProgressStyleModel",
          "model_module_version": "1.5.0",
          "state": {
            "_model_module": "@jupyter-widgets/controls",
            "_model_module_version": "1.5.0",
            "_model_name": "ProgressStyleModel",
            "_view_count": null,
            "_view_module": "@jupyter-widgets/base",
            "_view_module_version": "1.2.0",
            "_view_name": "StyleView",
            "bar_color": null,
            "description_width": ""
          }
        },
        "4ef9854bf8654995ae1512e1c618d677": {
          "model_module": "@jupyter-widgets/base",
          "model_name": "LayoutModel",
          "model_module_version": "1.2.0",
          "state": {
            "_model_module": "@jupyter-widgets/base",
            "_model_module_version": "1.2.0",
            "_model_name": "LayoutModel",
            "_view_count": null,
            "_view_module": "@jupyter-widgets/base",
            "_view_module_version": "1.2.0",
            "_view_name": "LayoutView",
            "align_content": null,
            "align_items": null,
            "align_self": null,
            "border": null,
            "bottom": null,
            "display": null,
            "flex": null,
            "flex_flow": null,
            "grid_area": null,
            "grid_auto_columns": null,
            "grid_auto_flow": null,
            "grid_auto_rows": null,
            "grid_column": null,
            "grid_gap": null,
            "grid_row": null,
            "grid_template_areas": null,
            "grid_template_columns": null,
            "grid_template_rows": null,
            "height": null,
            "justify_content": null,
            "justify_items": null,
            "left": null,
            "margin": null,
            "max_height": null,
            "max_width": null,
            "min_height": null,
            "min_width": null,
            "object_fit": null,
            "object_position": null,
            "order": null,
            "overflow": null,
            "overflow_x": null,
            "overflow_y": null,
            "padding": null,
            "right": null,
            "top": null,
            "visibility": null,
            "width": null
          }
        },
        "5c7510c9db424f759eb7a502cff7304e": {
          "model_module": "@jupyter-widgets/controls",
          "model_name": "DescriptionStyleModel",
          "model_module_version": "1.5.0",
          "state": {
            "_model_module": "@jupyter-widgets/controls",
            "_model_module_version": "1.5.0",
            "_model_name": "DescriptionStyleModel",
            "_view_count": null,
            "_view_module": "@jupyter-widgets/base",
            "_view_module_version": "1.2.0",
            "_view_name": "StyleView",
            "description_width": ""
          }
        },
        "d1e1029fd55348c7b4700d1d90229e39": {
          "model_module": "@jupyter-widgets/controls",
          "model_name": "HBoxModel",
          "model_module_version": "1.5.0",
          "state": {
            "_dom_classes": [],
            "_model_module": "@jupyter-widgets/controls",
            "_model_module_version": "1.5.0",
            "_model_name": "HBoxModel",
            "_view_count": null,
            "_view_module": "@jupyter-widgets/controls",
            "_view_module_version": "1.5.0",
            "_view_name": "HBoxView",
            "box_style": "",
            "children": [
              "IPY_MODEL_8cd622467cf44dbfbfef2a2349f190fc",
              "IPY_MODEL_3e75acb991d84dd8ad72e55182d55b37",
              "IPY_MODEL_96bd64d21313433eb8649db7fe08ca13"
            ],
            "layout": "IPY_MODEL_4b0af322b24c45ecb43e9fbf24a2c4d7"
          }
        },
        "8cd622467cf44dbfbfef2a2349f190fc": {
          "model_module": "@jupyter-widgets/controls",
          "model_name": "HTMLModel",
          "model_module_version": "1.5.0",
          "state": {
            "_dom_classes": [],
            "_model_module": "@jupyter-widgets/controls",
            "_model_module_version": "1.5.0",
            "_model_name": "HTMLModel",
            "_view_count": null,
            "_view_module": "@jupyter-widgets/controls",
            "_view_module_version": "1.5.0",
            "_view_name": "HTMLView",
            "description": "",
            "description_tooltip": null,
            "layout": "IPY_MODEL_c93a8b2afb094ace9cfabaef199edf52",
            "placeholder": "​",
            "style": "IPY_MODEL_59b5e2b591b04ff8b6148497cd6db856",
            "value": "Best trial: 12. Best value: 14.8034: 100%"
          }
        },
        "3e75acb991d84dd8ad72e55182d55b37": {
          "model_module": "@jupyter-widgets/controls",
          "model_name": "FloatProgressModel",
          "model_module_version": "1.5.0",
          "state": {
            "_dom_classes": [],
            "_model_module": "@jupyter-widgets/controls",
            "_model_module_version": "1.5.0",
            "_model_name": "FloatProgressModel",
            "_view_count": null,
            "_view_module": "@jupyter-widgets/controls",
            "_view_module_version": "1.5.0",
            "_view_name": "ProgressView",
            "bar_style": "success",
            "description": "",
            "description_tooltip": null,
            "layout": "IPY_MODEL_4811a8b6875146ecb6b3cf045edb7779",
            "max": 30,
            "min": 0,
            "orientation": "horizontal",
            "style": "IPY_MODEL_8006027969224916bae0980b92a0c2b6",
            "value": 30
          }
        },
        "96bd64d21313433eb8649db7fe08ca13": {
          "model_module": "@jupyter-widgets/controls",
          "model_name": "HTMLModel",
          "model_module_version": "1.5.0",
          "state": {
            "_dom_classes": [],
            "_model_module": "@jupyter-widgets/controls",
            "_model_module_version": "1.5.0",
            "_model_name": "HTMLModel",
            "_view_count": null,
            "_view_module": "@jupyter-widgets/controls",
            "_view_module_version": "1.5.0",
            "_view_name": "HTMLView",
            "description": "",
            "description_tooltip": null,
            "layout": "IPY_MODEL_04f27994aa4449b0ae23030ac3d7fbd9",
            "placeholder": "​",
            "style": "IPY_MODEL_f87807940dd448ad84aff7b903ff861d",
            "value": " 30/30 [00:11&lt;00:00,  3.42it/s]"
          }
        },
        "4b0af322b24c45ecb43e9fbf24a2c4d7": {
          "model_module": "@jupyter-widgets/base",
          "model_name": "LayoutModel",
          "model_module_version": "1.2.0",
          "state": {
            "_model_module": "@jupyter-widgets/base",
            "_model_module_version": "1.2.0",
            "_model_name": "LayoutModel",
            "_view_count": null,
            "_view_module": "@jupyter-widgets/base",
            "_view_module_version": "1.2.0",
            "_view_name": "LayoutView",
            "align_content": null,
            "align_items": null,
            "align_self": null,
            "border": null,
            "bottom": null,
            "display": null,
            "flex": null,
            "flex_flow": null,
            "grid_area": null,
            "grid_auto_columns": null,
            "grid_auto_flow": null,
            "grid_auto_rows": null,
            "grid_column": null,
            "grid_gap": null,
            "grid_row": null,
            "grid_template_areas": null,
            "grid_template_columns": null,
            "grid_template_rows": null,
            "height": null,
            "justify_content": null,
            "justify_items": null,
            "left": null,
            "margin": null,
            "max_height": null,
            "max_width": null,
            "min_height": null,
            "min_width": null,
            "object_fit": null,
            "object_position": null,
            "order": null,
            "overflow": null,
            "overflow_x": null,
            "overflow_y": null,
            "padding": null,
            "right": null,
            "top": null,
            "visibility": null,
            "width": null
          }
        },
        "c93a8b2afb094ace9cfabaef199edf52": {
          "model_module": "@jupyter-widgets/base",
          "model_name": "LayoutModel",
          "model_module_version": "1.2.0",
          "state": {
            "_model_module": "@jupyter-widgets/base",
            "_model_module_version": "1.2.0",
            "_model_name": "LayoutModel",
            "_view_count": null,
            "_view_module": "@jupyter-widgets/base",
            "_view_module_version": "1.2.0",
            "_view_name": "LayoutView",
            "align_content": null,
            "align_items": null,
            "align_self": null,
            "border": null,
            "bottom": null,
            "display": null,
            "flex": null,
            "flex_flow": null,
            "grid_area": null,
            "grid_auto_columns": null,
            "grid_auto_flow": null,
            "grid_auto_rows": null,
            "grid_column": null,
            "grid_gap": null,
            "grid_row": null,
            "grid_template_areas": null,
            "grid_template_columns": null,
            "grid_template_rows": null,
            "height": null,
            "justify_content": null,
            "justify_items": null,
            "left": null,
            "margin": null,
            "max_height": null,
            "max_width": null,
            "min_height": null,
            "min_width": null,
            "object_fit": null,
            "object_position": null,
            "order": null,
            "overflow": null,
            "overflow_x": null,
            "overflow_y": null,
            "padding": null,
            "right": null,
            "top": null,
            "visibility": null,
            "width": null
          }
        },
        "59b5e2b591b04ff8b6148497cd6db856": {
          "model_module": "@jupyter-widgets/controls",
          "model_name": "DescriptionStyleModel",
          "model_module_version": "1.5.0",
          "state": {
            "_model_module": "@jupyter-widgets/controls",
            "_model_module_version": "1.5.0",
            "_model_name": "DescriptionStyleModel",
            "_view_count": null,
            "_view_module": "@jupyter-widgets/base",
            "_view_module_version": "1.2.0",
            "_view_name": "StyleView",
            "description_width": ""
          }
        },
        "4811a8b6875146ecb6b3cf045edb7779": {
          "model_module": "@jupyter-widgets/base",
          "model_name": "LayoutModel",
          "model_module_version": "1.2.0",
          "state": {
            "_model_module": "@jupyter-widgets/base",
            "_model_module_version": "1.2.0",
            "_model_name": "LayoutModel",
            "_view_count": null,
            "_view_module": "@jupyter-widgets/base",
            "_view_module_version": "1.2.0",
            "_view_name": "LayoutView",
            "align_content": null,
            "align_items": null,
            "align_self": null,
            "border": null,
            "bottom": null,
            "display": null,
            "flex": null,
            "flex_flow": null,
            "grid_area": null,
            "grid_auto_columns": null,
            "grid_auto_flow": null,
            "grid_auto_rows": null,
            "grid_column": null,
            "grid_gap": null,
            "grid_row": null,
            "grid_template_areas": null,
            "grid_template_columns": null,
            "grid_template_rows": null,
            "height": null,
            "justify_content": null,
            "justify_items": null,
            "left": null,
            "margin": null,
            "max_height": null,
            "max_width": null,
            "min_height": null,
            "min_width": null,
            "object_fit": null,
            "object_position": null,
            "order": null,
            "overflow": null,
            "overflow_x": null,
            "overflow_y": null,
            "padding": null,
            "right": null,
            "top": null,
            "visibility": null,
            "width": null
          }
        },
        "8006027969224916bae0980b92a0c2b6": {
          "model_module": "@jupyter-widgets/controls",
          "model_name": "ProgressStyleModel",
          "model_module_version": "1.5.0",
          "state": {
            "_model_module": "@jupyter-widgets/controls",
            "_model_module_version": "1.5.0",
            "_model_name": "ProgressStyleModel",
            "_view_count": null,
            "_view_module": "@jupyter-widgets/base",
            "_view_module_version": "1.2.0",
            "_view_name": "StyleView",
            "bar_color": null,
            "description_width": ""
          }
        },
        "04f27994aa4449b0ae23030ac3d7fbd9": {
          "model_module": "@jupyter-widgets/base",
          "model_name": "LayoutModel",
          "model_module_version": "1.2.0",
          "state": {
            "_model_module": "@jupyter-widgets/base",
            "_model_module_version": "1.2.0",
            "_model_name": "LayoutModel",
            "_view_count": null,
            "_view_module": "@jupyter-widgets/base",
            "_view_module_version": "1.2.0",
            "_view_name": "LayoutView",
            "align_content": null,
            "align_items": null,
            "align_self": null,
            "border": null,
            "bottom": null,
            "display": null,
            "flex": null,
            "flex_flow": null,
            "grid_area": null,
            "grid_auto_columns": null,
            "grid_auto_flow": null,
            "grid_auto_rows": null,
            "grid_column": null,
            "grid_gap": null,
            "grid_row": null,
            "grid_template_areas": null,
            "grid_template_columns": null,
            "grid_template_rows": null,
            "height": null,
            "justify_content": null,
            "justify_items": null,
            "left": null,
            "margin": null,
            "max_height": null,
            "max_width": null,
            "min_height": null,
            "min_width": null,
            "object_fit": null,
            "object_position": null,
            "order": null,
            "overflow": null,
            "overflow_x": null,
            "overflow_y": null,
            "padding": null,
            "right": null,
            "top": null,
            "visibility": null,
            "width": null
          }
        },
        "f87807940dd448ad84aff7b903ff861d": {
          "model_module": "@jupyter-widgets/controls",
          "model_name": "DescriptionStyleModel",
          "model_module_version": "1.5.0",
          "state": {
            "_model_module": "@jupyter-widgets/controls",
            "_model_module_version": "1.5.0",
            "_model_name": "DescriptionStyleModel",
            "_view_count": null,
            "_view_module": "@jupyter-widgets/base",
            "_view_module_version": "1.2.0",
            "_view_name": "StyleView",
            "description_width": ""
          }
        },
        "1525296cd7714f3cbe4e9a7ff530c051": {
          "model_module": "@jupyter-widgets/controls",
          "model_name": "HBoxModel",
          "model_module_version": "1.5.0",
          "state": {
            "_dom_classes": [],
            "_model_module": "@jupyter-widgets/controls",
            "_model_module_version": "1.5.0",
            "_model_name": "HBoxModel",
            "_view_count": null,
            "_view_module": "@jupyter-widgets/controls",
            "_view_module_version": "1.5.0",
            "_view_name": "HBoxView",
            "box_style": "",
            "children": [
              "IPY_MODEL_6509daefa6384161a4522a23306e30d5",
              "IPY_MODEL_d0a61a2cec0c4b0197c951beafa3e963",
              "IPY_MODEL_c004b4d1b16d4a61935462703313b57a"
            ],
            "layout": "IPY_MODEL_700b65707ca3490d9170be87fe01cb96"
          }
        },
        "6509daefa6384161a4522a23306e30d5": {
          "model_module": "@jupyter-widgets/controls",
          "model_name": "HTMLModel",
          "model_module_version": "1.5.0",
          "state": {
            "_dom_classes": [],
            "_model_module": "@jupyter-widgets/controls",
            "_model_module_version": "1.5.0",
            "_model_name": "HTMLModel",
            "_view_count": null,
            "_view_module": "@jupyter-widgets/controls",
            "_view_module_version": "1.5.0",
            "_view_name": "HTMLView",
            "description": "",
            "description_tooltip": null,
            "layout": "IPY_MODEL_1fc7ac34060b49c2a2995c0a28b08d4f",
            "placeholder": "​",
            "style": "IPY_MODEL_e1378b1ca48a426286ea9014ecbf9baf",
            "value": "Best trial: 11. Best value: 14.549: 100%"
          }
        },
        "d0a61a2cec0c4b0197c951beafa3e963": {
          "model_module": "@jupyter-widgets/controls",
          "model_name": "FloatProgressModel",
          "model_module_version": "1.5.0",
          "state": {
            "_dom_classes": [],
            "_model_module": "@jupyter-widgets/controls",
            "_model_module_version": "1.5.0",
            "_model_name": "FloatProgressModel",
            "_view_count": null,
            "_view_module": "@jupyter-widgets/controls",
            "_view_module_version": "1.5.0",
            "_view_name": "ProgressView",
            "bar_style": "success",
            "description": "",
            "description_tooltip": null,
            "layout": "IPY_MODEL_b105b921d03448b6a7d28e9af38050da",
            "max": 30,
            "min": 0,
            "orientation": "horizontal",
            "style": "IPY_MODEL_1f6289e2bee344118b7c70c69f0898fb",
            "value": 30
          }
        },
        "c004b4d1b16d4a61935462703313b57a": {
          "model_module": "@jupyter-widgets/controls",
          "model_name": "HTMLModel",
          "model_module_version": "1.5.0",
          "state": {
            "_dom_classes": [],
            "_model_module": "@jupyter-widgets/controls",
            "_model_module_version": "1.5.0",
            "_model_name": "HTMLModel",
            "_view_count": null,
            "_view_module": "@jupyter-widgets/controls",
            "_view_module_version": "1.5.0",
            "_view_name": "HTMLView",
            "description": "",
            "description_tooltip": null,
            "layout": "IPY_MODEL_9bc97791c5a947719039ae39ea3f6d1e",
            "placeholder": "​",
            "style": "IPY_MODEL_5e1b6885176f4b0f99a3fcce19a508e2",
            "value": " 30/30 [00:06&lt;00:00,  4.73it/s]"
          }
        },
        "700b65707ca3490d9170be87fe01cb96": {
          "model_module": "@jupyter-widgets/base",
          "model_name": "LayoutModel",
          "model_module_version": "1.2.0",
          "state": {
            "_model_module": "@jupyter-widgets/base",
            "_model_module_version": "1.2.0",
            "_model_name": "LayoutModel",
            "_view_count": null,
            "_view_module": "@jupyter-widgets/base",
            "_view_module_version": "1.2.0",
            "_view_name": "LayoutView",
            "align_content": null,
            "align_items": null,
            "align_self": null,
            "border": null,
            "bottom": null,
            "display": null,
            "flex": null,
            "flex_flow": null,
            "grid_area": null,
            "grid_auto_columns": null,
            "grid_auto_flow": null,
            "grid_auto_rows": null,
            "grid_column": null,
            "grid_gap": null,
            "grid_row": null,
            "grid_template_areas": null,
            "grid_template_columns": null,
            "grid_template_rows": null,
            "height": null,
            "justify_content": null,
            "justify_items": null,
            "left": null,
            "margin": null,
            "max_height": null,
            "max_width": null,
            "min_height": null,
            "min_width": null,
            "object_fit": null,
            "object_position": null,
            "order": null,
            "overflow": null,
            "overflow_x": null,
            "overflow_y": null,
            "padding": null,
            "right": null,
            "top": null,
            "visibility": null,
            "width": null
          }
        },
        "1fc7ac34060b49c2a2995c0a28b08d4f": {
          "model_module": "@jupyter-widgets/base",
          "model_name": "LayoutModel",
          "model_module_version": "1.2.0",
          "state": {
            "_model_module": "@jupyter-widgets/base",
            "_model_module_version": "1.2.0",
            "_model_name": "LayoutModel",
            "_view_count": null,
            "_view_module": "@jupyter-widgets/base",
            "_view_module_version": "1.2.0",
            "_view_name": "LayoutView",
            "align_content": null,
            "align_items": null,
            "align_self": null,
            "border": null,
            "bottom": null,
            "display": null,
            "flex": null,
            "flex_flow": null,
            "grid_area": null,
            "grid_auto_columns": null,
            "grid_auto_flow": null,
            "grid_auto_rows": null,
            "grid_column": null,
            "grid_gap": null,
            "grid_row": null,
            "grid_template_areas": null,
            "grid_template_columns": null,
            "grid_template_rows": null,
            "height": null,
            "justify_content": null,
            "justify_items": null,
            "left": null,
            "margin": null,
            "max_height": null,
            "max_width": null,
            "min_height": null,
            "min_width": null,
            "object_fit": null,
            "object_position": null,
            "order": null,
            "overflow": null,
            "overflow_x": null,
            "overflow_y": null,
            "padding": null,
            "right": null,
            "top": null,
            "visibility": null,
            "width": null
          }
        },
        "e1378b1ca48a426286ea9014ecbf9baf": {
          "model_module": "@jupyter-widgets/controls",
          "model_name": "DescriptionStyleModel",
          "model_module_version": "1.5.0",
          "state": {
            "_model_module": "@jupyter-widgets/controls",
            "_model_module_version": "1.5.0",
            "_model_name": "DescriptionStyleModel",
            "_view_count": null,
            "_view_module": "@jupyter-widgets/base",
            "_view_module_version": "1.2.0",
            "_view_name": "StyleView",
            "description_width": ""
          }
        },
        "b105b921d03448b6a7d28e9af38050da": {
          "model_module": "@jupyter-widgets/base",
          "model_name": "LayoutModel",
          "model_module_version": "1.2.0",
          "state": {
            "_model_module": "@jupyter-widgets/base",
            "_model_module_version": "1.2.0",
            "_model_name": "LayoutModel",
            "_view_count": null,
            "_view_module": "@jupyter-widgets/base",
            "_view_module_version": "1.2.0",
            "_view_name": "LayoutView",
            "align_content": null,
            "align_items": null,
            "align_self": null,
            "border": null,
            "bottom": null,
            "display": null,
            "flex": null,
            "flex_flow": null,
            "grid_area": null,
            "grid_auto_columns": null,
            "grid_auto_flow": null,
            "grid_auto_rows": null,
            "grid_column": null,
            "grid_gap": null,
            "grid_row": null,
            "grid_template_areas": null,
            "grid_template_columns": null,
            "grid_template_rows": null,
            "height": null,
            "justify_content": null,
            "justify_items": null,
            "left": null,
            "margin": null,
            "max_height": null,
            "max_width": null,
            "min_height": null,
            "min_width": null,
            "object_fit": null,
            "object_position": null,
            "order": null,
            "overflow": null,
            "overflow_x": null,
            "overflow_y": null,
            "padding": null,
            "right": null,
            "top": null,
            "visibility": null,
            "width": null
          }
        },
        "1f6289e2bee344118b7c70c69f0898fb": {
          "model_module": "@jupyter-widgets/controls",
          "model_name": "ProgressStyleModel",
          "model_module_version": "1.5.0",
          "state": {
            "_model_module": "@jupyter-widgets/controls",
            "_model_module_version": "1.5.0",
            "_model_name": "ProgressStyleModel",
            "_view_count": null,
            "_view_module": "@jupyter-widgets/base",
            "_view_module_version": "1.2.0",
            "_view_name": "StyleView",
            "bar_color": null,
            "description_width": ""
          }
        },
        "9bc97791c5a947719039ae39ea3f6d1e": {
          "model_module": "@jupyter-widgets/base",
          "model_name": "LayoutModel",
          "model_module_version": "1.2.0",
          "state": {
            "_model_module": "@jupyter-widgets/base",
            "_model_module_version": "1.2.0",
            "_model_name": "LayoutModel",
            "_view_count": null,
            "_view_module": "@jupyter-widgets/base",
            "_view_module_version": "1.2.0",
            "_view_name": "LayoutView",
            "align_content": null,
            "align_items": null,
            "align_self": null,
            "border": null,
            "bottom": null,
            "display": null,
            "flex": null,
            "flex_flow": null,
            "grid_area": null,
            "grid_auto_columns": null,
            "grid_auto_flow": null,
            "grid_auto_rows": null,
            "grid_column": null,
            "grid_gap": null,
            "grid_row": null,
            "grid_template_areas": null,
            "grid_template_columns": null,
            "grid_template_rows": null,
            "height": null,
            "justify_content": null,
            "justify_items": null,
            "left": null,
            "margin": null,
            "max_height": null,
            "max_width": null,
            "min_height": null,
            "min_width": null,
            "object_fit": null,
            "object_position": null,
            "order": null,
            "overflow": null,
            "overflow_x": null,
            "overflow_y": null,
            "padding": null,
            "right": null,
            "top": null,
            "visibility": null,
            "width": null
          }
        },
        "5e1b6885176f4b0f99a3fcce19a508e2": {
          "model_module": "@jupyter-widgets/controls",
          "model_name": "DescriptionStyleModel",
          "model_module_version": "1.5.0",
          "state": {
            "_model_module": "@jupyter-widgets/controls",
            "_model_module_version": "1.5.0",
            "_model_name": "DescriptionStyleModel",
            "_view_count": null,
            "_view_module": "@jupyter-widgets/base",
            "_view_module_version": "1.2.0",
            "_view_name": "StyleView",
            "description_width": ""
          }
        },
        "3abd4fbcc0364d8f86ff9ce7d2dd2bcd": {
          "model_module": "@jupyter-widgets/controls",
          "model_name": "HBoxModel",
          "model_module_version": "1.5.0",
          "state": {
            "_dom_classes": [],
            "_model_module": "@jupyter-widgets/controls",
            "_model_module_version": "1.5.0",
            "_model_name": "HBoxModel",
            "_view_count": null,
            "_view_module": "@jupyter-widgets/controls",
            "_view_module_version": "1.5.0",
            "_view_name": "HBoxView",
            "box_style": "",
            "children": [
              "IPY_MODEL_7c2b784324d643668940f410c6dfba2c",
              "IPY_MODEL_8c3d33df5f624d199adb9cdd3a885ee6",
              "IPY_MODEL_ddecfd45e93c490b807c5b73853eb2d0"
            ],
            "layout": "IPY_MODEL_a5fbbfd662a4486fa1eae8b5a54c3391"
          }
        },
        "7c2b784324d643668940f410c6dfba2c": {
          "model_module": "@jupyter-widgets/controls",
          "model_name": "HTMLModel",
          "model_module_version": "1.5.0",
          "state": {
            "_dom_classes": [],
            "_model_module": "@jupyter-widgets/controls",
            "_model_module_version": "1.5.0",
            "_model_name": "HTMLModel",
            "_view_count": null,
            "_view_module": "@jupyter-widgets/controls",
            "_view_module_version": "1.5.0",
            "_view_name": "HTMLView",
            "description": "",
            "description_tooltip": null,
            "layout": "IPY_MODEL_c3697b304eb044f2bae607c73f89c98b",
            "placeholder": "​",
            "style": "IPY_MODEL_a9272916855445fd81fa593806aa86c0",
            "value": "Best trial: 15. Best value: 11.6612: 100%"
          }
        },
        "8c3d33df5f624d199adb9cdd3a885ee6": {
          "model_module": "@jupyter-widgets/controls",
          "model_name": "FloatProgressModel",
          "model_module_version": "1.5.0",
          "state": {
            "_dom_classes": [],
            "_model_module": "@jupyter-widgets/controls",
            "_model_module_version": "1.5.0",
            "_model_name": "FloatProgressModel",
            "_view_count": null,
            "_view_module": "@jupyter-widgets/controls",
            "_view_module_version": "1.5.0",
            "_view_name": "ProgressView",
            "bar_style": "success",
            "description": "",
            "description_tooltip": null,
            "layout": "IPY_MODEL_ba235ac7d0df4d719b791a3ccc628fc7",
            "max": 30,
            "min": 0,
            "orientation": "horizontal",
            "style": "IPY_MODEL_2a4951603ae84c16b0eb797393a2277b",
            "value": 30
          }
        },
        "ddecfd45e93c490b807c5b73853eb2d0": {
          "model_module": "@jupyter-widgets/controls",
          "model_name": "HTMLModel",
          "model_module_version": "1.5.0",
          "state": {
            "_dom_classes": [],
            "_model_module": "@jupyter-widgets/controls",
            "_model_module_version": "1.5.0",
            "_model_name": "HTMLModel",
            "_view_count": null,
            "_view_module": "@jupyter-widgets/controls",
            "_view_module_version": "1.5.0",
            "_view_name": "HTMLView",
            "description": "",
            "description_tooltip": null,
            "layout": "IPY_MODEL_503e9b277eeb40f0ab9d7896183eb20c",
            "placeholder": "​",
            "style": "IPY_MODEL_e8a627e8fbcf475881325fc2c19ea62d",
            "value": " 30/30 [00:17&lt;00:00,  1.43it/s]"
          }
        },
        "a5fbbfd662a4486fa1eae8b5a54c3391": {
          "model_module": "@jupyter-widgets/base",
          "model_name": "LayoutModel",
          "model_module_version": "1.2.0",
          "state": {
            "_model_module": "@jupyter-widgets/base",
            "_model_module_version": "1.2.0",
            "_model_name": "LayoutModel",
            "_view_count": null,
            "_view_module": "@jupyter-widgets/base",
            "_view_module_version": "1.2.0",
            "_view_name": "LayoutView",
            "align_content": null,
            "align_items": null,
            "align_self": null,
            "border": null,
            "bottom": null,
            "display": null,
            "flex": null,
            "flex_flow": null,
            "grid_area": null,
            "grid_auto_columns": null,
            "grid_auto_flow": null,
            "grid_auto_rows": null,
            "grid_column": null,
            "grid_gap": null,
            "grid_row": null,
            "grid_template_areas": null,
            "grid_template_columns": null,
            "grid_template_rows": null,
            "height": null,
            "justify_content": null,
            "justify_items": null,
            "left": null,
            "margin": null,
            "max_height": null,
            "max_width": null,
            "min_height": null,
            "min_width": null,
            "object_fit": null,
            "object_position": null,
            "order": null,
            "overflow": null,
            "overflow_x": null,
            "overflow_y": null,
            "padding": null,
            "right": null,
            "top": null,
            "visibility": null,
            "width": null
          }
        },
        "c3697b304eb044f2bae607c73f89c98b": {
          "model_module": "@jupyter-widgets/base",
          "model_name": "LayoutModel",
          "model_module_version": "1.2.0",
          "state": {
            "_model_module": "@jupyter-widgets/base",
            "_model_module_version": "1.2.0",
            "_model_name": "LayoutModel",
            "_view_count": null,
            "_view_module": "@jupyter-widgets/base",
            "_view_module_version": "1.2.0",
            "_view_name": "LayoutView",
            "align_content": null,
            "align_items": null,
            "align_self": null,
            "border": null,
            "bottom": null,
            "display": null,
            "flex": null,
            "flex_flow": null,
            "grid_area": null,
            "grid_auto_columns": null,
            "grid_auto_flow": null,
            "grid_auto_rows": null,
            "grid_column": null,
            "grid_gap": null,
            "grid_row": null,
            "grid_template_areas": null,
            "grid_template_columns": null,
            "grid_template_rows": null,
            "height": null,
            "justify_content": null,
            "justify_items": null,
            "left": null,
            "margin": null,
            "max_height": null,
            "max_width": null,
            "min_height": null,
            "min_width": null,
            "object_fit": null,
            "object_position": null,
            "order": null,
            "overflow": null,
            "overflow_x": null,
            "overflow_y": null,
            "padding": null,
            "right": null,
            "top": null,
            "visibility": null,
            "width": null
          }
        },
        "a9272916855445fd81fa593806aa86c0": {
          "model_module": "@jupyter-widgets/controls",
          "model_name": "DescriptionStyleModel",
          "model_module_version": "1.5.0",
          "state": {
            "_model_module": "@jupyter-widgets/controls",
            "_model_module_version": "1.5.0",
            "_model_name": "DescriptionStyleModel",
            "_view_count": null,
            "_view_module": "@jupyter-widgets/base",
            "_view_module_version": "1.2.0",
            "_view_name": "StyleView",
            "description_width": ""
          }
        },
        "ba235ac7d0df4d719b791a3ccc628fc7": {
          "model_module": "@jupyter-widgets/base",
          "model_name": "LayoutModel",
          "model_module_version": "1.2.0",
          "state": {
            "_model_module": "@jupyter-widgets/base",
            "_model_module_version": "1.2.0",
            "_model_name": "LayoutModel",
            "_view_count": null,
            "_view_module": "@jupyter-widgets/base",
            "_view_module_version": "1.2.0",
            "_view_name": "LayoutView",
            "align_content": null,
            "align_items": null,
            "align_self": null,
            "border": null,
            "bottom": null,
            "display": null,
            "flex": null,
            "flex_flow": null,
            "grid_area": null,
            "grid_auto_columns": null,
            "grid_auto_flow": null,
            "grid_auto_rows": null,
            "grid_column": null,
            "grid_gap": null,
            "grid_row": null,
            "grid_template_areas": null,
            "grid_template_columns": null,
            "grid_template_rows": null,
            "height": null,
            "justify_content": null,
            "justify_items": null,
            "left": null,
            "margin": null,
            "max_height": null,
            "max_width": null,
            "min_height": null,
            "min_width": null,
            "object_fit": null,
            "object_position": null,
            "order": null,
            "overflow": null,
            "overflow_x": null,
            "overflow_y": null,
            "padding": null,
            "right": null,
            "top": null,
            "visibility": null,
            "width": null
          }
        },
        "2a4951603ae84c16b0eb797393a2277b": {
          "model_module": "@jupyter-widgets/controls",
          "model_name": "ProgressStyleModel",
          "model_module_version": "1.5.0",
          "state": {
            "_model_module": "@jupyter-widgets/controls",
            "_model_module_version": "1.5.0",
            "_model_name": "ProgressStyleModel",
            "_view_count": null,
            "_view_module": "@jupyter-widgets/base",
            "_view_module_version": "1.2.0",
            "_view_name": "StyleView",
            "bar_color": null,
            "description_width": ""
          }
        },
        "503e9b277eeb40f0ab9d7896183eb20c": {
          "model_module": "@jupyter-widgets/base",
          "model_name": "LayoutModel",
          "model_module_version": "1.2.0",
          "state": {
            "_model_module": "@jupyter-widgets/base",
            "_model_module_version": "1.2.0",
            "_model_name": "LayoutModel",
            "_view_count": null,
            "_view_module": "@jupyter-widgets/base",
            "_view_module_version": "1.2.0",
            "_view_name": "LayoutView",
            "align_content": null,
            "align_items": null,
            "align_self": null,
            "border": null,
            "bottom": null,
            "display": null,
            "flex": null,
            "flex_flow": null,
            "grid_area": null,
            "grid_auto_columns": null,
            "grid_auto_flow": null,
            "grid_auto_rows": null,
            "grid_column": null,
            "grid_gap": null,
            "grid_row": null,
            "grid_template_areas": null,
            "grid_template_columns": null,
            "grid_template_rows": null,
            "height": null,
            "justify_content": null,
            "justify_items": null,
            "left": null,
            "margin": null,
            "max_height": null,
            "max_width": null,
            "min_height": null,
            "min_width": null,
            "object_fit": null,
            "object_position": null,
            "order": null,
            "overflow": null,
            "overflow_x": null,
            "overflow_y": null,
            "padding": null,
            "right": null,
            "top": null,
            "visibility": null,
            "width": null
          }
        },
        "e8a627e8fbcf475881325fc2c19ea62d": {
          "model_module": "@jupyter-widgets/controls",
          "model_name": "DescriptionStyleModel",
          "model_module_version": "1.5.0",
          "state": {
            "_model_module": "@jupyter-widgets/controls",
            "_model_module_version": "1.5.0",
            "_model_name": "DescriptionStyleModel",
            "_view_count": null,
            "_view_module": "@jupyter-widgets/base",
            "_view_module_version": "1.2.0",
            "_view_name": "StyleView",
            "description_width": ""
          }
        },
        "0abdc6c73e654886b222bede9f106a94": {
          "model_module": "@jupyter-widgets/controls",
          "model_name": "HBoxModel",
          "model_module_version": "1.5.0",
          "state": {
            "_dom_classes": [],
            "_model_module": "@jupyter-widgets/controls",
            "_model_module_version": "1.5.0",
            "_model_name": "HBoxModel",
            "_view_count": null,
            "_view_module": "@jupyter-widgets/controls",
            "_view_module_version": "1.5.0",
            "_view_name": "HBoxView",
            "box_style": "",
            "children": [
              "IPY_MODEL_5736db846b9c416d8d3374ce0a903c57",
              "IPY_MODEL_871f2a3d5ac04b808875d23e6c6b63fc",
              "IPY_MODEL_0b662af6ad9a4d369328b2480ed88d6c"
            ],
            "layout": "IPY_MODEL_66c300917d954527938c1520ec6ac644"
          }
        },
        "5736db846b9c416d8d3374ce0a903c57": {
          "model_module": "@jupyter-widgets/controls",
          "model_name": "HTMLModel",
          "model_module_version": "1.5.0",
          "state": {
            "_dom_classes": [],
            "_model_module": "@jupyter-widgets/controls",
            "_model_module_version": "1.5.0",
            "_model_name": "HTMLModel",
            "_view_count": null,
            "_view_module": "@jupyter-widgets/controls",
            "_view_module_version": "1.5.0",
            "_view_name": "HTMLView",
            "description": "",
            "description_tooltip": null,
            "layout": "IPY_MODEL_289b5bb6102741a2afd983f3dc06d836",
            "placeholder": "​",
            "style": "IPY_MODEL_5539ae015cc74ed08d5e38a12ebff55d",
            "value": "Best trial: 18. Best value: 11.7211: 100%"
          }
        },
        "871f2a3d5ac04b808875d23e6c6b63fc": {
          "model_module": "@jupyter-widgets/controls",
          "model_name": "FloatProgressModel",
          "model_module_version": "1.5.0",
          "state": {
            "_dom_classes": [],
            "_model_module": "@jupyter-widgets/controls",
            "_model_module_version": "1.5.0",
            "_model_name": "FloatProgressModel",
            "_view_count": null,
            "_view_module": "@jupyter-widgets/controls",
            "_view_module_version": "1.5.0",
            "_view_name": "ProgressView",
            "bar_style": "success",
            "description": "",
            "description_tooltip": null,
            "layout": "IPY_MODEL_1cfbfd39caa54fc28d4e1122677e4c27",
            "max": 30,
            "min": 0,
            "orientation": "horizontal",
            "style": "IPY_MODEL_9bb5418c9dc146379fcd7294852e844d",
            "value": 30
          }
        },
        "0b662af6ad9a4d369328b2480ed88d6c": {
          "model_module": "@jupyter-widgets/controls",
          "model_name": "HTMLModel",
          "model_module_version": "1.5.0",
          "state": {
            "_dom_classes": [],
            "_model_module": "@jupyter-widgets/controls",
            "_model_module_version": "1.5.0",
            "_model_name": "HTMLModel",
            "_view_count": null,
            "_view_module": "@jupyter-widgets/controls",
            "_view_module_version": "1.5.0",
            "_view_name": "HTMLView",
            "description": "",
            "description_tooltip": null,
            "layout": "IPY_MODEL_befcdfce1dba410c8f8162de8bc254b6",
            "placeholder": "​",
            "style": "IPY_MODEL_6c94069a5d3345f09226810c7d4fa5ad",
            "value": " 30/30 [01:49&lt;00:00,  2.49s/it]"
          }
        },
        "66c300917d954527938c1520ec6ac644": {
          "model_module": "@jupyter-widgets/base",
          "model_name": "LayoutModel",
          "model_module_version": "1.2.0",
          "state": {
            "_model_module": "@jupyter-widgets/base",
            "_model_module_version": "1.2.0",
            "_model_name": "LayoutModel",
            "_view_count": null,
            "_view_module": "@jupyter-widgets/base",
            "_view_module_version": "1.2.0",
            "_view_name": "LayoutView",
            "align_content": null,
            "align_items": null,
            "align_self": null,
            "border": null,
            "bottom": null,
            "display": null,
            "flex": null,
            "flex_flow": null,
            "grid_area": null,
            "grid_auto_columns": null,
            "grid_auto_flow": null,
            "grid_auto_rows": null,
            "grid_column": null,
            "grid_gap": null,
            "grid_row": null,
            "grid_template_areas": null,
            "grid_template_columns": null,
            "grid_template_rows": null,
            "height": null,
            "justify_content": null,
            "justify_items": null,
            "left": null,
            "margin": null,
            "max_height": null,
            "max_width": null,
            "min_height": null,
            "min_width": null,
            "object_fit": null,
            "object_position": null,
            "order": null,
            "overflow": null,
            "overflow_x": null,
            "overflow_y": null,
            "padding": null,
            "right": null,
            "top": null,
            "visibility": null,
            "width": null
          }
        },
        "289b5bb6102741a2afd983f3dc06d836": {
          "model_module": "@jupyter-widgets/base",
          "model_name": "LayoutModel",
          "model_module_version": "1.2.0",
          "state": {
            "_model_module": "@jupyter-widgets/base",
            "_model_module_version": "1.2.0",
            "_model_name": "LayoutModel",
            "_view_count": null,
            "_view_module": "@jupyter-widgets/base",
            "_view_module_version": "1.2.0",
            "_view_name": "LayoutView",
            "align_content": null,
            "align_items": null,
            "align_self": null,
            "border": null,
            "bottom": null,
            "display": null,
            "flex": null,
            "flex_flow": null,
            "grid_area": null,
            "grid_auto_columns": null,
            "grid_auto_flow": null,
            "grid_auto_rows": null,
            "grid_column": null,
            "grid_gap": null,
            "grid_row": null,
            "grid_template_areas": null,
            "grid_template_columns": null,
            "grid_template_rows": null,
            "height": null,
            "justify_content": null,
            "justify_items": null,
            "left": null,
            "margin": null,
            "max_height": null,
            "max_width": null,
            "min_height": null,
            "min_width": null,
            "object_fit": null,
            "object_position": null,
            "order": null,
            "overflow": null,
            "overflow_x": null,
            "overflow_y": null,
            "padding": null,
            "right": null,
            "top": null,
            "visibility": null,
            "width": null
          }
        },
        "5539ae015cc74ed08d5e38a12ebff55d": {
          "model_module": "@jupyter-widgets/controls",
          "model_name": "DescriptionStyleModel",
          "model_module_version": "1.5.0",
          "state": {
            "_model_module": "@jupyter-widgets/controls",
            "_model_module_version": "1.5.0",
            "_model_name": "DescriptionStyleModel",
            "_view_count": null,
            "_view_module": "@jupyter-widgets/base",
            "_view_module_version": "1.2.0",
            "_view_name": "StyleView",
            "description_width": ""
          }
        },
        "1cfbfd39caa54fc28d4e1122677e4c27": {
          "model_module": "@jupyter-widgets/base",
          "model_name": "LayoutModel",
          "model_module_version": "1.2.0",
          "state": {
            "_model_module": "@jupyter-widgets/base",
            "_model_module_version": "1.2.0",
            "_model_name": "LayoutModel",
            "_view_count": null,
            "_view_module": "@jupyter-widgets/base",
            "_view_module_version": "1.2.0",
            "_view_name": "LayoutView",
            "align_content": null,
            "align_items": null,
            "align_self": null,
            "border": null,
            "bottom": null,
            "display": null,
            "flex": null,
            "flex_flow": null,
            "grid_area": null,
            "grid_auto_columns": null,
            "grid_auto_flow": null,
            "grid_auto_rows": null,
            "grid_column": null,
            "grid_gap": null,
            "grid_row": null,
            "grid_template_areas": null,
            "grid_template_columns": null,
            "grid_template_rows": null,
            "height": null,
            "justify_content": null,
            "justify_items": null,
            "left": null,
            "margin": null,
            "max_height": null,
            "max_width": null,
            "min_height": null,
            "min_width": null,
            "object_fit": null,
            "object_position": null,
            "order": null,
            "overflow": null,
            "overflow_x": null,
            "overflow_y": null,
            "padding": null,
            "right": null,
            "top": null,
            "visibility": null,
            "width": null
          }
        },
        "9bb5418c9dc146379fcd7294852e844d": {
          "model_module": "@jupyter-widgets/controls",
          "model_name": "ProgressStyleModel",
          "model_module_version": "1.5.0",
          "state": {
            "_model_module": "@jupyter-widgets/controls",
            "_model_module_version": "1.5.0",
            "_model_name": "ProgressStyleModel",
            "_view_count": null,
            "_view_module": "@jupyter-widgets/base",
            "_view_module_version": "1.2.0",
            "_view_name": "StyleView",
            "bar_color": null,
            "description_width": ""
          }
        },
        "befcdfce1dba410c8f8162de8bc254b6": {
          "model_module": "@jupyter-widgets/base",
          "model_name": "LayoutModel",
          "model_module_version": "1.2.0",
          "state": {
            "_model_module": "@jupyter-widgets/base",
            "_model_module_version": "1.2.0",
            "_model_name": "LayoutModel",
            "_view_count": null,
            "_view_module": "@jupyter-widgets/base",
            "_view_module_version": "1.2.0",
            "_view_name": "LayoutView",
            "align_content": null,
            "align_items": null,
            "align_self": null,
            "border": null,
            "bottom": null,
            "display": null,
            "flex": null,
            "flex_flow": null,
            "grid_area": null,
            "grid_auto_columns": null,
            "grid_auto_flow": null,
            "grid_auto_rows": null,
            "grid_column": null,
            "grid_gap": null,
            "grid_row": null,
            "grid_template_areas": null,
            "grid_template_columns": null,
            "grid_template_rows": null,
            "height": null,
            "justify_content": null,
            "justify_items": null,
            "left": null,
            "margin": null,
            "max_height": null,
            "max_width": null,
            "min_height": null,
            "min_width": null,
            "object_fit": null,
            "object_position": null,
            "order": null,
            "overflow": null,
            "overflow_x": null,
            "overflow_y": null,
            "padding": null,
            "right": null,
            "top": null,
            "visibility": null,
            "width": null
          }
        },
        "6c94069a5d3345f09226810c7d4fa5ad": {
          "model_module": "@jupyter-widgets/controls",
          "model_name": "DescriptionStyleModel",
          "model_module_version": "1.5.0",
          "state": {
            "_model_module": "@jupyter-widgets/controls",
            "_model_module_version": "1.5.0",
            "_model_name": "DescriptionStyleModel",
            "_view_count": null,
            "_view_module": "@jupyter-widgets/base",
            "_view_module_version": "1.2.0",
            "_view_name": "StyleView",
            "description_width": ""
          }
        },
        "e1059be2a447483ea0cd2930dcf1ada7": {
          "model_module": "@jupyter-widgets/controls",
          "model_name": "HBoxModel",
          "model_module_version": "1.5.0",
          "state": {
            "_dom_classes": [],
            "_model_module": "@jupyter-widgets/controls",
            "_model_module_version": "1.5.0",
            "_model_name": "HBoxModel",
            "_view_count": null,
            "_view_module": "@jupyter-widgets/controls",
            "_view_module_version": "1.5.0",
            "_view_name": "HBoxView",
            "box_style": "",
            "children": [
              "IPY_MODEL_9a00b46d26f0413bb5fd2cda795fcd4d",
              "IPY_MODEL_69e237f8e42645b08947c8bc9c10643a",
              "IPY_MODEL_8f83a46d6c2c4a50b29cce0d852f19b2"
            ],
            "layout": "IPY_MODEL_d319cbf1418c47929fb952490e9a7572"
          }
        },
        "9a00b46d26f0413bb5fd2cda795fcd4d": {
          "model_module": "@jupyter-widgets/controls",
          "model_name": "HTMLModel",
          "model_module_version": "1.5.0",
          "state": {
            "_dom_classes": [],
            "_model_module": "@jupyter-widgets/controls",
            "_model_module_version": "1.5.0",
            "_model_name": "HTMLModel",
            "_view_count": null,
            "_view_module": "@jupyter-widgets/controls",
            "_view_module_version": "1.5.0",
            "_view_name": "HTMLView",
            "description": "",
            "description_tooltip": null,
            "layout": "IPY_MODEL_c9123a93b14a4de09d0c3959e1cd236e",
            "placeholder": "​",
            "style": "IPY_MODEL_588dfc6c22c44d89887969b73f3e2702",
            "value": "Best trial: 2. Best value: 12.832: 100%"
          }
        },
        "69e237f8e42645b08947c8bc9c10643a": {
          "model_module": "@jupyter-widgets/controls",
          "model_name": "FloatProgressModel",
          "model_module_version": "1.5.0",
          "state": {
            "_dom_classes": [],
            "_model_module": "@jupyter-widgets/controls",
            "_model_module_version": "1.5.0",
            "_model_name": "FloatProgressModel",
            "_view_count": null,
            "_view_module": "@jupyter-widgets/controls",
            "_view_module_version": "1.5.0",
            "_view_name": "ProgressView",
            "bar_style": "success",
            "description": "",
            "description_tooltip": null,
            "layout": "IPY_MODEL_6e251997fd3542f8b03463e9e36f4976",
            "max": 30,
            "min": 0,
            "orientation": "horizontal",
            "style": "IPY_MODEL_e7b30cd1d82241e9ae2caec8f0776aee",
            "value": 30
          }
        },
        "8f83a46d6c2c4a50b29cce0d852f19b2": {
          "model_module": "@jupyter-widgets/controls",
          "model_name": "HTMLModel",
          "model_module_version": "1.5.0",
          "state": {
            "_dom_classes": [],
            "_model_module": "@jupyter-widgets/controls",
            "_model_module_version": "1.5.0",
            "_model_name": "HTMLModel",
            "_view_count": null,
            "_view_module": "@jupyter-widgets/controls",
            "_view_module_version": "1.5.0",
            "_view_name": "HTMLView",
            "description": "",
            "description_tooltip": null,
            "layout": "IPY_MODEL_882fd3f0f0ff4924823f5762dc85afb9",
            "placeholder": "​",
            "style": "IPY_MODEL_e1cec577cadc408499296d6bce0f1aca",
            "value": " 30/30 [00:22&lt;00:00,  1.69it/s]"
          }
        },
        "d319cbf1418c47929fb952490e9a7572": {
          "model_module": "@jupyter-widgets/base",
          "model_name": "LayoutModel",
          "model_module_version": "1.2.0",
          "state": {
            "_model_module": "@jupyter-widgets/base",
            "_model_module_version": "1.2.0",
            "_model_name": "LayoutModel",
            "_view_count": null,
            "_view_module": "@jupyter-widgets/base",
            "_view_module_version": "1.2.0",
            "_view_name": "LayoutView",
            "align_content": null,
            "align_items": null,
            "align_self": null,
            "border": null,
            "bottom": null,
            "display": null,
            "flex": null,
            "flex_flow": null,
            "grid_area": null,
            "grid_auto_columns": null,
            "grid_auto_flow": null,
            "grid_auto_rows": null,
            "grid_column": null,
            "grid_gap": null,
            "grid_row": null,
            "grid_template_areas": null,
            "grid_template_columns": null,
            "grid_template_rows": null,
            "height": null,
            "justify_content": null,
            "justify_items": null,
            "left": null,
            "margin": null,
            "max_height": null,
            "max_width": null,
            "min_height": null,
            "min_width": null,
            "object_fit": null,
            "object_position": null,
            "order": null,
            "overflow": null,
            "overflow_x": null,
            "overflow_y": null,
            "padding": null,
            "right": null,
            "top": null,
            "visibility": null,
            "width": null
          }
        },
        "c9123a93b14a4de09d0c3959e1cd236e": {
          "model_module": "@jupyter-widgets/base",
          "model_name": "LayoutModel",
          "model_module_version": "1.2.0",
          "state": {
            "_model_module": "@jupyter-widgets/base",
            "_model_module_version": "1.2.0",
            "_model_name": "LayoutModel",
            "_view_count": null,
            "_view_module": "@jupyter-widgets/base",
            "_view_module_version": "1.2.0",
            "_view_name": "LayoutView",
            "align_content": null,
            "align_items": null,
            "align_self": null,
            "border": null,
            "bottom": null,
            "display": null,
            "flex": null,
            "flex_flow": null,
            "grid_area": null,
            "grid_auto_columns": null,
            "grid_auto_flow": null,
            "grid_auto_rows": null,
            "grid_column": null,
            "grid_gap": null,
            "grid_row": null,
            "grid_template_areas": null,
            "grid_template_columns": null,
            "grid_template_rows": null,
            "height": null,
            "justify_content": null,
            "justify_items": null,
            "left": null,
            "margin": null,
            "max_height": null,
            "max_width": null,
            "min_height": null,
            "min_width": null,
            "object_fit": null,
            "object_position": null,
            "order": null,
            "overflow": null,
            "overflow_x": null,
            "overflow_y": null,
            "padding": null,
            "right": null,
            "top": null,
            "visibility": null,
            "width": null
          }
        },
        "588dfc6c22c44d89887969b73f3e2702": {
          "model_module": "@jupyter-widgets/controls",
          "model_name": "DescriptionStyleModel",
          "model_module_version": "1.5.0",
          "state": {
            "_model_module": "@jupyter-widgets/controls",
            "_model_module_version": "1.5.0",
            "_model_name": "DescriptionStyleModel",
            "_view_count": null,
            "_view_module": "@jupyter-widgets/base",
            "_view_module_version": "1.2.0",
            "_view_name": "StyleView",
            "description_width": ""
          }
        },
        "6e251997fd3542f8b03463e9e36f4976": {
          "model_module": "@jupyter-widgets/base",
          "model_name": "LayoutModel",
          "model_module_version": "1.2.0",
          "state": {
            "_model_module": "@jupyter-widgets/base",
            "_model_module_version": "1.2.0",
            "_model_name": "LayoutModel",
            "_view_count": null,
            "_view_module": "@jupyter-widgets/base",
            "_view_module_version": "1.2.0",
            "_view_name": "LayoutView",
            "align_content": null,
            "align_items": null,
            "align_self": null,
            "border": null,
            "bottom": null,
            "display": null,
            "flex": null,
            "flex_flow": null,
            "grid_area": null,
            "grid_auto_columns": null,
            "grid_auto_flow": null,
            "grid_auto_rows": null,
            "grid_column": null,
            "grid_gap": null,
            "grid_row": null,
            "grid_template_areas": null,
            "grid_template_columns": null,
            "grid_template_rows": null,
            "height": null,
            "justify_content": null,
            "justify_items": null,
            "left": null,
            "margin": null,
            "max_height": null,
            "max_width": null,
            "min_height": null,
            "min_width": null,
            "object_fit": null,
            "object_position": null,
            "order": null,
            "overflow": null,
            "overflow_x": null,
            "overflow_y": null,
            "padding": null,
            "right": null,
            "top": null,
            "visibility": null,
            "width": null
          }
        },
        "e7b30cd1d82241e9ae2caec8f0776aee": {
          "model_module": "@jupyter-widgets/controls",
          "model_name": "ProgressStyleModel",
          "model_module_version": "1.5.0",
          "state": {
            "_model_module": "@jupyter-widgets/controls",
            "_model_module_version": "1.5.0",
            "_model_name": "ProgressStyleModel",
            "_view_count": null,
            "_view_module": "@jupyter-widgets/base",
            "_view_module_version": "1.2.0",
            "_view_name": "StyleView",
            "bar_color": null,
            "description_width": ""
          }
        },
        "882fd3f0f0ff4924823f5762dc85afb9": {
          "model_module": "@jupyter-widgets/base",
          "model_name": "LayoutModel",
          "model_module_version": "1.2.0",
          "state": {
            "_model_module": "@jupyter-widgets/base",
            "_model_module_version": "1.2.0",
            "_model_name": "LayoutModel",
            "_view_count": null,
            "_view_module": "@jupyter-widgets/base",
            "_view_module_version": "1.2.0",
            "_view_name": "LayoutView",
            "align_content": null,
            "align_items": null,
            "align_self": null,
            "border": null,
            "bottom": null,
            "display": null,
            "flex": null,
            "flex_flow": null,
            "grid_area": null,
            "grid_auto_columns": null,
            "grid_auto_flow": null,
            "grid_auto_rows": null,
            "grid_column": null,
            "grid_gap": null,
            "grid_row": null,
            "grid_template_areas": null,
            "grid_template_columns": null,
            "grid_template_rows": null,
            "height": null,
            "justify_content": null,
            "justify_items": null,
            "left": null,
            "margin": null,
            "max_height": null,
            "max_width": null,
            "min_height": null,
            "min_width": null,
            "object_fit": null,
            "object_position": null,
            "order": null,
            "overflow": null,
            "overflow_x": null,
            "overflow_y": null,
            "padding": null,
            "right": null,
            "top": null,
            "visibility": null,
            "width": null
          }
        },
        "e1cec577cadc408499296d6bce0f1aca": {
          "model_module": "@jupyter-widgets/controls",
          "model_name": "DescriptionStyleModel",
          "model_module_version": "1.5.0",
          "state": {
            "_model_module": "@jupyter-widgets/controls",
            "_model_module_version": "1.5.0",
            "_model_name": "DescriptionStyleModel",
            "_view_count": null,
            "_view_module": "@jupyter-widgets/base",
            "_view_module_version": "1.2.0",
            "_view_name": "StyleView",
            "description_width": ""
          }
        },
        "2719282951944110ad08acd57364e8de": {
          "model_module": "@jupyter-widgets/controls",
          "model_name": "HBoxModel",
          "model_module_version": "1.5.0",
          "state": {
            "_dom_classes": [],
            "_model_module": "@jupyter-widgets/controls",
            "_model_module_version": "1.5.0",
            "_model_name": "HBoxModel",
            "_view_count": null,
            "_view_module": "@jupyter-widgets/controls",
            "_view_module_version": "1.5.0",
            "_view_name": "HBoxView",
            "box_style": "",
            "children": [
              "IPY_MODEL_b6ee3534a4d345d6bfd7d2fd93b7aadb",
              "IPY_MODEL_5ec1e56395b14f31ae5fdb3602e244b8",
              "IPY_MODEL_8ef3bd5be43c43f8bc8d0d425bf18d09"
            ],
            "layout": "IPY_MODEL_869ee3bc35764ebfbe7706f9164cfe00"
          }
        },
        "b6ee3534a4d345d6bfd7d2fd93b7aadb": {
          "model_module": "@jupyter-widgets/controls",
          "model_name": "HTMLModel",
          "model_module_version": "1.5.0",
          "state": {
            "_dom_classes": [],
            "_model_module": "@jupyter-widgets/controls",
            "_model_module_version": "1.5.0",
            "_model_name": "HTMLModel",
            "_view_count": null,
            "_view_module": "@jupyter-widgets/controls",
            "_view_module_version": "1.5.0",
            "_view_name": "HTMLView",
            "description": "",
            "description_tooltip": null,
            "layout": "IPY_MODEL_7aa716c2149d44859bcd69120f69661a",
            "placeholder": "​",
            "style": "IPY_MODEL_d3f760f953154674918f448ad91cdcca",
            "value": "Best trial: 1. Best value: 11.6636: 100%"
          }
        },
        "5ec1e56395b14f31ae5fdb3602e244b8": {
          "model_module": "@jupyter-widgets/controls",
          "model_name": "FloatProgressModel",
          "model_module_version": "1.5.0",
          "state": {
            "_dom_classes": [],
            "_model_module": "@jupyter-widgets/controls",
            "_model_module_version": "1.5.0",
            "_model_name": "FloatProgressModel",
            "_view_count": null,
            "_view_module": "@jupyter-widgets/controls",
            "_view_module_version": "1.5.0",
            "_view_name": "ProgressView",
            "bar_style": "success",
            "description": "",
            "description_tooltip": null,
            "layout": "IPY_MODEL_3689d3d0aed44cce8197330d81386097",
            "max": 30,
            "min": 0,
            "orientation": "horizontal",
            "style": "IPY_MODEL_01945c2bdbd84beb9ccda5531702bd1a",
            "value": 30
          }
        },
        "8ef3bd5be43c43f8bc8d0d425bf18d09": {
          "model_module": "@jupyter-widgets/controls",
          "model_name": "HTMLModel",
          "model_module_version": "1.5.0",
          "state": {
            "_dom_classes": [],
            "_model_module": "@jupyter-widgets/controls",
            "_model_module_version": "1.5.0",
            "_model_name": "HTMLModel",
            "_view_count": null,
            "_view_module": "@jupyter-widgets/controls",
            "_view_module_version": "1.5.0",
            "_view_name": "HTMLView",
            "description": "",
            "description_tooltip": null,
            "layout": "IPY_MODEL_45e1da92f3974092baff45a977e00d28",
            "placeholder": "​",
            "style": "IPY_MODEL_041a7524bd4246b1a986601a87d3eaf7",
            "value": " 30/30 [02:30&lt;00:00,  5.10s/it]"
          }
        },
        "869ee3bc35764ebfbe7706f9164cfe00": {
          "model_module": "@jupyter-widgets/base",
          "model_name": "LayoutModel",
          "model_module_version": "1.2.0",
          "state": {
            "_model_module": "@jupyter-widgets/base",
            "_model_module_version": "1.2.0",
            "_model_name": "LayoutModel",
            "_view_count": null,
            "_view_module": "@jupyter-widgets/base",
            "_view_module_version": "1.2.0",
            "_view_name": "LayoutView",
            "align_content": null,
            "align_items": null,
            "align_self": null,
            "border": null,
            "bottom": null,
            "display": null,
            "flex": null,
            "flex_flow": null,
            "grid_area": null,
            "grid_auto_columns": null,
            "grid_auto_flow": null,
            "grid_auto_rows": null,
            "grid_column": null,
            "grid_gap": null,
            "grid_row": null,
            "grid_template_areas": null,
            "grid_template_columns": null,
            "grid_template_rows": null,
            "height": null,
            "justify_content": null,
            "justify_items": null,
            "left": null,
            "margin": null,
            "max_height": null,
            "max_width": null,
            "min_height": null,
            "min_width": null,
            "object_fit": null,
            "object_position": null,
            "order": null,
            "overflow": null,
            "overflow_x": null,
            "overflow_y": null,
            "padding": null,
            "right": null,
            "top": null,
            "visibility": null,
            "width": null
          }
        },
        "7aa716c2149d44859bcd69120f69661a": {
          "model_module": "@jupyter-widgets/base",
          "model_name": "LayoutModel",
          "model_module_version": "1.2.0",
          "state": {
            "_model_module": "@jupyter-widgets/base",
            "_model_module_version": "1.2.0",
            "_model_name": "LayoutModel",
            "_view_count": null,
            "_view_module": "@jupyter-widgets/base",
            "_view_module_version": "1.2.0",
            "_view_name": "LayoutView",
            "align_content": null,
            "align_items": null,
            "align_self": null,
            "border": null,
            "bottom": null,
            "display": null,
            "flex": null,
            "flex_flow": null,
            "grid_area": null,
            "grid_auto_columns": null,
            "grid_auto_flow": null,
            "grid_auto_rows": null,
            "grid_column": null,
            "grid_gap": null,
            "grid_row": null,
            "grid_template_areas": null,
            "grid_template_columns": null,
            "grid_template_rows": null,
            "height": null,
            "justify_content": null,
            "justify_items": null,
            "left": null,
            "margin": null,
            "max_height": null,
            "max_width": null,
            "min_height": null,
            "min_width": null,
            "object_fit": null,
            "object_position": null,
            "order": null,
            "overflow": null,
            "overflow_x": null,
            "overflow_y": null,
            "padding": null,
            "right": null,
            "top": null,
            "visibility": null,
            "width": null
          }
        },
        "d3f760f953154674918f448ad91cdcca": {
          "model_module": "@jupyter-widgets/controls",
          "model_name": "DescriptionStyleModel",
          "model_module_version": "1.5.0",
          "state": {
            "_model_module": "@jupyter-widgets/controls",
            "_model_module_version": "1.5.0",
            "_model_name": "DescriptionStyleModel",
            "_view_count": null,
            "_view_module": "@jupyter-widgets/base",
            "_view_module_version": "1.2.0",
            "_view_name": "StyleView",
            "description_width": ""
          }
        },
        "3689d3d0aed44cce8197330d81386097": {
          "model_module": "@jupyter-widgets/base",
          "model_name": "LayoutModel",
          "model_module_version": "1.2.0",
          "state": {
            "_model_module": "@jupyter-widgets/base",
            "_model_module_version": "1.2.0",
            "_model_name": "LayoutModel",
            "_view_count": null,
            "_view_module": "@jupyter-widgets/base",
            "_view_module_version": "1.2.0",
            "_view_name": "LayoutView",
            "align_content": null,
            "align_items": null,
            "align_self": null,
            "border": null,
            "bottom": null,
            "display": null,
            "flex": null,
            "flex_flow": null,
            "grid_area": null,
            "grid_auto_columns": null,
            "grid_auto_flow": null,
            "grid_auto_rows": null,
            "grid_column": null,
            "grid_gap": null,
            "grid_row": null,
            "grid_template_areas": null,
            "grid_template_columns": null,
            "grid_template_rows": null,
            "height": null,
            "justify_content": null,
            "justify_items": null,
            "left": null,
            "margin": null,
            "max_height": null,
            "max_width": null,
            "min_height": null,
            "min_width": null,
            "object_fit": null,
            "object_position": null,
            "order": null,
            "overflow": null,
            "overflow_x": null,
            "overflow_y": null,
            "padding": null,
            "right": null,
            "top": null,
            "visibility": null,
            "width": null
          }
        },
        "01945c2bdbd84beb9ccda5531702bd1a": {
          "model_module": "@jupyter-widgets/controls",
          "model_name": "ProgressStyleModel",
          "model_module_version": "1.5.0",
          "state": {
            "_model_module": "@jupyter-widgets/controls",
            "_model_module_version": "1.5.0",
            "_model_name": "ProgressStyleModel",
            "_view_count": null,
            "_view_module": "@jupyter-widgets/base",
            "_view_module_version": "1.2.0",
            "_view_name": "StyleView",
            "bar_color": null,
            "description_width": ""
          }
        },
        "45e1da92f3974092baff45a977e00d28": {
          "model_module": "@jupyter-widgets/base",
          "model_name": "LayoutModel",
          "model_module_version": "1.2.0",
          "state": {
            "_model_module": "@jupyter-widgets/base",
            "_model_module_version": "1.2.0",
            "_model_name": "LayoutModel",
            "_view_count": null,
            "_view_module": "@jupyter-widgets/base",
            "_view_module_version": "1.2.0",
            "_view_name": "LayoutView",
            "align_content": null,
            "align_items": null,
            "align_self": null,
            "border": null,
            "bottom": null,
            "display": null,
            "flex": null,
            "flex_flow": null,
            "grid_area": null,
            "grid_auto_columns": null,
            "grid_auto_flow": null,
            "grid_auto_rows": null,
            "grid_column": null,
            "grid_gap": null,
            "grid_row": null,
            "grid_template_areas": null,
            "grid_template_columns": null,
            "grid_template_rows": null,
            "height": null,
            "justify_content": null,
            "justify_items": null,
            "left": null,
            "margin": null,
            "max_height": null,
            "max_width": null,
            "min_height": null,
            "min_width": null,
            "object_fit": null,
            "object_position": null,
            "order": null,
            "overflow": null,
            "overflow_x": null,
            "overflow_y": null,
            "padding": null,
            "right": null,
            "top": null,
            "visibility": null,
            "width": null
          }
        },
        "041a7524bd4246b1a986601a87d3eaf7": {
          "model_module": "@jupyter-widgets/controls",
          "model_name": "DescriptionStyleModel",
          "model_module_version": "1.5.0",
          "state": {
            "_model_module": "@jupyter-widgets/controls",
            "_model_module_version": "1.5.0",
            "_model_name": "DescriptionStyleModel",
            "_view_count": null,
            "_view_module": "@jupyter-widgets/base",
            "_view_module_version": "1.2.0",
            "_view_name": "StyleView",
            "description_width": ""
          }
        }
      }
    }
  },
  "nbformat": 4,
  "nbformat_minor": 0
}